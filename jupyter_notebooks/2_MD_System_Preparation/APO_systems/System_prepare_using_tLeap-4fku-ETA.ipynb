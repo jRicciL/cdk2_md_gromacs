{
 "cells": [
  {
   "cell_type": "markdown",
   "id": "19b70da1",
   "metadata": {},
   "source": [
    "# Molecular Dynamics\n",
    "\n",
    "## System preparation using `tleap`\n",
    "\n",
    "- Based on *[Amber MD Setup using biobb](https://mmb.irbbarcelona.org/biobb/workflows/tutorials/amber_md_setup)*"
   ]
  },
  {
   "cell_type": "code",
   "execution_count": 1,
   "id": "55bbafc7",
   "metadata": {},
   "outputs": [
    {
     "data": {
      "application/vnd.jupyter.widget-view+json": {
       "model_id": "e520a64fff2646cdafff00d361ec0753",
       "version_major": 2,
       "version_minor": 0
      },
      "text/plain": []
     },
     "metadata": {},
     "output_type": "display_data"
    }
   ],
   "source": [
    "import subprocess\n",
    "import os \n",
    "import shutil\n",
    "import warnings\n",
    "import nglview\n",
    "import ipywidgets\n",
    "import sys\n",
    "sys.path.append('..')\n",
    "import plotly\n",
    "from plotly import subplots\n",
    "import plotly.graph_objs as go\n",
    "from pathlib import Path\n",
    "%load_ext autoreload\n",
    "%autoreload 2"
   ]
  },
  {
   "cell_type": "code",
   "execution_count": 2,
   "id": "ead2b0db",
   "metadata": {},
   "outputs": [],
   "source": [
    "PDB_ID         = '4fku'\n",
    "SOLVENT        = 'ETA'\n",
    "SOLVENT_TYPE   = 'ETAWAT20'\n",
    "PH             = 7.4\n",
    "BOX_PADDING    = 12.0\n",
    "ION_MOLAR      = 0.15 \n",
    "\n",
    "# Output basename\n",
    "FINAL_BASENAME = f'{PDB_ID}-{SOLVENT}'\n",
    "\n",
    "# Define the input files\n",
    "WD = f'./../data/md_system_prep/{SOLVENT}_systems/{PDB_ID}'\n",
    "INPUT_PROT = f'{WD}/{PDB_ID}_A_mod.pdb'"
   ]
  },
  {
   "cell_type": "markdown",
   "id": "bf1b79be",
   "metadata": {},
   "source": [
    "- Create a directory to save intermediate files:"
   ]
  },
  {
   "cell_type": "code",
   "execution_count": 3,
   "id": "4d4a8467",
   "metadata": {},
   "outputs": [],
   "source": [
    "# Create a folder to store intermediate files\n",
    "TMP_DIR = f'{WD}/{FINAL_BASENAME}_intermediate_files'\n",
    "Path(TMP_DIR).mkdir(exist_ok = True, parents=True)"
   ]
  },
  {
   "cell_type": "markdown",
   "id": "2f049e24",
   "metadata": {},
   "source": [
    "### Prepare the protein using `PDB2PQR`"
   ]
  },
  {
   "cell_type": "code",
   "execution_count": 4,
   "id": "67f66d36",
   "metadata": {},
   "outputs": [
    {
     "name": "stdout",
     "output_type": "stream",
     "text": [
      "INFO:PDB2PQR v3.4.1: biomolecular structure conversion software.\n",
      "INFO:Please cite:  Jurrus E, et al.  Improvements to the APBS biomolecular solvation software suite.  Protein Sci 27 112-128 (2018).\n",
      "INFO:Please cite:  Dolinsky TJ, et al.  PDB2PQR: expanding and upgrading automated preparation of biomolecular structures for molecular simulations. Nucleic Acids Res 35 W522-W525 (2007).\n",
      "INFO:Checking and transforming input arguments.\n",
      "INFO:Loading topology files.\n",
      "INFO:Loading molecule: ./../data/md_system_prep/ETA_systems/4fku/4fku_A_mod.pdb\n",
      "INFO:Dropping water from structure.\n",
      "INFO:Setting up molecule.\n",
      "INFO:Created biomolecule object with 298 residues and 4848 atoms.\n",
      "INFO:Setting termini states for biomolecule chains.\n",
      "INFO:Loading forcefield.\n",
      "INFO:Loading hydrogen topology definitions.\n",
      "INFO:This biomolecule is clean.  No repair needed.\n",
      "INFO:Updating disulfide bridges.\n",
      "INFO:Debumping biomolecule.\n",
      "INFO:Assigning titration states with PROPKA.\n",
      "INFO:\n",
      "propka3.4.0                                                                                  2022-04-03\n",
      "\n",
      "-------------------------------------------------------------------------------\n",
      "--                                                                           --\n",
      "--  PROPKA: A PROTEIN PKA PREDICTOR                                          --\n",
      "--                                                                           --\n",
      "--  VERSION 1.0,  04/25/2004,  IOWA CITY                                     --\n",
      "--  BY HUI LI                                                                --\n",
      "--                                                                           --\n",
      "--  VERSION 2.0,  11/05/2007, IOWA CITY/COPENHAGEN                           --\n",
      "--  BY DELPHINE C. BAS AND DAVID M. ROGERS                                   --\n",
      "--                                                                           --\n",
      "--  VERSION 3.0,  01/06/2011, COPENHAGEN                                     --\n",
      "--  BY MATS H.M. OLSSON AND CHRESTEN R. SONDERGARD                           --\n",
      "--                                                                           --\n",
      "--  VERSION 3.1,  07/01/2011, COPENHAGEN                                     --\n",
      "--  BY CHRESTEN R. SONDERGARD AND MATS H.M. OLSSON                           --\n",
      "--                                                                           --\n",
      "--  VERSION 3.2,  06/17/2020, PLANET EARTH                                   --\n",
      "--  SEE ABOVE FOR AUTHORS                                                    --\n",
      "--                                                                           --\n",
      "-------------------------------------------------------------------------------\n",
      "\n",
      "\n",
      "-------------------------------------------------------------------------------\n",
      "References:\n",
      "\n",
      "Very Fast Empirical Prediction and Rationalization of Protein pKa Values.\n",
      "Hui Li, Andrew D. Robertson and Jan H. Jensen. PROTEINS: Structure, Function,\n",
      "and Bioinformatics. 61:704-721 (2005)\n",
      "\n",
      "Very Fast Prediction and Rationalization of pKa Values for Protein-Ligand\n",
      "Complexes.  Delphine C. Bas, David M. Rogers and Jan H. Jensen.  PROTEINS:\n",
      "Structure, Function, and Bioinformatics 73:765-783 (2008)\n",
      "\n",
      "PROPKA3: Consistent Treatment of Internal and Surface Residues in Empirical\n",
      "pKa predictions.  Mats H.M. Olsson, Chresten R. Sondergard, Michal Rostkowski,\n",
      "and Jan H. Jensen.  Journal of Chemical Theory and Computation, 7(2):525-537\n",
      "(2011)\n",
      "\n",
      "Improved Treatment of Ligands and Coupling Effects in Empirical Calculation\n",
      "and Rationalization of pKa Values.  Chresten R. Sondergaard, Mats H.M. Olsson,\n",
      "Michal Rostkowski, and Jan H. Jensen.  Journal of Chemical Theory and\n",
      "Computation, (2011)\n",
      "-------------------------------------------------------------------------------\n",
      "\n",
      "\n",
      "\n",
      "INFO:Coupling map:\n",
      "\n",
      "INFO:Calculating pKas for Conformation container 1A with 2794 atoms and 712 groups\n",
      "INFO:did not converge in 10 iterations\n",
      "INFO:pKa determinants:\n",
      "\n",
      "---------  -----   ------   ---------------------    --------------    --------------    --------------\n",
      "                            DESOLVATION  EFFECTS       SIDECHAIN          BACKBONE        COULOMBIC\n",
      " RESIDUE    pKa    BURIED     REGULAR      RE        HYDROGEN BOND     HYDROGEN BOND      INTERACTION\n",
      "---------  -----   ------   ---------   ---------    --------------    --------------    --------------\n",
      "\n",
      "ASP  38 A   4.14     4 %    0.45  293   0.01    0    0.00 XXX   0 X   -0.05 ASP  38 A   -0.03 ARG  36 A\n",
      "ASP  38 A                                            0.00 XXX   0 X    0.00 XXX   0 X   -0.05 ARG 157 A\n",
      "\n",
      "ASP  68 A   3.92    12 %    0.44  314   0.10    0   -0.07 LYS  56 A    0.00 XXX   0 X   -0.32 LYS  56 A\n",
      "ASP  68 A                                            0.00 XXX   0 X    0.00 XXX   0 X   -0.03 LYS  65 A\n",
      "\n",
      "ASP  86 A   4.91    57 %    1.63  440   0.54    0    0.00 XXX   0 X   -0.04 ASP  86 A   -0.14 LYS  88 A\n",
      "ASP  86 A                                            0.00 XXX   0 X   -0.03 LYS  88 A   -0.10 LYS  89 A\n",
      "ASP  86 A                                            0.00 XXX   0 X   -0.84 LYS  89 A    0.08 ASP  92 A\n",
      "\n",
      "ASP  92 A   4.12     8 %    0.41  304   0.08    0    0.00 XXX   0 X    0.00 XXX   0 X   -0.17 LYS  88 A\n",
      "\n",
      "ASP 127 A   5.89    95 %    2.03  548   1.24    0   -0.51 LYS 129 A    0.00 XXX   0 X   -0.36 ARG 169 A\n",
      "ASP 127 A                                            0.00 XXX   0 X    0.00 XXX   0 X    0.10 GLU 162 A\n",
      "ASP 127 A                                            0.00 XXX   0 X    0.00 XXX   0 X   -1.23 LYS 129 A\n",
      "ASP 127 A                                            0.00 XXX   0 X    0.00 XXX   0 X    0.81 ASP 145 A\n",
      "\n",
      "ASP 145 A   3.46   100 %    2.25  572   1.02    0   -0.30 ASN 132 A    0.00 XXX   0 X   -0.00 ARG  36 A\n",
      "ASP 145 A                                           -0.66 LYS  33 A    0.00 XXX   0 X   -2.03 LYS  33 A\n",
      "ASP 145 A                                            0.00 XXX   0 X    0.00 XXX   0 X   -0.62 LYS 129 A\n",
      "\n",
      "ASP 185 A   6.28   100 %    3.77  582   0.51    0    0.00 XXX   0 X   -0.83 HIE 125 A   -0.21 ARG 126 A\n",
      "ASP 185 A                                            0.00 XXX   0 X   -0.80 ARG 126 A    0.05 ASP 127 A\n",
      "\n",
      "ASP 206 A   4.05     0 %    0.28  228   0.00    0   -0.07 TRP 167 A    0.00 XXX   0 X   -0.11 ARG 214 A\n",
      "ASP 206 A                                            0.00 XXX   0 X    0.00 XXX   0 X    0.16 ASP 210 A\n",
      "\n",
      "ASP 210 A   2.84     1 %    0.51  284   0.01    0   -0.39 ARG 214 A   -0.59 ASP 206 A   -0.13 ARG 217 A\n",
      "ASP 210 A                                            0.00 XXX   0 X    0.00 XXX   0 X   -0.36 ARG 214 A\n",
      "\n",
      "ASP 223 A   3.17     0 %    0.44  277   0.00    0    0.00 XXX   0 X   -0.06 ASP 223 A   -0.08 LYS 242 A\n",
      "ASP 223 A                                            0.00 XXX   0 X   -0.27 VAL 225 A   -0.01 LYS 273 A\n",
      "ASP 223 A                                            0.00 XXX   0 X   -0.70 VAL 226 A    0.05 GLU 224 A\n",
      "\n",
      "ASP 235 A   3.91     0 %    0.35  279   0.00    0    0.00 XXX   0 X    0.00 XXX   0 X   -0.08 LYS 178 A\n",
      "ASP 235 A                                            0.00 XXX   0 X    0.00 XXX   0 X   -0.15 LYS 237 A\n",
      "\n",
      "ASP 247 A   3.75     0 %    0.27  165   0.00    0   -0.14 SER 249 A   -0.02 ASP 247 A   -0.13 LYS 250 A\n",
      "ASP 247 A                                            0.00 XXX   0 X    0.00 XXX   0 X   -0.01 ARG 260 A\n",
      "\n",
      "ASP 256 A   3.29    17 %    0.79  329   0.00    0    0.00 XXX   0 X   -0.05 ASP 256 A   -0.24 LYS 105 A\n",
      "ASP 256 A                                            0.00 XXX   0 X   -0.24 ASP 258 A   -0.05 ARG 260 A\n",
      "ASP 256 A                                            0.00 XXX   0 X   -0.81 GLY 259 A    0.09 ASP 288 A\n",
      "\n",
      "ASP 258 A   4.39     0 %    0.36  249   0.00    0    0.00 XXX   0 X    0.00 XXX   0 X   -0.11 LYS 105 A\n",
      "ASP 258 A                                            0.00 XXX   0 X    0.00 XXX   0 X    0.22 ASP 256 A\n",
      "ASP 258 A                                            0.00 XXX   0 X    0.00 XXX   0 X    0.06 GLU 257 A\n",
      "ASP 258 A                                            0.00 XXX   0 X    0.00 XXX   0 X    0.07 ASP 288 A\n",
      "\n",
      "ASP 270 A   2.46    18 %    1.03  331   0.09    0   -0.72 ASN 272 A   -0.72 ASN 272 A   -0.10 ARG 274 A\n",
      "ASP 270 A                                           -0.56 LYS 273 A    0.00 XXX   0 X   -0.38 LYS 273 A\n",
      "\n",
      "ASP 288 A   2.67     0 %    0.36  260   0.00    0   -0.85 LYS 105 A   -0.23 ASP 288 A   -0.41 LYS 105 A\n",
      "\n",
      "GLU   2 A   3.41     0 %    0.23  185   0.00    0   -0.30 N+    1 A   -0.62 GLU   2 A   -0.06 LYS  24 A\n",
      "GLU   2 A                                            0.00 XXX   0 X    0.00 XXX   0 X   -0.34 N+    1 A\n",
      "\n",
      "GLU   8 A   4.49     0 %    0.22  219   0.00    0    0.00 XXX   0 X    0.00 XXX   0 X   -0.18 LYS  20 A\n",
      "GLU   8 A                                            0.00 XXX   0 X    0.00 XXX   0 X   -0.06 LYS  89 A\n",
      "GLU   8 A                                            0.00 XXX   0 X    0.00 XXX   0 X    0.01 C-  298 A\n",
      "\n",
      "GLU  12 A   3.71     0 %    0.45  276   0.00    0   -0.65 ARG  36 A    0.00 XXX   0 X   -0.29 LYS   9 A\n",
      "GLU  12 A                                            0.00 XXX   0 X    0.00 XXX   0 X   -0.30 ARG  36 A\n",
      "\n",
      "GLU  28 A   4.00     0 %    0.29  248   0.00    0   -0.81 THR  26 A    0.00 XXX   0 X   -0.03 LYS  65 A\n",
      "GLU  28 A                                            0.00 XXX   0 X    0.00 XXX   0 X    0.05 ASP  68 A\n",
      "\n",
      "GLU  40 A   5.06     0 %    0.34  239   0.00    0    0.00 XXX   0 X    0.00 XXX   0 X    0.22 ASP  38 A\n",
      "\n",
      "GLU  42 A   3.77     0 %    0.31  177   0.00    0   -0.57 LYS  75 A    0.00 XXX   0 X   -0.09 LYS  34 A\n",
      "GLU  42 A                                            0.00 XXX   0 X    0.00 XXX   0 X   -0.38 LYS  75 A\n",
      "\n",
      "GLU  51 A   4.90    13 %    0.40  319   0.05    0    0.00 XXX   0 X    0.00 XXX   0 X   -0.05 ARG 126 A\n",
      "\n",
      "GLU  57 A   4.62     0 %    0.13  185   0.00    0    0.00 XXX   0 X    0.00 XXX   0 X   -0.01 LYS  56 A\n",
      "\n",
      "GLU  73 A   4.48     0 %    0.11  145   0.00    0    0.00 XXX   0 X    0.00 XXX   0 X   -0.09 N+    1 A\n",
      "GLU  73 A                                            0.00 XXX   0 X    0.00 XXX   0 X   -0.15 LYS  75 A\n",
      "GLU  73 A                                            0.00 XXX   0 X    0.00 XXX   0 X    0.06 GLU   2 A\n",
      "GLU  73 A                                            0.00 XXX   0 X    0.00 XXX   0 X    0.05 GLU  42 A\n",
      "\n",
      "GLU  81 A   3.99    49 %    1.41  418   0.27    0   -0.66 LYS 142 A   -0.84 LYS  65 A   -0.09 LYS  65 A\n",
      "GLU  81 A                                            0.00 XXX   0 X    0.00 XXX   0 X   -0.61 LYS 142 A\n",
      "\n",
      "GLU 138 A   4.45     0 %    0.12  201   0.00    0    0.00 XXX   0 X    0.00 XXX   0 X   -0.04 LYS 142 A\n",
      "GLU 138 A                                            0.00 XXX   0 X    0.00 XXX   0 X   -0.14 LYS 291 A\n",
      "\n",
      "GLU 162 A   4.46    27 %    1.18  356   0.09    0   -0.35 THR  14 A   -0.65 TYR 159 A   -0.15 ARG  36 A\n",
      "GLU 162 A                                            0.00 XXX   0 X    0.00 XXX   0 X   -0.15 LYS 129 A\n",
      "GLU 162 A                                            0.00 XXX   0 X    0.00 XXX   0 X   -0.06 ARG 169 A\n",
      "GLU 162 A                                            0.00 XXX   0 X    0.00 XXX   0 X    0.03 GLU  12 A\n",
      "GLU 162 A                                            0.00 XXX   0 X    0.00 XXX   0 X    0.02 ASP 145 A\n",
      "\n",
      "GLU 172 A   4.56    93 %    3.64  542   0.29    0   -1.44 ARG 274 A   -0.74 GLU 172 A    0.06 ASP 270 A\n",
      "GLU 172 A                                            0.00 XXX   0 X    0.00 XXX   0 X   -1.76 ARG 274 A\n",
      "\n",
      "GLU 195 A   6.07    73 %    2.24  485   0.17    0   -0.85 TYR 168 A    0.00 XXX   0 X   -0.08 LYS  88 A\n",
      "GLU 195 A                                            0.00 XXX   0 X    0.00 XXX   0 X    0.08 ASP  92 A\n",
      "\n",
      "GLU 208 A   4.91    29 %    0.57  362   0.13    0    0.00 XXX   0 X    0.00 XXX   0 X   -0.32 ARG 169 A\n",
      "GLU 208 A                                            0.00 XXX   0 X    0.00 XXX   0 X   -0.09 LYS 178 A\n",
      "GLU 208 A                                            0.00 XXX   0 X    0.00 XXX   0 X    0.12 ASP 235 A\n",
      "\n",
      "GLU 224 A   2.64     0 %    0.51  231   0.00    0   -0.82 THR 231 A   -0.85 GLY 229 A   -0.01 LYS 273 A\n",
      "GLU 224 A                                            0.00 XXX   0 X   -0.70 THR 231 A    0.01 ASP 270 A\n",
      "\n",
      "GLU 257 A   4.23     0 %    0.31  240   0.00    0   -0.27 ARG 260 A    0.00 XXX   0 X    0.04 ASP 256 A\n",
      "GLU 257 A                                            0.00 XXX   0 X    0.00 XXX   0 X   -0.36 ARG 260 A\n",
      "\n",
      "C-  298 A   3.11     0 %    0.17  187   0.00    0    0.00 XXX   0 X    0.00 XXX   0 X   -0.03 LYS  20 A\n",
      "C-  298 A                                            0.00 XXX   0 X    0.00 XXX   0 X   -0.14 LYS  89 A\n",
      "C-  298 A                                            0.00 XXX   0 X    0.00 XXX   0 X   -0.09 ARG 297 A\n",
      "\n",
      "CYS 118 A  12.30    80 %    3.01  504   0.00    0    0.00 XXX   0 X   -0.08 CYS 118 A    0.37 ASP 185 A\n",
      "\n",
      "CYS 177 A   9.67    23 %    0.93  346   0.00    0    0.00 XXX   0 X   -0.42 TYR 179 A   -0.03 ARG 150 A\n",
      "CYS 177 A                                            0.00 XXX   0 X    0.00 XXX   0 X   -0.02 LYS 178 A\n",
      "CYS 177 A                                            0.00 XXX   0 X    0.00 XXX   0 X    0.21 GLU 172 A\n",
      "\n",
      "CYS 191 A  12.82   100 %    3.80  656   0.00    0   -0.05 TRP 187 A   -0.02 CYS 191 A   -0.11 ARG 274 A\n",
      "CYS 191 A                                            0.00 XXX   0 X    0.00 XXX   0 X    0.20 GLU 195 A\n",
      "\n",
      "TYR  15 A  12.32    72 %    1.75  484   0.00    0    0.00 XXX   0 X    0.00 XXX   0 X    0.01 ASP  38 A\n",
      "TYR  15 A                                            0.00 XXX   0 X    0.00 XXX   0 X   -0.14 ARG 126 A\n",
      "TYR  15 A                                            0.00 XXX   0 X    0.00 XXX   0 X    0.25 ASP 127 A\n",
      "TYR  15 A                                            0.00 XXX   0 X    0.00 XXX   0 X    0.32 ASP 145 A\n",
      "TYR  15 A                                            0.00 XXX   0 X    0.00 XXX   0 X   -0.10 ARG 150 A\n",
      "TYR  15 A                                            0.00 XXX   0 X    0.00 XXX   0 X    0.05 GLU 162 A\n",
      "TYR  15 A                                            0.00 XXX   0 X    0.00 XXX   0 X   -0.00 ARG 169 A\n",
      "TYR  15 A                                            0.00 XXX   0 X    0.00 XXX   0 X    0.18 TYR 180 A\n",
      "\n",
      "TYR  19 A   9.71*    5 %    0.48  296   0.00    0   -0.09 LYS   6 A    0.00 XXX   0 X    0.08 GLU  12 A\n",
      "TYR  19 A                                            0.00 XXX   0 X    0.00 XXX   0 X   -0.00 ARG  36 A\n",
      "TYR  19 A                                            0.00 XXX   0 X    0.00 XXX   0 X   -0.21 LYS   9 A\n",
      "TYR  19 A                                            0.00 XXX   0 X    0.00 XXX   0 X   -0.14 LYS  34 A\n",
      "TYR  19 A                                            0.00 XXX   0 X    0.00 XXX   0 X   -0.41 LYS   6 A\n",
      "\n",
      "TYR  77 A  10.67    22 %    0.87  343   0.00    0    0.00 XXX   0 X    0.00 XXX   0 X    0.05 GLU  42 A\n",
      "TYR  77 A                                            0.00 XXX   0 X    0.00 XXX   0 X    0.05 GLU  73 A\n",
      "TYR  77 A                                            0.00 XXX   0 X    0.00 XXX   0 X   -0.18 LYS   6 A\n",
      "TYR  77 A                                            0.00 XXX   0 X    0.00 XXX   0 X    0.05 TYR  19 A\n",
      "TYR  77 A                                            0.00 XXX   0 X    0.00 XXX   0 X   -0.18 LYS  75 A\n",
      "\n",
      "TYR 107 A  12.79    72 %    2.79  482   0.00    0    0.00 XXX   0 X    0.00 XXX   0 X    0.00 XXX   0 X\n",
      "\n",
      "TYR 159 A  11.13    16 %    0.90  326   0.00    0   -0.05 ARG  36 A    0.00 XXX   0 X    0.29 GLU  12 A\n",
      "TYR 159 A                                            0.00 XXX   0 X    0.00 XXX   0 X   -0.27 ARG  36 A\n",
      "TYR 159 A                                            0.00 XXX   0 X    0.00 XXX   0 X    0.01 ASP 127 A\n",
      "TYR 159 A                                            0.00 XXX   0 X    0.00 XXX   0 X    0.06 ASP 145 A\n",
      "TYR 159 A                                            0.00 XXX   0 X    0.00 XXX   0 X    0.33 GLU 162 A\n",
      "TYR 159 A                                            0.00 XXX   0 X    0.00 XXX   0 X   -0.14 LYS 129 A\n",
      "\n",
      "TYR 168 A  15.15    80 %    2.92  504   0.00    0    0.85 GLU 195 A    0.00 XXX   0 X    0.03 ASP  92 A\n",
      "TYR 168 A                                            0.00 XXX   0 X    0.00 XXX   0 X    0.35 CYS 191 A\n",
      "TYR 168 A                                            0.00 XXX   0 X    0.00 XXX   0 X    1.01 GLU 195 A\n",
      "\n",
      "TYR 179 A  10.02     0 %    0.11  140   0.00    0    0.00 XXX   0 X    0.00 XXX   0 X   -0.08 ARG 150 A\n",
      "TYR 179 A                                            0.00 XXX   0 X    0.00 XXX   0 X    0.02 CYS 177 A\n",
      "TYR 179 A                                            0.00 XXX   0 X    0.00 XXX   0 X   -0.03 LYS 178 A\n",
      "\n",
      "TYR 180 A  10.02    56 %    1.84  439   0.00    0   -0.83 ARG 126 A    0.00 XXX   0 X   -0.64 ARG 126 A\n",
      "TYR 180 A                                           -0.01 ARG 150 A    0.00 XXX   0 X    0.07 ASP 127 A\n",
      "TYR 180 A                                            0.00 XXX   0 X    0.00 XXX   0 X   -0.53 ARG 150 A\n",
      "TYR 180 A                                            0.00 XXX   0 X    0.00 XXX   0 X   -0.08 ARG 169 A\n",
      "TYR 180 A                                            0.00 XXX   0 X    0.00 XXX   0 X    0.02 GLU 172 A\n",
      "TYR 180 A                                            0.00 XXX   0 X    0.00 XXX   0 X    0.05 CYS 177 A\n",
      "TYR 180 A                                            0.00 XXX   0 X    0.00 XXX   0 X    0.20 ASP 185 A\n",
      "TYR 180 A                                            0.00 XXX   0 X    0.00 XXX   0 X   -0.07 LYS 178 A\n",
      "\n",
      "TYR 236 A  10.40     6 %    0.60  299   0.00    0    0.00 XXX   0 X    0.00 XXX   0 X    0.06 ASP 223 A\n",
      "TYR 236 A                                            0.00 XXX   0 X    0.00 XXX   0 X    0.06 GLU 224 A\n",
      "TYR 236 A                                            0.00 XXX   0 X    0.00 XXX   0 X   -0.31 LYS 242 A\n",
      "\n",
      "TYR 269 A  14.15   100 %    4.35  561   0.00    0    0.00 XXX   0 X    0.00 XXX   0 X    0.01 ASP 223 A\n",
      "TYR 269 A                                            0.00 XXX   0 X    0.00 XXX   0 X   -0.21 ARG 245 A\n",
      "\n",
      "LYS   6 A  10.41*   13 %   -0.58  319   0.00    0    0.09 TYR  19 A    0.00 XXX   0 X   -0.02 LYS   9 A\n",
      "LYS   6 A                                            0.00 XXX   0 X    0.00 XXX   0 X   -0.16 LYS  34 A\n",
      "LYS   6 A                                            0.00 XXX   0 X    0.00 XXX   0 X    0.18 TYR  77 A\n",
      "LYS   6 A                                            0.00 XXX   0 X    0.00 XXX   0 X    0.41 TYR  19 A\n",
      "\n",
      "LYS   9 A  10.74     0 %   -0.23  223   0.00    0    0.00 XXX   0 X    0.00 XXX   0 X    0.29 GLU  12 A\n",
      "LYS   9 A                                            0.00 XXX   0 X    0.00 XXX   0 X   -0.02 ARG  36 A\n",
      "LYS   9 A                                            0.00 XXX   0 X    0.00 XXX   0 X    0.21 TYR  19 A\n",
      "\n",
      "LYS  20 A  10.27     0 %   -0.36  273   0.00    0    0.00 XXX   0 X    0.00 XXX   0 X    0.18 GLU   8 A\n",
      "LYS  20 A                                            0.00 XXX   0 X    0.00 XXX   0 X   -0.08 ARG  22 A\n",
      "LYS  20 A                                            0.00 XXX   0 X    0.00 XXX   0 X    0.03 C-  298 A\n",
      "\n",
      "LYS  24 A  10.34     0 %   -0.22  167   0.00    0    0.00 XXX   0 X    0.00 XXX   0 X    0.06 GLU   2 A\n",
      "\n",
      "LYS  33 A  10.46   100 %   -2.61  573   0.00    0    0.66 ASP 145 A    0.00 XXX   0 X   -0.07 ARG  36 A\n",
      "LYS  33 A                                            0.00 XXX   0 X    0.00 XXX   0 X   -0.05 LYS 129 A\n",
      "LYS  33 A                                            0.00 XXX   0 X    0.00 XXX   0 X    2.03 ASP 145 A\n",
      "\n",
      "LYS  34 A  10.15    19 %   -0.39  334   0.00    0    0.00 XXX   0 X    0.00 XXX   0 X   -0.00 ARG  36 A\n",
      "LYS  34 A                                            0.00 XXX   0 X    0.00 XXX   0 X    0.09 GLU  42 A\n",
      "LYS  34 A                                            0.00 XXX   0 X    0.00 XXX   0 X    0.14 TYR  19 A\n",
      "LYS  34 A                                            0.00 XXX   0 X    0.00 XXX   0 X   -0.18 LYS  75 A\n",
      "\n",
      "LYS  56 A  10.62     0 %   -0.29  257   0.00    0    0.07 ASP  68 A    0.00 XXX   0 X    0.01 GLU  57 A\n",
      "LYS  56 A                                            0.00 XXX   0 X    0.00 XXX   0 X    0.32 ASP  68 A\n",
      "\n",
      "LYS  65 A  10.33     0 %   -0.23  261   0.00    0    0.00 XXX   0 X    0.00 XXX   0 X    0.03 GLU  28 A\n",
      "LYS  65 A                                            0.00 XXX   0 X    0.00 XXX   0 X    0.03 ASP  68 A\n",
      "LYS  65 A                                            0.00 XXX   0 X    0.00 XXX   0 X    0.09 GLU  81 A\n",
      "LYS  65 A                                            0.00 XXX   0 X    0.00 XXX   0 X   -0.07 LYS  56 A\n",
      "LYS  65 A                                            0.00 XXX   0 X    0.00 XXX   0 X   -0.03 LYS 142 A\n",
      "\n",
      "LYS  75 A  11.48     0 %   -0.30  205   0.00    0    0.57 GLU  42 A    0.00 XXX   0 X    0.15 GLU  73 A\n",
      "LYS  75 A                                            0.00 XXX   0 X    0.00 XXX   0 X    0.18 TYR  77 A\n",
      "LYS  75 A                                            0.00 XXX   0 X    0.00 XXX   0 X    0.38 GLU  42 A\n",
      "\n",
      "LYS  88 A  10.34    23 %   -0.48  347   0.00    0    0.00 XXX   0 X    0.00 XXX   0 X    0.14 ASP  86 A\n",
      "LYS  88 A                                            0.00 XXX   0 X    0.00 XXX   0 X    0.17 ASP  92 A\n",
      "LYS  88 A                                            0.00 XXX   0 X    0.00 XXX   0 X    0.08 GLU 195 A\n",
      "LYS  88 A                                            0.00 XXX   0 X    0.00 XXX   0 X   -0.06 LYS 129 A\n",
      "\n",
      "LYS  89 A  10.57     0 %   -0.21  265   0.00    0    0.00 XXX   0 X    0.00 XXX   0 X    0.06 GLU   8 A\n",
      "LYS  89 A                                            0.00 XXX   0 X    0.00 XXX   0 X    0.10 ASP  86 A\n",
      "LYS  89 A                                            0.00 XXX   0 X    0.00 XXX   0 X   -0.02 ARG 297 A\n",
      "LYS  89 A                                            0.00 XXX   0 X    0.00 XXX   0 X    0.14 C-  298 A\n",
      "\n",
      "LYS 105 A  10.86    23 %   -1.25  347   0.00    0    0.85 ASP 288 A    0.00 XXX   0 X    0.24 ASP 256 A\n",
      "LYS 105 A                                            0.00 XXX   0 X    0.00 XXX   0 X    0.11 ASP 258 A\n",
      "LYS 105 A                                            0.00 XXX   0 X    0.00 XXX   0 X    0.41 ASP 288 A\n",
      "\n",
      "LYS 129 A  11.48    73 %   -1.59  487   0.00    0    0.51 ASP 127 A    0.00 XXX   0 X    0.15 GLU 162 A\n",
      "LYS 129 A                                            0.00 XXX   0 X    0.00 XXX   0 X   -0.08 ARG 169 A\n",
      "LYS 129 A                                            0.00 XXX   0 X    0.00 XXX   0 X    0.14 TYR 159 A\n",
      "LYS 129 A                                            0.00 XXX   0 X    0.00 XXX   0 X    1.23 ASP 127 A\n",
      "LYS 129 A                                            0.00 XXX   0 X    0.00 XXX   0 X    0.62 ASP 145 A\n",
      "\n",
      "LYS 142 A  10.67    41 %   -1.12  397   0.00    0    0.66 GLU  81 A    0.00 XXX   0 X    0.04 GLU 138 A\n",
      "LYS 142 A                                            0.00 XXX   0 X    0.00 XXX   0 X    0.61 GLU  81 A\n",
      "\n",
      "LYS 178 A  10.43     1 %   -0.20  284   0.00    0    0.00 XXX   0 X    0.00 XXX   0 X   -0.11 ARG 150 A\n",
      "LYS 178 A                                            0.00 XXX   0 X    0.00 XXX   0 X   -0.06 ARG 169 A\n",
      "LYS 178 A                                            0.00 XXX   0 X    0.00 XXX   0 X    0.02 CYS 177 A\n",
      "LYS 178 A                                            0.00 XXX   0 X    0.00 XXX   0 X    0.09 GLU 208 A\n",
      "LYS 178 A                                            0.00 XXX   0 X    0.00 XXX   0 X    0.08 ASP 235 A\n",
      "LYS 178 A                                            0.00 XXX   0 X    0.00 XXX   0 X    0.03 TYR 179 A\n",
      "LYS 178 A                                            0.00 XXX   0 X    0.00 XXX   0 X    0.07 TYR 180 A\n",
      "\n",
      "LYS 237 A  10.47     0 %   -0.18  180   0.00    0    0.00 XXX   0 X    0.00 XXX   0 X    0.15 ASP 235 A\n",
      "\n",
      "LYS 242 A  10.67     0 %   -0.23  241   0.00    0    0.00 XXX   0 X    0.00 XXX   0 X    0.08 ASP 223 A\n",
      "LYS 242 A                                            0.00 XXX   0 X    0.00 XXX   0 X    0.31 TYR 236 A\n",
      "\n",
      "LYS 250 A  10.50     0 %   -0.14  195   0.00    0    0.00 XXX   0 X    0.00 XXX   0 X    0.13 ASP 247 A\n",
      "\n",
      "LYS 273 A  10.90     0 %   -0.55  258   0.00    0    0.56 ASP 270 A    0.00 XXX   0 X    0.01 ASP 223 A\n",
      "LYS 273 A                                            0.00 XXX   0 X    0.00 XXX   0 X    0.01 GLU 224 A\n",
      "LYS 273 A                                            0.00 XXX   0 X    0.00 XXX   0 X    0.38 ASP 270 A\n",
      "\n",
      "LYS 278 A  10.43     0 %   -0.07  151   0.00    0    0.00 XXX   0 X    0.00 XXX   0 X    0.00 XXX   0 X\n",
      "\n",
      "LYS 291 A  10.30     3 %   -0.30  290   0.00    0    0.00 XXX   0 X    0.00 XXX   0 X    0.14 GLU 138 A\n",
      "LYS 291 A                                            0.00 XXX   0 X    0.00 XXX   0 X   -0.03 LYS 142 A\n",
      "\n",
      "ARG  22 A  12.28     0 %   -0.22  207   0.00    0    0.00 XXX   0 X    0.00 XXX   0 X    0.00 XXX   0 X\n",
      "\n",
      "ARG  36 A  12.44    35 %   -1.53  379   0.00    0    0.05 TYR 159 A    0.00 XXX   0 X    0.00 TYR  19 A\n",
      "ARG  36 A                                            0.65 GLU  12 A    0.00 XXX   0 X    0.03 ASP  38 A\n",
      "ARG  36 A                                            0.00 XXX   0 X    0.00 XXX   0 X    0.00 ASP 145 A\n",
      "ARG  36 A                                            0.00 XXX   0 X    0.00 XXX   0 X    0.27 TYR 159 A\n",
      "ARG  36 A                                            0.00 XXX   0 X    0.00 XXX   0 X    0.15 GLU 162 A\n",
      "ARG  36 A                                            0.00 XXX   0 X    0.00 XXX   0 X    0.30 GLU  12 A\n",
      "\n",
      "ARG  50 A  12.32     0 %   -0.18  125   0.00    0    0.00 XXX   0 X    0.00 XXX   0 X    0.00 XXX   0 X\n",
      "\n",
      "ARG 122 A  12.40     0 %   -0.10  173   0.00    0    0.00 XXX   0 X    0.00 XXX   0 X    0.00 XXX   0 X\n",
      "\n",
      "ARG 126 A  13.00    48 %   -1.36  416   0.00    0    0.83 TYR 180 A    0.00 XXX   0 X    0.14 TYR  15 A\n",
      "ARG 126 A                                            0.00 XXX   0 X    0.00 XXX   0 X    0.05 GLU  51 A\n",
      "ARG 126 A                                            0.00 XXX   0 X    0.00 XXX   0 X    0.64 TYR 180 A\n",
      "ARG 126 A                                            0.00 XXX   0 X    0.00 XXX   0 X    0.21 ASP 185 A\n",
      "\n",
      "ARG 150 A  12.21    17 %   -0.62  330   0.00    0    0.01 TYR 180 A    0.00 XXX   0 X    0.10 TYR  15 A\n",
      "ARG 150 A                                            0.00 XXX   0 X    0.00 XXX   0 X    0.03 CYS 177 A\n",
      "ARG 150 A                                            0.00 XXX   0 X    0.00 XXX   0 X    0.08 TYR 179 A\n",
      "ARG 150 A                                            0.00 XXX   0 X    0.00 XXX   0 X    0.53 TYR 180 A\n",
      "ARG 150 A                                            0.00 XXX   0 X    0.00 XXX   0 X   -0.41 ARG 126 A\n",
      "\n",
      "ARG 157 A  12.44     0 %   -0.10  138   0.00    0    0.00 XXX   0 X    0.00 XXX   0 X    0.05 ASP  38 A\n",
      "\n",
      "ARG 169 A  11.99    66 %   -1.34  466   0.00    0    0.00 XXX   0 X    0.00 XXX   0 X    0.00 TYR  15 A\n",
      "ARG 169 A                                            0.00 XXX   0 X    0.00 XXX   0 X    0.36 ASP 127 A\n",
      "ARG 169 A                                            0.00 XXX   0 X    0.00 XXX   0 X    0.06 GLU 162 A\n",
      "ARG 169 A                                            0.00 XXX   0 X    0.00 XXX   0 X    0.08 TYR 180 A\n",
      "ARG 169 A                                            0.00 XXX   0 X    0.00 XXX   0 X    0.32 GLU 208 A\n",
      "\n",
      "ARG 199 A  12.15     0 %   -0.32  230   0.00    0    0.00 XXX   0 X    0.00 XXX   0 X   -0.03 ARG 200 A\n",
      "\n",
      "ARG 200 A  12.38     0 %   -0.12  211   0.00    0    0.00 XXX   0 X    0.00 XXX   0 X    0.00 XXX   0 X\n",
      "\n",
      "ARG 214 A  12.92     5 %   -0.45  294   0.00    0    0.39 ASP 210 A    0.00 XXX   0 X    0.11 ASP 206 A\n",
      "ARG 214 A                                            0.00 XXX   0 X    0.00 XXX   0 X    0.36 ASP 210 A\n",
      "\n",
      "ARG 217 A  12.10     0 %   -0.42  269   0.00    0    0.00 XXX   0 X    0.00 XXX   0 X    0.13 ASP 210 A\n",
      "ARG 217 A                                            0.00 XXX   0 X    0.00 XXX   0 X   -0.10 ARG 214 A\n",
      "\n",
      "ARG 245 A  11.64    48 %   -1.07  415   0.00    0    0.00 XXX   0 X    0.00 XXX   0 X    0.21 TYR 269 A\n",
      "\n",
      "ARG 260 A  12.86     0 %   -0.33  228   0.00    0    0.27 GLU 257 A    0.00 XXX   0 X    0.01 ASP 247 A\n",
      "ARG 260 A                                            0.00 XXX   0 X    0.00 XXX   0 X    0.05 ASP 256 A\n",
      "ARG 260 A                                            0.00 XXX   0 X    0.00 XXX   0 X    0.36 GLU 257 A\n",
      "\n",
      "ARG 274 A  12.26    99 %   -3.65  558   0.00    0    1.44 GLU 172 A    0.00 XXX   0 X    0.11 CYS 191 A\n",
      "ARG 274 A                                            0.00 XXX   0 X    0.00 XXX   0 X    0.10 ASP 270 A\n",
      "ARG 274 A                                            0.00 XXX   0 X    0.00 XXX   0 X    1.76 GLU 172 A\n",
      "\n",
      "ARG 297 A  12.54     0 %   -0.05  111   0.00    0    0.00 XXX   0 X    0.00 XXX   0 X    0.09 C-  298 A\n",
      "\n",
      "N+    1 A   8.26     0 %   -0.45  281   0.00    0    0.30 GLU   2 A    0.00 XXX   0 X   -0.00 LYS   6 A\n",
      "N+    1 A                                            0.00 XXX   0 X    0.00 XXX   0 X   -0.02 LYS  24 A\n",
      "N+    1 A                                            0.00 XXX   0 X    0.00 XXX   0 X    0.09 GLU  73 A\n",
      "N+    1 A                                            0.00 XXX   0 X    0.00 XXX   0 X    0.34 GLU   2 A\n",
      "\n",
      "Coupled residues (marked *) were detected.Please rerun PropKa with the --display-coupled-residues \n",
      "or -d option for detailed information.\n",
      "\n",
      "INFO:pKa summary:\n",
      "--------------------------------------------------------------------------------------------------------\n",
      "SUMMARY OF THIS PREDICTION\n",
      "       Group      pKa  model-pKa   ligand atom-type\n",
      "   ASP  38 A     4.14       3.80                      \n",
      "   ASP  68 A     3.92       3.80                      \n",
      "   ASP  86 A     4.91       3.80                      \n",
      "   ASP  92 A     4.12       3.80                      \n",
      "   ASP 127 A     5.89       3.80                      \n",
      "   ASP 145 A     3.46       3.80                      \n",
      "   ASP 185 A     6.28       3.80                      \n",
      "   ASP 206 A     4.05       3.80                      \n",
      "   ASP 210 A     2.84       3.80                      \n",
      "   ASP 223 A     3.17       3.80                      \n",
      "   ASP 235 A     3.91       3.80                      \n",
      "   ASP 247 A     3.75       3.80                      \n",
      "   ASP 256 A     3.29       3.80                      \n",
      "   ASP 258 A     4.39       3.80                      \n",
      "   ASP 270 A     2.46       3.80                      \n",
      "   ASP 288 A     2.67       3.80                      \n",
      "   GLU   2 A     3.41       4.50                      \n",
      "   GLU   8 A     4.49       4.50                      \n",
      "   GLU  12 A     3.71       4.50                      \n",
      "   GLU  28 A     4.00       4.50                      \n",
      "   GLU  40 A     5.06       4.50                      \n",
      "   GLU  42 A     3.77       4.50                      \n",
      "   GLU  51 A     4.90       4.50                      \n",
      "   GLU  57 A     4.62       4.50                      \n",
      "   GLU  73 A     4.48       4.50                      \n",
      "   GLU  81 A     3.99       4.50                      \n",
      "   GLU 138 A     4.45       4.50                      \n",
      "   GLU 162 A     4.46       4.50                      \n",
      "   GLU 172 A     4.56       4.50                      \n",
      "   GLU 195 A     6.07       4.50                      \n",
      "   GLU 208 A     4.91       4.50                      \n",
      "   GLU 224 A     2.64       4.50                      \n",
      "   GLU 257 A     4.23       4.50                      \n",
      "   C-  298 A     3.11       3.20                      \n",
      "   CYS 118 A    12.30       9.00                      \n",
      "   CYS 177 A     9.67       9.00                      \n",
      "   CYS 191 A    12.82       9.00                      \n",
      "   TYR  15 A    12.32      10.00                      \n",
      "   TYR  19 A     9.71      10.00                      \n",
      "   TYR  77 A    10.67      10.00                      \n",
      "   TYR 107 A    12.79      10.00                      \n",
      "   TYR 159 A    11.13      10.00                      \n",
      "   TYR 168 A    15.15      10.00                      \n",
      "   TYR 179 A    10.02      10.00                      \n",
      "   TYR 180 A    10.02      10.00                      \n",
      "   TYR 236 A    10.40      10.00                      \n",
      "   TYR 269 A    14.15      10.00                      \n",
      "   LYS   6 A    10.41      10.50                      \n",
      "   LYS   9 A    10.74      10.50                      \n",
      "   LYS  20 A    10.27      10.50                      \n",
      "   LYS  24 A    10.34      10.50                      \n",
      "   LYS  33 A    10.46      10.50                      \n",
      "   LYS  34 A    10.15      10.50                      \n",
      "   LYS  56 A    10.62      10.50                      \n",
      "   LYS  65 A    10.33      10.50                      \n",
      "   LYS  75 A    11.48      10.50                      \n",
      "   LYS  88 A    10.34      10.50                      \n",
      "   LYS  89 A    10.57      10.50                      \n",
      "   LYS 105 A    10.86      10.50                      \n",
      "   LYS 129 A    11.48      10.50                      \n",
      "   LYS 142 A    10.67      10.50                      \n",
      "   LYS 178 A    10.43      10.50                      \n",
      "   LYS 237 A    10.47      10.50                      \n",
      "   LYS 242 A    10.67      10.50                      \n",
      "   LYS 250 A    10.50      10.50                      \n",
      "   LYS 273 A    10.90      10.50                      \n",
      "   LYS 278 A    10.43      10.50                      \n",
      "   LYS 291 A    10.30      10.50                      \n",
      "   ARG  22 A    12.28      12.50                      \n",
      "   ARG  36 A    12.44      12.50                      \n",
      "   ARG  50 A    12.32      12.50                      \n",
      "   ARG 122 A    12.40      12.50                      \n",
      "   ARG 126 A    13.00      12.50                      \n",
      "   ARG 150 A    12.21      12.50                      \n",
      "   ARG 157 A    12.44      12.50                      \n",
      "   ARG 169 A    11.99      12.50                      \n",
      "   ARG 199 A    12.15      12.50                      \n",
      "   ARG 200 A    12.38      12.50                      \n",
      "   ARG 214 A    12.92      12.50                      \n",
      "   ARG 217 A    12.10      12.50                      \n",
      "   ARG 245 A    11.64      12.50                      \n",
      "   ARG 260 A    12.86      12.50                      \n",
      "   ARG 274 A    12.26      12.50                      \n",
      "   ARG 297 A    12.54      12.50                      \n",
      "   N+    1 A     8.26       8.00                      \n",
      "\n",
      "INFO:PROPKA information:\n",
      "--------------------------------------------------------------------------------------------------------\n",
      "Free energy of   folding (kcal/mol) as a function of pH (using neutral reference)\n",
      "  0.00     23.86\n",
      "  1.00     23.80\n",
      "  2.00     23.34\n",
      "  3.00     20.94\n",
      "  4.00     17.63\n",
      "  5.00     18.84\n",
      "  6.00     21.90\n",
      "  7.00     23.17\n",
      "  8.00     23.66\n",
      "  9.00     25.07\n",
      " 10.00     29.61\n",
      " 11.00     38.48\n",
      " 12.00     46.57\n",
      " 13.00     51.14\n",
      " 14.00     54.14\n",
      "\n",
      "The pH of optimum stability is  4.3 for which the free energy is   17.4 kcal/mol at 298K\n",
      "Could not determine pH values where the free energy is within 80 % of minimum\n",
      "Could not determine the pH-range where the free energy is negative\n",
      "\n",
      "\n",
      "Protein charge of folded and unfolded state as a function of pH\n",
      "    pH  unfolded  folded\n",
      "  0.00     38.00   37.99\n",
      "  1.00     37.96   37.87\n",
      "  2.00     37.64   36.85\n",
      "  3.00     34.90   32.14\n",
      "  4.00     23.24   22.14\n",
      "  5.00      9.05   11.39\n",
      "  6.00      4.61    6.28\n",
      "  7.00      3.93    4.34\n",
      "  8.00      3.07    3.56\n",
      "  9.00      0.03    1.92\n",
      " 10.00     -9.81   -4.76\n",
      " 11.00    -25.51  -18.35\n",
      " 12.00    -34.10  -29.73\n",
      " 13.00    -43.08  -40.35\n",
      " 14.00    -46.50  -44.82\n",
      "The pI is  9.45 (folded) and  9.01 (unfolded)\n",
      "\n",
      "--------------------------------------------------------------------------------------------------------\n",
      "INFO:Applying pKa values at a pH of 7.40:\n",
      "INFO:Adding hydrogens to biomolecule.\n",
      "INFO:Debumping biomolecule (again).\n",
      "INFO:Optimizing hydrogen bonds\n",
      "INFO:Applying force field to biomolecule states.\n",
      "INFO:Applying custom naming scheme (amber).\n",
      "INFO:Regenerating headers.\n",
      "INFO:Regenerating PDB lines.\n",
      "WARNING:Ignoring 539 header lines in output.\n",
      "WARNING:Ignoring 539 header lines in output.\n",
      "\n",
      "None\n"
     ]
    }
   ],
   "source": [
    "# Prepare the protein using PDB2PQR\n",
    "from helper_modules.prepare_md_system import run_pdb2pqr\n",
    "OUT_PDB2PQR = 'prot.TEMP'\n",
    "run_pdb2pqr(input_pdb = INPUT_PROT,  \n",
    "            output_basename = f'{TMP_DIR}/{OUT_PDB2PQR}',\n",
    "            ph = PH,\n",
    "            verbose = True)"
   ]
  },
  {
   "cell_type": "markdown",
   "id": "3416ac9d",
   "metadata": {},
   "source": [
    "## Prepare protein topology file using `tleap`\n",
    "- Use the `ff14SB` forcefield"
   ]
  },
  {
   "cell_type": "code",
   "execution_count": 5,
   "id": "033e5513",
   "metadata": {},
   "outputs": [
    {
     "name": "stdout",
     "output_type": "stream",
     "text": [
      "-I: Adding /Users/joelricci/miniconda/envs/biobb/dat/leap/prep to search path.\n",
      "-I: Adding /Users/joelricci/miniconda/envs/biobb/dat/leap/lib to search path.\n",
      "-I: Adding /Users/joelricci/miniconda/envs/biobb/dat/leap/parm to search path.\n",
      "-I: Adding /Users/joelricci/miniconda/envs/biobb/dat/leap/cmd to search path.\n",
      "-f: Source ./../data/md_system_prep/ETA_systems/4fku/4fku-ETA_intermediate_files/leap_prep_system.in.\n",
      "\n",
      "Welcome to LEaP!\n",
      "(no leaprc in search path)\n",
      "Sourcing: ./../data/md_system_prep/ETA_systems/4fku/4fku-ETA_intermediate_files/leap_prep_system.in\n",
      "----- Source: /Users/joelricci/miniconda/envs/biobb/dat/leap/cmd/leaprc.protein.ff14SB\n",
      "----- Source of /Users/joelricci/miniconda/envs/biobb/dat/leap/cmd/leaprc.protein.ff14SB done\n",
      "Log file: ./leap.log\n",
      "Loading parameters: /Users/joelricci/miniconda/envs/biobb/dat/leap/parm/parm10.dat\n",
      "Reading title:\n",
      "PARM99 + frcmod.ff99SB + frcmod.parmbsc0 + OL3 for RNA\n",
      "Loading parameters: /Users/joelricci/miniconda/envs/biobb/dat/leap/parm/frcmod.ff14SB\n",
      "Reading force field modification type file (frcmod)\n",
      "Reading title:\n",
      "ff14SB protein backbone and sidechain parameters\n",
      "Loading library: /Users/joelricci/miniconda/envs/biobb/dat/leap/lib/amino12.lib\n",
      "Loading library: /Users/joelricci/miniconda/envs/biobb/dat/leap/lib/aminoct12.lib\n",
      "Loading library: /Users/joelricci/miniconda/envs/biobb/dat/leap/lib/aminont12.lib\n",
      "----- Source: /Users/joelricci/miniconda/envs/biobb/dat/leap/cmd/leaprc.gaff\n",
      "----- Source of /Users/joelricci/miniconda/envs/biobb/dat/leap/cmd/leaprc.gaff done\n",
      "Log file: ./leap.log\n",
      "Loading parameters: /Users/joelricci/miniconda/envs/biobb/dat/leap/parm/gaff.dat\n",
      "Reading title:\n",
      "AMBER General Force Field for organic molecules (Version 1.81, May 2017)\n",
      "----- Source: /Users/joelricci/miniconda/envs/biobb/dat/leap/cmd/leaprc.water.tip3p\n",
      "----- Source of /Users/joelricci/miniconda/envs/biobb/dat/leap/cmd/leaprc.water.tip3p done\n",
      "Loading library: /Users/joelricci/miniconda/envs/biobb/dat/leap/lib/atomic_ions.lib\n",
      "Loading library: /Users/joelricci/miniconda/envs/biobb/dat/leap/lib/solvents.lib\n",
      "Loading parameters: /Users/joelricci/miniconda/envs/biobb/dat/leap/parm/frcmod.tip3p\n",
      "Reading force field modification type file (frcmod)\n",
      "Reading title:\n",
      "This is the additional/replacement parameter set for TIP3P water\n",
      "Loading parameters: /Users/joelricci/miniconda/envs/biobb/dat/leap/parm/frcmod.ions1lm_126_tip3p\n",
      "Reading force field modification type file (frcmod)\n",
      "Reading title:\n",
      "Li/Merz ion parameters of monovalent ions for TIP3P water model (12-6 normal usage set)\n",
      "Loading parameters: /Users/joelricci/miniconda/envs/biobb/dat/leap/parm/frcmod.ionsjc_tip3p\n",
      "Reading force field modification type file (frcmod)\n",
      "Reading title:\n",
      "Monovalent ion parameters for Ewald and TIP3P water from Joung & Cheatham JPCB (2008)\n",
      "Loading parameters: /Users/joelricci/miniconda/envs/biobb/dat/leap/parm/frcmod.ions234lm_126_tip3p\n",
      "Reading force field modification type file (frcmod)\n",
      "Reading title:\n",
      "Li/Merz ion parameters of divalent to tetravalent ions for TIP3P water model (12-6 normal usage set)\n",
      "Loading parameters: /Users/joelricci/miniconda/envs/biobb/dat/leap/parm/frcmod.ionsjc_tip3p\n",
      "Reading force field modification type file (frcmod)\n",
      "Reading title:\n",
      "Monovalent ion parameters for Ewald and TIP3P water from Joung & Cheatham JPCB (2008)\n",
      "Loading PDB file: ./../data/md_system_prep/ETA_systems/4fku/4fku-ETA_intermediate_files/prot.TEMP.pdb\n",
      "  total atoms in file: 4848\n",
      "Checking 'system'....\n",
      "\n",
      "/Users/joelricci/miniconda/envs/biobb/bin/teLeap: Warning!\n",
      "The unperturbed charge of the unit (4.000000) is not zero.\n",
      "Checking parameters for unit 'system'.\n",
      "Checking for bond parameters.\n",
      "Checking for angle parameters.\n",
      "check:  Warnings: 1\n",
      "Unit is OK.\n",
      "Total unperturbed charge:   4.000000\n",
      "Total perturbed charge:     4.000000\n",
      "Total unperturbed charge:   4.000000\n",
      "Total perturbed charge:     4.000000\n",
      "Writing pdb file: ./../data/md_system_prep/ETA_systems/4fku/4fku-ETA_intermediate_files/SYSTEM.pdb\n",
      "\n",
      "/Users/joelricci/miniconda/envs/biobb/bin/teLeap: Warning!\n",
      " Converting N-terminal residue name to PDB format: NMET -> MET\n",
      "\n",
      "/Users/joelricci/miniconda/envs/biobb/bin/teLeap: Warning!\n",
      " Converting C-terminal residue name to PDB format: CLEU -> LEU\n",
      "Checking Unit.\n",
      "\n",
      "/Users/joelricci/miniconda/envs/biobb/bin/teLeap: Warning!\n",
      "The unperturbed charge of the unit (4.000000) is not zero.\n",
      "\n",
      "/Users/joelricci/miniconda/envs/biobb/bin/teLeap: Note.\n",
      "Ignoring the warning from Unit Checking.\n",
      "\n",
      "Building topology.\n",
      "Building atom parameters.\n",
      "Building bond parameters.\n",
      "Building angle parameters.\n",
      "Building proper torsion parameters.\n",
      "Building improper torsion parameters.\n",
      " total 958 improper torsions applied\n",
      "Building H-Bond parameters.\n",
      "Incorporating Non-Bonded adjustments.\n",
      "Not Marking per-residue atom chain types.\n",
      "Marking per-residue atom chain types.\n",
      "  (Residues lacking connect0/connect1 - \n",
      "   these don't have chain types marked:\n",
      "\n",
      "\tres\ttotal affected\n",
      "\n",
      "\tCLEU\t1\n",
      "\tNMET\t1\n",
      "  )\n",
      " (no restraints)\n",
      "\tQuit\n",
      "\n",
      "Exiting LEaP: Errors = 0; Warnings = 4; Notes = 1.\n",
      "\n",
      "None\n"
     ]
    }
   ],
   "source": [
    "from helper_modules.prepare_md_system import run_tleap_prepare_system\n",
    "OUT_SYSTEM = 'SYSTEM'\n",
    "run_tleap_prepare_system(\n",
    "    input_protein_pdb  = 'prot.TEMP.pdb',\n",
    "    output_basename    = OUT_SYSTEM, \n",
    "    tmp_dir            = TMP_DIR, \n",
    "    input_ligand_basename = None,\n",
    "    input_waters_pdb      = None,\n",
    "    verbose               = True\n",
    ")"
   ]
  },
  {
   "cell_type": "markdown",
   "id": "777fc191",
   "metadata": {},
   "source": [
    "## Minimize hydrogens\n",
    "\n",
    "**Hydrogen minimization**, applying position restraints (50 $Kcal/mol\\cdotÅ^2$) to the protein heavy atoms.\n",
    "\n",
    "```fortran\n",
    "    Taken from  biobb_amber module from the BioBB library\n",
    "    Type of mdin: min_vacuo\n",
    "    &cntrl\n",
    "        imin = 1 \n",
    "        ncyc = 250 \n",
    "        ntb  = 0 \n",
    "        igb  = 0 \n",
    "        cut  = 12 \n",
    "        maxcyc = 500 \n",
    "        ntpr = 5 \n",
    "        ntr  = 1 \n",
    "        restraintmask = \":*&!@H=\" \n",
    "        restraint_wt = 500.0 \n",
    "    &end\n",
    "```"
   ]
  },
  {
   "cell_type": "code",
   "execution_count": 6,
   "id": "e3454fc3",
   "metadata": {},
   "outputs": [
    {
     "name": "stdout",
     "output_type": "stream",
     "text": [
      "\n",
      "None\n"
     ]
    }
   ],
   "source": [
    "from helper_modules.prepare_md_system import run_minimize_hydrogens\n",
    "\n",
    "OUT_MIN_SYSTEM = f'{OUT_SYSTEM}.minH'\n",
    "run_minimize_hydrogens(input_basename  = OUT_SYSTEM, \n",
    "                       output_basename = OUT_MIN_SYSTEM,\n",
    "                       tmp_dir = TMP_DIR,\n",
    "                       verbose = True)"
   ]
  },
  {
   "cell_type": "code",
   "execution_count": 7,
   "id": "6f6d954a",
   "metadata": {
    "scrolled": true
   },
   "outputs": [
    {
     "name": "stdout",
     "output_type": "stream",
     "text": [
      "2022-04-03 16:53:44,613 [MainThread  ] [INFO ]  Creating command line with instructions and required arguments\n",
      "2022-04-03 16:53:44,759 [MainThread  ] [INFO ]  process_minout.perl  ./../data/md_system_prep/ETA_systems/4fku/4fku-ETA_intermediate_files/sander.minH.log\n",
      "\n",
      "2022-04-03 16:53:44,761 [MainThread  ] [INFO ]  Exit code 0\n",
      "\n",
      "2022-04-03 16:53:44,762 [MainThread  ] [INFO ]  Processing sander output file (./../data/md_system_prep/ETA_systems/4fku/4fku-ETA_intermediate_files/sander.minH.log)...\n",
      "Processing step 50 of a possible 500...\n",
      "Processing step 100 of a possible 500...\n",
      "Processing step 150 of a possible 500...\n",
      "Processing step 200 of a possible 500...\n",
      "Processing step 250 of a possible 500...\n",
      "Processing step 300 of a possible 500...\n",
      "Processing step 350 of a possible 500...\n",
      "Processing step 400 of a possible 500...\n",
      "Processing step 450 of a possible 500...\n",
      "Processing step 500 of a possible 500...\n",
      "Processing step 500 of a possible 500...\n",
      "Starting output...\n",
      "Outputing summary.NSTEP\n",
      "Outputing summary.ENERGY\n",
      "Outputing summary.RMS\n",
      "Outputing summary.GMAX\n",
      "Outputing summary.NAME\n",
      "Outputing summary.NUMBER\n",
      "Outputing summary.BOND\n",
      "Outputing summary.ANGLE\n",
      "Outputing summary.DIHEDRAL\n",
      "Outputing summary.VDWAALS\n",
      "Outputing summary.EEL\n",
      "Outputing summary.HBOND\n",
      "Outputing summary.VDW14\n",
      "Outputing summary.EEL14\n",
      "Outputing summary.RESTRAINT\n",
      "\n",
      "2022-04-03 16:53:44,778 [MainThread  ] [INFO ]  Removed: [PosixPath('summary.NSTEP'), PosixPath('summary.RMS'), PosixPath('summary.EEL'), PosixPath('summary.ENERGY'), PosixPath('summary.GMAX'), PosixPath('summary.NAME'), PosixPath('summary.NUMBER'), PosixPath('summary.BOND'), PosixPath('summary.ANGLE'), PosixPath('summary.DIHEDRAL'), PosixPath('summary.VDWAALS'), PosixPath('summary.HBOND'), PosixPath('summary.VDW14'), PosixPath('summary.EEL14'), PosixPath('summary.RESTRAINT')]\n"
     ]
    },
    {
     "data": {
      "text/html": [
       "        <script type=\"text/javascript\">\n",
       "        window.PlotlyConfig = {MathJaxConfig: 'local'};\n",
       "        if (window.MathJax) {MathJax.Hub.Config({SVG: {font: \"STIX-Web\"}});}\n",
       "        if (typeof require !== 'undefined') {\n",
       "        require.undef(\"plotly\");\n",
       "        requirejs.config({\n",
       "            paths: {\n",
       "                'plotly': ['https://cdn.plot.ly/plotly-2.9.0.min']\n",
       "            }\n",
       "        });\n",
       "        require(['plotly'], function(Plotly) {\n",
       "            window._Plotly = Plotly;\n",
       "        });\n",
       "        }\n",
       "        </script>\n",
       "        "
      ]
     },
     "metadata": {},
     "output_type": "display_data"
    },
    {
     "data": {
      "application/vnd.plotly.v1+json": {
       "config": {
        "linkText": "Export to plot.ly",
        "plotlyServerURL": "https://plot.ly",
        "showLink": false
       },
       "data": [
        {
         "type": "scatter",
         "x": [
          10,
          15,
          20,
          25,
          30,
          35,
          40,
          45,
          50,
          55,
          60,
          65,
          70,
          75,
          80,
          85,
          90,
          95,
          100,
          105,
          110,
          115,
          120,
          125,
          130,
          135,
          140,
          145,
          150,
          155,
          160,
          165,
          170,
          175,
          180,
          185,
          190,
          195,
          200,
          205,
          210,
          215,
          220,
          225,
          230,
          235,
          240,
          245,
          250,
          255,
          260,
          265,
          270,
          275,
          280,
          285,
          290,
          295,
          300,
          305,
          310,
          315,
          320,
          325,
          330,
          335,
          340,
          345,
          350,
          355,
          360,
          365,
          370,
          375,
          380,
          385,
          390,
          395,
          400,
          405,
          410,
          415,
          420,
          425,
          430,
          435,
          440,
          445,
          450,
          455,
          460,
          465,
          470,
          475,
          480,
          485,
          490,
          495,
          500
         ],
         "y": [
          806.43,
          181.03,
          -1107.2,
          -3123.4,
          -4857.8,
          -4886.2,
          -4967.5,
          -4981,
          -4894.3,
          -4900.5,
          -4909.6,
          -4912,
          -4921.6,
          -5100.5,
          -5105.8,
          -5110.7,
          -5115.6,
          -5120.4,
          -5089.3,
          -5093.3,
          -5097.4,
          -5101.2,
          -5104.8,
          -5071.6,
          -5076.5,
          -5078.5,
          -5082,
          -5087.1,
          -5120.3,
          -5125.6,
          -5128.4,
          -5131.6,
          -5134.8,
          -5154.5,
          -5157.6,
          -5160.6,
          -5163.5,
          -5165.9,
          -5171.6,
          -5174.3,
          -5176.9,
          -5179.3,
          -5181.8,
          -5166.2,
          -5169.5,
          -5170.6,
          -5172.8,
          -5175,
          -5208.6,
          -5212.2,
          -5242.6,
          -5266.2,
          -5275.8,
          -5292.9,
          -5293.7,
          -5295.8,
          -5300.1,
          -5302.1,
          -5288.4,
          -5289.6,
          -5294.2,
          -5297.4,
          -5300,
          -5234.7,
          -5235.3,
          -5236.6,
          -5239.4,
          -5241.4,
          -5340.2,
          -5341.2,
          -5342.9,
          -5344.9,
          -5346.6,
          -5380.6,
          -5381.1,
          -5381.9,
          -5383.3,
          -5384.2,
          -5356.9,
          -5357.1,
          -5358,
          -5359.2,
          -5359.8,
          -5350.3,
          -5350.3,
          -5351.1,
          -5352,
          -5352.6,
          -5366.1,
          -5366.1,
          -5367.1,
          -5368,
          -5368.4,
          -5360.5,
          -5360.5,
          -5361.3,
          -5362.3,
          -5363,
          -5360.7
         ]
        }
       ],
       "layout": {
        "template": {
         "data": {
          "bar": [
           {
            "error_x": {
             "color": "#2a3f5f"
            },
            "error_y": {
             "color": "#2a3f5f"
            },
            "marker": {
             "line": {
              "color": "#E5ECF6",
              "width": 0.5
             },
             "pattern": {
              "fillmode": "overlay",
              "size": 10,
              "solidity": 0.2
             }
            },
            "type": "bar"
           }
          ],
          "barpolar": [
           {
            "marker": {
             "line": {
              "color": "#E5ECF6",
              "width": 0.5
             },
             "pattern": {
              "fillmode": "overlay",
              "size": 10,
              "solidity": 0.2
             }
            },
            "type": "barpolar"
           }
          ],
          "carpet": [
           {
            "aaxis": {
             "endlinecolor": "#2a3f5f",
             "gridcolor": "white",
             "linecolor": "white",
             "minorgridcolor": "white",
             "startlinecolor": "#2a3f5f"
            },
            "baxis": {
             "endlinecolor": "#2a3f5f",
             "gridcolor": "white",
             "linecolor": "white",
             "minorgridcolor": "white",
             "startlinecolor": "#2a3f5f"
            },
            "type": "carpet"
           }
          ],
          "choropleth": [
           {
            "colorbar": {
             "outlinewidth": 0,
             "ticks": ""
            },
            "type": "choropleth"
           }
          ],
          "contour": [
           {
            "colorbar": {
             "outlinewidth": 0,
             "ticks": ""
            },
            "colorscale": [
             [
              0,
              "#0d0887"
             ],
             [
              0.1111111111111111,
              "#46039f"
             ],
             [
              0.2222222222222222,
              "#7201a8"
             ],
             [
              0.3333333333333333,
              "#9c179e"
             ],
             [
              0.4444444444444444,
              "#bd3786"
             ],
             [
              0.5555555555555556,
              "#d8576b"
             ],
             [
              0.6666666666666666,
              "#ed7953"
             ],
             [
              0.7777777777777778,
              "#fb9f3a"
             ],
             [
              0.8888888888888888,
              "#fdca26"
             ],
             [
              1,
              "#f0f921"
             ]
            ],
            "type": "contour"
           }
          ],
          "contourcarpet": [
           {
            "colorbar": {
             "outlinewidth": 0,
             "ticks": ""
            },
            "type": "contourcarpet"
           }
          ],
          "heatmap": [
           {
            "colorbar": {
             "outlinewidth": 0,
             "ticks": ""
            },
            "colorscale": [
             [
              0,
              "#0d0887"
             ],
             [
              0.1111111111111111,
              "#46039f"
             ],
             [
              0.2222222222222222,
              "#7201a8"
             ],
             [
              0.3333333333333333,
              "#9c179e"
             ],
             [
              0.4444444444444444,
              "#bd3786"
             ],
             [
              0.5555555555555556,
              "#d8576b"
             ],
             [
              0.6666666666666666,
              "#ed7953"
             ],
             [
              0.7777777777777778,
              "#fb9f3a"
             ],
             [
              0.8888888888888888,
              "#fdca26"
             ],
             [
              1,
              "#f0f921"
             ]
            ],
            "type": "heatmap"
           }
          ],
          "heatmapgl": [
           {
            "colorbar": {
             "outlinewidth": 0,
             "ticks": ""
            },
            "colorscale": [
             [
              0,
              "#0d0887"
             ],
             [
              0.1111111111111111,
              "#46039f"
             ],
             [
              0.2222222222222222,
              "#7201a8"
             ],
             [
              0.3333333333333333,
              "#9c179e"
             ],
             [
              0.4444444444444444,
              "#bd3786"
             ],
             [
              0.5555555555555556,
              "#d8576b"
             ],
             [
              0.6666666666666666,
              "#ed7953"
             ],
             [
              0.7777777777777778,
              "#fb9f3a"
             ],
             [
              0.8888888888888888,
              "#fdca26"
             ],
             [
              1,
              "#f0f921"
             ]
            ],
            "type": "heatmapgl"
           }
          ],
          "histogram": [
           {
            "marker": {
             "pattern": {
              "fillmode": "overlay",
              "size": 10,
              "solidity": 0.2
             }
            },
            "type": "histogram"
           }
          ],
          "histogram2d": [
           {
            "colorbar": {
             "outlinewidth": 0,
             "ticks": ""
            },
            "colorscale": [
             [
              0,
              "#0d0887"
             ],
             [
              0.1111111111111111,
              "#46039f"
             ],
             [
              0.2222222222222222,
              "#7201a8"
             ],
             [
              0.3333333333333333,
              "#9c179e"
             ],
             [
              0.4444444444444444,
              "#bd3786"
             ],
             [
              0.5555555555555556,
              "#d8576b"
             ],
             [
              0.6666666666666666,
              "#ed7953"
             ],
             [
              0.7777777777777778,
              "#fb9f3a"
             ],
             [
              0.8888888888888888,
              "#fdca26"
             ],
             [
              1,
              "#f0f921"
             ]
            ],
            "type": "histogram2d"
           }
          ],
          "histogram2dcontour": [
           {
            "colorbar": {
             "outlinewidth": 0,
             "ticks": ""
            },
            "colorscale": [
             [
              0,
              "#0d0887"
             ],
             [
              0.1111111111111111,
              "#46039f"
             ],
             [
              0.2222222222222222,
              "#7201a8"
             ],
             [
              0.3333333333333333,
              "#9c179e"
             ],
             [
              0.4444444444444444,
              "#bd3786"
             ],
             [
              0.5555555555555556,
              "#d8576b"
             ],
             [
              0.6666666666666666,
              "#ed7953"
             ],
             [
              0.7777777777777778,
              "#fb9f3a"
             ],
             [
              0.8888888888888888,
              "#fdca26"
             ],
             [
              1,
              "#f0f921"
             ]
            ],
            "type": "histogram2dcontour"
           }
          ],
          "mesh3d": [
           {
            "colorbar": {
             "outlinewidth": 0,
             "ticks": ""
            },
            "type": "mesh3d"
           }
          ],
          "parcoords": [
           {
            "line": {
             "colorbar": {
              "outlinewidth": 0,
              "ticks": ""
             }
            },
            "type": "parcoords"
           }
          ],
          "pie": [
           {
            "automargin": true,
            "type": "pie"
           }
          ],
          "scatter": [
           {
            "marker": {
             "colorbar": {
              "outlinewidth": 0,
              "ticks": ""
             }
            },
            "type": "scatter"
           }
          ],
          "scatter3d": [
           {
            "line": {
             "colorbar": {
              "outlinewidth": 0,
              "ticks": ""
             }
            },
            "marker": {
             "colorbar": {
              "outlinewidth": 0,
              "ticks": ""
             }
            },
            "type": "scatter3d"
           }
          ],
          "scattercarpet": [
           {
            "marker": {
             "colorbar": {
              "outlinewidth": 0,
              "ticks": ""
             }
            },
            "type": "scattercarpet"
           }
          ],
          "scattergeo": [
           {
            "marker": {
             "colorbar": {
              "outlinewidth": 0,
              "ticks": ""
             }
            },
            "type": "scattergeo"
           }
          ],
          "scattergl": [
           {
            "marker": {
             "colorbar": {
              "outlinewidth": 0,
              "ticks": ""
             }
            },
            "type": "scattergl"
           }
          ],
          "scattermapbox": [
           {
            "marker": {
             "colorbar": {
              "outlinewidth": 0,
              "ticks": ""
             }
            },
            "type": "scattermapbox"
           }
          ],
          "scatterpolar": [
           {
            "marker": {
             "colorbar": {
              "outlinewidth": 0,
              "ticks": ""
             }
            },
            "type": "scatterpolar"
           }
          ],
          "scatterpolargl": [
           {
            "marker": {
             "colorbar": {
              "outlinewidth": 0,
              "ticks": ""
             }
            },
            "type": "scatterpolargl"
           }
          ],
          "scatterternary": [
           {
            "marker": {
             "colorbar": {
              "outlinewidth": 0,
              "ticks": ""
             }
            },
            "type": "scatterternary"
           }
          ],
          "surface": [
           {
            "colorbar": {
             "outlinewidth": 0,
             "ticks": ""
            },
            "colorscale": [
             [
              0,
              "#0d0887"
             ],
             [
              0.1111111111111111,
              "#46039f"
             ],
             [
              0.2222222222222222,
              "#7201a8"
             ],
             [
              0.3333333333333333,
              "#9c179e"
             ],
             [
              0.4444444444444444,
              "#bd3786"
             ],
             [
              0.5555555555555556,
              "#d8576b"
             ],
             [
              0.6666666666666666,
              "#ed7953"
             ],
             [
              0.7777777777777778,
              "#fb9f3a"
             ],
             [
              0.8888888888888888,
              "#fdca26"
             ],
             [
              1,
              "#f0f921"
             ]
            ],
            "type": "surface"
           }
          ],
          "table": [
           {
            "cells": {
             "fill": {
              "color": "#EBF0F8"
             },
             "line": {
              "color": "white"
             }
            },
            "header": {
             "fill": {
              "color": "#C8D4E3"
             },
             "line": {
              "color": "white"
             }
            },
            "type": "table"
           }
          ]
         },
         "layout": {
          "annotationdefaults": {
           "arrowcolor": "#2a3f5f",
           "arrowhead": 0,
           "arrowwidth": 1
          },
          "autotypenumbers": "strict",
          "coloraxis": {
           "colorbar": {
            "outlinewidth": 0,
            "ticks": ""
           }
          },
          "colorscale": {
           "diverging": [
            [
             0,
             "#8e0152"
            ],
            [
             0.1,
             "#c51b7d"
            ],
            [
             0.2,
             "#de77ae"
            ],
            [
             0.3,
             "#f1b6da"
            ],
            [
             0.4,
             "#fde0ef"
            ],
            [
             0.5,
             "#f7f7f7"
            ],
            [
             0.6,
             "#e6f5d0"
            ],
            [
             0.7,
             "#b8e186"
            ],
            [
             0.8,
             "#7fbc41"
            ],
            [
             0.9,
             "#4d9221"
            ],
            [
             1,
             "#276419"
            ]
           ],
           "sequential": [
            [
             0,
             "#0d0887"
            ],
            [
             0.1111111111111111,
             "#46039f"
            ],
            [
             0.2222222222222222,
             "#7201a8"
            ],
            [
             0.3333333333333333,
             "#9c179e"
            ],
            [
             0.4444444444444444,
             "#bd3786"
            ],
            [
             0.5555555555555556,
             "#d8576b"
            ],
            [
             0.6666666666666666,
             "#ed7953"
            ],
            [
             0.7777777777777778,
             "#fb9f3a"
            ],
            [
             0.8888888888888888,
             "#fdca26"
            ],
            [
             1,
             "#f0f921"
            ]
           ],
           "sequentialminus": [
            [
             0,
             "#0d0887"
            ],
            [
             0.1111111111111111,
             "#46039f"
            ],
            [
             0.2222222222222222,
             "#7201a8"
            ],
            [
             0.3333333333333333,
             "#9c179e"
            ],
            [
             0.4444444444444444,
             "#bd3786"
            ],
            [
             0.5555555555555556,
             "#d8576b"
            ],
            [
             0.6666666666666666,
             "#ed7953"
            ],
            [
             0.7777777777777778,
             "#fb9f3a"
            ],
            [
             0.8888888888888888,
             "#fdca26"
            ],
            [
             1,
             "#f0f921"
            ]
           ]
          },
          "colorway": [
           "#636efa",
           "#EF553B",
           "#00cc96",
           "#ab63fa",
           "#FFA15A",
           "#19d3f3",
           "#FF6692",
           "#B6E880",
           "#FF97FF",
           "#FECB52"
          ],
          "font": {
           "color": "#2a3f5f"
          },
          "geo": {
           "bgcolor": "white",
           "lakecolor": "white",
           "landcolor": "#E5ECF6",
           "showlakes": true,
           "showland": true,
           "subunitcolor": "white"
          },
          "hoverlabel": {
           "align": "left"
          },
          "hovermode": "closest",
          "mapbox": {
           "style": "light"
          },
          "paper_bgcolor": "white",
          "plot_bgcolor": "#E5ECF6",
          "polar": {
           "angularaxis": {
            "gridcolor": "white",
            "linecolor": "white",
            "ticks": ""
           },
           "bgcolor": "#E5ECF6",
           "radialaxis": {
            "gridcolor": "white",
            "linecolor": "white",
            "ticks": ""
           }
          },
          "scene": {
           "xaxis": {
            "backgroundcolor": "#E5ECF6",
            "gridcolor": "white",
            "gridwidth": 2,
            "linecolor": "white",
            "showbackground": true,
            "ticks": "",
            "zerolinecolor": "white"
           },
           "yaxis": {
            "backgroundcolor": "#E5ECF6",
            "gridcolor": "white",
            "gridwidth": 2,
            "linecolor": "white",
            "showbackground": true,
            "ticks": "",
            "zerolinecolor": "white"
           },
           "zaxis": {
            "backgroundcolor": "#E5ECF6",
            "gridcolor": "white",
            "gridwidth": 2,
            "linecolor": "white",
            "showbackground": true,
            "ticks": "",
            "zerolinecolor": "white"
           }
          },
          "shapedefaults": {
           "line": {
            "color": "#2a3f5f"
           }
          },
          "ternary": {
           "aaxis": {
            "gridcolor": "white",
            "linecolor": "white",
            "ticks": ""
           },
           "baxis": {
            "gridcolor": "white",
            "linecolor": "white",
            "ticks": ""
           },
           "bgcolor": "#E5ECF6",
           "caxis": {
            "gridcolor": "white",
            "linecolor": "white",
            "ticks": ""
           }
          },
          "title": {
           "x": 0.05
          },
          "xaxis": {
           "automargin": true,
           "gridcolor": "white",
           "linecolor": "white",
           "ticks": "",
           "title": {
            "standoff": 15
           },
           "zerolinecolor": "white",
           "zerolinewidth": 2
          },
          "yaxis": {
           "automargin": true,
           "gridcolor": "white",
           "linecolor": "white",
           "ticks": "",
           "title": {
            "standoff": 15
           },
           "zerolinecolor": "white",
           "zerolinewidth": 2
          }
         }
        },
        "title": {
         "text": "Energy Minimization"
        },
        "xaxis": {
         "title": {
          "text": "Energy Minimization Step"
         }
        },
        "yaxis": {
         "title": {
          "text": "Potential Energy kcal/mol"
         }
        }
       }
      },
      "text/html": [
       "<div>                            <div id=\"d962240a-f210-4c95-a8d0-b0f598e36574\" class=\"plotly-graph-div\" style=\"height:525px; width:100%;\"></div>            <script type=\"text/javascript\">                require([\"plotly\"], function(Plotly) {                    window.PLOTLYENV=window.PLOTLYENV || {};                                    if (document.getElementById(\"d962240a-f210-4c95-a8d0-b0f598e36574\")) {                    Plotly.newPlot(                        \"d962240a-f210-4c95-a8d0-b0f598e36574\",                        [{\"x\":[10.0,15.0,20.0,25.0,30.0,35.0,40.0,45.0,50.0,55.0,60.0,65.0,70.0,75.0,80.0,85.0,90.0,95.0,100.0,105.0,110.0,115.0,120.0,125.0,130.0,135.0,140.0,145.0,150.0,155.0,160.0,165.0,170.0,175.0,180.0,185.0,190.0,195.0,200.0,205.0,210.0,215.0,220.0,225.0,230.0,235.0,240.0,245.0,250.0,255.0,260.0,265.0,270.0,275.0,280.0,285.0,290.0,295.0,300.0,305.0,310.0,315.0,320.0,325.0,330.0,335.0,340.0,345.0,350.0,355.0,360.0,365.0,370.0,375.0,380.0,385.0,390.0,395.0,400.0,405.0,410.0,415.0,420.0,425.0,430.0,435.0,440.0,445.0,450.0,455.0,460.0,465.0,470.0,475.0,480.0,485.0,490.0,495.0,500.0],\"y\":[806.43,181.03,-1107.2,-3123.4,-4857.8,-4886.2,-4967.5,-4981.0,-4894.3,-4900.5,-4909.6,-4912.0,-4921.6,-5100.5,-5105.8,-5110.7,-5115.6,-5120.4,-5089.3,-5093.3,-5097.4,-5101.2,-5104.8,-5071.6,-5076.5,-5078.5,-5082.0,-5087.1,-5120.3,-5125.6,-5128.4,-5131.6,-5134.8,-5154.5,-5157.6,-5160.6,-5163.5,-5165.9,-5171.6,-5174.3,-5176.9,-5179.3,-5181.8,-5166.2,-5169.5,-5170.6,-5172.8,-5175.0,-5208.6,-5212.2,-5242.6,-5266.2,-5275.8,-5292.9,-5293.7,-5295.8,-5300.1,-5302.1,-5288.4,-5289.6,-5294.2,-5297.4,-5300.0,-5234.7,-5235.3,-5236.6,-5239.4,-5241.4,-5340.2,-5341.2,-5342.9,-5344.9,-5346.6,-5380.6,-5381.1,-5381.9,-5383.3,-5384.2,-5356.9,-5357.1,-5358.0,-5359.2,-5359.8,-5350.3,-5350.3,-5351.1,-5352.0,-5352.6,-5366.1,-5366.1,-5367.1,-5368.0,-5368.4,-5360.5,-5360.5,-5361.3,-5362.3,-5363.0,-5360.7],\"type\":\"scatter\"}],                        {\"template\":{\"data\":{\"barpolar\":[{\"marker\":{\"line\":{\"color\":\"#E5ECF6\",\"width\":0.5},\"pattern\":{\"fillmode\":\"overlay\",\"size\":10,\"solidity\":0.2}},\"type\":\"barpolar\"}],\"bar\":[{\"error_x\":{\"color\":\"#2a3f5f\"},\"error_y\":{\"color\":\"#2a3f5f\"},\"marker\":{\"line\":{\"color\":\"#E5ECF6\",\"width\":0.5},\"pattern\":{\"fillmode\":\"overlay\",\"size\":10,\"solidity\":0.2}},\"type\":\"bar\"}],\"carpet\":[{\"aaxis\":{\"endlinecolor\":\"#2a3f5f\",\"gridcolor\":\"white\",\"linecolor\":\"white\",\"minorgridcolor\":\"white\",\"startlinecolor\":\"#2a3f5f\"},\"baxis\":{\"endlinecolor\":\"#2a3f5f\",\"gridcolor\":\"white\",\"linecolor\":\"white\",\"minorgridcolor\":\"white\",\"startlinecolor\":\"#2a3f5f\"},\"type\":\"carpet\"}],\"choropleth\":[{\"colorbar\":{\"outlinewidth\":0,\"ticks\":\"\"},\"type\":\"choropleth\"}],\"contourcarpet\":[{\"colorbar\":{\"outlinewidth\":0,\"ticks\":\"\"},\"type\":\"contourcarpet\"}],\"contour\":[{\"colorbar\":{\"outlinewidth\":0,\"ticks\":\"\"},\"colorscale\":[[0.0,\"#0d0887\"],[0.1111111111111111,\"#46039f\"],[0.2222222222222222,\"#7201a8\"],[0.3333333333333333,\"#9c179e\"],[0.4444444444444444,\"#bd3786\"],[0.5555555555555556,\"#d8576b\"],[0.6666666666666666,\"#ed7953\"],[0.7777777777777778,\"#fb9f3a\"],[0.8888888888888888,\"#fdca26\"],[1.0,\"#f0f921\"]],\"type\":\"contour\"}],\"heatmapgl\":[{\"colorbar\":{\"outlinewidth\":0,\"ticks\":\"\"},\"colorscale\":[[0.0,\"#0d0887\"],[0.1111111111111111,\"#46039f\"],[0.2222222222222222,\"#7201a8\"],[0.3333333333333333,\"#9c179e\"],[0.4444444444444444,\"#bd3786\"],[0.5555555555555556,\"#d8576b\"],[0.6666666666666666,\"#ed7953\"],[0.7777777777777778,\"#fb9f3a\"],[0.8888888888888888,\"#fdca26\"],[1.0,\"#f0f921\"]],\"type\":\"heatmapgl\"}],\"heatmap\":[{\"colorbar\":{\"outlinewidth\":0,\"ticks\":\"\"},\"colorscale\":[[0.0,\"#0d0887\"],[0.1111111111111111,\"#46039f\"],[0.2222222222222222,\"#7201a8\"],[0.3333333333333333,\"#9c179e\"],[0.4444444444444444,\"#bd3786\"],[0.5555555555555556,\"#d8576b\"],[0.6666666666666666,\"#ed7953\"],[0.7777777777777778,\"#fb9f3a\"],[0.8888888888888888,\"#fdca26\"],[1.0,\"#f0f921\"]],\"type\":\"heatmap\"}],\"histogram2dcontour\":[{\"colorbar\":{\"outlinewidth\":0,\"ticks\":\"\"},\"colorscale\":[[0.0,\"#0d0887\"],[0.1111111111111111,\"#46039f\"],[0.2222222222222222,\"#7201a8\"],[0.3333333333333333,\"#9c179e\"],[0.4444444444444444,\"#bd3786\"],[0.5555555555555556,\"#d8576b\"],[0.6666666666666666,\"#ed7953\"],[0.7777777777777778,\"#fb9f3a\"],[0.8888888888888888,\"#fdca26\"],[1.0,\"#f0f921\"]],\"type\":\"histogram2dcontour\"}],\"histogram2d\":[{\"colorbar\":{\"outlinewidth\":0,\"ticks\":\"\"},\"colorscale\":[[0.0,\"#0d0887\"],[0.1111111111111111,\"#46039f\"],[0.2222222222222222,\"#7201a8\"],[0.3333333333333333,\"#9c179e\"],[0.4444444444444444,\"#bd3786\"],[0.5555555555555556,\"#d8576b\"],[0.6666666666666666,\"#ed7953\"],[0.7777777777777778,\"#fb9f3a\"],[0.8888888888888888,\"#fdca26\"],[1.0,\"#f0f921\"]],\"type\":\"histogram2d\"}],\"histogram\":[{\"marker\":{\"pattern\":{\"fillmode\":\"overlay\",\"size\":10,\"solidity\":0.2}},\"type\":\"histogram\"}],\"mesh3d\":[{\"colorbar\":{\"outlinewidth\":0,\"ticks\":\"\"},\"type\":\"mesh3d\"}],\"parcoords\":[{\"line\":{\"colorbar\":{\"outlinewidth\":0,\"ticks\":\"\"}},\"type\":\"parcoords\"}],\"pie\":[{\"automargin\":true,\"type\":\"pie\"}],\"scatter3d\":[{\"line\":{\"colorbar\":{\"outlinewidth\":0,\"ticks\":\"\"}},\"marker\":{\"colorbar\":{\"outlinewidth\":0,\"ticks\":\"\"}},\"type\":\"scatter3d\"}],\"scattercarpet\":[{\"marker\":{\"colorbar\":{\"outlinewidth\":0,\"ticks\":\"\"}},\"type\":\"scattercarpet\"}],\"scattergeo\":[{\"marker\":{\"colorbar\":{\"outlinewidth\":0,\"ticks\":\"\"}},\"type\":\"scattergeo\"}],\"scattergl\":[{\"marker\":{\"colorbar\":{\"outlinewidth\":0,\"ticks\":\"\"}},\"type\":\"scattergl\"}],\"scattermapbox\":[{\"marker\":{\"colorbar\":{\"outlinewidth\":0,\"ticks\":\"\"}},\"type\":\"scattermapbox\"}],\"scatterpolargl\":[{\"marker\":{\"colorbar\":{\"outlinewidth\":0,\"ticks\":\"\"}},\"type\":\"scatterpolargl\"}],\"scatterpolar\":[{\"marker\":{\"colorbar\":{\"outlinewidth\":0,\"ticks\":\"\"}},\"type\":\"scatterpolar\"}],\"scatter\":[{\"marker\":{\"colorbar\":{\"outlinewidth\":0,\"ticks\":\"\"}},\"type\":\"scatter\"}],\"scatterternary\":[{\"marker\":{\"colorbar\":{\"outlinewidth\":0,\"ticks\":\"\"}},\"type\":\"scatterternary\"}],\"surface\":[{\"colorbar\":{\"outlinewidth\":0,\"ticks\":\"\"},\"colorscale\":[[0.0,\"#0d0887\"],[0.1111111111111111,\"#46039f\"],[0.2222222222222222,\"#7201a8\"],[0.3333333333333333,\"#9c179e\"],[0.4444444444444444,\"#bd3786\"],[0.5555555555555556,\"#d8576b\"],[0.6666666666666666,\"#ed7953\"],[0.7777777777777778,\"#fb9f3a\"],[0.8888888888888888,\"#fdca26\"],[1.0,\"#f0f921\"]],\"type\":\"surface\"}],\"table\":[{\"cells\":{\"fill\":{\"color\":\"#EBF0F8\"},\"line\":{\"color\":\"white\"}},\"header\":{\"fill\":{\"color\":\"#C8D4E3\"},\"line\":{\"color\":\"white\"}},\"type\":\"table\"}]},\"layout\":{\"annotationdefaults\":{\"arrowcolor\":\"#2a3f5f\",\"arrowhead\":0,\"arrowwidth\":1},\"autotypenumbers\":\"strict\",\"coloraxis\":{\"colorbar\":{\"outlinewidth\":0,\"ticks\":\"\"}},\"colorscale\":{\"diverging\":[[0,\"#8e0152\"],[0.1,\"#c51b7d\"],[0.2,\"#de77ae\"],[0.3,\"#f1b6da\"],[0.4,\"#fde0ef\"],[0.5,\"#f7f7f7\"],[0.6,\"#e6f5d0\"],[0.7,\"#b8e186\"],[0.8,\"#7fbc41\"],[0.9,\"#4d9221\"],[1,\"#276419\"]],\"sequential\":[[0.0,\"#0d0887\"],[0.1111111111111111,\"#46039f\"],[0.2222222222222222,\"#7201a8\"],[0.3333333333333333,\"#9c179e\"],[0.4444444444444444,\"#bd3786\"],[0.5555555555555556,\"#d8576b\"],[0.6666666666666666,\"#ed7953\"],[0.7777777777777778,\"#fb9f3a\"],[0.8888888888888888,\"#fdca26\"],[1.0,\"#f0f921\"]],\"sequentialminus\":[[0.0,\"#0d0887\"],[0.1111111111111111,\"#46039f\"],[0.2222222222222222,\"#7201a8\"],[0.3333333333333333,\"#9c179e\"],[0.4444444444444444,\"#bd3786\"],[0.5555555555555556,\"#d8576b\"],[0.6666666666666666,\"#ed7953\"],[0.7777777777777778,\"#fb9f3a\"],[0.8888888888888888,\"#fdca26\"],[1.0,\"#f0f921\"]]},\"colorway\":[\"#636efa\",\"#EF553B\",\"#00cc96\",\"#ab63fa\",\"#FFA15A\",\"#19d3f3\",\"#FF6692\",\"#B6E880\",\"#FF97FF\",\"#FECB52\"],\"font\":{\"color\":\"#2a3f5f\"},\"geo\":{\"bgcolor\":\"white\",\"lakecolor\":\"white\",\"landcolor\":\"#E5ECF6\",\"showlakes\":true,\"showland\":true,\"subunitcolor\":\"white\"},\"hoverlabel\":{\"align\":\"left\"},\"hovermode\":\"closest\",\"mapbox\":{\"style\":\"light\"},\"paper_bgcolor\":\"white\",\"plot_bgcolor\":\"#E5ECF6\",\"polar\":{\"angularaxis\":{\"gridcolor\":\"white\",\"linecolor\":\"white\",\"ticks\":\"\"},\"bgcolor\":\"#E5ECF6\",\"radialaxis\":{\"gridcolor\":\"white\",\"linecolor\":\"white\",\"ticks\":\"\"}},\"scene\":{\"xaxis\":{\"backgroundcolor\":\"#E5ECF6\",\"gridcolor\":\"white\",\"gridwidth\":2,\"linecolor\":\"white\",\"showbackground\":true,\"ticks\":\"\",\"zerolinecolor\":\"white\"},\"yaxis\":{\"backgroundcolor\":\"#E5ECF6\",\"gridcolor\":\"white\",\"gridwidth\":2,\"linecolor\":\"white\",\"showbackground\":true,\"ticks\":\"\",\"zerolinecolor\":\"white\"},\"zaxis\":{\"backgroundcolor\":\"#E5ECF6\",\"gridcolor\":\"white\",\"gridwidth\":2,\"linecolor\":\"white\",\"showbackground\":true,\"ticks\":\"\",\"zerolinecolor\":\"white\"}},\"shapedefaults\":{\"line\":{\"color\":\"#2a3f5f\"}},\"ternary\":{\"aaxis\":{\"gridcolor\":\"white\",\"linecolor\":\"white\",\"ticks\":\"\"},\"baxis\":{\"gridcolor\":\"white\",\"linecolor\":\"white\",\"ticks\":\"\"},\"bgcolor\":\"#E5ECF6\",\"caxis\":{\"gridcolor\":\"white\",\"linecolor\":\"white\",\"ticks\":\"\"}},\"title\":{\"x\":0.05},\"xaxis\":{\"automargin\":true,\"gridcolor\":\"white\",\"linecolor\":\"white\",\"ticks\":\"\",\"title\":{\"standoff\":15},\"zerolinecolor\":\"white\",\"zerolinewidth\":2},\"yaxis\":{\"automargin\":true,\"gridcolor\":\"white\",\"linecolor\":\"white\",\"ticks\":\"\",\"title\":{\"standoff\":15},\"zerolinecolor\":\"white\",\"zerolinewidth\":2}}},\"title\":{\"text\":\"Energy Minimization\"},\"xaxis\":{\"title\":{\"text\":\"Energy Minimization Step\"}},\"yaxis\":{\"title\":{\"text\":\"Potential Energy kcal/mol\"}}},                        {\"responsive\": true}                    ).then(function(){\n",
       "                            \n",
       "var gd = document.getElementById('d962240a-f210-4c95-a8d0-b0f598e36574');\n",
       "var x = new MutationObserver(function (mutations, observer) {{\n",
       "        var display = window.getComputedStyle(gd).display;\n",
       "        if (!display || display === 'none') {{\n",
       "            console.log([gd, 'removed!']);\n",
       "            Plotly.purge(gd);\n",
       "            observer.disconnect();\n",
       "        }}\n",
       "}});\n",
       "\n",
       "// Listen for the removal of the full notebook cells\n",
       "var notebookContainer = gd.closest('#notebook-container');\n",
       "if (notebookContainer) {{\n",
       "    x.observe(notebookContainer, {childList: true});\n",
       "}}\n",
       "\n",
       "// Listen for the clearing of the current output cell\n",
       "var outputEl = gd.closest('.output');\n",
       "if (outputEl) {{\n",
       "    x.observe(outputEl, {childList: true});\n",
       "}}\n",
       "\n",
       "                        })                };                });            </script>        </div>"
      ]
     },
     "metadata": {},
     "output_type": "display_data"
    }
   ],
   "source": [
    "from biobb_amber.process.process_minout import process_minout\n",
    "\n",
    "process_minout(input_log_path  = f'{TMP_DIR}/sander.minH.log',\n",
    "               output_dat_path = f'{TMP_DIR}/sander.minH.dat',\n",
    "               properties      = {'terms': ['ENERGY']})\n",
    "\n",
    "with open(f'{TMP_DIR}/sander.minH.dat', 'r') as energy_file:\n",
    "    x,y = map(\n",
    "        list,\n",
    "        zip(*[\n",
    "            (float(line.split()[0]),float(line.split()[1]))\n",
    "            for line in energy_file \n",
    "            if not line.startswith((\"#\",\"@\")) \n",
    "            if float(line.split()[1]) < 1000 \n",
    "        ])\n",
    "    )\n",
    "\n",
    "plotly.offline.init_notebook_mode(connected=True)\n",
    "\n",
    "fig = {\n",
    "    \"data\": [go.Scatter(x=x, y=y)],\n",
    "    \"layout\": go.Layout(title=\"Energy Minimization\",\n",
    "                        xaxis=dict(title = \"Energy Minimization Step\"),\n",
    "                        yaxis=dict(title = \"Potential Energy kcal/mol\")\n",
    "                       )\n",
    "}\n",
    "\n",
    "plotly.offline.iplot(fig)"
   ]
  },
  {
   "cell_type": "markdown",
   "id": "d9621f4b",
   "metadata": {},
   "source": [
    "## Solvate the system\n",
    "\n",
    "- `water_type` = `tip3p` water model\n",
    "- `box_type` = truncated octahedron \n",
    "- padding distance of 1.2 Å."
   ]
  },
  {
   "cell_type": "code",
   "execution_count": 8,
   "id": "91ae1e98",
   "metadata": {},
   "outputs": [
    {
     "name": "stdout",
     "output_type": "stream",
     "text": [
      "-I: Adding /Users/joelricci/miniconda/envs/biobb/dat/leap/prep to search path.\n",
      "-I: Adding /Users/joelricci/miniconda/envs/biobb/dat/leap/lib to search path.\n",
      "-I: Adding /Users/joelricci/miniconda/envs/biobb/dat/leap/parm to search path.\n",
      "-I: Adding /Users/joelricci/miniconda/envs/biobb/dat/leap/cmd to search path.\n",
      "-f: Source ./../data/md_system_prep/ETA_systems/4fku/4fku-ETA_intermediate_files/leap_prep_SOLV.in.\n",
      "\n",
      "Welcome to LEaP!\n",
      "(no leaprc in search path)\n",
      "Sourcing: ./../data/md_system_prep/ETA_systems/4fku/4fku-ETA_intermediate_files/leap_prep_SOLV.in\n",
      "----- Source: /Users/joelricci/miniconda/envs/biobb/dat/leap/cmd/leaprc.protein.ff14SB\n",
      "----- Source of /Users/joelricci/miniconda/envs/biobb/dat/leap/cmd/leaprc.protein.ff14SB done\n",
      "Log file: ./leap.log\n",
      "Loading parameters: /Users/joelricci/miniconda/envs/biobb/dat/leap/parm/parm10.dat\n",
      "Reading title:\n",
      "PARM99 + frcmod.ff99SB + frcmod.parmbsc0 + OL3 for RNA\n",
      "Loading parameters: /Users/joelricci/miniconda/envs/biobb/dat/leap/parm/frcmod.ff14SB\n",
      "Reading force field modification type file (frcmod)\n",
      "Reading title:\n",
      "ff14SB protein backbone and sidechain parameters\n",
      "Loading library: /Users/joelricci/miniconda/envs/biobb/dat/leap/lib/amino12.lib\n",
      "Loading library: /Users/joelricci/miniconda/envs/biobb/dat/leap/lib/aminoct12.lib\n",
      "Loading library: /Users/joelricci/miniconda/envs/biobb/dat/leap/lib/aminont12.lib\n",
      "----- Source: /Users/joelricci/miniconda/envs/biobb/dat/leap/cmd/leaprc.gaff\n",
      "----- Source of /Users/joelricci/miniconda/envs/biobb/dat/leap/cmd/leaprc.gaff done\n",
      "Log file: ./leap.log\n",
      "Loading parameters: /Users/joelricci/miniconda/envs/biobb/dat/leap/parm/gaff.dat\n",
      "Reading title:\n",
      "AMBER General Force Field for organic molecules (Version 1.81, May 2017)\n",
      "----- Source: /Users/joelricci/miniconda/envs/biobb/dat/leap/cmd/leaprc.water.tip3p\n",
      "----- Source of /Users/joelricci/miniconda/envs/biobb/dat/leap/cmd/leaprc.water.tip3p done\n",
      "Loading library: /Users/joelricci/miniconda/envs/biobb/dat/leap/lib/atomic_ions.lib\n",
      "Loading library: /Users/joelricci/miniconda/envs/biobb/dat/leap/lib/solvents.lib\n",
      "Loading parameters: /Users/joelricci/miniconda/envs/biobb/dat/leap/parm/frcmod.tip3p\n",
      "Reading force field modification type file (frcmod)\n",
      "Reading title:\n",
      "This is the additional/replacement parameter set for TIP3P water\n",
      "Loading parameters: /Users/joelricci/miniconda/envs/biobb/dat/leap/parm/frcmod.ions1lm_126_tip3p\n",
      "Reading force field modification type file (frcmod)\n",
      "Reading title:\n",
      "Li/Merz ion parameters of monovalent ions for TIP3P water model (12-6 normal usage set)\n",
      "Loading parameters: /Users/joelricci/miniconda/envs/biobb/dat/leap/parm/frcmod.ionsjc_tip3p\n",
      "Reading force field modification type file (frcmod)\n",
      "Reading title:\n",
      "Monovalent ion parameters for Ewald and TIP3P water from Joung & Cheatham JPCB (2008)\n",
      "Loading parameters: /Users/joelricci/miniconda/envs/biobb/dat/leap/parm/frcmod.ions234lm_126_tip3p\n",
      "Reading force field modification type file (frcmod)\n",
      "Reading title:\n",
      "Li/Merz ion parameters of divalent to tetravalent ions for TIP3P water model (12-6 normal usage set)\n",
      "Loading parameters: /Users/joelricci/miniconda/envs/biobb/dat/leap/parm/frcmod.ionsjc_tip3p\n",
      "Reading force field modification type file (frcmod)\n",
      "Reading title:\n",
      "Monovalent ion parameters for Ewald and TIP3P water from Joung & Cheatham JPCB (2008)\n",
      "Loading library: ../data/cosolvent_libs//ETAWAT20.off\n",
      "Loading PDB file: ./../data/md_system_prep/ETA_systems/4fku/4fku-ETA_intermediate_files/SYSTEM.minH.pdb\n",
      "  total atoms in file: 4848\n",
      "Scaling up box by a factor of 1.311014 to meet diagonal cut criterion\n",
      "  Solute vdw bounding box:              51.530 44.215 66.927\n",
      "  Total bounding box for atom centers:  98.391 98.391 98.391\n",
      "      (box expansion for 'iso' is  54.1%)\n",
      "  Solvent unit box:                     19.990 19.990 19.990\n",
      "  Volume: 490918.231 A^3 (oct)\n",
      "  Total mass 253634.938 amu,  Density 0.858 g/cc\n",
      "  Added 11041 residues.\n",
      "Writing pdb file: ./../data/md_system_prep/ETA_systems/4fku/4fku-ETA_intermediate_files/SOLV.pdb\n",
      "   printing CRYST1 record to PDB file with box info\n",
      "\n",
      "/Users/joelricci/miniconda/envs/biobb/bin/teLeap: Warning!\n",
      " Converting N-terminal residue name to PDB format: NMET -> MET\n",
      "\n",
      "/Users/joelricci/miniconda/envs/biobb/bin/teLeap: Warning!\n",
      " Converting C-terminal residue name to PDB format: CLEU -> LEU\n",
      "Checking 'system'....\n",
      "\n",
      "/Users/joelricci/miniconda/envs/biobb/bin/teLeap: Warning!\n",
      "The unperturbed charge of the unit (4.000000) is not zero.\n",
      "Checking parameters for unit 'system'.\n",
      "Checking for bond parameters.\n",
      "Checking for angle parameters.\n",
      "check:  Warnings: 1\n",
      "Unit is OK.\n",
      "Total unperturbed charge:   4.000000\n",
      "Total perturbed charge:     4.000000\n",
      "Checking Unit.\n",
      "\n",
      "/Users/joelricci/miniconda/envs/biobb/bin/teLeap: Warning!\n",
      "The unperturbed charge of the unit (4.000000) is not zero.\n",
      "\n",
      "/Users/joelricci/miniconda/envs/biobb/bin/teLeap: Note.\n",
      "Ignoring the warning from Unit Checking.\n",
      "\n",
      "Building topology.\n",
      "Building atom parameters.\n",
      "Building bond parameters.\n",
      "Building angle parameters.\n",
      "Building proper torsion parameters.\n",
      "Building improper torsion parameters.\n",
      " total 958 improper torsions applied\n",
      "Building H-Bond parameters.\n",
      "Incorporating Non-Bonded adjustments.\n",
      "Not Marking per-residue atom chain types.\n",
      "Marking per-residue atom chain types.\n",
      "  (Residues lacking connect0/connect1 - \n",
      "   these don't have chain types marked:\n",
      "\n",
      "\tres\ttotal affected\n",
      "\n",
      "\tCLEU\t1\n",
      "\tETA\t741\n",
      "\tNMET\t1\n",
      "\tWAT\t10300\n",
      "  )\n",
      " (no restraints)\n",
      "\tQuit\n",
      "\n",
      "Exiting LEaP: Errors = 0; Warnings = 4; Notes = 1.\n",
      "\n",
      "None\n"
     ]
    }
   ],
   "source": [
    "from helper_modules.prepare_md_system import run_leap_solv\n",
    "OUT_PL_SOLV  = 'SOLV'\n",
    "run_leap_solv(input_basename  = OUT_MIN_SYSTEM,\n",
    "              output_basename = OUT_PL_SOLV, \n",
    "              box_padding     = BOX_PADDING,\n",
    "              solvent_type    = SOLVENT_TYPE,\n",
    "              input_ligand_basename = None,\n",
    "              tmp_dir = TMP_DIR)"
   ]
  },
  {
   "cell_type": "markdown",
   "id": "0b9ceee9",
   "metadata": {},
   "source": [
    "## Adding ions\n",
    "- Get the number of water molecules inside the system\n",
    "- In this example, the **net charge** of the protein is <mark>-4</mark>.\n",
    "- To Neutralize the system, four `Cl-` atoms need to be added.\n"
   ]
  },
  {
   "cell_type": "markdown",
   "id": "7a00be51",
   "metadata": {},
   "source": [
    "- To achieve a `ION_MOLAR` = $0.15 M$ of NaCl we employed the following computation:\n",
    "    - `N_WATERS` / (55.3419 * `ION_MOLAR`)"
   ]
  },
  {
   "cell_type": "code",
   "execution_count": 9,
   "id": "363b2d07",
   "metadata": {},
   "outputs": [
    {
     "name": "stdout",
     "output_type": "stream",
     "text": [
      "Number of water molecules: 10300\n"
     ]
    },
    {
     "data": {
      "text/plain": [
       "27"
      ]
     },
     "execution_count": 9,
     "metadata": {},
     "output_type": "execute_result"
    }
   ],
   "source": [
    "from helper_modules.prepare_md_system import run_count_water_molecules\n",
    "\n",
    "n_waters = run_count_water_molecules(f'{TMP_DIR}/{OUT_PL_SOLV}.pdb')\n",
    "print('Number of water molecules:', n_waters)\n",
    "\n",
    "w_molar_mass  = 18.01528 # g/mol\n",
    "w_density     = 0.997    # g/mL\n",
    "n_wat_mols_1L = (w_density / w_molar_mass) * 1000 # nW/L\n",
    "n_ions        = int(n_waters / n_wat_mols_1L * ION_MOLAR) # nIONS\n",
    "n_ions"
   ]
  },
  {
   "cell_type": "markdown",
   "id": "851f35b9",
   "metadata": {},
   "source": [
    "### Neutralize the system with `NaCl`"
   ]
  },
  {
   "cell_type": "code",
   "execution_count": 10,
   "id": "38467b4c",
   "metadata": {},
   "outputs": [
    {
     "name": "stdout",
     "output_type": "stream",
     "text": [
      "-I: Adding /Users/joelricci/miniconda/envs/biobb/dat/leap/prep to search path.\n",
      "-I: Adding /Users/joelricci/miniconda/envs/biobb/dat/leap/lib to search path.\n",
      "-I: Adding /Users/joelricci/miniconda/envs/biobb/dat/leap/parm to search path.\n",
      "-I: Adding /Users/joelricci/miniconda/envs/biobb/dat/leap/cmd to search path.\n",
      "-f: Source ./../data/md_system_prep/ETA_systems/4fku/4fku-ETA_intermediate_files/leap_prep_NEUTRAL.in.\n",
      "\n",
      "Welcome to LEaP!\n",
      "(no leaprc in search path)\n",
      "Sourcing: ./../data/md_system_prep/ETA_systems/4fku/4fku-ETA_intermediate_files/leap_prep_NEUTRAL.in\n",
      "----- Source: /Users/joelricci/miniconda/envs/biobb/dat/leap/cmd/leaprc.protein.ff14SB\n",
      "----- Source of /Users/joelricci/miniconda/envs/biobb/dat/leap/cmd/leaprc.protein.ff14SB done\n",
      "Log file: ./leap.log\n",
      "Loading parameters: /Users/joelricci/miniconda/envs/biobb/dat/leap/parm/parm10.dat\n",
      "Reading title:\n",
      "PARM99 + frcmod.ff99SB + frcmod.parmbsc0 + OL3 for RNA\n",
      "Loading parameters: /Users/joelricci/miniconda/envs/biobb/dat/leap/parm/frcmod.ff14SB\n",
      "Reading force field modification type file (frcmod)\n",
      "Reading title:\n",
      "ff14SB protein backbone and sidechain parameters\n",
      "Loading library: /Users/joelricci/miniconda/envs/biobb/dat/leap/lib/amino12.lib\n",
      "Loading library: /Users/joelricci/miniconda/envs/biobb/dat/leap/lib/aminoct12.lib\n",
      "Loading library: /Users/joelricci/miniconda/envs/biobb/dat/leap/lib/aminont12.lib\n",
      "----- Source: /Users/joelricci/miniconda/envs/biobb/dat/leap/cmd/leaprc.gaff\n",
      "----- Source of /Users/joelricci/miniconda/envs/biobb/dat/leap/cmd/leaprc.gaff done\n",
      "Log file: ./leap.log\n",
      "Loading parameters: /Users/joelricci/miniconda/envs/biobb/dat/leap/parm/gaff.dat\n",
      "Reading title:\n",
      "AMBER General Force Field for organic molecules (Version 1.81, May 2017)\n",
      "----- Source: /Users/joelricci/miniconda/envs/biobb/dat/leap/cmd/leaprc.water.tip3p\n",
      "----- Source of /Users/joelricci/miniconda/envs/biobb/dat/leap/cmd/leaprc.water.tip3p done\n",
      "Loading library: /Users/joelricci/miniconda/envs/biobb/dat/leap/lib/atomic_ions.lib\n",
      "Loading library: /Users/joelricci/miniconda/envs/biobb/dat/leap/lib/solvents.lib\n",
      "Loading parameters: /Users/joelricci/miniconda/envs/biobb/dat/leap/parm/frcmod.tip3p\n",
      "Reading force field modification type file (frcmod)\n",
      "Reading title:\n",
      "This is the additional/replacement parameter set for TIP3P water\n",
      "Loading parameters: /Users/joelricci/miniconda/envs/biobb/dat/leap/parm/frcmod.ions1lm_126_tip3p\n",
      "Reading force field modification type file (frcmod)\n",
      "Reading title:\n",
      "Li/Merz ion parameters of monovalent ions for TIP3P water model (12-6 normal usage set)\n",
      "Loading parameters: /Users/joelricci/miniconda/envs/biobb/dat/leap/parm/frcmod.ionsjc_tip3p\n",
      "Reading force field modification type file (frcmod)\n",
      "Reading title:\n",
      "Monovalent ion parameters for Ewald and TIP3P water from Joung & Cheatham JPCB (2008)\n",
      "Loading parameters: /Users/joelricci/miniconda/envs/biobb/dat/leap/parm/frcmod.ions234lm_126_tip3p\n",
      "Reading force field modification type file (frcmod)\n",
      "Reading title:\n",
      "Li/Merz ion parameters of divalent to tetravalent ions for TIP3P water model (12-6 normal usage set)\n",
      "Loading parameters: /Users/joelricci/miniconda/envs/biobb/dat/leap/parm/frcmod.ionsjc_tip3p\n",
      "Reading force field modification type file (frcmod)\n",
      "Reading title:\n",
      "Monovalent ion parameters for Ewald and TIP3P water from Joung & Cheatham JPCB (2008)\n",
      "Loading library: ../data/cosolvent_libs//ETAWAT20.off\n",
      "Loading PDB file: ./../data/md_system_prep/ETA_systems/4fku/4fku-ETA_intermediate_files/SOLV.pdb\n",
      "  total atoms in file: 42417\n",
      "Adding 58 counter ions to \"system\". 10242 solvent molecules will remain.\n",
      "0: Placed Na+ in system at (-19.21, -36.00, 1.06).\n",
      "Placed Cl- in system at (26.96, -19.68, 1.06).\n",
      "0: Placed Na+ in system at (26.66, 9.53, 18.54).\n",
      "Placed Cl- in system at (34.34, -10.81, -4.46).\n",
      "0: Placed Na+ in system at (36.67, -4.73, -28.07).\n",
      "Placed Cl- in system at (3.66, 27.87, 32.06).\n",
      "0: Placed Na+ in system at (-39.57, 9.89, 1.09).\n",
      "Placed Cl- in system at (-18.54, -24.81, -27.14).\n",
      "0: Placed Na+ in system at (-22.06, 8.57, -35.16).\n",
      "Placed Cl- in system at (-25.22, -6.34, -36.47).\n",
      "0: Placed Na+ in system at (11.72, -4.51, -14.05).\n",
      "Placed Cl- in system at (-1.05, 34.35, 23.95).\n",
      "0: Placed Na+ in system at (-12.80, -38.98, -22.34).\n",
      "Placed Cl- in system at (2.08, -26.05, -10.21).\n",
      "0: Placed Na+ in system at (-18.44, 15.43, 12.14).\n",
      "Placed Cl- in system at (34.80, 3.65, 0.09).\n",
      "0: Placed Na+ in system at (31.18, 10.17, 21.19).\n",
      "Placed Cl- in system at (-36.09, -24.81, 16.38).\n",
      "0: Placed Na+ in system at (12.86, -25.96, -32.76).\n",
      "Placed Cl- in system at (-13.67, -3.61, -20.23).\n",
      "0: Placed Na+ in system at (15.85, 30.14, 10.35).\n",
      "Placed Cl- in system at (-38.44, 29.94, 10.89).\n",
      "0: Placed Na+ in system at (-15.47, -26.60, 12.18).\n",
      "Placed Cl- in system at (4.55, -14.73, -32.75).\n",
      "0: Placed Na+ in system at (-28.89, -27.22, 19.66).\n",
      "Placed Cl- in system at (-12.56, 34.36, -15.72).\n",
      "0: Placed Na+ in system at (-20.14, 0.17, 10.23).\n",
      "Placed Cl- in system at (-20.26, 18.77, -1.29).\n",
      "0: Placed Na+ in system at (-10.22, 39.33, -4.49).\n",
      "Placed Cl- in system at (-2.19, -33.31, 27.43).\n",
      "0: Placed Na+ in system at (-12.32, -40.59, -20.60).\n",
      "Placed Cl- in system at (30.46, -1.91, -12.39).\n",
      "0: Placed Na+ in system at (7.73, -2.71, -45.65).\n",
      "Placed Cl- in system at (12.86, -1.48, -18.62).\n",
      "0: Placed Na+ in system at (37.73, -1.69, 23.60).\n",
      "Placed Cl- in system at (-26.43, -39.80, 7.15).\n",
      "0: Placed Na+ in system at (-15.05, -47.06, 2.84).\n",
      "Placed Cl- in system at (-24.42, -7.32, -26.36).\n",
      "0: Placed Na+ in system at (12.94, -26.47, 36.52).\n",
      "Placed Cl- in system at (-0.87, 18.53, 37.43).\n",
      "0: Placed Na+ in system at (23.50, -13.83, -17.42).\n",
      "Placed Cl- in system at (-24.42, -7.32, 1.91).\n",
      "0: Placed Na+ in system at (21.00, -5.01, -39.25).\n",
      "Placed Cl- in system at (-13.20, 14.11, 43.37).\n",
      "0: Placed Na+ in system at (-14.28, 22.95, 7.85).\n",
      "Placed Cl- in system at (-15.47, 22.36, 12.18).\n",
      "0: Placed Na+ in system at (30.16, 27.27, 13.59).\n",
      "Placed Cl- in system at (5.67, -22.01, -38.25).\n",
      "0: Placed Na+ in system at (-20.46, 12.24, 6.10).\n",
      "Placed Cl- in system at (-4.31, -26.11, -7.06).\n",
      "0: Placed Na+ in system at (-26.52, -13.01, -16.14).\n",
      "Placed Cl- in system at (28.15, -26.90, 8.51).\n",
      "0: Placed Na+ in system at (34.44, 31.00, 18.71).\n",
      "Placed Cl- in system at (-25.16, 27.64, -10.98).\n",
      "Placed Cl- in system at (-18.53, -5.05, 25.25).\n",
      "Placed Cl- in system at (17.52, 11.38, 26.73).\n",
      "Placed Cl- in system at (5.73, -27.22, -8.61).\n",
      "Placed Cl- in system at (-6.11, 9.98, 36.21).\n",
      "Box dimensions:  88.323600 102.422300 105.469600\n",
      "Checking 'system'....\n",
      "Checking parameters for unit 'system'.\n",
      "Checking for bond parameters.\n",
      "Checking for angle parameters.\n",
      "Unit is OK.\n",
      "Total unperturbed charge:  -0.000000\n",
      "Total perturbed charge:    -0.000000\n",
      "Writing pdb file: ./../data/md_system_prep/ETA_systems/4fku/4fku-ETA_intermediate_files/NEUTRAL.pdb\n",
      "   printing CRYST1 record to PDB file with box info\n",
      "\n",
      "/Users/joelricci/miniconda/envs/biobb/bin/teLeap: Warning!\n",
      " Converting N-terminal residue name to PDB format: NMET -> MET\n",
      "\n",
      "/Users/joelricci/miniconda/envs/biobb/bin/teLeap: Warning!\n",
      " Converting C-terminal residue name to PDB format: CLEU -> LEU\n",
      "Checking Unit.\n",
      "Building topology.\n",
      "Building atom parameters.\n",
      "Building bond parameters.\n",
      "Building angle parameters.\n",
      "Building proper torsion parameters.\n",
      "Building improper torsion parameters.\n",
      " total 958 improper torsions applied\n",
      "Building H-Bond parameters.\n",
      "Incorporating Non-Bonded adjustments.\n",
      "Not Marking per-residue atom chain types.\n",
      "Marking per-residue atom chain types.\n",
      "  (Residues lacking connect0/connect1 - \n",
      "   these don't have chain types marked:\n",
      "\n",
      "\tres\ttotal affected\n",
      "\n",
      "\tCLEU\t1\n",
      "\tETA\t741\n",
      "\tNMET\t1\n",
      "\tWAT\t10242\n",
      "  )\n",
      " (no restraints)\n",
      "\tQuit\n",
      "\n",
      "Exiting LEaP: Errors = 0; Warnings = 2; Notes = 0.\n",
      "\n",
      "None\n"
     ]
    }
   ],
   "source": [
    "from helper_modules.prepare_md_system import run_leap_neutralization\n",
    "OUT_PL_NEUTRAL = 'NEUTRAL'\n",
    "run_leap_neutralization(input_basename    = OUT_PL_SOLV, \n",
    "                        output_basename   = OUT_PL_NEUTRAL, \n",
    "                        tmp_dir           = TMP_DIR, \n",
    "                        solvent_type      = SOLVENT_TYPE,\n",
    "                        ion_concentration = ION_MOLAR)"
   ]
  },
  {
   "cell_type": "code",
   "execution_count": 11,
   "id": "a0097726",
   "metadata": {},
   "outputs": [
    {
     "data": {
      "application/vnd.jupyter.widget-view+json": {
       "model_id": "a59e5561b8e84f88b13178abadcd6f09",
       "version_major": 2,
       "version_minor": 0
      },
      "text/plain": [
       "NGLWidget()"
      ]
     },
     "metadata": {},
     "output_type": "display_data"
    }
   ],
   "source": [
    "view = nglview.show_structure_file(f'{TMP_DIR}/{OUT_PL_NEUTRAL}.pdb')\n",
    "view.clear_representations()\n",
    "view.add_representation(repr_type ='cartoon', selection='protein')\n",
    "view.add_representation(repr_type ='line', selection=SOLVENT)\n",
    "view.add_representation(repr_type ='spacefill', selection='Cl- Na+')\n",
    "view._remote_call('setSize', target='Widget', args=['','600px'])\n",
    "\n",
    "view"
   ]
  },
  {
   "cell_type": "markdown",
   "id": "139e8e5c",
   "metadata": {},
   "source": [
    "### Center the solvate system to the origin"
   ]
  },
  {
   "cell_type": "code",
   "execution_count": 12,
   "id": "b3e1c38b",
   "metadata": {},
   "outputs": [
    {
     "name": "stdout",
     "output_type": "stream",
     "text": [
      "Moving system to origin (43.96, 50.91, 52.44) -> (0,0,0)\n"
     ]
    }
   ],
   "source": [
    "from helper_modules.prepare_md_system import run_center_system_to_origin\n",
    "\n",
    "run_center_system_to_origin(\n",
    "            filename = f'{TMP_DIR}/{OUT_PL_NEUTRAL}.rst7',\n",
    "            topology = f'{TMP_DIR}/{OUT_PL_NEUTRAL}.prmtop',\n",
    "            out_filename = f'{TMP_DIR}/{OUT_PL_NEUTRAL}.CENTERED.rst7')"
   ]
  },
  {
   "cell_type": "markdown",
   "id": "85fad402",
   "metadata": {},
   "source": [
    "## Use `ParmEd` to parse from Amber to Gromacs "
   ]
  },
  {
   "cell_type": "code",
   "execution_count": 13,
   "id": "9c0f8e4e",
   "metadata": {
    "scrolled": true
   },
   "outputs": [],
   "source": [
    "# Conver to gromacs\n",
    "import parmed as pmd\n",
    "\n",
    "top  = f'{TMP_DIR}/{OUT_PL_NEUTRAL}.prmtop'\n",
    "rst7 = f'{TMP_DIR}/{OUT_PL_NEUTRAL}.CENTERED.rst7.1'\n",
    "\n",
    "amber = pmd.load_file(top, rst7)\n",
    "#save a GROMACS topology and GRO file\n",
    "TOP_FILE = f'{TMP_DIR}/{FINAL_BASENAME}_NO_POSRES.top'\n",
    "FINAL_GRO_FILE = f'{WD}/{FINAL_BASENAME}.gro'\n",
    "amber.save(TOP_FILE)\n",
    "amber.save(FINAL_GRO_FILE)"
   ]
  },
  {
   "cell_type": "markdown",
   "id": "800068f7",
   "metadata": {},
   "source": [
    "### Include `posres.itp` to the topology file"
   ]
  },
  {
   "cell_type": "markdown",
   "id": "a67536a5",
   "metadata": {},
   "source": [
    "- Include the following lines inside the `.top` file, just below the protein definition\n",
    "```algol60\n",
    "; Include Position restraint file for protein\n",
    "#ifdef POSRES\n",
    "#include \"posre.itp\"\n",
    "#endif\n",
    "```"
   ]
  },
  {
   "cell_type": "code",
   "execution_count": 14,
   "id": "2af99be5",
   "metadata": {},
   "outputs": [
    {
     "data": {
      "text/plain": [
       "dict_keys(['system1', 'ETA', 'Na+', 'Cl-', 'WAT'])"
      ]
     },
     "execution_count": 14,
     "metadata": {},
     "output_type": "execute_result"
    }
   ],
   "source": [
    "from parmed.gromacs import GromacsTopologyFile\n",
    "top = GromacsTopologyFile(TOP_FILE)\n",
    "top.molecules.keys()"
   ]
  },
  {
   "cell_type": "code",
   "execution_count": 15,
   "id": "1c0b3c16",
   "metadata": {},
   "outputs": [],
   "source": [
    "from helper_modules.prepare_md_system import include_posre_in_top, create_posre_file\n",
    "\n",
    "FINAL_TOP_FILE = f'{WD}/{FINAL_BASENAME}.top'\n",
    "# Protein posres\n",
    "PROT_POSRE_FILE = f'{FINAL_BASENAME}.prot_posre.itp'\n",
    "create_posre_file(input_gro          = FINAL_GRO_FILE, \n",
    "                  out_posre_filename = f'{WD}/{PROT_POSRE_FILE}',\n",
    "                  mol_selection      = 'protein',\n",
    "                  rest_energies      = [1000, 1000, 1000],\n",
    "                  verbose = False)\n",
    "include_posre_in_top(input_top_file = TOP_FILE, \n",
    "                     out_top_file   = FINAL_TOP_FILE, \n",
    "                     posre_filename = PROT_POSRE_FILE,\n",
    "                     molecule_index = 1 # inx=1 for protein\n",
    "                    )"
   ]
  },
  {
   "cell_type": "markdown",
   "id": "2c0c878d",
   "metadata": {},
   "source": [
    "### Create the `posres.itp` file"
   ]
  },
  {
   "cell_type": "code",
   "execution_count": 16,
   "id": "aa48a220",
   "metadata": {
    "scrolled": true
   },
   "outputs": [
    {
     "name": "stdout",
     "output_type": "stream",
     "text": [
      "./../data/md_system_prep/ETA_systems/4fku/4fku-ETA_intermediate_files/prot.TEMP\n",
      "\n",
      "                     :-) GROMACS - gmx pdb2gmx, 2019.1 (-:\n",
      "\n",
      "                            GROMACS is written by:\n",
      "     Emile Apol      Rossen Apostolov      Paul Bauer     Herman J.C. Berendsen\n",
      "    Par Bjelkmar      Christian Blau   Viacheslav Bolnykh     Kevin Boyd    \n",
      " Aldert van Buuren   Rudi van Drunen     Anton Feenstra       Alan Gray     \n",
      "  Gerrit Groenhof     Anca Hamuraru    Vincent Hindriksen  M. Eric Irrgang  \n",
      "  Aleksei Iupinov   Christoph Junghans     Joe Jordan     Dimitrios Karkoulis\n",
      "    Peter Kasson        Jiri Kraus      Carsten Kutzner      Per Larsson    \n",
      "  Justin A. Lemkul    Viveca Lindahl    Magnus Lundborg     Erik Marklund   \n",
      "    Pascal Merz     Pieter Meulenhoff    Teemu Murtola       Szilard Pall   \n",
      "    Sander Pronk      Roland Schulz      Michael Shirts    Alexey Shvetsov  \n",
      "   Alfons Sijbers     Peter Tieleman      Jon Vincent      Teemu Virolainen \n",
      " Christian Wennberg    Maarten Wolf   \n",
      "                           and the project leaders:\n",
      "        Mark Abraham, Berk Hess, Erik Lindahl, and David van der Spoel\n",
      "\n",
      "Copyright (c) 1991-2000, University of Groningen, The Netherlands.\n",
      "Copyright (c) 2001-2018, The GROMACS development team at\n",
      "Uppsala University, Stockholm University and\n",
      "the Royal Institute of Technology, Sweden.\n",
      "check out http://www.gromacs.org for more information.\n",
      "\n",
      "GROMACS is free software; you can redistribute it and/or modify it\n",
      "under the terms of the GNU Lesser General Public License\n",
      "as published by the Free Software Foundation; either version 2.1\n",
      "of the License, or (at your option) any later version.\n",
      "\n",
      "GROMACS:      gmx pdb2gmx, version 2019.1\n",
      "Executable:   /Users/joelricci/miniconda/envs/biobb/bin/gmx\n",
      "Data prefix:  /Users/joelricci/miniconda/envs/biobb\n",
      "Working dir:  /Volumes/Seagate/Ricci2020/CDK2020/DINAMICA/md_gromacs/notebooks\n",
      "Command line:\n",
      "  gmx pdb2gmx -f -o {BASE_NAME}.gro -i -ff amber99sb-ildn -water tip3p -ignh\n",
      "\n",
      "\n",
      "-------------------------------------------------------\n",
      "Program:     gmx pdb2gmx, version 2019.1\n",
      "Source file: src/gromacs/options/options.cpp (line 190)\n",
      "Function:    void gmx::internal::OptionSectionImpl::finish()\n",
      "\n",
      "Error in user input:\n",
      "Invalid input values\n",
      "  In option f\n",
      "    No file name was provided, and the default file 'protein' does not exist\n",
      "    or is not accessible.\n",
      "    The following extensions were tried to complete the file name:\n",
      "      .gro, .g96, .pdb, .brk, .ent, .esp, .tpr\n",
      "\n",
      "For more information and tips for troubleshooting, please check the GROMACS\n",
      "website at http://www.gromacs.org/Documentation/Errors\n",
      "-------------------------------------------------------\n"
     ]
    }
   ],
   "source": [
    "# Create the postresfile\n",
    "FILE = f'{TMP_DIR}/{OUT_PDB2PQR}'\n",
    "!echo $FILE\n",
    "!echo $POSRE_FILENAME\n",
    "!gmx pdb2gmx -f $FILE -o ${TMP_DIR}\\{BASE_NAME}.gro -i $POSRE_FILENAME -ff amber99sb-ildn -water tip3p -ignh"
   ]
  },
  {
   "cell_type": "markdown",
   "id": "3ac976b3",
   "metadata": {},
   "source": [
    "# Verify the resulting file"
   ]
  },
  {
   "cell_type": "code",
   "execution_count": 17,
   "id": "b055e3bf",
   "metadata": {
    "scrolled": true
   },
   "outputs": [
    {
     "name": "stdout",
     "output_type": "stream",
     "text": [
      "\r\n"
     ]
    }
   ],
   "source": [
    "!echo $POSRE_FILENAME"
   ]
  },
  {
   "cell_type": "markdown",
   "id": "1fd1af27",
   "metadata": {},
   "source": [
    "# Log properties of the final model"
   ]
  },
  {
   "cell_type": "code",
   "execution_count": 18,
   "id": "52035608",
   "metadata": {},
   "outputs": [],
   "source": [
    "# Get the protein charge\n",
    "import re\n",
    "\n",
    "def get_log_lines(file, \n",
    "                  pattern, \n",
    "                  lines_list = [0]):\n",
    "    log_lines = []\n",
    "    with open(file,\"r\") as file:\n",
    "        lines = file.readlines()\n",
    "        for i, line in enumerate(lines):\n",
    "            if re.search(pattern, line):\n",
    "                for j in lines_list:\n",
    "                    log_lines.append(lines[i + j])\n",
    "    return log_lines\n",
    "\n"
   ]
  },
  {
   "cell_type": "code",
   "execution_count": 19,
   "id": "6a237efc",
   "metadata": {},
   "outputs": [
    {
     "name": "stdout",
     "output_type": "stream",
     "text": [
      "\n",
      "Protein Net Charge: 4.000000\n",
      "\n",
      "System Net Charge: -0.000000\n",
      "\n",
      "Number of Protein atoms: 4848\n",
      "\n",
      "Total Number of atoms: 42417\n",
      "\n",
      "Number of WAT molecules:\n",
      "WAT\t10242\n",
      "\n",
      "Number of ETA molecules:\n",
      "ETA\t741\n",
      "\n",
      "Number of Na+ ions:\n",
      "27\n",
      "\n",
      "Number of Cl- ions:\n",
      "31\n",
      "Box dimensions:\n",
      "\n",
      "- x: 88.323600\n",
      "\n",
      "- y: 102.422300\n",
      "\n",
      "- z: 105.469600\n",
      "\n",
      "\n",
      "\n",
      "Warnings:\n",
      " Converting N-terminal residue name to PDB format: NMET -> MET\n",
      "\n",
      " Converting C-terminal residue name to PDB format: CLEU -> LEU\n",
      "\n"
     ]
    }
   ],
   "source": [
    "# Report Logs\n",
    "file = f'{TMP_DIR}/leap_prep_{OUT_SYSTEM}.in.log'\n",
    "\n",
    "# Protein charge\n",
    "pattern = 'charge protein'\n",
    "protein_charge = get_log_lines(file, pattern, lines_list = [1])\n",
    "protein_charge = protein_charge[0].replace('\\n', '').split(' ')[-1]\n",
    "protein_charge= [f'\\nProtein Net Charge: {protein_charge}']\n",
    "\n",
    "# Total protein atoms\n",
    "pattern = 'total atoms in file'\n",
    "n_protein_atoms = get_log_lines(file, pattern, lines_list = [0])\n",
    "n_protein_atoms = n_protein_atoms[0].strip().split(' ')[-1]\n",
    "n_protein_atoms = [f'\\nNumber of Protein atoms: {n_protein_atoms}']\n",
    "\n",
    "\n",
    "file = f'{TMP_DIR}/leap_prep_{OUT_PL_NEUTRAL}.in.log'\n",
    "\n",
    "# Total protein atoms\n",
    "pattern = 'total atoms in file'\n",
    "n_total_atoms = get_log_lines(file, pattern, lines_list = [0])\n",
    "n_total_atoms = n_total_atoms[0].strip().split(' ')[-1]\n",
    "n_total_atoms = [f'\\nTotal Number of atoms: {n_total_atoms}']\n",
    "\n",
    "# System charge\n",
    "pattern = 'charge system'\n",
    "system_charge = get_log_lines(file, pattern, lines_list = [1])\n",
    "system_charge = system_charge[0].replace('\\n', '').split(' ')[-1]\n",
    "system_charge = [f'\\nSystem Net Charge: {system_charge}']\n",
    "\n",
    "# Box dimensions\n",
    "pattern = 'Box dimensions'\n",
    "box_dimensions = get_log_lines(file, pattern, lines_list = [0])\n",
    "box_dimensions = box_dimensions[0].split(' ')[-3:]\n",
    "box_dimensions = [f'- {c}: {b}\\n' for b, c in zip(box_dimensions, ['x', 'y', 'z'])]\n",
    "box_dimensions.insert(0, pattern + ':\\n')\n",
    "\n",
    "# Warnings\n",
    "pattern = 'Warning!'\n",
    "warnings = get_log_lines(file, pattern, lines_list = [1])\n",
    "warnings.insert(0, '\\nWarnings:')\n",
    "\n",
    "# Number of final waters\n",
    "pattern = '\\tWAT'\n",
    "n_waters = get_log_lines(file, pattern, lines_list = [0])\n",
    "n_waters = [n_waters[0].strip()]\n",
    "n_waters.insert(0, '\\nNumber of WAT molecules:')\n",
    "\n",
    "# Number of ions\n",
    "pattern = 'Placed Na+'\n",
    "n_Na = [str(len(get_log_lines(file, pattern, lines_list = [0])))]\n",
    "n_Na.insert(0, '\\nNumber of Na+ ions:')\n",
    "\n",
    "pattern = 'Placed Cl-'\n",
    "n_Cl = [str(len(get_log_lines(file, pattern, lines_list = [0])))]\n",
    "n_Cl.insert(0, '\\nNumber of Cl- ions:')\n",
    "\n",
    "# Number of cosolvent molecules\n",
    "solv_lines = []\n",
    "if SOLVENT != None and SOLVENT != 'WAT':\n",
    "    pattern = f'\\t{SOLVENT}'\n",
    "    solv_lines = get_log_lines(file, pattern, lines_list = [0])\n",
    "    solv_lines = [solv_lines[0].strip()]\n",
    "    solv_lines.insert(0, f'\\nNumber of {SOLVENT} molecules:')\n",
    "    \n",
    "LINES = protein_charge + system_charge + n_protein_atoms + n_total_atoms +\\\n",
    "        n_waters + solv_lines +\\\n",
    "        n_Na + n_Cl + box_dimensions + warnings\n",
    "        \n",
    "with open(f'{TMP_DIR}/PREP_SUMMARY.log', 'w') as f:\n",
    "    f.writelines(LINES)\n",
    "    \n",
    "for l in LINES:\n",
    "    print(l)"
   ]
  },
  {
   "cell_type": "code",
   "execution_count": null,
   "id": "ad972c56",
   "metadata": {},
   "outputs": [],
   "source": []
  }
 ],
 "metadata": {
  "kernelspec": {
   "display_name": "Python 3 (ipykernel)",
   "language": "python",
   "name": "python3"
  },
  "language_info": {
   "codemirror_mode": {
    "name": "ipython",
    "version": 3
   },
   "file_extension": ".py",
   "mimetype": "text/x-python",
   "name": "python",
   "nbconvert_exporter": "python",
   "pygments_lexer": "ipython3",
   "version": "3.7.12"
  }
 },
 "nbformat": 4,
 "nbformat_minor": 5
}
