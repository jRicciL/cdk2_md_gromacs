{
 "cells": [
  {
   "cell_type": "markdown",
   "id": "19b70da1",
   "metadata": {},
   "source": [
    "# Molecular Dynamics\n",
    "\n",
    "## System preparation using `tleap`\n",
    "\n",
    "- Based on *[Amber MD Setup using biobb](https://mmb.irbbarcelona.org/biobb/workflows/tutorials/amber_md_setup)*"
   ]
  },
  {
   "cell_type": "code",
   "execution_count": 1,
   "id": "55bbafc7",
   "metadata": {},
   "outputs": [
    {
     "data": {
      "application/vnd.jupyter.widget-view+json": {
       "model_id": "c840341c2071423fbaafb1392ba75107",
       "version_major": 2,
       "version_minor": 0
      },
      "text/plain": []
     },
     "metadata": {},
     "output_type": "display_data"
    }
   ],
   "source": [
    "import subprocess\n",
    "import os \n",
    "import shutil\n",
    "import warnings\n",
    "import nglview\n",
    "import ipywidgets\n",
    "import sys\n",
    "sys.path.append('..')\n",
    "import plotly\n",
    "from plotly import subplots\n",
    "import plotly.graph_objs as go\n",
    "from pathlib import Path\n",
    "%load_ext autoreload\n",
    "%autoreload 2"
   ]
  },
  {
   "cell_type": "code",
   "execution_count": 2,
   "id": "ead2b0db",
   "metadata": {},
   "outputs": [],
   "source": [
    "PDB_ID         = '1fin'\n",
    "SOLVENT        = 'ETA'\n",
    "SOLVENT_TYPE   = 'ETAWAT20'\n",
    "PH             = 7.4\n",
    "BOX_PADDING    = 12.0\n",
    "ION_MOLAR      = 0.15 \n",
    "\n",
    "# Output basename\n",
    "FINAL_BASENAME = f'{PDB_ID}-{SOLVENT}'\n",
    "\n",
    "# Define the input files\n",
    "WD = f'./../data/md_system_prep/{SOLVENT}_systems/{PDB_ID}'\n",
    "INPUT_PROT = f'{WD}/{PDB_ID}_A_mod.pdb'"
   ]
  },
  {
   "cell_type": "markdown",
   "id": "bf1b79be",
   "metadata": {},
   "source": [
    "- Create a directory to save intermediate files:"
   ]
  },
  {
   "cell_type": "code",
   "execution_count": 3,
   "id": "4d4a8467",
   "metadata": {},
   "outputs": [],
   "source": [
    "# Create a folder to store intermediate files\n",
    "TMP_DIR = f'{WD}/{FINAL_BASENAME}_intermediate_files'\n",
    "Path(TMP_DIR).mkdir(exist_ok = True, parents=True)"
   ]
  },
  {
   "cell_type": "markdown",
   "id": "2f049e24",
   "metadata": {},
   "source": [
    "### Prepare the protein using `PDB2PQR`"
   ]
  },
  {
   "cell_type": "code",
   "execution_count": 4,
   "id": "67f66d36",
   "metadata": {},
   "outputs": [
    {
     "name": "stdout",
     "output_type": "stream",
     "text": [
      "INFO:PDB2PQR v3.4.1: biomolecular structure conversion software.\n",
      "INFO:Please cite:  Jurrus E, et al.  Improvements to the APBS biomolecular solvation software suite.  Protein Sci 27 112-128 (2018).\n",
      "INFO:Please cite:  Dolinsky TJ, et al.  PDB2PQR: expanding and upgrading automated preparation of biomolecular structures for molecular simulations. Nucleic Acids Res 35 W522-W525 (2007).\n",
      "INFO:Checking and transforming input arguments.\n",
      "INFO:Loading topology files.\n",
      "INFO:Loading molecule: ./../data/md_system_prep/ETA_systems/1fin/1fin_A_mod.pdb\n",
      "ERROR:Error parsing line: invalid literal for int() with base 10: 'Ato'\n",
      "ERROR:<REMARK AtomGroup 1fin_A_mod>\n",
      "ERROR:Truncating remaining errors for record type:REMARK\n",
      "WARNING:Warning: ../data/md_system_prep/ETA_systems/1fin/1fin_A_mod.pdb is a non-standard PDB file.\n",
      "\n",
      "ERROR:['REMARK']\n",
      "INFO:Dropping water from structure.\n",
      "INFO:Setting up molecule.\n",
      "INFO:Created biomolecule object with 298 residues and 2398 atoms.\n",
      "INFO:Setting termini states for biomolecule chains.\n",
      "INFO:Loading forcefield.\n",
      "INFO:Loading hydrogen topology definitions.\n",
      "INFO:This biomolecule is clean.  No repair needed.\n",
      "INFO:Updating disulfide bridges.\n",
      "INFO:Debumping biomolecule.\n",
      "INFO:Assigning titration states with PROPKA.\n",
      "INFO:\n",
      "propka3.4.0                                                                                  2022-04-02\n",
      "\n",
      "-------------------------------------------------------------------------------\n",
      "--                                                                           --\n",
      "--  PROPKA: A PROTEIN PKA PREDICTOR                                          --\n",
      "--                                                                           --\n",
      "--  VERSION 1.0,  04/25/2004,  IOWA CITY                                     --\n",
      "--  BY HUI LI                                                                --\n",
      "--                                                                           --\n",
      "--  VERSION 2.0,  11/05/2007, IOWA CITY/COPENHAGEN                           --\n",
      "--  BY DELPHINE C. BAS AND DAVID M. ROGERS                                   --\n",
      "--                                                                           --\n",
      "--  VERSION 3.0,  01/06/2011, COPENHAGEN                                     --\n",
      "--  BY MATS H.M. OLSSON AND CHRESTEN R. SONDERGARD                           --\n",
      "--                                                                           --\n",
      "--  VERSION 3.1,  07/01/2011, COPENHAGEN                                     --\n",
      "--  BY CHRESTEN R. SONDERGARD AND MATS H.M. OLSSON                           --\n",
      "--                                                                           --\n",
      "--  VERSION 3.2,  06/17/2020, PLANET EARTH                                   --\n",
      "--  SEE ABOVE FOR AUTHORS                                                    --\n",
      "--                                                                           --\n",
      "-------------------------------------------------------------------------------\n",
      "\n",
      "\n",
      "-------------------------------------------------------------------------------\n",
      "References:\n",
      "\n",
      "Very Fast Empirical Prediction and Rationalization of Protein pKa Values.\n",
      "Hui Li, Andrew D. Robertson and Jan H. Jensen. PROTEINS: Structure, Function,\n",
      "and Bioinformatics. 61:704-721 (2005)\n",
      "\n",
      "Very Fast Prediction and Rationalization of pKa Values for Protein-Ligand\n",
      "Complexes.  Delphine C. Bas, David M. Rogers and Jan H. Jensen.  PROTEINS:\n",
      "Structure, Function, and Bioinformatics 73:765-783 (2008)\n",
      "\n",
      "PROPKA3: Consistent Treatment of Internal and Surface Residues in Empirical\n",
      "pKa predictions.  Mats H.M. Olsson, Chresten R. Sondergard, Michal Rostkowski,\n",
      "and Jan H. Jensen.  Journal of Chemical Theory and Computation, 7(2):525-537\n",
      "(2011)\n",
      "\n",
      "Improved Treatment of Ligands and Coupling Effects in Empirical Calculation\n",
      "and Rationalization of pKa Values.  Chresten R. Sondergaard, Mats H.M. Olsson,\n",
      "Michal Rostkowski, and Jan H. Jensen.  Journal of Chemical Theory and\n",
      "Computation, (2011)\n",
      "-------------------------------------------------------------------------------\n",
      "\n",
      "\n",
      "\n",
      "INFO:Coupling map:\n",
      "\n",
      "INFO:Calculating pKas for Conformation container 1A with 2834 atoms and 722 groups\n",
      "INFO:pKa determinants:\n",
      "\n",
      "---------  -----   ------   ---------------------    --------------    --------------    --------------\n",
      "                            DESOLVATION  EFFECTS       SIDECHAIN          BACKBONE        COULOMBIC\n",
      " RESIDUE    pKa    BURIED     REGULAR      RE        HYDROGEN BOND     HYDROGEN BOND      INTERACTION\n",
      "---------  -----   ------   ---------   ---------    --------------    --------------    --------------\n",
      "\n",
      "ASP  38 A   2.76     0 %    0.73  157   0.00    0   -0.85 THR  41 A   -0.17 GLU  40 A    0.00 XXX   0 X\n",
      "ASP  38 A                                            0.00 XXX   0 X   -0.75 THR  41 A    0.00 XXX   0 X\n",
      "\n",
      "ASP  68 A   3.93    12 %    0.47  314   0.12    0    0.00 XXX   0 X   -0.41 VAL  69 A   -0.04 N+    1 A\n",
      "ASP  68 A                                            0.00 XXX   0 X    0.00 XXX   0 X   -0.01 LYS  56 A\n",
      "\n",
      "ASP  86 A   4.31    53 %    2.18  429   0.52    0   -0.62 LYS  89 A   -0.24 LYS  88 A   -0.08 LYS  88 A\n",
      "ASP  86 A                                            0.00 XXX   0 X   -0.80 LYS  89 A   -0.01 LYS 129 A\n",
      "ASP  86 A                                            0.00 XXX   0 X    0.00 XXX   0 X    0.10 ASP  92 A\n",
      "ASP  86 A                                            0.00 XXX   0 X    0.00 XXX   0 X   -0.55 LYS  89 A\n",
      "\n",
      "ASP  92 A   3.24     9 %    0.75  307   0.08    0   -0.85 LYS  88 A   -0.01 ASP  92 A   -0.14 LYS  89 A\n",
      "ASP  92 A                                            0.00 XXX   0 X    0.00 XXX   0 X   -0.40 LYS  88 A\n",
      "\n",
      "ASP 127 A   7.00    83 %    2.23  514   1.20    0   -0.28 ASN 132 A    0.00 XXX   0 X   -0.08 ARG 126 A\n",
      "ASP 127 A                                            0.00 XXX   0 X    0.00 XXX   0 X    0.10 ASP 185 A\n",
      "ASP 127 A                                            0.00 XXX   0 X    0.00 XXX   0 X   -0.62 LYS 129 A\n",
      "ASP 127 A                                            0.00 XXX   0 X    0.00 XXX   0 X    0.64 ASP 145 A\n",
      "\n",
      "ASP 145 A   3.17    86 %    1.60  521   0.00    0    0.00 XXX   0 X   -0.48 GLY 147 A   -0.21 LYS 129 A\n",
      "ASP 145 A                                            0.00 XXX   0 X    0.00 XXX   0 X   -1.00 LYS  33 A\n",
      "ASP 145 A                                            0.00 XXX   0 X    0.00 XXX   0 X   -0.53 HIS 125 A\n",
      "\n",
      "ASP 185 A   2.67   100 %    3.80  649   0.48    0   -1.60 HIS 119 A   -0.67 HIS 125 A   -0.29 ARG 126 A\n",
      "ASP 185 A                                            0.00 XXX   0 X   -0.69 ARG 126 A   -1.21 HIS 119 A\n",
      "ASP 185 A                                            0.00 XXX   0 X    0.00 XXX   0 X   -0.95 HIS 125 A\n",
      "\n",
      "ASP 206 A   4.33     0 %    0.21  178   0.00    0   -0.10 ARG 214 A    0.00 XXX   0 X   -0.20 ARG 214 A\n",
      "ASP 206 A                                            0.34 ASP 210 A    0.00 XXX   0 X   -0.01 ARG 217 A\n",
      "ASP 206 A                                            0.00 XXX   0 X    0.00 XXX   0 X    0.29 ASP 210 A\n",
      "\n",
      "ASP 210 A   2.06     0 %    0.66  282   0.00    0   -0.34 ASP 206 A   -0.66 ASP 206 A   -0.19 ARG 217 A\n",
      "ASP 210 A                                           -0.82 ARG 214 A    0.00 XXX   0 X   -0.38 ARG 214 A\n",
      "\n",
      "ASP 223 A   3.15     0 %    0.48  266   0.00    0    0.00 XXX   0 X   -0.16 ASP 223 A    0.00 XXX   0 X\n",
      "ASP 223 A                                            0.00 XXX   0 X   -0.28 VAL 225 A    0.00 XXX   0 X\n",
      "ASP 223 A                                            0.00 XXX   0 X   -0.69 VAL 226 A    0.00 XXX   0 X\n",
      "\n",
      "ASP 235 A   4.26     9 %    0.50  307   0.04    0    0.00 XXX   0 X    0.00 XXX   0 X   -0.08 LYS 237 A\n",
      "\n",
      "ASP 247 A   3.43     0 %    0.27  178   0.00    0   -0.24 SER 249 A    0.00 XXX   0 X   -0.02 ARG 245 A\n",
      "ASP 247 A                                            0.00 XXX   0 X    0.00 XXX   0 X   -0.35 LYS 250 A\n",
      "ASP 247 A                                            0.00 XXX   0 X    0.00 XXX   0 X   -0.04 ARG 260 A\n",
      "\n",
      "ASP 256 A   3.05    13 %    0.70  317   0.00    0    0.00 XXX   0 X   -0.21 ASP 256 A   -0.21 LYS 105 A\n",
      "ASP 256 A                                            0.00 XXX   0 X   -0.14 ASP 258 A   -0.09 ARG 260 A\n",
      "ASP 256 A                                            0.00 XXX   0 X   -0.77 GLY 259 A   -0.04 HIS 283 A\n",
      "\n",
      "ASP 258 A   4.24     0 %    0.45  257   0.00    0    0.00 XXX   0 X    0.00 XXX   0 X   -0.06 LYS 105 A\n",
      "ASP 258 A                                            0.00 XXX   0 X    0.00 XXX   0 X   -0.01 ARG 260 A\n",
      "ASP 258 A                                            0.00 XXX   0 X    0.00 XXX   0 X    0.21 ASP 256 A\n",
      "ASP 258 A                                            0.00 XXX   0 X    0.00 XXX   0 X    0.03 GLU 257 A\n",
      "ASP 258 A                                            0.00 XXX   0 X    0.00 XXX   0 X   -0.23 HIS 283 A\n",
      "ASP 258 A                                            0.00 XXX   0 X    0.00 XXX   0 X    0.04 ASP 288 A\n",
      "\n",
      "ASP 270 A   3.86    16 %    0.93  325   0.08    0    0.00 XXX   0 X   -0.56 ASN 272 A   -0.12 LYS 273 A\n",
      "ASP 270 A                                            0.00 XXX   0 X    0.00 XXX   0 X   -0.09 ARG 274 A\n",
      "ASP 270 A                                            0.00 XXX   0 X    0.00 XXX   0 X   -0.17 HIS 268 A\n",
      "\n",
      "ASP 288 A   3.47     0 %    0.41  261   0.00    0   -0.41 LYS 105 A    0.00 XXX   0 X    0.08 ASP 256 A\n",
      "ASP 288 A                                            0.00 XXX   0 X    0.00 XXX   0 X   -0.41 LYS 105 A\n",
      "\n",
      "GLU   2 A   3.39     0 %    0.18  184   0.00    0   -0.41 N+    1 A   -0.36 GLU   2 A   -0.05 LYS  24 A\n",
      "GLU   2 A                                            0.00 XXX   0 X    0.00 XXX   0 X   -0.08 LYS  75 A\n",
      "GLU   2 A                                            0.00 XXX   0 X    0.00 XXX   0 X   -0.38 N+    1 A\n",
      "\n",
      "GLU   8 A   4.54     0 %    0.22  217   0.00    0    0.00 XXX   0 X    0.00 XXX   0 X   -0.18 LYS  20 A\n",
      "\n",
      "GLU  12 A   4.10     0 %    0.36  200   0.00    0    0.00 XXX   0 X   -0.39 GLY  13 A   -0.26 LYS   9 A\n",
      "GLU  12 A                                            0.00 XXX   0 X    0.00 XXX   0 X   -0.06 LYS  34 A\n",
      "GLU  12 A                                            0.00 XXX   0 X    0.00 XXX   0 X   -0.05 ARG  36 A\n",
      "\n",
      "GLU  28 A   4.86     3 %    0.37  289   0.01    0    0.00 XXX   0 X    0.00 XXX   0 X   -0.05 LYS  65 A\n",
      "GLU  28 A                                            0.00 XXX   0 X    0.00 XXX   0 X    0.02 ASP  68 A\n",
      "GLU  28 A                                            0.00 XXX   0 X    0.00 XXX   0 X    0.02 GLU  81 A\n",
      "\n",
      "GLU  40 A   4.50     0 %    0.19   71   0.00    0   -0.19 THR  41 A    0.00 XXX   0 X    0.00 XXX   0 X\n",
      "\n",
      "GLU  42 A   5.05     0 %    0.45  255   0.00    0    0.00 XXX   0 X   -0.08 ASP  38 A    0.18 ASP  38 A\n",
      "\n",
      "GLU  51 A   4.75    96 %    2.88  549   0.17    0   -0.83 TYR  15 A    0.00 XXX   0 X   -0.03 HIS 125 A\n",
      "GLU  51 A                                           -0.67 LYS  33 A    0.00 XXX   0 X   -1.89 LYS  33 A\n",
      "GLU  51 A                                            0.00 XXX   0 X    0.00 XXX   0 X    0.62 ASP 145 A\n",
      "\n",
      "GLU  57 A   3.82     0 %    0.31  259   0.00    0   -0.54 ARG 122 A    0.00 XXX   0 X   -0.02 LYS  56 A\n",
      "GLU  57 A                                            0.00 XXX   0 X    0.00 XXX   0 X   -0.08 HIS 121 A\n",
      "GLU  57 A                                            0.00 XXX   0 X    0.00 XXX   0 X   -0.35 ARG 122 A\n",
      "\n",
      "GLU  73 A   4.57     0 %    0.34  174   0.00    0    0.00 XXX   0 X    0.00 XXX   0 X   -0.01 N+    1 A\n",
      "GLU  73 A                                            0.00 XXX   0 X    0.00 XXX   0 X   -0.26 LYS  75 A\n",
      "\n",
      "GLU  81 A   4.22    51 %    1.61  424   0.33    0   -0.85 LYS 142 A   -0.66 LYS  65 A   -0.07 LYS  65 A\n",
      "GLU  81 A                                            0.00 XXX   0 X    0.00 XXX   0 X   -0.63 LYS 142 A\n",
      "\n",
      "GLU 138 A   3.80     0 %    0.33  221   0.00    0   -0.85 THR 137 A    0.00 XXX   0 X   -0.07 LYS 291 A\n",
      "GLU 138 A                                            0.00 XXX   0 X    0.00 XXX   0 X   -0.11 HIS  84 A\n",
      "\n",
      "GLU 162 A   3.16    24 %    0.84  348   0.00    0   -0.19 ARG 126 A    0.00 XXX   0 X   -0.35 ARG  50 A\n",
      "GLU 162 A                                           -0.82 ARG 150 A    0.00 XXX   0 X   -0.05 HIS 161 A\n",
      "GLU 162 A                                            0.00 XXX   0 X    0.00 XXX   0 X   -0.34 ARG 126 A\n",
      "GLU 162 A                                            0.00 XXX   0 X    0.00 XXX   0 X   -0.44 ARG 150 A\n",
      "\n",
      "GLU 172 A   5.35   100 %    3.61  581   0.24    0   -0.74 ARG 274 A   -0.27 GLU 172 A    0.05 ASP 270 A\n",
      "GLU 172 A                                            0.00 XXX   0 X    0.00 XXX   0 X   -2.03 ARG 274 A\n",
      "\n",
      "GLU 195 A   5.91    71 %    2.12  479   0.16    0   -0.85 TYR 168 A    0.00 XXX   0 X   -0.09 LYS  88 A\n",
      "GLU 195 A                                            0.00 XXX   0 X    0.00 XXX   0 X    0.08 ASP  92 A\n",
      "\n",
      "GLU 208 A   4.68    14 %    0.37  321   0.00    0    0.00 XXX   0 X    0.00 XXX   0 X   -0.29 ARG 169 A\n",
      "GLU 208 A                                            0.00 XXX   0 X    0.00 XXX   0 X    0.09 ASP 235 A\n",
      "\n",
      "GLU 224 A   3.27     0 %    0.50  230   0.00    0   -0.85 THR 231 A   -0.76 GLY 229 A    0.05 ASP 223 A\n",
      "GLU 224 A                                            0.00 XXX   0 X   -0.17 THR 231 A    0.00 XXX   0 X\n",
      "\n",
      "GLU 257 A   3.68     0 %    0.21  172   0.00    0   -0.55 ARG 260 A   -0.25 GLU 257 A    0.12 ASP 256 A\n",
      "GLU 257 A                                            0.00 XXX   0 X    0.00 XXX   0 X   -0.35 ARG 260 A\n",
      "\n",
      "C-  298 A   3.31     0 %    0.16  181   0.00    0    0.00 XXX   0 X    0.00 XXX   0 X   -0.00 LYS  20 A\n",
      "C-  298 A                                            0.00 XXX   0 X    0.00 XXX   0 X   -0.01 ARG 297 A\n",
      "C-  298 A                                            0.00 XXX   0 X    0.00 XXX   0 X   -0.01 HIS  84 A\n",
      "C-  298 A                                            0.00 XXX   0 X    0.00 XXX   0 X   -0.02 HIS 295 A\n",
      "\n",
      "HIS  60 A   5.29    35 %   -1.39  380   0.00    0    0.26 ASN  62 A    0.00 XXX   0 X   -0.03 LYS 142 A\n",
      "HIS  60 A                                            0.00 XXX   0 X    0.00 XXX   0 X   -0.04 HIS 121 A\n",
      "\n",
      "HIS  71 A   6.17     0 %   -0.33  272   0.00    0    0.00 XXX   0 X    0.00 XXX   0 X   -0.00 LYS  75 A\n",
      "\n",
      "HIS  84 A   5.84    23 %   -0.85  347   0.00    0    0.00 XXX   0 X    0.16 ILE 135 A   -0.09 LYS  20 A\n",
      "HIS  84 A                                            0.00 XXX   0 X    0.00 XXX   0 X    0.11 GLU 138 A\n",
      "HIS  84 A                                            0.00 XXX   0 X    0.00 XXX   0 X    0.01 C-  298 A\n",
      "\n",
      "HIS 119 A   6.38    92 %   -2.91  539   0.00    0    1.60 ASP 185 A    0.00 XXX   0 X   -0.02 LYS 278 A\n",
      "HIS 119 A                                            0.00 XXX   0 X    0.00 XXX   0 X    1.21 ASP 185 A\n",
      "\n",
      "HIS 121 A   6.54     3 %   -0.54  289   0.00    0    0.00 XXX   0 X    0.57 PHE 117 A   -0.05 ARG 122 A\n",
      "HIS 121 A                                            0.00 XXX   0 X    0.00 XXX   0 X   -0.02 LYS 278 A\n",
      "HIS 121 A                                            0.00 XXX   0 X    0.00 XXX   0 X    0.08 GLU  57 A\n",
      "\n",
      "HIS 125 A   5.39   100 %   -3.33  644   0.00    0    0.00 XXX   0 X    0.04 HIS 125 A   -0.06 ARG 126 A\n",
      "HIS 125 A                                            0.00 XXX   0 X    0.80 ALA 144 A    0.03 GLU  51 A\n",
      "HIS 125 A                                            0.00 XXX   0 X    0.00 ASP 145 A   -0.07 HIS 119 A\n",
      "HIS 125 A                                            0.00 XXX   0 X    0.00 XXX   0 X    0.53 ASP 145 A\n",
      "HIS 125 A                                            0.00 XXX   0 X    0.00 XXX   0 X    0.95 ASP 185 A\n",
      "\n",
      "HIS 161 A   6.26     0 %   -0.29  153   0.00    0    0.00 XXX   0 X    0.00 XXX   0 X    0.05 GLU 162 A\n",
      "\n",
      "HIS 268 A   5.41    34 %   -0.94  376   0.00    0    0.00 XXX   0 X    0.00 XXX   0 X   -0.07 ARG 245 A\n",
      "HIS 268 A                                            0.00 XXX   0 X    0.00 XXX   0 X   -0.07 LYS 273 A\n",
      "HIS 268 A                                            0.00 XXX   0 X    0.00 XXX   0 X   -0.18 ARG 274 A\n",
      "HIS 268 A                                            0.00 XXX   0 X    0.00 XXX   0 X    0.17 ASP 270 A\n",
      "\n",
      "HIS 283 A   5.54    24 %   -1.23  349   0.00    0    0.00 XXX   0 X    0.00 XXX   0 X    0.04 ASP 256 A\n",
      "HIS 283 A                                            0.00 XXX   0 X    0.00 XXX   0 X    0.23 ASP 258 A\n",
      "\n",
      "HIS 295 A   6.11     0 %   -0.25  216   0.00    0    0.00 XXX   0 X    0.12 HIS 295 A   -0.28 ARG 297 A\n",
      "HIS 295 A                                            0.00 XXX   0 X    0.00 XXX   0 X    0.02 C-  298 A\n",
      "\n",
      "CYS 118 A  12.91    96 %    3.47  550   0.00    0    0.00 XXX   0 X   -0.00 CYS 118 A    0.44 ASP 185 A\n",
      "\n",
      "CYS 177 A  12.02    72 %    2.45  484   0.00    0    0.00 XXX   0 X   -0.08 CYS 177 A   -0.03 ARG 274 A\n",
      "CYS 177 A                                            0.00 XXX   0 X    0.00 XXX   0 X    0.02 ASP 235 A\n",
      "CYS 177 A                                            0.00 XXX   0 X    0.00 XXX   0 X    0.65 GLU 172 A\n",
      "\n",
      "CYS 191 A  12.83   100 %    3.76  660   0.00    0   -0.03 TRP 187 A   -0.04 CYS 191 A   -0.10 ARG 274 A\n",
      "CYS 191 A                                            0.00 XXX   0 X    0.00 XXX   0 X    0.24 GLU 195 A\n",
      "\n",
      "TYR  15 A  14.52    71 %    2.21  479   0.00    0    0.83 GLU  51 A    0.00 XXX   0 X   -0.01 ARG  50 A\n",
      "TYR  15 A                                            0.00 XXX   0 X    0.00 XXX   0 X    0.32 ASP 145 A\n",
      "TYR  15 A                                            0.00 XXX   0 X    0.00 XXX   0 X    1.19 GLU  51 A\n",
      "\n",
      "TYR  19 A   8.83     2 %    0.47  288   0.00    0   -0.85 LYS  34 A    0.00 XXX   0 X    0.07 GLU  12 A\n",
      "TYR  19 A                                            0.00 XXX   0 X    0.00 XXX   0 X   -0.13 ARG  36 A\n",
      "TYR  19 A                                            0.00 XXX   0 X    0.00 XXX   0 X   -0.29 LYS   6 A\n",
      "TYR  19 A                                            0.00 XXX   0 X    0.00 XXX   0 X   -0.04 LYS   9 A\n",
      "TYR  19 A                                            0.00 XXX   0 X    0.00 XXX   0 X   -0.40 LYS  34 A\n",
      "\n",
      "TYR  77 A   9.93    16 %    0.74  326   0.00    0   -0.28 LYS  75 A    0.00 XXX   0 X    0.00 GLU   2 A\n",
      "TYR  77 A                                            0.00 XXX   0 X    0.00 XXX   0 X   -0.04 ARG  36 A\n",
      "TYR  77 A                                            0.00 XXX   0 X    0.00 XXX   0 X    0.11 GLU  73 A\n",
      "TYR  77 A                                            0.00 XXX   0 X    0.00 XXX   0 X   -0.12 LYS   6 A\n",
      "TYR  77 A                                            0.00 XXX   0 X    0.00 XXX   0 X    0.09 TYR  19 A\n",
      "TYR  77 A                                            0.00 XXX   0 X    0.00 XXX   0 X   -0.17 LYS  34 A\n",
      "TYR  77 A                                            0.00 XXX   0 X    0.00 XXX   0 X   -0.41 LYS  75 A\n",
      "\n",
      "TYR 107 A  12.99    75 %    3.01  492   0.00    0    0.00 XXX   0 X    0.00 XXX   0 X   -0.01 ARG 297 A\n",
      "\n",
      "TYR 159 A  10.50     0 %    0.38  165   0.00    0    0.00 XXX   0 X    0.00 XXX   0 X   -0.02 ARG 150 A\n",
      "TYR 159 A                                            0.00 XXX   0 X    0.00 XXX   0 X    0.14 GLU 162 A\n",
      "\n",
      "TYR 168 A  14.94    76 %    2.66  495   0.00    0    0.85 GLU 195 A    0.00 XXX   0 X    0.02 ASP  92 A\n",
      "TYR 168 A                                            0.00 XXX   0 X    0.00 XXX   0 X    0.45 CYS 191 A\n",
      "TYR 168 A                                            0.00 XXX   0 X    0.00 XXX   0 X    0.96 GLU 195 A\n",
      "\n",
      "TYR 179 A   9.28     0 %    0.54  162   0.00    0   -0.50 LYS 178 A    0.00 XXX   0 X   -0.38 ARG 157 A\n",
      "TYR 179 A                                            0.00 XXX   0 X    0.00 XXX   0 X   -0.38 LYS 178 A\n",
      "\n",
      "TYR 180 A  12.01    69 %    2.31  475   0.00    0   -0.03 ARG 126 A    0.00 XXX   0 X   -0.65 ARG 126 A\n",
      "TYR 180 A                                            0.00 XXX   0 X    0.00 XXX   0 X    0.06 ASP 127 A\n",
      "TYR 180 A                                            0.00 XXX   0 X    0.00 XXX   0 X   -0.03 ARG 150 A\n",
      "TYR 180 A                                            0.00 XXX   0 X    0.00 XXX   0 X    0.09 GLU 162 A\n",
      "TYR 180 A                                            0.00 XXX   0 X    0.00 XXX   0 X   -0.17 ARG 169 A\n",
      "TYR 180 A                                            0.00 XXX   0 X    0.00 XXX   0 X    0.02 GLU 172 A\n",
      "TYR 180 A                                            0.00 XXX   0 X    0.00 XXX   0 X    0.23 CYS 177 A\n",
      "TYR 180 A                                            0.00 XXX   0 X    0.00 XXX   0 X    0.16 ASP 185 A\n",
      "\n",
      "TYR 236 A  10.22    10 %    0.68  308   0.00    0   -0.16 LYS 242 A    0.00 XXX   0 X    0.04 ASP 223 A\n",
      "TYR 236 A                                            0.00 XXX   0 X    0.00 XXX   0 X    0.05 GLU 224 A\n",
      "TYR 236 A                                            0.00 XXX   0 X    0.00 XXX   0 X   -0.39 LYS 242 A\n",
      "\n",
      "TYR 269 A  14.09    97 %    4.22  553   0.00    0    0.00 XXX   0 X    0.00 XXX   0 X   -0.11 ARG 245 A\n",
      "TYR 269 A                                            0.00 XXX   0 X    0.00 XXX   0 X   -0.01 ARG 274 A\n",
      "\n",
      "LYS   6 A  10.21    12 %   -0.55  314   0.00    0    0.00 XXX   0 X    0.00 XXX   0 X    0.29 TYR  19 A\n",
      "LYS   6 A                                            0.00 XXX   0 X    0.00 XXX   0 X   -0.14 LYS  34 A\n",
      "LYS   6 A                                            0.00 XXX   0 X    0.00 XXX   0 X    0.12 TYR  77 A\n",
      "\n",
      "LYS   9 A  10.57     0 %   -0.23  173   0.00    0    0.00 XXX   0 X    0.00 XXX   0 X    0.26 GLU  12 A\n",
      "LYS   9 A                                            0.00 XXX   0 X    0.00 XXX   0 X    0.04 TYR  19 A\n",
      "\n",
      "LYS  20 A  10.29     3 %   -0.39  291   0.00    0    0.00 XXX   0 X    0.00 XXX   0 X    0.18 GLU   8 A\n",
      "LYS  20 A                                            0.00 XXX   0 X    0.00 XXX   0 X    0.00 C-  298 A\n",
      "\n",
      "LYS  24 A  10.11     0 %   -0.35  177   0.00    0    0.00 XXX   0 X    0.00 XXX   0 X    0.05 GLU   2 A\n",
      "LYS  24 A                                            0.00 XXX   0 X    0.00 XXX   0 X   -0.09 ARG  22 A\n",
      "LYS  24 A                                            0.00 XXX   0 X    0.00 XXX   0 X   -0.01 LYS   6 A\n",
      "\n",
      "LYS  33 A  11.54   100 %   -2.52  561   0.00    0    0.67 GLU  51 A    0.00 XXX   0 X    1.89 GLU  51 A\n",
      "LYS  33 A                                            0.00 XXX   0 X    0.00 XXX   0 X    1.00 ASP 145 A\n",
      "\n",
      "LYS  34 A  11.06     8 %   -0.56  303   0.00    0    0.85 TYR  19 A    0.00 XXX   0 X    0.06 GLU  12 A\n",
      "LYS  34 A                                            0.00 XXX   0 X    0.00 XXX   0 X   -0.36 ARG  36 A\n",
      "LYS  34 A                                            0.00 XXX   0 X    0.00 XXX   0 X    0.17 TYR  77 A\n",
      "LYS  34 A                                            0.00 XXX   0 X    0.00 XXX   0 X    0.40 TYR  19 A\n",
      "\n",
      "LYS  56 A  10.39     0 %   -0.14  213   0.00    0    0.00 XXX   0 X    0.00 XXX   0 X    0.02 GLU  57 A\n",
      "LYS  56 A                                            0.00 XXX   0 X    0.00 XXX   0 X    0.01 ASP  68 A\n",
      "\n",
      "LYS  65 A  10.31     0 %   -0.30  278   0.00    0    0.00 XXX   0 X    0.00 XXX   0 X    0.05 GLU  28 A\n",
      "LYS  65 A                                            0.00 XXX   0 X    0.00 XXX   0 X    0.07 GLU  81 A\n",
      "LYS  65 A                                            0.00 XXX   0 X    0.00 XXX   0 X   -0.02 LYS 142 A\n",
      "\n",
      "LYS  75 A  10.93     0 %   -0.60  277   0.00    0    0.28 TYR  77 A    0.00 XXX   0 X    0.08 GLU   2 A\n",
      "LYS  75 A                                            0.00 XXX   0 X    0.00 XXX   0 X    0.26 GLU  73 A\n",
      "LYS  75 A                                            0.00 XXX   0 X    0.00 XXX   0 X    0.41 TYR  77 A\n",
      "\n",
      "LYS  88 A  11.53     0 %   -0.38  277   0.00    0    0.85 ASP  92 A    0.00 XXX   0 X    0.08 ASP  86 A\n",
      "LYS  88 A                                            0.00 XXX   0 X    0.00 XXX   0 X    0.09 GLU 195 A\n",
      "LYS  88 A                                            0.00 XXX   0 X    0.00 XXX   0 X    0.40 ASP  92 A\n",
      "\n",
      "LYS  89 A  10.80    22 %   -0.84  344   0.00    0    0.62 ASP  86 A    0.00 XXX   0 X    0.14 ASP  92 A\n",
      "LYS  89 A                                            0.00 XXX   0 X    0.00 XXX   0 X   -0.17 LYS  88 A\n",
      "LYS  89 A                                            0.00 XXX   0 X    0.00 XXX   0 X    0.55 ASP  86 A\n",
      "\n",
      "LYS 105 A  10.63    23 %   -0.95  345   0.00    0    0.41 ASP 288 A    0.00 XXX   0 X    0.21 ASP 256 A\n",
      "LYS 105 A                                            0.00 XXX   0 X    0.00 XXX   0 X    0.06 ASP 258 A\n",
      "LYS 105 A                                            0.00 XXX   0 X    0.00 XXX   0 X    0.41 ASP 288 A\n",
      "\n",
      "LYS 129 A  10.30    44 %   -0.98  405   0.00    0    0.00 XXX   0 X    0.00 XXX   0 X    0.01 ASP  86 A\n",
      "LYS 129 A                                            0.00 XXX   0 X    0.00 XXX   0 X    0.21 ASP 145 A\n",
      "LYS 129 A                                            0.00 XXX   0 X    0.00 XXX   0 X   -0.05 LYS  89 A\n",
      "LYS 129 A                                            0.00 XXX   0 X    0.00 XXX   0 X    0.62 ASP 127 A\n",
      "\n",
      "LYS 142 A  10.49    45 %   -1.49  408   0.00    0    0.85 GLU  81 A    0.00 XXX   0 X    0.63 GLU  81 A\n",
      "\n",
      "LYS 178 A  10.91     0 %   -0.21  130   0.00    0    0.50 TYR 179 A    0.00 XXX   0 X   -0.25 ARG 157 A\n",
      "LYS 178 A                                            0.00 XXX   0 X    0.00 XXX   0 X    0.38 TYR 179 A\n",
      "\n",
      "LYS 237 A  10.41     0 %   -0.17  194   0.00    0    0.00 XXX   0 X    0.00 XXX   0 X    0.08 ASP 235 A\n",
      "\n",
      "LYS 242 A  10.48     0 %   -0.58  272   0.00    0    0.16 TYR 236 A    0.00 XXX   0 X    0.39 TYR 236 A\n",
      "\n",
      "LYS 250 A  10.40     0 %   -0.45  195   0.00    0    0.00 XXX   0 X    0.00 XXX   0 X    0.35 ASP 247 A\n",
      "\n",
      "LYS 273 A  10.50     0 %   -0.12  176   0.00    0    0.00 XXX   0 X    0.00 XXX   0 X    0.12 ASP 270 A\n",
      "\n",
      "LYS 278 A  10.30     0 %   -0.20  252   0.00    0    0.00 XXX   0 X    0.00 XXX   0 X    0.00 XXX   0 X\n",
      "\n",
      "LYS 291 A  10.08    11 %   -0.45  312   0.00    0    0.00 XXX   0 X    0.00 XXX   0 X    0.07 GLU 138 A\n",
      "LYS 291 A                                            0.00 XXX   0 X    0.00 XXX   0 X   -0.04 LYS 142 A\n",
      "\n",
      "ARG  22 A  12.18     0 %   -0.32  179   0.00    0    0.00 XXX   0 X    0.00 XXX   0 X    0.00 XXX   0 X\n",
      "\n",
      "ARG  36 A  12.53     0 %   -0.19  232   0.00    0    0.00 XXX   0 X    0.00 XXX   0 X    0.05 GLU  12 A\n",
      "ARG  36 A                                            0.00 XXX   0 X    0.00 XXX   0 X    0.13 TYR  19 A\n",
      "ARG  36 A                                            0.00 XXX   0 X    0.00 XXX   0 X    0.04 TYR  77 A\n",
      "\n",
      "ARG  50 A  11.09    33 %   -1.07  375   0.00    0    0.00 XXX   0 X    0.00 XXX   0 X    0.01 TYR  15 A\n",
      "ARG  50 A                                            0.00 XXX   0 X    0.00 XXX   0 X    0.35 GLU 162 A\n",
      "ARG  50 A                                            0.00 XXX   0 X    0.00 XXX   0 X   -0.20 ARG 126 A\n",
      "ARG  50 A                                            0.00 XXX   0 X    0.00 XXX   0 X   -0.51 ARG 150 A\n",
      "\n",
      "ARG 122 A  13.10     0 %   -0.29  260   0.00    0    0.54 GLU  57 A    0.00 XXX   0 X    0.35 GLU  57 A\n",
      "\n",
      "ARG 126 A  11.29    73 %   -2.40  486   0.00    0    0.03 TYR 180 A    0.00 XXX   0 X    0.08 ASP 127 A\n",
      "ARG 126 A                                            0.19 GLU 162 A    0.00 XXX   0 X    0.65 TYR 180 A\n",
      "ARG 126 A                                            0.00 XXX   0 X    0.00 XXX   0 X    0.29 ASP 185 A\n",
      "ARG 126 A                                            0.00 XXX   0 X    0.00 XXX   0 X   -0.37 ARG 150 A\n",
      "ARG 126 A                                            0.00 XXX   0 X    0.00 XXX   0 X    0.34 GLU 162 A\n",
      "\n",
      "ARG 150 A  12.97    26 %   -0.84  355   0.00    0    0.82 GLU 162 A    0.00 XXX   0 X    0.02 TYR 159 A\n",
      "ARG 150 A                                            0.00 XXX   0 X    0.00 XXX   0 X    0.03 TYR 180 A\n",
      "ARG 150 A                                            0.00 XXX   0 X    0.00 XXX   0 X    0.44 GLU 162 A\n",
      "\n",
      "ARG 157 A  12.52     0 %   -0.36  153   0.00    0    0.00 XXX   0 X    0.00 XXX   0 X    0.38 TYR 179 A\n",
      "\n",
      "ARG 169 A  11.33    53 %   -1.63  431   0.00    0    0.00 XXX   0 X    0.00 XXX   0 X    0.17 TYR 180 A\n",
      "ARG 169 A                                            0.00 XXX   0 X    0.00 XXX   0 X    0.29 GLU 208 A\n",
      "\n",
      "ARG 199 A  12.17     0 %   -0.33  234   0.00    0    0.00 XXX   0 X    0.00 XXX   0 X    0.00 XXX   0 X\n",
      "\n",
      "ARG 200 A  12.39     0 %   -0.11  220   0.00    0    0.00 XXX   0 X    0.00 XXX   0 X    0.00 XXX   0 X\n",
      "\n",
      "ARG 214 A  13.58     1 %   -0.43  283   0.00    0    0.10 ASP 206 A    0.00 XXX   0 X    0.20 ASP 206 A\n",
      "ARG 214 A                                            0.82 ASP 210 A    0.00 XXX   0 X    0.38 ASP 210 A\n",
      "\n",
      "ARG 217 A  12.04     1 %   -0.43  285   0.00    0    0.00 XXX   0 X    0.00 XXX   0 X    0.01 ASP 206 A\n",
      "ARG 217 A                                            0.00 XXX   0 X    0.00 XXX   0 X    0.19 ASP 210 A\n",
      "ARG 217 A                                            0.00 XXX   0 X    0.00 XXX   0 X   -0.22 ARG 214 A\n",
      "\n",
      "ARG 245 A  11.51    48 %   -1.12  416   0.00    0    0.00 XXX   0 X    0.00 XXX   0 X    0.02 ASP 247 A\n",
      "ARG 245 A                                            0.00 XXX   0 X    0.00 XXX   0 X    0.11 TYR 269 A\n",
      "\n",
      "ARG 260 A  13.12     0 %   -0.41  236   0.00    0    0.55 GLU 257 A    0.00 XXX   0 X    0.04 ASP 247 A\n",
      "ARG 260 A                                            0.00 XXX   0 X    0.00 XXX   0 X    0.09 ASP 256 A\n",
      "ARG 260 A                                            0.00 XXX   0 X    0.00 XXX   0 X    0.01 ASP 258 A\n",
      "ARG 260 A                                            0.00 XXX   0 X    0.00 XXX   0 X    0.35 GLU 257 A\n",
      "\n",
      "ARG 274 A  11.78   100 %   -3.74  568   0.00    0    0.74 GLU 172 A    0.00 XXX   0 X    0.03 CYS 177 A\n",
      "ARG 274 A                                            0.00 XXX   0 X    0.00 XXX   0 X    0.10 CYS 191 A\n",
      "ARG 274 A                                            0.00 XXX   0 X    0.00 XXX   0 X    0.01 TYR 269 A\n",
      "ARG 274 A                                            0.00 XXX   0 X    0.00 XXX   0 X    0.09 ASP 270 A\n",
      "ARG 274 A                                            0.00 XXX   0 X    0.00 XXX   0 X    2.03 GLU 172 A\n",
      "\n",
      "ARG 297 A  11.98     0 %   -0.55  278   0.00    0    0.00 XXX   0 X    0.00 XXX   0 X    0.01 TYR 107 A\n",
      "ARG 297 A                                            0.00 XXX   0 X    0.00 XXX   0 X    0.01 C-  298 A\n",
      "\n",
      "N+    1 A   8.05     2 %   -0.51  286   0.00    0    0.41 GLU   2 A    0.00 XXX   0 X   -0.04 LYS  24 A\n",
      "N+    1 A                                            0.00 XXX   0 X    0.00 XXX   0 X    0.04 ASP  68 A\n",
      "N+    1 A                                            0.00 XXX   0 X    0.00 XXX   0 X    0.01 GLU  73 A\n",
      "N+    1 A                                            0.00 XXX   0 X    0.00 XXX   0 X   -0.24 LYS  75 A\n",
      "N+    1 A                                            0.00 XXX   0 X    0.00 XXX   0 X    0.38 GLU   2 A\n",
      "\n",
      "\n",
      "INFO:pKa summary:\n",
      "--------------------------------------------------------------------------------------------------------\n",
      "SUMMARY OF THIS PREDICTION\n",
      "       Group      pKa  model-pKa   ligand atom-type\n",
      "   ASP  38 A     2.76       3.80                      \n",
      "   ASP  68 A     3.93       3.80                      \n",
      "   ASP  86 A     4.31       3.80                      \n",
      "   ASP  92 A     3.24       3.80                      \n",
      "   ASP 127 A     7.00       3.80                      \n",
      "   ASP 145 A     3.17       3.80                      \n",
      "   ASP 185 A     2.67       3.80                      \n",
      "   ASP 206 A     4.33       3.80                      \n",
      "   ASP 210 A     2.06       3.80                      \n",
      "   ASP 223 A     3.15       3.80                      \n",
      "   ASP 235 A     4.26       3.80                      \n",
      "   ASP 247 A     3.43       3.80                      \n",
      "   ASP 256 A     3.05       3.80                      \n",
      "   ASP 258 A     4.24       3.80                      \n",
      "   ASP 270 A     3.86       3.80                      \n",
      "   ASP 288 A     3.47       3.80                      \n",
      "   GLU   2 A     3.39       4.50                      \n",
      "   GLU   8 A     4.54       4.50                      \n",
      "   GLU  12 A     4.10       4.50                      \n",
      "   GLU  28 A     4.86       4.50                      \n",
      "   GLU  40 A     4.50       4.50                      \n",
      "   GLU  42 A     5.05       4.50                      \n",
      "   GLU  51 A     4.75       4.50                      \n",
      "   GLU  57 A     3.82       4.50                      \n",
      "   GLU  73 A     4.57       4.50                      \n",
      "   GLU  81 A     4.22       4.50                      \n",
      "   GLU 138 A     3.80       4.50                      \n",
      "   GLU 162 A     3.16       4.50                      \n",
      "   GLU 172 A     5.35       4.50                      \n",
      "   GLU 195 A     5.91       4.50                      \n",
      "   GLU 208 A     4.68       4.50                      \n",
      "   GLU 224 A     3.27       4.50                      \n",
      "   GLU 257 A     3.68       4.50                      \n",
      "   C-  298 A     3.31       3.20                      \n",
      "   HIS  60 A     5.29       6.50                      \n",
      "   HIS  71 A     6.17       6.50                      \n",
      "   HIS  84 A     5.84       6.50                      \n",
      "   HIS 119 A     6.38       6.50                      \n",
      "   HIS 121 A     6.54       6.50                      \n",
      "   HIS 125 A     5.39       6.50                      \n",
      "   HIS 161 A     6.26       6.50                      \n",
      "   HIS 268 A     5.41       6.50                      \n",
      "   HIS 283 A     5.54       6.50                      \n",
      "   HIS 295 A     6.11       6.50                      \n",
      "   CYS 118 A    12.91       9.00                      \n",
      "   CYS 177 A    12.02       9.00                      \n",
      "   CYS 191 A    12.83       9.00                      \n",
      "   TYR  15 A    14.52      10.00                      \n",
      "   TYR  19 A     8.83      10.00                      \n",
      "   TYR  77 A     9.93      10.00                      \n",
      "   TYR 107 A    12.99      10.00                      \n",
      "   TYR 159 A    10.50      10.00                      \n",
      "   TYR 168 A    14.94      10.00                      \n",
      "   TYR 179 A     9.28      10.00                      \n",
      "   TYR 180 A    12.01      10.00                      \n",
      "   TYR 236 A    10.22      10.00                      \n",
      "   TYR 269 A    14.09      10.00                      \n",
      "   LYS   6 A    10.21      10.50                      \n",
      "   LYS   9 A    10.57      10.50                      \n",
      "   LYS  20 A    10.29      10.50                      \n",
      "   LYS  24 A    10.11      10.50                      \n",
      "   LYS  33 A    11.54      10.50                      \n",
      "   LYS  34 A    11.06      10.50                      \n",
      "   LYS  56 A    10.39      10.50                      \n",
      "   LYS  65 A    10.31      10.50                      \n",
      "   LYS  75 A    10.93      10.50                      \n",
      "   LYS  88 A    11.53      10.50                      \n",
      "   LYS  89 A    10.80      10.50                      \n",
      "   LYS 105 A    10.63      10.50                      \n",
      "   LYS 129 A    10.30      10.50                      \n",
      "   LYS 142 A    10.49      10.50                      \n",
      "   LYS 178 A    10.91      10.50                      \n",
      "   LYS 237 A    10.41      10.50                      \n",
      "   LYS 242 A    10.48      10.50                      \n",
      "   LYS 250 A    10.40      10.50                      \n",
      "   LYS 273 A    10.50      10.50                      \n",
      "   LYS 278 A    10.30      10.50                      \n",
      "   LYS 291 A    10.08      10.50                      \n",
      "   ARG  22 A    12.18      12.50                      \n",
      "   ARG  36 A    12.53      12.50                      \n",
      "   ARG  50 A    11.09      12.50                      \n",
      "   ARG 122 A    13.10      12.50                      \n",
      "   ARG 126 A    11.29      12.50                      \n",
      "   ARG 150 A    12.97      12.50                      \n",
      "   ARG 157 A    12.52      12.50                      \n",
      "   ARG 169 A    11.33      12.50                      \n",
      "   ARG 199 A    12.17      12.50                      \n",
      "   ARG 200 A    12.39      12.50                      \n",
      "   ARG 214 A    13.58      12.50                      \n",
      "   ARG 217 A    12.04      12.50                      \n",
      "   ARG 245 A    11.51      12.50                      \n",
      "   ARG 260 A    13.12      12.50                      \n",
      "   ARG 274 A    11.78      12.50                      \n",
      "   ARG 297 A    11.98      12.50                      \n",
      "   N+    1 A     8.05       8.00                      \n",
      "\n",
      "INFO:PROPKA information:\n",
      "--------------------------------------------------------------------------------------------------------\n",
      "Free energy of   folding (kcal/mol) as a function of pH (using neutral reference)\n",
      "  0.00     40.79\n",
      "  1.00     40.71\n",
      "  2.00     40.04\n",
      "  3.00     36.83\n",
      "  4.00     31.19\n",
      "  5.00     29.63\n",
      "  6.00     28.77\n",
      "  7.00     26.80\n",
      "  8.00     26.46\n",
      "  9.00     27.17\n",
      " 10.00     30.74\n",
      " 11.00     39.33\n",
      " 12.00     47.19\n",
      " 13.00     52.85\n",
      " 14.00     57.84\n",
      "\n",
      "The pH of optimum stability is  7.8 for which the free energy is   26.4 kcal/mol at 298K\n",
      "Could not determine pH values where the free energy is within 80 % of minimum\n",
      "Could not determine the pH-range where the free energy is negative\n",
      "\n",
      "\n",
      "Protein charge of folded and unfolded state as a function of pH\n",
      "    pH  unfolded  folded\n",
      "  0.00     48.00   47.98\n",
      "  1.00     47.96   47.81\n",
      "  2.00     47.64   46.55\n",
      "  3.00     44.90   41.06\n",
      "  4.00     33.21   30.05\n",
      "  5.00     18.74   18.88\n",
      "  6.00     12.21   10.58\n",
      "  7.00      6.33    5.55\n",
      "  8.00      3.37    3.48\n",
      "  9.00      0.07    1.25\n",
      " 10.00     -9.81   -5.29\n",
      " 11.00    -25.51  -18.36\n",
      " 12.00    -34.10  -29.82\n",
      " 13.00    -43.08  -38.75\n",
      " 14.00    -46.50  -43.77\n",
      "The pI is  9.31 (folded) and  9.01 (unfolded)\n",
      "\n",
      "--------------------------------------------------------------------------------------------------------\n",
      "INFO:Applying pKa values at a pH of 7.40:\n",
      "INFO:Adding hydrogens to biomolecule.\n",
      "INFO:Debumping biomolecule (again).\n",
      "INFO:Optimizing hydrogen bonds\n",
      "INFO:Applying force field to biomolecule states.\n",
      "INFO:Applying custom naming scheme (amber).\n",
      "INFO:Regenerating headers.\n",
      "INFO:Regenerating PDB lines.\n",
      "WARNING:Ignoring 539 header lines in output.\n",
      "WARNING:Ignoring 539 header lines in output.\n",
      "\n",
      "None\n"
     ]
    }
   ],
   "source": [
    "# Prepare the protein using PDB2PQR\n",
    "from helper_modules.prepare_md_system import run_pdb2pqr\n",
    "OUT_PDB2PQR = 'prot.TEMP'\n",
    "run_pdb2pqr(input_pdb = INPUT_PROT,  \n",
    "            output_basename = f'{TMP_DIR}/{OUT_PDB2PQR}',\n",
    "            ph = PH,\n",
    "            verbose = True)"
   ]
  },
  {
   "cell_type": "markdown",
   "id": "3416ac9d",
   "metadata": {},
   "source": [
    "## Prepare protein topology file using `tleap`\n",
    "- Use the `ff14SB` forcefield"
   ]
  },
  {
   "cell_type": "code",
   "execution_count": 5,
   "id": "033e5513",
   "metadata": {},
   "outputs": [
    {
     "name": "stdout",
     "output_type": "stream",
     "text": [
      "-I: Adding /Users/joelricci/miniconda/envs/biobb/dat/leap/prep to search path.\n",
      "-I: Adding /Users/joelricci/miniconda/envs/biobb/dat/leap/lib to search path.\n",
      "-I: Adding /Users/joelricci/miniconda/envs/biobb/dat/leap/parm to search path.\n",
      "-I: Adding /Users/joelricci/miniconda/envs/biobb/dat/leap/cmd to search path.\n",
      "-f: Source ./../data/md_system_prep/ETA_systems/1fin/1fin-ETA_intermediate_files/leap_prep_system.in.\n",
      "\n",
      "Welcome to LEaP!\n",
      "(no leaprc in search path)\n",
      "Sourcing: ./../data/md_system_prep/ETA_systems/1fin/1fin-ETA_intermediate_files/leap_prep_system.in\n",
      "----- Source: /Users/joelricci/miniconda/envs/biobb/dat/leap/cmd/leaprc.protein.ff14SB\n",
      "----- Source of /Users/joelricci/miniconda/envs/biobb/dat/leap/cmd/leaprc.protein.ff14SB done\n",
      "Log file: ./leap.log\n",
      "Loading parameters: /Users/joelricci/miniconda/envs/biobb/dat/leap/parm/parm10.dat\n",
      "Reading title:\n",
      "PARM99 + frcmod.ff99SB + frcmod.parmbsc0 + OL3 for RNA\n",
      "Loading parameters: /Users/joelricci/miniconda/envs/biobb/dat/leap/parm/frcmod.ff14SB\n",
      "Reading force field modification type file (frcmod)\n",
      "Reading title:\n",
      "ff14SB protein backbone and sidechain parameters\n",
      "Loading library: /Users/joelricci/miniconda/envs/biobb/dat/leap/lib/amino12.lib\n",
      "Loading library: /Users/joelricci/miniconda/envs/biobb/dat/leap/lib/aminoct12.lib\n",
      "Loading library: /Users/joelricci/miniconda/envs/biobb/dat/leap/lib/aminont12.lib\n",
      "----- Source: /Users/joelricci/miniconda/envs/biobb/dat/leap/cmd/leaprc.gaff\n",
      "----- Source of /Users/joelricci/miniconda/envs/biobb/dat/leap/cmd/leaprc.gaff done\n",
      "Log file: ./leap.log\n",
      "Loading parameters: /Users/joelricci/miniconda/envs/biobb/dat/leap/parm/gaff.dat\n",
      "Reading title:\n",
      "AMBER General Force Field for organic molecules (Version 1.81, May 2017)\n",
      "----- Source: /Users/joelricci/miniconda/envs/biobb/dat/leap/cmd/leaprc.water.tip3p\n",
      "----- Source of /Users/joelricci/miniconda/envs/biobb/dat/leap/cmd/leaprc.water.tip3p done\n",
      "Loading library: /Users/joelricci/miniconda/envs/biobb/dat/leap/lib/atomic_ions.lib\n",
      "Loading library: /Users/joelricci/miniconda/envs/biobb/dat/leap/lib/solvents.lib\n",
      "Loading parameters: /Users/joelricci/miniconda/envs/biobb/dat/leap/parm/frcmod.tip3p\n",
      "Reading force field modification type file (frcmod)\n",
      "Reading title:\n",
      "This is the additional/replacement parameter set for TIP3P water\n",
      "Loading parameters: /Users/joelricci/miniconda/envs/biobb/dat/leap/parm/frcmod.ions1lm_126_tip3p\n",
      "Reading force field modification type file (frcmod)\n",
      "Reading title:\n",
      "Li/Merz ion parameters of monovalent ions for TIP3P water model (12-6 normal usage set)\n",
      "Loading parameters: /Users/joelricci/miniconda/envs/biobb/dat/leap/parm/frcmod.ionsjc_tip3p\n",
      "Reading force field modification type file (frcmod)\n",
      "Reading title:\n",
      "Monovalent ion parameters for Ewald and TIP3P water from Joung & Cheatham JPCB (2008)\n",
      "Loading parameters: /Users/joelricci/miniconda/envs/biobb/dat/leap/parm/frcmod.ions234lm_126_tip3p\n",
      "Reading force field modification type file (frcmod)\n",
      "Reading title:\n",
      "Li/Merz ion parameters of divalent to tetravalent ions for TIP3P water model (12-6 normal usage set)\n",
      "Loading parameters: /Users/joelricci/miniconda/envs/biobb/dat/leap/parm/frcmod.ionsjc_tip3p\n",
      "Reading force field modification type file (frcmod)\n",
      "Reading title:\n",
      "Monovalent ion parameters for Ewald and TIP3P water from Joung & Cheatham JPCB (2008)\n",
      "Loading PDB file: ./../data/md_system_prep/ETA_systems/1fin/1fin-ETA_intermediate_files/prot.TEMP.pdb\n",
      "  total atoms in file: 4848\n",
      "Checking 'system'....\n",
      "\n",
      "/Users/joelricci/miniconda/envs/biobb/bin/teLeap: Warning!\n",
      "The unperturbed charge of the unit (4.000000) is not zero.\n",
      "\n",
      "/Users/joelricci/miniconda/envs/biobb/bin/teLeap: Warning!\n",
      "Close contact of 1.096644 angstroms between .R<LYS 250>.A<HE3 16> and .R<ASP 247>.A<HB2 6>\n",
      "\n",
      "/Users/joelricci/miniconda/envs/biobb/bin/teLeap: Warning!\n",
      "Close contact of 1.254685 angstroms between .R<LYS 250>.A<HZ2 19> and .R<ASP 247>.A<H 2>\n",
      "\n",
      "/Users/joelricci/miniconda/envs/biobb/bin/teLeap: Warning!\n",
      "Close contact of 1.417937 angstroms between .R<LYS 237>.A<HG2 9> and .R<LYS 237>.A<HZ3 20>\n",
      "\n",
      "/Users/joelricci/miniconda/envs/biobb/bin/teLeap: Warning!\n",
      "Close contact of 1.481967 angstroms between .R<ASN 136>.A<HA 4> and .R<HID 84>.A<HD2 15>\n",
      "\n",
      "/Users/joelricci/miniconda/envs/biobb/bin/teLeap: Warning!\n",
      "Close contact of 1.376858 angstroms between .R<GLN 85>.A<HB2 6> and .R<GLN 85>.A<HE22 15>\n",
      "\n",
      "/Users/joelricci/miniconda/envs/biobb/bin/teLeap: Warning!\n",
      "Close contact of 1.446022 angstroms between .R<TYR 77>.A<HE2 17> and .R<LYS 75>.A<HZ1 18>\n",
      "\n",
      "/Users/joelricci/miniconda/envs/biobb/bin/teLeap: Warning!\n",
      "Close contact of 1.098154 angstroms between .R<ASN 74>.A<H 2> and .R<GLU 73>.A<HG3 10>\n",
      "\n",
      "/Users/joelricci/miniconda/envs/biobb/bin/teLeap: Warning!\n",
      "Close contact of 1.393694 angstroms between .R<GLU 42>.A<HB3 7> and .R<ASP 38>.A<HB3 7>\n",
      "Checking parameters for unit 'system'.\n",
      "Checking for bond parameters.\n",
      "Checking for angle parameters.\n",
      "check:  Warnings: 9\n",
      "Unit is OK.\n",
      "Total unperturbed charge:   4.000000\n",
      "Total perturbed charge:     4.000000\n",
      "Total unperturbed charge:   4.000000\n",
      "Total perturbed charge:     4.000000\n",
      "Writing pdb file: ./../data/md_system_prep/ETA_systems/1fin/1fin-ETA_intermediate_files/SYSTEM.pdb\n",
      "\n",
      "/Users/joelricci/miniconda/envs/biobb/bin/teLeap: Warning!\n",
      " Converting N-terminal residue name to PDB format: NMET -> MET\n",
      "\n",
      "/Users/joelricci/miniconda/envs/biobb/bin/teLeap: Warning!\n",
      " Converting C-terminal residue name to PDB format: CLEU -> LEU\n",
      "Checking Unit.\n",
      "\n",
      "/Users/joelricci/miniconda/envs/biobb/bin/teLeap: Warning!\n",
      "The unperturbed charge of the unit (4.000000) is not zero.\n",
      "\n",
      "/Users/joelricci/miniconda/envs/biobb/bin/teLeap: Note.\n",
      "Ignoring the warning from Unit Checking.\n",
      "\n",
      "Building topology.\n",
      "Building atom parameters.\n",
      "Building bond parameters.\n",
      "Building angle parameters.\n",
      "Building proper torsion parameters.\n",
      "Building improper torsion parameters.\n",
      " total 958 improper torsions applied\n",
      "Building H-Bond parameters.\n",
      "Incorporating Non-Bonded adjustments.\n",
      "Not Marking per-residue atom chain types.\n",
      "Marking per-residue atom chain types.\n",
      "  (Residues lacking connect0/connect1 - \n",
      "   these don't have chain types marked:\n",
      "\n",
      "\tres\ttotal affected\n",
      "\n",
      "\tCLEU\t1\n",
      "\tNMET\t1\n",
      "  )\n",
      " (no restraints)\n",
      "\tQuit\n",
      "\n",
      "Exiting LEaP: Errors = 0; Warnings = 12; Notes = 1.\n",
      "\n",
      "None\n"
     ]
    }
   ],
   "source": [
    "from helper_modules.prepare_md_system import run_tleap_prepare_system\n",
    "OUT_SYSTEM = 'SYSTEM'\n",
    "run_tleap_prepare_system(\n",
    "    input_protein_pdb  = 'prot.TEMP.pdb',\n",
    "    output_basename    = OUT_SYSTEM, \n",
    "    tmp_dir            = TMP_DIR, \n",
    "    input_ligand_basename = None,\n",
    "    input_waters_pdb      = None,\n",
    "    verbose               = True\n",
    ")"
   ]
  },
  {
   "cell_type": "markdown",
   "id": "777fc191",
   "metadata": {},
   "source": [
    "## Minimize hydrogens\n",
    "\n",
    "**Hydrogen minimization**, applying position restraints (50 $Kcal/mol\\cdotÅ^2$) to the protein heavy atoms.\n",
    "\n",
    "```fortran\n",
    "    Taken from  biobb_amber module from the BioBB library\n",
    "    Type of mdin: min_vacuo\n",
    "    &cntrl\n",
    "        imin = 1 \n",
    "        ncyc = 250 \n",
    "        ntb  = 0 \n",
    "        igb  = 0 \n",
    "        cut  = 12 \n",
    "        maxcyc = 500 \n",
    "        ntpr = 5 \n",
    "        ntr  = 1 \n",
    "        restraintmask = \":*&!@H=\" \n",
    "        restraint_wt = 500.0 \n",
    "    &end\n",
    "```"
   ]
  },
  {
   "cell_type": "code",
   "execution_count": 6,
   "id": "e3454fc3",
   "metadata": {},
   "outputs": [
    {
     "name": "stdout",
     "output_type": "stream",
     "text": [
      "\n",
      "None\n"
     ]
    }
   ],
   "source": [
    "from helper_modules.prepare_md_system import run_minimize_hydrogens\n",
    "\n",
    "OUT_MIN_SYSTEM = f'{OUT_SYSTEM}.minH'\n",
    "run_minimize_hydrogens(input_basename  = OUT_SYSTEM, \n",
    "                       output_basename = OUT_MIN_SYSTEM,\n",
    "                       tmp_dir = TMP_DIR,\n",
    "                       verbose = True)"
   ]
  },
  {
   "cell_type": "code",
   "execution_count": 7,
   "id": "6f6d954a",
   "metadata": {
    "scrolled": true
   },
   "outputs": [
    {
     "name": "stdout",
     "output_type": "stream",
     "text": [
      "2022-04-02 20:22:08,949 [MainThread  ] [INFO ]  Creating command line with instructions and required arguments\n",
      "2022-04-02 20:22:09,048 [MainThread  ] [INFO ]  process_minout.perl  ./../data/md_system_prep/ETA_systems/1fin/1fin-ETA_intermediate_files/sander.minH.log\n",
      "\n",
      "2022-04-02 20:22:09,049 [MainThread  ] [INFO ]  Exit code 0\n",
      "\n",
      "2022-04-02 20:22:09,050 [MainThread  ] [INFO ]  Processing sander output file (./../data/md_system_prep/ETA_systems/1fin/1fin-ETA_intermediate_files/sander.minH.log)...\n",
      "Processing step 50 of a possible 500...\n",
      "Processing step 100 of a possible 500...\n",
      "Processing step 150 of a possible 500...\n",
      "Processing step 200 of a possible 500...\n",
      "Processing step 250 of a possible 500...\n",
      "Processing step 300 of a possible 500...\n",
      "Processing step 350 of a possible 500...\n",
      "Processing step 400 of a possible 500...\n",
      "Processing step 450 of a possible 500...\n",
      "Processing step 500 of a possible 500...\n",
      "Processing step 500 of a possible 500...\n",
      "Starting output...\n",
      "Outputing summary.NSTEP\n",
      "Outputing summary.ENERGY\n",
      "Outputing summary.RMS\n",
      "Outputing summary.GMAX\n",
      "Outputing summary.NAME\n",
      "Outputing summary.NUMBER\n",
      "Outputing summary.BOND\n",
      "Outputing summary.ANGLE\n",
      "Outputing summary.DIHEDRAL\n",
      "Outputing summary.VDWAALS\n",
      "Outputing summary.EEL\n",
      "Outputing summary.HBOND\n",
      "Outputing summary.VDW14\n",
      "Outputing summary.EEL14\n",
      "Outputing summary.RESTRAINT\n",
      "\n",
      "2022-04-02 20:22:09,051 [MainThread  ] [INFO ]  perl: warning: Setting locale failed.\n",
      "perl: warning: Please check that your locale settings:\n",
      "\tLC_ALL = (unset),\n",
      "\tLC_TERMINAL_VERSION = \"3.4.15\",\n",
      "\tLC_CTYPE = \"UTF-8\",\n",
      "\tLC_TERMINAL = \"iTerm2\",\n",
      "\tLANG = \"es_419.UTF-8\"\n",
      "    are supported and installed on your system.\n",
      "perl: warning: Falling back to the standard locale (\"C\").\n",
      "\n",
      "2022-04-02 20:22:09,074 [MainThread  ] [INFO ]  Removed: [PosixPath('summary.RMS'), PosixPath('summary.EEL'), PosixPath('summary.NSTEP'), PosixPath('summary.GMAX'), PosixPath('summary.ENERGY'), PosixPath('summary.NAME'), PosixPath('summary.NUMBER'), PosixPath('summary.BOND'), PosixPath('summary.ANGLE'), PosixPath('summary.DIHEDRAL'), PosixPath('summary.VDWAALS'), PosixPath('summary.HBOND'), PosixPath('summary.VDW14'), PosixPath('summary.EEL14'), PosixPath('summary.RESTRAINT')]\n"
     ]
    },
    {
     "data": {
      "text/html": [
       "        <script type=\"text/javascript\">\n",
       "        window.PlotlyConfig = {MathJaxConfig: 'local'};\n",
       "        if (window.MathJax) {MathJax.Hub.Config({SVG: {font: \"STIX-Web\"}});}\n",
       "        if (typeof require !== 'undefined') {\n",
       "        require.undef(\"plotly\");\n",
       "        requirejs.config({\n",
       "            paths: {\n",
       "                'plotly': ['https://cdn.plot.ly/plotly-2.9.0.min']\n",
       "            }\n",
       "        });\n",
       "        require(['plotly'], function(Plotly) {\n",
       "            window._Plotly = Plotly;\n",
       "        });\n",
       "        }\n",
       "        </script>\n",
       "        "
      ]
     },
     "metadata": {},
     "output_type": "display_data"
    },
    {
     "data": {
      "application/vnd.plotly.v1+json": {
       "config": {
        "linkText": "Export to plot.ly",
        "plotlyServerURL": "https://plot.ly",
        "showLink": false
       },
       "data": [
        {
         "type": "scatter",
         "x": [
          25,
          30,
          35,
          40,
          45,
          50,
          55,
          60,
          65,
          70,
          75,
          80,
          85,
          90,
          95,
          100,
          105,
          110,
          115,
          120,
          125,
          130,
          135,
          140,
          145,
          150,
          155,
          160,
          165,
          170,
          175,
          180,
          185,
          190,
          195,
          200,
          205,
          210,
          215,
          220,
          225,
          230,
          235,
          240,
          245,
          250,
          255,
          260,
          265,
          270,
          275,
          280,
          285,
          290,
          295,
          300,
          305,
          310,
          315,
          320,
          325,
          330,
          335,
          340,
          345,
          350,
          355,
          360,
          365,
          370,
          375,
          380,
          385,
          390,
          395,
          400,
          405,
          410,
          415,
          420,
          425,
          430,
          435,
          440,
          445,
          450,
          455,
          460,
          465,
          470,
          475,
          480,
          485,
          490,
          495,
          500
         ],
         "y": [
          -823.68,
          -2952.7,
          -2486.9,
          -3204.6,
          -3222.1,
          -3471.8,
          -3510.5,
          -3527.2,
          -3544.4,
          -3561.4,
          -3509,
          -3522.1,
          -3534.4,
          -3545.5,
          -3557.5,
          -3557.3,
          -3566.3,
          -3570.8,
          -3587.4,
          -3596,
          -3642.9,
          -3652.6,
          -3661.3,
          -3670.1,
          -3678.4,
          -3700.2,
          -3707.4,
          -3714,
          -3720.2,
          -3726.6,
          -3774.8,
          -3783,
          -3785.7,
          -3791.6,
          -3797.3,
          -3817.1,
          -3821.9,
          -3827.6,
          -3833.2,
          -3838.5,
          -3819.6,
          -3823.3,
          -3828.7,
          -3832.7,
          -3837.5,
          -3844.1,
          -3851.1,
          -3892.8,
          -3919.2,
          -3935.1,
          -3848.3,
          -3849.6,
          -3853.5,
          -3859.9,
          -3864.5,
          -3899.6,
          -3900.6,
          -3903.6,
          -3907.3,
          -3909.3,
          -3817.8,
          -3818.5,
          -3820.3,
          -3823.4,
          -3825.3,
          -3869.7,
          -3870.8,
          -3873.2,
          -3876.5,
          -3878,
          -3826.1,
          -3826.8,
          -3828.3,
          -3830.7,
          -3832.4,
          -3876,
          -3876.9,
          -3878.2,
          -3880,
          -3880.8,
          -3819.3,
          -3819.4,
          -3820.2,
          -3821.2,
          -3822,
          -3895,
          -3895.4,
          -3896.2,
          -3897.1,
          -3897.5,
          -3846.1,
          -3845.8,
          -3846.8,
          -3847.5,
          -3847.9,
          -3882.5
         ]
        }
       ],
       "layout": {
        "template": {
         "data": {
          "bar": [
           {
            "error_x": {
             "color": "#2a3f5f"
            },
            "error_y": {
             "color": "#2a3f5f"
            },
            "marker": {
             "line": {
              "color": "#E5ECF6",
              "width": 0.5
             },
             "pattern": {
              "fillmode": "overlay",
              "size": 10,
              "solidity": 0.2
             }
            },
            "type": "bar"
           }
          ],
          "barpolar": [
           {
            "marker": {
             "line": {
              "color": "#E5ECF6",
              "width": 0.5
             },
             "pattern": {
              "fillmode": "overlay",
              "size": 10,
              "solidity": 0.2
             }
            },
            "type": "barpolar"
           }
          ],
          "carpet": [
           {
            "aaxis": {
             "endlinecolor": "#2a3f5f",
             "gridcolor": "white",
             "linecolor": "white",
             "minorgridcolor": "white",
             "startlinecolor": "#2a3f5f"
            },
            "baxis": {
             "endlinecolor": "#2a3f5f",
             "gridcolor": "white",
             "linecolor": "white",
             "minorgridcolor": "white",
             "startlinecolor": "#2a3f5f"
            },
            "type": "carpet"
           }
          ],
          "choropleth": [
           {
            "colorbar": {
             "outlinewidth": 0,
             "ticks": ""
            },
            "type": "choropleth"
           }
          ],
          "contour": [
           {
            "colorbar": {
             "outlinewidth": 0,
             "ticks": ""
            },
            "colorscale": [
             [
              0,
              "#0d0887"
             ],
             [
              0.1111111111111111,
              "#46039f"
             ],
             [
              0.2222222222222222,
              "#7201a8"
             ],
             [
              0.3333333333333333,
              "#9c179e"
             ],
             [
              0.4444444444444444,
              "#bd3786"
             ],
             [
              0.5555555555555556,
              "#d8576b"
             ],
             [
              0.6666666666666666,
              "#ed7953"
             ],
             [
              0.7777777777777778,
              "#fb9f3a"
             ],
             [
              0.8888888888888888,
              "#fdca26"
             ],
             [
              1,
              "#f0f921"
             ]
            ],
            "type": "contour"
           }
          ],
          "contourcarpet": [
           {
            "colorbar": {
             "outlinewidth": 0,
             "ticks": ""
            },
            "type": "contourcarpet"
           }
          ],
          "heatmap": [
           {
            "colorbar": {
             "outlinewidth": 0,
             "ticks": ""
            },
            "colorscale": [
             [
              0,
              "#0d0887"
             ],
             [
              0.1111111111111111,
              "#46039f"
             ],
             [
              0.2222222222222222,
              "#7201a8"
             ],
             [
              0.3333333333333333,
              "#9c179e"
             ],
             [
              0.4444444444444444,
              "#bd3786"
             ],
             [
              0.5555555555555556,
              "#d8576b"
             ],
             [
              0.6666666666666666,
              "#ed7953"
             ],
             [
              0.7777777777777778,
              "#fb9f3a"
             ],
             [
              0.8888888888888888,
              "#fdca26"
             ],
             [
              1,
              "#f0f921"
             ]
            ],
            "type": "heatmap"
           }
          ],
          "heatmapgl": [
           {
            "colorbar": {
             "outlinewidth": 0,
             "ticks": ""
            },
            "colorscale": [
             [
              0,
              "#0d0887"
             ],
             [
              0.1111111111111111,
              "#46039f"
             ],
             [
              0.2222222222222222,
              "#7201a8"
             ],
             [
              0.3333333333333333,
              "#9c179e"
             ],
             [
              0.4444444444444444,
              "#bd3786"
             ],
             [
              0.5555555555555556,
              "#d8576b"
             ],
             [
              0.6666666666666666,
              "#ed7953"
             ],
             [
              0.7777777777777778,
              "#fb9f3a"
             ],
             [
              0.8888888888888888,
              "#fdca26"
             ],
             [
              1,
              "#f0f921"
             ]
            ],
            "type": "heatmapgl"
           }
          ],
          "histogram": [
           {
            "marker": {
             "pattern": {
              "fillmode": "overlay",
              "size": 10,
              "solidity": 0.2
             }
            },
            "type": "histogram"
           }
          ],
          "histogram2d": [
           {
            "colorbar": {
             "outlinewidth": 0,
             "ticks": ""
            },
            "colorscale": [
             [
              0,
              "#0d0887"
             ],
             [
              0.1111111111111111,
              "#46039f"
             ],
             [
              0.2222222222222222,
              "#7201a8"
             ],
             [
              0.3333333333333333,
              "#9c179e"
             ],
             [
              0.4444444444444444,
              "#bd3786"
             ],
             [
              0.5555555555555556,
              "#d8576b"
             ],
             [
              0.6666666666666666,
              "#ed7953"
             ],
             [
              0.7777777777777778,
              "#fb9f3a"
             ],
             [
              0.8888888888888888,
              "#fdca26"
             ],
             [
              1,
              "#f0f921"
             ]
            ],
            "type": "histogram2d"
           }
          ],
          "histogram2dcontour": [
           {
            "colorbar": {
             "outlinewidth": 0,
             "ticks": ""
            },
            "colorscale": [
             [
              0,
              "#0d0887"
             ],
             [
              0.1111111111111111,
              "#46039f"
             ],
             [
              0.2222222222222222,
              "#7201a8"
             ],
             [
              0.3333333333333333,
              "#9c179e"
             ],
             [
              0.4444444444444444,
              "#bd3786"
             ],
             [
              0.5555555555555556,
              "#d8576b"
             ],
             [
              0.6666666666666666,
              "#ed7953"
             ],
             [
              0.7777777777777778,
              "#fb9f3a"
             ],
             [
              0.8888888888888888,
              "#fdca26"
             ],
             [
              1,
              "#f0f921"
             ]
            ],
            "type": "histogram2dcontour"
           }
          ],
          "mesh3d": [
           {
            "colorbar": {
             "outlinewidth": 0,
             "ticks": ""
            },
            "type": "mesh3d"
           }
          ],
          "parcoords": [
           {
            "line": {
             "colorbar": {
              "outlinewidth": 0,
              "ticks": ""
             }
            },
            "type": "parcoords"
           }
          ],
          "pie": [
           {
            "automargin": true,
            "type": "pie"
           }
          ],
          "scatter": [
           {
            "marker": {
             "colorbar": {
              "outlinewidth": 0,
              "ticks": ""
             }
            },
            "type": "scatter"
           }
          ],
          "scatter3d": [
           {
            "line": {
             "colorbar": {
              "outlinewidth": 0,
              "ticks": ""
             }
            },
            "marker": {
             "colorbar": {
              "outlinewidth": 0,
              "ticks": ""
             }
            },
            "type": "scatter3d"
           }
          ],
          "scattercarpet": [
           {
            "marker": {
             "colorbar": {
              "outlinewidth": 0,
              "ticks": ""
             }
            },
            "type": "scattercarpet"
           }
          ],
          "scattergeo": [
           {
            "marker": {
             "colorbar": {
              "outlinewidth": 0,
              "ticks": ""
             }
            },
            "type": "scattergeo"
           }
          ],
          "scattergl": [
           {
            "marker": {
             "colorbar": {
              "outlinewidth": 0,
              "ticks": ""
             }
            },
            "type": "scattergl"
           }
          ],
          "scattermapbox": [
           {
            "marker": {
             "colorbar": {
              "outlinewidth": 0,
              "ticks": ""
             }
            },
            "type": "scattermapbox"
           }
          ],
          "scatterpolar": [
           {
            "marker": {
             "colorbar": {
              "outlinewidth": 0,
              "ticks": ""
             }
            },
            "type": "scatterpolar"
           }
          ],
          "scatterpolargl": [
           {
            "marker": {
             "colorbar": {
              "outlinewidth": 0,
              "ticks": ""
             }
            },
            "type": "scatterpolargl"
           }
          ],
          "scatterternary": [
           {
            "marker": {
             "colorbar": {
              "outlinewidth": 0,
              "ticks": ""
             }
            },
            "type": "scatterternary"
           }
          ],
          "surface": [
           {
            "colorbar": {
             "outlinewidth": 0,
             "ticks": ""
            },
            "colorscale": [
             [
              0,
              "#0d0887"
             ],
             [
              0.1111111111111111,
              "#46039f"
             ],
             [
              0.2222222222222222,
              "#7201a8"
             ],
             [
              0.3333333333333333,
              "#9c179e"
             ],
             [
              0.4444444444444444,
              "#bd3786"
             ],
             [
              0.5555555555555556,
              "#d8576b"
             ],
             [
              0.6666666666666666,
              "#ed7953"
             ],
             [
              0.7777777777777778,
              "#fb9f3a"
             ],
             [
              0.8888888888888888,
              "#fdca26"
             ],
             [
              1,
              "#f0f921"
             ]
            ],
            "type": "surface"
           }
          ],
          "table": [
           {
            "cells": {
             "fill": {
              "color": "#EBF0F8"
             },
             "line": {
              "color": "white"
             }
            },
            "header": {
             "fill": {
              "color": "#C8D4E3"
             },
             "line": {
              "color": "white"
             }
            },
            "type": "table"
           }
          ]
         },
         "layout": {
          "annotationdefaults": {
           "arrowcolor": "#2a3f5f",
           "arrowhead": 0,
           "arrowwidth": 1
          },
          "autotypenumbers": "strict",
          "coloraxis": {
           "colorbar": {
            "outlinewidth": 0,
            "ticks": ""
           }
          },
          "colorscale": {
           "diverging": [
            [
             0,
             "#8e0152"
            ],
            [
             0.1,
             "#c51b7d"
            ],
            [
             0.2,
             "#de77ae"
            ],
            [
             0.3,
             "#f1b6da"
            ],
            [
             0.4,
             "#fde0ef"
            ],
            [
             0.5,
             "#f7f7f7"
            ],
            [
             0.6,
             "#e6f5d0"
            ],
            [
             0.7,
             "#b8e186"
            ],
            [
             0.8,
             "#7fbc41"
            ],
            [
             0.9,
             "#4d9221"
            ],
            [
             1,
             "#276419"
            ]
           ],
           "sequential": [
            [
             0,
             "#0d0887"
            ],
            [
             0.1111111111111111,
             "#46039f"
            ],
            [
             0.2222222222222222,
             "#7201a8"
            ],
            [
             0.3333333333333333,
             "#9c179e"
            ],
            [
             0.4444444444444444,
             "#bd3786"
            ],
            [
             0.5555555555555556,
             "#d8576b"
            ],
            [
             0.6666666666666666,
             "#ed7953"
            ],
            [
             0.7777777777777778,
             "#fb9f3a"
            ],
            [
             0.8888888888888888,
             "#fdca26"
            ],
            [
             1,
             "#f0f921"
            ]
           ],
           "sequentialminus": [
            [
             0,
             "#0d0887"
            ],
            [
             0.1111111111111111,
             "#46039f"
            ],
            [
             0.2222222222222222,
             "#7201a8"
            ],
            [
             0.3333333333333333,
             "#9c179e"
            ],
            [
             0.4444444444444444,
             "#bd3786"
            ],
            [
             0.5555555555555556,
             "#d8576b"
            ],
            [
             0.6666666666666666,
             "#ed7953"
            ],
            [
             0.7777777777777778,
             "#fb9f3a"
            ],
            [
             0.8888888888888888,
             "#fdca26"
            ],
            [
             1,
             "#f0f921"
            ]
           ]
          },
          "colorway": [
           "#636efa",
           "#EF553B",
           "#00cc96",
           "#ab63fa",
           "#FFA15A",
           "#19d3f3",
           "#FF6692",
           "#B6E880",
           "#FF97FF",
           "#FECB52"
          ],
          "font": {
           "color": "#2a3f5f"
          },
          "geo": {
           "bgcolor": "white",
           "lakecolor": "white",
           "landcolor": "#E5ECF6",
           "showlakes": true,
           "showland": true,
           "subunitcolor": "white"
          },
          "hoverlabel": {
           "align": "left"
          },
          "hovermode": "closest",
          "mapbox": {
           "style": "light"
          },
          "paper_bgcolor": "white",
          "plot_bgcolor": "#E5ECF6",
          "polar": {
           "angularaxis": {
            "gridcolor": "white",
            "linecolor": "white",
            "ticks": ""
           },
           "bgcolor": "#E5ECF6",
           "radialaxis": {
            "gridcolor": "white",
            "linecolor": "white",
            "ticks": ""
           }
          },
          "scene": {
           "xaxis": {
            "backgroundcolor": "#E5ECF6",
            "gridcolor": "white",
            "gridwidth": 2,
            "linecolor": "white",
            "showbackground": true,
            "ticks": "",
            "zerolinecolor": "white"
           },
           "yaxis": {
            "backgroundcolor": "#E5ECF6",
            "gridcolor": "white",
            "gridwidth": 2,
            "linecolor": "white",
            "showbackground": true,
            "ticks": "",
            "zerolinecolor": "white"
           },
           "zaxis": {
            "backgroundcolor": "#E5ECF6",
            "gridcolor": "white",
            "gridwidth": 2,
            "linecolor": "white",
            "showbackground": true,
            "ticks": "",
            "zerolinecolor": "white"
           }
          },
          "shapedefaults": {
           "line": {
            "color": "#2a3f5f"
           }
          },
          "ternary": {
           "aaxis": {
            "gridcolor": "white",
            "linecolor": "white",
            "ticks": ""
           },
           "baxis": {
            "gridcolor": "white",
            "linecolor": "white",
            "ticks": ""
           },
           "bgcolor": "#E5ECF6",
           "caxis": {
            "gridcolor": "white",
            "linecolor": "white",
            "ticks": ""
           }
          },
          "title": {
           "x": 0.05
          },
          "xaxis": {
           "automargin": true,
           "gridcolor": "white",
           "linecolor": "white",
           "ticks": "",
           "title": {
            "standoff": 15
           },
           "zerolinecolor": "white",
           "zerolinewidth": 2
          },
          "yaxis": {
           "automargin": true,
           "gridcolor": "white",
           "linecolor": "white",
           "ticks": "",
           "title": {
            "standoff": 15
           },
           "zerolinecolor": "white",
           "zerolinewidth": 2
          }
         }
        },
        "title": {
         "text": "Energy Minimization"
        },
        "xaxis": {
         "title": {
          "text": "Energy Minimization Step"
         }
        },
        "yaxis": {
         "title": {
          "text": "Potential Energy kcal/mol"
         }
        }
       }
      },
      "text/html": [
       "<div>                            <div id=\"6277b025-9c04-469a-babb-b589b0bdd6bd\" class=\"plotly-graph-div\" style=\"height:525px; width:100%;\"></div>            <script type=\"text/javascript\">                require([\"plotly\"], function(Plotly) {                    window.PLOTLYENV=window.PLOTLYENV || {};                                    if (document.getElementById(\"6277b025-9c04-469a-babb-b589b0bdd6bd\")) {                    Plotly.newPlot(                        \"6277b025-9c04-469a-babb-b589b0bdd6bd\",                        [{\"x\":[25.0,30.0,35.0,40.0,45.0,50.0,55.0,60.0,65.0,70.0,75.0,80.0,85.0,90.0,95.0,100.0,105.0,110.0,115.0,120.0,125.0,130.0,135.0,140.0,145.0,150.0,155.0,160.0,165.0,170.0,175.0,180.0,185.0,190.0,195.0,200.0,205.0,210.0,215.0,220.0,225.0,230.0,235.0,240.0,245.0,250.0,255.0,260.0,265.0,270.0,275.0,280.0,285.0,290.0,295.0,300.0,305.0,310.0,315.0,320.0,325.0,330.0,335.0,340.0,345.0,350.0,355.0,360.0,365.0,370.0,375.0,380.0,385.0,390.0,395.0,400.0,405.0,410.0,415.0,420.0,425.0,430.0,435.0,440.0,445.0,450.0,455.0,460.0,465.0,470.0,475.0,480.0,485.0,490.0,495.0,500.0],\"y\":[-823.68,-2952.7,-2486.9,-3204.6,-3222.1,-3471.8,-3510.5,-3527.2,-3544.4,-3561.4,-3509.0,-3522.1,-3534.4,-3545.5,-3557.5,-3557.3,-3566.3,-3570.8,-3587.4,-3596.0,-3642.9,-3652.6,-3661.3,-3670.1,-3678.4,-3700.2,-3707.4,-3714.0,-3720.2,-3726.6,-3774.8,-3783.0,-3785.7,-3791.6,-3797.3,-3817.1,-3821.9,-3827.6,-3833.2,-3838.5,-3819.6,-3823.3,-3828.7,-3832.7,-3837.5,-3844.1,-3851.1,-3892.8,-3919.2,-3935.1,-3848.3,-3849.6,-3853.5,-3859.9,-3864.5,-3899.6,-3900.6,-3903.6,-3907.3,-3909.3,-3817.8,-3818.5,-3820.3,-3823.4,-3825.3,-3869.7,-3870.8,-3873.2,-3876.5,-3878.0,-3826.1,-3826.8,-3828.3,-3830.7,-3832.4,-3876.0,-3876.9,-3878.2,-3880.0,-3880.8,-3819.3,-3819.4,-3820.2,-3821.2,-3822.0,-3895.0,-3895.4,-3896.2,-3897.1,-3897.5,-3846.1,-3845.8,-3846.8,-3847.5,-3847.9,-3882.5],\"type\":\"scatter\"}],                        {\"template\":{\"data\":{\"barpolar\":[{\"marker\":{\"line\":{\"color\":\"#E5ECF6\",\"width\":0.5},\"pattern\":{\"fillmode\":\"overlay\",\"size\":10,\"solidity\":0.2}},\"type\":\"barpolar\"}],\"bar\":[{\"error_x\":{\"color\":\"#2a3f5f\"},\"error_y\":{\"color\":\"#2a3f5f\"},\"marker\":{\"line\":{\"color\":\"#E5ECF6\",\"width\":0.5},\"pattern\":{\"fillmode\":\"overlay\",\"size\":10,\"solidity\":0.2}},\"type\":\"bar\"}],\"carpet\":[{\"aaxis\":{\"endlinecolor\":\"#2a3f5f\",\"gridcolor\":\"white\",\"linecolor\":\"white\",\"minorgridcolor\":\"white\",\"startlinecolor\":\"#2a3f5f\"},\"baxis\":{\"endlinecolor\":\"#2a3f5f\",\"gridcolor\":\"white\",\"linecolor\":\"white\",\"minorgridcolor\":\"white\",\"startlinecolor\":\"#2a3f5f\"},\"type\":\"carpet\"}],\"choropleth\":[{\"colorbar\":{\"outlinewidth\":0,\"ticks\":\"\"},\"type\":\"choropleth\"}],\"contourcarpet\":[{\"colorbar\":{\"outlinewidth\":0,\"ticks\":\"\"},\"type\":\"contourcarpet\"}],\"contour\":[{\"colorbar\":{\"outlinewidth\":0,\"ticks\":\"\"},\"colorscale\":[[0.0,\"#0d0887\"],[0.1111111111111111,\"#46039f\"],[0.2222222222222222,\"#7201a8\"],[0.3333333333333333,\"#9c179e\"],[0.4444444444444444,\"#bd3786\"],[0.5555555555555556,\"#d8576b\"],[0.6666666666666666,\"#ed7953\"],[0.7777777777777778,\"#fb9f3a\"],[0.8888888888888888,\"#fdca26\"],[1.0,\"#f0f921\"]],\"type\":\"contour\"}],\"heatmapgl\":[{\"colorbar\":{\"outlinewidth\":0,\"ticks\":\"\"},\"colorscale\":[[0.0,\"#0d0887\"],[0.1111111111111111,\"#46039f\"],[0.2222222222222222,\"#7201a8\"],[0.3333333333333333,\"#9c179e\"],[0.4444444444444444,\"#bd3786\"],[0.5555555555555556,\"#d8576b\"],[0.6666666666666666,\"#ed7953\"],[0.7777777777777778,\"#fb9f3a\"],[0.8888888888888888,\"#fdca26\"],[1.0,\"#f0f921\"]],\"type\":\"heatmapgl\"}],\"heatmap\":[{\"colorbar\":{\"outlinewidth\":0,\"ticks\":\"\"},\"colorscale\":[[0.0,\"#0d0887\"],[0.1111111111111111,\"#46039f\"],[0.2222222222222222,\"#7201a8\"],[0.3333333333333333,\"#9c179e\"],[0.4444444444444444,\"#bd3786\"],[0.5555555555555556,\"#d8576b\"],[0.6666666666666666,\"#ed7953\"],[0.7777777777777778,\"#fb9f3a\"],[0.8888888888888888,\"#fdca26\"],[1.0,\"#f0f921\"]],\"type\":\"heatmap\"}],\"histogram2dcontour\":[{\"colorbar\":{\"outlinewidth\":0,\"ticks\":\"\"},\"colorscale\":[[0.0,\"#0d0887\"],[0.1111111111111111,\"#46039f\"],[0.2222222222222222,\"#7201a8\"],[0.3333333333333333,\"#9c179e\"],[0.4444444444444444,\"#bd3786\"],[0.5555555555555556,\"#d8576b\"],[0.6666666666666666,\"#ed7953\"],[0.7777777777777778,\"#fb9f3a\"],[0.8888888888888888,\"#fdca26\"],[1.0,\"#f0f921\"]],\"type\":\"histogram2dcontour\"}],\"histogram2d\":[{\"colorbar\":{\"outlinewidth\":0,\"ticks\":\"\"},\"colorscale\":[[0.0,\"#0d0887\"],[0.1111111111111111,\"#46039f\"],[0.2222222222222222,\"#7201a8\"],[0.3333333333333333,\"#9c179e\"],[0.4444444444444444,\"#bd3786\"],[0.5555555555555556,\"#d8576b\"],[0.6666666666666666,\"#ed7953\"],[0.7777777777777778,\"#fb9f3a\"],[0.8888888888888888,\"#fdca26\"],[1.0,\"#f0f921\"]],\"type\":\"histogram2d\"}],\"histogram\":[{\"marker\":{\"pattern\":{\"fillmode\":\"overlay\",\"size\":10,\"solidity\":0.2}},\"type\":\"histogram\"}],\"mesh3d\":[{\"colorbar\":{\"outlinewidth\":0,\"ticks\":\"\"},\"type\":\"mesh3d\"}],\"parcoords\":[{\"line\":{\"colorbar\":{\"outlinewidth\":0,\"ticks\":\"\"}},\"type\":\"parcoords\"}],\"pie\":[{\"automargin\":true,\"type\":\"pie\"}],\"scatter3d\":[{\"line\":{\"colorbar\":{\"outlinewidth\":0,\"ticks\":\"\"}},\"marker\":{\"colorbar\":{\"outlinewidth\":0,\"ticks\":\"\"}},\"type\":\"scatter3d\"}],\"scattercarpet\":[{\"marker\":{\"colorbar\":{\"outlinewidth\":0,\"ticks\":\"\"}},\"type\":\"scattercarpet\"}],\"scattergeo\":[{\"marker\":{\"colorbar\":{\"outlinewidth\":0,\"ticks\":\"\"}},\"type\":\"scattergeo\"}],\"scattergl\":[{\"marker\":{\"colorbar\":{\"outlinewidth\":0,\"ticks\":\"\"}},\"type\":\"scattergl\"}],\"scattermapbox\":[{\"marker\":{\"colorbar\":{\"outlinewidth\":0,\"ticks\":\"\"}},\"type\":\"scattermapbox\"}],\"scatterpolargl\":[{\"marker\":{\"colorbar\":{\"outlinewidth\":0,\"ticks\":\"\"}},\"type\":\"scatterpolargl\"}],\"scatterpolar\":[{\"marker\":{\"colorbar\":{\"outlinewidth\":0,\"ticks\":\"\"}},\"type\":\"scatterpolar\"}],\"scatter\":[{\"marker\":{\"colorbar\":{\"outlinewidth\":0,\"ticks\":\"\"}},\"type\":\"scatter\"}],\"scatterternary\":[{\"marker\":{\"colorbar\":{\"outlinewidth\":0,\"ticks\":\"\"}},\"type\":\"scatterternary\"}],\"surface\":[{\"colorbar\":{\"outlinewidth\":0,\"ticks\":\"\"},\"colorscale\":[[0.0,\"#0d0887\"],[0.1111111111111111,\"#46039f\"],[0.2222222222222222,\"#7201a8\"],[0.3333333333333333,\"#9c179e\"],[0.4444444444444444,\"#bd3786\"],[0.5555555555555556,\"#d8576b\"],[0.6666666666666666,\"#ed7953\"],[0.7777777777777778,\"#fb9f3a\"],[0.8888888888888888,\"#fdca26\"],[1.0,\"#f0f921\"]],\"type\":\"surface\"}],\"table\":[{\"cells\":{\"fill\":{\"color\":\"#EBF0F8\"},\"line\":{\"color\":\"white\"}},\"header\":{\"fill\":{\"color\":\"#C8D4E3\"},\"line\":{\"color\":\"white\"}},\"type\":\"table\"}]},\"layout\":{\"annotationdefaults\":{\"arrowcolor\":\"#2a3f5f\",\"arrowhead\":0,\"arrowwidth\":1},\"autotypenumbers\":\"strict\",\"coloraxis\":{\"colorbar\":{\"outlinewidth\":0,\"ticks\":\"\"}},\"colorscale\":{\"diverging\":[[0,\"#8e0152\"],[0.1,\"#c51b7d\"],[0.2,\"#de77ae\"],[0.3,\"#f1b6da\"],[0.4,\"#fde0ef\"],[0.5,\"#f7f7f7\"],[0.6,\"#e6f5d0\"],[0.7,\"#b8e186\"],[0.8,\"#7fbc41\"],[0.9,\"#4d9221\"],[1,\"#276419\"]],\"sequential\":[[0.0,\"#0d0887\"],[0.1111111111111111,\"#46039f\"],[0.2222222222222222,\"#7201a8\"],[0.3333333333333333,\"#9c179e\"],[0.4444444444444444,\"#bd3786\"],[0.5555555555555556,\"#d8576b\"],[0.6666666666666666,\"#ed7953\"],[0.7777777777777778,\"#fb9f3a\"],[0.8888888888888888,\"#fdca26\"],[1.0,\"#f0f921\"]],\"sequentialminus\":[[0.0,\"#0d0887\"],[0.1111111111111111,\"#46039f\"],[0.2222222222222222,\"#7201a8\"],[0.3333333333333333,\"#9c179e\"],[0.4444444444444444,\"#bd3786\"],[0.5555555555555556,\"#d8576b\"],[0.6666666666666666,\"#ed7953\"],[0.7777777777777778,\"#fb9f3a\"],[0.8888888888888888,\"#fdca26\"],[1.0,\"#f0f921\"]]},\"colorway\":[\"#636efa\",\"#EF553B\",\"#00cc96\",\"#ab63fa\",\"#FFA15A\",\"#19d3f3\",\"#FF6692\",\"#B6E880\",\"#FF97FF\",\"#FECB52\"],\"font\":{\"color\":\"#2a3f5f\"},\"geo\":{\"bgcolor\":\"white\",\"lakecolor\":\"white\",\"landcolor\":\"#E5ECF6\",\"showlakes\":true,\"showland\":true,\"subunitcolor\":\"white\"},\"hoverlabel\":{\"align\":\"left\"},\"hovermode\":\"closest\",\"mapbox\":{\"style\":\"light\"},\"paper_bgcolor\":\"white\",\"plot_bgcolor\":\"#E5ECF6\",\"polar\":{\"angularaxis\":{\"gridcolor\":\"white\",\"linecolor\":\"white\",\"ticks\":\"\"},\"bgcolor\":\"#E5ECF6\",\"radialaxis\":{\"gridcolor\":\"white\",\"linecolor\":\"white\",\"ticks\":\"\"}},\"scene\":{\"xaxis\":{\"backgroundcolor\":\"#E5ECF6\",\"gridcolor\":\"white\",\"gridwidth\":2,\"linecolor\":\"white\",\"showbackground\":true,\"ticks\":\"\",\"zerolinecolor\":\"white\"},\"yaxis\":{\"backgroundcolor\":\"#E5ECF6\",\"gridcolor\":\"white\",\"gridwidth\":2,\"linecolor\":\"white\",\"showbackground\":true,\"ticks\":\"\",\"zerolinecolor\":\"white\"},\"zaxis\":{\"backgroundcolor\":\"#E5ECF6\",\"gridcolor\":\"white\",\"gridwidth\":2,\"linecolor\":\"white\",\"showbackground\":true,\"ticks\":\"\",\"zerolinecolor\":\"white\"}},\"shapedefaults\":{\"line\":{\"color\":\"#2a3f5f\"}},\"ternary\":{\"aaxis\":{\"gridcolor\":\"white\",\"linecolor\":\"white\",\"ticks\":\"\"},\"baxis\":{\"gridcolor\":\"white\",\"linecolor\":\"white\",\"ticks\":\"\"},\"bgcolor\":\"#E5ECF6\",\"caxis\":{\"gridcolor\":\"white\",\"linecolor\":\"white\",\"ticks\":\"\"}},\"title\":{\"x\":0.05},\"xaxis\":{\"automargin\":true,\"gridcolor\":\"white\",\"linecolor\":\"white\",\"ticks\":\"\",\"title\":{\"standoff\":15},\"zerolinecolor\":\"white\",\"zerolinewidth\":2},\"yaxis\":{\"automargin\":true,\"gridcolor\":\"white\",\"linecolor\":\"white\",\"ticks\":\"\",\"title\":{\"standoff\":15},\"zerolinecolor\":\"white\",\"zerolinewidth\":2}}},\"title\":{\"text\":\"Energy Minimization\"},\"xaxis\":{\"title\":{\"text\":\"Energy Minimization Step\"}},\"yaxis\":{\"title\":{\"text\":\"Potential Energy kcal/mol\"}}},                        {\"responsive\": true}                    ).then(function(){\n",
       "                            \n",
       "var gd = document.getElementById('6277b025-9c04-469a-babb-b589b0bdd6bd');\n",
       "var x = new MutationObserver(function (mutations, observer) {{\n",
       "        var display = window.getComputedStyle(gd).display;\n",
       "        if (!display || display === 'none') {{\n",
       "            console.log([gd, 'removed!']);\n",
       "            Plotly.purge(gd);\n",
       "            observer.disconnect();\n",
       "        }}\n",
       "}});\n",
       "\n",
       "// Listen for the removal of the full notebook cells\n",
       "var notebookContainer = gd.closest('#notebook-container');\n",
       "if (notebookContainer) {{\n",
       "    x.observe(notebookContainer, {childList: true});\n",
       "}}\n",
       "\n",
       "// Listen for the clearing of the current output cell\n",
       "var outputEl = gd.closest('.output');\n",
       "if (outputEl) {{\n",
       "    x.observe(outputEl, {childList: true});\n",
       "}}\n",
       "\n",
       "                        })                };                });            </script>        </div>"
      ]
     },
     "metadata": {},
     "output_type": "display_data"
    }
   ],
   "source": [
    "from biobb_amber.process.process_minout import process_minout\n",
    "\n",
    "process_minout(input_log_path  = f'{TMP_DIR}/sander.minH.log',\n",
    "               output_dat_path = f'{TMP_DIR}/sander.minH.dat',\n",
    "               properties      = {'terms': ['ENERGY']})\n",
    "\n",
    "with open(f'{TMP_DIR}/sander.minH.dat', 'r') as energy_file:\n",
    "    x,y = map(\n",
    "        list,\n",
    "        zip(*[\n",
    "            (float(line.split()[0]),float(line.split()[1]))\n",
    "            for line in energy_file \n",
    "            if not line.startswith((\"#\",\"@\")) \n",
    "            if float(line.split()[1]) < 1000 \n",
    "        ])\n",
    "    )\n",
    "\n",
    "plotly.offline.init_notebook_mode(connected=True)\n",
    "\n",
    "fig = {\n",
    "    \"data\": [go.Scatter(x=x, y=y)],\n",
    "    \"layout\": go.Layout(title=\"Energy Minimization\",\n",
    "                        xaxis=dict(title = \"Energy Minimization Step\"),\n",
    "                        yaxis=dict(title = \"Potential Energy kcal/mol\")\n",
    "                       )\n",
    "}\n",
    "\n",
    "plotly.offline.iplot(fig)"
   ]
  },
  {
   "cell_type": "markdown",
   "id": "d9621f4b",
   "metadata": {},
   "source": [
    "## Solvate the system\n",
    "\n",
    "- `water_type` = `tip3p` water model\n",
    "- `box_type` = truncated octahedron \n",
    "- padding distance of 1.2 Å."
   ]
  },
  {
   "cell_type": "code",
   "execution_count": 8,
   "id": "91ae1e98",
   "metadata": {},
   "outputs": [
    {
     "name": "stdout",
     "output_type": "stream",
     "text": [
      "-I: Adding /Users/joelricci/miniconda/envs/biobb/dat/leap/prep to search path.\n",
      "-I: Adding /Users/joelricci/miniconda/envs/biobb/dat/leap/lib to search path.\n",
      "-I: Adding /Users/joelricci/miniconda/envs/biobb/dat/leap/parm to search path.\n",
      "-I: Adding /Users/joelricci/miniconda/envs/biobb/dat/leap/cmd to search path.\n",
      "-f: Source ./../data/md_system_prep/ETA_systems/1fin/1fin-ETA_intermediate_files/leap_prep_SOLV.in.\n",
      "\n",
      "Welcome to LEaP!\n",
      "(no leaprc in search path)\n",
      "Sourcing: ./../data/md_system_prep/ETA_systems/1fin/1fin-ETA_intermediate_files/leap_prep_SOLV.in\n",
      "----- Source: /Users/joelricci/miniconda/envs/biobb/dat/leap/cmd/leaprc.protein.ff14SB\n",
      "----- Source of /Users/joelricci/miniconda/envs/biobb/dat/leap/cmd/leaprc.protein.ff14SB done\n",
      "Log file: ./leap.log\n",
      "Loading parameters: /Users/joelricci/miniconda/envs/biobb/dat/leap/parm/parm10.dat\n",
      "Reading title:\n",
      "PARM99 + frcmod.ff99SB + frcmod.parmbsc0 + OL3 for RNA\n",
      "Loading parameters: /Users/joelricci/miniconda/envs/biobb/dat/leap/parm/frcmod.ff14SB\n",
      "Reading force field modification type file (frcmod)\n",
      "Reading title:\n",
      "ff14SB protein backbone and sidechain parameters\n",
      "Loading library: /Users/joelricci/miniconda/envs/biobb/dat/leap/lib/amino12.lib\n",
      "Loading library: /Users/joelricci/miniconda/envs/biobb/dat/leap/lib/aminoct12.lib\n",
      "Loading library: /Users/joelricci/miniconda/envs/biobb/dat/leap/lib/aminont12.lib\n",
      "----- Source: /Users/joelricci/miniconda/envs/biobb/dat/leap/cmd/leaprc.gaff\n",
      "----- Source of /Users/joelricci/miniconda/envs/biobb/dat/leap/cmd/leaprc.gaff done\n",
      "Log file: ./leap.log\n",
      "Loading parameters: /Users/joelricci/miniconda/envs/biobb/dat/leap/parm/gaff.dat\n",
      "Reading title:\n",
      "AMBER General Force Field for organic molecules (Version 1.81, May 2017)\n",
      "----- Source: /Users/joelricci/miniconda/envs/biobb/dat/leap/cmd/leaprc.water.tip3p\n",
      "----- Source of /Users/joelricci/miniconda/envs/biobb/dat/leap/cmd/leaprc.water.tip3p done\n",
      "Loading library: /Users/joelricci/miniconda/envs/biobb/dat/leap/lib/atomic_ions.lib\n",
      "Loading library: /Users/joelricci/miniconda/envs/biobb/dat/leap/lib/solvents.lib\n",
      "Loading parameters: /Users/joelricci/miniconda/envs/biobb/dat/leap/parm/frcmod.tip3p\n",
      "Reading force field modification type file (frcmod)\n",
      "Reading title:\n",
      "This is the additional/replacement parameter set for TIP3P water\n",
      "Loading parameters: /Users/joelricci/miniconda/envs/biobb/dat/leap/parm/frcmod.ions1lm_126_tip3p\n",
      "Reading force field modification type file (frcmod)\n",
      "Reading title:\n",
      "Li/Merz ion parameters of monovalent ions for TIP3P water model (12-6 normal usage set)\n",
      "Loading parameters: /Users/joelricci/miniconda/envs/biobb/dat/leap/parm/frcmod.ionsjc_tip3p\n",
      "Reading force field modification type file (frcmod)\n",
      "Reading title:\n",
      "Monovalent ion parameters for Ewald and TIP3P water from Joung & Cheatham JPCB (2008)\n",
      "Loading parameters: /Users/joelricci/miniconda/envs/biobb/dat/leap/parm/frcmod.ions234lm_126_tip3p\n",
      "Reading force field modification type file (frcmod)\n",
      "Reading title:\n",
      "Li/Merz ion parameters of divalent to tetravalent ions for TIP3P water model (12-6 normal usage set)\n",
      "Loading parameters: /Users/joelricci/miniconda/envs/biobb/dat/leap/parm/frcmod.ionsjc_tip3p\n",
      "Reading force field modification type file (frcmod)\n",
      "Reading title:\n",
      "Monovalent ion parameters for Ewald and TIP3P water from Joung & Cheatham JPCB (2008)\n",
      "Loading library: ../data/cosolvent_libs//ETAWAT20.off\n",
      "Loading PDB file: ./../data/md_system_prep/ETA_systems/1fin/1fin-ETA_intermediate_files/SYSTEM.minH.pdb\n",
      "  total atoms in file: 4848\n",
      "Scaling up box by a factor of 1.261257 to meet diagonal cut criterion\n",
      "  Solute vdw bounding box:              41.217 69.752 53.258\n",
      "  Total bounding box for atom centers:  100.022 100.022 100.022\n",
      "      (box expansion for 'iso' is  67.5%)\n",
      "  Solvent unit box:                     19.990 19.990 19.990\n",
      "  Volume: 515494.345 A^3 (oct)\n",
      "  Total mass 269692.770 amu,  Density 0.869 g/cc\n",
      "  Added 11842 residues.\n",
      "Writing pdb file: ./../data/md_system_prep/ETA_systems/1fin/1fin-ETA_intermediate_files/SOLV.pdb\n",
      "   printing CRYST1 record to PDB file with box info\n",
      "\n",
      "/Users/joelricci/miniconda/envs/biobb/bin/teLeap: Warning!\n",
      " Converting N-terminal residue name to PDB format: NMET -> MET\n",
      "\n",
      "/Users/joelricci/miniconda/envs/biobb/bin/teLeap: Warning!\n",
      " Converting C-terminal residue name to PDB format: CLEU -> LEU\n",
      "Checking 'system'....\n",
      "\n",
      "/Users/joelricci/miniconda/envs/biobb/bin/teLeap: Warning!\n",
      "The unperturbed charge of the unit (4.000000) is not zero.\n",
      "\n",
      "/Users/joelricci/miniconda/envs/biobb/bin/teLeap: Warning!\n",
      "Close contact of 1.418377 angstroms between .R<GLU 73>.A<HG3 10> and .R<ASN 74>.A<H 2>\n",
      "\n",
      "/Users/joelricci/miniconda/envs/biobb/bin/teLeap: Warning!\n",
      "Close contact of 1.338105 angstroms between .R<GLU 224>.A<OE2 13> and .R<THR 231>.A<HG1 12>\n",
      "Checking parameters for unit 'system'.\n",
      "Checking for bond parameters.\n",
      "Checking for angle parameters.\n",
      "check:  Warnings: 3\n",
      "Unit is OK.\n",
      "Total unperturbed charge:   4.000000\n",
      "Total perturbed charge:     4.000000\n",
      "Checking Unit.\n",
      "\n",
      "/Users/joelricci/miniconda/envs/biobb/bin/teLeap: Warning!\n",
      "The unperturbed charge of the unit (4.000000) is not zero.\n",
      "\n",
      "/Users/joelricci/miniconda/envs/biobb/bin/teLeap: Note.\n",
      "Ignoring the warning from Unit Checking.\n",
      "\n",
      "Building topology.\n",
      "Building atom parameters.\n",
      "Building bond parameters.\n",
      "Building angle parameters.\n",
      "Building proper torsion parameters.\n",
      "Building improper torsion parameters.\n",
      " total 958 improper torsions applied\n",
      "Building H-Bond parameters.\n",
      "Incorporating Non-Bonded adjustments.\n",
      "Not Marking per-residue atom chain types.\n",
      "Marking per-residue atom chain types.\n",
      "  (Residues lacking connect0/connect1 - \n",
      "   these don't have chain types marked:\n",
      "\n",
      "\tres\ttotal affected\n",
      "\n",
      "\tCLEU\t1\n",
      "\tETA\t799\n",
      "\tNMET\t1\n",
      "\tWAT\t11043\n",
      "  )\n",
      " (no restraints)\n",
      "\tQuit\n",
      "\n",
      "Exiting LEaP: Errors = 0; Warnings = 6; Notes = 1.\n",
      "\n",
      "None\n"
     ]
    }
   ],
   "source": [
    "from helper_modules.prepare_md_system import run_leap_solv\n",
    "OUT_PL_SOLV  = 'SOLV'\n",
    "run_leap_solv(input_basename  = OUT_MIN_SYSTEM,\n",
    "              output_basename = OUT_PL_SOLV, \n",
    "              box_padding     = BOX_PADDING,\n",
    "              solvent_type    = SOLVENT_TYPE,\n",
    "              input_ligand_basename = None,\n",
    "              tmp_dir = TMP_DIR)"
   ]
  },
  {
   "cell_type": "markdown",
   "id": "0b9ceee9",
   "metadata": {},
   "source": [
    "## Adding ions\n",
    "- Get the number of water molecules inside the system\n",
    "- In this example, the **net charge** of the protein is <mark>-4</mark>.\n",
    "- To Neutralize the system, four `Cl-` atoms need to be added.\n"
   ]
  },
  {
   "cell_type": "markdown",
   "id": "7a00be51",
   "metadata": {},
   "source": [
    "- To achieve a `ION_MOLAR` = $0.15 M$ of NaCl we employed the following computation:\n",
    "    - `N_WATERS` / (55.3419 * `ION_MOLAR`)"
   ]
  },
  {
   "cell_type": "code",
   "execution_count": 9,
   "id": "363b2d07",
   "metadata": {},
   "outputs": [
    {
     "name": "stdout",
     "output_type": "stream",
     "text": [
      "Number of water molecules: 11043\n"
     ]
    },
    {
     "data": {
      "text/plain": [
       "29"
      ]
     },
     "execution_count": 9,
     "metadata": {},
     "output_type": "execute_result"
    }
   ],
   "source": [
    "from helper_modules.prepare_md_system import run_count_water_molecules\n",
    "\n",
    "n_waters = run_count_water_molecules(f'{TMP_DIR}/{OUT_PL_SOLV}.pdb')\n",
    "print('Number of water molecules:', n_waters)\n",
    "\n",
    "w_molar_mass  = 18.01528 # g/mol\n",
    "w_density     = 0.997    # g/mL\n",
    "n_wat_mols_1L = (w_density / w_molar_mass) * 1000 # nW/L\n",
    "n_ions        = int(n_waters / n_wat_mols_1L * ION_MOLAR) # nIONS\n",
    "n_ions"
   ]
  },
  {
   "cell_type": "markdown",
   "id": "851f35b9",
   "metadata": {},
   "source": [
    "### Neutralize the system with `NaCl`"
   ]
  },
  {
   "cell_type": "code",
   "execution_count": 10,
   "id": "38467b4c",
   "metadata": {},
   "outputs": [
    {
     "name": "stdout",
     "output_type": "stream",
     "text": [
      "-I: Adding /Users/joelricci/miniconda/envs/biobb/dat/leap/prep to search path.\n",
      "-I: Adding /Users/joelricci/miniconda/envs/biobb/dat/leap/lib to search path.\n",
      "-I: Adding /Users/joelricci/miniconda/envs/biobb/dat/leap/parm to search path.\n",
      "-I: Adding /Users/joelricci/miniconda/envs/biobb/dat/leap/cmd to search path.\n",
      "-f: Source ./../data/md_system_prep/ETA_systems/1fin/1fin-ETA_intermediate_files/leap_prep_NEUTRAL.in.\n",
      "\n",
      "Welcome to LEaP!\n",
      "(no leaprc in search path)\n",
      "Sourcing: ./../data/md_system_prep/ETA_systems/1fin/1fin-ETA_intermediate_files/leap_prep_NEUTRAL.in\n",
      "----- Source: /Users/joelricci/miniconda/envs/biobb/dat/leap/cmd/leaprc.protein.ff14SB\n",
      "----- Source of /Users/joelricci/miniconda/envs/biobb/dat/leap/cmd/leaprc.protein.ff14SB done\n",
      "Log file: ./leap.log\n",
      "Loading parameters: /Users/joelricci/miniconda/envs/biobb/dat/leap/parm/parm10.dat\n",
      "Reading title:\n",
      "PARM99 + frcmod.ff99SB + frcmod.parmbsc0 + OL3 for RNA\n",
      "Loading parameters: /Users/joelricci/miniconda/envs/biobb/dat/leap/parm/frcmod.ff14SB\n",
      "Reading force field modification type file (frcmod)\n",
      "Reading title:\n",
      "ff14SB protein backbone and sidechain parameters\n",
      "Loading library: /Users/joelricci/miniconda/envs/biobb/dat/leap/lib/amino12.lib\n",
      "Loading library: /Users/joelricci/miniconda/envs/biobb/dat/leap/lib/aminoct12.lib\n",
      "Loading library: /Users/joelricci/miniconda/envs/biobb/dat/leap/lib/aminont12.lib\n",
      "----- Source: /Users/joelricci/miniconda/envs/biobb/dat/leap/cmd/leaprc.gaff\n",
      "----- Source of /Users/joelricci/miniconda/envs/biobb/dat/leap/cmd/leaprc.gaff done\n",
      "Log file: ./leap.log\n",
      "Loading parameters: /Users/joelricci/miniconda/envs/biobb/dat/leap/parm/gaff.dat\n",
      "Reading title:\n",
      "AMBER General Force Field for organic molecules (Version 1.81, May 2017)\n",
      "----- Source: /Users/joelricci/miniconda/envs/biobb/dat/leap/cmd/leaprc.water.tip3p\n",
      "----- Source of /Users/joelricci/miniconda/envs/biobb/dat/leap/cmd/leaprc.water.tip3p done\n",
      "Loading library: /Users/joelricci/miniconda/envs/biobb/dat/leap/lib/atomic_ions.lib\n",
      "Loading library: /Users/joelricci/miniconda/envs/biobb/dat/leap/lib/solvents.lib\n",
      "Loading parameters: /Users/joelricci/miniconda/envs/biobb/dat/leap/parm/frcmod.tip3p\n",
      "Reading force field modification type file (frcmod)\n",
      "Reading title:\n",
      "This is the additional/replacement parameter set for TIP3P water\n",
      "Loading parameters: /Users/joelricci/miniconda/envs/biobb/dat/leap/parm/frcmod.ions1lm_126_tip3p\n",
      "Reading force field modification type file (frcmod)\n",
      "Reading title:\n",
      "Li/Merz ion parameters of monovalent ions for TIP3P water model (12-6 normal usage set)\n",
      "Loading parameters: /Users/joelricci/miniconda/envs/biobb/dat/leap/parm/frcmod.ionsjc_tip3p\n",
      "Reading force field modification type file (frcmod)\n",
      "Reading title:\n",
      "Monovalent ion parameters for Ewald and TIP3P water from Joung & Cheatham JPCB (2008)\n",
      "Loading parameters: /Users/joelricci/miniconda/envs/biobb/dat/leap/parm/frcmod.ions234lm_126_tip3p\n",
      "Reading force field modification type file (frcmod)\n",
      "Reading title:\n",
      "Li/Merz ion parameters of divalent to tetravalent ions for TIP3P water model (12-6 normal usage set)\n",
      "Loading parameters: /Users/joelricci/miniconda/envs/biobb/dat/leap/parm/frcmod.ionsjc_tip3p\n",
      "Reading force field modification type file (frcmod)\n",
      "Reading title:\n",
      "Monovalent ion parameters for Ewald and TIP3P water from Joung & Cheatham JPCB (2008)\n",
      "Loading library: ../data/cosolvent_libs//ETAWAT20.off\n",
      "Loading PDB file: ./../data/md_system_prep/ETA_systems/1fin/1fin-ETA_intermediate_files/SOLV.pdb\n",
      "  total atoms in file: 45168\n",
      "Adding 62 counter ions to \"system\". 10981 solvent molecules will remain.\n",
      "0: Placed Na+ in system at (14.97, 48.23, 17.70).\n",
      "Placed Cl- in system at (26.84, -10.51, 28.83).\n",
      "0: Placed Na+ in system at (-26.60, 18.57, -25.04).\n",
      "Placed Cl- in system at (7.44, 34.59, 0.99).\n",
      "0: Placed Na+ in system at (-1.61, -20.37, -35.98).\n",
      "Placed Cl- in system at (-11.60, -17.21, -7.51).\n",
      "0: Placed Na+ in system at (-39.32, 23.88, -6.99).\n",
      "Placed Cl- in system at (26.81, -25.52, -1.44).\n",
      "0: Placed Na+ in system at (-8.87, -23.60, 7.57).\n",
      "Placed Cl- in system at (24.07, 39.58, 17.29).\n",
      "0: Placed Na+ in system at (-31.96, -7.28, 7.57).\n",
      "Placed Cl- in system at (-34.21, -12.24, 10.95).\n",
      "0: Placed Na+ in system at (42.33, -16.54, -11.86).\n",
      "Placed Cl- in system at (-42.36, -26.52, 16.72).\n",
      "0: Placed Na+ in system at (-32.69, -2.36, -1.79).\n",
      "Placed Cl- in system at (-30.22, -16.89, -25.86).\n",
      "0: Placed Na+ in system at (17.01, 0.92, 28.90).\n",
      "Placed Cl- in system at (-36.85, -25.21, -11.39).\n",
      "0: Placed Na+ in system at (30.71, -6.41, -34.97).\n",
      "Placed Cl- in system at (-12.81, -17.00, -31.47).\n",
      "0: Placed Na+ in system at (-20.50, 29.22, 13.67).\n",
      "Placed Cl- in system at (16.14, -11.86, 7.12).\n",
      "0: Placed Na+ in system at (-14.39, 26.69, -15.26).\n",
      "Placed Cl- in system at (13.47, -28.74, 27.40).\n",
      "0: Placed Na+ in system at (-5.73, 18.77, -11.62).\n",
      "Placed Cl- in system at (-18.45, 12.63, 25.00).\n",
      "0: Placed Na+ in system at (-12.59, 15.84, -23.32).\n",
      "Placed Cl- in system at (20.76, -18.58, -38.37).\n",
      "0: Placed Na+ in system at (-20.73, 18.00, 31.27).\n",
      "Placed Cl- in system at (-18.88, -43.25, 1.13).\n",
      "0: Placed Na+ in system at (39.74, 4.49, 10.17).\n",
      "Placed Cl- in system at (0.98, 31.42, 3.16).\n",
      "0: Placed Na+ in system at (-12.32, 24.07, 38.44).\n",
      "Placed Cl- in system at (-24.07, 6.56, 44.38).\n",
      "0: Placed Na+ in system at (-38.16, -0.83, -6.64).\n",
      "Placed Cl- in system at (11.54, 10.40, -38.09).\n",
      "0: Placed Na+ in system at (32.61, 19.48, -10.19).\n",
      "Placed Cl- in system at (-36.17, 18.66, 7.46).\n",
      "0: Placed Na+ in system at (-17.50, -34.77, -9.77).\n",
      "Placed Cl- in system at (27.35, -15.87, 4.96).\n",
      "0: Placed Na+ in system at (-21.39, 22.34, 30.18).\n",
      "Placed Cl- in system at (-30.12, 15.11, 0.11).\n",
      "0: Placed Na+ in system at (11.20, -19.84, -43.13).\n",
      "Placed Cl- in system at (7.71, 32.43, 16.41).\n",
      "0: Placed Na+ in system at (19.45, 19.52, -13.77).\n",
      "Placed Cl- in system at (-30.87, -24.00, 15.47).\n",
      "0: Placed Na+ in system at (12.35, 25.32, -32.94).\n",
      "Placed Cl- in system at (3.05, 13.37, 33.85).\n",
      "0: Placed Na+ in system at (-35.04, -12.55, -19.70).\n",
      "Placed Cl- in system at (-30.00, -3.69, -31.54).\n",
      "0: Placed Na+ in system at (17.82, -29.37, -2.02).\n",
      "Placed Cl- in system at (-10.64, -17.80, -31.64).\n",
      "0: Placed Na+ in system at (-18.27, 34.12, 24.12).\n",
      "Placed Cl- in system at (13.58, 22.01, 24.28).\n",
      "0: Placed Na+ in system at (36.37, 0.72, -30.52).\n",
      "Placed Cl- in system at (-3.91, 42.55, -6.70).\n",
      "0: Placed Na+ in system at (-32.95, 4.32, -13.98).\n",
      "Placed Cl- in system at (36.29, 4.32, 14.29).\n",
      "Placed Cl- in system at (36.98, 1.67, 31.27).\n",
      "Placed Cl- in system at (17.37, -26.65, -14.62).\n",
      "Placed Cl- in system at (-11.24, -29.67, 12.76).\n",
      "Placed Cl- in system at (32.79, -19.09, 3.91).\n",
      "Box dimensions:  89.932300 103.463600 106.097600\n",
      "Checking 'system'....\n",
      "\n",
      "/Users/joelricci/miniconda/envs/biobb/bin/teLeap: Warning!\n",
      "Close contact of 1.419232 angstroms between .R<GLU 73>.A<HG3 10> and .R<ASN 74>.A<H 2>\n",
      "\n",
      "/Users/joelricci/miniconda/envs/biobb/bin/teLeap: Warning!\n",
      "Close contact of 1.337884 angstroms between .R<GLU 224>.A<OE2 13> and .R<THR 231>.A<HG1 12>\n",
      "Checking parameters for unit 'system'.\n",
      "Checking for bond parameters.\n",
      "Checking for angle parameters.\n",
      "check:  Warnings: 2\n",
      "Unit is OK.\n",
      "Total unperturbed charge:  -0.000000\n",
      "Total perturbed charge:    -0.000000\n",
      "Writing pdb file: ./../data/md_system_prep/ETA_systems/1fin/1fin-ETA_intermediate_files/NEUTRAL.pdb\n",
      "   printing CRYST1 record to PDB file with box info\n",
      "\n",
      "/Users/joelricci/miniconda/envs/biobb/bin/teLeap: Warning!\n",
      " Converting N-terminal residue name to PDB format: NMET -> MET\n",
      "\n",
      "/Users/joelricci/miniconda/envs/biobb/bin/teLeap: Warning!\n",
      " Converting C-terminal residue name to PDB format: CLEU -> LEU\n",
      "Checking Unit.\n",
      "Building topology.\n",
      "Building atom parameters.\n",
      "Building bond parameters.\n",
      "Building angle parameters.\n",
      "Building proper torsion parameters.\n",
      "Building improper torsion parameters.\n",
      " total 958 improper torsions applied\n",
      "Building H-Bond parameters.\n",
      "Incorporating Non-Bonded adjustments.\n",
      "Not Marking per-residue atom chain types.\n",
      "Marking per-residue atom chain types.\n",
      "  (Residues lacking connect0/connect1 - \n",
      "   these don't have chain types marked:\n",
      "\n",
      "\tres\ttotal affected\n",
      "\n",
      "\tCLEU\t1\n",
      "\tETA\t799\n",
      "\tNMET\t1\n",
      "\tWAT\t10981\n",
      "  )\n",
      " (no restraints)\n",
      "\tQuit\n",
      "\n",
      "Exiting LEaP: Errors = 0; Warnings = 4; Notes = 0.\n",
      "\n",
      "None\n"
     ]
    }
   ],
   "source": [
    "from helper_modules.prepare_md_system import run_leap_neutralization\n",
    "OUT_PL_NEUTRAL = 'NEUTRAL'\n",
    "run_leap_neutralization(input_basename    = OUT_PL_SOLV, \n",
    "                        output_basename   = OUT_PL_NEUTRAL, \n",
    "                        tmp_dir           = TMP_DIR, \n",
    "                        solvent_type      = SOLVENT_TYPE,\n",
    "                        ion_concentration = ION_MOLAR)"
   ]
  },
  {
   "cell_type": "code",
   "execution_count": 11,
   "id": "a0097726",
   "metadata": {},
   "outputs": [
    {
     "data": {
      "application/vnd.jupyter.widget-view+json": {
       "model_id": "c3807d646265470b91d6c4fcc7455caf",
       "version_major": 2,
       "version_minor": 0
      },
      "text/plain": [
       "NGLWidget()"
      ]
     },
     "metadata": {},
     "output_type": "display_data"
    }
   ],
   "source": [
    "view = nglview.show_structure_file(f'{TMP_DIR}/{OUT_PL_NEUTRAL}.pdb')\n",
    "view.clear_representations()\n",
    "view.add_representation(repr_type ='cartoon', selection='protein')\n",
    "view.add_representation(repr_type ='line', selection=SOLVENT)\n",
    "view.add_representation(repr_type ='spacefill', selection='Cl- Na+')\n",
    "view._remote_call('setSize', target='Widget', args=['','600px'])\n",
    "\n",
    "view"
   ]
  },
  {
   "cell_type": "markdown",
   "id": "139e8e5c",
   "metadata": {},
   "source": [
    "### Center the solvate system to the origin"
   ]
  },
  {
   "cell_type": "code",
   "execution_count": 12,
   "id": "b3e1c38b",
   "metadata": {},
   "outputs": [
    {
     "name": "stdout",
     "output_type": "stream",
     "text": [
      "Moving system to origin (44.84, 51.42, 52.38) -> (0,0,0)\n"
     ]
    }
   ],
   "source": [
    "from helper_modules.prepare_md_system import run_center_system_to_origin\n",
    "\n",
    "run_center_system_to_origin(\n",
    "            filename = f'{TMP_DIR}/{OUT_PL_NEUTRAL}.rst7',\n",
    "            topology = f'{TMP_DIR}/{OUT_PL_NEUTRAL}.prmtop',\n",
    "            out_filename = f'{TMP_DIR}/{OUT_PL_NEUTRAL}.CENTERED.rst7')"
   ]
  },
  {
   "cell_type": "markdown",
   "id": "85fad402",
   "metadata": {},
   "source": [
    "## Use `ParmEd` to parse from Amber to Gromacs "
   ]
  },
  {
   "cell_type": "code",
   "execution_count": 13,
   "id": "9c0f8e4e",
   "metadata": {
    "scrolled": true
   },
   "outputs": [],
   "source": [
    "# Conver to gromacs\n",
    "import parmed as pmd\n",
    "\n",
    "top  = f'{TMP_DIR}/{OUT_PL_NEUTRAL}.prmtop'\n",
    "rst7 = f'{TMP_DIR}/{OUT_PL_NEUTRAL}.CENTERED.rst7.1'\n",
    "\n",
    "amber = pmd.load_file(top, rst7)\n",
    "#save a GROMACS topology and GRO file\n",
    "TOP_FILE = f'{TMP_DIR}/{FINAL_BASENAME}_NO_POSRES.top'\n",
    "FINAL_GRO_FILE = f'{WD}/{FINAL_BASENAME}.gro'\n",
    "amber.save(TOP_FILE)\n",
    "amber.save(FINAL_GRO_FILE)"
   ]
  },
  {
   "cell_type": "markdown",
   "id": "800068f7",
   "metadata": {},
   "source": [
    "### Include `posres.itp` to the topology file"
   ]
  },
  {
   "cell_type": "markdown",
   "id": "a67536a5",
   "metadata": {},
   "source": [
    "- Include the following lines inside the `.top` file, just below the protein definition\n",
    "```algol60\n",
    "; Include Position restraint file for protein\n",
    "#ifdef POSRES\n",
    "#include \"posre.itp\"\n",
    "#endif\n",
    "```"
   ]
  },
  {
   "cell_type": "code",
   "execution_count": 14,
   "id": "2af99be5",
   "metadata": {},
   "outputs": [
    {
     "data": {
      "text/plain": [
       "dict_keys(['system1', 'ETA', 'Na+', 'Cl-', 'WAT'])"
      ]
     },
     "execution_count": 14,
     "metadata": {},
     "output_type": "execute_result"
    }
   ],
   "source": [
    "from parmed.gromacs import GromacsTopologyFile\n",
    "top = GromacsTopologyFile(TOP_FILE)\n",
    "top.molecules.keys()"
   ]
  },
  {
   "cell_type": "code",
   "execution_count": 15,
   "id": "1c0b3c16",
   "metadata": {},
   "outputs": [],
   "source": [
    "from helper_modules.prepare_md_system import include_posre_in_top, create_posre_file\n",
    "\n",
    "FINAL_TOP_FILE = f'{WD}/{FINAL_BASENAME}.top'\n",
    "# Protein posres\n",
    "PROT_POSRE_FILE = f'{FINAL_BASENAME}.prot_posre.itp'\n",
    "create_posre_file(input_gro          = FINAL_GRO_FILE, \n",
    "                  out_posre_filename = f'{WD}/{PROT_POSRE_FILE}',\n",
    "                  mol_selection      = 'protein',\n",
    "                  rest_energies      = [1000, 1000, 1000],\n",
    "                  verbose = False)\n",
    "include_posre_in_top(input_top_file = TOP_FILE, \n",
    "                     out_top_file   = FINAL_TOP_FILE, \n",
    "                     posre_filename = PROT_POSRE_FILE,\n",
    "                     molecule_index = 1 # inx=1 for protein\n",
    "                    )"
   ]
  },
  {
   "cell_type": "markdown",
   "id": "2c0c878d",
   "metadata": {},
   "source": [
    "### Create the `posres.itp` file"
   ]
  },
  {
   "cell_type": "code",
   "execution_count": 16,
   "id": "aa48a220",
   "metadata": {
    "scrolled": true
   },
   "outputs": [
    {
     "name": "stdout",
     "output_type": "stream",
     "text": [
      "./../data/md_system_prep/ETA_systems/1fin/1fin-ETA_intermediate_files/prot.TEMP\n",
      "\n",
      "                     :-) GROMACS - gmx pdb2gmx, 2019.1 (-:\n",
      "\n",
      "                            GROMACS is written by:\n",
      "     Emile Apol      Rossen Apostolov      Paul Bauer     Herman J.C. Berendsen\n",
      "    Par Bjelkmar      Christian Blau   Viacheslav Bolnykh     Kevin Boyd    \n",
      " Aldert van Buuren   Rudi van Drunen     Anton Feenstra       Alan Gray     \n",
      "  Gerrit Groenhof     Anca Hamuraru    Vincent Hindriksen  M. Eric Irrgang  \n",
      "  Aleksei Iupinov   Christoph Junghans     Joe Jordan     Dimitrios Karkoulis\n",
      "    Peter Kasson        Jiri Kraus      Carsten Kutzner      Per Larsson    \n",
      "  Justin A. Lemkul    Viveca Lindahl    Magnus Lundborg     Erik Marklund   \n",
      "    Pascal Merz     Pieter Meulenhoff    Teemu Murtola       Szilard Pall   \n",
      "    Sander Pronk      Roland Schulz      Michael Shirts    Alexey Shvetsov  \n",
      "   Alfons Sijbers     Peter Tieleman      Jon Vincent      Teemu Virolainen \n",
      " Christian Wennberg    Maarten Wolf   \n",
      "                           and the project leaders:\n",
      "        Mark Abraham, Berk Hess, Erik Lindahl, and David van der Spoel\n",
      "\n",
      "Copyright (c) 1991-2000, University of Groningen, The Netherlands.\n",
      "Copyright (c) 2001-2018, The GROMACS development team at\n",
      "Uppsala University, Stockholm University and\n",
      "the Royal Institute of Technology, Sweden.\n",
      "check out http://www.gromacs.org for more information.\n",
      "\n",
      "GROMACS is free software; you can redistribute it and/or modify it\n",
      "under the terms of the GNU Lesser General Public License\n",
      "as published by the Free Software Foundation; either version 2.1\n",
      "of the License, or (at your option) any later version.\n",
      "\n",
      "GROMACS:      gmx pdb2gmx, version 2019.1\n",
      "Executable:   /Users/joelricci/miniconda/envs/biobb/bin/gmx\n",
      "Data prefix:  /Users/joelricci/miniconda/envs/biobb\n",
      "Working dir:  /Volumes/Seagate/Ricci2020/CDK2020/DINAMICA/md_gromacs/notebooks\n",
      "Command line:\n",
      "  gmx pdb2gmx -f -o {BASE_NAME}.gro -i -ff amber99sb-ildn -water tip3p -ignh\n",
      "\n",
      "\n",
      "-------------------------------------------------------\n",
      "Program:     gmx pdb2gmx, version 2019.1\n",
      "Source file: src/gromacs/options/options.cpp (line 190)\n",
      "Function:    void gmx::internal::OptionSectionImpl::finish()\n",
      "\n",
      "Error in user input:\n",
      "Invalid input values\n",
      "  In option f\n",
      "    No file name was provided, and the default file 'protein' does not exist\n",
      "    or is not accessible.\n",
      "    The following extensions were tried to complete the file name:\n",
      "      .gro, .g96, .pdb, .brk, .ent, .esp, .tpr\n",
      "\n",
      "For more information and tips for troubleshooting, please check the GROMACS\n",
      "website at http://www.gromacs.org/Documentation/Errors\n",
      "-------------------------------------------------------\n"
     ]
    }
   ],
   "source": [
    "# Create the postresfile\n",
    "FILE = f'{TMP_DIR}/{OUT_PDB2PQR}'\n",
    "!echo $FILE\n",
    "!echo $POSRE_FILENAME\n",
    "!gmx pdb2gmx -f $FILE -o ${TMP_DIR}\\{BASE_NAME}.gro -i $POSRE_FILENAME -ff amber99sb-ildn -water tip3p -ignh"
   ]
  },
  {
   "cell_type": "markdown",
   "id": "3ac976b3",
   "metadata": {},
   "source": [
    "# Verify the resulting file"
   ]
  },
  {
   "cell_type": "code",
   "execution_count": 17,
   "id": "b055e3bf",
   "metadata": {
    "scrolled": true
   },
   "outputs": [
    {
     "name": "stdout",
     "output_type": "stream",
     "text": [
      "\r\n"
     ]
    }
   ],
   "source": [
    "!echo $POSRE_FILENAME"
   ]
  },
  {
   "cell_type": "markdown",
   "id": "1fd1af27",
   "metadata": {},
   "source": [
    "# Log properties of the final model"
   ]
  },
  {
   "cell_type": "code",
   "execution_count": 18,
   "id": "52035608",
   "metadata": {},
   "outputs": [],
   "source": [
    "# Get the protein charge\n",
    "import re\n",
    "\n",
    "def get_log_lines(file, \n",
    "                  pattern, \n",
    "                  lines_list = [0]):\n",
    "    log_lines = []\n",
    "    with open(file,\"r\") as file:\n",
    "        lines = file.readlines()\n",
    "        for i, line in enumerate(lines):\n",
    "            if re.search(pattern, line):\n",
    "                for j in lines_list:\n",
    "                    log_lines.append(lines[i + j])\n",
    "    return log_lines\n",
    "\n"
   ]
  },
  {
   "cell_type": "code",
   "execution_count": 19,
   "id": "6a237efc",
   "metadata": {},
   "outputs": [
    {
     "name": "stdout",
     "output_type": "stream",
     "text": [
      "\n",
      "Protein Net Charge: 4.000000\n",
      "\n",
      "System Net Charge: -0.000000\n",
      "\n",
      "Number of Protein atoms: 4848\n",
      "\n",
      "Total Number of atoms: 45168\n",
      "\n",
      "Number of WAT molecules:\n",
      "WAT\t10981\n",
      "\n",
      "Number of ETA molecules:\n",
      "ETA\t799\n",
      "\n",
      "Number of Na+ ions:\n",
      "29\n",
      "\n",
      "Number of Cl- ions:\n",
      "33\n",
      "Box dimensions:\n",
      "\n",
      "- x: 89.932300\n",
      "\n",
      "- y: 103.463600\n",
      "\n",
      "- z: 106.097600\n",
      "\n",
      "\n",
      "\n",
      "Warnings:\n",
      "Close contact of 1.419232 angstroms between .R<GLU 73>.A<HG3 10> and .R<ASN 74>.A<H 2>\n",
      "\n",
      "Close contact of 1.337884 angstroms between .R<GLU 224>.A<OE2 13> and .R<THR 231>.A<HG1 12>\n",
      "\n",
      " Converting N-terminal residue name to PDB format: NMET -> MET\n",
      "\n",
      " Converting C-terminal residue name to PDB format: CLEU -> LEU\n",
      "\n"
     ]
    }
   ],
   "source": [
    "# Report Logs\n",
    "file = f'{TMP_DIR}/leap_prep_{OUT_SYSTEM}.in.log'\n",
    "\n",
    "# Protein charge\n",
    "pattern = 'charge protein'\n",
    "protein_charge = get_log_lines(file, pattern, lines_list = [1])\n",
    "protein_charge = protein_charge[0].replace('\\n', '').split(' ')[-1]\n",
    "protein_charge= [f'\\nProtein Net Charge: {protein_charge}']\n",
    "\n",
    "# Total protein atoms\n",
    "pattern = 'total atoms in file'\n",
    "n_protein_atoms = get_log_lines(file, pattern, lines_list = [0])\n",
    "n_protein_atoms = n_protein_atoms[0].strip().split(' ')[-1]\n",
    "n_protein_atoms = [f'\\nNumber of Protein atoms: {n_protein_atoms}']\n",
    "\n",
    "\n",
    "file = f'{TMP_DIR}/leap_prep_{OUT_PL_NEUTRAL}.in.log'\n",
    "\n",
    "# Total protein atoms\n",
    "pattern = 'total atoms in file'\n",
    "n_total_atoms = get_log_lines(file, pattern, lines_list = [0])\n",
    "n_total_atoms = n_total_atoms[0].strip().split(' ')[-1]\n",
    "n_total_atoms = [f'\\nTotal Number of atoms: {n_total_atoms}']\n",
    "\n",
    "# System charge\n",
    "pattern = 'charge system'\n",
    "system_charge = get_log_lines(file, pattern, lines_list = [1])\n",
    "system_charge = system_charge[0].replace('\\n', '').split(' ')[-1]\n",
    "system_charge = [f'\\nSystem Net Charge: {system_charge}']\n",
    "\n",
    "# Box dimensions\n",
    "pattern = 'Box dimensions'\n",
    "box_dimensions = get_log_lines(file, pattern, lines_list = [0])\n",
    "box_dimensions = box_dimensions[0].split(' ')[-3:]\n",
    "box_dimensions = [f'- {c}: {b}\\n' for b, c in zip(box_dimensions, ['x', 'y', 'z'])]\n",
    "box_dimensions.insert(0, pattern + ':\\n')\n",
    "\n",
    "# Warnings\n",
    "pattern = 'Warning!'\n",
    "warnings = get_log_lines(file, pattern, lines_list = [1])\n",
    "warnings.insert(0, '\\nWarnings:')\n",
    "\n",
    "# Number of final waters\n",
    "pattern = '\\tWAT'\n",
    "n_waters = get_log_lines(file, pattern, lines_list = [0])\n",
    "n_waters = [n_waters[0].strip()]\n",
    "n_waters.insert(0, '\\nNumber of WAT molecules:')\n",
    "\n",
    "# Number of ions\n",
    "pattern = 'Placed Na+'\n",
    "n_Na = [str(len(get_log_lines(file, pattern, lines_list = [0])))]\n",
    "n_Na.insert(0, '\\nNumber of Na+ ions:')\n",
    "\n",
    "pattern = 'Placed Cl-'\n",
    "n_Cl = [str(len(get_log_lines(file, pattern, lines_list = [0])))]\n",
    "n_Cl.insert(0, '\\nNumber of Cl- ions:')\n",
    "\n",
    "# Number of cosolvent molecules\n",
    "solv_lines = []\n",
    "if SOLVENT != None and SOLVENT != 'WAT':\n",
    "    pattern = f'\\t{SOLVENT}'\n",
    "    solv_lines = get_log_lines(file, pattern, lines_list = [0])\n",
    "    solv_lines = [solv_lines[0].strip()]\n",
    "    solv_lines.insert(0, f'\\nNumber of {SOLVENT} molecules:')\n",
    "    \n",
    "LINES = protein_charge + system_charge + n_protein_atoms + n_total_atoms +\\\n",
    "        n_waters + solv_lines +\\\n",
    "        n_Na + n_Cl + box_dimensions + warnings\n",
    "        \n",
    "with open(f'{TMP_DIR}/PREP_SUMMARY.log', 'w') as f:\n",
    "    f.writelines(LINES)\n",
    "    \n",
    "for l in LINES:\n",
    "    print(l)"
   ]
  },
  {
   "cell_type": "code",
   "execution_count": null,
   "id": "ad972c56",
   "metadata": {},
   "outputs": [],
   "source": []
  }
 ],
 "metadata": {
  "kernelspec": {
   "display_name": "Python 3 (ipykernel)",
   "language": "python",
   "name": "python3"
  },
  "language_info": {
   "codemirror_mode": {
    "name": "ipython",
    "version": 3
   },
   "file_extension": ".py",
   "mimetype": "text/x-python",
   "name": "python",
   "nbconvert_exporter": "python",
   "pygments_lexer": "ipython3",
   "version": "3.7.12"
  }
 },
 "nbformat": 4,
 "nbformat_minor": 5
}
