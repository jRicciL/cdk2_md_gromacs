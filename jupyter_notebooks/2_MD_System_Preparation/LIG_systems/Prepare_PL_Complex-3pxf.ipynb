{
 "cells": [
  {
   "cell_type": "code",
   "execution_count": 1,
   "id": "142fadbc",
   "metadata": {},
   "outputs": [
    {
     "data": {
      "application/vnd.jupyter.widget-view+json": {
       "model_id": "13748fa4e8424211b4e9887b1816a3a7",
       "version_major": 2,
       "version_minor": 0
      },
      "text/plain": []
     },
     "metadata": {},
     "output_type": "display_data"
    }
   ],
   "source": [
    "import subprocess\n",
    "import os \n",
    "import shutil\n",
    "from pathlib import Path\n",
    "import warnings\n",
    "import nglview\n",
    "import ipywidgets\n",
    "import sys\n",
    "sys.path.append('..')\n",
    "import plotly\n",
    "from plotly import subplots\n",
    "import plotly.graph_objs as go\n",
    "%load_ext autoreload\n",
    "%autoreload 2"
   ]
  },
  {
   "cell_type": "code",
   "execution_count": 2,
   "id": "b451c739",
   "metadata": {},
   "outputs": [],
   "source": [
    "PDB_ID       = '3pxf'\n",
    "LIG_NAME     = '2AN'\n",
    "SOLVENT_TYPE = 'TIP3PBOX'\n",
    "PH           = 7.4\n",
    "BOX_PADDING  = 12.0\n",
    "ION_MOLAR    = 0.15\n",
    "\n",
    "# Output basename\n",
    "FINAL_BASENAME = f'{PDB_ID}-LIG'\n",
    "\n",
    "# Define the input files\n",
    "WD = f'./../data/md_system_prep/LIG_systems/{PDB_ID}'\n",
    "INPUT_PROT     = f'{WD}/{PDB_ID}_A_mod.pdb'\n",
    "INPUT_LIG      = f'{WD}/{PDB_ID}_{LIG_NAME}_LIG.pdb'\n",
    "INPUT_CRYS_WAT = f'{WD}/{PDB_ID}_CRYS_WAT.pdb'\n",
    "LIG_RESNAME    = f'LIG'\n",
    "LIG_PARTIAL_CHARGES = 'gasteiger'"
   ]
  },
  {
   "cell_type": "code",
   "execution_count": 3,
   "id": "91e12309",
   "metadata": {},
   "outputs": [],
   "source": [
    "# Create a folder to store intermediate files\n",
    "TMP_DIR = f'{WD}/{FINAL_BASENAME}_intermediate_files'\n",
    "Path(TMP_DIR).mkdir(exist_ok = True)"
   ]
  },
  {
   "cell_type": "code",
   "execution_count": 4,
   "id": "00b08656",
   "metadata": {},
   "outputs": [
    {
     "name": "stdout",
     "output_type": "stream",
     "text": [
      "INFO:PDB2PQR v3.4.1: biomolecular structure conversion software.\n",
      "INFO:Please cite:  Jurrus E, et al.  Improvements to the APBS biomolecular solvation software suite.  Protein Sci 27 112-128 (2018).\n",
      "INFO:Please cite:  Dolinsky TJ, et al.  PDB2PQR: expanding and upgrading automated preparation of biomolecular structures for molecular simulations. Nucleic Acids Res 35 W522-W525 (2007).\n",
      "INFO:Checking and transforming input arguments.\n",
      "INFO:Loading topology files.\n",
      "INFO:Loading molecule: ./../data/md_system_prep/LIG_systems/3pxf/3pxf_A_mod.pdb\n",
      "INFO:Dropping water from structure.\n",
      "INFO:Setting up molecule.\n",
      "INFO:Created biomolecule object with 298 residues and 4848 atoms.\n",
      "INFO:Setting termini states for biomolecule chains.\n",
      "INFO:Loading forcefield.\n",
      "INFO:Loading hydrogen topology definitions.\n",
      "INFO:This biomolecule is clean.  No repair needed.\n",
      "INFO:Updating disulfide bridges.\n",
      "INFO:Debumping biomolecule.\n",
      "INFO:Assigning titration states with PROPKA.\n",
      "INFO:\n",
      "propka3.4.0                                                                                  2022-04-02\n",
      "\n",
      "-------------------------------------------------------------------------------\n",
      "--                                                                           --\n",
      "--  PROPKA: A PROTEIN PKA PREDICTOR                                          --\n",
      "--                                                                           --\n",
      "--  VERSION 1.0,  04/25/2004,  IOWA CITY                                     --\n",
      "--  BY HUI LI                                                                --\n",
      "--                                                                           --\n",
      "--  VERSION 2.0,  11/05/2007, IOWA CITY/COPENHAGEN                           --\n",
      "--  BY DELPHINE C. BAS AND DAVID M. ROGERS                                   --\n",
      "--                                                                           --\n",
      "--  VERSION 3.0,  01/06/2011, COPENHAGEN                                     --\n",
      "--  BY MATS H.M. OLSSON AND CHRESTEN R. SONDERGARD                           --\n",
      "--                                                                           --\n",
      "--  VERSION 3.1,  07/01/2011, COPENHAGEN                                     --\n",
      "--  BY CHRESTEN R. SONDERGARD AND MATS H.M. OLSSON                           --\n",
      "--                                                                           --\n",
      "--  VERSION 3.2,  06/17/2020, PLANET EARTH                                   --\n",
      "--  SEE ABOVE FOR AUTHORS                                                    --\n",
      "--                                                                           --\n",
      "-------------------------------------------------------------------------------\n",
      "\n",
      "\n",
      "-------------------------------------------------------------------------------\n",
      "References:\n",
      "\n",
      "Very Fast Empirical Prediction and Rationalization of Protein pKa Values.\n",
      "Hui Li, Andrew D. Robertson and Jan H. Jensen. PROTEINS: Structure, Function,\n",
      "and Bioinformatics. 61:704-721 (2005)\n",
      "\n",
      "Very Fast Prediction and Rationalization of pKa Values for Protein-Ligand\n",
      "Complexes.  Delphine C. Bas, David M. Rogers and Jan H. Jensen.  PROTEINS:\n",
      "Structure, Function, and Bioinformatics 73:765-783 (2008)\n",
      "\n",
      "PROPKA3: Consistent Treatment of Internal and Surface Residues in Empirical\n",
      "pKa predictions.  Mats H.M. Olsson, Chresten R. Sondergard, Michal Rostkowski,\n",
      "and Jan H. Jensen.  Journal of Chemical Theory and Computation, 7(2):525-537\n",
      "(2011)\n",
      "\n",
      "Improved Treatment of Ligands and Coupling Effects in Empirical Calculation\n",
      "and Rationalization of pKa Values.  Chresten R. Sondergaard, Mats H.M. Olsson,\n",
      "Michal Rostkowski, and Jan H. Jensen.  Journal of Chemical Theory and\n",
      "Computation, (2011)\n",
      "-------------------------------------------------------------------------------\n",
      "\n",
      "\n",
      "\n",
      "INFO:Coupling map:\n",
      "\n",
      "INFO:Calculating pKas for Conformation container 1A with 2794 atoms and 712 groups\n",
      "INFO:pKa determinants:\n",
      "\n",
      "---------  -----   ------   ---------------------    --------------    --------------    --------------\n",
      "                            DESOLVATION  EFFECTS       SIDECHAIN          BACKBONE        COULOMBIC\n",
      " RESIDUE    pKa    BURIED     REGULAR      RE        HYDROGEN BOND     HYDROGEN BOND      INTERACTION\n",
      "---------  -----   ------   ---------   ---------    --------------    --------------    --------------\n",
      "\n",
      "ASP  38 A   4.21     0 %    0.48  264   0.00    0    0.00 XXX   0 X    0.00 XXX   0 X   -0.05 ARG  36 A\n",
      "ASP  38 A                                            0.00 XXX   0 X    0.00 XXX   0 X   -0.02 ARG 157 A\n",
      "\n",
      "ASP  68 A   3.52     0 %    0.32  274   0.00    0    0.00 XXX   0 X   -0.57 VAL  69 A   -0.02 N+    1 A\n",
      "ASP  68 A                                            0.00 XXX   0 X    0.00 XXX   0 X   -0.01 LYS  56 A\n",
      "\n",
      "ASP  86 A   4.68    78 %    2.56  501   0.95    0   -0.85 LYS  89 A   -0.15 LYS  88 A   -0.07 LYS  88 A\n",
      "ASP  86 A                                            0.00 XXX   0 X   -0.84 LYS  89 A    0.10 ASP  92 A\n",
      "ASP  86 A                                            0.00 XXX   0 X    0.00 XXX   0 X   -0.82 LYS  89 A\n",
      "\n",
      "ASP  92 A   3.58    17 %    0.77  328   0.17    0   -0.62 LYS  88 A    0.00 XXX   0 X   -0.05 LYS  89 A\n",
      "ASP  92 A                                            0.00 XXX   0 X    0.00 XXX   0 X   -0.49 LYS  88 A\n",
      "\n",
      "ASP 127 A   5.61    91 %    2.73  536   0.98    0   -0.21 ASN 132 A    0.00 XXX   0 X   -0.31 ARG 150 A\n",
      "ASP 127 A                                           -0.85 LYS 129 A    0.00 XXX   0 X   -0.14 ARG 169 A\n",
      "ASP 127 A                                            0.00 XXX   0 X    0.00 XXX   0 X   -1.30 LYS 129 A\n",
      "ASP 127 A                                            0.00 XXX   0 X    0.00 XXX   0 X    0.91 ASP 145 A\n",
      "\n",
      "ASP 145 A   4.62   100 %    3.41  563   1.02    0   -0.50 THR  14 A   -0.30 THR  14 A   -1.13 LYS  33 A\n",
      "ASP 145 A                                           -0.03 ASN 132 A    0.00 XXX   0 X   -1.29 LYS 129 A\n",
      "ASP 145 A                                           -0.36 LYS 129 A    0.00 XXX   0 X    0.00 XXX   0 X\n",
      "\n",
      "ASP 185 A   5.92   100 %    3.74  605   0.38    0    0.00 XXX   0 X   -0.84 HIE 125 A   -0.39 ARG 126 A\n",
      "ASP 185 A                                            0.00 XXX   0 X   -0.80 ARG 126 A    0.03 ASP 127 A\n",
      "\n",
      "ASP 206 A   4.45     0 %    0.32  218   0.00    0   -0.02 SER 207 A   -0.14 ASP 206 A   -0.16 ARG 214 A\n",
      "ASP 206 A                                            0.26 ASP 210 A    0.00 XXX   0 X    0.38 ASP 210 A\n",
      "\n",
      "ASP 210 A   2.36     4 %    0.63  292   0.02    0   -0.26 ASP 206 A   -0.70 ASP 206 A   -0.00 ARG 217 A\n",
      "ASP 210 A                                           -0.74 ARG 214 A    0.00 XXX   0 X   -0.37 ARG 214 A\n",
      "\n",
      "ASP 223 A   3.03     0 %    0.43  265   0.00    0    0.00 XXX   0 X   -0.13 ASP 223 A   -0.12 LYS 242 A\n",
      "ASP 223 A                                            0.00 XXX   0 X   -0.18 VAL 225 A    0.05 GLU 224 A\n",
      "ASP 223 A                                            0.00 XXX   0 X   -0.81 VAL 226 A    0.00 XXX   0 X\n",
      "\n",
      "ASP 235 A   3.98     0 %    0.32  263   0.00    0    0.00 XXX   0 X    0.00 XXX   0 X   -0.14 LYS 237 A\n",
      "\n",
      "ASP 247 A   3.79     0 %    0.18  191   0.00    0    0.00 XXX   0 X    0.00 XXX   0 X   -0.14 ARG 245 A\n",
      "ASP 247 A                                            0.00 XXX   0 X    0.00 XXX   0 X   -0.02 LYS 250 A\n",
      "ASP 247 A                                            0.00 XXX   0 X    0.00 XXX   0 X   -0.03 ARG 260 A\n",
      "\n",
      "ASP 256 A   2.88     1 %    0.39  285   0.00    0    0.00 XXX   0 X   -0.04 ASP 256 A   -0.14 LYS 105 A\n",
      "ASP 256 A                                            0.00 XXX   0 X   -0.46 ASP 258 A   -0.08 ARG 260 A\n",
      "ASP 256 A                                            0.00 XXX   0 X   -0.63 GLY 259 A    0.03 ASP 288 A\n",
      "\n",
      "ASP 258 A   4.33     0 %    0.38  247   0.00    0    0.00 XXX   0 X    0.00 XXX   0 X   -0.08 LYS 105 A\n",
      "ASP 258 A                                            0.00 XXX   0 X    0.00 XXX   0 X    0.20 ASP 256 A\n",
      "ASP 258 A                                            0.00 XXX   0 X    0.00 XXX   0 X    0.03 ASP 288 A\n",
      "\n",
      "ASP 270 A   4.02    20 %    1.04  336   0.08    0    0.00 XXX   0 X   -0.67 ASN 272 A   -0.13 LYS 273 A\n",
      "ASP 270 A                                            0.00 XXX   0 X    0.00 XXX   0 X   -0.10 ARG 274 A\n",
      "ASP 270 A                                            0.00 XXX   0 X    0.00 XXX   0 X    0.01 GLU 224 A\n",
      "\n",
      "ASP 288 A   2.69     0 %    0.39  262   0.00    0   -0.68 LYS 105 A   -0.41 ASP 288 A   -0.41 LYS 105 A\n",
      "\n",
      "GLU   2 A   3.35     0 %    0.20  196   0.00    0   -0.32 N+    1 A   -0.61 GLU   2 A   -0.06 LYS  24 A\n",
      "GLU   2 A                                            0.00 XXX   0 X    0.00 XXX   0 X   -0.36 N+    1 A\n",
      "\n",
      "GLU   8 A   4.55     0 %    0.29  228   0.00    0    0.00 XXX   0 X    0.00 XXX   0 X   -0.24 LYS  20 A\n",
      "GLU   8 A                                            0.00 XXX   0 X    0.00 XXX   0 X   -0.01 ARG  22 A\n",
      "GLU   8 A                                            0.00 XXX   0 X    0.00 XXX   0 X    0.01 C-  298 A\n",
      "\n",
      "GLU  12 A   4.01     0 %    0.36  250   0.00    0   -0.45 LYS   9 A    0.00 XXX   0 X   -0.02 LYS  89 A\n",
      "GLU  12 A                                            0.00 XXX   0 X    0.00 XXX   0 X   -0.38 LYS   9 A\n",
      "\n",
      "GLU  28 A   4.75     0 %    0.28  268   0.00    0    0.00 XXX   0 X    0.00 XXX   0 X   -0.05 LYS  65 A\n",
      "GLU  28 A                                            0.00 XXX   0 X    0.00 XXX   0 X    0.01 GLU  81 A\n",
      "\n",
      "GLU  40 A   5.10     0 %    0.29  190   0.00    0    0.00 XXX   0 X    0.00 XXX   0 X    0.31 ASP  38 A\n",
      "\n",
      "GLU  42 A   4.58     0 %    0.08   79   0.00    0    0.00 XXX   0 X    0.00 XXX   0 X    0.00 XXX   0 X\n",
      "\n",
      "GLU  51 A   5.20    26 %    1.03  353   0.17    0    0.00 XXX   0 X    0.00 XXX   0 X   -0.08 ARG  50 A\n",
      "GLU  51 A                                            0.00 XXX   0 X    0.00 XXX   0 X   -0.06 ARG 122 A\n",
      "GLU  51 A                                            0.00 XXX   0 X    0.00 XXX   0 X   -0.37 ARG 126 A\n",
      "\n",
      "GLU  57 A   4.66     0 %    0.27  211   0.00    0    0.00 XXX   0 X    0.00 XXX   0 X   -0.02 ARG  50 A\n",
      "GLU  57 A                                            0.00 XXX   0 X    0.00 XXX   0 X   -0.00 LYS  56 A\n",
      "GLU  57 A                                            0.00 XXX   0 X    0.00 XXX   0 X   -0.09 ARG 122 A\n",
      "\n",
      "GLU  73 A   4.58     0 %    0.09  115   0.00    0    0.00 XXX   0 X    0.00 XXX   0 X   -0.01 LYS  75 A\n",
      "\n",
      "GLU  81 A   4.03    48 %    1.62  416   0.26    0   -0.85 LYS 142 A   -0.81 LYS  65 A   -0.09 LYS  65 A\n",
      "GLU  81 A                                            0.00 XXX   0 X    0.00 XXX   0 X   -0.61 LYS 142 A\n",
      "\n",
      "GLU 138 A   4.46     0 %    0.12  192   0.00    0    0.00 XXX   0 X    0.00 XXX   0 X   -0.02 LYS 142 A\n",
      "GLU 138 A                                            0.00 XXX   0 X    0.00 XXX   0 X   -0.14 LYS 291 A\n",
      "\n",
      "GLU 162 A   4.70     0 %    0.16  203   0.00    0    0.00 XXX   0 X    0.00 XXX   0 X    0.04 GLU  12 A\n",
      "\n",
      "GLU 172 A   4.69    90 %    3.56  532   0.28    0   -1.43 ARG 274 A   -0.74 GLU 172 A    0.07 ASP 270 A\n",
      "GLU 172 A                                            0.00 XXX   0 X    0.00 XXX   0 X   -1.56 ARG 274 A\n",
      "\n",
      "GLU 195 A   6.20    80 %    2.62  504   0.23    0   -0.85 TYR 168 A    0.00 XXX   0 X   -0.37 LYS  88 A\n",
      "GLU 195 A                                            0.00 XXX   0 X    0.00 XXX   0 X    0.08 ASP  92 A\n",
      "\n",
      "GLU 208 A   4.68     8 %    0.28  305   0.01    0    0.00 XXX   0 X    0.00 XXX   0 X   -0.00 ARG 150 A\n",
      "GLU 208 A                                            0.00 XXX   0 X    0.00 XXX   0 X   -0.23 ARG 169 A\n",
      "GLU 208 A                                            0.00 XXX   0 X    0.00 XXX   0 X    0.11 ASP 235 A\n",
      "\n",
      "GLU 224 A   2.74     0 %    0.51  239   0.00    0   -0.85 THR 231 A   -0.85 GLY 229 A    0.00 XXX   0 X\n",
      "GLU 224 A                                            0.00 XXX   0 X   -0.58 THR 231 A    0.00 XXX   0 X\n",
      "\n",
      "GLU 257 A   4.65     0 %    0.21  222   0.00    0    0.00 XXX   0 X    0.00 XXX   0 X   -0.17 ARG 260 A\n",
      "GLU 257 A                                            0.00 XXX   0 X    0.00 XXX   0 X    0.04 ASP 256 A\n",
      "GLU 257 A                                            0.00 XXX   0 X    0.00 XXX   0 X    0.07 ASP 258 A\n",
      "\n",
      "C-  298 A   3.35     0 %    0.15  163   0.00    0    0.00 XXX   0 X    0.00 XXX   0 X    0.00 XXX   0 X\n",
      "\n",
      "CYS 118 A  12.43    83 %    3.08  513   0.00    0    0.00 XXX   0 X   -0.06 CYS 118 A    0.42 ASP 185 A\n",
      "\n",
      "CYS 177 A  10.97    42 %    1.68  398   0.00    0    0.00 XXX   0 X   -0.04 CYS 177 A   -0.02 ARG 274 A\n",
      "CYS 177 A                                            0.00 XXX   0 X    0.00 XXX   0 X    0.34 GLU 172 A\n",
      "CYS 177 A                                            0.00 XXX   0 X    0.00 XXX   0 X    0.02 ASP 235 A\n",
      "\n",
      "CYS 191 A  12.94   100 %    3.86  657   0.00    0   -0.03 TRP 187 A   -0.01 CYS 191 A   -0.12 ARG 274 A\n",
      "CYS 191 A                                            0.00 XXX   0 X    0.00 XXX   0 X    0.24 GLU 195 A\n",
      "\n",
      "TYR  15 A  12.40    89 %    2.35  531   0.00    0   -0.28 THR  14 A   -0.54 ALA 149 A    0.11 ASP 127 A\n",
      "TYR  15 A                                            0.00 XXX   0 X    0.00 XXX   0 X   -0.03 ARG 150 A\n",
      "TYR  15 A                                            0.00 XXX   0 X    0.00 XXX   0 X    0.13 TYR 159 A\n",
      "TYR  15 A                                            0.00 XXX   0 X    0.00 XXX   0 X    0.65 ASP 145 A\n",
      "\n",
      "TYR  19 A  10.02     0 %    0.26  233   0.00    0    0.00 XXX   0 X    0.00 XXX   0 X    0.01 GLU  12 A\n",
      "TYR  19 A                                            0.00 XXX   0 X    0.00 XXX   0 X   -0.16 LYS   6 A\n",
      "TYR  19 A                                            0.00 XXX   0 X    0.00 XXX   0 X   -0.09 LYS   9 A\n",
      "\n",
      "TYR  77 A  10.58    11 %    0.57  312   0.00    0    0.00 XXX   0 X    0.00 XXX   0 X    0.05 GLU   2 A\n",
      "TYR  77 A                                            0.00 XXX   0 X    0.00 XXX   0 X   -0.04 ARG  36 A\n",
      "\n",
      "TYR 107 A  12.76    72 %    2.76  484   0.00    0    0.00 XXX   0 X    0.00 XXX   0 X    0.00 XXX   0 X\n",
      "\n",
      "TYR 159 A   9.88    47 %    1.37  413   0.00    0   -0.57 THR 165 A    0.00 XXX   0 X    0.26 ASP 145 A\n",
      "TYR 159 A                                           -0.78 ARG 150 A    0.00 XXX   0 X   -0.16 ARG 169 A\n",
      "TYR 159 A                                            0.00 XXX   0 X    0.00 XXX   0 X   -0.39 LYS 129 A\n",
      "TYR 159 A                                            0.00 XXX   0 X    0.00 XXX   0 X    0.78 ASP 127 A\n",
      "TYR 159 A                                            0.00 XXX   0 X    0.00 XXX   0 X   -0.63 ARG 150 A\n",
      "\n",
      "TYR 168 A  15.80    90 %    3.28  532   0.00    0    0.85 GLU 195 A    0.00 XXX   0 X    0.02 ASP  92 A\n",
      "TYR 168 A                                            0.00 XXX   0 X    0.00 XXX   0 X    0.02 ASP 127 A\n",
      "TYR 168 A                                            0.00 XXX   0 X    0.00 XXX   0 X    0.41 CYS 191 A\n",
      "TYR 168 A                                            0.00 XXX   0 X    0.00 XXX   0 X    1.23 GLU 195 A\n",
      "\n",
      "TYR 179 A  10.11     0 %    0.11  104   0.00    0    0.00 XXX   0 X    0.00 XXX   0 X    0.00 XXX   0 X\n",
      "\n",
      "TYR 180 A  10.16    52 %    1.40  427   0.00    0   -0.67 ARG 126 A    0.00 XXX   0 X    0.08 GLU  51 A\n",
      "TYR 180 A                                            0.00 XXX   0 X    0.00 XXX   0 X   -0.74 ARG 126 A\n",
      "TYR 180 A                                            0.00 XXX   0 X    0.00 XXX   0 X   -0.11 ARG 150 A\n",
      "TYR 180 A                                            0.00 XXX   0 X    0.00 XXX   0 X   -0.01 ARG 169 A\n",
      "TYR 180 A                                            0.00 XXX   0 X    0.00 XXX   0 X    0.09 CYS 177 A\n",
      "TYR 180 A                                            0.00 XXX   0 X    0.00 XXX   0 X    0.12 ASP 185 A\n",
      "\n",
      "TYR 236 A  10.69     8 %    0.59  303   0.00    0    0.00 XXX   0 X    0.00 XXX   0 X    0.05 ASP 223 A\n",
      "TYR 236 A                                            0.00 XXX   0 X    0.00 XXX   0 X    0.05 GLU 224 A\n",
      "\n",
      "TYR 269 A  14.27    97 %    4.29  554   0.00    0    0.00 XXX   0 X    0.00 XXX   0 X   -0.02 ARG 245 A\n",
      "\n",
      "LYS   6 A  10.56     0 %   -0.10  170   0.00    0    0.00 XXX   0 X    0.00 XXX   0 X    0.16 TYR  19 A\n",
      "\n",
      "LYS   9 A  10.64     5 %   -0.68  295   0.00    0    0.45 GLU  12 A    0.00 XXX   0 X    0.09 TYR  19 A\n",
      "LYS   9 A                                            0.00 XXX   0 X    0.00 XXX   0 X   -0.10 LYS  89 A\n",
      "LYS   9 A                                            0.00 XXX   0 X    0.00 XXX   0 X    0.38 GLU  12 A\n",
      "\n",
      "LYS  20 A  10.09     2 %   -0.49  288   0.00    0    0.00 XXX   0 X    0.00 XXX   0 X    0.24 GLU   8 A\n",
      "LYS  20 A                                            0.00 XXX   0 X    0.00 XXX   0 X   -0.16 ARG  22 A\n",
      "\n",
      "LYS  24 A  10.26     0 %   -0.31  169   0.00    0    0.00 XXX   0 X    0.00 XXX   0 X    0.06 GLU   2 A\n",
      "\n",
      "LYS  33 A   9.32   100 %   -2.28  580   0.00    0    0.00 XXX   0 X    0.00 XXX   0 X   -0.04 LYS 129 A\n",
      "LYS  33 A                                            0.00 XXX   0 X    0.00 XXX   0 X    1.13 ASP 145 A\n",
      "\n",
      "LYS  34 A   9.58    18 %   -0.51  331   0.00    0    0.00 XXX   0 X    0.00 XXX   0 X   -0.19 ARG  36 A\n",
      "LYS  34 A                                            0.00 XXX   0 X    0.00 XXX   0 X   -0.23 LYS  75 A\n",
      "\n",
      "LYS  56 A  10.31     0 %   -0.21  278   0.00    0    0.00 XXX   0 X    0.00 XXX   0 X    0.00 GLU  57 A\n",
      "LYS  56 A                                            0.00 XXX   0 X    0.00 XXX   0 X    0.01 ASP  68 A\n",
      "\n",
      "LYS  65 A  10.42     0 %   -0.16  223   0.00    0    0.00 XXX   0 X    0.00 XXX   0 X    0.05 GLU  28 A\n",
      "LYS  65 A                                            0.00 XXX   0 X    0.00 XXX   0 X    0.09 GLU  81 A\n",
      "LYS  65 A                                            0.00 XXX   0 X    0.00 XXX   0 X   -0.06 LYS 142 A\n",
      "\n",
      "LYS  75 A   9.98     0 %   -0.23  219   0.00    0    0.00 XXX   0 X    0.00 XXX   0 X   -0.30 ARG  36 A\n",
      "LYS  75 A                                            0.00 XXX   0 X    0.00 XXX   0 X    0.01 GLU  73 A\n",
      "\n",
      "LYS  88 A  11.27    35 %   -0.78  380   0.00    0    0.62 ASP  92 A    0.00 XXX   0 X    0.07 ASP  86 A\n",
      "LYS  88 A                                            0.00 XXX   0 X    0.00 XXX   0 X    0.37 GLU 195 A\n",
      "LYS  88 A                                            0.00 XXX   0 X    0.00 XXX   0 X    0.49 ASP  92 A\n",
      "\n",
      "LYS  89 A  11.13    52 %   -1.11  428   0.00    0    0.85 ASP  86 A    0.00 XXX   0 X    0.02 GLU  12 A\n",
      "LYS  89 A                                            0.00 XXX   0 X    0.00 XXX   0 X    0.05 ASP  92 A\n",
      "LYS  89 A                                            0.00 XXX   0 X    0.00 XXX   0 X    0.82 ASP  86 A\n",
      "\n",
      "LYS 105 A  10.70    23 %   -1.12  346   0.00    0    0.68 ASP 288 A    0.00 XXX   0 X    0.14 ASP 256 A\n",
      "LYS 105 A                                            0.00 XXX   0 X    0.00 XXX   0 X    0.08 ASP 258 A\n",
      "LYS 105 A                                            0.00 XXX   0 X    0.00 XXX   0 X    0.41 ASP 288 A\n",
      "\n",
      "LYS 129 A  11.42    82 %   -3.20  511   0.00    0    0.85 ASP 127 A    0.00 XXX   0 X   -0.05 ARG 150 A\n",
      "LYS 129 A                                            0.36 ASP 145 A    0.00 XXX   0 X    0.39 TYR 159 A\n",
      "LYS 129 A                                            0.00 XXX   0 X    0.00 XXX   0 X    1.30 ASP 127 A\n",
      "LYS 129 A                                            0.00 XXX   0 X    0.00 XXX   0 X    1.29 ASP 145 A\n",
      "\n",
      "LYS 142 A  10.66    42 %   -1.32  400   0.00    0    0.85 GLU  81 A    0.00 XXX   0 X    0.02 GLU 138 A\n",
      "LYS 142 A                                            0.00 XXX   0 X    0.00 XXX   0 X    0.61 GLU  81 A\n",
      "\n",
      "LYS 178 A  10.38     0 %   -0.12   76   0.00    0    0.00 XXX   0 X    0.00 XXX   0 X    0.00 XXX   0 X\n",
      "\n",
      "LYS 237 A  10.48     0 %   -0.16  175   0.00    0    0.00 XXX   0 X    0.00 XXX   0 X    0.14 ASP 235 A\n",
      "\n",
      "LYS 242 A  10.30     0 %   -0.32  251   0.00    0    0.00 XXX   0 X    0.00 XXX   0 X    0.12 ASP 223 A\n",
      "\n",
      "LYS 250 A  10.39     0 %   -0.11  183   0.00    0    0.00 XXX   0 X    0.00 XXX   0 X   -0.03 ARG 217 A\n",
      "LYS 250 A                                            0.00 XXX   0 X    0.00 XXX   0 X    0.02 ASP 247 A\n",
      "\n",
      "LYS 273 A  10.51     0 %   -0.12  168   0.00    0    0.00 XXX   0 X    0.00 XXX   0 X    0.13 ASP 270 A\n",
      "\n",
      "LYS 278 A  10.39     0 %   -0.11  190   0.00    0    0.00 XXX   0 X    0.00 XXX   0 X    0.00 XXX   0 X\n",
      "\n",
      "LYS 291 A  10.23     4 %   -0.36  293   0.00    0    0.00 XXX   0 X    0.00 XXX   0 X    0.14 GLU 138 A\n",
      "LYS 291 A                                            0.00 XXX   0 X    0.00 XXX   0 X   -0.05 LYS 142 A\n",
      "\n",
      "ARG  22 A  12.29     0 %   -0.22  208   0.00    0    0.00 XXX   0 X    0.00 XXX   0 X    0.01 GLU   8 A\n",
      "\n",
      "ARG  36 A  12.42     0 %   -0.18  205   0.00    0    0.00 XXX   0 X    0.00 XXX   0 X    0.05 ASP  38 A\n",
      "ARG  36 A                                            0.00 XXX   0 X    0.00 XXX   0 X    0.04 TYR  77 A\n",
      "\n",
      "ARG  50 A  12.48     0 %   -0.12  177   0.00    0    0.00 XXX   0 X    0.00 XXX   0 X    0.08 GLU  51 A\n",
      "ARG  50 A                                            0.00 XXX   0 X    0.00 XXX   0 X    0.02 GLU  57 A\n",
      "\n",
      "ARG 122 A  12.30     0 %   -0.18  204   0.00    0    0.00 XXX   0 X    0.00 XXX   0 X    0.06 GLU  51 A\n",
      "ARG 122 A                                            0.00 XXX   0 X    0.00 XXX   0 X    0.09 GLU  57 A\n",
      "ARG 122 A                                            0.00 XXX   0 X    0.00 XXX   0 X   -0.16 ARG  50 A\n",
      "\n",
      "ARG 126 A  12.56    66 %   -2.10  465   0.00    0    0.67 TYR 180 A    0.00 XXX   0 X    0.37 GLU  51 A\n",
      "ARG 126 A                                            0.00 XXX   0 X    0.00 XXX   0 X    0.74 TYR 180 A\n",
      "ARG 126 A                                            0.00 XXX   0 X    0.00 XXX   0 X    0.39 ASP 185 A\n",
      "\n",
      "ARG 150 A  13.53    51 %   -0.83  423   0.00    0    0.78 TYR 159 A    0.00 XXX   0 X    0.03 TYR  15 A\n",
      "ARG 150 A                                            0.00 XXX   0 X    0.00 XXX   0 X    0.31 ASP 127 A\n",
      "ARG 150 A                                            0.00 XXX   0 X    0.00 XXX   0 X    0.11 TYR 180 A\n",
      "ARG 150 A                                            0.00 XXX   0 X    0.00 XXX   0 X    0.00 GLU 208 A\n",
      "ARG 150 A                                            0.00 XXX   0 X    0.00 XXX   0 X    0.63 TYR 159 A\n",
      "\n",
      "ARG 157 A  12.42     0 %   -0.10  186   0.00    0    0.00 XXX   0 X    0.00 XXX   0 X    0.02 ASP  38 A\n",
      "\n",
      "ARG 169 A  11.34    65 %   -1.27  462   0.00    0    0.00 XXX   0 X    0.00 XXX   0 X    0.14 ASP 127 A\n",
      "ARG 169 A                                            0.00 XXX   0 X    0.00 XXX   0 X    0.16 TYR 159 A\n",
      "ARG 169 A                                            0.00 XXX   0 X    0.00 XXX   0 X    0.01 TYR 180 A\n",
      "ARG 169 A                                            0.00 XXX   0 X    0.00 XXX   0 X    0.23 GLU 208 A\n",
      "ARG 169 A                                            0.00 XXX   0 X    0.00 XXX   0 X   -0.43 ARG 150 A\n",
      "\n",
      "ARG 199 A  12.20     0 %   -0.30  235   0.00    0    0.00 XXX   0 X    0.00 XXX   0 X    0.00 XXX   0 X\n",
      "\n",
      "ARG 200 A  12.29     0 %   -0.14  246   0.00    0    0.00 XXX   0 X    0.00 XXX   0 X   -0.07 ARG 214 A\n",
      "\n",
      "ARG 214 A  13.37     1 %   -0.40  283   0.00    0    0.74 ASP 210 A    0.00 XXX   0 X    0.16 ASP 206 A\n",
      "ARG 214 A                                            0.00 XXX   0 X    0.00 XXX   0 X    0.37 ASP 210 A\n",
      "\n",
      "ARG 217 A  12.31     0 %   -0.14  234   0.00    0    0.00 XXX   0 X    0.00 XXX   0 X    0.00 ASP 210 A\n",
      "ARG 217 A                                            0.00 XXX   0 X    0.00 XXX   0 X   -0.06 ARG 214 A\n",
      "\n",
      "ARG 245 A  11.80    33 %   -0.85  374   0.00    0    0.00 XXX   0 X    0.00 XXX   0 X    0.14 ASP 247 A\n",
      "ARG 245 A                                            0.00 XXX   0 X    0.00 XXX   0 X    0.02 TYR 269 A\n",
      "ARG 245 A                                            0.00 XXX   0 X    0.00 XXX   0 X   -0.01 ARG 260 A\n",
      "\n",
      "ARG 260 A  12.46     0 %   -0.33  224   0.00    0    0.00 XXX   0 X    0.00 XXX   0 X    0.03 ASP 247 A\n",
      "ARG 260 A                                            0.00 XXX   0 X    0.00 XXX   0 X    0.08 ASP 256 A\n",
      "ARG 260 A                                            0.00 XXX   0 X    0.00 XXX   0 X    0.17 GLU 257 A\n",
      "\n",
      "ARG 274 A  12.21    96 %   -3.52  549   0.00    0    1.43 GLU 172 A    0.00 XXX   0 X    0.02 CYS 177 A\n",
      "ARG 274 A                                            0.00 XXX   0 X    0.00 XXX   0 X    0.12 CYS 191 A\n",
      "ARG 274 A                                            0.00 XXX   0 X    0.00 XXX   0 X    0.10 ASP 270 A\n",
      "ARG 274 A                                            0.00 XXX   0 X    0.00 XXX   0 X    1.56 GLU 172 A\n",
      "\n",
      "ARG 297 A  12.46     0 %   -0.04   68   0.00    0    0.00 XXX   0 X    0.00 XXX   0 X    0.00 XXX   0 X\n",
      "\n",
      "N+    1 A   8.14     1 %   -0.52  285   0.00    0    0.32 GLU   2 A    0.00 XXX   0 X   -0.04 LYS  24 A\n",
      "N+    1 A                                            0.00 XXX   0 X    0.00 XXX   0 X    0.02 ASP  68 A\n",
      "N+    1 A                                            0.00 XXX   0 X    0.00 XXX   0 X    0.36 GLU   2 A\n",
      "\n",
      "\n",
      "INFO:pKa summary:\n",
      "--------------------------------------------------------------------------------------------------------\n",
      "SUMMARY OF THIS PREDICTION\n",
      "       Group      pKa  model-pKa   ligand atom-type\n",
      "   ASP  38 A     4.21       3.80                      \n",
      "   ASP  68 A     3.52       3.80                      \n",
      "   ASP  86 A     4.68       3.80                      \n",
      "   ASP  92 A     3.58       3.80                      \n",
      "   ASP 127 A     5.61       3.80                      \n",
      "   ASP 145 A     4.62       3.80                      \n",
      "   ASP 185 A     5.92       3.80                      \n",
      "   ASP 206 A     4.45       3.80                      \n",
      "   ASP 210 A     2.36       3.80                      \n",
      "   ASP 223 A     3.03       3.80                      \n",
      "   ASP 235 A     3.98       3.80                      \n",
      "   ASP 247 A     3.79       3.80                      \n",
      "   ASP 256 A     2.88       3.80                      \n",
      "   ASP 258 A     4.33       3.80                      \n",
      "   ASP 270 A     4.02       3.80                      \n",
      "   ASP 288 A     2.69       3.80                      \n",
      "   GLU   2 A     3.35       4.50                      \n",
      "   GLU   8 A     4.55       4.50                      \n",
      "   GLU  12 A     4.01       4.50                      \n",
      "   GLU  28 A     4.75       4.50                      \n",
      "   GLU  40 A     5.10       4.50                      \n",
      "   GLU  42 A     4.58       4.50                      \n",
      "   GLU  51 A     5.20       4.50                      \n",
      "   GLU  57 A     4.66       4.50                      \n",
      "   GLU  73 A     4.58       4.50                      \n",
      "   GLU  81 A     4.03       4.50                      \n",
      "   GLU 138 A     4.46       4.50                      \n",
      "   GLU 162 A     4.70       4.50                      \n",
      "   GLU 172 A     4.69       4.50                      \n",
      "   GLU 195 A     6.20       4.50                      \n",
      "   GLU 208 A     4.68       4.50                      \n",
      "   GLU 224 A     2.74       4.50                      \n",
      "   GLU 257 A     4.65       4.50                      \n",
      "   C-  298 A     3.35       3.20                      \n",
      "   CYS 118 A    12.43       9.00                      \n",
      "   CYS 177 A    10.97       9.00                      \n",
      "   CYS 191 A    12.94       9.00                      \n",
      "   TYR  15 A    12.40      10.00                      \n",
      "   TYR  19 A    10.02      10.00                      \n",
      "   TYR  77 A    10.58      10.00                      \n",
      "   TYR 107 A    12.76      10.00                      \n",
      "   TYR 159 A     9.88      10.00                      \n",
      "   TYR 168 A    15.80      10.00                      \n",
      "   TYR 179 A    10.11      10.00                      \n",
      "   TYR 180 A    10.16      10.00                      \n",
      "   TYR 236 A    10.69      10.00                      \n",
      "   TYR 269 A    14.27      10.00                      \n",
      "   LYS   6 A    10.56      10.50                      \n",
      "   LYS   9 A    10.64      10.50                      \n",
      "   LYS  20 A    10.09      10.50                      \n",
      "   LYS  24 A    10.26      10.50                      \n",
      "   LYS  33 A     9.32      10.50                      \n",
      "   LYS  34 A     9.58      10.50                      \n",
      "   LYS  56 A    10.31      10.50                      \n",
      "   LYS  65 A    10.42      10.50                      \n",
      "   LYS  75 A     9.98      10.50                      \n",
      "   LYS  88 A    11.27      10.50                      \n",
      "   LYS  89 A    11.13      10.50                      \n",
      "   LYS 105 A    10.70      10.50                      \n",
      "   LYS 129 A    11.42      10.50                      \n",
      "   LYS 142 A    10.66      10.50                      \n",
      "   LYS 178 A    10.38      10.50                      \n",
      "   LYS 237 A    10.48      10.50                      \n",
      "   LYS 242 A    10.30      10.50                      \n",
      "   LYS 250 A    10.39      10.50                      \n",
      "   LYS 273 A    10.51      10.50                      \n",
      "   LYS 278 A    10.39      10.50                      \n",
      "   LYS 291 A    10.23      10.50                      \n",
      "   ARG  22 A    12.29      12.50                      \n",
      "   ARG  36 A    12.42      12.50                      \n",
      "   ARG  50 A    12.48      12.50                      \n",
      "   ARG 122 A    12.30      12.50                      \n",
      "   ARG 126 A    12.56      12.50                      \n",
      "   ARG 150 A    13.53      12.50                      \n",
      "   ARG 157 A    12.42      12.50                      \n",
      "   ARG 169 A    11.34      12.50                      \n",
      "   ARG 199 A    12.20      12.50                      \n",
      "   ARG 200 A    12.29      12.50                      \n",
      "   ARG 214 A    13.37      12.50                      \n",
      "   ARG 217 A    12.31      12.50                      \n",
      "   ARG 245 A    11.80      12.50                      \n",
      "   ARG 260 A    12.46      12.50                      \n",
      "   ARG 274 A    12.21      12.50                      \n",
      "   ARG 297 A    12.46      12.50                      \n",
      "   N+    1 A     8.14       8.00                      \n",
      "\n",
      "INFO:PROPKA information:\n",
      "--------------------------------------------------------------------------------------------------------\n",
      "Free energy of   folding (kcal/mol) as a function of pH (using neutral reference)\n",
      "  0.00     25.01\n",
      "  1.00     24.96\n",
      "  2.00     24.54\n",
      "  3.00     22.56\n",
      "  4.00     21.11\n",
      "  5.00     24.81\n",
      "  6.00     28.44\n",
      "  7.00     29.57\n",
      "  8.00     29.94\n",
      "  9.00     31.01\n",
      " 10.00     34.45\n",
      " 11.00     41.77\n",
      " 12.00     49.16\n",
      " 13.00     54.09\n",
      " 14.00     57.78\n",
      "\n",
      "The pH of optimum stability is  3.8 for which the free energy is   21.0 kcal/mol at 298K\n",
      "Could not determine pH values where the free energy is within 80 % of minimum\n",
      "Could not determine the pH-range where the free energy is negative\n",
      "\n",
      "\n",
      "Protein charge of folded and unfolded state as a function of pH\n",
      "    pH  unfolded  folded\n",
      "  0.00     38.00   37.99\n",
      "  1.00     37.96   37.87\n",
      "  2.00     37.64   36.93\n",
      "  3.00     34.90   32.83\n",
      "  4.00     23.24   24.17\n",
      "  5.00      9.05   12.54\n",
      "  6.00      4.61    6.22\n",
      "  7.00      3.93    4.26\n",
      "  8.00      3.07    3.43\n",
      "  9.00      0.03    1.48\n",
      " 10.00     -9.81   -5.93\n",
      " 11.00    -25.51  -19.25\n",
      " 12.00    -34.10  -29.82\n",
      " 13.00    -43.08  -39.82\n",
      " 14.00    -46.50  -44.43\n",
      "The pI is  9.33 (folded) and  9.01 (unfolded)\n",
      "\n",
      "--------------------------------------------------------------------------------------------------------\n",
      "INFO:Applying pKa values at a pH of 7.40:\n",
      "INFO:Adding hydrogens to biomolecule.\n",
      "INFO:Debumping biomolecule (again).\n",
      "INFO:Optimizing hydrogen bonds\n",
      "INFO:Applying force field to biomolecule states.\n",
      "INFO:Applying custom naming scheme (amber).\n",
      "INFO:Regenerating headers.\n",
      "INFO:Regenerating PDB lines.\n",
      "WARNING:Ignoring 539 header lines in output.\n",
      "WARNING:Ignoring 539 header lines in output.\n",
      "\n",
      "None\n"
     ]
    }
   ],
   "source": [
    "# Prepare the protein using PDB2PQR\n",
    "from helper_modules.prepare_md_system import run_pdb2pqr\n",
    "OUT_PDB2PQR = 'prot.TEMP'\n",
    "run_pdb2pqr(input_pdb = INPUT_PROT,  \n",
    "            output_basename = f'{TMP_DIR}/{OUT_PDB2PQR}',\n",
    "            ph = PH,\n",
    "            verbose = True)"
   ]
  },
  {
   "cell_type": "code",
   "execution_count": 48,
   "id": "6b692c5d",
   "metadata": {},
   "outputs": [],
   "source": [
    "# Convert ligand to mol2\n",
    "# LIG ************************************************\n",
    "from helper_modules.prepare_md_system import run_obabel\n",
    "OUT_OBABEL = 'OUT_OBABEL.LIG.mol2'\n",
    "# run_obabel(input_ligand = INPUT_LIG, \n",
    "#            output_name = f'{TMP_DIR}/{OUT_OBABEL}', \n",
    "#            ph = PH, \n",
    "#            use_amber_reduce = True,\n",
    "#            partial_charges = LIG_PARTIAL_CHARGES)\n",
    "\n",
    "\n",
    "# NOTE:\n",
    "OUT_OBABEL = f'3pxf_2AN_LIG.mol2'\n",
    "LIG_NET_CHARGE = -1\n",
    "# Prepared manually, since obabel and ambertools gave incorrect tautomer"
   ]
  },
  {
   "cell_type": "code",
   "execution_count": 53,
   "id": "4e8bdd43",
   "metadata": {},
   "outputs": [
    {
     "name": "stdout",
     "output_type": "stream",
     "text": [
      "2AN net charge: 0\n"
     ]
    }
   ],
   "source": [
    "# Get the net charge of the ligand\n",
    "\n",
    "# from helper_modules.prepare_md_system import run_get_charge \n",
    "# LIG_NET_CHARGE = run_get_charge(\n",
    "#                     filename = f\"{TMP_DIR}/{OUT_OBABEL}\", \n",
    "#                     round_value = True \n",
    "# )\n",
    "# print(f'{LIG_NAME} net charge:', LIG_NET_CHARGE)"
   ]
  },
  {
   "cell_type": "code",
   "execution_count": 55,
   "id": "919751cd",
   "metadata": {},
   "outputs": [
    {
     "data": {
      "application/vnd.jupyter.widget-view+json": {
       "model_id": "a6c09f83d66b4d46b233f45a98a3cc2b",
       "version_major": 2,
       "version_minor": 0
      },
      "text/plain": [
       "NGLWidget()"
      ]
     },
     "metadata": {},
     "output_type": "display_data"
    }
   ],
   "source": [
    "view1 = nglview.show_structure_file(f'{TMP_DIR}/{OUT_OBABEL}')\n",
    "view1.add_representation(repr_type='ball+stick')\n",
    "view1._remote_call('setSize', target='Widget')\n",
    "view1.camera='orthographic'\n",
    "\n",
    "view1"
   ]
  },
  {
   "cell_type": "code",
   "execution_count": 56,
   "id": "408c9c09",
   "metadata": {
    "scrolled": true
   },
   "outputs": [
    {
     "name": "stdout",
     "output_type": "stream",
     "text": [
      "\n",
      "Welcome to antechamber 20.0: molecular input file processor.\n",
      "\n",
      "acdoctor mode is on: check and diagnose problems in the input file.\n",
      "-- Check Format for mol2 File --\n",
      "   Status: pass\n",
      "Info: Finished reading file (./../data/md_system_prep/LIG_systems/3pxf/3pxf-LIG_intermediate_files/3pxf_2AN_LIG.mol2); atoms read (33), bonds read (35).\n",
      "Info: Determining atomic numbers from atomic symbols which are case sensitive.\n",
      "-- Check Unusual Elements --\n",
      "   Status: pass\n",
      "-- Check Open Valences --\n",
      "   Status: pass\n",
      "-- Check Geometry --\n",
      "      for those bonded   \n",
      "      for those not bonded   \n",
      "   Status: pass\n",
      "-- Check Weird Bonds --\n",
      "   Status: pass\n",
      "-- Check Number of Units --\n",
      "   Status: pass\n",
      "acdoctor mode has completed checking the input file.\n",
      "\n",
      "Running: /Users/joelricci/miniconda/envs/biobb/bin/bondtype -j full -i ANTECHAMBER_BOND_TYPE.AC0 -o ANTECHAMBER_BOND_TYPE.AC -f ac\n",
      "\n",
      "Running: /Users/joelricci/miniconda/envs/biobb/bin/atomtype -i ANTECHAMBER_AC.AC0 -o ANTECHAMBER_AC.AC -p gaff\n",
      "Info: Total number of electrons: 156; net charge: -1\n",
      "\n",
      "Running: /Users/joelricci/miniconda/envs/biobb/bin/sqm -O -i sqm.in -o sqm.out\n",
      "\n",
      "Running: /Users/joelricci/miniconda/envs/biobb/bin/am1bcc -i ANTECHAMBER_AM1BCC_PRE.AC -o ANTECHAMBER_AM1BCC.AC -f ac -p /Users/joelricci/miniconda/envs/biobb/dat/antechamber/BCCPARM.DAT -s 2 -j 1\n",
      "\n",
      "Running: /Users/joelricci/miniconda/envs/biobb/bin/atomtype -f ac -p bcc -o ANTECHAMBER_AM1BCC.AC -i ANTECHAMBER_AM1BCC_PRE.AC\n",
      "\n",
      "\n",
      "None\n",
      "Current charge: -1.001\n",
      "-1.001\n",
      "-0.001\n",
      "1.4481 -> 1.449100\n",
      "\n",
      "None\n"
     ]
    }
   ],
   "source": [
    "# Run antechamber\n",
    "\n",
    "\n",
    "from helper_modules.prepare_md_system import run_antechamber\n",
    "run_antechamber(mol2_filename  = f'{TMP_DIR}/{OUT_OBABEL}', \n",
    "                lig_resname    = LIG_RESNAME,\n",
    "                lig_net_charge = -1,\n",
    "                output_dir     = TMP_DIR)"
   ]
  },
  {
   "cell_type": "code",
   "execution_count": 57,
   "id": "dfa83946",
   "metadata": {},
   "outputs": [
    {
     "name": "stdout",
     "output_type": "stream",
     "text": [
      "2AN net charge: -1.0\n"
     ]
    }
   ],
   "source": [
    "# Get the net charge of the ligand\n",
    "\n",
    "from helper_modules.prepare_md_system import run_get_charge \n",
    "LIG_NET_CHARGE = run_get_charge(\n",
    "                    filename = f\"{TMP_DIR}/LIG.mol2\", \n",
    "                    round_value = False \n",
    ")\n",
    "print(f'{LIG_NAME} net charge:', LIG_NET_CHARGE)"
   ]
  },
  {
   "cell_type": "code",
   "execution_count": 58,
   "id": "7f211eab",
   "metadata": {},
   "outputs": [
    {
     "name": "stdout",
     "output_type": "stream",
     "text": [
      "Remark line goes here\r\n",
      "MASS\r\n",
      "\r\n",
      "BOND\r\n",
      "\r\n",
      "ANGLE\r\n",
      "\r\n",
      "DIHE\r\n",
      "\r\n",
      "IMPROPER\r\n",
      "ca-ca-ca-nh         1.1          180.0         2.0          Using the default value\r\n",
      "ca-ca-ca-ha         1.1          180.0         2.0          Using general improper torsional angle  X- X-ca-ha, penalty score=  6.0)\r\n",
      "ca-ca-ca-ca         1.1          180.0         2.0          Using the default value\r\n",
      "ca-ca-nh-hn         1.1          180.0         2.0          Same as X -X -na-hn, penalty score= 41.2 (use general term))\r\n",
      "ca-ca-ca-s6         1.1          180.0         2.0          Using the default value\r\n",
      "\r\n",
      "NONBON\r\n",
      "\r\n",
      "\r\n",
      "\r\n"
     ]
    }
   ],
   "source": [
    "!cat $TMP_DIR/LIG.frcmod"
   ]
  },
  {
   "cell_type": "code",
   "execution_count": 59,
   "id": "1a29b792",
   "metadata": {},
   "outputs": [
    {
     "name": "stdout",
     "output_type": "stream",
     "text": [
      "-I: Adding /Users/joelricci/miniconda/envs/biobb/dat/leap/prep to search path.\n",
      "-I: Adding /Users/joelricci/miniconda/envs/biobb/dat/leap/lib to search path.\n",
      "-I: Adding /Users/joelricci/miniconda/envs/biobb/dat/leap/parm to search path.\n",
      "-I: Adding /Users/joelricci/miniconda/envs/biobb/dat/leap/cmd to search path.\n",
      "-f: Source ./../data/md_system_prep/LIG_systems/3pxf/3pxf-LIG_intermediate_files/leap_lig_lib.in.\n",
      "\n",
      "Welcome to LEaP!\n",
      "(no leaprc in search path)\n",
      "Sourcing: ./../data/md_system_prep/LIG_systems/3pxf/3pxf-LIG_intermediate_files/leap_lig_lib.in\n",
      "----- Source: /Users/joelricci/miniconda/envs/biobb/dat/leap/cmd/leaprc.gaff\n",
      "----- Source of /Users/joelricci/miniconda/envs/biobb/dat/leap/cmd/leaprc.gaff done\n",
      "Log file: ./leap.log\n",
      "Loading parameters: /Users/joelricci/miniconda/envs/biobb/dat/leap/parm/gaff.dat\n",
      "Reading title:\n",
      "AMBER General Force Field for organic molecules (Version 1.81, May 2017)\n",
      "Loading parameters: ./../data/md_system_prep/LIG_systems/3pxf/3pxf-LIG_intermediate_files/LIG.frcmod\n",
      "Reading force field modification type file (frcmod)\n",
      "Reading title:\n",
      "Remark line goes here\n",
      "Loading Mol2 file: ./../data/md_system_prep/LIG_systems/3pxf/3pxf-LIG_intermediate_files/LIG.mol2\n",
      "Reading MOLECULE named LIG\n",
      " Creating ./../data/md_system_prep/LIG_systems/3pxf/3pxf-LIG_intermediate_files/LIG.lib\n",
      "Building topology.\n",
      "Building atom parameters.\n",
      "\tQuit\n",
      "\n",
      "Exiting LEaP: Errors = 0; Warnings = 0; Notes = 0.\n",
      "\n",
      "None\n"
     ]
    }
   ],
   "source": [
    "# Prepare the LIG params library\n",
    "\n",
    "from helper_modules.prepare_md_system import run_leap_lig_lib\n",
    "run_leap_lig_lib(tmp_dir      = TMP_DIR, \n",
    "                 lig_basename = LIG_RESNAME)"
   ]
  },
  {
   "cell_type": "code",
   "execution_count": 60,
   "id": "2fde1c03",
   "metadata": {},
   "outputs": [
    {
     "name": "stdout",
     "output_type": "stream",
     "text": [
      "-I: Adding /Users/joelricci/miniconda/envs/biobb/dat/leap/prep to search path.\n",
      "-I: Adding /Users/joelricci/miniconda/envs/biobb/dat/leap/lib to search path.\n",
      "-I: Adding /Users/joelricci/miniconda/envs/biobb/dat/leap/parm to search path.\n",
      "-I: Adding /Users/joelricci/miniconda/envs/biobb/dat/leap/cmd to search path.\n",
      "-f: Source ./../data/md_system_prep/LIG_systems/3pxf/3pxf-LIG_intermediate_files/leap_prep_complex.in.\n",
      "\n",
      "Welcome to LEaP!\n",
      "(no leaprc in search path)\n",
      "Sourcing: ./../data/md_system_prep/LIG_systems/3pxf/3pxf-LIG_intermediate_files/leap_prep_complex.in\n",
      "----- Source: /Users/joelricci/miniconda/envs/biobb/dat/leap/cmd/leaprc.protein.ff14SB\n",
      "----- Source of /Users/joelricci/miniconda/envs/biobb/dat/leap/cmd/leaprc.protein.ff14SB done\n",
      "Log file: ./leap.log\n",
      "Loading parameters: /Users/joelricci/miniconda/envs/biobb/dat/leap/parm/parm10.dat\n",
      "Reading title:\n",
      "PARM99 + frcmod.ff99SB + frcmod.parmbsc0 + OL3 for RNA\n",
      "Loading parameters: /Users/joelricci/miniconda/envs/biobb/dat/leap/parm/frcmod.ff14SB\n",
      "Reading force field modification type file (frcmod)\n",
      "Reading title:\n",
      "ff14SB protein backbone and sidechain parameters\n",
      "Loading library: /Users/joelricci/miniconda/envs/biobb/dat/leap/lib/amino12.lib\n",
      "Loading library: /Users/joelricci/miniconda/envs/biobb/dat/leap/lib/aminoct12.lib\n",
      "Loading library: /Users/joelricci/miniconda/envs/biobb/dat/leap/lib/aminont12.lib\n",
      "----- Source: /Users/joelricci/miniconda/envs/biobb/dat/leap/cmd/leaprc.gaff\n",
      "----- Source of /Users/joelricci/miniconda/envs/biobb/dat/leap/cmd/leaprc.gaff done\n",
      "Log file: ./leap.log\n",
      "Loading parameters: /Users/joelricci/miniconda/envs/biobb/dat/leap/parm/gaff.dat\n",
      "Reading title:\n",
      "AMBER General Force Field for organic molecules (Version 1.81, May 2017)\n",
      "----- Source: /Users/joelricci/miniconda/envs/biobb/dat/leap/cmd/leaprc.water.tip3p\n",
      "----- Source of /Users/joelricci/miniconda/envs/biobb/dat/leap/cmd/leaprc.water.tip3p done\n",
      "Loading library: /Users/joelricci/miniconda/envs/biobb/dat/leap/lib/atomic_ions.lib\n",
      "Loading library: /Users/joelricci/miniconda/envs/biobb/dat/leap/lib/solvents.lib\n",
      "Loading parameters: /Users/joelricci/miniconda/envs/biobb/dat/leap/parm/frcmod.tip3p\n",
      "Reading force field modification type file (frcmod)\n",
      "Reading title:\n",
      "This is the additional/replacement parameter set for TIP3P water\n",
      "Loading parameters: /Users/joelricci/miniconda/envs/biobb/dat/leap/parm/frcmod.ions1lm_126_tip3p\n",
      "Reading force field modification type file (frcmod)\n",
      "Reading title:\n",
      "Li/Merz ion parameters of monovalent ions for TIP3P water model (12-6 normal usage set)\n",
      "Loading parameters: /Users/joelricci/miniconda/envs/biobb/dat/leap/parm/frcmod.ionsjc_tip3p\n",
      "Reading force field modification type file (frcmod)\n",
      "Reading title:\n",
      "Monovalent ion parameters for Ewald and TIP3P water from Joung & Cheatham JPCB (2008)\n",
      "Loading parameters: /Users/joelricci/miniconda/envs/biobb/dat/leap/parm/frcmod.ions234lm_126_tip3p\n",
      "Reading force field modification type file (frcmod)\n",
      "Reading title:\n",
      "Li/Merz ion parameters of divalent to tetravalent ions for TIP3P water model (12-6 normal usage set)\n",
      "Loading library: ./../data/md_system_prep/LIG_systems/3pxf/3pxf-LIG_intermediate_files/LIG.lib\n",
      "Loading parameters: ./../data/md_system_prep/LIG_systems/3pxf/3pxf-LIG_intermediate_files/LIG.frcmod\n",
      "Reading force field modification type file (frcmod)\n",
      "Reading title:\n",
      "Remark line goes here\n",
      "Loading PDB file: ./../data/md_system_prep/LIG_systems/3pxf/3pxf-LIG_intermediate_files/prot.TEMP.pdb\n",
      "  total atoms in file: 4848\n",
      "Loading Mol2 file: ./../data/md_system_prep/LIG_systems/3pxf/3pxf-LIG_intermediate_files/LIG.mol2\n",
      "Reading MOLECULE named LIG\n",
      "Loading PDB file: ./../data/md_system_prep/LIG_systems/3pxf/3pxf_CRYS_WAT.pdb\n",
      "  total atoms in file: 2\n",
      "  Leap added 4 missing atoms according to residue templates:\n",
      "       4 H / lone pairs\n",
      "Writing pdb file: ./../data/md_system_prep/LIG_systems/3pxf/3pxf-LIG_intermediate_files/COMPLEX.pdb\n",
      "\n",
      "/Users/joelricci/miniconda/envs/biobb/bin/teLeap: Warning!\n",
      " Converting N-terminal residue name to PDB format: NMET -> MET\n",
      "\n",
      "/Users/joelricci/miniconda/envs/biobb/bin/teLeap: Warning!\n",
      " Converting C-terminal residue name to PDB format: CLEU -> LEU\n",
      "Checking 'system'....\n",
      "\n",
      "/Users/joelricci/miniconda/envs/biobb/bin/teLeap: Warning!\n",
      "The unperturbed charge of the unit (3.000000) is not zero.\n",
      "\n",
      "/Users/joelricci/miniconda/envs/biobb/bin/teLeap: Warning!\n",
      "Close contact of 1.104220 angstroms between .R<THR 165>.A<H 2> and .R<VAL 164>.A<H 2>\n",
      "\n",
      "/Users/joelricci/miniconda/envs/biobb/bin/teLeap: Warning!\n",
      "Close contact of 1.422765 angstroms between .R<VAL 164>.A<H 2> and .R<VAL 163>.A<HG21 12>\n",
      "\n",
      "/Users/joelricci/miniconda/envs/biobb/bin/teLeap: Warning!\n",
      "Close contact of 1.447308 angstroms between .R<GLN 113>.A<HE22 15> and .R<GLN 110>.A<HA 4>\n",
      "\n",
      "/Users/joelricci/miniconda/envs/biobb/bin/teLeap: Warning!\n",
      "Close contact of 1.475465 angstroms between .R<VAL 29>.A<HG23 14> and .R<LYS 20>.A<HE3 16>\n",
      "\n",
      "/Users/joelricci/miniconda/envs/biobb/bin/teLeap: Warning!\n",
      "Close contact of 1.309832 angstroms between .R<TYR 15>.A<HE2 17> and .R<WAT 300>.A<H1 2>\n",
      "\n",
      "/Users/joelricci/miniconda/envs/biobb/bin/teLeap: Warning!\n",
      "Close contact of 1.492386 angstroms between .R<GLU 2>.A<H 2> and .R<NMET 1>.A<H1 2>\n",
      "Checking parameters for unit 'system'.\n",
      "Checking for bond parameters.\n",
      "Checking for angle parameters.\n",
      "check:  Warnings: 7\n",
      "Unit is OK.\n",
      "Checking Unit.\n",
      "\n",
      "/Users/joelricci/miniconda/envs/biobb/bin/teLeap: Warning!\n",
      "The unperturbed charge of the unit (3.000000) is not zero.\n",
      "\n",
      "/Users/joelricci/miniconda/envs/biobb/bin/teLeap: Note.\n",
      "Ignoring the warning from Unit Checking.\n",
      "\n",
      "Building topology.\n",
      "Building atom parameters.\n",
      "Building bond parameters.\n",
      "Building angle parameters.\n",
      "Building proper torsion parameters.\n",
      "Building improper torsion parameters.\n",
      " total 975 improper torsions applied\n",
      "Building H-Bond parameters.\n",
      "Incorporating Non-Bonded adjustments.\n",
      "Not Marking per-residue atom chain types.\n",
      "Marking per-residue atom chain types.\n",
      "  (Residues lacking connect0/connect1 - \n",
      "   these don't have chain types marked:\n",
      "\n",
      "\tres\ttotal affected\n",
      "\n",
      "\tCLEU\t1\n",
      "\tLIG\t1\n",
      "\tNMET\t1\n",
      "\tWAT\t2\n",
      "  )\n",
      " (no restraints)\n",
      "Total unperturbed charge:   4.000000\n",
      "Total perturbed charge:     4.000000\n",
      "Total unperturbed charge:  -1.000000\n",
      "Total perturbed charge:    -1.000000\n",
      "Total unperturbed charge:   3.000000\n",
      "Total perturbed charge:     3.000000\n",
      "\tQuit\n",
      "\n",
      "Exiting LEaP: Errors = 0; Warnings = 10; Notes = 1.\n",
      "\n",
      "None\n"
     ]
    }
   ],
   "source": [
    "# Create the complex\n",
    "\n",
    "from helper_modules.prepare_md_system import run_tleap_prepare_pl_complex \n",
    "OUT_SYSTEM = 'COMPLEX'\n",
    "run_tleap_prepare_pl_complex(output_basename  = OUT_SYSTEM, \n",
    "                             tmp_dir          = TMP_DIR, \n",
    "                             input_waters_pdb = INPUT_CRYS_WAT)"
   ]
  },
  {
   "cell_type": "code",
   "execution_count": 61,
   "id": "045b54a8",
   "metadata": {},
   "outputs": [
    {
     "name": "stdout",
     "output_type": "stream",
     "text": [
      "\n",
      "None\n"
     ]
    }
   ],
   "source": [
    "# Minimize Hydrogens using sander\n",
    "\n",
    "from helper_modules.prepare_md_system import run_minimize_hydrogens\n",
    "OUT_MIN_SYSTEM = 'COMPLEX.minH'\n",
    "run_minimize_hydrogens(input_basename = OUT_SYSTEM, \n",
    "                       output_basename = OUT_MIN_SYSTEM,\n",
    "                       tmp_dir = TMP_DIR,\n",
    "                       verbose = True)"
   ]
  },
  {
   "cell_type": "code",
   "execution_count": 62,
   "id": "3c40e5c1",
   "metadata": {},
   "outputs": [
    {
     "name": "stdout",
     "output_type": "stream",
     "text": [
      "2022-04-02 01:35:15,682 [MainThread  ] [INFO ]  Creating command line with instructions and required arguments\n",
      "2022-04-02 01:35:15,885 [MainThread  ] [INFO ]  process_minout.perl  ./../data/md_system_prep/LIG_systems/3pxf/3pxf-LIG_intermediate_files/sander.minH.log\n",
      "\n",
      "2022-04-02 01:35:15,888 [MainThread  ] [INFO ]  Exit code 0\n",
      "\n",
      "2022-04-02 01:35:15,888 [MainThread  ] [INFO ]  Processing sander output file (./../data/md_system_prep/LIG_systems/3pxf/3pxf-LIG_intermediate_files/sander.minH.log)...\n",
      "Processing step 50 of a possible 500...\n",
      "Processing step 100 of a possible 500...\n",
      "Processing step 150 of a possible 500...\n",
      "Processing step 200 of a possible 500...\n",
      "Processing step 250 of a possible 500...\n",
      "Processing step 300 of a possible 500...\n",
      "Processing step 350 of a possible 500...\n",
      "Processing step 400 of a possible 500...\n",
      "Processing step 450 of a possible 500...\n",
      "Processing step 500 of a possible 500...\n",
      "Processing step 500 of a possible 500...\n",
      "Starting output...\n",
      "Outputing summary.NSTEP\n",
      "Outputing summary.ENERGY\n",
      "Outputing summary.RMS\n",
      "Outputing summary.GMAX\n",
      "Outputing summary.NAME\n",
      "Outputing summary.NUMBER\n",
      "Outputing summary.BOND\n",
      "Outputing summary.ANGLE\n",
      "Outputing summary.DIHEDRAL\n",
      "Outputing summary.VDWAALS\n",
      "Outputing summary.EEL\n",
      "Outputing summary.HBOND\n",
      "Outputing summary.VDW14\n",
      "Outputing summary.EEL14\n",
      "Outputing summary.RESTRAINT\n",
      "\n",
      "2022-04-02 01:35:15,889 [MainThread  ] [INFO ]  perl: warning: Setting locale failed.\n",
      "perl: warning: Please check that your locale settings:\n",
      "\tLC_ALL = (unset),\n",
      "\tLC_TERMINAL_VERSION = \"3.4.15\",\n",
      "\tLC_CTYPE = \"UTF-8\",\n",
      "\tLC_TERMINAL = \"iTerm2\",\n",
      "\tLANG = \"es_419.UTF-8\"\n",
      "    are supported and installed on your system.\n",
      "perl: warning: Falling back to the standard locale (\"C\").\n",
      "\n",
      "2022-04-02 01:35:15,897 [MainThread  ] [INFO ]  Removed: [PosixPath('summary.NSTEP'), PosixPath('summary.RMS'), PosixPath('summary.EEL'), PosixPath('summary.ENERGY'), PosixPath('summary.GMAX'), PosixPath('summary.NAME'), PosixPath('summary.NUMBER'), PosixPath('summary.BOND'), PosixPath('summary.ANGLE'), PosixPath('summary.DIHEDRAL'), PosixPath('summary.VDWAALS'), PosixPath('summary.HBOND'), PosixPath('summary.VDW14'), PosixPath('summary.EEL14'), PosixPath('summary.RESTRAINT')]\n"
     ]
    },
    {
     "data": {
      "text/html": [
       "        <script type=\"text/javascript\">\n",
       "        window.PlotlyConfig = {MathJaxConfig: 'local'};\n",
       "        if (window.MathJax) {MathJax.Hub.Config({SVG: {font: \"STIX-Web\"}});}\n",
       "        if (typeof require !== 'undefined') {\n",
       "        require.undef(\"plotly\");\n",
       "        requirejs.config({\n",
       "            paths: {\n",
       "                'plotly': ['https://cdn.plot.ly/plotly-2.9.0.min']\n",
       "            }\n",
       "        });\n",
       "        require(['plotly'], function(Plotly) {\n",
       "            window._Plotly = Plotly;\n",
       "        });\n",
       "        }\n",
       "        </script>\n",
       "        "
      ]
     },
     "metadata": {},
     "output_type": "display_data"
    },
    {
     "data": {
      "application/vnd.plotly.v1+json": {
       "config": {
        "linkText": "Export to plot.ly",
        "plotlyServerURL": "https://plot.ly",
        "showLink": false
       },
       "data": [
        {
         "type": "scatter",
         "x": [
          15,
          20,
          25,
          30,
          35,
          40,
          45,
          50,
          55,
          60,
          65,
          70,
          75,
          80,
          85,
          90,
          95,
          100,
          105,
          110,
          115,
          120,
          125,
          130,
          135,
          140,
          145,
          150,
          155,
          160,
          165,
          170,
          175,
          180,
          185,
          190,
          195,
          200,
          205,
          210,
          215,
          220,
          225,
          230,
          235,
          240,
          245,
          250,
          255,
          260,
          265,
          270,
          275,
          280,
          285,
          290,
          295,
          300,
          305,
          310,
          315,
          320,
          325,
          330,
          335,
          340,
          345,
          350,
          355,
          360,
          365,
          370,
          375,
          380,
          385,
          390,
          395,
          400,
          405,
          410,
          415,
          420,
          425,
          430,
          435,
          440,
          445,
          450,
          455,
          460,
          465,
          470,
          475,
          480,
          485,
          490,
          495,
          500
         ],
         "y": [
          674.73,
          -647.78,
          -2608.2,
          -4447.4,
          -4507.9,
          -4594.9,
          -4612.9,
          -4868.5,
          -4883,
          -4893.7,
          -4904.9,
          -4914.6,
          -4904,
          -4916.3,
          -4920.7,
          -4928.7,
          -4941.4,
          -4994,
          -5001.4,
          -5008.8,
          -5015.7,
          -5022.4,
          -4967.2,
          -4971.6,
          -4978.4,
          -4982.9,
          -4988.5,
          -4950.5,
          -4957.2,
          -4959.9,
          -4964.7,
          -4971.3,
          -4985.3,
          -4992.3,
          -4995.9,
          -5000.1,
          -5004.4,
          -5048.7,
          -5052.3,
          -5056,
          -5060.1,
          -5063.3,
          -5155.3,
          -5159,
          -5162.5,
          -5165.8,
          -5169.1,
          -5219.5,
          -5224.7,
          -5256.7,
          -5283.4,
          -5302.5,
          -5121.2,
          -5122.3,
          -5125.9,
          -5132.1,
          -5136.4,
          -5262.1,
          -5263.2,
          -5266.3,
          -5270.9,
          -5273.2,
          -5211.9,
          -5212.7,
          -5214.9,
          -5218.5,
          -5220.6,
          -5280,
          -5281,
          -5283.4,
          -5287.2,
          -5288.8,
          -5269.3,
          -5270,
          -5271.3,
          -5272.9,
          -5274.2,
          -5359.8,
          -5360.3,
          -5361.1,
          -5362.4,
          -5363,
          -5267.2,
          -5267.4,
          -5268.3,
          -5269.2,
          -5269.8,
          -5315.8,
          -5315.9,
          -5316.7,
          -5317.5,
          -5317.9,
          -5282.9,
          -5282.6,
          -5283.7,
          -5284.4,
          -5284.8,
          -5333.3
         ]
        }
       ],
       "layout": {
        "template": {
         "data": {
          "bar": [
           {
            "error_x": {
             "color": "#2a3f5f"
            },
            "error_y": {
             "color": "#2a3f5f"
            },
            "marker": {
             "line": {
              "color": "#E5ECF6",
              "width": 0.5
             },
             "pattern": {
              "fillmode": "overlay",
              "size": 10,
              "solidity": 0.2
             }
            },
            "type": "bar"
           }
          ],
          "barpolar": [
           {
            "marker": {
             "line": {
              "color": "#E5ECF6",
              "width": 0.5
             },
             "pattern": {
              "fillmode": "overlay",
              "size": 10,
              "solidity": 0.2
             }
            },
            "type": "barpolar"
           }
          ],
          "carpet": [
           {
            "aaxis": {
             "endlinecolor": "#2a3f5f",
             "gridcolor": "white",
             "linecolor": "white",
             "minorgridcolor": "white",
             "startlinecolor": "#2a3f5f"
            },
            "baxis": {
             "endlinecolor": "#2a3f5f",
             "gridcolor": "white",
             "linecolor": "white",
             "minorgridcolor": "white",
             "startlinecolor": "#2a3f5f"
            },
            "type": "carpet"
           }
          ],
          "choropleth": [
           {
            "colorbar": {
             "outlinewidth": 0,
             "ticks": ""
            },
            "type": "choropleth"
           }
          ],
          "contour": [
           {
            "colorbar": {
             "outlinewidth": 0,
             "ticks": ""
            },
            "colorscale": [
             [
              0,
              "#0d0887"
             ],
             [
              0.1111111111111111,
              "#46039f"
             ],
             [
              0.2222222222222222,
              "#7201a8"
             ],
             [
              0.3333333333333333,
              "#9c179e"
             ],
             [
              0.4444444444444444,
              "#bd3786"
             ],
             [
              0.5555555555555556,
              "#d8576b"
             ],
             [
              0.6666666666666666,
              "#ed7953"
             ],
             [
              0.7777777777777778,
              "#fb9f3a"
             ],
             [
              0.8888888888888888,
              "#fdca26"
             ],
             [
              1,
              "#f0f921"
             ]
            ],
            "type": "contour"
           }
          ],
          "contourcarpet": [
           {
            "colorbar": {
             "outlinewidth": 0,
             "ticks": ""
            },
            "type": "contourcarpet"
           }
          ],
          "heatmap": [
           {
            "colorbar": {
             "outlinewidth": 0,
             "ticks": ""
            },
            "colorscale": [
             [
              0,
              "#0d0887"
             ],
             [
              0.1111111111111111,
              "#46039f"
             ],
             [
              0.2222222222222222,
              "#7201a8"
             ],
             [
              0.3333333333333333,
              "#9c179e"
             ],
             [
              0.4444444444444444,
              "#bd3786"
             ],
             [
              0.5555555555555556,
              "#d8576b"
             ],
             [
              0.6666666666666666,
              "#ed7953"
             ],
             [
              0.7777777777777778,
              "#fb9f3a"
             ],
             [
              0.8888888888888888,
              "#fdca26"
             ],
             [
              1,
              "#f0f921"
             ]
            ],
            "type": "heatmap"
           }
          ],
          "heatmapgl": [
           {
            "colorbar": {
             "outlinewidth": 0,
             "ticks": ""
            },
            "colorscale": [
             [
              0,
              "#0d0887"
             ],
             [
              0.1111111111111111,
              "#46039f"
             ],
             [
              0.2222222222222222,
              "#7201a8"
             ],
             [
              0.3333333333333333,
              "#9c179e"
             ],
             [
              0.4444444444444444,
              "#bd3786"
             ],
             [
              0.5555555555555556,
              "#d8576b"
             ],
             [
              0.6666666666666666,
              "#ed7953"
             ],
             [
              0.7777777777777778,
              "#fb9f3a"
             ],
             [
              0.8888888888888888,
              "#fdca26"
             ],
             [
              1,
              "#f0f921"
             ]
            ],
            "type": "heatmapgl"
           }
          ],
          "histogram": [
           {
            "marker": {
             "pattern": {
              "fillmode": "overlay",
              "size": 10,
              "solidity": 0.2
             }
            },
            "type": "histogram"
           }
          ],
          "histogram2d": [
           {
            "colorbar": {
             "outlinewidth": 0,
             "ticks": ""
            },
            "colorscale": [
             [
              0,
              "#0d0887"
             ],
             [
              0.1111111111111111,
              "#46039f"
             ],
             [
              0.2222222222222222,
              "#7201a8"
             ],
             [
              0.3333333333333333,
              "#9c179e"
             ],
             [
              0.4444444444444444,
              "#bd3786"
             ],
             [
              0.5555555555555556,
              "#d8576b"
             ],
             [
              0.6666666666666666,
              "#ed7953"
             ],
             [
              0.7777777777777778,
              "#fb9f3a"
             ],
             [
              0.8888888888888888,
              "#fdca26"
             ],
             [
              1,
              "#f0f921"
             ]
            ],
            "type": "histogram2d"
           }
          ],
          "histogram2dcontour": [
           {
            "colorbar": {
             "outlinewidth": 0,
             "ticks": ""
            },
            "colorscale": [
             [
              0,
              "#0d0887"
             ],
             [
              0.1111111111111111,
              "#46039f"
             ],
             [
              0.2222222222222222,
              "#7201a8"
             ],
             [
              0.3333333333333333,
              "#9c179e"
             ],
             [
              0.4444444444444444,
              "#bd3786"
             ],
             [
              0.5555555555555556,
              "#d8576b"
             ],
             [
              0.6666666666666666,
              "#ed7953"
             ],
             [
              0.7777777777777778,
              "#fb9f3a"
             ],
             [
              0.8888888888888888,
              "#fdca26"
             ],
             [
              1,
              "#f0f921"
             ]
            ],
            "type": "histogram2dcontour"
           }
          ],
          "mesh3d": [
           {
            "colorbar": {
             "outlinewidth": 0,
             "ticks": ""
            },
            "type": "mesh3d"
           }
          ],
          "parcoords": [
           {
            "line": {
             "colorbar": {
              "outlinewidth": 0,
              "ticks": ""
             }
            },
            "type": "parcoords"
           }
          ],
          "pie": [
           {
            "automargin": true,
            "type": "pie"
           }
          ],
          "scatter": [
           {
            "marker": {
             "colorbar": {
              "outlinewidth": 0,
              "ticks": ""
             }
            },
            "type": "scatter"
           }
          ],
          "scatter3d": [
           {
            "line": {
             "colorbar": {
              "outlinewidth": 0,
              "ticks": ""
             }
            },
            "marker": {
             "colorbar": {
              "outlinewidth": 0,
              "ticks": ""
             }
            },
            "type": "scatter3d"
           }
          ],
          "scattercarpet": [
           {
            "marker": {
             "colorbar": {
              "outlinewidth": 0,
              "ticks": ""
             }
            },
            "type": "scattercarpet"
           }
          ],
          "scattergeo": [
           {
            "marker": {
             "colorbar": {
              "outlinewidth": 0,
              "ticks": ""
             }
            },
            "type": "scattergeo"
           }
          ],
          "scattergl": [
           {
            "marker": {
             "colorbar": {
              "outlinewidth": 0,
              "ticks": ""
             }
            },
            "type": "scattergl"
           }
          ],
          "scattermapbox": [
           {
            "marker": {
             "colorbar": {
              "outlinewidth": 0,
              "ticks": ""
             }
            },
            "type": "scattermapbox"
           }
          ],
          "scatterpolar": [
           {
            "marker": {
             "colorbar": {
              "outlinewidth": 0,
              "ticks": ""
             }
            },
            "type": "scatterpolar"
           }
          ],
          "scatterpolargl": [
           {
            "marker": {
             "colorbar": {
              "outlinewidth": 0,
              "ticks": ""
             }
            },
            "type": "scatterpolargl"
           }
          ],
          "scatterternary": [
           {
            "marker": {
             "colorbar": {
              "outlinewidth": 0,
              "ticks": ""
             }
            },
            "type": "scatterternary"
           }
          ],
          "surface": [
           {
            "colorbar": {
             "outlinewidth": 0,
             "ticks": ""
            },
            "colorscale": [
             [
              0,
              "#0d0887"
             ],
             [
              0.1111111111111111,
              "#46039f"
             ],
             [
              0.2222222222222222,
              "#7201a8"
             ],
             [
              0.3333333333333333,
              "#9c179e"
             ],
             [
              0.4444444444444444,
              "#bd3786"
             ],
             [
              0.5555555555555556,
              "#d8576b"
             ],
             [
              0.6666666666666666,
              "#ed7953"
             ],
             [
              0.7777777777777778,
              "#fb9f3a"
             ],
             [
              0.8888888888888888,
              "#fdca26"
             ],
             [
              1,
              "#f0f921"
             ]
            ],
            "type": "surface"
           }
          ],
          "table": [
           {
            "cells": {
             "fill": {
              "color": "#EBF0F8"
             },
             "line": {
              "color": "white"
             }
            },
            "header": {
             "fill": {
              "color": "#C8D4E3"
             },
             "line": {
              "color": "white"
             }
            },
            "type": "table"
           }
          ]
         },
         "layout": {
          "annotationdefaults": {
           "arrowcolor": "#2a3f5f",
           "arrowhead": 0,
           "arrowwidth": 1
          },
          "autotypenumbers": "strict",
          "coloraxis": {
           "colorbar": {
            "outlinewidth": 0,
            "ticks": ""
           }
          },
          "colorscale": {
           "diverging": [
            [
             0,
             "#8e0152"
            ],
            [
             0.1,
             "#c51b7d"
            ],
            [
             0.2,
             "#de77ae"
            ],
            [
             0.3,
             "#f1b6da"
            ],
            [
             0.4,
             "#fde0ef"
            ],
            [
             0.5,
             "#f7f7f7"
            ],
            [
             0.6,
             "#e6f5d0"
            ],
            [
             0.7,
             "#b8e186"
            ],
            [
             0.8,
             "#7fbc41"
            ],
            [
             0.9,
             "#4d9221"
            ],
            [
             1,
             "#276419"
            ]
           ],
           "sequential": [
            [
             0,
             "#0d0887"
            ],
            [
             0.1111111111111111,
             "#46039f"
            ],
            [
             0.2222222222222222,
             "#7201a8"
            ],
            [
             0.3333333333333333,
             "#9c179e"
            ],
            [
             0.4444444444444444,
             "#bd3786"
            ],
            [
             0.5555555555555556,
             "#d8576b"
            ],
            [
             0.6666666666666666,
             "#ed7953"
            ],
            [
             0.7777777777777778,
             "#fb9f3a"
            ],
            [
             0.8888888888888888,
             "#fdca26"
            ],
            [
             1,
             "#f0f921"
            ]
           ],
           "sequentialminus": [
            [
             0,
             "#0d0887"
            ],
            [
             0.1111111111111111,
             "#46039f"
            ],
            [
             0.2222222222222222,
             "#7201a8"
            ],
            [
             0.3333333333333333,
             "#9c179e"
            ],
            [
             0.4444444444444444,
             "#bd3786"
            ],
            [
             0.5555555555555556,
             "#d8576b"
            ],
            [
             0.6666666666666666,
             "#ed7953"
            ],
            [
             0.7777777777777778,
             "#fb9f3a"
            ],
            [
             0.8888888888888888,
             "#fdca26"
            ],
            [
             1,
             "#f0f921"
            ]
           ]
          },
          "colorway": [
           "#636efa",
           "#EF553B",
           "#00cc96",
           "#ab63fa",
           "#FFA15A",
           "#19d3f3",
           "#FF6692",
           "#B6E880",
           "#FF97FF",
           "#FECB52"
          ],
          "font": {
           "color": "#2a3f5f"
          },
          "geo": {
           "bgcolor": "white",
           "lakecolor": "white",
           "landcolor": "#E5ECF6",
           "showlakes": true,
           "showland": true,
           "subunitcolor": "white"
          },
          "hoverlabel": {
           "align": "left"
          },
          "hovermode": "closest",
          "mapbox": {
           "style": "light"
          },
          "paper_bgcolor": "white",
          "plot_bgcolor": "#E5ECF6",
          "polar": {
           "angularaxis": {
            "gridcolor": "white",
            "linecolor": "white",
            "ticks": ""
           },
           "bgcolor": "#E5ECF6",
           "radialaxis": {
            "gridcolor": "white",
            "linecolor": "white",
            "ticks": ""
           }
          },
          "scene": {
           "xaxis": {
            "backgroundcolor": "#E5ECF6",
            "gridcolor": "white",
            "gridwidth": 2,
            "linecolor": "white",
            "showbackground": true,
            "ticks": "",
            "zerolinecolor": "white"
           },
           "yaxis": {
            "backgroundcolor": "#E5ECF6",
            "gridcolor": "white",
            "gridwidth": 2,
            "linecolor": "white",
            "showbackground": true,
            "ticks": "",
            "zerolinecolor": "white"
           },
           "zaxis": {
            "backgroundcolor": "#E5ECF6",
            "gridcolor": "white",
            "gridwidth": 2,
            "linecolor": "white",
            "showbackground": true,
            "ticks": "",
            "zerolinecolor": "white"
           }
          },
          "shapedefaults": {
           "line": {
            "color": "#2a3f5f"
           }
          },
          "ternary": {
           "aaxis": {
            "gridcolor": "white",
            "linecolor": "white",
            "ticks": ""
           },
           "baxis": {
            "gridcolor": "white",
            "linecolor": "white",
            "ticks": ""
           },
           "bgcolor": "#E5ECF6",
           "caxis": {
            "gridcolor": "white",
            "linecolor": "white",
            "ticks": ""
           }
          },
          "title": {
           "x": 0.05
          },
          "xaxis": {
           "automargin": true,
           "gridcolor": "white",
           "linecolor": "white",
           "ticks": "",
           "title": {
            "standoff": 15
           },
           "zerolinecolor": "white",
           "zerolinewidth": 2
          },
          "yaxis": {
           "automargin": true,
           "gridcolor": "white",
           "linecolor": "white",
           "ticks": "",
           "title": {
            "standoff": 15
           },
           "zerolinecolor": "white",
           "zerolinewidth": 2
          }
         }
        },
        "title": {
         "text": "Energy Minimization"
        },
        "xaxis": {
         "title": {
          "text": "Energy Minimization Step"
         }
        },
        "yaxis": {
         "title": {
          "text": "Potential Energy kcal/mol"
         }
        }
       }
      },
      "text/html": [
       "<div>                            <div id=\"b267ae11-5e7b-41cc-821f-be047afb927a\" class=\"plotly-graph-div\" style=\"height:525px; width:100%;\"></div>            <script type=\"text/javascript\">                require([\"plotly\"], function(Plotly) {                    window.PLOTLYENV=window.PLOTLYENV || {};                                    if (document.getElementById(\"b267ae11-5e7b-41cc-821f-be047afb927a\")) {                    Plotly.newPlot(                        \"b267ae11-5e7b-41cc-821f-be047afb927a\",                        [{\"x\":[15.0,20.0,25.0,30.0,35.0,40.0,45.0,50.0,55.0,60.0,65.0,70.0,75.0,80.0,85.0,90.0,95.0,100.0,105.0,110.0,115.0,120.0,125.0,130.0,135.0,140.0,145.0,150.0,155.0,160.0,165.0,170.0,175.0,180.0,185.0,190.0,195.0,200.0,205.0,210.0,215.0,220.0,225.0,230.0,235.0,240.0,245.0,250.0,255.0,260.0,265.0,270.0,275.0,280.0,285.0,290.0,295.0,300.0,305.0,310.0,315.0,320.0,325.0,330.0,335.0,340.0,345.0,350.0,355.0,360.0,365.0,370.0,375.0,380.0,385.0,390.0,395.0,400.0,405.0,410.0,415.0,420.0,425.0,430.0,435.0,440.0,445.0,450.0,455.0,460.0,465.0,470.0,475.0,480.0,485.0,490.0,495.0,500.0],\"y\":[674.73,-647.78,-2608.2,-4447.4,-4507.9,-4594.9,-4612.9,-4868.5,-4883.0,-4893.7,-4904.9,-4914.6,-4904.0,-4916.3,-4920.7,-4928.7,-4941.4,-4994.0,-5001.4,-5008.8,-5015.7,-5022.4,-4967.2,-4971.6,-4978.4,-4982.9,-4988.5,-4950.5,-4957.2,-4959.9,-4964.7,-4971.3,-4985.3,-4992.3,-4995.9,-5000.1,-5004.4,-5048.7,-5052.3,-5056.0,-5060.1,-5063.3,-5155.3,-5159.0,-5162.5,-5165.8,-5169.1,-5219.5,-5224.7,-5256.7,-5283.4,-5302.5,-5121.2,-5122.3,-5125.9,-5132.1,-5136.4,-5262.1,-5263.2,-5266.3,-5270.9,-5273.2,-5211.9,-5212.7,-5214.9,-5218.5,-5220.6,-5280.0,-5281.0,-5283.4,-5287.2,-5288.8,-5269.3,-5270.0,-5271.3,-5272.9,-5274.2,-5359.8,-5360.3,-5361.1,-5362.4,-5363.0,-5267.2,-5267.4,-5268.3,-5269.2,-5269.8,-5315.8,-5315.9,-5316.7,-5317.5,-5317.9,-5282.9,-5282.6,-5283.7,-5284.4,-5284.8,-5333.3],\"type\":\"scatter\"}],                        {\"template\":{\"data\":{\"barpolar\":[{\"marker\":{\"line\":{\"color\":\"#E5ECF6\",\"width\":0.5},\"pattern\":{\"fillmode\":\"overlay\",\"size\":10,\"solidity\":0.2}},\"type\":\"barpolar\"}],\"bar\":[{\"error_x\":{\"color\":\"#2a3f5f\"},\"error_y\":{\"color\":\"#2a3f5f\"},\"marker\":{\"line\":{\"color\":\"#E5ECF6\",\"width\":0.5},\"pattern\":{\"fillmode\":\"overlay\",\"size\":10,\"solidity\":0.2}},\"type\":\"bar\"}],\"carpet\":[{\"aaxis\":{\"endlinecolor\":\"#2a3f5f\",\"gridcolor\":\"white\",\"linecolor\":\"white\",\"minorgridcolor\":\"white\",\"startlinecolor\":\"#2a3f5f\"},\"baxis\":{\"endlinecolor\":\"#2a3f5f\",\"gridcolor\":\"white\",\"linecolor\":\"white\",\"minorgridcolor\":\"white\",\"startlinecolor\":\"#2a3f5f\"},\"type\":\"carpet\"}],\"choropleth\":[{\"colorbar\":{\"outlinewidth\":0,\"ticks\":\"\"},\"type\":\"choropleth\"}],\"contourcarpet\":[{\"colorbar\":{\"outlinewidth\":0,\"ticks\":\"\"},\"type\":\"contourcarpet\"}],\"contour\":[{\"colorbar\":{\"outlinewidth\":0,\"ticks\":\"\"},\"colorscale\":[[0.0,\"#0d0887\"],[0.1111111111111111,\"#46039f\"],[0.2222222222222222,\"#7201a8\"],[0.3333333333333333,\"#9c179e\"],[0.4444444444444444,\"#bd3786\"],[0.5555555555555556,\"#d8576b\"],[0.6666666666666666,\"#ed7953\"],[0.7777777777777778,\"#fb9f3a\"],[0.8888888888888888,\"#fdca26\"],[1.0,\"#f0f921\"]],\"type\":\"contour\"}],\"heatmapgl\":[{\"colorbar\":{\"outlinewidth\":0,\"ticks\":\"\"},\"colorscale\":[[0.0,\"#0d0887\"],[0.1111111111111111,\"#46039f\"],[0.2222222222222222,\"#7201a8\"],[0.3333333333333333,\"#9c179e\"],[0.4444444444444444,\"#bd3786\"],[0.5555555555555556,\"#d8576b\"],[0.6666666666666666,\"#ed7953\"],[0.7777777777777778,\"#fb9f3a\"],[0.8888888888888888,\"#fdca26\"],[1.0,\"#f0f921\"]],\"type\":\"heatmapgl\"}],\"heatmap\":[{\"colorbar\":{\"outlinewidth\":0,\"ticks\":\"\"},\"colorscale\":[[0.0,\"#0d0887\"],[0.1111111111111111,\"#46039f\"],[0.2222222222222222,\"#7201a8\"],[0.3333333333333333,\"#9c179e\"],[0.4444444444444444,\"#bd3786\"],[0.5555555555555556,\"#d8576b\"],[0.6666666666666666,\"#ed7953\"],[0.7777777777777778,\"#fb9f3a\"],[0.8888888888888888,\"#fdca26\"],[1.0,\"#f0f921\"]],\"type\":\"heatmap\"}],\"histogram2dcontour\":[{\"colorbar\":{\"outlinewidth\":0,\"ticks\":\"\"},\"colorscale\":[[0.0,\"#0d0887\"],[0.1111111111111111,\"#46039f\"],[0.2222222222222222,\"#7201a8\"],[0.3333333333333333,\"#9c179e\"],[0.4444444444444444,\"#bd3786\"],[0.5555555555555556,\"#d8576b\"],[0.6666666666666666,\"#ed7953\"],[0.7777777777777778,\"#fb9f3a\"],[0.8888888888888888,\"#fdca26\"],[1.0,\"#f0f921\"]],\"type\":\"histogram2dcontour\"}],\"histogram2d\":[{\"colorbar\":{\"outlinewidth\":0,\"ticks\":\"\"},\"colorscale\":[[0.0,\"#0d0887\"],[0.1111111111111111,\"#46039f\"],[0.2222222222222222,\"#7201a8\"],[0.3333333333333333,\"#9c179e\"],[0.4444444444444444,\"#bd3786\"],[0.5555555555555556,\"#d8576b\"],[0.6666666666666666,\"#ed7953\"],[0.7777777777777778,\"#fb9f3a\"],[0.8888888888888888,\"#fdca26\"],[1.0,\"#f0f921\"]],\"type\":\"histogram2d\"}],\"histogram\":[{\"marker\":{\"pattern\":{\"fillmode\":\"overlay\",\"size\":10,\"solidity\":0.2}},\"type\":\"histogram\"}],\"mesh3d\":[{\"colorbar\":{\"outlinewidth\":0,\"ticks\":\"\"},\"type\":\"mesh3d\"}],\"parcoords\":[{\"line\":{\"colorbar\":{\"outlinewidth\":0,\"ticks\":\"\"}},\"type\":\"parcoords\"}],\"pie\":[{\"automargin\":true,\"type\":\"pie\"}],\"scatter3d\":[{\"line\":{\"colorbar\":{\"outlinewidth\":0,\"ticks\":\"\"}},\"marker\":{\"colorbar\":{\"outlinewidth\":0,\"ticks\":\"\"}},\"type\":\"scatter3d\"}],\"scattercarpet\":[{\"marker\":{\"colorbar\":{\"outlinewidth\":0,\"ticks\":\"\"}},\"type\":\"scattercarpet\"}],\"scattergeo\":[{\"marker\":{\"colorbar\":{\"outlinewidth\":0,\"ticks\":\"\"}},\"type\":\"scattergeo\"}],\"scattergl\":[{\"marker\":{\"colorbar\":{\"outlinewidth\":0,\"ticks\":\"\"}},\"type\":\"scattergl\"}],\"scattermapbox\":[{\"marker\":{\"colorbar\":{\"outlinewidth\":0,\"ticks\":\"\"}},\"type\":\"scattermapbox\"}],\"scatterpolargl\":[{\"marker\":{\"colorbar\":{\"outlinewidth\":0,\"ticks\":\"\"}},\"type\":\"scatterpolargl\"}],\"scatterpolar\":[{\"marker\":{\"colorbar\":{\"outlinewidth\":0,\"ticks\":\"\"}},\"type\":\"scatterpolar\"}],\"scatter\":[{\"marker\":{\"colorbar\":{\"outlinewidth\":0,\"ticks\":\"\"}},\"type\":\"scatter\"}],\"scatterternary\":[{\"marker\":{\"colorbar\":{\"outlinewidth\":0,\"ticks\":\"\"}},\"type\":\"scatterternary\"}],\"surface\":[{\"colorbar\":{\"outlinewidth\":0,\"ticks\":\"\"},\"colorscale\":[[0.0,\"#0d0887\"],[0.1111111111111111,\"#46039f\"],[0.2222222222222222,\"#7201a8\"],[0.3333333333333333,\"#9c179e\"],[0.4444444444444444,\"#bd3786\"],[0.5555555555555556,\"#d8576b\"],[0.6666666666666666,\"#ed7953\"],[0.7777777777777778,\"#fb9f3a\"],[0.8888888888888888,\"#fdca26\"],[1.0,\"#f0f921\"]],\"type\":\"surface\"}],\"table\":[{\"cells\":{\"fill\":{\"color\":\"#EBF0F8\"},\"line\":{\"color\":\"white\"}},\"header\":{\"fill\":{\"color\":\"#C8D4E3\"},\"line\":{\"color\":\"white\"}},\"type\":\"table\"}]},\"layout\":{\"annotationdefaults\":{\"arrowcolor\":\"#2a3f5f\",\"arrowhead\":0,\"arrowwidth\":1},\"autotypenumbers\":\"strict\",\"coloraxis\":{\"colorbar\":{\"outlinewidth\":0,\"ticks\":\"\"}},\"colorscale\":{\"diverging\":[[0,\"#8e0152\"],[0.1,\"#c51b7d\"],[0.2,\"#de77ae\"],[0.3,\"#f1b6da\"],[0.4,\"#fde0ef\"],[0.5,\"#f7f7f7\"],[0.6,\"#e6f5d0\"],[0.7,\"#b8e186\"],[0.8,\"#7fbc41\"],[0.9,\"#4d9221\"],[1,\"#276419\"]],\"sequential\":[[0.0,\"#0d0887\"],[0.1111111111111111,\"#46039f\"],[0.2222222222222222,\"#7201a8\"],[0.3333333333333333,\"#9c179e\"],[0.4444444444444444,\"#bd3786\"],[0.5555555555555556,\"#d8576b\"],[0.6666666666666666,\"#ed7953\"],[0.7777777777777778,\"#fb9f3a\"],[0.8888888888888888,\"#fdca26\"],[1.0,\"#f0f921\"]],\"sequentialminus\":[[0.0,\"#0d0887\"],[0.1111111111111111,\"#46039f\"],[0.2222222222222222,\"#7201a8\"],[0.3333333333333333,\"#9c179e\"],[0.4444444444444444,\"#bd3786\"],[0.5555555555555556,\"#d8576b\"],[0.6666666666666666,\"#ed7953\"],[0.7777777777777778,\"#fb9f3a\"],[0.8888888888888888,\"#fdca26\"],[1.0,\"#f0f921\"]]},\"colorway\":[\"#636efa\",\"#EF553B\",\"#00cc96\",\"#ab63fa\",\"#FFA15A\",\"#19d3f3\",\"#FF6692\",\"#B6E880\",\"#FF97FF\",\"#FECB52\"],\"font\":{\"color\":\"#2a3f5f\"},\"geo\":{\"bgcolor\":\"white\",\"lakecolor\":\"white\",\"landcolor\":\"#E5ECF6\",\"showlakes\":true,\"showland\":true,\"subunitcolor\":\"white\"},\"hoverlabel\":{\"align\":\"left\"},\"hovermode\":\"closest\",\"mapbox\":{\"style\":\"light\"},\"paper_bgcolor\":\"white\",\"plot_bgcolor\":\"#E5ECF6\",\"polar\":{\"angularaxis\":{\"gridcolor\":\"white\",\"linecolor\":\"white\",\"ticks\":\"\"},\"bgcolor\":\"#E5ECF6\",\"radialaxis\":{\"gridcolor\":\"white\",\"linecolor\":\"white\",\"ticks\":\"\"}},\"scene\":{\"xaxis\":{\"backgroundcolor\":\"#E5ECF6\",\"gridcolor\":\"white\",\"gridwidth\":2,\"linecolor\":\"white\",\"showbackground\":true,\"ticks\":\"\",\"zerolinecolor\":\"white\"},\"yaxis\":{\"backgroundcolor\":\"#E5ECF6\",\"gridcolor\":\"white\",\"gridwidth\":2,\"linecolor\":\"white\",\"showbackground\":true,\"ticks\":\"\",\"zerolinecolor\":\"white\"},\"zaxis\":{\"backgroundcolor\":\"#E5ECF6\",\"gridcolor\":\"white\",\"gridwidth\":2,\"linecolor\":\"white\",\"showbackground\":true,\"ticks\":\"\",\"zerolinecolor\":\"white\"}},\"shapedefaults\":{\"line\":{\"color\":\"#2a3f5f\"}},\"ternary\":{\"aaxis\":{\"gridcolor\":\"white\",\"linecolor\":\"white\",\"ticks\":\"\"},\"baxis\":{\"gridcolor\":\"white\",\"linecolor\":\"white\",\"ticks\":\"\"},\"bgcolor\":\"#E5ECF6\",\"caxis\":{\"gridcolor\":\"white\",\"linecolor\":\"white\",\"ticks\":\"\"}},\"title\":{\"x\":0.05},\"xaxis\":{\"automargin\":true,\"gridcolor\":\"white\",\"linecolor\":\"white\",\"ticks\":\"\",\"title\":{\"standoff\":15},\"zerolinecolor\":\"white\",\"zerolinewidth\":2},\"yaxis\":{\"automargin\":true,\"gridcolor\":\"white\",\"linecolor\":\"white\",\"ticks\":\"\",\"title\":{\"standoff\":15},\"zerolinecolor\":\"white\",\"zerolinewidth\":2}}},\"title\":{\"text\":\"Energy Minimization\"},\"xaxis\":{\"title\":{\"text\":\"Energy Minimization Step\"}},\"yaxis\":{\"title\":{\"text\":\"Potential Energy kcal/mol\"}}},                        {\"responsive\": true}                    ).then(function(){\n",
       "                            \n",
       "var gd = document.getElementById('b267ae11-5e7b-41cc-821f-be047afb927a');\n",
       "var x = new MutationObserver(function (mutations, observer) {{\n",
       "        var display = window.getComputedStyle(gd).display;\n",
       "        if (!display || display === 'none') {{\n",
       "            console.log([gd, 'removed!']);\n",
       "            Plotly.purge(gd);\n",
       "            observer.disconnect();\n",
       "        }}\n",
       "}});\n",
       "\n",
       "// Listen for the removal of the full notebook cells\n",
       "var notebookContainer = gd.closest('#notebook-container');\n",
       "if (notebookContainer) {{\n",
       "    x.observe(notebookContainer, {childList: true});\n",
       "}}\n",
       "\n",
       "// Listen for the clearing of the current output cell\n",
       "var outputEl = gd.closest('.output');\n",
       "if (outputEl) {{\n",
       "    x.observe(outputEl, {childList: true});\n",
       "}}\n",
       "\n",
       "                        })                };                });            </script>        </div>"
      ]
     },
     "metadata": {},
     "output_type": "display_data"
    }
   ],
   "source": [
    "from biobb_amber.process.process_minout import process_minout\n",
    "\n",
    "process_minout(input_log_path  = f'{TMP_DIR}/sander.minH.log',\n",
    "               output_dat_path = f'{TMP_DIR}/sander.minH.dat',\n",
    "               properties      = {'terms': ['ENERGY']})\n",
    "\n",
    "with open(f'{TMP_DIR}/sander.minH.dat', 'r') as energy_file:\n",
    "    x,y = map(\n",
    "        list,\n",
    "        zip(*[\n",
    "            (float(line.split()[0]),float(line.split()[1]))\n",
    "            for line in energy_file \n",
    "            if not line.startswith((\"#\",\"@\")) \n",
    "            if float(line.split()[1]) < 1000 \n",
    "        ])\n",
    "    )\n",
    "\n",
    "plotly.offline.init_notebook_mode(connected=True)\n",
    "\n",
    "fig = {\n",
    "    \"data\": [go.Scatter(x=x, y=y)],\n",
    "    \"layout\": go.Layout(title=\"Energy Minimization\",\n",
    "                        xaxis=dict(title = \"Energy Minimization Step\"),\n",
    "                        yaxis=dict(title = \"Potential Energy kcal/mol\")\n",
    "                       )\n",
    "}\n",
    "\n",
    "plotly.offline.iplot(fig)"
   ]
  },
  {
   "cell_type": "code",
   "execution_count": 64,
   "id": "d5ba2883",
   "metadata": {},
   "outputs": [
    {
     "name": "stdout",
     "output_type": "stream",
     "text": [
      "-I: Adding /Users/joelricci/miniconda/envs/biobb/dat/leap/prep to search path.\n",
      "-I: Adding /Users/joelricci/miniconda/envs/biobb/dat/leap/lib to search path.\n",
      "-I: Adding /Users/joelricci/miniconda/envs/biobb/dat/leap/parm to search path.\n",
      "-I: Adding /Users/joelricci/miniconda/envs/biobb/dat/leap/cmd to search path.\n",
      "-f: Source ./../data/md_system_prep/LIG_systems/3pxf/3pxf-LIG_intermediate_files/leap_prep_SOLV.in.\n",
      "\n",
      "Welcome to LEaP!\n",
      "(no leaprc in search path)\n",
      "Sourcing: ./../data/md_system_prep/LIG_systems/3pxf/3pxf-LIG_intermediate_files/leap_prep_SOLV.in\n",
      "----- Source: /Users/joelricci/miniconda/envs/biobb/dat/leap/cmd/leaprc.protein.ff14SB\n",
      "----- Source of /Users/joelricci/miniconda/envs/biobb/dat/leap/cmd/leaprc.protein.ff14SB done\n",
      "Log file: ./leap.log\n",
      "Loading parameters: /Users/joelricci/miniconda/envs/biobb/dat/leap/parm/parm10.dat\n",
      "Reading title:\n",
      "PARM99 + frcmod.ff99SB + frcmod.parmbsc0 + OL3 for RNA\n",
      "Loading parameters: /Users/joelricci/miniconda/envs/biobb/dat/leap/parm/frcmod.ff14SB\n",
      "Reading force field modification type file (frcmod)\n",
      "Reading title:\n",
      "ff14SB protein backbone and sidechain parameters\n",
      "Loading library: /Users/joelricci/miniconda/envs/biobb/dat/leap/lib/amino12.lib\n",
      "Loading library: /Users/joelricci/miniconda/envs/biobb/dat/leap/lib/aminoct12.lib\n",
      "Loading library: /Users/joelricci/miniconda/envs/biobb/dat/leap/lib/aminont12.lib\n",
      "----- Source: /Users/joelricci/miniconda/envs/biobb/dat/leap/cmd/leaprc.gaff\n",
      "----- Source of /Users/joelricci/miniconda/envs/biobb/dat/leap/cmd/leaprc.gaff done\n",
      "Log file: ./leap.log\n",
      "Loading parameters: /Users/joelricci/miniconda/envs/biobb/dat/leap/parm/gaff.dat\n",
      "Reading title:\n",
      "AMBER General Force Field for organic molecules (Version 1.81, May 2017)\n",
      "----- Source: /Users/joelricci/miniconda/envs/biobb/dat/leap/cmd/leaprc.water.tip3p\n",
      "----- Source of /Users/joelricci/miniconda/envs/biobb/dat/leap/cmd/leaprc.water.tip3p done\n",
      "Loading library: /Users/joelricci/miniconda/envs/biobb/dat/leap/lib/atomic_ions.lib\n",
      "Loading library: /Users/joelricci/miniconda/envs/biobb/dat/leap/lib/solvents.lib\n",
      "Loading parameters: /Users/joelricci/miniconda/envs/biobb/dat/leap/parm/frcmod.tip3p\n",
      "Reading force field modification type file (frcmod)\n",
      "Reading title:\n",
      "This is the additional/replacement parameter set for TIP3P water\n",
      "Loading parameters: /Users/joelricci/miniconda/envs/biobb/dat/leap/parm/frcmod.ions1lm_126_tip3p\n",
      "Reading force field modification type file (frcmod)\n",
      "Reading title:\n",
      "Li/Merz ion parameters of monovalent ions for TIP3P water model (12-6 normal usage set)\n",
      "Loading parameters: /Users/joelricci/miniconda/envs/biobb/dat/leap/parm/frcmod.ionsjc_tip3p\n",
      "Reading force field modification type file (frcmod)\n",
      "Reading title:\n",
      "Monovalent ion parameters for Ewald and TIP3P water from Joung & Cheatham JPCB (2008)\n",
      "Loading parameters: /Users/joelricci/miniconda/envs/biobb/dat/leap/parm/frcmod.ions234lm_126_tip3p\n",
      "Reading force field modification type file (frcmod)\n",
      "Reading title:\n",
      "Li/Merz ion parameters of divalent to tetravalent ions for TIP3P water model (12-6 normal usage set)\n",
      "Loading parameters: /Users/joelricci/miniconda/envs/biobb/dat/leap/parm/frcmod.ionsjc_tip3p\n",
      "Reading force field modification type file (frcmod)\n",
      "Reading title:\n",
      "Monovalent ion parameters for Ewald and TIP3P water from Joung & Cheatham JPCB (2008)\n",
      "Loading library: ./../data/md_system_prep/LIG_systems/3pxf/3pxf-LIG_intermediate_files/LIG.lib\n",
      "Loading parameters: ./../data/md_system_prep/LIG_systems/3pxf/3pxf-LIG_intermediate_files/LIG.frcmod\n",
      "Reading force field modification type file (frcmod)\n",
      "Reading title:\n",
      "Remark line goes here\n",
      "Loading Mol2 file: ./../data/md_system_prep/LIG_systems/3pxf/3pxf-LIG_intermediate_files/LIG.mol2\n",
      "Reading MOLECULE named LIG\n",
      "Loading PDB file: ./../data/md_system_prep/LIG_systems/3pxf/3pxf-LIG_intermediate_files/COMPLEX.minH.pdb\n",
      "  total atoms in file: 4887\n",
      "Scaling up box by a factor of 1.251447 to meet diagonal cut criterion\n",
      "  Solute vdw bounding box:              41.508 69.418 57.929\n",
      "  Total bounding box for atom centers:  99.453 99.453 99.453\n",
      "      (box expansion for 'iso' is  57.2%)\n",
      "  Solvent unit box:                     18.774 18.774 18.774\n",
      "  Volume: 506820.007 A^3 (oct)\n",
      "  Total mass 273880.908 amu,  Density 0.897 g/cc\n",
      "  Added 13300 residues.\n",
      "Writing pdb file: ./../data/md_system_prep/LIG_systems/3pxf/3pxf-LIG_intermediate_files/SOLV.pdb\n",
      "   printing CRYST1 record to PDB file with box info\n",
      "\n",
      "/Users/joelricci/miniconda/envs/biobb/bin/teLeap: Warning!\n",
      " Converting N-terminal residue name to PDB format: NMET -> MET\n",
      "\n",
      "/Users/joelricci/miniconda/envs/biobb/bin/teLeap: Warning!\n",
      " Converting C-terminal residue name to PDB format: CLEU -> LEU\n",
      "Checking 'system'....\n",
      "\n",
      "/Users/joelricci/miniconda/envs/biobb/bin/teLeap: Warning!\n",
      "The unperturbed charge of the unit (3.000000) is not zero.\n",
      "\n",
      "/Users/joelricci/miniconda/envs/biobb/bin/teLeap: Warning!\n",
      "Close contact of 1.455241 angstroms between .R<GLN 110>.A<HA 4> and .R<GLN 113>.A<HE22 15>\n",
      "\n",
      "/Users/joelricci/miniconda/envs/biobb/bin/teLeap: Warning!\n",
      "Close contact of 1.412650 angstroms between .R<VAL 164>.A<H 2> and .R<THR 165>.A<H 2>\n",
      "Checking parameters for unit 'system'.\n",
      "Checking for bond parameters.\n",
      "Checking for angle parameters.\n",
      "check:  Warnings: 3\n",
      "Unit is OK.\n",
      "Total unperturbed charge:   3.000000\n",
      "Total perturbed charge:     3.000000\n",
      "Checking Unit.\n",
      "\n",
      "/Users/joelricci/miniconda/envs/biobb/bin/teLeap: Warning!\n",
      "The unperturbed charge of the unit (3.000000) is not zero.\n",
      "\n",
      "/Users/joelricci/miniconda/envs/biobb/bin/teLeap: Note.\n",
      "Ignoring the warning from Unit Checking.\n",
      "\n",
      "Building topology.\n",
      "Building atom parameters.\n",
      "Building bond parameters.\n",
      "Building angle parameters.\n",
      "Building proper torsion parameters.\n",
      "Building improper torsion parameters.\n",
      " total 975 improper torsions applied\n",
      "Building H-Bond parameters.\n",
      "Incorporating Non-Bonded adjustments.\n",
      "Not Marking per-residue atom chain types.\n",
      "Marking per-residue atom chain types.\n",
      "  (Residues lacking connect0/connect1 - \n",
      "   these don't have chain types marked:\n",
      "\n",
      "\tres\ttotal affected\n",
      "\n",
      "\tCLEU\t1\n",
      "\tLIG\t1\n",
      "\tNMET\t1\n",
      "\tWAT\t13302\n",
      "  )\n",
      " (no restraints)\n",
      "\tQuit\n",
      "\n",
      "Exiting LEaP: Errors = 0; Warnings = 6; Notes = 1.\n",
      "\n",
      "None\n"
     ]
    }
   ],
   "source": [
    "# Solvate the System\n",
    "\n",
    "from helper_modules.prepare_md_system import run_leap_solv\n",
    "OUT_PL_SOLV  = 'SOLV'\n",
    "run_leap_solv(input_basename  = OUT_MIN_SYSTEM,\n",
    "              output_basename = OUT_PL_SOLV, \n",
    "              box_padding     = BOX_PADDING,\n",
    "              solvent_type    = SOLVENT_TYPE,\n",
    "              input_ligand_basename = 'LIG',\n",
    "              tmp_dir = TMP_DIR)"
   ]
  },
  {
   "cell_type": "code",
   "execution_count": 65,
   "id": "89405981",
   "metadata": {},
   "outputs": [
    {
     "name": "stdout",
     "output_type": "stream",
     "text": [
      "-I: Adding /Users/joelricci/miniconda/envs/biobb/dat/leap/prep to search path.\n",
      "-I: Adding /Users/joelricci/miniconda/envs/biobb/dat/leap/lib to search path.\n",
      "-I: Adding /Users/joelricci/miniconda/envs/biobb/dat/leap/parm to search path.\n",
      "-I: Adding /Users/joelricci/miniconda/envs/biobb/dat/leap/cmd to search path.\n",
      "-f: Source ./../data/md_system_prep/LIG_systems/3pxf/3pxf-LIG_intermediate_files/leap_prep_NEUTRAL.in.\n",
      "\n",
      "Welcome to LEaP!\n",
      "(no leaprc in search path)\n",
      "Sourcing: ./../data/md_system_prep/LIG_systems/3pxf/3pxf-LIG_intermediate_files/leap_prep_NEUTRAL.in\n",
      "----- Source: /Users/joelricci/miniconda/envs/biobb/dat/leap/cmd/leaprc.protein.ff14SB\n",
      "----- Source of /Users/joelricci/miniconda/envs/biobb/dat/leap/cmd/leaprc.protein.ff14SB done\n",
      "Log file: ./leap.log\n",
      "Loading parameters: /Users/joelricci/miniconda/envs/biobb/dat/leap/parm/parm10.dat\n",
      "Reading title:\n",
      "PARM99 + frcmod.ff99SB + frcmod.parmbsc0 + OL3 for RNA\n",
      "Loading parameters: /Users/joelricci/miniconda/envs/biobb/dat/leap/parm/frcmod.ff14SB\n",
      "Reading force field modification type file (frcmod)\n",
      "Reading title:\n",
      "ff14SB protein backbone and sidechain parameters\n",
      "Loading library: /Users/joelricci/miniconda/envs/biobb/dat/leap/lib/amino12.lib\n",
      "Loading library: /Users/joelricci/miniconda/envs/biobb/dat/leap/lib/aminoct12.lib\n",
      "Loading library: /Users/joelricci/miniconda/envs/biobb/dat/leap/lib/aminont12.lib\n",
      "----- Source: /Users/joelricci/miniconda/envs/biobb/dat/leap/cmd/leaprc.gaff\n",
      "----- Source of /Users/joelricci/miniconda/envs/biobb/dat/leap/cmd/leaprc.gaff done\n",
      "Log file: ./leap.log\n",
      "Loading parameters: /Users/joelricci/miniconda/envs/biobb/dat/leap/parm/gaff.dat\n",
      "Reading title:\n",
      "AMBER General Force Field for organic molecules (Version 1.81, May 2017)\n",
      "----- Source: /Users/joelricci/miniconda/envs/biobb/dat/leap/cmd/leaprc.water.tip3p\n",
      "----- Source of /Users/joelricci/miniconda/envs/biobb/dat/leap/cmd/leaprc.water.tip3p done\n",
      "Loading library: /Users/joelricci/miniconda/envs/biobb/dat/leap/lib/atomic_ions.lib\n",
      "Loading library: /Users/joelricci/miniconda/envs/biobb/dat/leap/lib/solvents.lib\n",
      "Loading parameters: /Users/joelricci/miniconda/envs/biobb/dat/leap/parm/frcmod.tip3p\n",
      "Reading force field modification type file (frcmod)\n",
      "Reading title:\n",
      "This is the additional/replacement parameter set for TIP3P water\n",
      "Loading parameters: /Users/joelricci/miniconda/envs/biobb/dat/leap/parm/frcmod.ions1lm_126_tip3p\n",
      "Reading force field modification type file (frcmod)\n",
      "Reading title:\n",
      "Li/Merz ion parameters of monovalent ions for TIP3P water model (12-6 normal usage set)\n",
      "Loading parameters: /Users/joelricci/miniconda/envs/biobb/dat/leap/parm/frcmod.ionsjc_tip3p\n",
      "Reading force field modification type file (frcmod)\n",
      "Reading title:\n",
      "Monovalent ion parameters for Ewald and TIP3P water from Joung & Cheatham JPCB (2008)\n",
      "Loading parameters: /Users/joelricci/miniconda/envs/biobb/dat/leap/parm/frcmod.ions234lm_126_tip3p\n",
      "Reading force field modification type file (frcmod)\n",
      "Reading title:\n",
      "Li/Merz ion parameters of divalent to tetravalent ions for TIP3P water model (12-6 normal usage set)\n",
      "Loading parameters: /Users/joelricci/miniconda/envs/biobb/dat/leap/parm/frcmod.ionsjc_tip3p\n",
      "Reading force field modification type file (frcmod)\n",
      "Reading title:\n",
      "Monovalent ion parameters for Ewald and TIP3P water from Joung & Cheatham JPCB (2008)\n",
      "Loading library: ./../data/md_system_prep/LIG_systems/3pxf/3pxf-LIG_intermediate_files/LIG.lib\n",
      "Loading parameters: ./../data/md_system_prep/LIG_systems/3pxf/3pxf-LIG_intermediate_files/LIG.frcmod\n",
      "Reading force field modification type file (frcmod)\n",
      "Reading title:\n",
      "Remark line goes here\n",
      "Loading Mol2 file: ./../data/md_system_prep/LIG_systems/3pxf/3pxf-LIG_intermediate_files/LIG.mol2\n",
      "Reading MOLECULE named LIG\n",
      "Loading PDB file: ./../data/md_system_prep/LIG_systems/3pxf/3pxf-LIG_intermediate_files/SOLV.pdb\n",
      "  total atoms in file: 44787\n",
      "Adding 75 counter ions to \"system\". 13227 solvent molecules will remain.\n",
      "0: Placed Na+ in system at (-34.92, 23.78, -7.84).\n",
      "Placed Cl- in system at (1.13, -19.00, -20.89).\n",
      "0: Placed Na+ in system at (-5.92, 1.67, -27.88).\n",
      "Placed Cl- in system at (-24.50, 32.78, 13.00).\n",
      "0: Placed Na+ in system at (22.59, 22.75, -8.08).\n",
      "Placed Cl- in system at (11.97, 42.32, -20.89).\n",
      "0: Placed Na+ in system at (31.79, 14.57, -4.86).\n",
      "Placed Cl- in system at (-28.37, -20.95, 27.84).\n",
      "0: Placed Na+ in system at (-24.83, 1.97, -12.63).\n",
      "Placed Cl- in system at (-20.54, -36.62, -12.43).\n",
      "0: Placed Na+ in system at (-14.97, -23.43, 23.73).\n",
      "Placed Cl- in system at (1.97, 24.15, 32.79).\n",
      "0: Placed Na+ in system at (39.98, -9.45, -7.36).\n",
      "Placed Cl- in system at (-35.73, -21.43, -2.83).\n",
      "0: Placed Na+ in system at (-24.86, 19.95, -3.42).\n",
      "Placed Cl- in system at (-9.74, 39.00, -13.56).\n",
      "0: Placed Na+ in system at (17.65, -10.57, 15.03).\n",
      "Placed Cl- in system at (16.48, -22.22, -36.27).\n",
      "0: Placed Na+ in system at (3.39, -24.01, -25.25).\n",
      "Placed Cl- in system at (18.67, -12.64, -29.24).\n",
      "0: Placed Na+ in system at (-35.34, 17.45, 13.00).\n",
      "Placed Cl- in system at (-8.79, -18.55, -14.47).\n",
      "0: Placed Na+ in system at (-19.70, -14.04, -20.21).\n",
      "Placed Cl- in system at (21.11, 30.14, 14.31).\n",
      "0: Placed Na+ in system at (18.24, 30.61, 9.01).\n",
      "Placed Cl- in system at (-40.28, 19.14, 6.90).\n",
      "0: Placed Na+ in system at (-5.26, 24.12, -20.80).\n",
      "Placed Cl- in system at (-23.63, 32.33, 22.71).\n",
      "0: Placed Na+ in system at (-1.24, -12.94, -31.18).\n",
      "Placed Cl- in system at (-0.83, 38.97, 17.48).\n",
      "0: Placed Na+ in system at (-26.64, 15.55, 5.30).\n",
      "Placed Cl- in system at (35.28, 7.68, 31.82).\n",
      "0: Placed Na+ in system at (-22.25, 14.81, 40.86).\n",
      "Placed Cl- in system at (2.19, -26.92, -32.63).\n",
      "0: Placed Na+ in system at (-4.72, -17.57, 12.53).\n",
      "Placed Cl- in system at (19.32, 13.16, 26.75).\n",
      "0: Placed Na+ in system at (26.77, -17.20, -0.03).\n",
      "Placed Cl- in system at (27.86, 6.16, -31.04).\n",
      "0: Placed Na+ in system at (12.41, 3.61, 24.69).\n",
      "Placed Cl- in system at (31.90, -9.50, -10.11).\n",
      "0: Placed Na+ in system at (1.75, 27.90, -18.33).\n",
      "Placed Cl- in system at (-30.33, -26.92, 20.48).\n",
      "0: Placed Na+ in system at (11.19, 32.23, 11.81).\n",
      "Placed Cl- in system at (-16.60, -15.96, 12.13).\n",
      "0: Placed Na+ in system at (-36.86, 1.10, 17.31).\n",
      "Placed Cl- in system at (9.71, -31.54, 11.64).\n",
      "0: Placed Na+ in system at (-20.11, 3.61, -28.42).\n",
      "Placed Cl- in system at (-25.62, 22.70, 31.79).\n",
      "0: Placed Na+ in system at (29.90, 0.12, -24.58).\n",
      "Placed Cl- in system at (-15.43, -6.09, -39.24).\n",
      "0: Placed Na+ in system at (-33.23, -2.38, 36.84).\n",
      "Placed Cl- in system at (-11.78, 14.41, 38.72).\n",
      "0: Placed Na+ in system at (7.52, -17.11, 23.34).\n",
      "Placed Cl- in system at (-16.17, -2.13, -43.77).\n",
      "0: Placed Na+ in system at (23.68, 13.76, -9.29).\n",
      "Placed Cl- in system at (38.23, 20.16, 20.29).\n",
      "0: Placed Na+ in system at (-36.47, -33.44, -0.06).\n",
      "Placed Cl- in system at (27.59, -4.24, 12.37).\n",
      "0: Placed Na+ in system at (-2.47, 30.80, -26.82).\n",
      "Placed Cl- in system at (-12.01, 24.89, 32.60).\n",
      "0: Placed Na+ in system at (8.37, -26.42, 2.54).\n",
      "Placed Cl- in system at (-28.69, 16.29, -13.51).\n",
      "0: Placed Na+ in system at (26.13, -35.51, -9.41).\n",
      "Placed Cl- in system at (42.63, 29.90, -4.86).\n",
      "0: Placed Na+ in system at (-26.64, 7.91, -5.44).\n",
      "Placed Cl- in system at (-8.06, -21.15, -20.11).\n",
      "0: Placed Na+ in system at (12.91, -5.57, -33.35).\n",
      "Placed Cl- in system at (30.79, 32.48, 17.91).\n",
      "0: Placed Na+ in system at (-20.97, 28.89, 11.23).\n",
      "Placed Cl- in system at (14.13, -12.82, 31.23).\n",
      "0: Placed Na+ in system at (25.45, -23.82, 13.57).\n",
      "Placed Cl- in system at (-12.08, -28.27, -31.18).\n",
      "Placed Cl- in system at (35.59, -11.52, 33.45).\n",
      "Placed Cl- in system at (19.06, -15.21, -24.58).\n",
      "Placed Cl- in system at (-24.08, 16.11, 5.43).\n",
      "Box dimensions:  89.889300 102.805600 106.667600\n",
      "Checking 'system'....\n",
      "\n",
      "/Users/joelricci/miniconda/envs/biobb/bin/teLeap: Warning!\n",
      "Close contact of 1.455547 angstroms between .R<GLN 110>.A<HA 4> and .R<GLN 113>.A<HE22 15>\n",
      "\n",
      "/Users/joelricci/miniconda/envs/biobb/bin/teLeap: Warning!\n",
      "Close contact of 1.412205 angstroms between .R<VAL 164>.A<H 2> and .R<THR 165>.A<H 2>\n",
      "Checking parameters for unit 'system'.\n",
      "Checking for bond parameters.\n",
      "Checking for angle parameters.\n",
      "check:  Warnings: 2\n",
      "Unit is OK.\n",
      "Total unperturbed charge:  -0.000000\n",
      "Total perturbed charge:    -0.000000\n",
      "Writing pdb file: ./../data/md_system_prep/LIG_systems/3pxf/3pxf-LIG_intermediate_files/NEUTRAL.pdb\n",
      "   printing CRYST1 record to PDB file with box info\n",
      "\n",
      "/Users/joelricci/miniconda/envs/biobb/bin/teLeap: Warning!\n",
      " Converting N-terminal residue name to PDB format: NMET -> MET\n",
      "\n",
      "/Users/joelricci/miniconda/envs/biobb/bin/teLeap: Warning!\n",
      " Converting C-terminal residue name to PDB format: CLEU -> LEU\n",
      "Checking Unit.\n",
      "Building topology.\n",
      "Building atom parameters.\n",
      "Building bond parameters.\n",
      "Building angle parameters.\n",
      "Building proper torsion parameters.\n",
      "Building improper torsion parameters.\n",
      " total 975 improper torsions applied\n",
      "Building H-Bond parameters.\n",
      "Incorporating Non-Bonded adjustments.\n",
      "Not Marking per-residue atom chain types.\n",
      "Marking per-residue atom chain types.\n",
      "  (Residues lacking connect0/connect1 - \n",
      "   these don't have chain types marked:\n",
      "\n",
      "\tres\ttotal affected\n",
      "\n",
      "\tCLEU\t1\n",
      "\tLIG\t1\n",
      "\tNMET\t1\n",
      "\tWAT\t13227\n",
      "  )\n",
      " (no restraints)\n",
      "\tQuit\n",
      "\n",
      "Exiting LEaP: Errors = 0; Warnings = 4; Notes = 0.\n",
      "\n",
      "None\n"
     ]
    }
   ],
   "source": [
    "# Neutralize the System\n",
    "\n",
    "from helper_modules.prepare_md_system import run_leap_neutralization\n",
    "OUT_PL_NEUTRAL = 'NEUTRAL'\n",
    "run_leap_neutralization(input_basename    = OUT_PL_SOLV, \n",
    "                        output_basename   = OUT_PL_NEUTRAL, \n",
    "                        tmp_dir           = TMP_DIR, \n",
    "                        solvent_type      = SOLVENT_TYPE,\n",
    "                        input_ligand_basename = 'LIG',\n",
    "                        ion_concentration = ION_MOLAR)"
   ]
  },
  {
   "cell_type": "code",
   "execution_count": 66,
   "id": "0f715167",
   "metadata": {},
   "outputs": [
    {
     "data": {
      "application/vnd.jupyter.widget-view+json": {
       "model_id": "74c3a16621204b20bdc7a5a09645bc8d",
       "version_major": 2,
       "version_minor": 0
      },
      "text/plain": [
       "NGLWidget()"
      ]
     },
     "metadata": {},
     "output_type": "display_data"
    }
   ],
   "source": [
    "view = nglview.show_structure_file(f'{TMP_DIR}/{OUT_PL_NEUTRAL}.pdb')\n",
    "view.clear_representations()\n",
    "view.add_representation(repr_type ='cartoon', selection='protein')\n",
    "view.add_representation(repr_type ='licorice', selection='LIG')\n",
    "view.add_representation(repr_type ='spacefill', selection='Cl- Na+')\n",
    "view._remote_call('setSize', target='Widget', args=['','600px'])\n",
    "\n",
    "view"
   ]
  },
  {
   "cell_type": "code",
   "execution_count": 67,
   "id": "d32c79bf",
   "metadata": {},
   "outputs": [
    {
     "name": "stdout",
     "output_type": "stream",
     "text": [
      "Moving system to origin (44.74, 50.77, 53.53) -> (0,0,0)\n"
     ]
    }
   ],
   "source": [
    "# Neutralize the System\n",
    "\n",
    "from helper_modules.prepare_md_system import run_center_system_to_origin\n",
    "\n",
    "run_center_system_to_origin(\n",
    "            filename = f'{TMP_DIR}/{OUT_PL_NEUTRAL}.rst7',\n",
    "            topology = f'{TMP_DIR}/{OUT_PL_NEUTRAL}.prmtop',\n",
    "            out_filename = f'{TMP_DIR}/{OUT_PL_NEUTRAL}.CENTERED.rst7')"
   ]
  },
  {
   "cell_type": "code",
   "execution_count": 68,
   "id": "224e80f3",
   "metadata": {},
   "outputs": [],
   "source": [
    "# Conver to gromacs\n",
    "import parmed as pmd\n",
    "\n",
    "top  = f'{TMP_DIR}/{OUT_PL_NEUTRAL}.prmtop'\n",
    "rst7 = f'{TMP_DIR}/{OUT_PL_NEUTRAL}.CENTERED.rst7.1'\n",
    "\n",
    "amber = pmd.load_file(top, rst7)\n",
    "#save a GROMACS topology and GRO file\n",
    "TOP_FILE = f'{TMP_DIR}/{FINAL_BASENAME}_NO_POSRES.top'\n",
    "FINAL_GRO_FILE = f'{WD}/{FINAL_BASENAME}.gro'\n",
    "amber.save(TOP_FILE)\n",
    "amber.save(FINAL_GRO_FILE)"
   ]
  },
  {
   "cell_type": "code",
   "execution_count": 69,
   "id": "5c93cf97",
   "metadata": {},
   "outputs": [
    {
     "data": {
      "text/plain": [
       "dict_keys(['system1', 'LIG', 'Na+', 'Cl-', 'WAT'])"
      ]
     },
     "execution_count": 69,
     "metadata": {},
     "output_type": "execute_result"
    }
   ],
   "source": [
    "from parmed.gromacs import GromacsTopologyFile\n",
    "top = GromacsTopologyFile(TOP_FILE)\n",
    "top.molecules.keys()"
   ]
  },
  {
   "cell_type": "code",
   "execution_count": 70,
   "id": "6b37b67a",
   "metadata": {},
   "outputs": [],
   "source": [
    "from helper_modules.prepare_md_system import include_posre_in_top, create_posre_file\n",
    "\n",
    "FINAL_TOP_FILE = f'{WD}/{FINAL_BASENAME}.top'\n",
    "# Protein posres\n",
    "PROT_POSRE_FILE = f'{FINAL_BASENAME}.prot_posre.itp'\n",
    "create_posre_file(input_gro          = FINAL_GRO_FILE, \n",
    "                  out_posre_filename = f'{WD}/{PROT_POSRE_FILE}',\n",
    "                  mol_selection      = 'protein',\n",
    "                  rest_energies      = [1000, 1000, 1000],\n",
    "                  verbose = False)\n",
    "include_posre_in_top(input_top_file = TOP_FILE, \n",
    "                     out_top_file   = FINAL_TOP_FILE, \n",
    "                     posre_filename = PROT_POSRE_FILE,\n",
    "                     molecule_index = 1 # inx=1 for protein\n",
    "                    )\n",
    "\n",
    "# Ligand posres\n",
    "LIG_POSRE_FILE = f'{FINAL_BASENAME}.lig_posre.itp'\n",
    "create_posre_file(input_gro          = FINAL_GRO_FILE, \n",
    "                  out_posre_filename = f'{WD}/{LIG_POSRE_FILE}',\n",
    "                  mol_selection      = 'ligand',\n",
    "                  rest_energies      = [1000, 1000, 1000],\n",
    "                  verbose = False)\n",
    "include_posre_in_top(input_top_file = FINAL_TOP_FILE, \n",
    "                     out_top_file   = FINAL_TOP_FILE, \n",
    "                     posre_filename = LIG_POSRE_FILE,\n",
    "                     molecule_index = 2 # inx=2 for ligand\n",
    "                    )"
   ]
  },
  {
   "cell_type": "code",
   "execution_count": 71,
   "id": "5abedcae",
   "metadata": {},
   "outputs": [],
   "source": [
    "\n",
    "# Get the protein charge\n",
    "import re\n",
    "\n",
    "def get_log_lines(file, \n",
    "                  pattern, \n",
    "                  lines_list = [0]):\n",
    "    log_lines = []\n",
    "    with open(file,\"r\") as file:\n",
    "        lines = file.readlines()\n",
    "        for i, line in enumerate(lines):\n",
    "            if re.search(pattern, line):\n",
    "                for j in lines_list:\n",
    "                    log_lines.append(lines[i + j])\n",
    "    return log_lines\n",
    "\n"
   ]
  },
  {
   "cell_type": "code",
   "execution_count": 72,
   "id": "4781c885",
   "metadata": {},
   "outputs": [
    {
     "name": "stdout",
     "output_type": "stream",
     "text": [
      "\n",
      "Protein Net Charge: 4.000000\n",
      "\n",
      "System Net Charge: -0.000000\n",
      "\n",
      "Number of Protein atoms: 4848\n",
      "\n",
      "Total Number of atoms: 44787\n",
      "\n",
      "Number of WAT molecules:\n",
      "WAT\t13227\n",
      "\n",
      "Number of Na+ ions:\n",
      "36\n",
      "\n",
      "Number of Cl- ions:\n",
      "39\n",
      "Box dimensions:\n",
      "\n",
      "- x: 89.889300\n",
      "\n",
      "- y: 102.805600\n",
      "\n",
      "- z: 106.667600\n",
      "\n",
      "\n",
      "\n",
      "Warnings:\n",
      "Close contact of 1.455547 angstroms between .R<GLN 110>.A<HA 4> and .R<GLN 113>.A<HE22 15>\n",
      "\n",
      "Close contact of 1.412205 angstroms between .R<VAL 164>.A<H 2> and .R<THR 165>.A<H 2>\n",
      "\n",
      " Converting N-terminal residue name to PDB format: NMET -> MET\n",
      "\n",
      " Converting C-terminal residue name to PDB format: CLEU -> LEU\n",
      "\n"
     ]
    }
   ],
   "source": [
    "# Report Logs\n",
    "file = f'{TMP_DIR}/leap_prep_{OUT_SYSTEM}.in.log'\n",
    "\n",
    "# Protein charge\n",
    "pattern = 'charge protein'\n",
    "protein_charge = get_log_lines(file, pattern, lines_list = [1])\n",
    "protein_charge = protein_charge[0].replace('\\n', '').split(' ')[-1]\n",
    "protein_charge= [f'\\nProtein Net Charge: {protein_charge}']\n",
    "\n",
    "# Total protein atoms\n",
    "pattern = 'total atoms in file'\n",
    "n_protein_atoms = get_log_lines(file, pattern, lines_list = [0])\n",
    "n_protein_atoms = n_protein_atoms[0].strip().split(' ')[-1]\n",
    "n_protein_atoms = [f'\\nNumber of Protein atoms: {n_protein_atoms}']\n",
    "\n",
    "\n",
    "file = f'{TMP_DIR}/leap_prep_{OUT_PL_NEUTRAL}.in.log'\n",
    "\n",
    "# Total protein atoms\n",
    "pattern = 'total atoms in file'\n",
    "n_total_atoms = get_log_lines(file, pattern, lines_list = [0])\n",
    "n_total_atoms = n_total_atoms[0].strip().split(' ')[-1]\n",
    "n_total_atoms = [f'\\nTotal Number of atoms: {n_total_atoms}']\n",
    "\n",
    "# System charge\n",
    "pattern = 'charge system'\n",
    "system_charge = get_log_lines(file, pattern, lines_list = [1])\n",
    "system_charge = system_charge[0].replace('\\n', '').split(' ')[-1]\n",
    "system_charge = [f'\\nSystem Net Charge: {system_charge}']\n",
    "\n",
    "# Box dimensions\n",
    "pattern = 'Box dimensions'\n",
    "box_dimensions = get_log_lines(file, pattern, lines_list = [0])\n",
    "box_dimensions = box_dimensions[0].split(' ')[-3:]\n",
    "box_dimensions = [f'- {c}: {b}\\n' for b, c in zip(box_dimensions, ['x', 'y', 'z'])]\n",
    "box_dimensions.insert(0, pattern + ':\\n')\n",
    "\n",
    "# Warnings\n",
    "pattern = 'Warning!'\n",
    "warnings = get_log_lines(file, pattern, lines_list = [1])\n",
    "warnings.insert(0, '\\nWarnings:')\n",
    "\n",
    "# Number of final waters\n",
    "pattern = '\\tWAT'\n",
    "n_waters = get_log_lines(file, pattern, lines_list = [0])\n",
    "n_waters = [n_waters[0].strip()]\n",
    "n_waters.insert(0, '\\nNumber of WAT molecules:')\n",
    "\n",
    "# Number of ions\n",
    "pattern = 'Placed Na+'\n",
    "n_Na = [str(len(get_log_lines(file, pattern, lines_list = [0])))]\n",
    "n_Na.insert(0, '\\nNumber of Na+ ions:')\n",
    "\n",
    "pattern = 'Placed Cl-'\n",
    "n_Cl = [str(len(get_log_lines(file, pattern, lines_list = [0])))]\n",
    "n_Cl.insert(0, '\\nNumber of Cl- ions:')\n",
    "\n",
    "# Number of cosolvent molecules\n",
    "solv_lines = []\n",
    "SOLVENT = 'WAT'\n",
    "if SOLVENT != None and SOLVENT != 'WAT':\n",
    "    pattern = f'\\t{SOLVENT}'\n",
    "    solv_lines = get_log_lines(file, pattern, lines_list = [0])\n",
    "    solv_lines = [solv_lines[0].strip()]\n",
    "    solv_lines.insert(0, f'\\nNumber of {SOLVENT} molecules:')\n",
    "    \n",
    "LINES = protein_charge + system_charge + n_protein_atoms + n_total_atoms +\\\n",
    "        n_waters + solv_lines +\\\n",
    "        n_Na + n_Cl + box_dimensions + warnings\n",
    "        \n",
    "with open(f'{TMP_DIR}/PREP_SUMMARY.log', 'w') as f:\n",
    "    f.writelines(LINES)\n",
    "    \n",
    "for l in LINES:\n",
    "    print(l)"
   ]
  },
  {
   "cell_type": "code",
   "execution_count": null,
   "id": "156cc4f1",
   "metadata": {},
   "outputs": [],
   "source": []
  }
 ],
 "metadata": {
  "kernelspec": {
   "display_name": "Python 3 (ipykernel)",
   "language": "python",
   "name": "python3"
  },
  "language_info": {
   "codemirror_mode": {
    "name": "ipython",
    "version": 3
   },
   "file_extension": ".py",
   "mimetype": "text/x-python",
   "name": "python",
   "nbconvert_exporter": "python",
   "pygments_lexer": "ipython3",
   "version": "3.7.12"
  }
 },
 "nbformat": 4,
 "nbformat_minor": 5
}
