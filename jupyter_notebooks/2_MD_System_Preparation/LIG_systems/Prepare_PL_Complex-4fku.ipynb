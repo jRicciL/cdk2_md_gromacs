{
 "cells": [
  {
   "cell_type": "code",
   "execution_count": 1,
   "id": "142fadbc",
   "metadata": {},
   "outputs": [
    {
     "data": {
      "application/vnd.jupyter.widget-view+json": {
       "model_id": "c57415d763bf406ab3801cda59fb8523",
       "version_major": 2,
       "version_minor": 0
      },
      "text/plain": []
     },
     "metadata": {},
     "output_type": "display_data"
    }
   ],
   "source": [
    "import subprocess\n",
    "import os \n",
    "import shutil\n",
    "from pathlib import Path\n",
    "import warnings\n",
    "import nglview\n",
    "import ipywidgets\n",
    "import sys\n",
    "sys.path.append('..')\n",
    "import plotly\n",
    "from plotly import subplots\n",
    "import plotly.graph_objs as go\n",
    "%load_ext autoreload\n",
    "%autoreload 2"
   ]
  },
  {
   "cell_type": "code",
   "execution_count": 2,
   "id": "b451c739",
   "metadata": {},
   "outputs": [],
   "source": [
    "PDB_ID       = '4fku'\n",
    "LIG_NAME     = '60K'\n",
    "SOLVENT_TYPE = 'TIP3PBOX'\n",
    "PH           = 7.4\n",
    "BOX_PADDING  = 12.0\n",
    "ION_MOLAR    = 0.15\n",
    "\n",
    "# Output basename\n",
    "FINAL_BASENAME = f'{PDB_ID}-LIG'\n",
    "\n",
    "# Define the input files\n",
    "WD = f'./../data/md_system_prep/LIG_systems/{PDB_ID}'\n",
    "INPUT_PROT     = f'{WD}/{PDB_ID}_A_mod.pdb'\n",
    "INPUT_LIG      = f'{WD}/{PDB_ID}_{LIG_NAME}_LIG.pdb' \n",
    "INPUT_CRYS_WAT = f'{WD}/{PDB_ID}_CRYS_WAT.pdb'\n",
    "LIG_RESNAME    = f'LIG'\n",
    "LIG_PARTIAL_CHARGES = 'gasteiger'"
   ]
  },
  {
   "cell_type": "code",
   "execution_count": 3,
   "id": "8243d974",
   "metadata": {},
   "outputs": [
    {
     "data": {
      "application/vnd.jupyter.widget-view+json": {
       "model_id": "18c6ef611399495e889f09947cea8222",
       "version_major": 2,
       "version_minor": 0
      },
      "text/plain": [
       "NGLWidget()"
      ]
     },
     "metadata": {},
     "output_type": "display_data"
    }
   ],
   "source": [
    "view = nglview.show_structure_file(INPUT_PROT)\n",
    "view.add_component(INPUT_LIG)\n",
    "view.add_component(INPUT_CRYS_WAT)\n",
    "view.clear_representations()\n",
    "view[0].add_representation('cartoon', selection='protein', color='sstruc')\n",
    "view[1].add_representation('ball+stick')\n",
    "view[2].add_representation('licorice')\n",
    "view._remote_call('setSize', target='Widget', args=['','400px'])\n",
    "view.camera='orthographic'\n",
    "view"
   ]
  },
  {
   "cell_type": "code",
   "execution_count": 4,
   "id": "91e12309",
   "metadata": {},
   "outputs": [],
   "source": [
    "# Create a folder to store intermediate files\n",
    "TMP_DIR = f'{WD}/{FINAL_BASENAME}_intermediate_files'\n",
    "Path(TMP_DIR).mkdir(exist_ok = True)"
   ]
  },
  {
   "cell_type": "code",
   "execution_count": 5,
   "id": "00b08656",
   "metadata": {},
   "outputs": [
    {
     "name": "stdout",
     "output_type": "stream",
     "text": [
      "INFO:PDB2PQR v3.4.1: biomolecular structure conversion software.\n",
      "INFO:Please cite:  Jurrus E, et al.  Improvements to the APBS biomolecular solvation software suite.  Protein Sci 27 112-128 (2018).\n",
      "INFO:Please cite:  Dolinsky TJ, et al.  PDB2PQR: expanding and upgrading automated preparation of biomolecular structures for molecular simulations. Nucleic Acids Res 35 W522-W525 (2007).\n",
      "INFO:Checking and transforming input arguments.\n",
      "INFO:Loading topology files.\n",
      "INFO:Loading molecule: ./../data/md_system_prep/LIG_systems/4fku/4fku_A_mod.pdb\n",
      "ERROR:Error parsing line: invalid literal for int() with base 10: 'Ato'\n",
      "ERROR:<REMARK AtomGroup 4fku_A_mod>\n",
      "ERROR:Truncating remaining errors for record type:REMARK\n",
      "WARNING:Warning: ../data/md_system_prep/LIG_systems/4fku/4fku_A_mod.pdb is a non-standard PDB file.\n",
      "\n",
      "ERROR:['REMARK']\n",
      "INFO:Dropping water from structure.\n",
      "INFO:Setting up molecule.\n",
      "INFO:Created biomolecule object with 298 residues and 2398 atoms.\n",
      "INFO:Setting termini states for biomolecule chains.\n",
      "INFO:Loading forcefield.\n",
      "INFO:Loading hydrogen topology definitions.\n",
      "INFO:This biomolecule is clean.  No repair needed.\n",
      "INFO:Updating disulfide bridges.\n",
      "INFO:Debumping biomolecule.\n",
      "INFO:Assigning titration states with PROPKA.\n",
      "INFO:\n",
      "propka3.4.0                                                                                  2022-04-07\n",
      "\n",
      "-------------------------------------------------------------------------------\n",
      "--                                                                           --\n",
      "--  PROPKA: A PROTEIN PKA PREDICTOR                                          --\n",
      "--                                                                           --\n",
      "--  VERSION 1.0,  04/25/2004,  IOWA CITY                                     --\n",
      "--  BY HUI LI                                                                --\n",
      "--                                                                           --\n",
      "--  VERSION 2.0,  11/05/2007, IOWA CITY/COPENHAGEN                           --\n",
      "--  BY DELPHINE C. BAS AND DAVID M. ROGERS                                   --\n",
      "--                                                                           --\n",
      "--  VERSION 3.0,  01/06/2011, COPENHAGEN                                     --\n",
      "--  BY MATS H.M. OLSSON AND CHRESTEN R. SONDERGARD                           --\n",
      "--                                                                           --\n",
      "--  VERSION 3.1,  07/01/2011, COPENHAGEN                                     --\n",
      "--  BY CHRESTEN R. SONDERGARD AND MATS H.M. OLSSON                           --\n",
      "--                                                                           --\n",
      "--  VERSION 3.2,  06/17/2020, PLANET EARTH                                   --\n",
      "--  SEE ABOVE FOR AUTHORS                                                    --\n",
      "--                                                                           --\n",
      "-------------------------------------------------------------------------------\n",
      "\n",
      "\n",
      "-------------------------------------------------------------------------------\n",
      "References:\n",
      "\n",
      "Very Fast Empirical Prediction and Rationalization of Protein pKa Values.\n",
      "Hui Li, Andrew D. Robertson and Jan H. Jensen. PROTEINS: Structure, Function,\n",
      "and Bioinformatics. 61:704-721 (2005)\n",
      "\n",
      "Very Fast Prediction and Rationalization of pKa Values for Protein-Ligand\n",
      "Complexes.  Delphine C. Bas, David M. Rogers and Jan H. Jensen.  PROTEINS:\n",
      "Structure, Function, and Bioinformatics 73:765-783 (2008)\n",
      "\n",
      "PROPKA3: Consistent Treatment of Internal and Surface Residues in Empirical\n",
      "pKa predictions.  Mats H.M. Olsson, Chresten R. Sondergard, Michal Rostkowski,\n",
      "and Jan H. Jensen.  Journal of Chemical Theory and Computation, 7(2):525-537\n",
      "(2011)\n",
      "\n",
      "Improved Treatment of Ligands and Coupling Effects in Empirical Calculation\n",
      "and Rationalization of pKa Values.  Chresten R. Sondergaard, Mats H.M. Olsson,\n",
      "Michal Rostkowski, and Jan H. Jensen.  Journal of Chemical Theory and\n",
      "Computation, (2011)\n",
      "-------------------------------------------------------------------------------\n",
      "\n",
      "\n",
      "\n",
      "INFO:Coupling map:\n",
      "\n",
      "INFO:Calculating pKas for Conformation container 1A with 2834 atoms and 722 groups\n",
      "INFO:did not converge in 10 iterations\n",
      "INFO:pKa determinants:\n",
      "\n",
      "---------  -----   ------   ---------------------    --------------    --------------    --------------\n",
      "                            DESOLVATION  EFFECTS       SIDECHAIN          BACKBONE        COULOMBIC\n",
      " RESIDUE    pKa    BURIED     REGULAR      RE        HYDROGEN BOND     HYDROGEN BOND      INTERACTION\n",
      "---------  -----   ------   ---------   ---------    --------------    --------------    --------------\n",
      "\n",
      "ASP  38 A   3.97     0 %    0.30  277   0.00    0    0.00 XXX   0 X    0.00 XXX   0 X   -0.05 ARG  36 A\n",
      "ASP  38 A                                            0.00 XXX   0 X    0.00 XXX   0 X   -0.08 ARG 157 A\n",
      "\n",
      "ASP  68 A   3.92    12 %    0.44  314   0.10    0   -0.07 LYS  56 A    0.00 XXX   0 X   -0.32 LYS  56 A\n",
      "ASP  68 A                                            0.00 XXX   0 X    0.00 XXX   0 X   -0.03 LYS  65 A\n",
      "\n",
      "ASP  86 A   4.91    57 %    1.63  440   0.54    0    0.00 XXX   0 X   -0.04 ASP  86 A   -0.14 LYS  88 A\n",
      "ASP  86 A                                            0.00 XXX   0 X   -0.03 LYS  88 A   -0.10 LYS  89 A\n",
      "ASP  86 A                                            0.00 XXX   0 X   -0.84 LYS  89 A    0.08 ASP  92 A\n",
      "\n",
      "ASP  92 A   4.12     8 %    0.41  304   0.08    0    0.00 XXX   0 X    0.00 XXX   0 X   -0.17 LYS  88 A\n",
      "\n",
      "ASP 127 A   5.33    96 %    2.04  549   1.24    0   -0.51 LYS 129 A    0.00 XXX   0 X   -0.36 ARG 169 A\n",
      "ASP 127 A                                            0.00 XXX   0 X    0.00 XXX   0 X    0.10 GLU 162 A\n",
      "ASP 127 A                                            0.00 XXX   0 X    0.00 XXX   0 X    0.05 ASP 185 A\n",
      "ASP 127 A                                            0.00 XXX   0 X    0.00 XXX   0 X   -0.62 HIS 125 A\n",
      "ASP 127 A                                            0.00 XXX   0 X    0.00 XXX   0 X   -1.22 LYS 129 A\n",
      "ASP 127 A                                            0.00 XXX   0 X    0.00 XXX   0 X    0.81 ASP 145 A\n",
      "\n",
      "ASP 145 A   2.78   100 %    2.25  570   1.02    0   -0.30 ASN 132 A    0.00 XXX   0 X   -2.03 LYS  33 A\n",
      "ASP 145 A                                           -0.66 LYS  33 A    0.00 XXX   0 X   -0.70 HIS 125 A\n",
      "ASP 145 A                                            0.00 XXX   0 X    0.00 XXX   0 X   -0.60 LYS 129 A\n",
      "\n",
      "ASP 185 A   2.59   100 %    3.77  582   0.51    0   -1.60 HIS 119 A   -0.83 HIS 125 A   -0.21 ARG 126 A\n",
      "ASP 185 A                                            0.00 XXX   0 X   -0.80 ARG 126 A   -1.02 HIS 119 A\n",
      "ASP 185 A                                            0.00 XXX   0 X    0.00 XXX   0 X   -1.02 HIS 125 A\n",
      "\n",
      "ASP 206 A   4.05     0 %    0.28  228   0.00    0   -0.07 TRP 167 A    0.00 XXX   0 X   -0.11 ARG 214 A\n",
      "ASP 206 A                                            0.00 XXX   0 X    0.00 XXX   0 X    0.16 ASP 210 A\n",
      "\n",
      "ASP 210 A   2.84     1 %    0.51  284   0.01    0   -0.39 ARG 214 A   -0.59 ASP 206 A   -0.13 ARG 217 A\n",
      "ASP 210 A                                            0.00 XXX   0 X    0.00 XXX   0 X   -0.36 ARG 214 A\n",
      "\n",
      "ASP 223 A   3.17     0 %    0.44  277   0.00    0    0.00 XXX   0 X   -0.06 ASP 223 A   -0.08 LYS 242 A\n",
      "ASP 223 A                                            0.00 XXX   0 X   -0.27 VAL 225 A   -0.01 LYS 273 A\n",
      "ASP 223 A                                            0.00 XXX   0 X   -0.70 VAL 226 A    0.05 GLU 224 A\n",
      "\n",
      "ASP 235 A   3.91     0 %    0.35  279   0.00    0    0.00 XXX   0 X    0.00 XXX   0 X   -0.08 LYS 178 A\n",
      "ASP 235 A                                            0.00 XXX   0 X    0.00 XXX   0 X   -0.15 LYS 237 A\n",
      "\n",
      "ASP 247 A   3.75     0 %    0.27  165   0.00    0   -0.14 SER 249 A   -0.02 ASP 247 A   -0.13 LYS 250 A\n",
      "ASP 247 A                                            0.00 XXX   0 X    0.00 XXX   0 X   -0.01 ARG 260 A\n",
      "\n",
      "ASP 256 A   3.27    17 %    0.79  329   0.00    0    0.00 XXX   0 X   -0.05 ASP 256 A   -0.24 LYS 105 A\n",
      "ASP 256 A                                            0.00 XXX   0 X   -0.24 ASP 258 A   -0.05 ARG 260 A\n",
      "ASP 256 A                                            0.00 XXX   0 X   -0.81 GLY 259 A   -0.03 HIS 283 A\n",
      "ASP 256 A                                            0.00 XXX   0 X    0.00 XXX   0 X    0.09 ASP 288 A\n",
      "\n",
      "ASP 258 A   4.18     0 %    0.36  249   0.00    0    0.00 XXX   0 X    0.00 XXX   0 X   -0.11 LYS 105 A\n",
      "ASP 258 A                                            0.00 XXX   0 X    0.00 XXX   0 X    0.22 ASP 256 A\n",
      "ASP 258 A                                            0.00 XXX   0 X    0.00 XXX   0 X   -0.16 HIS 283 A\n",
      "ASP 258 A                                            0.00 XXX   0 X    0.00 XXX   0 X    0.07 ASP 288 A\n",
      "\n",
      "ASP 270 A   2.41    18 %    1.03  331   0.09    0   -0.72 ASN 272 A   -0.72 ASN 272 A   -0.10 ARG 274 A\n",
      "ASP 270 A                                           -0.56 LYS 273 A    0.00 XXX   0 X   -0.05 HIS 268 A\n",
      "ASP 270 A                                            0.00 XXX   0 X    0.00 XXX   0 X   -0.38 LYS 273 A\n",
      "\n",
      "ASP 288 A   2.67     0 %    0.36  260   0.00    0   -0.85 LYS 105 A   -0.23 ASP 288 A   -0.41 LYS 105 A\n",
      "\n",
      "GLU   2 A   3.41     0 %    0.23  185   0.00    0   -0.30 N+    1 A   -0.62 GLU   2 A   -0.06 LYS  24 A\n",
      "GLU   2 A                                            0.00 XXX   0 X    0.00 XXX   0 X   -0.34 N+    1 A\n",
      "\n",
      "GLU   8 A   4.49     0 %    0.22  219   0.00    0    0.00 XXX   0 X    0.00 XXX   0 X   -0.18 LYS  20 A\n",
      "GLU   8 A                                            0.00 XXX   0 X    0.00 XXX   0 X   -0.06 LYS  89 A\n",
      "GLU   8 A                                            0.00 XXX   0 X    0.00 XXX   0 X    0.01 C-  298 A\n",
      "\n",
      "GLU  12 A   4.21     0 %    0.44  276   0.00    0   -0.10 ARG  36 A    0.00 XXX   0 X   -0.29 LYS   9 A\n",
      "GLU  12 A                                            0.00 XXX   0 X    0.00 XXX   0 X   -0.25 ARG  36 A\n",
      "GLU  12 A                                            0.00 XXX   0 X    0.00 XXX   0 X   -0.10 HIS 161 A\n",
      "\n",
      "GLU  28 A   4.00     0 %    0.29  248   0.00    0   -0.81 THR  26 A    0.00 XXX   0 X   -0.03 LYS  65 A\n",
      "GLU  28 A                                            0.00 XXX   0 X    0.00 XXX   0 X    0.05 ASP  68 A\n",
      "\n",
      "GLU  40 A   4.63     0 %    0.08  108   0.00    0    0.00 XXX   0 X    0.00 XXX   0 X    0.06 ASP  38 A\n",
      "\n",
      "GLU  42 A   4.57     0 %    0.07  118   0.00    0    0.00 XXX   0 X    0.00 XXX   0 X    0.00 XXX   0 X\n",
      "\n",
      "GLU  51 A   4.90    13 %    0.40  319   0.05    0    0.00 XXX   0 X    0.00 XXX   0 X   -0.05 ARG 126 A\n",
      "\n",
      "GLU  57 A   4.61     0 %    0.13  185   0.00    0    0.00 XXX   0 X    0.00 XXX   0 X   -0.01 LYS  56 A\n",
      "GLU  57 A                                            0.00 XXX   0 X    0.00 XXX   0 X   -0.01 HIS 121 A\n",
      "\n",
      "GLU  73 A   4.42     0 %    0.11  138   0.00    0    0.00 XXX   0 X    0.00 XXX   0 X   -0.09 N+    1 A\n",
      "GLU  73 A                                            0.00 XXX   0 X    0.00 XXX   0 X   -0.15 LYS  75 A\n",
      "GLU  73 A                                            0.00 XXX   0 X    0.00 XXX   0 X    0.06 GLU   2 A\n",
      "\n",
      "GLU  81 A   3.99    49 %    1.41  418   0.27    0   -0.66 LYS 142 A   -0.84 LYS  65 A   -0.09 LYS  65 A\n",
      "GLU  81 A                                            0.00 XXX   0 X    0.00 XXX   0 X   -0.61 LYS 142 A\n",
      "\n",
      "GLU 138 A   4.45     0 %    0.12  201   0.00    0    0.00 XXX   0 X    0.00 XXX   0 X   -0.04 LYS 142 A\n",
      "GLU 138 A                                            0.00 XXX   0 X    0.00 XXX   0 X   -0.14 LYS 291 A\n",
      "\n",
      "GLU 162 A   4.43    25 %    1.14  351   0.09    0   -0.35 THR  14 A   -0.65 TYR 159 A   -0.13 ARG  36 A\n",
      "GLU 162 A                                            0.00 XXX   0 X    0.00 XXX   0 X   -0.15 LYS 129 A\n",
      "GLU 162 A                                            0.00 XXX   0 X    0.00 XXX   0 X   -0.06 ARG 169 A\n",
      "GLU 162 A                                            0.00 XXX   0 X    0.00 XXX   0 X    0.03 GLU  12 A\n",
      "GLU 162 A                                            0.00 XXX   0 X    0.00 XXX   0 X    0.02 ASP 145 A\n",
      "\n",
      "GLU 172 A   4.55    93 %    3.65  542   0.29    0   -1.44 ARG 274 A   -0.74 GLU 172 A    0.06 ASP 270 A\n",
      "GLU 172 A                                            0.00 XXX   0 X    0.00 XXX   0 X   -1.76 ARG 274 A\n",
      "\n",
      "GLU 195 A   6.06    73 %    2.24  485   0.17    0   -0.85 TYR 168 A    0.00 XXX   0 X   -0.08 LYS  88 A\n",
      "GLU 195 A                                            0.00 XXX   0 X    0.00 XXX   0 X    0.08 ASP  92 A\n",
      "\n",
      "GLU 208 A   4.91    29 %    0.57  362   0.13    0    0.00 XXX   0 X    0.00 XXX   0 X   -0.32 ARG 169 A\n",
      "GLU 208 A                                            0.00 XXX   0 X    0.00 XXX   0 X   -0.09 LYS 178 A\n",
      "GLU 208 A                                            0.00 XXX   0 X    0.00 XXX   0 X    0.12 ASP 235 A\n",
      "\n",
      "GLU 224 A   2.65     0 %    0.51  231   0.00    0   -0.82 THR 231 A   -0.85 GLY 229 A   -0.01 LYS 273 A\n",
      "GLU 224 A                                            0.00 XXX   0 X   -0.70 THR 231 A    0.01 ASP 270 A\n",
      "\n",
      "GLU 257 A   4.28     0 %    0.31  240   0.00    0   -0.27 ARG 260 A    0.00 XXX   0 X    0.04 ASP 256 A\n",
      "GLU 257 A                                            0.00 XXX   0 X    0.00 XXX   0 X    0.06 ASP 258 A\n",
      "GLU 257 A                                            0.00 XXX   0 X    0.00 XXX   0 X   -0.01 HIS 283 A\n",
      "GLU 257 A                                            0.00 XXX   0 X    0.00 XXX   0 X   -0.36 ARG 260 A\n",
      "\n",
      "C-  298 A   3.04     0 %    0.17  187   0.00    0    0.00 XXX   0 X    0.00 XXX   0 X   -0.03 LYS  20 A\n",
      "C-  298 A                                            0.00 XXX   0 X    0.00 XXX   0 X   -0.14 LYS  89 A\n",
      "C-  298 A                                            0.00 XXX   0 X    0.00 XXX   0 X   -0.09 ARG 297 A\n",
      "C-  298 A                                            0.00 XXX   0 X    0.00 XXX   0 X   -0.07 HIS  84 A\n",
      "\n",
      "HIS  60 A   5.17    33 %   -1.30  375   0.00    0    0.00 XXX   0 X    0.00 XXX   0 X   -0.02 LYS 142 A\n",
      "HIS  60 A                                            0.00 XXX   0 X    0.00 XXX   0 X   -0.01 HIS 121 A\n",
      "\n",
      "HIS  71 A   6.01     2 %   -0.49  287   0.00    0    0.00 XXX   0 X    0.00 XXX   0 X    0.00 XXX   0 X\n",
      "\n",
      "HIS  84 A   5.78    13 %   -0.55  317   0.00    0    0.00 XXX   0 X    0.00 XXX   0 X   -0.24 LYS  20 A\n",
      "HIS  84 A                                            0.00 XXX   0 X    0.00 XXX   0 X   -0.01 LYS  89 A\n",
      "HIS  84 A                                            0.00 XXX   0 X    0.00 XXX   0 X    0.07 C-  298 A\n",
      "\n",
      "HIS 119 A   6.66    76 %   -2.46  495   0.00    0    1.60 ASP 185 A    0.00 XXX   0 X    1.02 ASP 185 A\n",
      "\n",
      "HIS 121 A   6.16     0 %   -0.35  252   0.00    0    0.00 XXX   0 X    0.00 XXX   0 X    0.01 GLU  57 A\n",
      "\n",
      "HIS 125 A   5.80   100 %   -3.56  610   0.00    0    0.00 XXX   0 X    0.03 HIS 125 A   -0.08 LYS  33 A\n",
      "HIS 125 A                                            0.00 XXX   0 X    0.80 ALA 144 A   -0.02 ARG 126 A\n",
      "HIS 125 A                                            0.00 XXX   0 X    0.00 XXX   0 X   -0.15 LYS 129 A\n",
      "HIS 125 A                                            0.00 XXX   0 X    0.00 XXX   0 X   -0.06 HIS 119 A\n",
      "HIS 125 A                                            0.00 XXX   0 X    0.00 XXX   0 X    0.62 ASP 127 A\n",
      "HIS 125 A                                            0.00 XXX   0 X    0.00 XXX   0 X    0.70 ASP 145 A\n",
      "HIS 125 A                                            0.00 XXX   0 X    0.00 XXX   0 X    1.02 ASP 185 A\n",
      "\n",
      "HIS 161 A   6.36     0 %   -0.19  125   0.00    0    0.00 XXX   0 X    0.00 XXX   0 X   -0.03 LYS   9 A\n",
      "HIS 161 A                                            0.00 XXX   0 X    0.00 XXX   0 X   -0.01 ARG  36 A\n",
      "HIS 161 A                                            0.00 XXX   0 X    0.00 XXX   0 X    0.10 GLU  12 A\n",
      "\n",
      "HIS 268 A   5.17    45 %   -1.03  406   0.00    0    0.00 XXX   0 X    0.00 XXX   0 X   -0.14 ARG 245 A\n",
      "HIS 268 A                                            0.00 XXX   0 X    0.00 XXX   0 X   -0.10 LYS 273 A\n",
      "HIS 268 A                                            0.00 XXX   0 X    0.00 XXX   0 X   -0.10 ARG 274 A\n",
      "HIS 268 A                                            0.00 XXX   0 X    0.00 XXX   0 X    0.05 ASP 270 A\n",
      "\n",
      "HIS 283 A   5.54    23 %   -1.14  346   0.00    0    0.00 XXX   0 X    0.00 XXX   0 X   -0.02 LYS 105 A\n",
      "HIS 283 A                                            0.00 XXX   0 X    0.00 XXX   0 X    0.03 ASP 256 A\n",
      "HIS 283 A                                            0.00 XXX   0 X    0.00 XXX   0 X    0.01 GLU 257 A\n",
      "HIS 283 A                                            0.00 XXX   0 X    0.00 XXX   0 X    0.16 ASP 258 A\n",
      "\n",
      "HIS 295 A   6.30     0 %   -0.17  210   0.00    0    0.00 XXX   0 X    0.00 XXX   0 X   -0.03 ARG 297 A\n",
      "\n",
      "CYS 118 A  12.30    80 %    3.01  504   0.00    0    0.00 XXX   0 X   -0.08 CYS 118 A    0.37 ASP 185 A\n",
      "\n",
      "CYS 177 A   9.66    23 %    0.93  346   0.00    0    0.00 XXX   0 X   -0.42 TYR 179 A   -0.03 ARG 150 A\n",
      "CYS 177 A                                            0.00 XXX   0 X    0.00 XXX   0 X   -0.02 LYS 178 A\n",
      "CYS 177 A                                            0.00 XXX   0 X    0.00 XXX   0 X    0.21 GLU 172 A\n",
      "\n",
      "CYS 191 A  12.82   100 %    3.80  656   0.00    0   -0.05 TRP 187 A   -0.02 CYS 191 A   -0.11 ARG 274 A\n",
      "CYS 191 A                                            0.00 XXX   0 X    0.00 XXX   0 X    0.20 GLU 195 A\n",
      "\n",
      "TYR  15 A  12.29    72 %    1.74  482   0.00    0    0.00 XXX   0 X    0.00 XXX   0 X   -0.14 ARG 126 A\n",
      "TYR  15 A                                            0.00 XXX   0 X    0.00 XXX   0 X    0.24 ASP 127 A\n",
      "TYR  15 A                                            0.00 XXX   0 X    0.00 XXX   0 X    0.32 ASP 145 A\n",
      "TYR  15 A                                            0.00 XXX   0 X    0.00 XXX   0 X   -0.10 ARG 150 A\n",
      "TYR  15 A                                            0.00 XXX   0 X    0.00 XXX   0 X    0.05 GLU 162 A\n",
      "TYR  15 A                                            0.00 XXX   0 X    0.00 XXX   0 X   -0.00 ARG 169 A\n",
      "TYR  15 A                                            0.00 XXX   0 X    0.00 XXX   0 X    0.18 TYR 180 A\n",
      "\n",
      "TYR  19 A   9.71*    5 %    0.47  295   0.00    0   -0.09 LYS   6 A    0.00 XXX   0 X    0.08 GLU  12 A\n",
      "TYR  19 A                                            0.00 XXX   0 X    0.00 XXX   0 X   -0.21 LYS   9 A\n",
      "TYR  19 A                                            0.00 XXX   0 X    0.00 XXX   0 X   -0.13 LYS  34 A\n",
      "TYR  19 A                                            0.00 XXX   0 X    0.00 XXX   0 X   -0.41 LYS   6 A\n",
      "\n",
      "TYR  77 A  10.58    20 %    0.82  336   0.00    0    0.00 XXX   0 X    0.00 XXX   0 X    0.05 GLU  73 A\n",
      "TYR  77 A                                            0.00 XXX   0 X    0.00 XXX   0 X   -0.17 LYS   6 A\n",
      "TYR  77 A                                            0.00 XXX   0 X    0.00 XXX   0 X    0.05 TYR  19 A\n",
      "TYR  77 A                                            0.00 XXX   0 X    0.00 XXX   0 X   -0.18 LYS  75 A\n",
      "\n",
      "TYR 107 A  12.79    72 %    2.79  482   0.00    0    0.00 XXX   0 X    0.00 XXX   0 X    0.00 XXX   0 X\n",
      "\n",
      "TYR 159 A  11.21    16 %    0.88  325   0.00    0    0.00 XXX   0 X    0.00 XXX   0 X    0.29 GLU  12 A\n",
      "TYR 159 A                                            0.00 XXX   0 X    0.00 XXX   0 X   -0.22 ARG  36 A\n",
      "TYR 159 A                                            0.00 XXX   0 X    0.00 XXX   0 X    0.01 ASP 127 A\n",
      "TYR 159 A                                            0.00 XXX   0 X    0.00 XXX   0 X    0.06 ASP 145 A\n",
      "TYR 159 A                                            0.00 XXX   0 X    0.00 XXX   0 X    0.32 GLU 162 A\n",
      "TYR 159 A                                            0.00 XXX   0 X    0.00 XXX   0 X   -0.14 LYS 129 A\n",
      "\n",
      "TYR 168 A  15.15    80 %    2.92  504   0.00    0    0.85 GLU 195 A    0.00 XXX   0 X    0.03 ASP  92 A\n",
      "TYR 168 A                                            0.00 XXX   0 X    0.00 XXX   0 X    0.35 CYS 191 A\n",
      "TYR 168 A                                            0.00 XXX   0 X    0.00 XXX   0 X    1.01 GLU 195 A\n",
      "\n",
      "TYR 179 A  10.02     0 %    0.11  140   0.00    0    0.00 XXX   0 X    0.00 XXX   0 X   -0.08 ARG 150 A\n",
      "TYR 179 A                                            0.00 XXX   0 X    0.00 XXX   0 X    0.02 CYS 177 A\n",
      "TYR 179 A                                            0.00 XXX   0 X    0.00 XXX   0 X   -0.03 LYS 178 A\n",
      "\n",
      "TYR 180 A  10.02    56 %    1.84  439   0.00    0   -0.83 ARG 126 A    0.00 XXX   0 X   -0.64 ARG 126 A\n",
      "TYR 180 A                                           -0.01 ARG 150 A    0.00 XXX   0 X    0.07 ASP 127 A\n",
      "TYR 180 A                                            0.00 XXX   0 X    0.00 XXX   0 X   -0.52 ARG 150 A\n",
      "TYR 180 A                                            0.00 XXX   0 X    0.00 XXX   0 X   -0.08 ARG 169 A\n",
      "TYR 180 A                                            0.00 XXX   0 X    0.00 XXX   0 X    0.02 GLU 172 A\n",
      "TYR 180 A                                            0.00 XXX   0 X    0.00 XXX   0 X    0.05 CYS 177 A\n",
      "TYR 180 A                                            0.00 XXX   0 X    0.00 XXX   0 X    0.20 ASP 185 A\n",
      "TYR 180 A                                            0.00 XXX   0 X    0.00 XXX   0 X   -0.07 LYS 178 A\n",
      "\n",
      "TYR 236 A  10.40     6 %    0.60  299   0.00    0    0.00 XXX   0 X    0.00 XXX   0 X    0.06 ASP 223 A\n",
      "TYR 236 A                                            0.00 XXX   0 X    0.00 XXX   0 X    0.06 GLU 224 A\n",
      "TYR 236 A                                            0.00 XXX   0 X    0.00 XXX   0 X   -0.31 LYS 242 A\n",
      "\n",
      "TYR 269 A  14.15   100 %    4.35  561   0.00    0    0.00 XXX   0 X    0.00 XXX   0 X    0.01 ASP 223 A\n",
      "TYR 269 A                                            0.00 XXX   0 X    0.00 XXX   0 X   -0.21 ARG 245 A\n",
      "\n",
      "LYS   6 A  10.42*   13 %   -0.58  318   0.00    0    0.09 TYR  19 A    0.00 XXX   0 X   -0.02 LYS   9 A\n",
      "LYS   6 A                                            0.00 XXX   0 X    0.00 XXX   0 X   -0.16 LYS  34 A\n",
      "LYS   6 A                                            0.00 XXX   0 X    0.00 XXX   0 X    0.17 TYR  77 A\n",
      "LYS   6 A                                            0.00 XXX   0 X    0.00 XXX   0 X    0.41 TYR  19 A\n",
      "\n",
      "LYS   9 A  10.75     0 %   -0.23  223   0.00    0    0.00 XXX   0 X    0.00 XXX   0 X    0.29 GLU  12 A\n",
      "LYS   9 A                                            0.00 XXX   0 X    0.00 XXX   0 X   -0.01 ARG  36 A\n",
      "LYS   9 A                                            0.00 XXX   0 X    0.00 XXX   0 X    0.21 TYR  19 A\n",
      "\n",
      "LYS  20 A  10.27     0 %   -0.36  273   0.00    0    0.00 XXX   0 X    0.00 XXX   0 X    0.18 GLU   8 A\n",
      "LYS  20 A                                            0.00 XXX   0 X    0.00 XXX   0 X   -0.08 ARG  22 A\n",
      "LYS  20 A                                            0.00 XXX   0 X    0.00 XXX   0 X    0.03 C-  298 A\n",
      "\n",
      "LYS  24 A  10.34     0 %   -0.22  167   0.00    0    0.00 XXX   0 X    0.00 XXX   0 X    0.06 GLU   2 A\n",
      "\n",
      "LYS  33 A  10.49   100 %   -2.61  571   0.00    0    0.66 ASP 145 A    0.00 XXX   0 X   -0.04 ARG  36 A\n",
      "LYS  33 A                                            0.00 XXX   0 X    0.00 XXX   0 X   -0.05 LYS 129 A\n",
      "LYS  33 A                                            0.00 XXX   0 X    0.00 XXX   0 X    2.03 ASP 145 A\n",
      "\n",
      "LYS  34 A  10.27    16 %   -0.36  325   0.00    0    0.00 XXX   0 X    0.00 XXX   0 X   -0.00 ARG  36 A\n",
      "LYS  34 A                                            0.00 XXX   0 X    0.00 XXX   0 X    0.13 TYR  19 A\n",
      "\n",
      "LYS  56 A  10.62     0 %   -0.29  257   0.00    0    0.07 ASP  68 A    0.00 XXX   0 X    0.01 GLU  57 A\n",
      "LYS  56 A                                            0.00 XXX   0 X    0.00 XXX   0 X    0.32 ASP  68 A\n",
      "\n",
      "LYS  65 A  10.33     0 %   -0.23  260   0.00    0    0.00 XXX   0 X    0.00 XXX   0 X    0.03 GLU  28 A\n",
      "LYS  65 A                                            0.00 XXX   0 X    0.00 XXX   0 X    0.03 ASP  68 A\n",
      "LYS  65 A                                            0.00 XXX   0 X    0.00 XXX   0 X    0.09 GLU  81 A\n",
      "LYS  65 A                                            0.00 XXX   0 X    0.00 XXX   0 X   -0.07 LYS  56 A\n",
      "LYS  65 A                                            0.00 XXX   0 X    0.00 XXX   0 X   -0.03 LYS 142 A\n",
      "\n",
      "LYS  75 A  10.50     0 %   -0.15  206   0.00    0    0.00 XXX   0 X    0.00 XXX   0 X    0.15 GLU  73 A\n",
      "LYS  75 A                                            0.00 XXX   0 X    0.00 XXX   0 X   -0.18 LYS  34 A\n",
      "LYS  75 A                                            0.00 XXX   0 X    0.00 XXX   0 X    0.18 TYR  77 A\n",
      "\n",
      "LYS  88 A  10.34    23 %   -0.48  347   0.00    0    0.00 XXX   0 X    0.00 XXX   0 X    0.14 ASP  86 A\n",
      "LYS  88 A                                            0.00 XXX   0 X    0.00 XXX   0 X    0.17 ASP  92 A\n",
      "LYS  88 A                                            0.00 XXX   0 X    0.00 XXX   0 X    0.08 GLU 195 A\n",
      "LYS  88 A                                            0.00 XXX   0 X    0.00 XXX   0 X   -0.06 LYS 129 A\n",
      "\n",
      "LYS  89 A  10.57     0 %   -0.21  265   0.00    0    0.00 XXX   0 X    0.00 XXX   0 X    0.06 GLU   8 A\n",
      "LYS  89 A                                            0.00 XXX   0 X    0.00 XXX   0 X    0.10 ASP  86 A\n",
      "LYS  89 A                                            0.00 XXX   0 X    0.00 XXX   0 X   -0.02 ARG 297 A\n",
      "LYS  89 A                                            0.00 XXX   0 X    0.00 XXX   0 X    0.14 C-  298 A\n",
      "\n",
      "LYS 105 A  10.87    23 %   -1.24  346   0.00    0    0.85 ASP 288 A    0.00 XXX   0 X    0.24 ASP 256 A\n",
      "LYS 105 A                                            0.00 XXX   0 X    0.00 XXX   0 X    0.11 ASP 258 A\n",
      "LYS 105 A                                            0.00 XXX   0 X    0.00 XXX   0 X    0.41 ASP 288 A\n",
      "\n",
      "LYS 129 A  11.47    73 %   -1.57  485   0.00    0    0.51 ASP 127 A    0.00 XXX   0 X    0.15 GLU 162 A\n",
      "LYS 129 A                                            0.00 XXX   0 X    0.00 XXX   0 X   -0.08 ARG 169 A\n",
      "LYS 129 A                                            0.00 XXX   0 X    0.00 XXX   0 X    0.14 TYR 159 A\n",
      "LYS 129 A                                            0.00 XXX   0 X    0.00 XXX   0 X    1.22 ASP 127 A\n",
      "LYS 129 A                                            0.00 XXX   0 X    0.00 XXX   0 X    0.60 ASP 145 A\n",
      "\n",
      "LYS 142 A  10.68    41 %   -1.12  397   0.00    0    0.66 GLU  81 A    0.00 XXX   0 X    0.04 GLU 138 A\n",
      "LYS 142 A                                            0.00 XXX   0 X    0.00 XXX   0 X    0.61 GLU  81 A\n",
      "\n",
      "LYS 178 A  10.44     0 %   -0.19  281   0.00    0    0.00 XXX   0 X    0.00 XXX   0 X   -0.11 ARG 150 A\n",
      "LYS 178 A                                            0.00 XXX   0 X    0.00 XXX   0 X   -0.06 ARG 169 A\n",
      "LYS 178 A                                            0.00 XXX   0 X    0.00 XXX   0 X    0.02 CYS 177 A\n",
      "LYS 178 A                                            0.00 XXX   0 X    0.00 XXX   0 X    0.09 GLU 208 A\n",
      "LYS 178 A                                            0.00 XXX   0 X    0.00 XXX   0 X    0.08 ASP 235 A\n",
      "LYS 178 A                                            0.00 XXX   0 X    0.00 XXX   0 X    0.03 TYR 179 A\n",
      "LYS 178 A                                            0.00 XXX   0 X    0.00 XXX   0 X    0.07 TYR 180 A\n",
      "\n",
      "LYS 237 A  10.47     0 %   -0.18  180   0.00    0    0.00 XXX   0 X    0.00 XXX   0 X    0.15 ASP 235 A\n",
      "\n",
      "LYS 242 A  10.67     0 %   -0.23  241   0.00    0    0.00 XXX   0 X    0.00 XXX   0 X    0.08 ASP 223 A\n",
      "LYS 242 A                                            0.00 XXX   0 X    0.00 XXX   0 X    0.31 TYR 236 A\n",
      "\n",
      "LYS 250 A  10.50     0 %   -0.14  195   0.00    0    0.00 XXX   0 X    0.00 XXX   0 X    0.13 ASP 247 A\n",
      "\n",
      "LYS 273 A  10.90     0 %   -0.55  258   0.00    0    0.56 ASP 270 A    0.00 XXX   0 X    0.01 ASP 223 A\n",
      "LYS 273 A                                            0.00 XXX   0 X    0.00 XXX   0 X    0.01 GLU 224 A\n",
      "LYS 273 A                                            0.00 XXX   0 X    0.00 XXX   0 X    0.38 ASP 270 A\n",
      "\n",
      "LYS 278 A  10.43     0 %   -0.07  151   0.00    0    0.00 XXX   0 X    0.00 XXX   0 X    0.00 XXX   0 X\n",
      "\n",
      "LYS 291 A  10.30     3 %   -0.30  290   0.00    0    0.00 XXX   0 X    0.00 XXX   0 X    0.14 GLU 138 A\n",
      "LYS 291 A                                            0.00 XXX   0 X    0.00 XXX   0 X   -0.03 LYS 142 A\n",
      "\n",
      "ARG  22 A  12.28     0 %   -0.22  207   0.00    0    0.00 XXX   0 X    0.00 XXX   0 X    0.00 XXX   0 X\n",
      "\n",
      "ARG  36 A  12.01    28 %   -1.25  361   0.00    0    0.10 GLU  12 A    0.00 XXX   0 X    0.25 GLU  12 A\n",
      "ARG  36 A                                            0.00 XXX   0 X    0.00 XXX   0 X    0.05 ASP  38 A\n",
      "ARG  36 A                                            0.00 XXX   0 X    0.00 XXX   0 X    0.22 TYR 159 A\n",
      "ARG  36 A                                            0.00 XXX   0 X    0.00 XXX   0 X    0.13 GLU 162 A\n",
      "\n",
      "ARG  50 A  12.32     0 %   -0.18  133   0.00    0    0.00 XXX   0 X    0.00 XXX   0 X    0.00 XXX   0 X\n",
      "\n",
      "ARG 122 A  12.40     0 %   -0.10  173   0.00    0    0.00 XXX   0 X    0.00 XXX   0 X    0.00 XXX   0 X\n",
      "\n",
      "ARG 126 A  13.00    48 %   -1.36  416   0.00    0    0.83 TYR 180 A    0.00 XXX   0 X    0.14 TYR  15 A\n",
      "ARG 126 A                                            0.00 XXX   0 X    0.00 XXX   0 X    0.05 GLU  51 A\n",
      "ARG 126 A                                            0.00 XXX   0 X    0.00 XXX   0 X    0.64 TYR 180 A\n",
      "ARG 126 A                                            0.00 XXX   0 X    0.00 XXX   0 X    0.21 ASP 185 A\n",
      "\n",
      "ARG 150 A  12.22    16 %   -0.61  327   0.00    0    0.01 TYR 180 A    0.00 XXX   0 X    0.10 TYR  15 A\n",
      "ARG 150 A                                            0.00 XXX   0 X    0.00 XXX   0 X    0.03 CYS 177 A\n",
      "ARG 150 A                                            0.00 XXX   0 X    0.00 XXX   0 X    0.08 TYR 179 A\n",
      "ARG 150 A                                            0.00 XXX   0 X    0.00 XXX   0 X    0.52 TYR 180 A\n",
      "ARG 150 A                                            0.00 XXX   0 X    0.00 XXX   0 X   -0.40 ARG 126 A\n",
      "\n",
      "ARG 157 A  12.50     0 %   -0.08  139   0.00    0    0.00 XXX   0 X    0.00 XXX   0 X    0.08 ASP  38 A\n",
      "\n",
      "ARG 169 A  11.99    66 %   -1.33  466   0.00    0    0.00 XXX   0 X    0.00 XXX   0 X    0.00 TYR  15 A\n",
      "ARG 169 A                                            0.00 XXX   0 X    0.00 XXX   0 X    0.36 ASP 127 A\n",
      "ARG 169 A                                            0.00 XXX   0 X    0.00 XXX   0 X    0.06 GLU 162 A\n",
      "ARG 169 A                                            0.00 XXX   0 X    0.00 XXX   0 X    0.08 TYR 180 A\n",
      "ARG 169 A                                            0.00 XXX   0 X    0.00 XXX   0 X    0.32 GLU 208 A\n",
      "\n",
      "ARG 199 A  12.15     0 %   -0.32  230   0.00    0    0.00 XXX   0 X    0.00 XXX   0 X   -0.03 ARG 200 A\n",
      "\n",
      "ARG 200 A  12.38     0 %   -0.12  211   0.00    0    0.00 XXX   0 X    0.00 XXX   0 X    0.00 XXX   0 X\n",
      "\n",
      "ARG 214 A  12.92     5 %   -0.45  294   0.00    0    0.39 ASP 210 A    0.00 XXX   0 X    0.11 ASP 206 A\n",
      "ARG 214 A                                            0.00 XXX   0 X    0.00 XXX   0 X    0.36 ASP 210 A\n",
      "\n",
      "ARG 217 A  12.10     0 %   -0.42  269   0.00    0    0.00 XXX   0 X    0.00 XXX   0 X    0.13 ASP 210 A\n",
      "ARG 217 A                                            0.00 XXX   0 X    0.00 XXX   0 X   -0.10 ARG 214 A\n",
      "\n",
      "ARG 245 A  11.64    48 %   -1.07  415   0.00    0    0.00 XXX   0 X    0.00 XXX   0 X    0.21 TYR 269 A\n",
      "\n",
      "ARG 260 A  12.86     0 %   -0.33  228   0.00    0    0.27 GLU 257 A    0.00 XXX   0 X    0.01 ASP 247 A\n",
      "ARG 260 A                                            0.00 XXX   0 X    0.00 XXX   0 X    0.05 ASP 256 A\n",
      "ARG 260 A                                            0.00 XXX   0 X    0.00 XXX   0 X    0.36 GLU 257 A\n",
      "\n",
      "ARG 274 A  12.26    99 %   -3.65  558   0.00    0    1.44 GLU 172 A    0.00 XXX   0 X    0.11 CYS 191 A\n",
      "ARG 274 A                                            0.00 XXX   0 X    0.00 XXX   0 X    0.10 ASP 270 A\n",
      "ARG 274 A                                            0.00 XXX   0 X    0.00 XXX   0 X    1.76 GLU 172 A\n",
      "\n",
      "ARG 297 A  12.54     0 %   -0.05  111   0.00    0    0.00 XXX   0 X    0.00 XXX   0 X    0.09 C-  298 A\n",
      "\n",
      "N+    1 A   8.27     0 %   -0.44  277   0.00    0    0.30 GLU   2 A    0.00 XXX   0 X   -0.00 LYS   6 A\n",
      "N+    1 A                                            0.00 XXX   0 X    0.00 XXX   0 X   -0.02 LYS  24 A\n",
      "N+    1 A                                            0.00 XXX   0 X    0.00 XXX   0 X    0.09 GLU  73 A\n",
      "N+    1 A                                            0.00 XXX   0 X    0.00 XXX   0 X    0.34 GLU   2 A\n",
      "\n",
      "Coupled residues (marked *) were detected.Please rerun PropKa with the --display-coupled-residues \n",
      "or -d option for detailed information.\n",
      "\n",
      "INFO:pKa summary:\n",
      "--------------------------------------------------------------------------------------------------------\n",
      "SUMMARY OF THIS PREDICTION\n",
      "       Group      pKa  model-pKa   ligand atom-type\n",
      "   ASP  38 A     3.97       3.80                      \n",
      "   ASP  68 A     3.92       3.80                      \n",
      "   ASP  86 A     4.91       3.80                      \n",
      "   ASP  92 A     4.12       3.80                      \n",
      "   ASP 127 A     5.33       3.80                      \n",
      "   ASP 145 A     2.78       3.80                      \n",
      "   ASP 185 A     2.59       3.80                      \n",
      "   ASP 206 A     4.05       3.80                      \n",
      "   ASP 210 A     2.84       3.80                      \n",
      "   ASP 223 A     3.17       3.80                      \n",
      "   ASP 235 A     3.91       3.80                      \n",
      "   ASP 247 A     3.75       3.80                      \n",
      "   ASP 256 A     3.27       3.80                      \n",
      "   ASP 258 A     4.18       3.80                      \n",
      "   ASP 270 A     2.41       3.80                      \n",
      "   ASP 288 A     2.67       3.80                      \n",
      "   GLU   2 A     3.41       4.50                      \n",
      "   GLU   8 A     4.49       4.50                      \n",
      "   GLU  12 A     4.21       4.50                      \n",
      "   GLU  28 A     4.00       4.50                      \n",
      "   GLU  40 A     4.63       4.50                      \n",
      "   GLU  42 A     4.57       4.50                      \n",
      "   GLU  51 A     4.90       4.50                      \n",
      "   GLU  57 A     4.61       4.50                      \n",
      "   GLU  73 A     4.42       4.50                      \n",
      "   GLU  81 A     3.99       4.50                      \n",
      "   GLU 138 A     4.45       4.50                      \n",
      "   GLU 162 A     4.43       4.50                      \n",
      "   GLU 172 A     4.55       4.50                      \n",
      "   GLU 195 A     6.06       4.50                      \n",
      "   GLU 208 A     4.91       4.50                      \n",
      "   GLU 224 A     2.65       4.50                      \n",
      "   GLU 257 A     4.28       4.50                      \n",
      "   C-  298 A     3.04       3.20                      \n",
      "   HIS  60 A     5.17       6.50                      \n",
      "   HIS  71 A     6.01       6.50                      \n",
      "   HIS  84 A     5.78       6.50                      \n",
      "   HIS 119 A     6.66       6.50                      \n",
      "   HIS 121 A     6.16       6.50                      \n",
      "   HIS 125 A     5.80       6.50                      \n",
      "   HIS 161 A     6.36       6.50                      \n",
      "   HIS 268 A     5.17       6.50                      \n",
      "   HIS 283 A     5.54       6.50                      \n",
      "   HIS 295 A     6.30       6.50                      \n",
      "   CYS 118 A    12.30       9.00                      \n",
      "   CYS 177 A     9.66       9.00                      \n",
      "   CYS 191 A    12.82       9.00                      \n",
      "   TYR  15 A    12.29      10.00                      \n",
      "   TYR  19 A     9.71      10.00                      \n",
      "   TYR  77 A    10.58      10.00                      \n",
      "   TYR 107 A    12.79      10.00                      \n",
      "   TYR 159 A    11.21      10.00                      \n",
      "   TYR 168 A    15.15      10.00                      \n",
      "   TYR 179 A    10.02      10.00                      \n",
      "   TYR 180 A    10.02      10.00                      \n",
      "   TYR 236 A    10.40      10.00                      \n",
      "   TYR 269 A    14.15      10.00                      \n",
      "   LYS   6 A    10.42      10.50                      \n",
      "   LYS   9 A    10.75      10.50                      \n",
      "   LYS  20 A    10.27      10.50                      \n",
      "   LYS  24 A    10.34      10.50                      \n",
      "   LYS  33 A    10.49      10.50                      \n",
      "   LYS  34 A    10.27      10.50                      \n",
      "   LYS  56 A    10.62      10.50                      \n",
      "   LYS  65 A    10.33      10.50                      \n",
      "   LYS  75 A    10.50      10.50                      \n",
      "   LYS  88 A    10.34      10.50                      \n",
      "   LYS  89 A    10.57      10.50                      \n",
      "   LYS 105 A    10.87      10.50                      \n",
      "   LYS 129 A    11.47      10.50                      \n",
      "   LYS 142 A    10.68      10.50                      \n",
      "   LYS 178 A    10.44      10.50                      \n",
      "   LYS 237 A    10.47      10.50                      \n",
      "   LYS 242 A    10.67      10.50                      \n",
      "   LYS 250 A    10.50      10.50                      \n",
      "   LYS 273 A    10.90      10.50                      \n",
      "   LYS 278 A    10.43      10.50                      \n",
      "   LYS 291 A    10.30      10.50                      \n",
      "   ARG  22 A    12.28      12.50                      \n",
      "   ARG  36 A    12.01      12.50                      \n",
      "   ARG  50 A    12.32      12.50                      \n",
      "   ARG 122 A    12.40      12.50                      \n",
      "   ARG 126 A    13.00      12.50                      \n",
      "   ARG 150 A    12.22      12.50                      \n",
      "   ARG 157 A    12.50      12.50                      \n",
      "   ARG 169 A    11.99      12.50                      \n",
      "   ARG 199 A    12.15      12.50                      \n",
      "   ARG 200 A    12.38      12.50                      \n",
      "   ARG 214 A    12.92      12.50                      \n",
      "   ARG 217 A    12.10      12.50                      \n",
      "   ARG 245 A    11.64      12.50                      \n",
      "   ARG 260 A    12.86      12.50                      \n",
      "   ARG 274 A    12.26      12.50                      \n",
      "   ARG 297 A    12.54      12.50                      \n",
      "   N+    1 A     8.27       8.00                      \n",
      "\n",
      "INFO:PROPKA information:\n",
      "--------------------------------------------------------------------------------------------------------\n",
      "Free energy of   folding (kcal/mol) as a function of pH (using neutral reference)\n",
      "  0.00     38.03\n",
      "  1.00     37.95\n",
      "  2.00     37.29\n",
      "  3.00     33.94\n",
      "  4.00     29.25\n",
      "  5.00     28.29\n",
      "  6.00     26.60\n",
      "  7.00     23.84\n",
      "  8.00     23.39\n",
      "  9.00     24.69\n",
      " 10.00     29.14\n",
      " 11.00     37.54\n",
      " 12.00     44.99\n",
      " 13.00     49.19\n",
      " 14.00     52.12\n",
      "\n",
      "The pH of optimum stability is  7.7 for which the free energy is   23.3 kcal/mol at 298K\n",
      "Could not determine pH values where the free energy is within 80 % of minimum\n",
      "Could not determine the pH-range where the free energy is negative\n",
      "\n",
      "\n",
      "Protein charge of folded and unfolded state as a function of pH\n",
      "    pH  unfolded  folded\n",
      "  0.00     48.00   47.98\n",
      "  1.00     47.96   47.82\n",
      "  2.00     47.64   46.51\n",
      "  3.00     44.90   41.11\n",
      "  4.00     33.21   31.11\n",
      "  5.00     18.74   18.58\n",
      "  6.00     12.21    9.87\n",
      "  7.00      6.33    5.19\n",
      "  8.00      3.37    3.66\n",
      "  9.00      0.07    1.92\n",
      " 10.00     -9.81   -4.91\n",
      " 11.00    -25.51  -18.86\n",
      " 12.00    -34.10  -30.12\n",
      " 13.00    -43.08  -40.48\n",
      " 14.00    -46.50  -44.84\n",
      "The pI is  9.44 (folded) and  9.01 (unfolded)\n",
      "\n",
      "--------------------------------------------------------------------------------------------------------\n",
      "INFO:Applying pKa values at a pH of 7.40:\n",
      "INFO:Adding hydrogens to biomolecule.\n",
      "INFO:Debumping biomolecule (again).\n",
      "INFO:Optimizing hydrogen bonds\n",
      "INFO:Applying force field to biomolecule states.\n",
      "INFO:Applying custom naming scheme (amber).\n",
      "INFO:Regenerating headers.\n",
      "INFO:Regenerating PDB lines.\n",
      "WARNING:Ignoring 539 header lines in output.\n",
      "WARNING:Ignoring 539 header lines in output.\n",
      "\n",
      "None\n"
     ]
    }
   ],
   "source": [
    "# Prepare the protein using PDB2PQR\n",
    "from helper_modules.prepare_md_system import run_pdb2pqr\n",
    "OUT_PDB2PQR = 'prot.TEMP'\n",
    "run_pdb2pqr(input_pdb = INPUT_PROT,  \n",
    "            output_basename = f'{TMP_DIR}/{OUT_PDB2PQR}',\n",
    "            ph = PH,\n",
    "            verbose = True)"
   ]
  },
  {
   "cell_type": "code",
   "execution_count": 9,
   "id": "968c549e",
   "metadata": {},
   "outputs": [
    {
     "name": "stdout",
     "output_type": "stream",
     "text": [
      "1 molecule converted\n",
      "\n",
      "None\n"
     ]
    }
   ],
   "source": [
    "# Convert ligand to mol2\n",
    "# LIG ************************************************\n",
    "from helper_modules.prepare_md_system import run_obabel\n",
    "OUT_OBABEL = 'OUT_OBABEL.LIG.mol2'\n",
    "run_obabel(input_ligand = INPUT_LIG, \n",
    "           output_name = f'{TMP_DIR}/{OUT_OBABEL}', \n",
    "           ph = PH, \n",
    "           use_amber_reduce = True,\n",
    "           partial_charges = LIG_PARTIAL_CHARGES)"
   ]
  },
  {
   "cell_type": "code",
   "execution_count": 11,
   "id": "4e8bdd43",
   "metadata": {},
   "outputs": [
    {
     "name": "stdout",
     "output_type": "stream",
     "text": [
      "60K net charge: 0\n"
     ]
    }
   ],
   "source": [
    "# Get the net charge of the ligand\n",
    "from helper_modules.prepare_md_system import run_get_charge \n",
    "LIG_NET_CHARGE = run_get_charge(\n",
    "                    filename = f\"{TMP_DIR}/{OUT_OBABEL}\", \n",
    "                    round_value = True \n",
    ")\n",
    "print(f'{LIG_NAME} net charge:', LIG_NET_CHARGE)"
   ]
  },
  {
   "cell_type": "code",
   "execution_count": 12,
   "id": "919751cd",
   "metadata": {},
   "outputs": [
    {
     "data": {
      "application/vnd.jupyter.widget-view+json": {
       "model_id": "b3d01a29aa8d4c24ab8a09fc9250ad2d",
       "version_major": 2,
       "version_minor": 0
      },
      "text/plain": [
       "NGLWidget()"
      ]
     },
     "metadata": {},
     "output_type": "display_data"
    }
   ],
   "source": [
    "view1 = nglview.show_structure_file(f'{TMP_DIR}/{OUT_OBABEL}')\n",
    "view1.add_representation(repr_type='ball+stick')\n",
    "view1._remote_call('setSize', target='Widget')\n",
    "view1.camera='orthographic'\n",
    "\n",
    "view1"
   ]
  },
  {
   "cell_type": "code",
   "execution_count": 13,
   "id": "408c9c09",
   "metadata": {
    "scrolled": true
   },
   "outputs": [
    {
     "name": "stdout",
     "output_type": "stream",
     "text": [
      "\n",
      "Welcome to antechamber 20.0: molecular input file processor.\n",
      "\n",
      "acdoctor mode is on: check and diagnose problems in the input file.\n",
      "-- Check Format for mol2 File --\n",
      "   Status: pass\n",
      "Info: Finished reading file (./../data/md_system_prep/LIG_systems/4fku/4fku-LIG_intermediate_files/OUT_OBABEL.LIG.mol2); atoms read (37), bonds read (39).\n",
      "Info: Determining atomic numbers from atomic symbols which are case sensitive.\n",
      "-- Check Unusual Elements --\n",
      "   Status: pass\n",
      "-- Check Open Valences --\n",
      "   Status: pass\n",
      "-- Check Geometry --\n",
      "      for those bonded   \n",
      "      for those not bonded   \n",
      "   Status: pass\n",
      "-- Check Weird Bonds --\n",
      "   Status: pass\n",
      "-- Check Number of Units --\n",
      "   Status: pass\n",
      "acdoctor mode has completed checking the input file.\n",
      "\n",
      "Running: /Users/joelricci/miniconda/envs/biobb/bin/bondtype -j full -i ANTECHAMBER_BOND_TYPE.AC0 -o ANTECHAMBER_BOND_TYPE.AC -f ac\n",
      "\n",
      "Running: /Users/joelricci/miniconda/envs/biobb/bin/atomtype -i ANTECHAMBER_AC.AC0 -o ANTECHAMBER_AC.AC -p gaff\n",
      "Info: Total number of electrons: 186; net charge: 0\n",
      "\n",
      "Running: /Users/joelricci/miniconda/envs/biobb/bin/sqm -O -i sqm.in -o sqm.out\n",
      "\n",
      "Running: /Users/joelricci/miniconda/envs/biobb/bin/am1bcc -i ANTECHAMBER_AM1BCC_PRE.AC -o ANTECHAMBER_AM1BCC.AC -f ac -p /Users/joelricci/miniconda/envs/biobb/dat/antechamber/BCCPARM.DAT -s 2 -j 1\n",
      "\n",
      "Running: /Users/joelricci/miniconda/envs/biobb/bin/atomtype -f ac -p bcc -o ANTECHAMBER_AM1BCC.AC -i ANTECHAMBER_AM1BCC_PRE.AC\n",
      "\n",
      "\n",
      "None\n",
      "Current charge: 2.77556e-17\n",
      "\n",
      "None\n"
     ]
    }
   ],
   "source": [
    "# Run antechamber\n",
    "\n",
    "from helper_modules.prepare_md_system import run_antechamber\n",
    "run_antechamber(mol2_filename  = f'{TMP_DIR}/{OUT_OBABEL}', \n",
    "                lig_resname    = LIG_RESNAME,\n",
    "                lig_net_charge = LIG_NET_CHARGE,\n",
    "                output_dir     = TMP_DIR)"
   ]
  },
  {
   "cell_type": "code",
   "execution_count": 14,
   "id": "dfa83946",
   "metadata": {},
   "outputs": [
    {
     "name": "stdout",
     "output_type": "stream",
     "text": [
      "60K net charge: 2.77556e-17\n"
     ]
    }
   ],
   "source": [
    "# Get the net charge of the ligand\n",
    "\n",
    "from helper_modules.prepare_md_system import run_get_charge \n",
    "LIG_NET_CHARGE = run_get_charge(\n",
    "                    filename = f\"{TMP_DIR}/LIG.mol2\", \n",
    "                    round_value = False \n",
    ")\n",
    "print(f'{LIG_NAME} net charge:', LIG_NET_CHARGE)"
   ]
  },
  {
   "cell_type": "code",
   "execution_count": 15,
   "id": "7f211eab",
   "metadata": {},
   "outputs": [
    {
     "name": "stdout",
     "output_type": "stream",
     "text": [
      "Remark line goes here\r\n",
      "MASS\r\n",
      "\r\n",
      "BOND\r\n",
      "\r\n",
      "ANGLE\r\n",
      "ca-cc-n2   69.200     122.210   same as cc-cc-n2, penalty score=  2.0\r\n",
      "\r\n",
      "DIHE\r\n",
      "c -cc-n2-nh   2    9.500       180.000           2.000      same as X -cc-nc-X , penalty score=218.5\r\n",
      "ca-cc-n2-nh   2    9.500       180.000           2.000      same as X -cc-nc-X , penalty score=218.5\r\n",
      "ca-ca-cc-n2   4    2.800       180.000           2.000      same as X -c2-ca-X , penalty score=232.0\r\n",
      "ca-ca-cc-c    4    2.800       180.000           2.000      same as X -c2-ca-X , penalty score=232.0\r\n",
      "\r\n",
      "IMPROPER\r\n",
      "ca-ca-ca-sy         1.1          180.0         2.0          Using the default value\r\n",
      "ca-ca-ca-ha         1.1          180.0         2.0          Using general improper torsional angle  X- X-ca-ha, penalty score=  6.0)\r\n",
      "ca-hn-nh-n2         1.1          180.0         2.0          Using the default value\r\n",
      "ca-ca-ca-nh         1.1          180.0         2.0          Using the default value\r\n",
      "c -ca-n -hn         1.1          180.0         2.0          Using general improper torsional angle  X- X- n-hn, penalty score=  6.0)\r\n",
      "c -ca-cc-n2         1.1          180.0         2.0          Using the default value\r\n",
      "cc-n -c -o         10.5          180.0         2.0          Using general improper torsional angle  X- X- c- o, penalty score=  6.0)\r\n",
      "ca-ca-ca-n          1.1          180.0         2.0          Using the default value\r\n",
      "c -ca-ca-ca         1.1          180.0         2.0          Using the default value\r\n",
      "ca-o -c -oh         1.1          180.0         2.0          Same as X -o -c -o , penalty score= 48.9 (use general term))\r\n",
      "ca-ca-ca-cc         1.1          180.0         2.0          Using the default value\r\n",
      "\r\n",
      "NONBON\r\n",
      "\r\n",
      "\r\n",
      "\r\n"
     ]
    }
   ],
   "source": [
    "!cat $TMP_DIR/LIG.frcmod"
   ]
  },
  {
   "cell_type": "code",
   "execution_count": 16,
   "id": "1a29b792",
   "metadata": {},
   "outputs": [
    {
     "name": "stdout",
     "output_type": "stream",
     "text": [
      "-I: Adding /Users/joelricci/miniconda/envs/biobb/dat/leap/prep to search path.\n",
      "-I: Adding /Users/joelricci/miniconda/envs/biobb/dat/leap/lib to search path.\n",
      "-I: Adding /Users/joelricci/miniconda/envs/biobb/dat/leap/parm to search path.\n",
      "-I: Adding /Users/joelricci/miniconda/envs/biobb/dat/leap/cmd to search path.\n",
      "-f: Source ./../data/md_system_prep/LIG_systems/4fku/4fku-LIG_intermediate_files/leap_lig_lib.in.\n",
      "\n",
      "Welcome to LEaP!\n",
      "(no leaprc in search path)\n",
      "Sourcing: ./../data/md_system_prep/LIG_systems/4fku/4fku-LIG_intermediate_files/leap_lig_lib.in\n",
      "----- Source: /Users/joelricci/miniconda/envs/biobb/dat/leap/cmd/leaprc.gaff\n",
      "----- Source of /Users/joelricci/miniconda/envs/biobb/dat/leap/cmd/leaprc.gaff done\n",
      "Log file: ./leap.log\n",
      "Loading parameters: /Users/joelricci/miniconda/envs/biobb/dat/leap/parm/gaff.dat\n",
      "Reading title:\n",
      "AMBER General Force Field for organic molecules (Version 1.81, May 2017)\n",
      "Loading parameters: ./../data/md_system_prep/LIG_systems/4fku/4fku-LIG_intermediate_files/LIG.frcmod\n",
      "Reading force field modification type file (frcmod)\n",
      "Reading title:\n",
      "Remark line goes here\n",
      "Loading Mol2 file: ./../data/md_system_prep/LIG_systems/4fku/4fku-LIG_intermediate_files/LIG.mol2\n",
      "Reading MOLECULE named LIG\n",
      " Creating ./../data/md_system_prep/LIG_systems/4fku/4fku-LIG_intermediate_files/LIG.lib\n",
      "Building topology.\n",
      "Building atom parameters.\n",
      "\tQuit\n",
      "\n",
      "Exiting LEaP: Errors = 0; Warnings = 0; Notes = 0.\n",
      "\n",
      "None\n"
     ]
    }
   ],
   "source": [
    "# Prepare the LIG params library\n",
    "\n",
    "from helper_modules.prepare_md_system import run_leap_lig_lib\n",
    "run_leap_lig_lib(tmp_dir      = TMP_DIR, \n",
    "                 lig_basename = LIG_RESNAME)"
   ]
  },
  {
   "cell_type": "code",
   "execution_count": 17,
   "id": "2fde1c03",
   "metadata": {},
   "outputs": [
    {
     "name": "stdout",
     "output_type": "stream",
     "text": [
      "-I: Adding /Users/joelricci/miniconda/envs/biobb/dat/leap/prep to search path.\n",
      "-I: Adding /Users/joelricci/miniconda/envs/biobb/dat/leap/lib to search path.\n",
      "-I: Adding /Users/joelricci/miniconda/envs/biobb/dat/leap/parm to search path.\n",
      "-I: Adding /Users/joelricci/miniconda/envs/biobb/dat/leap/cmd to search path.\n",
      "-f: Source ./../data/md_system_prep/LIG_systems/4fku/4fku-LIG_intermediate_files/leap_prep_complex.in.\n",
      "\n",
      "Welcome to LEaP!\n",
      "(no leaprc in search path)\n",
      "Sourcing: ./../data/md_system_prep/LIG_systems/4fku/4fku-LIG_intermediate_files/leap_prep_complex.in\n",
      "----- Source: /Users/joelricci/miniconda/envs/biobb/dat/leap/cmd/leaprc.protein.ff14SB\n",
      "----- Source of /Users/joelricci/miniconda/envs/biobb/dat/leap/cmd/leaprc.protein.ff14SB done\n",
      "Log file: ./leap.log\n",
      "Loading parameters: /Users/joelricci/miniconda/envs/biobb/dat/leap/parm/parm10.dat\n",
      "Reading title:\n",
      "PARM99 + frcmod.ff99SB + frcmod.parmbsc0 + OL3 for RNA\n",
      "Loading parameters: /Users/joelricci/miniconda/envs/biobb/dat/leap/parm/frcmod.ff14SB\n",
      "Reading force field modification type file (frcmod)\n",
      "Reading title:\n",
      "ff14SB protein backbone and sidechain parameters\n",
      "Loading library: /Users/joelricci/miniconda/envs/biobb/dat/leap/lib/amino12.lib\n",
      "Loading library: /Users/joelricci/miniconda/envs/biobb/dat/leap/lib/aminoct12.lib\n",
      "Loading library: /Users/joelricci/miniconda/envs/biobb/dat/leap/lib/aminont12.lib\n",
      "----- Source: /Users/joelricci/miniconda/envs/biobb/dat/leap/cmd/leaprc.gaff\n",
      "----- Source of /Users/joelricci/miniconda/envs/biobb/dat/leap/cmd/leaprc.gaff done\n",
      "Log file: ./leap.log\n",
      "Loading parameters: /Users/joelricci/miniconda/envs/biobb/dat/leap/parm/gaff.dat\n",
      "Reading title:\n",
      "AMBER General Force Field for organic molecules (Version 1.81, May 2017)\n",
      "----- Source: /Users/joelricci/miniconda/envs/biobb/dat/leap/cmd/leaprc.water.tip3p\n",
      "----- Source of /Users/joelricci/miniconda/envs/biobb/dat/leap/cmd/leaprc.water.tip3p done\n",
      "Loading library: /Users/joelricci/miniconda/envs/biobb/dat/leap/lib/atomic_ions.lib\n",
      "Loading library: /Users/joelricci/miniconda/envs/biobb/dat/leap/lib/solvents.lib\n",
      "Loading parameters: /Users/joelricci/miniconda/envs/biobb/dat/leap/parm/frcmod.tip3p\n",
      "Reading force field modification type file (frcmod)\n",
      "Reading title:\n",
      "This is the additional/replacement parameter set for TIP3P water\n",
      "Loading parameters: /Users/joelricci/miniconda/envs/biobb/dat/leap/parm/frcmod.ions1lm_126_tip3p\n",
      "Reading force field modification type file (frcmod)\n",
      "Reading title:\n",
      "Li/Merz ion parameters of monovalent ions for TIP3P water model (12-6 normal usage set)\n",
      "Loading parameters: /Users/joelricci/miniconda/envs/biobb/dat/leap/parm/frcmod.ionsjc_tip3p\n",
      "Reading force field modification type file (frcmod)\n",
      "Reading title:\n",
      "Monovalent ion parameters for Ewald and TIP3P water from Joung & Cheatham JPCB (2008)\n",
      "Loading parameters: /Users/joelricci/miniconda/envs/biobb/dat/leap/parm/frcmod.ions234lm_126_tip3p\n",
      "Reading force field modification type file (frcmod)\n",
      "Reading title:\n",
      "Li/Merz ion parameters of divalent to tetravalent ions for TIP3P water model (12-6 normal usage set)\n",
      "Loading library: ./../data/md_system_prep/LIG_systems/4fku/4fku-LIG_intermediate_files/LIG.lib\n",
      "Loading parameters: ./../data/md_system_prep/LIG_systems/4fku/4fku-LIG_intermediate_files/LIG.frcmod\n",
      "Reading force field modification type file (frcmod)\n",
      "Reading title:\n",
      "Remark line goes here\n",
      "Loading PDB file: ./../data/md_system_prep/LIG_systems/4fku/4fku-LIG_intermediate_files/prot.TEMP.pdb\n",
      "  total atoms in file: 4848\n",
      "Loading Mol2 file: ./../data/md_system_prep/LIG_systems/4fku/4fku-LIG_intermediate_files/LIG.mol2\n",
      "Reading MOLECULE named LIG\n",
      "Loading PDB file: ./../data/md_system_prep/LIG_systems/4fku/4fku_CRYS_WAT.pdb\n",
      "  total atoms in file: 7\n",
      "  Leap added 14 missing atoms according to residue templates:\n",
      "       14 H / lone pairs\n",
      "Writing pdb file: ./../data/md_system_prep/LIG_systems/4fku/4fku-LIG_intermediate_files/COMPLEX.pdb\n",
      "\n",
      "/Users/joelricci/miniconda/envs/biobb/bin/teLeap: Warning!\n",
      " Converting N-terminal residue name to PDB format: NMET -> MET\n",
      "\n",
      "/Users/joelricci/miniconda/envs/biobb/bin/teLeap: Warning!\n",
      " Converting C-terminal residue name to PDB format: CLEU -> LEU\n",
      "Checking 'system'....\n",
      "\n",
      "/Users/joelricci/miniconda/envs/biobb/bin/teLeap: Warning!\n",
      "The unperturbed charge of the unit (4.000000) is not zero.\n",
      "\n",
      "/Users/joelricci/miniconda/envs/biobb/bin/teLeap: Warning!\n",
      "Close contact of 1.200124 angstroms between .R<ASN 62>.A<H 2> and .R<HID 60>.A<HD1 10>\n",
      "Checking parameters for unit 'system'.\n",
      "Checking for bond parameters.\n",
      "Checking for angle parameters.\n",
      "check:  Warnings: 2\n",
      "Unit is OK.\n",
      "Checking Unit.\n",
      "\n",
      "/Users/joelricci/miniconda/envs/biobb/bin/teLeap: Warning!\n",
      "The unperturbed charge of the unit (4.000000) is not zero.\n",
      "\n",
      "/Users/joelricci/miniconda/envs/biobb/bin/teLeap: Note.\n",
      "Ignoring the warning from Unit Checking.\n",
      "\n",
      "Building topology.\n",
      "Building atom parameters.\n",
      "Building bond parameters.\n",
      "Building angle parameters.\n",
      "Building proper torsion parameters.\n",
      "Building improper torsion parameters.\n",
      " total 975 improper torsions applied\n",
      "Building H-Bond parameters.\n",
      "Incorporating Non-Bonded adjustments.\n",
      "Not Marking per-residue atom chain types.\n",
      "Marking per-residue atom chain types.\n",
      "  (Residues lacking connect0/connect1 - \n",
      "   these don't have chain types marked:\n",
      "\n",
      "\tres\ttotal affected\n",
      "\n",
      "\tCLEU\t1\n",
      "\tLIG\t1\n",
      "\tNMET\t1\n",
      "\tWAT\t7\n",
      "  )\n",
      " (no restraints)\n",
      "Total unperturbed charge:   4.000000\n",
      "Total perturbed charge:     4.000000\n",
      "Total unperturbed charge:   0.000000\n",
      "Total perturbed charge:     0.000000\n",
      "Total unperturbed charge:   4.000000\n",
      "Total perturbed charge:     4.000000\n",
      "\tQuit\n",
      "\n",
      "Exiting LEaP: Errors = 0; Warnings = 5; Notes = 1.\n",
      "\n",
      "None\n"
     ]
    }
   ],
   "source": [
    "# Create the complex\n",
    "\n",
    "from helper_modules.prepare_md_system import run_tleap_prepare_pl_complex \n",
    "OUT_SYSTEM = 'COMPLEX'\n",
    "run_tleap_prepare_pl_complex(output_basename  = OUT_SYSTEM, \n",
    "                             tmp_dir          = TMP_DIR, \n",
    "                             input_waters_pdb = INPUT_CRYS_WAT)"
   ]
  },
  {
   "cell_type": "code",
   "execution_count": 18,
   "id": "045b54a8",
   "metadata": {},
   "outputs": [
    {
     "name": "stdout",
     "output_type": "stream",
     "text": [
      "\n",
      "None\n"
     ]
    }
   ],
   "source": [
    "# Minimize Hydrogens using sander\n",
    "\n",
    "from helper_modules.prepare_md_system import run_minimize_hydrogens\n",
    "OUT_MIN_SYSTEM = 'COMPLEX.minH'\n",
    "run_minimize_hydrogens(input_basename = OUT_SYSTEM, \n",
    "                       output_basename = OUT_MIN_SYSTEM,\n",
    "                       tmp_dir = TMP_DIR,\n",
    "                       verbose = True)"
   ]
  },
  {
   "cell_type": "code",
   "execution_count": 19,
   "id": "3c40e5c1",
   "metadata": {},
   "outputs": [
    {
     "name": "stdout",
     "output_type": "stream",
     "text": [
      "2022-04-07 00:11:50,140 [MainThread  ] [INFO ]  Creating command line with instructions and required arguments\n",
      "2022-04-07 00:11:50,248 [MainThread  ] [INFO ]  process_minout.perl  ./../data/md_system_prep/LIG_systems/4fku/4fku-LIG_intermediate_files/sander.minH.log\n",
      "\n",
      "2022-04-07 00:11:50,249 [MainThread  ] [INFO ]  Exit code 0\n",
      "\n",
      "2022-04-07 00:11:50,250 [MainThread  ] [INFO ]  Processing sander output file (./../data/md_system_prep/LIG_systems/4fku/4fku-LIG_intermediate_files/sander.minH.log)...\n",
      "Processing step 50 of a possible 500...\n",
      "Processing step 100 of a possible 500...\n",
      "Processing step 150 of a possible 500...\n",
      "Processing step 200 of a possible 500...\n",
      "Processing step 250 of a possible 500...\n",
      "Processing step 300 of a possible 500...\n",
      "Processing step 350 of a possible 500...\n",
      "Processing step 400 of a possible 500...\n",
      "Processing step 450 of a possible 500...\n",
      "Processing step 500 of a possible 500...\n",
      "Processing step 500 of a possible 500...\n",
      "Starting output...\n",
      "Outputing summary.NSTEP\n",
      "Outputing summary.ENERGY\n",
      "Outputing summary.RMS\n",
      "Outputing summary.GMAX\n",
      "Outputing summary.NAME\n",
      "Outputing summary.NUMBER\n",
      "Outputing summary.BOND\n",
      "Outputing summary.ANGLE\n",
      "Outputing summary.DIHEDRAL\n",
      "Outputing summary.VDWAALS\n",
      "Outputing summary.EEL\n",
      "Outputing summary.HBOND\n",
      "Outputing summary.VDW14\n",
      "Outputing summary.EEL14\n",
      "Outputing summary.RESTRAINT\n",
      "\n",
      "2022-04-07 00:11:50,257 [MainThread  ] [INFO ]  Removed: [PosixPath('summary.NSTEP'), PosixPath('summary.RMS'), PosixPath('summary.ENERGY'), PosixPath('summary.EEL'), PosixPath('summary.GMAX'), PosixPath('summary.NAME'), PosixPath('summary.NUMBER'), PosixPath('summary.BOND'), PosixPath('summary.ANGLE'), PosixPath('summary.DIHEDRAL'), PosixPath('summary.VDWAALS'), PosixPath('summary.HBOND'), PosixPath('summary.VDW14'), PosixPath('summary.EEL14'), PosixPath('summary.RESTRAINT')]\n"
     ]
    },
    {
     "data": {
      "text/html": [
       "        <script type=\"text/javascript\">\n",
       "        window.PlotlyConfig = {MathJaxConfig: 'local'};\n",
       "        if (window.MathJax) {MathJax.Hub.Config({SVG: {font: \"STIX-Web\"}});}\n",
       "        if (typeof require !== 'undefined') {\n",
       "        require.undef(\"plotly\");\n",
       "        requirejs.config({\n",
       "            paths: {\n",
       "                'plotly': ['https://cdn.plot.ly/plotly-2.9.0.min']\n",
       "            }\n",
       "        });\n",
       "        require(['plotly'], function(Plotly) {\n",
       "            window._Plotly = Plotly;\n",
       "        });\n",
       "        }\n",
       "        </script>\n",
       "        "
      ]
     },
     "metadata": {},
     "output_type": "display_data"
    },
    {
     "data": {
      "application/vnd.plotly.v1+json": {
       "config": {
        "linkText": "Export to plot.ly",
        "plotlyServerURL": "https://plot.ly",
        "showLink": false
       },
       "data": [
        {
         "type": "scatter",
         "x": [
          10,
          15,
          20,
          25,
          30,
          35,
          40,
          45,
          50,
          55,
          60,
          65,
          70,
          75,
          80,
          85,
          90,
          95,
          100,
          105,
          110,
          115,
          120,
          125,
          130,
          135,
          140,
          145,
          150,
          155,
          160,
          165,
          170,
          175,
          180,
          185,
          190,
          195,
          200,
          205,
          210,
          215,
          220,
          225,
          230,
          235,
          240,
          245,
          250,
          255,
          260,
          265,
          270,
          275,
          280,
          285,
          290,
          295,
          300,
          305,
          310,
          315,
          320,
          325,
          330,
          335,
          340,
          345,
          350,
          355,
          360,
          365,
          370,
          375,
          380,
          385,
          390,
          395,
          400,
          405,
          410,
          415,
          420,
          425,
          430,
          435,
          440,
          445,
          450,
          455,
          460,
          465,
          470,
          475,
          480,
          485,
          490,
          495,
          500
         ],
         "y": [
          973.18,
          347.4,
          -941.99,
          -2924.4,
          -4669.5,
          -4719,
          -4787.7,
          -4815.1,
          -4762,
          -4771.7,
          -4781.1,
          -4789.8,
          -4798.8,
          -4925.1,
          -4928.4,
          -4935.7,
          -4947.5,
          -4953.6,
          -4838.4,
          -4844.3,
          -4850.8,
          -4856.6,
          -4862.5,
          -4936.6,
          -4941.8,
          -4947.4,
          -4952.8,
          -4957.8,
          -4937.3,
          -4942.5,
          -4948.8,
          -4951,
          -4955.5,
          -5006.3,
          -5013.7,
          -5017.4,
          -5021.7,
          -5026.1,
          -4966.9,
          -4969.6,
          -4973.6,
          -4976.6,
          -4980,
          -5038.3,
          -5041.3,
          -5044.2,
          -5047.3,
          -5050.4,
          -4979.3,
          -5003.6,
          -5035,
          -5061.1,
          -5071.7,
          -4905.9,
          -4906.8,
          -4908.9,
          -4914.1,
          -4917.9,
          -5108.2,
          -5109.4,
          -5112.1,
          -5114.7,
          -5117.3,
          -4984.4,
          -4985,
          -4986,
          -4988,
          -4989.7,
          -5080.5,
          -5081.3,
          -5082.8,
          -5084.6,
          -5085.9,
          -5076.8,
          -5077.2,
          -5078.2,
          -5079.9,
          -5080.9,
          -5193.2,
          -5194,
          -5195.3,
          -5196.9,
          -5197.7,
          -5061.2,
          -5061.4,
          -5062.3,
          -5063.5,
          -5064.3,
          -5166.1,
          -5166.6,
          -5167.5,
          -5168.7,
          -5169.3,
          -5052.2,
          -5052.4,
          -5053.2,
          -5054.2,
          -5054.9,
          -5132.8
         ]
        }
       ],
       "layout": {
        "template": {
         "data": {
          "bar": [
           {
            "error_x": {
             "color": "#2a3f5f"
            },
            "error_y": {
             "color": "#2a3f5f"
            },
            "marker": {
             "line": {
              "color": "#E5ECF6",
              "width": 0.5
             },
             "pattern": {
              "fillmode": "overlay",
              "size": 10,
              "solidity": 0.2
             }
            },
            "type": "bar"
           }
          ],
          "barpolar": [
           {
            "marker": {
             "line": {
              "color": "#E5ECF6",
              "width": 0.5
             },
             "pattern": {
              "fillmode": "overlay",
              "size": 10,
              "solidity": 0.2
             }
            },
            "type": "barpolar"
           }
          ],
          "carpet": [
           {
            "aaxis": {
             "endlinecolor": "#2a3f5f",
             "gridcolor": "white",
             "linecolor": "white",
             "minorgridcolor": "white",
             "startlinecolor": "#2a3f5f"
            },
            "baxis": {
             "endlinecolor": "#2a3f5f",
             "gridcolor": "white",
             "linecolor": "white",
             "minorgridcolor": "white",
             "startlinecolor": "#2a3f5f"
            },
            "type": "carpet"
           }
          ],
          "choropleth": [
           {
            "colorbar": {
             "outlinewidth": 0,
             "ticks": ""
            },
            "type": "choropleth"
           }
          ],
          "contour": [
           {
            "colorbar": {
             "outlinewidth": 0,
             "ticks": ""
            },
            "colorscale": [
             [
              0,
              "#0d0887"
             ],
             [
              0.1111111111111111,
              "#46039f"
             ],
             [
              0.2222222222222222,
              "#7201a8"
             ],
             [
              0.3333333333333333,
              "#9c179e"
             ],
             [
              0.4444444444444444,
              "#bd3786"
             ],
             [
              0.5555555555555556,
              "#d8576b"
             ],
             [
              0.6666666666666666,
              "#ed7953"
             ],
             [
              0.7777777777777778,
              "#fb9f3a"
             ],
             [
              0.8888888888888888,
              "#fdca26"
             ],
             [
              1,
              "#f0f921"
             ]
            ],
            "type": "contour"
           }
          ],
          "contourcarpet": [
           {
            "colorbar": {
             "outlinewidth": 0,
             "ticks": ""
            },
            "type": "contourcarpet"
           }
          ],
          "heatmap": [
           {
            "colorbar": {
             "outlinewidth": 0,
             "ticks": ""
            },
            "colorscale": [
             [
              0,
              "#0d0887"
             ],
             [
              0.1111111111111111,
              "#46039f"
             ],
             [
              0.2222222222222222,
              "#7201a8"
             ],
             [
              0.3333333333333333,
              "#9c179e"
             ],
             [
              0.4444444444444444,
              "#bd3786"
             ],
             [
              0.5555555555555556,
              "#d8576b"
             ],
             [
              0.6666666666666666,
              "#ed7953"
             ],
             [
              0.7777777777777778,
              "#fb9f3a"
             ],
             [
              0.8888888888888888,
              "#fdca26"
             ],
             [
              1,
              "#f0f921"
             ]
            ],
            "type": "heatmap"
           }
          ],
          "heatmapgl": [
           {
            "colorbar": {
             "outlinewidth": 0,
             "ticks": ""
            },
            "colorscale": [
             [
              0,
              "#0d0887"
             ],
             [
              0.1111111111111111,
              "#46039f"
             ],
             [
              0.2222222222222222,
              "#7201a8"
             ],
             [
              0.3333333333333333,
              "#9c179e"
             ],
             [
              0.4444444444444444,
              "#bd3786"
             ],
             [
              0.5555555555555556,
              "#d8576b"
             ],
             [
              0.6666666666666666,
              "#ed7953"
             ],
             [
              0.7777777777777778,
              "#fb9f3a"
             ],
             [
              0.8888888888888888,
              "#fdca26"
             ],
             [
              1,
              "#f0f921"
             ]
            ],
            "type": "heatmapgl"
           }
          ],
          "histogram": [
           {
            "marker": {
             "pattern": {
              "fillmode": "overlay",
              "size": 10,
              "solidity": 0.2
             }
            },
            "type": "histogram"
           }
          ],
          "histogram2d": [
           {
            "colorbar": {
             "outlinewidth": 0,
             "ticks": ""
            },
            "colorscale": [
             [
              0,
              "#0d0887"
             ],
             [
              0.1111111111111111,
              "#46039f"
             ],
             [
              0.2222222222222222,
              "#7201a8"
             ],
             [
              0.3333333333333333,
              "#9c179e"
             ],
             [
              0.4444444444444444,
              "#bd3786"
             ],
             [
              0.5555555555555556,
              "#d8576b"
             ],
             [
              0.6666666666666666,
              "#ed7953"
             ],
             [
              0.7777777777777778,
              "#fb9f3a"
             ],
             [
              0.8888888888888888,
              "#fdca26"
             ],
             [
              1,
              "#f0f921"
             ]
            ],
            "type": "histogram2d"
           }
          ],
          "histogram2dcontour": [
           {
            "colorbar": {
             "outlinewidth": 0,
             "ticks": ""
            },
            "colorscale": [
             [
              0,
              "#0d0887"
             ],
             [
              0.1111111111111111,
              "#46039f"
             ],
             [
              0.2222222222222222,
              "#7201a8"
             ],
             [
              0.3333333333333333,
              "#9c179e"
             ],
             [
              0.4444444444444444,
              "#bd3786"
             ],
             [
              0.5555555555555556,
              "#d8576b"
             ],
             [
              0.6666666666666666,
              "#ed7953"
             ],
             [
              0.7777777777777778,
              "#fb9f3a"
             ],
             [
              0.8888888888888888,
              "#fdca26"
             ],
             [
              1,
              "#f0f921"
             ]
            ],
            "type": "histogram2dcontour"
           }
          ],
          "mesh3d": [
           {
            "colorbar": {
             "outlinewidth": 0,
             "ticks": ""
            },
            "type": "mesh3d"
           }
          ],
          "parcoords": [
           {
            "line": {
             "colorbar": {
              "outlinewidth": 0,
              "ticks": ""
             }
            },
            "type": "parcoords"
           }
          ],
          "pie": [
           {
            "automargin": true,
            "type": "pie"
           }
          ],
          "scatter": [
           {
            "marker": {
             "colorbar": {
              "outlinewidth": 0,
              "ticks": ""
             }
            },
            "type": "scatter"
           }
          ],
          "scatter3d": [
           {
            "line": {
             "colorbar": {
              "outlinewidth": 0,
              "ticks": ""
             }
            },
            "marker": {
             "colorbar": {
              "outlinewidth": 0,
              "ticks": ""
             }
            },
            "type": "scatter3d"
           }
          ],
          "scattercarpet": [
           {
            "marker": {
             "colorbar": {
              "outlinewidth": 0,
              "ticks": ""
             }
            },
            "type": "scattercarpet"
           }
          ],
          "scattergeo": [
           {
            "marker": {
             "colorbar": {
              "outlinewidth": 0,
              "ticks": ""
             }
            },
            "type": "scattergeo"
           }
          ],
          "scattergl": [
           {
            "marker": {
             "colorbar": {
              "outlinewidth": 0,
              "ticks": ""
             }
            },
            "type": "scattergl"
           }
          ],
          "scattermapbox": [
           {
            "marker": {
             "colorbar": {
              "outlinewidth": 0,
              "ticks": ""
             }
            },
            "type": "scattermapbox"
           }
          ],
          "scatterpolar": [
           {
            "marker": {
             "colorbar": {
              "outlinewidth": 0,
              "ticks": ""
             }
            },
            "type": "scatterpolar"
           }
          ],
          "scatterpolargl": [
           {
            "marker": {
             "colorbar": {
              "outlinewidth": 0,
              "ticks": ""
             }
            },
            "type": "scatterpolargl"
           }
          ],
          "scatterternary": [
           {
            "marker": {
             "colorbar": {
              "outlinewidth": 0,
              "ticks": ""
             }
            },
            "type": "scatterternary"
           }
          ],
          "surface": [
           {
            "colorbar": {
             "outlinewidth": 0,
             "ticks": ""
            },
            "colorscale": [
             [
              0,
              "#0d0887"
             ],
             [
              0.1111111111111111,
              "#46039f"
             ],
             [
              0.2222222222222222,
              "#7201a8"
             ],
             [
              0.3333333333333333,
              "#9c179e"
             ],
             [
              0.4444444444444444,
              "#bd3786"
             ],
             [
              0.5555555555555556,
              "#d8576b"
             ],
             [
              0.6666666666666666,
              "#ed7953"
             ],
             [
              0.7777777777777778,
              "#fb9f3a"
             ],
             [
              0.8888888888888888,
              "#fdca26"
             ],
             [
              1,
              "#f0f921"
             ]
            ],
            "type": "surface"
           }
          ],
          "table": [
           {
            "cells": {
             "fill": {
              "color": "#EBF0F8"
             },
             "line": {
              "color": "white"
             }
            },
            "header": {
             "fill": {
              "color": "#C8D4E3"
             },
             "line": {
              "color": "white"
             }
            },
            "type": "table"
           }
          ]
         },
         "layout": {
          "annotationdefaults": {
           "arrowcolor": "#2a3f5f",
           "arrowhead": 0,
           "arrowwidth": 1
          },
          "autotypenumbers": "strict",
          "coloraxis": {
           "colorbar": {
            "outlinewidth": 0,
            "ticks": ""
           }
          },
          "colorscale": {
           "diverging": [
            [
             0,
             "#8e0152"
            ],
            [
             0.1,
             "#c51b7d"
            ],
            [
             0.2,
             "#de77ae"
            ],
            [
             0.3,
             "#f1b6da"
            ],
            [
             0.4,
             "#fde0ef"
            ],
            [
             0.5,
             "#f7f7f7"
            ],
            [
             0.6,
             "#e6f5d0"
            ],
            [
             0.7,
             "#b8e186"
            ],
            [
             0.8,
             "#7fbc41"
            ],
            [
             0.9,
             "#4d9221"
            ],
            [
             1,
             "#276419"
            ]
           ],
           "sequential": [
            [
             0,
             "#0d0887"
            ],
            [
             0.1111111111111111,
             "#46039f"
            ],
            [
             0.2222222222222222,
             "#7201a8"
            ],
            [
             0.3333333333333333,
             "#9c179e"
            ],
            [
             0.4444444444444444,
             "#bd3786"
            ],
            [
             0.5555555555555556,
             "#d8576b"
            ],
            [
             0.6666666666666666,
             "#ed7953"
            ],
            [
             0.7777777777777778,
             "#fb9f3a"
            ],
            [
             0.8888888888888888,
             "#fdca26"
            ],
            [
             1,
             "#f0f921"
            ]
           ],
           "sequentialminus": [
            [
             0,
             "#0d0887"
            ],
            [
             0.1111111111111111,
             "#46039f"
            ],
            [
             0.2222222222222222,
             "#7201a8"
            ],
            [
             0.3333333333333333,
             "#9c179e"
            ],
            [
             0.4444444444444444,
             "#bd3786"
            ],
            [
             0.5555555555555556,
             "#d8576b"
            ],
            [
             0.6666666666666666,
             "#ed7953"
            ],
            [
             0.7777777777777778,
             "#fb9f3a"
            ],
            [
             0.8888888888888888,
             "#fdca26"
            ],
            [
             1,
             "#f0f921"
            ]
           ]
          },
          "colorway": [
           "#636efa",
           "#EF553B",
           "#00cc96",
           "#ab63fa",
           "#FFA15A",
           "#19d3f3",
           "#FF6692",
           "#B6E880",
           "#FF97FF",
           "#FECB52"
          ],
          "font": {
           "color": "#2a3f5f"
          },
          "geo": {
           "bgcolor": "white",
           "lakecolor": "white",
           "landcolor": "#E5ECF6",
           "showlakes": true,
           "showland": true,
           "subunitcolor": "white"
          },
          "hoverlabel": {
           "align": "left"
          },
          "hovermode": "closest",
          "mapbox": {
           "style": "light"
          },
          "paper_bgcolor": "white",
          "plot_bgcolor": "#E5ECF6",
          "polar": {
           "angularaxis": {
            "gridcolor": "white",
            "linecolor": "white",
            "ticks": ""
           },
           "bgcolor": "#E5ECF6",
           "radialaxis": {
            "gridcolor": "white",
            "linecolor": "white",
            "ticks": ""
           }
          },
          "scene": {
           "xaxis": {
            "backgroundcolor": "#E5ECF6",
            "gridcolor": "white",
            "gridwidth": 2,
            "linecolor": "white",
            "showbackground": true,
            "ticks": "",
            "zerolinecolor": "white"
           },
           "yaxis": {
            "backgroundcolor": "#E5ECF6",
            "gridcolor": "white",
            "gridwidth": 2,
            "linecolor": "white",
            "showbackground": true,
            "ticks": "",
            "zerolinecolor": "white"
           },
           "zaxis": {
            "backgroundcolor": "#E5ECF6",
            "gridcolor": "white",
            "gridwidth": 2,
            "linecolor": "white",
            "showbackground": true,
            "ticks": "",
            "zerolinecolor": "white"
           }
          },
          "shapedefaults": {
           "line": {
            "color": "#2a3f5f"
           }
          },
          "ternary": {
           "aaxis": {
            "gridcolor": "white",
            "linecolor": "white",
            "ticks": ""
           },
           "baxis": {
            "gridcolor": "white",
            "linecolor": "white",
            "ticks": ""
           },
           "bgcolor": "#E5ECF6",
           "caxis": {
            "gridcolor": "white",
            "linecolor": "white",
            "ticks": ""
           }
          },
          "title": {
           "x": 0.05
          },
          "xaxis": {
           "automargin": true,
           "gridcolor": "white",
           "linecolor": "white",
           "ticks": "",
           "title": {
            "standoff": 15
           },
           "zerolinecolor": "white",
           "zerolinewidth": 2
          },
          "yaxis": {
           "automargin": true,
           "gridcolor": "white",
           "linecolor": "white",
           "ticks": "",
           "title": {
            "standoff": 15
           },
           "zerolinecolor": "white",
           "zerolinewidth": 2
          }
         }
        },
        "title": {
         "text": "Energy Minimization"
        },
        "xaxis": {
         "title": {
          "text": "Energy Minimization Step"
         }
        },
        "yaxis": {
         "title": {
          "text": "Potential Energy kcal/mol"
         }
        }
       }
      },
      "text/html": [
       "<div>                            <div id=\"ac60f9ec-ae10-497f-8c12-2f4104248b14\" class=\"plotly-graph-div\" style=\"height:525px; width:100%;\"></div>            <script type=\"text/javascript\">                require([\"plotly\"], function(Plotly) {                    window.PLOTLYENV=window.PLOTLYENV || {};                                    if (document.getElementById(\"ac60f9ec-ae10-497f-8c12-2f4104248b14\")) {                    Plotly.newPlot(                        \"ac60f9ec-ae10-497f-8c12-2f4104248b14\",                        [{\"x\":[10.0,15.0,20.0,25.0,30.0,35.0,40.0,45.0,50.0,55.0,60.0,65.0,70.0,75.0,80.0,85.0,90.0,95.0,100.0,105.0,110.0,115.0,120.0,125.0,130.0,135.0,140.0,145.0,150.0,155.0,160.0,165.0,170.0,175.0,180.0,185.0,190.0,195.0,200.0,205.0,210.0,215.0,220.0,225.0,230.0,235.0,240.0,245.0,250.0,255.0,260.0,265.0,270.0,275.0,280.0,285.0,290.0,295.0,300.0,305.0,310.0,315.0,320.0,325.0,330.0,335.0,340.0,345.0,350.0,355.0,360.0,365.0,370.0,375.0,380.0,385.0,390.0,395.0,400.0,405.0,410.0,415.0,420.0,425.0,430.0,435.0,440.0,445.0,450.0,455.0,460.0,465.0,470.0,475.0,480.0,485.0,490.0,495.0,500.0],\"y\":[973.18,347.4,-941.99,-2924.4,-4669.5,-4719.0,-4787.7,-4815.1,-4762.0,-4771.7,-4781.1,-4789.8,-4798.8,-4925.1,-4928.4,-4935.7,-4947.5,-4953.6,-4838.4,-4844.3,-4850.8,-4856.6,-4862.5,-4936.6,-4941.8,-4947.4,-4952.8,-4957.8,-4937.3,-4942.5,-4948.8,-4951.0,-4955.5,-5006.3,-5013.7,-5017.4,-5021.7,-5026.1,-4966.9,-4969.6,-4973.6,-4976.6,-4980.0,-5038.3,-5041.3,-5044.2,-5047.3,-5050.4,-4979.3,-5003.6,-5035.0,-5061.1,-5071.7,-4905.9,-4906.8,-4908.9,-4914.1,-4917.9,-5108.2,-5109.4,-5112.1,-5114.7,-5117.3,-4984.4,-4985.0,-4986.0,-4988.0,-4989.7,-5080.5,-5081.3,-5082.8,-5084.6,-5085.9,-5076.8,-5077.2,-5078.2,-5079.9,-5080.9,-5193.2,-5194.0,-5195.3,-5196.9,-5197.7,-5061.2,-5061.4,-5062.3,-5063.5,-5064.3,-5166.1,-5166.6,-5167.5,-5168.7,-5169.3,-5052.2,-5052.4,-5053.2,-5054.2,-5054.9,-5132.8],\"type\":\"scatter\"}],                        {\"template\":{\"data\":{\"barpolar\":[{\"marker\":{\"line\":{\"color\":\"#E5ECF6\",\"width\":0.5},\"pattern\":{\"fillmode\":\"overlay\",\"size\":10,\"solidity\":0.2}},\"type\":\"barpolar\"}],\"bar\":[{\"error_x\":{\"color\":\"#2a3f5f\"},\"error_y\":{\"color\":\"#2a3f5f\"},\"marker\":{\"line\":{\"color\":\"#E5ECF6\",\"width\":0.5},\"pattern\":{\"fillmode\":\"overlay\",\"size\":10,\"solidity\":0.2}},\"type\":\"bar\"}],\"carpet\":[{\"aaxis\":{\"endlinecolor\":\"#2a3f5f\",\"gridcolor\":\"white\",\"linecolor\":\"white\",\"minorgridcolor\":\"white\",\"startlinecolor\":\"#2a3f5f\"},\"baxis\":{\"endlinecolor\":\"#2a3f5f\",\"gridcolor\":\"white\",\"linecolor\":\"white\",\"minorgridcolor\":\"white\",\"startlinecolor\":\"#2a3f5f\"},\"type\":\"carpet\"}],\"choropleth\":[{\"colorbar\":{\"outlinewidth\":0,\"ticks\":\"\"},\"type\":\"choropleth\"}],\"contourcarpet\":[{\"colorbar\":{\"outlinewidth\":0,\"ticks\":\"\"},\"type\":\"contourcarpet\"}],\"contour\":[{\"colorbar\":{\"outlinewidth\":0,\"ticks\":\"\"},\"colorscale\":[[0.0,\"#0d0887\"],[0.1111111111111111,\"#46039f\"],[0.2222222222222222,\"#7201a8\"],[0.3333333333333333,\"#9c179e\"],[0.4444444444444444,\"#bd3786\"],[0.5555555555555556,\"#d8576b\"],[0.6666666666666666,\"#ed7953\"],[0.7777777777777778,\"#fb9f3a\"],[0.8888888888888888,\"#fdca26\"],[1.0,\"#f0f921\"]],\"type\":\"contour\"}],\"heatmapgl\":[{\"colorbar\":{\"outlinewidth\":0,\"ticks\":\"\"},\"colorscale\":[[0.0,\"#0d0887\"],[0.1111111111111111,\"#46039f\"],[0.2222222222222222,\"#7201a8\"],[0.3333333333333333,\"#9c179e\"],[0.4444444444444444,\"#bd3786\"],[0.5555555555555556,\"#d8576b\"],[0.6666666666666666,\"#ed7953\"],[0.7777777777777778,\"#fb9f3a\"],[0.8888888888888888,\"#fdca26\"],[1.0,\"#f0f921\"]],\"type\":\"heatmapgl\"}],\"heatmap\":[{\"colorbar\":{\"outlinewidth\":0,\"ticks\":\"\"},\"colorscale\":[[0.0,\"#0d0887\"],[0.1111111111111111,\"#46039f\"],[0.2222222222222222,\"#7201a8\"],[0.3333333333333333,\"#9c179e\"],[0.4444444444444444,\"#bd3786\"],[0.5555555555555556,\"#d8576b\"],[0.6666666666666666,\"#ed7953\"],[0.7777777777777778,\"#fb9f3a\"],[0.8888888888888888,\"#fdca26\"],[1.0,\"#f0f921\"]],\"type\":\"heatmap\"}],\"histogram2dcontour\":[{\"colorbar\":{\"outlinewidth\":0,\"ticks\":\"\"},\"colorscale\":[[0.0,\"#0d0887\"],[0.1111111111111111,\"#46039f\"],[0.2222222222222222,\"#7201a8\"],[0.3333333333333333,\"#9c179e\"],[0.4444444444444444,\"#bd3786\"],[0.5555555555555556,\"#d8576b\"],[0.6666666666666666,\"#ed7953\"],[0.7777777777777778,\"#fb9f3a\"],[0.8888888888888888,\"#fdca26\"],[1.0,\"#f0f921\"]],\"type\":\"histogram2dcontour\"}],\"histogram2d\":[{\"colorbar\":{\"outlinewidth\":0,\"ticks\":\"\"},\"colorscale\":[[0.0,\"#0d0887\"],[0.1111111111111111,\"#46039f\"],[0.2222222222222222,\"#7201a8\"],[0.3333333333333333,\"#9c179e\"],[0.4444444444444444,\"#bd3786\"],[0.5555555555555556,\"#d8576b\"],[0.6666666666666666,\"#ed7953\"],[0.7777777777777778,\"#fb9f3a\"],[0.8888888888888888,\"#fdca26\"],[1.0,\"#f0f921\"]],\"type\":\"histogram2d\"}],\"histogram\":[{\"marker\":{\"pattern\":{\"fillmode\":\"overlay\",\"size\":10,\"solidity\":0.2}},\"type\":\"histogram\"}],\"mesh3d\":[{\"colorbar\":{\"outlinewidth\":0,\"ticks\":\"\"},\"type\":\"mesh3d\"}],\"parcoords\":[{\"line\":{\"colorbar\":{\"outlinewidth\":0,\"ticks\":\"\"}},\"type\":\"parcoords\"}],\"pie\":[{\"automargin\":true,\"type\":\"pie\"}],\"scatter3d\":[{\"line\":{\"colorbar\":{\"outlinewidth\":0,\"ticks\":\"\"}},\"marker\":{\"colorbar\":{\"outlinewidth\":0,\"ticks\":\"\"}},\"type\":\"scatter3d\"}],\"scattercarpet\":[{\"marker\":{\"colorbar\":{\"outlinewidth\":0,\"ticks\":\"\"}},\"type\":\"scattercarpet\"}],\"scattergeo\":[{\"marker\":{\"colorbar\":{\"outlinewidth\":0,\"ticks\":\"\"}},\"type\":\"scattergeo\"}],\"scattergl\":[{\"marker\":{\"colorbar\":{\"outlinewidth\":0,\"ticks\":\"\"}},\"type\":\"scattergl\"}],\"scattermapbox\":[{\"marker\":{\"colorbar\":{\"outlinewidth\":0,\"ticks\":\"\"}},\"type\":\"scattermapbox\"}],\"scatterpolargl\":[{\"marker\":{\"colorbar\":{\"outlinewidth\":0,\"ticks\":\"\"}},\"type\":\"scatterpolargl\"}],\"scatterpolar\":[{\"marker\":{\"colorbar\":{\"outlinewidth\":0,\"ticks\":\"\"}},\"type\":\"scatterpolar\"}],\"scatter\":[{\"marker\":{\"colorbar\":{\"outlinewidth\":0,\"ticks\":\"\"}},\"type\":\"scatter\"}],\"scatterternary\":[{\"marker\":{\"colorbar\":{\"outlinewidth\":0,\"ticks\":\"\"}},\"type\":\"scatterternary\"}],\"surface\":[{\"colorbar\":{\"outlinewidth\":0,\"ticks\":\"\"},\"colorscale\":[[0.0,\"#0d0887\"],[0.1111111111111111,\"#46039f\"],[0.2222222222222222,\"#7201a8\"],[0.3333333333333333,\"#9c179e\"],[0.4444444444444444,\"#bd3786\"],[0.5555555555555556,\"#d8576b\"],[0.6666666666666666,\"#ed7953\"],[0.7777777777777778,\"#fb9f3a\"],[0.8888888888888888,\"#fdca26\"],[1.0,\"#f0f921\"]],\"type\":\"surface\"}],\"table\":[{\"cells\":{\"fill\":{\"color\":\"#EBF0F8\"},\"line\":{\"color\":\"white\"}},\"header\":{\"fill\":{\"color\":\"#C8D4E3\"},\"line\":{\"color\":\"white\"}},\"type\":\"table\"}]},\"layout\":{\"annotationdefaults\":{\"arrowcolor\":\"#2a3f5f\",\"arrowhead\":0,\"arrowwidth\":1},\"autotypenumbers\":\"strict\",\"coloraxis\":{\"colorbar\":{\"outlinewidth\":0,\"ticks\":\"\"}},\"colorscale\":{\"diverging\":[[0,\"#8e0152\"],[0.1,\"#c51b7d\"],[0.2,\"#de77ae\"],[0.3,\"#f1b6da\"],[0.4,\"#fde0ef\"],[0.5,\"#f7f7f7\"],[0.6,\"#e6f5d0\"],[0.7,\"#b8e186\"],[0.8,\"#7fbc41\"],[0.9,\"#4d9221\"],[1,\"#276419\"]],\"sequential\":[[0.0,\"#0d0887\"],[0.1111111111111111,\"#46039f\"],[0.2222222222222222,\"#7201a8\"],[0.3333333333333333,\"#9c179e\"],[0.4444444444444444,\"#bd3786\"],[0.5555555555555556,\"#d8576b\"],[0.6666666666666666,\"#ed7953\"],[0.7777777777777778,\"#fb9f3a\"],[0.8888888888888888,\"#fdca26\"],[1.0,\"#f0f921\"]],\"sequentialminus\":[[0.0,\"#0d0887\"],[0.1111111111111111,\"#46039f\"],[0.2222222222222222,\"#7201a8\"],[0.3333333333333333,\"#9c179e\"],[0.4444444444444444,\"#bd3786\"],[0.5555555555555556,\"#d8576b\"],[0.6666666666666666,\"#ed7953\"],[0.7777777777777778,\"#fb9f3a\"],[0.8888888888888888,\"#fdca26\"],[1.0,\"#f0f921\"]]},\"colorway\":[\"#636efa\",\"#EF553B\",\"#00cc96\",\"#ab63fa\",\"#FFA15A\",\"#19d3f3\",\"#FF6692\",\"#B6E880\",\"#FF97FF\",\"#FECB52\"],\"font\":{\"color\":\"#2a3f5f\"},\"geo\":{\"bgcolor\":\"white\",\"lakecolor\":\"white\",\"landcolor\":\"#E5ECF6\",\"showlakes\":true,\"showland\":true,\"subunitcolor\":\"white\"},\"hoverlabel\":{\"align\":\"left\"},\"hovermode\":\"closest\",\"mapbox\":{\"style\":\"light\"},\"paper_bgcolor\":\"white\",\"plot_bgcolor\":\"#E5ECF6\",\"polar\":{\"angularaxis\":{\"gridcolor\":\"white\",\"linecolor\":\"white\",\"ticks\":\"\"},\"bgcolor\":\"#E5ECF6\",\"radialaxis\":{\"gridcolor\":\"white\",\"linecolor\":\"white\",\"ticks\":\"\"}},\"scene\":{\"xaxis\":{\"backgroundcolor\":\"#E5ECF6\",\"gridcolor\":\"white\",\"gridwidth\":2,\"linecolor\":\"white\",\"showbackground\":true,\"ticks\":\"\",\"zerolinecolor\":\"white\"},\"yaxis\":{\"backgroundcolor\":\"#E5ECF6\",\"gridcolor\":\"white\",\"gridwidth\":2,\"linecolor\":\"white\",\"showbackground\":true,\"ticks\":\"\",\"zerolinecolor\":\"white\"},\"zaxis\":{\"backgroundcolor\":\"#E5ECF6\",\"gridcolor\":\"white\",\"gridwidth\":2,\"linecolor\":\"white\",\"showbackground\":true,\"ticks\":\"\",\"zerolinecolor\":\"white\"}},\"shapedefaults\":{\"line\":{\"color\":\"#2a3f5f\"}},\"ternary\":{\"aaxis\":{\"gridcolor\":\"white\",\"linecolor\":\"white\",\"ticks\":\"\"},\"baxis\":{\"gridcolor\":\"white\",\"linecolor\":\"white\",\"ticks\":\"\"},\"bgcolor\":\"#E5ECF6\",\"caxis\":{\"gridcolor\":\"white\",\"linecolor\":\"white\",\"ticks\":\"\"}},\"title\":{\"x\":0.05},\"xaxis\":{\"automargin\":true,\"gridcolor\":\"white\",\"linecolor\":\"white\",\"ticks\":\"\",\"title\":{\"standoff\":15},\"zerolinecolor\":\"white\",\"zerolinewidth\":2},\"yaxis\":{\"automargin\":true,\"gridcolor\":\"white\",\"linecolor\":\"white\",\"ticks\":\"\",\"title\":{\"standoff\":15},\"zerolinecolor\":\"white\",\"zerolinewidth\":2}}},\"title\":{\"text\":\"Energy Minimization\"},\"xaxis\":{\"title\":{\"text\":\"Energy Minimization Step\"}},\"yaxis\":{\"title\":{\"text\":\"Potential Energy kcal/mol\"}}},                        {\"responsive\": true}                    ).then(function(){\n",
       "                            \n",
       "var gd = document.getElementById('ac60f9ec-ae10-497f-8c12-2f4104248b14');\n",
       "var x = new MutationObserver(function (mutations, observer) {{\n",
       "        var display = window.getComputedStyle(gd).display;\n",
       "        if (!display || display === 'none') {{\n",
       "            console.log([gd, 'removed!']);\n",
       "            Plotly.purge(gd);\n",
       "            observer.disconnect();\n",
       "        }}\n",
       "}});\n",
       "\n",
       "// Listen for the removal of the full notebook cells\n",
       "var notebookContainer = gd.closest('#notebook-container');\n",
       "if (notebookContainer) {{\n",
       "    x.observe(notebookContainer, {childList: true});\n",
       "}}\n",
       "\n",
       "// Listen for the clearing of the current output cell\n",
       "var outputEl = gd.closest('.output');\n",
       "if (outputEl) {{\n",
       "    x.observe(outputEl, {childList: true});\n",
       "}}\n",
       "\n",
       "                        })                };                });            </script>        </div>"
      ]
     },
     "metadata": {},
     "output_type": "display_data"
    }
   ],
   "source": [
    "from biobb_amber.process.process_minout import process_minout\n",
    "\n",
    "process_minout(input_log_path  = f'{TMP_DIR}/sander.minH.log',\n",
    "               output_dat_path = f'{TMP_DIR}/sander.minH.dat',\n",
    "               properties      = {'terms': ['ENERGY']})\n",
    "\n",
    "with open(f'{TMP_DIR}/sander.minH.dat', 'r') as energy_file:\n",
    "    x,y = map(\n",
    "        list,\n",
    "        zip(*[\n",
    "            (float(line.split()[0]),float(line.split()[1]))\n",
    "            for line in energy_file \n",
    "            if not line.startswith((\"#\",\"@\")) \n",
    "            if float(line.split()[1]) < 1000 \n",
    "        ])\n",
    "    )\n",
    "\n",
    "plotly.offline.init_notebook_mode(connected=True)\n",
    "\n",
    "fig = {\n",
    "    \"data\": [go.Scatter(x=x, y=y)],\n",
    "    \"layout\": go.Layout(title=\"Energy Minimization\",\n",
    "                        xaxis=dict(title = \"Energy Minimization Step\"),\n",
    "                        yaxis=dict(title = \"Potential Energy kcal/mol\")\n",
    "                       )\n",
    "}\n",
    "\n",
    "plotly.offline.iplot(fig)"
   ]
  },
  {
   "cell_type": "code",
   "execution_count": 20,
   "id": "d5ba2883",
   "metadata": {},
   "outputs": [
    {
     "name": "stdout",
     "output_type": "stream",
     "text": [
      "-I: Adding /Users/joelricci/miniconda/envs/biobb/dat/leap/prep to search path.\n",
      "-I: Adding /Users/joelricci/miniconda/envs/biobb/dat/leap/lib to search path.\n",
      "-I: Adding /Users/joelricci/miniconda/envs/biobb/dat/leap/parm to search path.\n",
      "-I: Adding /Users/joelricci/miniconda/envs/biobb/dat/leap/cmd to search path.\n",
      "-f: Source ./../data/md_system_prep/LIG_systems/4fku/4fku-LIG_intermediate_files/leap_prep_SOLV.in.\n",
      "\n",
      "Welcome to LEaP!\n",
      "(no leaprc in search path)\n",
      "Sourcing: ./../data/md_system_prep/LIG_systems/4fku/4fku-LIG_intermediate_files/leap_prep_SOLV.in\n",
      "----- Source: /Users/joelricci/miniconda/envs/biobb/dat/leap/cmd/leaprc.protein.ff14SB\n",
      "----- Source of /Users/joelricci/miniconda/envs/biobb/dat/leap/cmd/leaprc.protein.ff14SB done\n",
      "Log file: ./leap.log\n",
      "Loading parameters: /Users/joelricci/miniconda/envs/biobb/dat/leap/parm/parm10.dat\n",
      "Reading title:\n",
      "PARM99 + frcmod.ff99SB + frcmod.parmbsc0 + OL3 for RNA\n",
      "Loading parameters: /Users/joelricci/miniconda/envs/biobb/dat/leap/parm/frcmod.ff14SB\n",
      "Reading force field modification type file (frcmod)\n",
      "Reading title:\n",
      "ff14SB protein backbone and sidechain parameters\n",
      "Loading library: /Users/joelricci/miniconda/envs/biobb/dat/leap/lib/amino12.lib\n",
      "Loading library: /Users/joelricci/miniconda/envs/biobb/dat/leap/lib/aminoct12.lib\n",
      "Loading library: /Users/joelricci/miniconda/envs/biobb/dat/leap/lib/aminont12.lib\n",
      "----- Source: /Users/joelricci/miniconda/envs/biobb/dat/leap/cmd/leaprc.gaff\n",
      "----- Source of /Users/joelricci/miniconda/envs/biobb/dat/leap/cmd/leaprc.gaff done\n",
      "Log file: ./leap.log\n",
      "Loading parameters: /Users/joelricci/miniconda/envs/biobb/dat/leap/parm/gaff.dat\n",
      "Reading title:\n",
      "AMBER General Force Field for organic molecules (Version 1.81, May 2017)\n",
      "----- Source: /Users/joelricci/miniconda/envs/biobb/dat/leap/cmd/leaprc.water.tip3p\n",
      "----- Source of /Users/joelricci/miniconda/envs/biobb/dat/leap/cmd/leaprc.water.tip3p done\n",
      "Loading library: /Users/joelricci/miniconda/envs/biobb/dat/leap/lib/atomic_ions.lib\n",
      "Loading library: /Users/joelricci/miniconda/envs/biobb/dat/leap/lib/solvents.lib\n",
      "Loading parameters: /Users/joelricci/miniconda/envs/biobb/dat/leap/parm/frcmod.tip3p\n",
      "Reading force field modification type file (frcmod)\n",
      "Reading title:\n",
      "This is the additional/replacement parameter set for TIP3P water\n",
      "Loading parameters: /Users/joelricci/miniconda/envs/biobb/dat/leap/parm/frcmod.ions1lm_126_tip3p\n",
      "Reading force field modification type file (frcmod)\n",
      "Reading title:\n",
      "Li/Merz ion parameters of monovalent ions for TIP3P water model (12-6 normal usage set)\n",
      "Loading parameters: /Users/joelricci/miniconda/envs/biobb/dat/leap/parm/frcmod.ionsjc_tip3p\n",
      "Reading force field modification type file (frcmod)\n",
      "Reading title:\n",
      "Monovalent ion parameters for Ewald and TIP3P water from Joung & Cheatham JPCB (2008)\n",
      "Loading parameters: /Users/joelricci/miniconda/envs/biobb/dat/leap/parm/frcmod.ions234lm_126_tip3p\n",
      "Reading force field modification type file (frcmod)\n",
      "Reading title:\n",
      "Li/Merz ion parameters of divalent to tetravalent ions for TIP3P water model (12-6 normal usage set)\n",
      "Loading parameters: /Users/joelricci/miniconda/envs/biobb/dat/leap/parm/frcmod.ionsjc_tip3p\n",
      "Reading force field modification type file (frcmod)\n",
      "Reading title:\n",
      "Monovalent ion parameters for Ewald and TIP3P water from Joung & Cheatham JPCB (2008)\n",
      "Loading library: ./../data/md_system_prep/LIG_systems/4fku/4fku-LIG_intermediate_files/LIG.lib\n",
      "Loading parameters: ./../data/md_system_prep/LIG_systems/4fku/4fku-LIG_intermediate_files/LIG.frcmod\n",
      "Reading force field modification type file (frcmod)\n",
      "Reading title:\n",
      "Remark line goes here\n",
      "Loading Mol2 file: ./../data/md_system_prep/LIG_systems/4fku/4fku-LIG_intermediate_files/LIG.mol2\n",
      "Reading MOLECULE named LIG\n",
      "Loading PDB file: ./../data/md_system_prep/LIG_systems/4fku/4fku-LIG_intermediate_files/COMPLEX.minH.pdb\n",
      "  total atoms in file: 4906\n",
      "Scaling up box by a factor of 1.268073 to meet diagonal cut criterion\n",
      "  Solute vdw bounding box:              44.423 67.012 54.632\n",
      "  Total bounding box for atom centers:  97.445 97.445 97.445\n",
      "      (box expansion for 'iso' is  49.1%)\n",
      "  Solvent unit box:                     18.774 18.774 18.774\n",
      "  Volume: 477040.503 A^3 (oct)\n",
      "  Total mass 257548.368 amu,  Density 0.897 g/cc\n",
      "  Added 12385 residues.\n",
      "Writing pdb file: ./../data/md_system_prep/LIG_systems/4fku/4fku-LIG_intermediate_files/SOLV.pdb\n",
      "   printing CRYST1 record to PDB file with box info\n",
      "\n",
      "/Users/joelricci/miniconda/envs/biobb/bin/teLeap: Warning!\n",
      " Converting N-terminal residue name to PDB format: NMET -> MET\n",
      "\n",
      "/Users/joelricci/miniconda/envs/biobb/bin/teLeap: Warning!\n",
      " Converting C-terminal residue name to PDB format: CLEU -> LEU\n",
      "Checking 'system'....\n",
      "\n",
      "/Users/joelricci/miniconda/envs/biobb/bin/teLeap: Warning!\n",
      "The unperturbed charge of the unit (4.000000) is not zero.\n",
      "Checking parameters for unit 'system'.\n",
      "Checking for bond parameters.\n",
      "Checking for angle parameters.\n",
      "check:  Warnings: 1\n",
      "Unit is OK.\n",
      "Total unperturbed charge:   4.000000\n",
      "Total perturbed charge:     4.000000\n",
      "Checking Unit.\n",
      "\n",
      "/Users/joelricci/miniconda/envs/biobb/bin/teLeap: Warning!\n",
      "The unperturbed charge of the unit (4.000000) is not zero.\n",
      "\n",
      "/Users/joelricci/miniconda/envs/biobb/bin/teLeap: Note.\n",
      "Ignoring the warning from Unit Checking.\n",
      "\n",
      "Building topology.\n",
      "Building atom parameters.\n",
      "Building bond parameters.\n",
      "Building angle parameters.\n",
      "Building proper torsion parameters.\n",
      "Building improper torsion parameters.\n",
      " total 975 improper torsions applied\n",
      "Building H-Bond parameters.\n",
      "Incorporating Non-Bonded adjustments.\n",
      "Not Marking per-residue atom chain types.\n",
      "Marking per-residue atom chain types.\n",
      "  (Residues lacking connect0/connect1 - \n",
      "   these don't have chain types marked:\n",
      "\n",
      "\tres\ttotal affected\n",
      "\n",
      "\tCLEU\t1\n",
      "\tLIG\t1\n",
      "\tNMET\t1\n",
      "\tWAT\t12392\n",
      "  )\n",
      " (no restraints)\n",
      "\tQuit\n",
      "\n",
      "Exiting LEaP: Errors = 0; Warnings = 4; Notes = 1.\n",
      "\n",
      "None\n"
     ]
    }
   ],
   "source": [
    "# Solvate the System\n",
    "\n",
    "from helper_modules.prepare_md_system import run_leap_solv\n",
    "OUT_PL_SOLV  = 'SOLV'\n",
    "run_leap_solv(input_basename  = OUT_MIN_SYSTEM,\n",
    "              output_basename = OUT_PL_SOLV, \n",
    "              box_padding     = BOX_PADDING,\n",
    "              solvent_type    = SOLVENT_TYPE,\n",
    "              input_ligand_basename = 'LIG',\n",
    "              tmp_dir = TMP_DIR)"
   ]
  },
  {
   "cell_type": "code",
   "execution_count": 21,
   "id": "89405981",
   "metadata": {},
   "outputs": [
    {
     "name": "stdout",
     "output_type": "stream",
     "text": [
      "-I: Adding /Users/joelricci/miniconda/envs/biobb/dat/leap/prep to search path.\n",
      "-I: Adding /Users/joelricci/miniconda/envs/biobb/dat/leap/lib to search path.\n",
      "-I: Adding /Users/joelricci/miniconda/envs/biobb/dat/leap/parm to search path.\n",
      "-I: Adding /Users/joelricci/miniconda/envs/biobb/dat/leap/cmd to search path.\n",
      "-f: Source ./../data/md_system_prep/LIG_systems/4fku/4fku-LIG_intermediate_files/leap_prep_NEUTRAL.in.\n",
      "\n",
      "Welcome to LEaP!\n",
      "(no leaprc in search path)\n",
      "Sourcing: ./../data/md_system_prep/LIG_systems/4fku/4fku-LIG_intermediate_files/leap_prep_NEUTRAL.in\n",
      "----- Source: /Users/joelricci/miniconda/envs/biobb/dat/leap/cmd/leaprc.protein.ff14SB\n",
      "----- Source of /Users/joelricci/miniconda/envs/biobb/dat/leap/cmd/leaprc.protein.ff14SB done\n",
      "Log file: ./leap.log\n",
      "Loading parameters: /Users/joelricci/miniconda/envs/biobb/dat/leap/parm/parm10.dat\n",
      "Reading title:\n",
      "PARM99 + frcmod.ff99SB + frcmod.parmbsc0 + OL3 for RNA\n",
      "Loading parameters: /Users/joelricci/miniconda/envs/biobb/dat/leap/parm/frcmod.ff14SB\n",
      "Reading force field modification type file (frcmod)\n",
      "Reading title:\n",
      "ff14SB protein backbone and sidechain parameters\n",
      "Loading library: /Users/joelricci/miniconda/envs/biobb/dat/leap/lib/amino12.lib\n",
      "Loading library: /Users/joelricci/miniconda/envs/biobb/dat/leap/lib/aminoct12.lib\n",
      "Loading library: /Users/joelricci/miniconda/envs/biobb/dat/leap/lib/aminont12.lib\n",
      "----- Source: /Users/joelricci/miniconda/envs/biobb/dat/leap/cmd/leaprc.gaff\n",
      "----- Source of /Users/joelricci/miniconda/envs/biobb/dat/leap/cmd/leaprc.gaff done\n",
      "Log file: ./leap.log\n",
      "Loading parameters: /Users/joelricci/miniconda/envs/biobb/dat/leap/parm/gaff.dat\n",
      "Reading title:\n",
      "AMBER General Force Field for organic molecules (Version 1.81, May 2017)\n",
      "----- Source: /Users/joelricci/miniconda/envs/biobb/dat/leap/cmd/leaprc.water.tip3p\n",
      "----- Source of /Users/joelricci/miniconda/envs/biobb/dat/leap/cmd/leaprc.water.tip3p done\n",
      "Loading library: /Users/joelricci/miniconda/envs/biobb/dat/leap/lib/atomic_ions.lib\n",
      "Loading library: /Users/joelricci/miniconda/envs/biobb/dat/leap/lib/solvents.lib\n",
      "Loading parameters: /Users/joelricci/miniconda/envs/biobb/dat/leap/parm/frcmod.tip3p\n",
      "Reading force field modification type file (frcmod)\n",
      "Reading title:\n",
      "This is the additional/replacement parameter set for TIP3P water\n",
      "Loading parameters: /Users/joelricci/miniconda/envs/biobb/dat/leap/parm/frcmod.ions1lm_126_tip3p\n",
      "Reading force field modification type file (frcmod)\n",
      "Reading title:\n",
      "Li/Merz ion parameters of monovalent ions for TIP3P water model (12-6 normal usage set)\n",
      "Loading parameters: /Users/joelricci/miniconda/envs/biobb/dat/leap/parm/frcmod.ionsjc_tip3p\n",
      "Reading force field modification type file (frcmod)\n",
      "Reading title:\n",
      "Monovalent ion parameters for Ewald and TIP3P water from Joung & Cheatham JPCB (2008)\n",
      "Loading parameters: /Users/joelricci/miniconda/envs/biobb/dat/leap/parm/frcmod.ions234lm_126_tip3p\n",
      "Reading force field modification type file (frcmod)\n",
      "Reading title:\n",
      "Li/Merz ion parameters of divalent to tetravalent ions for TIP3P water model (12-6 normal usage set)\n",
      "Loading parameters: /Users/joelricci/miniconda/envs/biobb/dat/leap/parm/frcmod.ionsjc_tip3p\n",
      "Reading force field modification type file (frcmod)\n",
      "Reading title:\n",
      "Monovalent ion parameters for Ewald and TIP3P water from Joung & Cheatham JPCB (2008)\n",
      "Loading library: ./../data/md_system_prep/LIG_systems/4fku/4fku-LIG_intermediate_files/LIG.lib\n",
      "Loading parameters: ./../data/md_system_prep/LIG_systems/4fku/4fku-LIG_intermediate_files/LIG.frcmod\n",
      "Reading force field modification type file (frcmod)\n",
      "Reading title:\n",
      "Remark line goes here\n",
      "Loading Mol2 file: ./../data/md_system_prep/LIG_systems/4fku/4fku-LIG_intermediate_files/LIG.mol2\n",
      "Reading MOLECULE named LIG\n",
      "Loading PDB file: ./../data/md_system_prep/LIG_systems/4fku/4fku-LIG_intermediate_files/SOLV.pdb\n",
      "  total atoms in file: 42061\n",
      "Adding 70 counter ions to \"system\". 12322 solvent molecules will remain.\n",
      "0: Placed Na+ in system at (38.66, -9.36, 11.28).\n",
      "Placed Cl- in system at (-33.74, -35.09, -12.17).\n",
      "0: Placed Na+ in system at (27.68, -8.29, 14.61).\n",
      "Placed Cl- in system at (-21.11, 17.50, -11.19).\n",
      "0: Placed Na+ in system at (-15.90, -45.79, 7.91).\n",
      "Placed Cl- in system at (6.40, 37.58, -9.87).\n",
      "0: Placed Na+ in system at (-3.81, 19.59, -14.66).\n",
      "Placed Cl- in system at (14.83, -37.07, 28.50).\n",
      "0: Placed Na+ in system at (1.05, 26.16, -4.25).\n",
      "Placed Cl- in system at (8.18, 29.21, 16.84).\n",
      "0: Placed Na+ in system at (13.71, -23.58, 18.86).\n",
      "Placed Cl- in system at (1.05, 39.98, -12.36).\n",
      "0: Placed Na+ in system at (14.97, 3.23, 31.76).\n",
      "Placed Cl- in system at (-35.16, 26.62, -13.79).\n",
      "0: Placed Na+ in system at (-9.64, 14.69, 31.44).\n",
      "Placed Cl- in system at (1.22, 9.33, -23.03).\n",
      "0: Placed Na+ in system at (-25.15, 13.49, 5.99).\n",
      "Placed Cl- in system at (-11.50, 30.08, -12.17).\n",
      "0: Placed Na+ in system at (-16.23, 1.72, -16.34).\n",
      "Placed Cl- in system at (-40.54, -1.40, -13.34).\n",
      "0: Placed Na+ in system at (-17.07, 18.30, 11.38).\n",
      "Placed Cl- in system at (32.08, 6.15, -24.62).\n",
      "0: Placed Na+ in system at (21.05, 13.88, 17.81).\n",
      "Placed Cl- in system at (33.55, -19.05, 5.73).\n",
      "0: Placed Na+ in system at (-13.76, -20.92, -26.75).\n",
      "Placed Cl- in system at (2.82, -32.06, -13.34).\n",
      "0: Placed Na+ in system at (-24.36, 28.67, -21.50).\n",
      "Placed Cl- in system at (-6.49, -12.56, 30.50).\n",
      "0: Placed Na+ in system at (-34.97, -17.55, 0.28).\n",
      "Placed Cl- in system at (-22.31, 21.54, 31.09).\n",
      "0: Placed Na+ in system at (25.65, 20.51, -24.47).\n",
      "Placed Cl- in system at (-15.28, 8.71, -22.44).\n",
      "0: Placed Na+ in system at (10.94, 30.97, 16.53).\n",
      "Placed Cl- in system at (6.01, -15.95, -25.21).\n",
      "0: Placed Na+ in system at (-9.39, -21.02, 30.26).\n",
      "Placed Cl- in system at (19.18, 8.40, -34.31).\n",
      "0: Placed Na+ in system at (4.11, -13.65, -28.67).\n",
      "Placed Cl- in system at (-20.21, 3.56, -1.79).\n",
      "0: Placed Na+ in system at (-5.92, -22.18, -29.87).\n",
      "Placed Cl- in system at (28.29, 37.83, -2.75).\n",
      "0: Placed Na+ in system at (-35.45, -2.90, -23.73).\n",
      "Placed Cl- in system at (-4.08, 32.13, -14.91).\n",
      "0: Placed Na+ in system at (-37.91, -5.94, -3.06).\n",
      "Placed Cl- in system at (10.44, 45.10, -17.56).\n",
      "0: Placed Na+ in system at (-8.02, 21.59, -26.62).\n",
      "Placed Cl- in system at (-16.07, -10.55, -6.18).\n",
      "0: Placed Na+ in system at (31.87, 36.58, -4.22).\n",
      "Placed Cl- in system at (-40.54, -24.40, -0.07).\n",
      "0: Placed Na+ in system at (-19.00, 9.46, -46.58).\n",
      "Placed Cl- in system at (3.16, -16.57, 26.12).\n",
      "0: Placed Na+ in system at (4.20, -23.91, -23.18).\n",
      "Placed Cl- in system at (35.65, 26.48, -15.03).\n",
      "0: Placed Na+ in system at (7.54, -4.93, -35.52).\n",
      "Placed Cl- in system at (36.57, 1.99, -11.91).\n",
      "0: Placed Na+ in system at (11.84, 20.94, -13.14).\n",
      "Placed Cl- in system at (-24.31, -14.56, 1.48).\n",
      "0: Placed Na+ in system at (-25.09, 28.83, -3.14).\n",
      "Placed Cl- in system at (20.73, 34.30, 17.24).\n",
      "0: Placed Na+ in system at (-1.22, -12.10, 27.66).\n",
      "Placed Cl- in system at (-15.06, 22.50, -2.75).\n",
      "0: Placed Na+ in system at (-36.64, 4.70, -11.44).\n",
      "Placed Cl- in system at (-5.43, 36.15, -30.42).\n",
      "0: Placed Na+ in system at (31.10, -17.62, -6.15).\n",
      "Placed Cl- in system at (-14.05, -5.40, 39.28).\n",
      "0: Placed Na+ in system at (36.51, -6.41, 28.50).\n",
      "Placed Cl- in system at (4.75, 30.75, -11.35).\n",
      "Placed Cl- in system at (-28.17, 2.77, -22.61).\n",
      "Placed Cl- in system at (-7.60, 8.96, -40.97).\n",
      "Placed Cl- in system at (-20.48, -0.64, -21.66).\n",
      "Placed Cl- in system at (5.87, -35.57, 3.04).\n",
      "Box dimensions:  87.825600 100.735600 104.204600\n",
      "Checking 'system'....\n",
      "Checking parameters for unit 'system'.\n",
      "Checking for bond parameters.\n",
      "Checking for angle parameters.\n",
      "Unit is OK.\n",
      "Total unperturbed charge:  -0.000000\n",
      "Total perturbed charge:    -0.000000\n",
      "Writing pdb file: ./../data/md_system_prep/LIG_systems/4fku/4fku-LIG_intermediate_files/NEUTRAL.pdb\n",
      "   printing CRYST1 record to PDB file with box info\n",
      "\n",
      "/Users/joelricci/miniconda/envs/biobb/bin/teLeap: Warning!\n",
      " Converting N-terminal residue name to PDB format: NMET -> MET\n",
      "\n",
      "/Users/joelricci/miniconda/envs/biobb/bin/teLeap: Warning!\n",
      " Converting C-terminal residue name to PDB format: CLEU -> LEU\n",
      "Checking Unit.\n",
      "Building topology.\n",
      "Building atom parameters.\n",
      "Building bond parameters.\n",
      "Building angle parameters.\n",
      "Building proper torsion parameters.\n",
      "Building improper torsion parameters.\n",
      " total 975 improper torsions applied\n",
      "Building H-Bond parameters.\n",
      "Incorporating Non-Bonded adjustments.\n",
      "Not Marking per-residue atom chain types.\n",
      "Marking per-residue atom chain types.\n",
      "  (Residues lacking connect0/connect1 - \n",
      "   these don't have chain types marked:\n",
      "\n",
      "\tres\ttotal affected\n",
      "\n",
      "\tCLEU\t1\n",
      "\tLIG\t1\n",
      "\tNMET\t1\n",
      "\tWAT\t12322\n",
      "  )\n",
      " (no restraints)\n",
      "\tQuit\n",
      "\n",
      "Exiting LEaP: Errors = 0; Warnings = 2; Notes = 0.\n",
      "\n",
      "None\n"
     ]
    }
   ],
   "source": [
    "# Neutralize the System\n",
    "\n",
    "from helper_modules.prepare_md_system import run_leap_neutralization\n",
    "OUT_PL_NEUTRAL = 'NEUTRAL'\n",
    "run_leap_neutralization(input_basename    = OUT_PL_SOLV, \n",
    "                        output_basename   = OUT_PL_NEUTRAL, \n",
    "                        tmp_dir           = TMP_DIR, \n",
    "                        solvent_type      = SOLVENT_TYPE,\n",
    "                        input_ligand_basename = 'LIG',\n",
    "                        ion_concentration = ION_MOLAR)"
   ]
  },
  {
   "cell_type": "code",
   "execution_count": 22,
   "id": "0f715167",
   "metadata": {},
   "outputs": [
    {
     "data": {
      "application/vnd.jupyter.widget-view+json": {
       "model_id": "48e8ae71aaa64d38add31c7d451b8ff3",
       "version_major": 2,
       "version_minor": 0
      },
      "text/plain": [
       "NGLWidget()"
      ]
     },
     "metadata": {},
     "output_type": "display_data"
    }
   ],
   "source": [
    "view = nglview.show_structure_file(f'{TMP_DIR}/{OUT_PL_NEUTRAL}.pdb')\n",
    "view.clear_representations()\n",
    "view.add_representation(repr_type ='cartoon', selection='protein')\n",
    "view.add_representation(repr_type ='licorice', selection='LIG')\n",
    "view.add_representation(repr_type ='spacefill', selection='Cl- Na+')\n",
    "view._remote_call('setSize', target='Widget', args=['','600px'])\n",
    "\n",
    "view"
   ]
  },
  {
   "cell_type": "code",
   "execution_count": 23,
   "id": "d32c79bf",
   "metadata": {},
   "outputs": [
    {
     "name": "stdout",
     "output_type": "stream",
     "text": [
      "Moving system to origin (44.00, 50.80, 51.94) -> (0,0,0)\n"
     ]
    }
   ],
   "source": [
    "# Center the System\n",
    "\n",
    "from helper_modules.prepare_md_system import run_center_system_to_origin\n",
    "\n",
    "run_center_system_to_origin(\n",
    "            filename = f'{TMP_DIR}/{OUT_PL_NEUTRAL}.rst7',\n",
    "            topology = f'{TMP_DIR}/{OUT_PL_NEUTRAL}.prmtop',\n",
    "            out_filename = f'{TMP_DIR}/{OUT_PL_NEUTRAL}.CENTERED.rst7')"
   ]
  },
  {
   "cell_type": "code",
   "execution_count": 24,
   "id": "224e80f3",
   "metadata": {},
   "outputs": [],
   "source": [
    "# Conver to gromacs\n",
    "import parmed as pmd\n",
    "\n",
    "top  = f'{TMP_DIR}/{OUT_PL_NEUTRAL}.prmtop'\n",
    "rst7 = f'{TMP_DIR}/{OUT_PL_NEUTRAL}.CENTERED.rst7.1'\n",
    "\n",
    "amber = pmd.load_file(top, rst7)\n",
    "#save a GROMACS topology and GRO file\n",
    "TOP_FILE = f'{TMP_DIR}/{FINAL_BASENAME}_NO_POSRES.top'\n",
    "FINAL_GRO_FILE = f'{WD}/{FINAL_BASENAME}.gro'\n",
    "amber.save(TOP_FILE)\n",
    "amber.save(FINAL_GRO_FILE)"
   ]
  },
  {
   "cell_type": "code",
   "execution_count": 25,
   "id": "5c93cf97",
   "metadata": {},
   "outputs": [
    {
     "data": {
      "text/plain": [
       "dict_keys(['system1', 'LIG', 'Na+', 'Cl-', 'WAT'])"
      ]
     },
     "execution_count": 25,
     "metadata": {},
     "output_type": "execute_result"
    }
   ],
   "source": [
    "from parmed.gromacs import GromacsTopologyFile\n",
    "top = GromacsTopologyFile(TOP_FILE)\n",
    "top.molecules.keys()"
   ]
  },
  {
   "cell_type": "code",
   "execution_count": 26,
   "id": "6b37b67a",
   "metadata": {},
   "outputs": [],
   "source": [
    "from helper_modules.prepare_md_system import include_posre_in_top, create_posre_file\n",
    "\n",
    "FINAL_TOP_FILE = f'{WD}/{FINAL_BASENAME}.top'\n",
    "# Protein posres\n",
    "PROT_POSRE_FILE = f'{FINAL_BASENAME}.prot_posre.itp'\n",
    "create_posre_file(input_gro          = FINAL_GRO_FILE, \n",
    "                  out_posre_filename = f'{WD}/{PROT_POSRE_FILE}',\n",
    "                  mol_selection      = 'protein',\n",
    "                  rest_energies      = [1000, 1000, 1000],\n",
    "                  verbose = False)\n",
    "include_posre_in_top(input_top_file = TOP_FILE, \n",
    "                     out_top_file   = FINAL_TOP_FILE, \n",
    "                     posre_filename = PROT_POSRE_FILE,\n",
    "                     molecule_index = 1 # inx=1 for protein\n",
    "                    )\n",
    "\n",
    "# Ligand posres\n",
    "LIG_POSRE_FILE = f'{FINAL_BASENAME}.lig_posre.itp'\n",
    "create_posre_file(input_gro          = FINAL_GRO_FILE, \n",
    "                  out_posre_filename = f'{WD}/{LIG_POSRE_FILE}',\n",
    "                  mol_selection      = 'ligand',\n",
    "                  rest_energies      = [1000, 1000, 1000],\n",
    "                  verbose = False)\n",
    "include_posre_in_top(input_top_file = FINAL_TOP_FILE, \n",
    "                     out_top_file   = FINAL_TOP_FILE, \n",
    "                     posre_filename = LIG_POSRE_FILE,\n",
    "                     molecule_index = 2 # inx=2 for ligand\n",
    "                    )"
   ]
  },
  {
   "cell_type": "code",
   "execution_count": 27,
   "id": "5abedcae",
   "metadata": {},
   "outputs": [],
   "source": [
    "\n",
    "# Get the protein charge\n",
    "import re\n",
    "\n",
    "def get_log_lines(file, \n",
    "                  pattern, \n",
    "                  lines_list = [0]):\n",
    "    log_lines = []\n",
    "    with open(file,\"r\") as file:\n",
    "        lines = file.readlines()\n",
    "        for i, line in enumerate(lines):\n",
    "            if re.search(pattern, line):\n",
    "                for j in lines_list:\n",
    "                    log_lines.append(lines[i + j])\n",
    "    return log_lines\n",
    "\n"
   ]
  },
  {
   "cell_type": "code",
   "execution_count": 28,
   "id": "4781c885",
   "metadata": {},
   "outputs": [
    {
     "name": "stdout",
     "output_type": "stream",
     "text": [
      "\n",
      "Protein Net Charge: 4.000000\n",
      "\n",
      "System Net Charge: -0.000000\n",
      "\n",
      "Number of Protein atoms: 4848\n",
      "\n",
      "Total Number of atoms: 42061\n",
      "\n",
      "Number of WAT molecules:\n",
      "WAT\t12322\n",
      "\n",
      "Number of Na+ ions:\n",
      "33\n",
      "\n",
      "Number of Cl- ions:\n",
      "37\n",
      "Box dimensions:\n",
      "\n",
      "- x: 87.825600\n",
      "\n",
      "- y: 100.735600\n",
      "\n",
      "- z: 104.204600\n",
      "\n",
      "\n",
      "\n",
      "Warnings:\n",
      " Converting N-terminal residue name to PDB format: NMET -> MET\n",
      "\n",
      " Converting C-terminal residue name to PDB format: CLEU -> LEU\n",
      "\n"
     ]
    }
   ],
   "source": [
    "# Report Logs\n",
    "file = f'{TMP_DIR}/leap_prep_{OUT_SYSTEM}.in.log'\n",
    "\n",
    "# Protein charge\n",
    "pattern = 'charge protein'\n",
    "protein_charge = get_log_lines(file, pattern, lines_list = [1])\n",
    "protein_charge = protein_charge[0].replace('\\n', '').split(' ')[-1]\n",
    "protein_charge= [f'\\nProtein Net Charge: {protein_charge}']\n",
    "\n",
    "# Total protein atoms\n",
    "pattern = 'total atoms in file'\n",
    "n_protein_atoms = get_log_lines(file, pattern, lines_list = [0])\n",
    "n_protein_atoms = n_protein_atoms[0].strip().split(' ')[-1]\n",
    "n_protein_atoms = [f'\\nNumber of Protein atoms: {n_protein_atoms}']\n",
    "\n",
    "\n",
    "file = f'{TMP_DIR}/leap_prep_{OUT_PL_NEUTRAL}.in.log'\n",
    "\n",
    "# Total protein atoms\n",
    "pattern = 'total atoms in file'\n",
    "n_total_atoms = get_log_lines(file, pattern, lines_list = [0])\n",
    "n_total_atoms = n_total_atoms[0].strip().split(' ')[-1]\n",
    "n_total_atoms = [f'\\nTotal Number of atoms: {n_total_atoms}']\n",
    "\n",
    "# System charge\n",
    "pattern = 'charge system'\n",
    "system_charge = get_log_lines(file, pattern, lines_list = [1])\n",
    "system_charge = system_charge[0].replace('\\n', '').split(' ')[-1]\n",
    "system_charge = [f'\\nSystem Net Charge: {system_charge}']\n",
    "\n",
    "# Box dimensions\n",
    "pattern = 'Box dimensions'\n",
    "box_dimensions = get_log_lines(file, pattern, lines_list = [0])\n",
    "box_dimensions = box_dimensions[0].split(' ')[-3:]\n",
    "box_dimensions = [f'- {c}: {b}\\n' for b, c in zip(box_dimensions, ['x', 'y', 'z'])]\n",
    "box_dimensions.insert(0, pattern + ':\\n')\n",
    "\n",
    "# Warnings\n",
    "pattern = 'Warning!'\n",
    "warnings = get_log_lines(file, pattern, lines_list = [1])\n",
    "warnings.insert(0, '\\nWarnings:')\n",
    "\n",
    "# Number of final waters\n",
    "pattern = '\\tWAT'\n",
    "n_waters = get_log_lines(file, pattern, lines_list = [0])\n",
    "n_waters = [n_waters[0].strip()]\n",
    "n_waters.insert(0, '\\nNumber of WAT molecules:')\n",
    "\n",
    "# Number of ions\n",
    "pattern = 'Placed Na+'\n",
    "n_Na = [str(len(get_log_lines(file, pattern, lines_list = [0])))]\n",
    "n_Na.insert(0, '\\nNumber of Na+ ions:')\n",
    "\n",
    "pattern = 'Placed Cl-'\n",
    "n_Cl = [str(len(get_log_lines(file, pattern, lines_list = [0])))]\n",
    "n_Cl.insert(0, '\\nNumber of Cl- ions:')\n",
    "\n",
    "# Number of cosolvent molecules\n",
    "solv_lines = []\n",
    "SOLVENT = 'WAT'\n",
    "if SOLVENT != None and SOLVENT != 'WAT':\n",
    "    pattern = f'\\t{SOLVENT}'\n",
    "    solv_lines = get_log_lines(file, pattern, lines_list = [0])\n",
    "    solv_lines = [solv_lines[0].strip()]\n",
    "    solv_lines.insert(0, f'\\nNumber of {SOLVENT} molecules:')\n",
    "    \n",
    "LINES = protein_charge + system_charge + n_protein_atoms + n_total_atoms +\\\n",
    "        n_waters + solv_lines +\\\n",
    "        n_Na + n_Cl + box_dimensions + warnings\n",
    "        \n",
    "with open(f'{TMP_DIR}/PREP_SUMMARY.log', 'w') as f:\n",
    "    f.writelines(LINES)\n",
    "    \n",
    "for l in LINES:\n",
    "    print(l)"
   ]
  },
  {
   "cell_type": "code",
   "execution_count": null,
   "id": "156cc4f1",
   "metadata": {},
   "outputs": [],
   "source": []
  }
 ],
 "metadata": {
  "kernelspec": {
   "display_name": "Python 3 (ipykernel)",
   "language": "python",
   "name": "python3"
  },
  "language_info": {
   "codemirror_mode": {
    "name": "ipython",
    "version": 3
   },
   "file_extension": ".py",
   "mimetype": "text/x-python",
   "name": "python",
   "nbconvert_exporter": "python",
   "pygments_lexer": "ipython3",
   "version": "3.7.12"
  }
 },
 "nbformat": 4,
 "nbformat_minor": 5
}
