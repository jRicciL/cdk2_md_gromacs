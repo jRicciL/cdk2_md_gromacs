{
 "cells": [
  {
   "cell_type": "markdown",
   "id": "19b70da1",
   "metadata": {},
   "source": [
    "# Molecular Dynamics\n",
    "\n",
    "## System preparation using `tleap`\n",
    "\n",
    "- Based on *[Amber MD Setup using biobb](https://mmb.irbbarcelona.org/biobb/workflows/tutorials/amber_md_setup)*"
   ]
  },
  {
   "cell_type": "code",
   "execution_count": 1,
   "id": "55bbafc7",
   "metadata": {},
   "outputs": [
    {
     "data": {
      "application/vnd.jupyter.widget-view+json": {
       "model_id": "fafd383748f8447baf31230779472eb0",
       "version_major": 2,
       "version_minor": 0
      },
      "text/plain": []
     },
     "metadata": {},
     "output_type": "display_data"
    }
   ],
   "source": [
    "import subprocess\n",
    "import os \n",
    "import shutil\n",
    "import warnings\n",
    "import nglview\n",
    "import ipywidgets\n",
    "import sys\n",
    "sys.path.append('..')\n",
    "import plotly\n",
    "from plotly import subplots\n",
    "import plotly.graph_objs as go\n",
    "from pathlib import Path\n",
    "%load_ext autoreload\n",
    "%autoreload 2"
   ]
  },
  {
   "cell_type": "code",
   "execution_count": 2,
   "id": "ead2b0db",
   "metadata": {},
   "outputs": [],
   "source": [
    "PDB_ID         = '3pxf'\n",
    "SOLVENT        = 'MAM'\n",
    "SOLVENT_TYPE   = 'MAMWAT20'\n",
    "PH             = 7.4\n",
    "BOX_PADDING    = 12.0\n",
    "ION_MOLAR      = 0.15 \n",
    "\n",
    "# Output basename\n",
    "FINAL_BASENAME = f'{PDB_ID}-{SOLVENT}'\n",
    "\n",
    "# Define the input files\n",
    "WD = f'./../data/md_system_prep/{SOLVENT}_systems/{PDB_ID}'\n",
    "INPUT_PROT = f'{WD}/{PDB_ID}_A_mod.pdb'"
   ]
  },
  {
   "cell_type": "markdown",
   "id": "bf1b79be",
   "metadata": {},
   "source": [
    "- Create a directory to save intermediate files:"
   ]
  },
  {
   "cell_type": "code",
   "execution_count": 3,
   "id": "4d4a8467",
   "metadata": {},
   "outputs": [],
   "source": [
    "# Create a folder to store intermediate files\n",
    "TMP_DIR = f'{WD}/{FINAL_BASENAME}_intermediate_files'\n",
    "Path(TMP_DIR).mkdir(exist_ok = True, parents=True)"
   ]
  },
  {
   "cell_type": "markdown",
   "id": "2f049e24",
   "metadata": {},
   "source": [
    "### Prepare the protein using `PDB2PQR`"
   ]
  },
  {
   "cell_type": "code",
   "execution_count": 4,
   "id": "67f66d36",
   "metadata": {},
   "outputs": [
    {
     "name": "stdout",
     "output_type": "stream",
     "text": [
      "INFO:PDB2PQR v3.4.1: biomolecular structure conversion software.\n",
      "INFO:Please cite:  Jurrus E, et al.  Improvements to the APBS biomolecular solvation software suite.  Protein Sci 27 112-128 (2018).\n",
      "INFO:Please cite:  Dolinsky TJ, et al.  PDB2PQR: expanding and upgrading automated preparation of biomolecular structures for molecular simulations. Nucleic Acids Res 35 W522-W525 (2007).\n",
      "INFO:Checking and transforming input arguments.\n",
      "INFO:Loading topology files.\n",
      "INFO:Loading molecule: ./../data/md_system_prep/MAM_systems/3pxf/3pxf_A_mod.pdb\n",
      "INFO:Dropping water from structure.\n",
      "INFO:Setting up molecule.\n",
      "INFO:Created biomolecule object with 298 residues and 4848 atoms.\n",
      "INFO:Setting termini states for biomolecule chains.\n",
      "INFO:Loading forcefield.\n",
      "INFO:Loading hydrogen topology definitions.\n",
      "INFO:This biomolecule is clean.  No repair needed.\n",
      "INFO:Updating disulfide bridges.\n",
      "INFO:Debumping biomolecule.\n",
      "INFO:Assigning titration states with PROPKA.\n",
      "INFO:\n",
      "propka3.4.0                                                                                  2022-04-03\n",
      "\n",
      "-------------------------------------------------------------------------------\n",
      "--                                                                           --\n",
      "--  PROPKA: A PROTEIN PKA PREDICTOR                                          --\n",
      "--                                                                           --\n",
      "--  VERSION 1.0,  04/25/2004,  IOWA CITY                                     --\n",
      "--  BY HUI LI                                                                --\n",
      "--                                                                           --\n",
      "--  VERSION 2.0,  11/05/2007, IOWA CITY/COPENHAGEN                           --\n",
      "--  BY DELPHINE C. BAS AND DAVID M. ROGERS                                   --\n",
      "--                                                                           --\n",
      "--  VERSION 3.0,  01/06/2011, COPENHAGEN                                     --\n",
      "--  BY MATS H.M. OLSSON AND CHRESTEN R. SONDERGARD                           --\n",
      "--                                                                           --\n",
      "--  VERSION 3.1,  07/01/2011, COPENHAGEN                                     --\n",
      "--  BY CHRESTEN R. SONDERGARD AND MATS H.M. OLSSON                           --\n",
      "--                                                                           --\n",
      "--  VERSION 3.2,  06/17/2020, PLANET EARTH                                   --\n",
      "--  SEE ABOVE FOR AUTHORS                                                    --\n",
      "--                                                                           --\n",
      "-------------------------------------------------------------------------------\n",
      "\n",
      "\n",
      "-------------------------------------------------------------------------------\n",
      "References:\n",
      "\n",
      "Very Fast Empirical Prediction and Rationalization of Protein pKa Values.\n",
      "Hui Li, Andrew D. Robertson and Jan H. Jensen. PROTEINS: Structure, Function,\n",
      "and Bioinformatics. 61:704-721 (2005)\n",
      "\n",
      "Very Fast Prediction and Rationalization of pKa Values for Protein-Ligand\n",
      "Complexes.  Delphine C. Bas, David M. Rogers and Jan H. Jensen.  PROTEINS:\n",
      "Structure, Function, and Bioinformatics 73:765-783 (2008)\n",
      "\n",
      "PROPKA3: Consistent Treatment of Internal and Surface Residues in Empirical\n",
      "pKa predictions.  Mats H.M. Olsson, Chresten R. Sondergard, Michal Rostkowski,\n",
      "and Jan H. Jensen.  Journal of Chemical Theory and Computation, 7(2):525-537\n",
      "(2011)\n",
      "\n",
      "Improved Treatment of Ligands and Coupling Effects in Empirical Calculation\n",
      "and Rationalization of pKa Values.  Chresten R. Sondergaard, Mats H.M. Olsson,\n",
      "Michal Rostkowski, and Jan H. Jensen.  Journal of Chemical Theory and\n",
      "Computation, (2011)\n",
      "-------------------------------------------------------------------------------\n",
      "\n",
      "\n",
      "\n",
      "INFO:Coupling map:\n",
      "\n",
      "INFO:Calculating pKas for Conformation container 1A with 2794 atoms and 712 groups\n",
      "INFO:pKa determinants:\n",
      "\n",
      "---------  -----   ------   ---------------------    --------------    --------------    --------------\n",
      "                            DESOLVATION  EFFECTS       SIDECHAIN          BACKBONE        COULOMBIC\n",
      " RESIDUE    pKa    BURIED     REGULAR      RE        HYDROGEN BOND     HYDROGEN BOND      INTERACTION\n",
      "---------  -----   ------   ---------   ---------    --------------    --------------    --------------\n",
      "\n",
      "ASP  38 A   4.21     0 %    0.48  264   0.00    0    0.00 XXX   0 X    0.00 XXX   0 X   -0.05 ARG  36 A\n",
      "ASP  38 A                                            0.00 XXX   0 X    0.00 XXX   0 X   -0.02 ARG 157 A\n",
      "\n",
      "ASP  68 A   3.52     0 %    0.32  274   0.00    0    0.00 XXX   0 X   -0.57 VAL  69 A   -0.02 N+    1 A\n",
      "ASP  68 A                                            0.00 XXX   0 X    0.00 XXX   0 X   -0.01 LYS  56 A\n",
      "\n",
      "ASP  86 A   4.68    78 %    2.56  501   0.95    0   -0.85 LYS  89 A   -0.15 LYS  88 A   -0.07 LYS  88 A\n",
      "ASP  86 A                                            0.00 XXX   0 X   -0.84 LYS  89 A    0.10 ASP  92 A\n",
      "ASP  86 A                                            0.00 XXX   0 X    0.00 XXX   0 X   -0.82 LYS  89 A\n",
      "\n",
      "ASP  92 A   3.58    17 %    0.77  328   0.17    0   -0.62 LYS  88 A    0.00 XXX   0 X   -0.05 LYS  89 A\n",
      "ASP  92 A                                            0.00 XXX   0 X    0.00 XXX   0 X   -0.49 LYS  88 A\n",
      "\n",
      "ASP 127 A   5.61    91 %    2.73  536   0.98    0   -0.21 ASN 132 A    0.00 XXX   0 X   -0.31 ARG 150 A\n",
      "ASP 127 A                                           -0.85 LYS 129 A    0.00 XXX   0 X   -0.14 ARG 169 A\n",
      "ASP 127 A                                            0.00 XXX   0 X    0.00 XXX   0 X   -1.30 LYS 129 A\n",
      "ASP 127 A                                            0.00 XXX   0 X    0.00 XXX   0 X    0.91 ASP 145 A\n",
      "\n",
      "ASP 145 A   4.62   100 %    3.41  563   1.02    0   -0.50 THR  14 A   -0.30 THR  14 A   -1.13 LYS  33 A\n",
      "ASP 145 A                                           -0.03 ASN 132 A    0.00 XXX   0 X   -1.29 LYS 129 A\n",
      "ASP 145 A                                           -0.36 LYS 129 A    0.00 XXX   0 X    0.00 XXX   0 X\n",
      "\n",
      "ASP 185 A   5.92   100 %    3.74  605   0.38    0    0.00 XXX   0 X   -0.84 HIE 125 A   -0.39 ARG 126 A\n",
      "ASP 185 A                                            0.00 XXX   0 X   -0.80 ARG 126 A    0.03 ASP 127 A\n",
      "\n",
      "ASP 206 A   4.45     0 %    0.32  218   0.00    0   -0.02 SER 207 A   -0.14 ASP 206 A   -0.16 ARG 214 A\n",
      "ASP 206 A                                            0.26 ASP 210 A    0.00 XXX   0 X    0.38 ASP 210 A\n",
      "\n",
      "ASP 210 A   2.36     4 %    0.63  292   0.02    0   -0.26 ASP 206 A   -0.70 ASP 206 A   -0.00 ARG 217 A\n",
      "ASP 210 A                                           -0.74 ARG 214 A    0.00 XXX   0 X   -0.37 ARG 214 A\n",
      "\n",
      "ASP 223 A   3.03     0 %    0.43  265   0.00    0    0.00 XXX   0 X   -0.13 ASP 223 A   -0.12 LYS 242 A\n",
      "ASP 223 A                                            0.00 XXX   0 X   -0.18 VAL 225 A    0.05 GLU 224 A\n",
      "ASP 223 A                                            0.00 XXX   0 X   -0.81 VAL 226 A    0.00 XXX   0 X\n",
      "\n",
      "ASP 235 A   3.98     0 %    0.32  263   0.00    0    0.00 XXX   0 X    0.00 XXX   0 X   -0.14 LYS 237 A\n",
      "\n",
      "ASP 247 A   3.79     0 %    0.18  191   0.00    0    0.00 XXX   0 X    0.00 XXX   0 X   -0.14 ARG 245 A\n",
      "ASP 247 A                                            0.00 XXX   0 X    0.00 XXX   0 X   -0.02 LYS 250 A\n",
      "ASP 247 A                                            0.00 XXX   0 X    0.00 XXX   0 X   -0.03 ARG 260 A\n",
      "\n",
      "ASP 256 A   2.88     1 %    0.39  285   0.00    0    0.00 XXX   0 X   -0.04 ASP 256 A   -0.14 LYS 105 A\n",
      "ASP 256 A                                            0.00 XXX   0 X   -0.46 ASP 258 A   -0.08 ARG 260 A\n",
      "ASP 256 A                                            0.00 XXX   0 X   -0.63 GLY 259 A    0.03 ASP 288 A\n",
      "\n",
      "ASP 258 A   4.33     0 %    0.38  247   0.00    0    0.00 XXX   0 X    0.00 XXX   0 X   -0.08 LYS 105 A\n",
      "ASP 258 A                                            0.00 XXX   0 X    0.00 XXX   0 X    0.20 ASP 256 A\n",
      "ASP 258 A                                            0.00 XXX   0 X    0.00 XXX   0 X    0.03 ASP 288 A\n",
      "\n",
      "ASP 270 A   4.02    20 %    1.04  336   0.08    0    0.00 XXX   0 X   -0.67 ASN 272 A   -0.13 LYS 273 A\n",
      "ASP 270 A                                            0.00 XXX   0 X    0.00 XXX   0 X   -0.10 ARG 274 A\n",
      "ASP 270 A                                            0.00 XXX   0 X    0.00 XXX   0 X    0.01 GLU 224 A\n",
      "\n",
      "ASP 288 A   2.69     0 %    0.39  262   0.00    0   -0.68 LYS 105 A   -0.41 ASP 288 A   -0.41 LYS 105 A\n",
      "\n",
      "GLU   2 A   3.35     0 %    0.20  196   0.00    0   -0.32 N+    1 A   -0.61 GLU   2 A   -0.06 LYS  24 A\n",
      "GLU   2 A                                            0.00 XXX   0 X    0.00 XXX   0 X   -0.36 N+    1 A\n",
      "\n",
      "GLU   8 A   4.55     0 %    0.29  228   0.00    0    0.00 XXX   0 X    0.00 XXX   0 X   -0.24 LYS  20 A\n",
      "GLU   8 A                                            0.00 XXX   0 X    0.00 XXX   0 X   -0.01 ARG  22 A\n",
      "GLU   8 A                                            0.00 XXX   0 X    0.00 XXX   0 X    0.01 C-  298 A\n",
      "\n",
      "GLU  12 A   4.01     0 %    0.36  250   0.00    0   -0.45 LYS   9 A    0.00 XXX   0 X   -0.02 LYS  89 A\n",
      "GLU  12 A                                            0.00 XXX   0 X    0.00 XXX   0 X   -0.38 LYS   9 A\n",
      "\n",
      "GLU  28 A   4.75     0 %    0.28  268   0.00    0    0.00 XXX   0 X    0.00 XXX   0 X   -0.05 LYS  65 A\n",
      "GLU  28 A                                            0.00 XXX   0 X    0.00 XXX   0 X    0.01 GLU  81 A\n",
      "\n",
      "GLU  40 A   5.10     0 %    0.29  190   0.00    0    0.00 XXX   0 X    0.00 XXX   0 X    0.31 ASP  38 A\n",
      "\n",
      "GLU  42 A   4.58     0 %    0.08   79   0.00    0    0.00 XXX   0 X    0.00 XXX   0 X    0.00 XXX   0 X\n",
      "\n",
      "GLU  51 A   5.20    26 %    1.03  353   0.17    0    0.00 XXX   0 X    0.00 XXX   0 X   -0.08 ARG  50 A\n",
      "GLU  51 A                                            0.00 XXX   0 X    0.00 XXX   0 X   -0.06 ARG 122 A\n",
      "GLU  51 A                                            0.00 XXX   0 X    0.00 XXX   0 X   -0.37 ARG 126 A\n",
      "\n",
      "GLU  57 A   4.66     0 %    0.27  211   0.00    0    0.00 XXX   0 X    0.00 XXX   0 X   -0.02 ARG  50 A\n",
      "GLU  57 A                                            0.00 XXX   0 X    0.00 XXX   0 X   -0.00 LYS  56 A\n",
      "GLU  57 A                                            0.00 XXX   0 X    0.00 XXX   0 X   -0.09 ARG 122 A\n",
      "\n",
      "GLU  73 A   4.58     0 %    0.09  115   0.00    0    0.00 XXX   0 X    0.00 XXX   0 X   -0.01 LYS  75 A\n",
      "\n",
      "GLU  81 A   4.03    48 %    1.62  416   0.26    0   -0.85 LYS 142 A   -0.81 LYS  65 A   -0.09 LYS  65 A\n",
      "GLU  81 A                                            0.00 XXX   0 X    0.00 XXX   0 X   -0.61 LYS 142 A\n",
      "\n",
      "GLU 138 A   4.46     0 %    0.12  192   0.00    0    0.00 XXX   0 X    0.00 XXX   0 X   -0.02 LYS 142 A\n",
      "GLU 138 A                                            0.00 XXX   0 X    0.00 XXX   0 X   -0.14 LYS 291 A\n",
      "\n",
      "GLU 162 A   4.70     0 %    0.16  203   0.00    0    0.00 XXX   0 X    0.00 XXX   0 X    0.04 GLU  12 A\n",
      "\n",
      "GLU 172 A   4.69    90 %    3.56  532   0.28    0   -1.43 ARG 274 A   -0.74 GLU 172 A    0.07 ASP 270 A\n",
      "GLU 172 A                                            0.00 XXX   0 X    0.00 XXX   0 X   -1.56 ARG 274 A\n",
      "\n",
      "GLU 195 A   6.20    80 %    2.62  504   0.23    0   -0.85 TYR 168 A    0.00 XXX   0 X   -0.37 LYS  88 A\n",
      "GLU 195 A                                            0.00 XXX   0 X    0.00 XXX   0 X    0.08 ASP  92 A\n",
      "\n",
      "GLU 208 A   4.68     8 %    0.28  305   0.01    0    0.00 XXX   0 X    0.00 XXX   0 X   -0.00 ARG 150 A\n",
      "GLU 208 A                                            0.00 XXX   0 X    0.00 XXX   0 X   -0.23 ARG 169 A\n",
      "GLU 208 A                                            0.00 XXX   0 X    0.00 XXX   0 X    0.11 ASP 235 A\n",
      "\n",
      "GLU 224 A   2.74     0 %    0.51  239   0.00    0   -0.85 THR 231 A   -0.85 GLY 229 A    0.00 XXX   0 X\n",
      "GLU 224 A                                            0.00 XXX   0 X   -0.58 THR 231 A    0.00 XXX   0 X\n",
      "\n",
      "GLU 257 A   4.65     0 %    0.21  222   0.00    0    0.00 XXX   0 X    0.00 XXX   0 X   -0.17 ARG 260 A\n",
      "GLU 257 A                                            0.00 XXX   0 X    0.00 XXX   0 X    0.04 ASP 256 A\n",
      "GLU 257 A                                            0.00 XXX   0 X    0.00 XXX   0 X    0.07 ASP 258 A\n",
      "\n",
      "C-  298 A   3.35     0 %    0.15  163   0.00    0    0.00 XXX   0 X    0.00 XXX   0 X    0.00 XXX   0 X\n",
      "\n",
      "CYS 118 A  12.43    83 %    3.08  513   0.00    0    0.00 XXX   0 X   -0.06 CYS 118 A    0.42 ASP 185 A\n",
      "\n",
      "CYS 177 A  10.97    42 %    1.68  398   0.00    0    0.00 XXX   0 X   -0.04 CYS 177 A   -0.02 ARG 274 A\n",
      "CYS 177 A                                            0.00 XXX   0 X    0.00 XXX   0 X    0.34 GLU 172 A\n",
      "CYS 177 A                                            0.00 XXX   0 X    0.00 XXX   0 X    0.02 ASP 235 A\n",
      "\n",
      "CYS 191 A  12.94   100 %    3.86  657   0.00    0   -0.03 TRP 187 A   -0.01 CYS 191 A   -0.12 ARG 274 A\n",
      "CYS 191 A                                            0.00 XXX   0 X    0.00 XXX   0 X    0.24 GLU 195 A\n",
      "\n",
      "TYR  15 A  12.40    89 %    2.35  531   0.00    0   -0.28 THR  14 A   -0.54 ALA 149 A    0.11 ASP 127 A\n",
      "TYR  15 A                                            0.00 XXX   0 X    0.00 XXX   0 X   -0.03 ARG 150 A\n",
      "TYR  15 A                                            0.00 XXX   0 X    0.00 XXX   0 X    0.13 TYR 159 A\n",
      "TYR  15 A                                            0.00 XXX   0 X    0.00 XXX   0 X    0.65 ASP 145 A\n",
      "\n",
      "TYR  19 A  10.02     0 %    0.26  233   0.00    0    0.00 XXX   0 X    0.00 XXX   0 X    0.01 GLU  12 A\n",
      "TYR  19 A                                            0.00 XXX   0 X    0.00 XXX   0 X   -0.16 LYS   6 A\n",
      "TYR  19 A                                            0.00 XXX   0 X    0.00 XXX   0 X   -0.09 LYS   9 A\n",
      "\n",
      "TYR  77 A  10.58    11 %    0.57  312   0.00    0    0.00 XXX   0 X    0.00 XXX   0 X    0.05 GLU   2 A\n",
      "TYR  77 A                                            0.00 XXX   0 X    0.00 XXX   0 X   -0.04 ARG  36 A\n",
      "\n",
      "TYR 107 A  12.76    72 %    2.76  484   0.00    0    0.00 XXX   0 X    0.00 XXX   0 X    0.00 XXX   0 X\n",
      "\n",
      "TYR 159 A   9.88    47 %    1.37  413   0.00    0   -0.57 THR 165 A    0.00 XXX   0 X    0.26 ASP 145 A\n",
      "TYR 159 A                                           -0.78 ARG 150 A    0.00 XXX   0 X   -0.16 ARG 169 A\n",
      "TYR 159 A                                            0.00 XXX   0 X    0.00 XXX   0 X   -0.39 LYS 129 A\n",
      "TYR 159 A                                            0.00 XXX   0 X    0.00 XXX   0 X    0.78 ASP 127 A\n",
      "TYR 159 A                                            0.00 XXX   0 X    0.00 XXX   0 X   -0.63 ARG 150 A\n",
      "\n",
      "TYR 168 A  15.80    90 %    3.28  532   0.00    0    0.85 GLU 195 A    0.00 XXX   0 X    0.02 ASP  92 A\n",
      "TYR 168 A                                            0.00 XXX   0 X    0.00 XXX   0 X    0.02 ASP 127 A\n",
      "TYR 168 A                                            0.00 XXX   0 X    0.00 XXX   0 X    0.41 CYS 191 A\n",
      "TYR 168 A                                            0.00 XXX   0 X    0.00 XXX   0 X    1.23 GLU 195 A\n",
      "\n",
      "TYR 179 A  10.11     0 %    0.11  104   0.00    0    0.00 XXX   0 X    0.00 XXX   0 X    0.00 XXX   0 X\n",
      "\n",
      "TYR 180 A  10.16    52 %    1.40  427   0.00    0   -0.67 ARG 126 A    0.00 XXX   0 X    0.08 GLU  51 A\n",
      "TYR 180 A                                            0.00 XXX   0 X    0.00 XXX   0 X   -0.74 ARG 126 A\n",
      "TYR 180 A                                            0.00 XXX   0 X    0.00 XXX   0 X   -0.11 ARG 150 A\n",
      "TYR 180 A                                            0.00 XXX   0 X    0.00 XXX   0 X   -0.01 ARG 169 A\n",
      "TYR 180 A                                            0.00 XXX   0 X    0.00 XXX   0 X    0.09 CYS 177 A\n",
      "TYR 180 A                                            0.00 XXX   0 X    0.00 XXX   0 X    0.12 ASP 185 A\n",
      "\n",
      "TYR 236 A  10.69     8 %    0.59  303   0.00    0    0.00 XXX   0 X    0.00 XXX   0 X    0.05 ASP 223 A\n",
      "TYR 236 A                                            0.00 XXX   0 X    0.00 XXX   0 X    0.05 GLU 224 A\n",
      "\n",
      "TYR 269 A  14.27    97 %    4.29  554   0.00    0    0.00 XXX   0 X    0.00 XXX   0 X   -0.02 ARG 245 A\n",
      "\n",
      "LYS   6 A  10.56     0 %   -0.10  170   0.00    0    0.00 XXX   0 X    0.00 XXX   0 X    0.16 TYR  19 A\n",
      "\n",
      "LYS   9 A  10.64     5 %   -0.68  295   0.00    0    0.45 GLU  12 A    0.00 XXX   0 X    0.09 TYR  19 A\n",
      "LYS   9 A                                            0.00 XXX   0 X    0.00 XXX   0 X   -0.10 LYS  89 A\n",
      "LYS   9 A                                            0.00 XXX   0 X    0.00 XXX   0 X    0.38 GLU  12 A\n",
      "\n",
      "LYS  20 A  10.09     2 %   -0.49  288   0.00    0    0.00 XXX   0 X    0.00 XXX   0 X    0.24 GLU   8 A\n",
      "LYS  20 A                                            0.00 XXX   0 X    0.00 XXX   0 X   -0.16 ARG  22 A\n",
      "\n",
      "LYS  24 A  10.26     0 %   -0.31  169   0.00    0    0.00 XXX   0 X    0.00 XXX   0 X    0.06 GLU   2 A\n",
      "\n",
      "LYS  33 A   9.32   100 %   -2.28  580   0.00    0    0.00 XXX   0 X    0.00 XXX   0 X   -0.04 LYS 129 A\n",
      "LYS  33 A                                            0.00 XXX   0 X    0.00 XXX   0 X    1.13 ASP 145 A\n",
      "\n",
      "LYS  34 A   9.58    18 %   -0.51  331   0.00    0    0.00 XXX   0 X    0.00 XXX   0 X   -0.19 ARG  36 A\n",
      "LYS  34 A                                            0.00 XXX   0 X    0.00 XXX   0 X   -0.23 LYS  75 A\n",
      "\n",
      "LYS  56 A  10.31     0 %   -0.21  278   0.00    0    0.00 XXX   0 X    0.00 XXX   0 X    0.00 GLU  57 A\n",
      "LYS  56 A                                            0.00 XXX   0 X    0.00 XXX   0 X    0.01 ASP  68 A\n",
      "\n",
      "LYS  65 A  10.42     0 %   -0.16  223   0.00    0    0.00 XXX   0 X    0.00 XXX   0 X    0.05 GLU  28 A\n",
      "LYS  65 A                                            0.00 XXX   0 X    0.00 XXX   0 X    0.09 GLU  81 A\n",
      "LYS  65 A                                            0.00 XXX   0 X    0.00 XXX   0 X   -0.06 LYS 142 A\n",
      "\n",
      "LYS  75 A   9.98     0 %   -0.23  219   0.00    0    0.00 XXX   0 X    0.00 XXX   0 X   -0.30 ARG  36 A\n",
      "LYS  75 A                                            0.00 XXX   0 X    0.00 XXX   0 X    0.01 GLU  73 A\n",
      "\n",
      "LYS  88 A  11.27    35 %   -0.78  380   0.00    0    0.62 ASP  92 A    0.00 XXX   0 X    0.07 ASP  86 A\n",
      "LYS  88 A                                            0.00 XXX   0 X    0.00 XXX   0 X    0.37 GLU 195 A\n",
      "LYS  88 A                                            0.00 XXX   0 X    0.00 XXX   0 X    0.49 ASP  92 A\n",
      "\n",
      "LYS  89 A  11.13    52 %   -1.11  428   0.00    0    0.85 ASP  86 A    0.00 XXX   0 X    0.02 GLU  12 A\n",
      "LYS  89 A                                            0.00 XXX   0 X    0.00 XXX   0 X    0.05 ASP  92 A\n",
      "LYS  89 A                                            0.00 XXX   0 X    0.00 XXX   0 X    0.82 ASP  86 A\n",
      "\n",
      "LYS 105 A  10.70    23 %   -1.12  346   0.00    0    0.68 ASP 288 A    0.00 XXX   0 X    0.14 ASP 256 A\n",
      "LYS 105 A                                            0.00 XXX   0 X    0.00 XXX   0 X    0.08 ASP 258 A\n",
      "LYS 105 A                                            0.00 XXX   0 X    0.00 XXX   0 X    0.41 ASP 288 A\n",
      "\n",
      "LYS 129 A  11.42    82 %   -3.20  511   0.00    0    0.85 ASP 127 A    0.00 XXX   0 X   -0.05 ARG 150 A\n",
      "LYS 129 A                                            0.36 ASP 145 A    0.00 XXX   0 X    0.39 TYR 159 A\n",
      "LYS 129 A                                            0.00 XXX   0 X    0.00 XXX   0 X    1.30 ASP 127 A\n",
      "LYS 129 A                                            0.00 XXX   0 X    0.00 XXX   0 X    1.29 ASP 145 A\n",
      "\n",
      "LYS 142 A  10.66    42 %   -1.32  400   0.00    0    0.85 GLU  81 A    0.00 XXX   0 X    0.02 GLU 138 A\n",
      "LYS 142 A                                            0.00 XXX   0 X    0.00 XXX   0 X    0.61 GLU  81 A\n",
      "\n",
      "LYS 178 A  10.38     0 %   -0.12   76   0.00    0    0.00 XXX   0 X    0.00 XXX   0 X    0.00 XXX   0 X\n",
      "\n",
      "LYS 237 A  10.48     0 %   -0.16  175   0.00    0    0.00 XXX   0 X    0.00 XXX   0 X    0.14 ASP 235 A\n",
      "\n",
      "LYS 242 A  10.30     0 %   -0.32  251   0.00    0    0.00 XXX   0 X    0.00 XXX   0 X    0.12 ASP 223 A\n",
      "\n",
      "LYS 250 A  10.39     0 %   -0.11  183   0.00    0    0.00 XXX   0 X    0.00 XXX   0 X   -0.03 ARG 217 A\n",
      "LYS 250 A                                            0.00 XXX   0 X    0.00 XXX   0 X    0.02 ASP 247 A\n",
      "\n",
      "LYS 273 A  10.51     0 %   -0.12  168   0.00    0    0.00 XXX   0 X    0.00 XXX   0 X    0.13 ASP 270 A\n",
      "\n",
      "LYS 278 A  10.39     0 %   -0.11  190   0.00    0    0.00 XXX   0 X    0.00 XXX   0 X    0.00 XXX   0 X\n",
      "\n",
      "LYS 291 A  10.23     4 %   -0.36  293   0.00    0    0.00 XXX   0 X    0.00 XXX   0 X    0.14 GLU 138 A\n",
      "LYS 291 A                                            0.00 XXX   0 X    0.00 XXX   0 X   -0.05 LYS 142 A\n",
      "\n",
      "ARG  22 A  12.29     0 %   -0.22  208   0.00    0    0.00 XXX   0 X    0.00 XXX   0 X    0.01 GLU   8 A\n",
      "\n",
      "ARG  36 A  12.42     0 %   -0.18  205   0.00    0    0.00 XXX   0 X    0.00 XXX   0 X    0.05 ASP  38 A\n",
      "ARG  36 A                                            0.00 XXX   0 X    0.00 XXX   0 X    0.04 TYR  77 A\n",
      "\n",
      "ARG  50 A  12.48     0 %   -0.12  177   0.00    0    0.00 XXX   0 X    0.00 XXX   0 X    0.08 GLU  51 A\n",
      "ARG  50 A                                            0.00 XXX   0 X    0.00 XXX   0 X    0.02 GLU  57 A\n",
      "\n",
      "ARG 122 A  12.30     0 %   -0.18  204   0.00    0    0.00 XXX   0 X    0.00 XXX   0 X    0.06 GLU  51 A\n",
      "ARG 122 A                                            0.00 XXX   0 X    0.00 XXX   0 X    0.09 GLU  57 A\n",
      "ARG 122 A                                            0.00 XXX   0 X    0.00 XXX   0 X   -0.16 ARG  50 A\n",
      "\n",
      "ARG 126 A  12.56    66 %   -2.10  465   0.00    0    0.67 TYR 180 A    0.00 XXX   0 X    0.37 GLU  51 A\n",
      "ARG 126 A                                            0.00 XXX   0 X    0.00 XXX   0 X    0.74 TYR 180 A\n",
      "ARG 126 A                                            0.00 XXX   0 X    0.00 XXX   0 X    0.39 ASP 185 A\n",
      "\n",
      "ARG 150 A  13.53    51 %   -0.83  423   0.00    0    0.78 TYR 159 A    0.00 XXX   0 X    0.03 TYR  15 A\n",
      "ARG 150 A                                            0.00 XXX   0 X    0.00 XXX   0 X    0.31 ASP 127 A\n",
      "ARG 150 A                                            0.00 XXX   0 X    0.00 XXX   0 X    0.11 TYR 180 A\n",
      "ARG 150 A                                            0.00 XXX   0 X    0.00 XXX   0 X    0.00 GLU 208 A\n",
      "ARG 150 A                                            0.00 XXX   0 X    0.00 XXX   0 X    0.63 TYR 159 A\n",
      "\n",
      "ARG 157 A  12.42     0 %   -0.10  186   0.00    0    0.00 XXX   0 X    0.00 XXX   0 X    0.02 ASP  38 A\n",
      "\n",
      "ARG 169 A  11.34    65 %   -1.27  462   0.00    0    0.00 XXX   0 X    0.00 XXX   0 X    0.14 ASP 127 A\n",
      "ARG 169 A                                            0.00 XXX   0 X    0.00 XXX   0 X    0.16 TYR 159 A\n",
      "ARG 169 A                                            0.00 XXX   0 X    0.00 XXX   0 X    0.01 TYR 180 A\n",
      "ARG 169 A                                            0.00 XXX   0 X    0.00 XXX   0 X    0.23 GLU 208 A\n",
      "ARG 169 A                                            0.00 XXX   0 X    0.00 XXX   0 X   -0.43 ARG 150 A\n",
      "\n",
      "ARG 199 A  12.20     0 %   -0.30  235   0.00    0    0.00 XXX   0 X    0.00 XXX   0 X    0.00 XXX   0 X\n",
      "\n",
      "ARG 200 A  12.29     0 %   -0.14  246   0.00    0    0.00 XXX   0 X    0.00 XXX   0 X   -0.07 ARG 214 A\n",
      "\n",
      "ARG 214 A  13.37     1 %   -0.40  283   0.00    0    0.74 ASP 210 A    0.00 XXX   0 X    0.16 ASP 206 A\n",
      "ARG 214 A                                            0.00 XXX   0 X    0.00 XXX   0 X    0.37 ASP 210 A\n",
      "\n",
      "ARG 217 A  12.31     0 %   -0.14  234   0.00    0    0.00 XXX   0 X    0.00 XXX   0 X    0.00 ASP 210 A\n",
      "ARG 217 A                                            0.00 XXX   0 X    0.00 XXX   0 X   -0.06 ARG 214 A\n",
      "\n",
      "ARG 245 A  11.80    33 %   -0.85  374   0.00    0    0.00 XXX   0 X    0.00 XXX   0 X    0.14 ASP 247 A\n",
      "ARG 245 A                                            0.00 XXX   0 X    0.00 XXX   0 X    0.02 TYR 269 A\n",
      "ARG 245 A                                            0.00 XXX   0 X    0.00 XXX   0 X   -0.01 ARG 260 A\n",
      "\n",
      "ARG 260 A  12.46     0 %   -0.33  224   0.00    0    0.00 XXX   0 X    0.00 XXX   0 X    0.03 ASP 247 A\n",
      "ARG 260 A                                            0.00 XXX   0 X    0.00 XXX   0 X    0.08 ASP 256 A\n",
      "ARG 260 A                                            0.00 XXX   0 X    0.00 XXX   0 X    0.17 GLU 257 A\n",
      "\n",
      "ARG 274 A  12.21    96 %   -3.52  549   0.00    0    1.43 GLU 172 A    0.00 XXX   0 X    0.02 CYS 177 A\n",
      "ARG 274 A                                            0.00 XXX   0 X    0.00 XXX   0 X    0.12 CYS 191 A\n",
      "ARG 274 A                                            0.00 XXX   0 X    0.00 XXX   0 X    0.10 ASP 270 A\n",
      "ARG 274 A                                            0.00 XXX   0 X    0.00 XXX   0 X    1.56 GLU 172 A\n",
      "\n",
      "ARG 297 A  12.46     0 %   -0.04   68   0.00    0    0.00 XXX   0 X    0.00 XXX   0 X    0.00 XXX   0 X\n",
      "\n",
      "N+    1 A   8.14     1 %   -0.52  285   0.00    0    0.32 GLU   2 A    0.00 XXX   0 X   -0.04 LYS  24 A\n",
      "N+    1 A                                            0.00 XXX   0 X    0.00 XXX   0 X    0.02 ASP  68 A\n",
      "N+    1 A                                            0.00 XXX   0 X    0.00 XXX   0 X    0.36 GLU   2 A\n",
      "\n",
      "\n",
      "INFO:pKa summary:\n",
      "--------------------------------------------------------------------------------------------------------\n",
      "SUMMARY OF THIS PREDICTION\n",
      "       Group      pKa  model-pKa   ligand atom-type\n",
      "   ASP  38 A     4.21       3.80                      \n",
      "   ASP  68 A     3.52       3.80                      \n",
      "   ASP  86 A     4.68       3.80                      \n",
      "   ASP  92 A     3.58       3.80                      \n",
      "   ASP 127 A     5.61       3.80                      \n",
      "   ASP 145 A     4.62       3.80                      \n",
      "   ASP 185 A     5.92       3.80                      \n",
      "   ASP 206 A     4.45       3.80                      \n",
      "   ASP 210 A     2.36       3.80                      \n",
      "   ASP 223 A     3.03       3.80                      \n",
      "   ASP 235 A     3.98       3.80                      \n",
      "   ASP 247 A     3.79       3.80                      \n",
      "   ASP 256 A     2.88       3.80                      \n",
      "   ASP 258 A     4.33       3.80                      \n",
      "   ASP 270 A     4.02       3.80                      \n",
      "   ASP 288 A     2.69       3.80                      \n",
      "   GLU   2 A     3.35       4.50                      \n",
      "   GLU   8 A     4.55       4.50                      \n",
      "   GLU  12 A     4.01       4.50                      \n",
      "   GLU  28 A     4.75       4.50                      \n",
      "   GLU  40 A     5.10       4.50                      \n",
      "   GLU  42 A     4.58       4.50                      \n",
      "   GLU  51 A     5.20       4.50                      \n",
      "   GLU  57 A     4.66       4.50                      \n",
      "   GLU  73 A     4.58       4.50                      \n",
      "   GLU  81 A     4.03       4.50                      \n",
      "   GLU 138 A     4.46       4.50                      \n",
      "   GLU 162 A     4.70       4.50                      \n",
      "   GLU 172 A     4.69       4.50                      \n",
      "   GLU 195 A     6.20       4.50                      \n",
      "   GLU 208 A     4.68       4.50                      \n",
      "   GLU 224 A     2.74       4.50                      \n",
      "   GLU 257 A     4.65       4.50                      \n",
      "   C-  298 A     3.35       3.20                      \n",
      "   CYS 118 A    12.43       9.00                      \n",
      "   CYS 177 A    10.97       9.00                      \n",
      "   CYS 191 A    12.94       9.00                      \n",
      "   TYR  15 A    12.40      10.00                      \n",
      "   TYR  19 A    10.02      10.00                      \n",
      "   TYR  77 A    10.58      10.00                      \n",
      "   TYR 107 A    12.76      10.00                      \n",
      "   TYR 159 A     9.88      10.00                      \n",
      "   TYR 168 A    15.80      10.00                      \n",
      "   TYR 179 A    10.11      10.00                      \n",
      "   TYR 180 A    10.16      10.00                      \n",
      "   TYR 236 A    10.69      10.00                      \n",
      "   TYR 269 A    14.27      10.00                      \n",
      "   LYS   6 A    10.56      10.50                      \n",
      "   LYS   9 A    10.64      10.50                      \n",
      "   LYS  20 A    10.09      10.50                      \n",
      "   LYS  24 A    10.26      10.50                      \n",
      "   LYS  33 A     9.32      10.50                      \n",
      "   LYS  34 A     9.58      10.50                      \n",
      "   LYS  56 A    10.31      10.50                      \n",
      "   LYS  65 A    10.42      10.50                      \n",
      "   LYS  75 A     9.98      10.50                      \n",
      "   LYS  88 A    11.27      10.50                      \n",
      "   LYS  89 A    11.13      10.50                      \n",
      "   LYS 105 A    10.70      10.50                      \n",
      "   LYS 129 A    11.42      10.50                      \n",
      "   LYS 142 A    10.66      10.50                      \n",
      "   LYS 178 A    10.38      10.50                      \n",
      "   LYS 237 A    10.48      10.50                      \n",
      "   LYS 242 A    10.30      10.50                      \n",
      "   LYS 250 A    10.39      10.50                      \n",
      "   LYS 273 A    10.51      10.50                      \n",
      "   LYS 278 A    10.39      10.50                      \n",
      "   LYS 291 A    10.23      10.50                      \n",
      "   ARG  22 A    12.29      12.50                      \n",
      "   ARG  36 A    12.42      12.50                      \n",
      "   ARG  50 A    12.48      12.50                      \n",
      "   ARG 122 A    12.30      12.50                      \n",
      "   ARG 126 A    12.56      12.50                      \n",
      "   ARG 150 A    13.53      12.50                      \n",
      "   ARG 157 A    12.42      12.50                      \n",
      "   ARG 169 A    11.34      12.50                      \n",
      "   ARG 199 A    12.20      12.50                      \n",
      "   ARG 200 A    12.29      12.50                      \n",
      "   ARG 214 A    13.37      12.50                      \n",
      "   ARG 217 A    12.31      12.50                      \n",
      "   ARG 245 A    11.80      12.50                      \n",
      "   ARG 260 A    12.46      12.50                      \n",
      "   ARG 274 A    12.21      12.50                      \n",
      "   ARG 297 A    12.46      12.50                      \n",
      "   N+    1 A     8.14       8.00                      \n",
      "\n",
      "INFO:PROPKA information:\n",
      "--------------------------------------------------------------------------------------------------------\n",
      "Free energy of   folding (kcal/mol) as a function of pH (using neutral reference)\n",
      "  0.00     25.01\n",
      "  1.00     24.96\n",
      "  2.00     24.54\n",
      "  3.00     22.56\n",
      "  4.00     21.11\n",
      "  5.00     24.81\n",
      "  6.00     28.44\n",
      "  7.00     29.57\n",
      "  8.00     29.94\n",
      "  9.00     31.01\n",
      " 10.00     34.45\n",
      " 11.00     41.77\n",
      " 12.00     49.16\n",
      " 13.00     54.09\n",
      " 14.00     57.78\n",
      "\n",
      "The pH of optimum stability is  3.8 for which the free energy is   21.0 kcal/mol at 298K\n",
      "Could not determine pH values where the free energy is within 80 % of minimum\n",
      "Could not determine the pH-range where the free energy is negative\n",
      "\n",
      "\n",
      "Protein charge of folded and unfolded state as a function of pH\n",
      "    pH  unfolded  folded\n",
      "  0.00     38.00   37.99\n",
      "  1.00     37.96   37.87\n",
      "  2.00     37.64   36.93\n",
      "  3.00     34.90   32.83\n",
      "  4.00     23.24   24.17\n",
      "  5.00      9.05   12.54\n",
      "  6.00      4.61    6.22\n",
      "  7.00      3.93    4.26\n",
      "  8.00      3.07    3.43\n",
      "  9.00      0.03    1.48\n",
      " 10.00     -9.81   -5.93\n",
      " 11.00    -25.51  -19.25\n",
      " 12.00    -34.10  -29.82\n",
      " 13.00    -43.08  -39.82\n",
      " 14.00    -46.50  -44.43\n",
      "The pI is  9.33 (folded) and  9.01 (unfolded)\n",
      "\n",
      "--------------------------------------------------------------------------------------------------------\n",
      "INFO:Applying pKa values at a pH of 7.40:\n",
      "INFO:Adding hydrogens to biomolecule.\n",
      "INFO:Debumping biomolecule (again).\n",
      "INFO:Optimizing hydrogen bonds\n",
      "INFO:Applying force field to biomolecule states.\n",
      "INFO:Applying custom naming scheme (amber).\n",
      "INFO:Regenerating headers.\n",
      "INFO:Regenerating PDB lines.\n",
      "WARNING:Ignoring 539 header lines in output.\n",
      "WARNING:Ignoring 539 header lines in output.\n",
      "\n",
      "None\n"
     ]
    }
   ],
   "source": [
    "# Prepare the protein using PDB2PQR\n",
    "from helper_modules.prepare_md_system import run_pdb2pqr\n",
    "OUT_PDB2PQR = 'prot.TEMP'\n",
    "run_pdb2pqr(input_pdb = INPUT_PROT,  \n",
    "            output_basename = f'{TMP_DIR}/{OUT_PDB2PQR}',\n",
    "            ph = PH,\n",
    "            verbose = True)"
   ]
  },
  {
   "cell_type": "markdown",
   "id": "3416ac9d",
   "metadata": {},
   "source": [
    "## Prepare protein topology file using `tleap`\n",
    "- Use the `ff14SB` forcefield"
   ]
  },
  {
   "cell_type": "code",
   "execution_count": 5,
   "id": "033e5513",
   "metadata": {},
   "outputs": [
    {
     "name": "stdout",
     "output_type": "stream",
     "text": [
      "-I: Adding /Users/joelricci/miniconda/envs/biobb/dat/leap/prep to search path.\n",
      "-I: Adding /Users/joelricci/miniconda/envs/biobb/dat/leap/lib to search path.\n",
      "-I: Adding /Users/joelricci/miniconda/envs/biobb/dat/leap/parm to search path.\n",
      "-I: Adding /Users/joelricci/miniconda/envs/biobb/dat/leap/cmd to search path.\n",
      "-f: Source ./../data/md_system_prep/MAM_systems/3pxf/3pxf-MAM_intermediate_files/leap_prep_system.in.\n",
      "\n",
      "Welcome to LEaP!\n",
      "(no leaprc in search path)\n",
      "Sourcing: ./../data/md_system_prep/MAM_systems/3pxf/3pxf-MAM_intermediate_files/leap_prep_system.in\n",
      "----- Source: /Users/joelricci/miniconda/envs/biobb/dat/leap/cmd/leaprc.protein.ff14SB\n",
      "----- Source of /Users/joelricci/miniconda/envs/biobb/dat/leap/cmd/leaprc.protein.ff14SB done\n",
      "Log file: ./leap.log\n",
      "Loading parameters: /Users/joelricci/miniconda/envs/biobb/dat/leap/parm/parm10.dat\n",
      "Reading title:\n",
      "PARM99 + frcmod.ff99SB + frcmod.parmbsc0 + OL3 for RNA\n",
      "Loading parameters: /Users/joelricci/miniconda/envs/biobb/dat/leap/parm/frcmod.ff14SB\n",
      "Reading force field modification type file (frcmod)\n",
      "Reading title:\n",
      "ff14SB protein backbone and sidechain parameters\n",
      "Loading library: /Users/joelricci/miniconda/envs/biobb/dat/leap/lib/amino12.lib\n",
      "Loading library: /Users/joelricci/miniconda/envs/biobb/dat/leap/lib/aminoct12.lib\n",
      "Loading library: /Users/joelricci/miniconda/envs/biobb/dat/leap/lib/aminont12.lib\n",
      "----- Source: /Users/joelricci/miniconda/envs/biobb/dat/leap/cmd/leaprc.gaff\n",
      "----- Source of /Users/joelricci/miniconda/envs/biobb/dat/leap/cmd/leaprc.gaff done\n",
      "Log file: ./leap.log\n",
      "Loading parameters: /Users/joelricci/miniconda/envs/biobb/dat/leap/parm/gaff.dat\n",
      "Reading title:\n",
      "AMBER General Force Field for organic molecules (Version 1.81, May 2017)\n",
      "----- Source: /Users/joelricci/miniconda/envs/biobb/dat/leap/cmd/leaprc.water.tip3p\n",
      "----- Source of /Users/joelricci/miniconda/envs/biobb/dat/leap/cmd/leaprc.water.tip3p done\n",
      "Loading library: /Users/joelricci/miniconda/envs/biobb/dat/leap/lib/atomic_ions.lib\n",
      "Loading library: /Users/joelricci/miniconda/envs/biobb/dat/leap/lib/solvents.lib\n",
      "Loading parameters: /Users/joelricci/miniconda/envs/biobb/dat/leap/parm/frcmod.tip3p\n",
      "Reading force field modification type file (frcmod)\n",
      "Reading title:\n",
      "This is the additional/replacement parameter set for TIP3P water\n",
      "Loading parameters: /Users/joelricci/miniconda/envs/biobb/dat/leap/parm/frcmod.ions1lm_126_tip3p\n",
      "Reading force field modification type file (frcmod)\n",
      "Reading title:\n",
      "Li/Merz ion parameters of monovalent ions for TIP3P water model (12-6 normal usage set)\n",
      "Loading parameters: /Users/joelricci/miniconda/envs/biobb/dat/leap/parm/frcmod.ionsjc_tip3p\n",
      "Reading force field modification type file (frcmod)\n",
      "Reading title:\n",
      "Monovalent ion parameters for Ewald and TIP3P water from Joung & Cheatham JPCB (2008)\n",
      "Loading parameters: /Users/joelricci/miniconda/envs/biobb/dat/leap/parm/frcmod.ions234lm_126_tip3p\n",
      "Reading force field modification type file (frcmod)\n",
      "Reading title:\n",
      "Li/Merz ion parameters of divalent to tetravalent ions for TIP3P water model (12-6 normal usage set)\n",
      "Loading parameters: /Users/joelricci/miniconda/envs/biobb/dat/leap/parm/frcmod.ionsjc_tip3p\n",
      "Reading force field modification type file (frcmod)\n",
      "Reading title:\n",
      "Monovalent ion parameters for Ewald and TIP3P water from Joung & Cheatham JPCB (2008)\n",
      "Loading PDB file: ./../data/md_system_prep/MAM_systems/3pxf/3pxf-MAM_intermediate_files/prot.TEMP.pdb\n",
      "  total atoms in file: 4848\n",
      "Checking 'system'....\n",
      "\n",
      "/Users/joelricci/miniconda/envs/biobb/bin/teLeap: Warning!\n",
      "The unperturbed charge of the unit (4.000000) is not zero.\n",
      "\n",
      "/Users/joelricci/miniconda/envs/biobb/bin/teLeap: Warning!\n",
      "Close contact of 1.104220 angstroms between .R<THR 165>.A<H 2> and .R<VAL 164>.A<H 2>\n",
      "\n",
      "/Users/joelricci/miniconda/envs/biobb/bin/teLeap: Warning!\n",
      "Close contact of 1.422765 angstroms between .R<VAL 164>.A<H 2> and .R<VAL 163>.A<HG21 12>\n",
      "\n",
      "/Users/joelricci/miniconda/envs/biobb/bin/teLeap: Warning!\n",
      "Close contact of 1.447308 angstroms between .R<GLN 113>.A<HE22 15> and .R<GLN 110>.A<HA 4>\n",
      "\n",
      "/Users/joelricci/miniconda/envs/biobb/bin/teLeap: Warning!\n",
      "Close contact of 1.475465 angstroms between .R<VAL 29>.A<HG23 14> and .R<LYS 20>.A<HE3 16>\n",
      "\n",
      "/Users/joelricci/miniconda/envs/biobb/bin/teLeap: Warning!\n",
      "Close contact of 1.492386 angstroms between .R<GLU 2>.A<H 2> and .R<NMET 1>.A<H1 2>\n",
      "Checking parameters for unit 'system'.\n",
      "Checking for bond parameters.\n",
      "Checking for angle parameters.\n",
      "check:  Warnings: 6\n",
      "Unit is OK.\n",
      "Total unperturbed charge:   4.000000\n",
      "Total perturbed charge:     4.000000\n",
      "Total unperturbed charge:   4.000000\n",
      "Total perturbed charge:     4.000000\n",
      "Writing pdb file: ./../data/md_system_prep/MAM_systems/3pxf/3pxf-MAM_intermediate_files/SYSTEM.pdb\n",
      "\n",
      "/Users/joelricci/miniconda/envs/biobb/bin/teLeap: Warning!\n",
      " Converting N-terminal residue name to PDB format: NMET -> MET\n",
      "\n",
      "/Users/joelricci/miniconda/envs/biobb/bin/teLeap: Warning!\n",
      " Converting C-terminal residue name to PDB format: CLEU -> LEU\n",
      "Checking Unit.\n",
      "\n",
      "/Users/joelricci/miniconda/envs/biobb/bin/teLeap: Warning!\n",
      "The unperturbed charge of the unit (4.000000) is not zero.\n",
      "\n",
      "/Users/joelricci/miniconda/envs/biobb/bin/teLeap: Note.\n",
      "Ignoring the warning from Unit Checking.\n",
      "\n",
      "Building topology.\n",
      "Building atom parameters.\n",
      "Building bond parameters.\n",
      "Building angle parameters.\n",
      "Building proper torsion parameters.\n",
      "Building improper torsion parameters.\n",
      " total 958 improper torsions applied\n",
      "Building H-Bond parameters.\n",
      "Incorporating Non-Bonded adjustments.\n",
      "Not Marking per-residue atom chain types.\n",
      "Marking per-residue atom chain types.\n",
      "  (Residues lacking connect0/connect1 - \n",
      "   these don't have chain types marked:\n",
      "\n",
      "\tres\ttotal affected\n",
      "\n",
      "\tCLEU\t1\n",
      "\tNMET\t1\n",
      "  )\n",
      " (no restraints)\n",
      "\tQuit\n",
      "\n",
      "Exiting LEaP: Errors = 0; Warnings = 9; Notes = 1.\n",
      "\n",
      "None\n"
     ]
    }
   ],
   "source": [
    "from helper_modules.prepare_md_system import run_tleap_prepare_system\n",
    "OUT_SYSTEM = 'SYSTEM'\n",
    "run_tleap_prepare_system(\n",
    "    input_protein_pdb  = 'prot.TEMP.pdb',\n",
    "    output_basename    = OUT_SYSTEM, \n",
    "    tmp_dir            = TMP_DIR, \n",
    "    input_ligand_basename = None,\n",
    "    input_waters_pdb      = None,\n",
    "    verbose               = True\n",
    ")"
   ]
  },
  {
   "cell_type": "markdown",
   "id": "777fc191",
   "metadata": {},
   "source": [
    "## Minimize hydrogens\n",
    "\n",
    "**Hydrogen minimization**, applying position restraints (50 $Kcal/mol\\cdotÅ^2$) to the protein heavy atoms.\n",
    "\n",
    "```fortran\n",
    "    Taken from  biobb_amber module from the BioBB library\n",
    "    Type of mdin: min_vacuo\n",
    "    &cntrl\n",
    "        imin = 1 \n",
    "        ncyc = 250 \n",
    "        ntb  = 0 \n",
    "        igb  = 0 \n",
    "        cut  = 12 \n",
    "        maxcyc = 500 \n",
    "        ntpr = 5 \n",
    "        ntr  = 1 \n",
    "        restraintmask = \":*&!@H=\" \n",
    "        restraint_wt = 500.0 \n",
    "    &end\n",
    "```"
   ]
  },
  {
   "cell_type": "code",
   "execution_count": 6,
   "id": "e3454fc3",
   "metadata": {},
   "outputs": [
    {
     "name": "stdout",
     "output_type": "stream",
     "text": [
      "\n",
      "None\n"
     ]
    }
   ],
   "source": [
    "from helper_modules.prepare_md_system import run_minimize_hydrogens\n",
    "\n",
    "OUT_MIN_SYSTEM = f'{OUT_SYSTEM}.minH'\n",
    "run_minimize_hydrogens(input_basename  = OUT_SYSTEM, \n",
    "                       output_basename = OUT_MIN_SYSTEM,\n",
    "                       tmp_dir = TMP_DIR,\n",
    "                       verbose = True)"
   ]
  },
  {
   "cell_type": "code",
   "execution_count": 7,
   "id": "6f6d954a",
   "metadata": {
    "scrolled": true
   },
   "outputs": [
    {
     "name": "stdout",
     "output_type": "stream",
     "text": [
      "2022-04-03 22:32:46,007 [MainThread  ] [INFO ]  Creating command line with instructions and required arguments\n",
      "2022-04-03 22:32:48,960 [MainThread  ] [INFO ]  process_minout.perl  ./../data/md_system_prep/MAM_systems/3pxf/3pxf-MAM_intermediate_files/sander.minH.log\n",
      "\n",
      "2022-04-03 22:32:48,961 [MainThread  ] [INFO ]  Exit code 0\n",
      "\n",
      "2022-04-03 22:32:48,963 [MainThread  ] [INFO ]  Processing sander output file (./../data/md_system_prep/MAM_systems/3pxf/3pxf-MAM_intermediate_files/sander.minH.log)...\n",
      "Processing step 50 of a possible 500...\n",
      "Processing step 100 of a possible 500...\n",
      "Processing step 150 of a possible 500...\n",
      "Processing step 200 of a possible 500...\n",
      "Processing step 250 of a possible 500...\n",
      "Processing step 300 of a possible 500...\n",
      "Processing step 350 of a possible 500...\n",
      "Processing step 400 of a possible 500...\n",
      "Processing step 450 of a possible 500...\n",
      "Processing step 500 of a possible 500...\n",
      "Processing step 500 of a possible 500...\n",
      "Starting output...\n",
      "Outputing summary.NSTEP\n",
      "Outputing summary.ENERGY\n",
      "Outputing summary.RMS\n",
      "Outputing summary.GMAX\n",
      "Outputing summary.NAME\n",
      "Outputing summary.NUMBER\n",
      "Outputing summary.BOND\n",
      "Outputing summary.ANGLE\n",
      "Outputing summary.DIHEDRAL\n",
      "Outputing summary.VDWAALS\n",
      "Outputing summary.EEL\n",
      "Outputing summary.HBOND\n",
      "Outputing summary.VDW14\n",
      "Outputing summary.EEL14\n",
      "Outputing summary.RESTRAINT\n",
      "\n",
      "2022-04-03 22:32:48,970 [MainThread  ] [INFO ]  Removed: [PosixPath('summary.NSTEP'), PosixPath('summary.ENERGY'), PosixPath('summary.RMS'), PosixPath('summary.GMAX'), PosixPath('summary.NAME'), PosixPath('summary.NUMBER'), PosixPath('summary.BOND'), PosixPath('summary.ANGLE'), PosixPath('summary.DIHEDRAL'), PosixPath('summary.VDWAALS'), PosixPath('summary.EEL'), PosixPath('summary.HBOND'), PosixPath('summary.VDW14'), PosixPath('summary.EEL14'), PosixPath('summary.RESTRAINT')]\n"
     ]
    },
    {
     "data": {
      "text/html": [
       "        <script type=\"text/javascript\">\n",
       "        window.PlotlyConfig = {MathJaxConfig: 'local'};\n",
       "        if (window.MathJax) {MathJax.Hub.Config({SVG: {font: \"STIX-Web\"}});}\n",
       "        if (typeof require !== 'undefined') {\n",
       "        require.undef(\"plotly\");\n",
       "        requirejs.config({\n",
       "            paths: {\n",
       "                'plotly': ['https://cdn.plot.ly/plotly-2.9.0.min']\n",
       "            }\n",
       "        });\n",
       "        require(['plotly'], function(Plotly) {\n",
       "            window._Plotly = Plotly;\n",
       "        });\n",
       "        }\n",
       "        </script>\n",
       "        "
      ]
     },
     "metadata": {},
     "output_type": "display_data"
    },
    {
     "data": {
      "application/vnd.plotly.v1+json": {
       "config": {
        "linkText": "Export to plot.ly",
        "plotlyServerURL": "https://plot.ly",
        "showLink": false
       },
       "data": [
        {
         "type": "scatter",
         "x": [
          15,
          20,
          25,
          30,
          35,
          40,
          45,
          50,
          55,
          60,
          65,
          70,
          75,
          80,
          85,
          90,
          95,
          100,
          105,
          110,
          115,
          120,
          125,
          130,
          135,
          140,
          145,
          150,
          155,
          160,
          165,
          170,
          175,
          180,
          185,
          190,
          195,
          200,
          205,
          210,
          215,
          220,
          225,
          230,
          235,
          240,
          245,
          250,
          255,
          260,
          265,
          270,
          275,
          280,
          285,
          290,
          295,
          300,
          305,
          310,
          315,
          320,
          325,
          330,
          335,
          340,
          345,
          350,
          355,
          360,
          365,
          370,
          375,
          380,
          385,
          390,
          395,
          400,
          405,
          410,
          415,
          420,
          425,
          430,
          435,
          440,
          445,
          450,
          455,
          460,
          465,
          470,
          475,
          480,
          485,
          490,
          495,
          500
         ],
         "y": [
          634.16,
          -683.48,
          -2591.6,
          -4421.1,
          -4478.4,
          -4564.2,
          -4595.5,
          -4800.3,
          -4813.6,
          -4824.2,
          -4833.6,
          -4842.5,
          -4811.7,
          -4818,
          -4829.5,
          -4835.3,
          -4841.6,
          -4825.7,
          -4831.7,
          -4837.2,
          -4841.5,
          -4846.6,
          -4748.5,
          -4753.1,
          -4757.7,
          -4762.3,
          -4768.3,
          -4869.9,
          -4876.3,
          -4877.8,
          -4881.7,
          -4888.3,
          -4972.9,
          -4976.7,
          -4980.4,
          -4984.1,
          -4987.7,
          -4961,
          -4963.4,
          -4966.8,
          -4970.1,
          -4973.3,
          -5004.5,
          -5007.6,
          -5010.7,
          -5013.9,
          -5017.9,
          -5104.8,
          -5109.8,
          -5147.1,
          -5181.3,
          -5193.3,
          -5035.6,
          -5036.8,
          -5040.9,
          -5046.8,
          -5052.3,
          -5140.5,
          -5141.6,
          -5144.7,
          -5148.9,
          -5151.6,
          -5150.2,
          -5151.1,
          -5153.2,
          -5157,
          -5159.2,
          -5123.4,
          -5124.3,
          -5126.8,
          -5129.6,
          -5131.5,
          -5204.5,
          -5205.1,
          -5206,
          -5207.7,
          -5208.7,
          -5210.7,
          -5211.2,
          -5212.2,
          -5213.5,
          -5214.1,
          -5203.3,
          -5203.4,
          -5204.1,
          -5205.1,
          -5205.6,
          -5169.9,
          -5169.9,
          -5170.8,
          -5171.6,
          -5172.2,
          -5143,
          -5143,
          -5143.8,
          -5144.7,
          -5145.2,
          -5128.9
         ]
        }
       ],
       "layout": {
        "template": {
         "data": {
          "bar": [
           {
            "error_x": {
             "color": "#2a3f5f"
            },
            "error_y": {
             "color": "#2a3f5f"
            },
            "marker": {
             "line": {
              "color": "#E5ECF6",
              "width": 0.5
             },
             "pattern": {
              "fillmode": "overlay",
              "size": 10,
              "solidity": 0.2
             }
            },
            "type": "bar"
           }
          ],
          "barpolar": [
           {
            "marker": {
             "line": {
              "color": "#E5ECF6",
              "width": 0.5
             },
             "pattern": {
              "fillmode": "overlay",
              "size": 10,
              "solidity": 0.2
             }
            },
            "type": "barpolar"
           }
          ],
          "carpet": [
           {
            "aaxis": {
             "endlinecolor": "#2a3f5f",
             "gridcolor": "white",
             "linecolor": "white",
             "minorgridcolor": "white",
             "startlinecolor": "#2a3f5f"
            },
            "baxis": {
             "endlinecolor": "#2a3f5f",
             "gridcolor": "white",
             "linecolor": "white",
             "minorgridcolor": "white",
             "startlinecolor": "#2a3f5f"
            },
            "type": "carpet"
           }
          ],
          "choropleth": [
           {
            "colorbar": {
             "outlinewidth": 0,
             "ticks": ""
            },
            "type": "choropleth"
           }
          ],
          "contour": [
           {
            "colorbar": {
             "outlinewidth": 0,
             "ticks": ""
            },
            "colorscale": [
             [
              0,
              "#0d0887"
             ],
             [
              0.1111111111111111,
              "#46039f"
             ],
             [
              0.2222222222222222,
              "#7201a8"
             ],
             [
              0.3333333333333333,
              "#9c179e"
             ],
             [
              0.4444444444444444,
              "#bd3786"
             ],
             [
              0.5555555555555556,
              "#d8576b"
             ],
             [
              0.6666666666666666,
              "#ed7953"
             ],
             [
              0.7777777777777778,
              "#fb9f3a"
             ],
             [
              0.8888888888888888,
              "#fdca26"
             ],
             [
              1,
              "#f0f921"
             ]
            ],
            "type": "contour"
           }
          ],
          "contourcarpet": [
           {
            "colorbar": {
             "outlinewidth": 0,
             "ticks": ""
            },
            "type": "contourcarpet"
           }
          ],
          "heatmap": [
           {
            "colorbar": {
             "outlinewidth": 0,
             "ticks": ""
            },
            "colorscale": [
             [
              0,
              "#0d0887"
             ],
             [
              0.1111111111111111,
              "#46039f"
             ],
             [
              0.2222222222222222,
              "#7201a8"
             ],
             [
              0.3333333333333333,
              "#9c179e"
             ],
             [
              0.4444444444444444,
              "#bd3786"
             ],
             [
              0.5555555555555556,
              "#d8576b"
             ],
             [
              0.6666666666666666,
              "#ed7953"
             ],
             [
              0.7777777777777778,
              "#fb9f3a"
             ],
             [
              0.8888888888888888,
              "#fdca26"
             ],
             [
              1,
              "#f0f921"
             ]
            ],
            "type": "heatmap"
           }
          ],
          "heatmapgl": [
           {
            "colorbar": {
             "outlinewidth": 0,
             "ticks": ""
            },
            "colorscale": [
             [
              0,
              "#0d0887"
             ],
             [
              0.1111111111111111,
              "#46039f"
             ],
             [
              0.2222222222222222,
              "#7201a8"
             ],
             [
              0.3333333333333333,
              "#9c179e"
             ],
             [
              0.4444444444444444,
              "#bd3786"
             ],
             [
              0.5555555555555556,
              "#d8576b"
             ],
             [
              0.6666666666666666,
              "#ed7953"
             ],
             [
              0.7777777777777778,
              "#fb9f3a"
             ],
             [
              0.8888888888888888,
              "#fdca26"
             ],
             [
              1,
              "#f0f921"
             ]
            ],
            "type": "heatmapgl"
           }
          ],
          "histogram": [
           {
            "marker": {
             "pattern": {
              "fillmode": "overlay",
              "size": 10,
              "solidity": 0.2
             }
            },
            "type": "histogram"
           }
          ],
          "histogram2d": [
           {
            "colorbar": {
             "outlinewidth": 0,
             "ticks": ""
            },
            "colorscale": [
             [
              0,
              "#0d0887"
             ],
             [
              0.1111111111111111,
              "#46039f"
             ],
             [
              0.2222222222222222,
              "#7201a8"
             ],
             [
              0.3333333333333333,
              "#9c179e"
             ],
             [
              0.4444444444444444,
              "#bd3786"
             ],
             [
              0.5555555555555556,
              "#d8576b"
             ],
             [
              0.6666666666666666,
              "#ed7953"
             ],
             [
              0.7777777777777778,
              "#fb9f3a"
             ],
             [
              0.8888888888888888,
              "#fdca26"
             ],
             [
              1,
              "#f0f921"
             ]
            ],
            "type": "histogram2d"
           }
          ],
          "histogram2dcontour": [
           {
            "colorbar": {
             "outlinewidth": 0,
             "ticks": ""
            },
            "colorscale": [
             [
              0,
              "#0d0887"
             ],
             [
              0.1111111111111111,
              "#46039f"
             ],
             [
              0.2222222222222222,
              "#7201a8"
             ],
             [
              0.3333333333333333,
              "#9c179e"
             ],
             [
              0.4444444444444444,
              "#bd3786"
             ],
             [
              0.5555555555555556,
              "#d8576b"
             ],
             [
              0.6666666666666666,
              "#ed7953"
             ],
             [
              0.7777777777777778,
              "#fb9f3a"
             ],
             [
              0.8888888888888888,
              "#fdca26"
             ],
             [
              1,
              "#f0f921"
             ]
            ],
            "type": "histogram2dcontour"
           }
          ],
          "mesh3d": [
           {
            "colorbar": {
             "outlinewidth": 0,
             "ticks": ""
            },
            "type": "mesh3d"
           }
          ],
          "parcoords": [
           {
            "line": {
             "colorbar": {
              "outlinewidth": 0,
              "ticks": ""
             }
            },
            "type": "parcoords"
           }
          ],
          "pie": [
           {
            "automargin": true,
            "type": "pie"
           }
          ],
          "scatter": [
           {
            "marker": {
             "colorbar": {
              "outlinewidth": 0,
              "ticks": ""
             }
            },
            "type": "scatter"
           }
          ],
          "scatter3d": [
           {
            "line": {
             "colorbar": {
              "outlinewidth": 0,
              "ticks": ""
             }
            },
            "marker": {
             "colorbar": {
              "outlinewidth": 0,
              "ticks": ""
             }
            },
            "type": "scatter3d"
           }
          ],
          "scattercarpet": [
           {
            "marker": {
             "colorbar": {
              "outlinewidth": 0,
              "ticks": ""
             }
            },
            "type": "scattercarpet"
           }
          ],
          "scattergeo": [
           {
            "marker": {
             "colorbar": {
              "outlinewidth": 0,
              "ticks": ""
             }
            },
            "type": "scattergeo"
           }
          ],
          "scattergl": [
           {
            "marker": {
             "colorbar": {
              "outlinewidth": 0,
              "ticks": ""
             }
            },
            "type": "scattergl"
           }
          ],
          "scattermapbox": [
           {
            "marker": {
             "colorbar": {
              "outlinewidth": 0,
              "ticks": ""
             }
            },
            "type": "scattermapbox"
           }
          ],
          "scatterpolar": [
           {
            "marker": {
             "colorbar": {
              "outlinewidth": 0,
              "ticks": ""
             }
            },
            "type": "scatterpolar"
           }
          ],
          "scatterpolargl": [
           {
            "marker": {
             "colorbar": {
              "outlinewidth": 0,
              "ticks": ""
             }
            },
            "type": "scatterpolargl"
           }
          ],
          "scatterternary": [
           {
            "marker": {
             "colorbar": {
              "outlinewidth": 0,
              "ticks": ""
             }
            },
            "type": "scatterternary"
           }
          ],
          "surface": [
           {
            "colorbar": {
             "outlinewidth": 0,
             "ticks": ""
            },
            "colorscale": [
             [
              0,
              "#0d0887"
             ],
             [
              0.1111111111111111,
              "#46039f"
             ],
             [
              0.2222222222222222,
              "#7201a8"
             ],
             [
              0.3333333333333333,
              "#9c179e"
             ],
             [
              0.4444444444444444,
              "#bd3786"
             ],
             [
              0.5555555555555556,
              "#d8576b"
             ],
             [
              0.6666666666666666,
              "#ed7953"
             ],
             [
              0.7777777777777778,
              "#fb9f3a"
             ],
             [
              0.8888888888888888,
              "#fdca26"
             ],
             [
              1,
              "#f0f921"
             ]
            ],
            "type": "surface"
           }
          ],
          "table": [
           {
            "cells": {
             "fill": {
              "color": "#EBF0F8"
             },
             "line": {
              "color": "white"
             }
            },
            "header": {
             "fill": {
              "color": "#C8D4E3"
             },
             "line": {
              "color": "white"
             }
            },
            "type": "table"
           }
          ]
         },
         "layout": {
          "annotationdefaults": {
           "arrowcolor": "#2a3f5f",
           "arrowhead": 0,
           "arrowwidth": 1
          },
          "autotypenumbers": "strict",
          "coloraxis": {
           "colorbar": {
            "outlinewidth": 0,
            "ticks": ""
           }
          },
          "colorscale": {
           "diverging": [
            [
             0,
             "#8e0152"
            ],
            [
             0.1,
             "#c51b7d"
            ],
            [
             0.2,
             "#de77ae"
            ],
            [
             0.3,
             "#f1b6da"
            ],
            [
             0.4,
             "#fde0ef"
            ],
            [
             0.5,
             "#f7f7f7"
            ],
            [
             0.6,
             "#e6f5d0"
            ],
            [
             0.7,
             "#b8e186"
            ],
            [
             0.8,
             "#7fbc41"
            ],
            [
             0.9,
             "#4d9221"
            ],
            [
             1,
             "#276419"
            ]
           ],
           "sequential": [
            [
             0,
             "#0d0887"
            ],
            [
             0.1111111111111111,
             "#46039f"
            ],
            [
             0.2222222222222222,
             "#7201a8"
            ],
            [
             0.3333333333333333,
             "#9c179e"
            ],
            [
             0.4444444444444444,
             "#bd3786"
            ],
            [
             0.5555555555555556,
             "#d8576b"
            ],
            [
             0.6666666666666666,
             "#ed7953"
            ],
            [
             0.7777777777777778,
             "#fb9f3a"
            ],
            [
             0.8888888888888888,
             "#fdca26"
            ],
            [
             1,
             "#f0f921"
            ]
           ],
           "sequentialminus": [
            [
             0,
             "#0d0887"
            ],
            [
             0.1111111111111111,
             "#46039f"
            ],
            [
             0.2222222222222222,
             "#7201a8"
            ],
            [
             0.3333333333333333,
             "#9c179e"
            ],
            [
             0.4444444444444444,
             "#bd3786"
            ],
            [
             0.5555555555555556,
             "#d8576b"
            ],
            [
             0.6666666666666666,
             "#ed7953"
            ],
            [
             0.7777777777777778,
             "#fb9f3a"
            ],
            [
             0.8888888888888888,
             "#fdca26"
            ],
            [
             1,
             "#f0f921"
            ]
           ]
          },
          "colorway": [
           "#636efa",
           "#EF553B",
           "#00cc96",
           "#ab63fa",
           "#FFA15A",
           "#19d3f3",
           "#FF6692",
           "#B6E880",
           "#FF97FF",
           "#FECB52"
          ],
          "font": {
           "color": "#2a3f5f"
          },
          "geo": {
           "bgcolor": "white",
           "lakecolor": "white",
           "landcolor": "#E5ECF6",
           "showlakes": true,
           "showland": true,
           "subunitcolor": "white"
          },
          "hoverlabel": {
           "align": "left"
          },
          "hovermode": "closest",
          "mapbox": {
           "style": "light"
          },
          "paper_bgcolor": "white",
          "plot_bgcolor": "#E5ECF6",
          "polar": {
           "angularaxis": {
            "gridcolor": "white",
            "linecolor": "white",
            "ticks": ""
           },
           "bgcolor": "#E5ECF6",
           "radialaxis": {
            "gridcolor": "white",
            "linecolor": "white",
            "ticks": ""
           }
          },
          "scene": {
           "xaxis": {
            "backgroundcolor": "#E5ECF6",
            "gridcolor": "white",
            "gridwidth": 2,
            "linecolor": "white",
            "showbackground": true,
            "ticks": "",
            "zerolinecolor": "white"
           },
           "yaxis": {
            "backgroundcolor": "#E5ECF6",
            "gridcolor": "white",
            "gridwidth": 2,
            "linecolor": "white",
            "showbackground": true,
            "ticks": "",
            "zerolinecolor": "white"
           },
           "zaxis": {
            "backgroundcolor": "#E5ECF6",
            "gridcolor": "white",
            "gridwidth": 2,
            "linecolor": "white",
            "showbackground": true,
            "ticks": "",
            "zerolinecolor": "white"
           }
          },
          "shapedefaults": {
           "line": {
            "color": "#2a3f5f"
           }
          },
          "ternary": {
           "aaxis": {
            "gridcolor": "white",
            "linecolor": "white",
            "ticks": ""
           },
           "baxis": {
            "gridcolor": "white",
            "linecolor": "white",
            "ticks": ""
           },
           "bgcolor": "#E5ECF6",
           "caxis": {
            "gridcolor": "white",
            "linecolor": "white",
            "ticks": ""
           }
          },
          "title": {
           "x": 0.05
          },
          "xaxis": {
           "automargin": true,
           "gridcolor": "white",
           "linecolor": "white",
           "ticks": "",
           "title": {
            "standoff": 15
           },
           "zerolinecolor": "white",
           "zerolinewidth": 2
          },
          "yaxis": {
           "automargin": true,
           "gridcolor": "white",
           "linecolor": "white",
           "ticks": "",
           "title": {
            "standoff": 15
           },
           "zerolinecolor": "white",
           "zerolinewidth": 2
          }
         }
        },
        "title": {
         "text": "Energy Minimization"
        },
        "xaxis": {
         "title": {
          "text": "Energy Minimization Step"
         }
        },
        "yaxis": {
         "title": {
          "text": "Potential Energy kcal/mol"
         }
        }
       }
      },
      "text/html": [
       "<div>                            <div id=\"92f971a5-86f7-4d92-9ecd-aab5b7f2623c\" class=\"plotly-graph-div\" style=\"height:525px; width:100%;\"></div>            <script type=\"text/javascript\">                require([\"plotly\"], function(Plotly) {                    window.PLOTLYENV=window.PLOTLYENV || {};                                    if (document.getElementById(\"92f971a5-86f7-4d92-9ecd-aab5b7f2623c\")) {                    Plotly.newPlot(                        \"92f971a5-86f7-4d92-9ecd-aab5b7f2623c\",                        [{\"x\":[15.0,20.0,25.0,30.0,35.0,40.0,45.0,50.0,55.0,60.0,65.0,70.0,75.0,80.0,85.0,90.0,95.0,100.0,105.0,110.0,115.0,120.0,125.0,130.0,135.0,140.0,145.0,150.0,155.0,160.0,165.0,170.0,175.0,180.0,185.0,190.0,195.0,200.0,205.0,210.0,215.0,220.0,225.0,230.0,235.0,240.0,245.0,250.0,255.0,260.0,265.0,270.0,275.0,280.0,285.0,290.0,295.0,300.0,305.0,310.0,315.0,320.0,325.0,330.0,335.0,340.0,345.0,350.0,355.0,360.0,365.0,370.0,375.0,380.0,385.0,390.0,395.0,400.0,405.0,410.0,415.0,420.0,425.0,430.0,435.0,440.0,445.0,450.0,455.0,460.0,465.0,470.0,475.0,480.0,485.0,490.0,495.0,500.0],\"y\":[634.16,-683.48,-2591.6,-4421.1,-4478.4,-4564.2,-4595.5,-4800.3,-4813.6,-4824.2,-4833.6,-4842.5,-4811.7,-4818.0,-4829.5,-4835.3,-4841.6,-4825.7,-4831.7,-4837.2,-4841.5,-4846.6,-4748.5,-4753.1,-4757.7,-4762.3,-4768.3,-4869.9,-4876.3,-4877.8,-4881.7,-4888.3,-4972.9,-4976.7,-4980.4,-4984.1,-4987.7,-4961.0,-4963.4,-4966.8,-4970.1,-4973.3,-5004.5,-5007.6,-5010.7,-5013.9,-5017.9,-5104.8,-5109.8,-5147.1,-5181.3,-5193.3,-5035.6,-5036.8,-5040.9,-5046.8,-5052.3,-5140.5,-5141.6,-5144.7,-5148.9,-5151.6,-5150.2,-5151.1,-5153.2,-5157.0,-5159.2,-5123.4,-5124.3,-5126.8,-5129.6,-5131.5,-5204.5,-5205.1,-5206.0,-5207.7,-5208.7,-5210.7,-5211.2,-5212.2,-5213.5,-5214.1,-5203.3,-5203.4,-5204.1,-5205.1,-5205.6,-5169.9,-5169.9,-5170.8,-5171.6,-5172.2,-5143.0,-5143.0,-5143.8,-5144.7,-5145.2,-5128.9],\"type\":\"scatter\"}],                        {\"template\":{\"data\":{\"barpolar\":[{\"marker\":{\"line\":{\"color\":\"#E5ECF6\",\"width\":0.5},\"pattern\":{\"fillmode\":\"overlay\",\"size\":10,\"solidity\":0.2}},\"type\":\"barpolar\"}],\"bar\":[{\"error_x\":{\"color\":\"#2a3f5f\"},\"error_y\":{\"color\":\"#2a3f5f\"},\"marker\":{\"line\":{\"color\":\"#E5ECF6\",\"width\":0.5},\"pattern\":{\"fillmode\":\"overlay\",\"size\":10,\"solidity\":0.2}},\"type\":\"bar\"}],\"carpet\":[{\"aaxis\":{\"endlinecolor\":\"#2a3f5f\",\"gridcolor\":\"white\",\"linecolor\":\"white\",\"minorgridcolor\":\"white\",\"startlinecolor\":\"#2a3f5f\"},\"baxis\":{\"endlinecolor\":\"#2a3f5f\",\"gridcolor\":\"white\",\"linecolor\":\"white\",\"minorgridcolor\":\"white\",\"startlinecolor\":\"#2a3f5f\"},\"type\":\"carpet\"}],\"choropleth\":[{\"colorbar\":{\"outlinewidth\":0,\"ticks\":\"\"},\"type\":\"choropleth\"}],\"contourcarpet\":[{\"colorbar\":{\"outlinewidth\":0,\"ticks\":\"\"},\"type\":\"contourcarpet\"}],\"contour\":[{\"colorbar\":{\"outlinewidth\":0,\"ticks\":\"\"},\"colorscale\":[[0.0,\"#0d0887\"],[0.1111111111111111,\"#46039f\"],[0.2222222222222222,\"#7201a8\"],[0.3333333333333333,\"#9c179e\"],[0.4444444444444444,\"#bd3786\"],[0.5555555555555556,\"#d8576b\"],[0.6666666666666666,\"#ed7953\"],[0.7777777777777778,\"#fb9f3a\"],[0.8888888888888888,\"#fdca26\"],[1.0,\"#f0f921\"]],\"type\":\"contour\"}],\"heatmapgl\":[{\"colorbar\":{\"outlinewidth\":0,\"ticks\":\"\"},\"colorscale\":[[0.0,\"#0d0887\"],[0.1111111111111111,\"#46039f\"],[0.2222222222222222,\"#7201a8\"],[0.3333333333333333,\"#9c179e\"],[0.4444444444444444,\"#bd3786\"],[0.5555555555555556,\"#d8576b\"],[0.6666666666666666,\"#ed7953\"],[0.7777777777777778,\"#fb9f3a\"],[0.8888888888888888,\"#fdca26\"],[1.0,\"#f0f921\"]],\"type\":\"heatmapgl\"}],\"heatmap\":[{\"colorbar\":{\"outlinewidth\":0,\"ticks\":\"\"},\"colorscale\":[[0.0,\"#0d0887\"],[0.1111111111111111,\"#46039f\"],[0.2222222222222222,\"#7201a8\"],[0.3333333333333333,\"#9c179e\"],[0.4444444444444444,\"#bd3786\"],[0.5555555555555556,\"#d8576b\"],[0.6666666666666666,\"#ed7953\"],[0.7777777777777778,\"#fb9f3a\"],[0.8888888888888888,\"#fdca26\"],[1.0,\"#f0f921\"]],\"type\":\"heatmap\"}],\"histogram2dcontour\":[{\"colorbar\":{\"outlinewidth\":0,\"ticks\":\"\"},\"colorscale\":[[0.0,\"#0d0887\"],[0.1111111111111111,\"#46039f\"],[0.2222222222222222,\"#7201a8\"],[0.3333333333333333,\"#9c179e\"],[0.4444444444444444,\"#bd3786\"],[0.5555555555555556,\"#d8576b\"],[0.6666666666666666,\"#ed7953\"],[0.7777777777777778,\"#fb9f3a\"],[0.8888888888888888,\"#fdca26\"],[1.0,\"#f0f921\"]],\"type\":\"histogram2dcontour\"}],\"histogram2d\":[{\"colorbar\":{\"outlinewidth\":0,\"ticks\":\"\"},\"colorscale\":[[0.0,\"#0d0887\"],[0.1111111111111111,\"#46039f\"],[0.2222222222222222,\"#7201a8\"],[0.3333333333333333,\"#9c179e\"],[0.4444444444444444,\"#bd3786\"],[0.5555555555555556,\"#d8576b\"],[0.6666666666666666,\"#ed7953\"],[0.7777777777777778,\"#fb9f3a\"],[0.8888888888888888,\"#fdca26\"],[1.0,\"#f0f921\"]],\"type\":\"histogram2d\"}],\"histogram\":[{\"marker\":{\"pattern\":{\"fillmode\":\"overlay\",\"size\":10,\"solidity\":0.2}},\"type\":\"histogram\"}],\"mesh3d\":[{\"colorbar\":{\"outlinewidth\":0,\"ticks\":\"\"},\"type\":\"mesh3d\"}],\"parcoords\":[{\"line\":{\"colorbar\":{\"outlinewidth\":0,\"ticks\":\"\"}},\"type\":\"parcoords\"}],\"pie\":[{\"automargin\":true,\"type\":\"pie\"}],\"scatter3d\":[{\"line\":{\"colorbar\":{\"outlinewidth\":0,\"ticks\":\"\"}},\"marker\":{\"colorbar\":{\"outlinewidth\":0,\"ticks\":\"\"}},\"type\":\"scatter3d\"}],\"scattercarpet\":[{\"marker\":{\"colorbar\":{\"outlinewidth\":0,\"ticks\":\"\"}},\"type\":\"scattercarpet\"}],\"scattergeo\":[{\"marker\":{\"colorbar\":{\"outlinewidth\":0,\"ticks\":\"\"}},\"type\":\"scattergeo\"}],\"scattergl\":[{\"marker\":{\"colorbar\":{\"outlinewidth\":0,\"ticks\":\"\"}},\"type\":\"scattergl\"}],\"scattermapbox\":[{\"marker\":{\"colorbar\":{\"outlinewidth\":0,\"ticks\":\"\"}},\"type\":\"scattermapbox\"}],\"scatterpolargl\":[{\"marker\":{\"colorbar\":{\"outlinewidth\":0,\"ticks\":\"\"}},\"type\":\"scatterpolargl\"}],\"scatterpolar\":[{\"marker\":{\"colorbar\":{\"outlinewidth\":0,\"ticks\":\"\"}},\"type\":\"scatterpolar\"}],\"scatter\":[{\"marker\":{\"colorbar\":{\"outlinewidth\":0,\"ticks\":\"\"}},\"type\":\"scatter\"}],\"scatterternary\":[{\"marker\":{\"colorbar\":{\"outlinewidth\":0,\"ticks\":\"\"}},\"type\":\"scatterternary\"}],\"surface\":[{\"colorbar\":{\"outlinewidth\":0,\"ticks\":\"\"},\"colorscale\":[[0.0,\"#0d0887\"],[0.1111111111111111,\"#46039f\"],[0.2222222222222222,\"#7201a8\"],[0.3333333333333333,\"#9c179e\"],[0.4444444444444444,\"#bd3786\"],[0.5555555555555556,\"#d8576b\"],[0.6666666666666666,\"#ed7953\"],[0.7777777777777778,\"#fb9f3a\"],[0.8888888888888888,\"#fdca26\"],[1.0,\"#f0f921\"]],\"type\":\"surface\"}],\"table\":[{\"cells\":{\"fill\":{\"color\":\"#EBF0F8\"},\"line\":{\"color\":\"white\"}},\"header\":{\"fill\":{\"color\":\"#C8D4E3\"},\"line\":{\"color\":\"white\"}},\"type\":\"table\"}]},\"layout\":{\"annotationdefaults\":{\"arrowcolor\":\"#2a3f5f\",\"arrowhead\":0,\"arrowwidth\":1},\"autotypenumbers\":\"strict\",\"coloraxis\":{\"colorbar\":{\"outlinewidth\":0,\"ticks\":\"\"}},\"colorscale\":{\"diverging\":[[0,\"#8e0152\"],[0.1,\"#c51b7d\"],[0.2,\"#de77ae\"],[0.3,\"#f1b6da\"],[0.4,\"#fde0ef\"],[0.5,\"#f7f7f7\"],[0.6,\"#e6f5d0\"],[0.7,\"#b8e186\"],[0.8,\"#7fbc41\"],[0.9,\"#4d9221\"],[1,\"#276419\"]],\"sequential\":[[0.0,\"#0d0887\"],[0.1111111111111111,\"#46039f\"],[0.2222222222222222,\"#7201a8\"],[0.3333333333333333,\"#9c179e\"],[0.4444444444444444,\"#bd3786\"],[0.5555555555555556,\"#d8576b\"],[0.6666666666666666,\"#ed7953\"],[0.7777777777777778,\"#fb9f3a\"],[0.8888888888888888,\"#fdca26\"],[1.0,\"#f0f921\"]],\"sequentialminus\":[[0.0,\"#0d0887\"],[0.1111111111111111,\"#46039f\"],[0.2222222222222222,\"#7201a8\"],[0.3333333333333333,\"#9c179e\"],[0.4444444444444444,\"#bd3786\"],[0.5555555555555556,\"#d8576b\"],[0.6666666666666666,\"#ed7953\"],[0.7777777777777778,\"#fb9f3a\"],[0.8888888888888888,\"#fdca26\"],[1.0,\"#f0f921\"]]},\"colorway\":[\"#636efa\",\"#EF553B\",\"#00cc96\",\"#ab63fa\",\"#FFA15A\",\"#19d3f3\",\"#FF6692\",\"#B6E880\",\"#FF97FF\",\"#FECB52\"],\"font\":{\"color\":\"#2a3f5f\"},\"geo\":{\"bgcolor\":\"white\",\"lakecolor\":\"white\",\"landcolor\":\"#E5ECF6\",\"showlakes\":true,\"showland\":true,\"subunitcolor\":\"white\"},\"hoverlabel\":{\"align\":\"left\"},\"hovermode\":\"closest\",\"mapbox\":{\"style\":\"light\"},\"paper_bgcolor\":\"white\",\"plot_bgcolor\":\"#E5ECF6\",\"polar\":{\"angularaxis\":{\"gridcolor\":\"white\",\"linecolor\":\"white\",\"ticks\":\"\"},\"bgcolor\":\"#E5ECF6\",\"radialaxis\":{\"gridcolor\":\"white\",\"linecolor\":\"white\",\"ticks\":\"\"}},\"scene\":{\"xaxis\":{\"backgroundcolor\":\"#E5ECF6\",\"gridcolor\":\"white\",\"gridwidth\":2,\"linecolor\":\"white\",\"showbackground\":true,\"ticks\":\"\",\"zerolinecolor\":\"white\"},\"yaxis\":{\"backgroundcolor\":\"#E5ECF6\",\"gridcolor\":\"white\",\"gridwidth\":2,\"linecolor\":\"white\",\"showbackground\":true,\"ticks\":\"\",\"zerolinecolor\":\"white\"},\"zaxis\":{\"backgroundcolor\":\"#E5ECF6\",\"gridcolor\":\"white\",\"gridwidth\":2,\"linecolor\":\"white\",\"showbackground\":true,\"ticks\":\"\",\"zerolinecolor\":\"white\"}},\"shapedefaults\":{\"line\":{\"color\":\"#2a3f5f\"}},\"ternary\":{\"aaxis\":{\"gridcolor\":\"white\",\"linecolor\":\"white\",\"ticks\":\"\"},\"baxis\":{\"gridcolor\":\"white\",\"linecolor\":\"white\",\"ticks\":\"\"},\"bgcolor\":\"#E5ECF6\",\"caxis\":{\"gridcolor\":\"white\",\"linecolor\":\"white\",\"ticks\":\"\"}},\"title\":{\"x\":0.05},\"xaxis\":{\"automargin\":true,\"gridcolor\":\"white\",\"linecolor\":\"white\",\"ticks\":\"\",\"title\":{\"standoff\":15},\"zerolinecolor\":\"white\",\"zerolinewidth\":2},\"yaxis\":{\"automargin\":true,\"gridcolor\":\"white\",\"linecolor\":\"white\",\"ticks\":\"\",\"title\":{\"standoff\":15},\"zerolinecolor\":\"white\",\"zerolinewidth\":2}}},\"title\":{\"text\":\"Energy Minimization\"},\"xaxis\":{\"title\":{\"text\":\"Energy Minimization Step\"}},\"yaxis\":{\"title\":{\"text\":\"Potential Energy kcal/mol\"}}},                        {\"responsive\": true}                    ).then(function(){\n",
       "                            \n",
       "var gd = document.getElementById('92f971a5-86f7-4d92-9ecd-aab5b7f2623c');\n",
       "var x = new MutationObserver(function (mutations, observer) {{\n",
       "        var display = window.getComputedStyle(gd).display;\n",
       "        if (!display || display === 'none') {{\n",
       "            console.log([gd, 'removed!']);\n",
       "            Plotly.purge(gd);\n",
       "            observer.disconnect();\n",
       "        }}\n",
       "}});\n",
       "\n",
       "// Listen for the removal of the full notebook cells\n",
       "var notebookContainer = gd.closest('#notebook-container');\n",
       "if (notebookContainer) {{\n",
       "    x.observe(notebookContainer, {childList: true});\n",
       "}}\n",
       "\n",
       "// Listen for the clearing of the current output cell\n",
       "var outputEl = gd.closest('.output');\n",
       "if (outputEl) {{\n",
       "    x.observe(outputEl, {childList: true});\n",
       "}}\n",
       "\n",
       "                        })                };                });            </script>        </div>"
      ]
     },
     "metadata": {},
     "output_type": "display_data"
    }
   ],
   "source": [
    "from biobb_amber.process.process_minout import process_minout\n",
    "\n",
    "process_minout(input_log_path  = f'{TMP_DIR}/sander.minH.log',\n",
    "               output_dat_path = f'{TMP_DIR}/sander.minH.dat',\n",
    "               properties      = {'terms': ['ENERGY']})\n",
    "\n",
    "with open(f'{TMP_DIR}/sander.minH.dat', 'r') as energy_file:\n",
    "    x,y = map(\n",
    "        list,\n",
    "        zip(*[\n",
    "            (float(line.split()[0]),float(line.split()[1]))\n",
    "            for line in energy_file \n",
    "            if not line.startswith((\"#\",\"@\")) \n",
    "            if float(line.split()[1]) < 1000 \n",
    "        ])\n",
    "    )\n",
    "\n",
    "plotly.offline.init_notebook_mode(connected=True)\n",
    "\n",
    "fig = {\n",
    "    \"data\": [go.Scatter(x=x, y=y)],\n",
    "    \"layout\": go.Layout(title=\"Energy Minimization\",\n",
    "                        xaxis=dict(title = \"Energy Minimization Step\"),\n",
    "                        yaxis=dict(title = \"Potential Energy kcal/mol\")\n",
    "                       )\n",
    "}\n",
    "\n",
    "plotly.offline.iplot(fig)"
   ]
  },
  {
   "cell_type": "markdown",
   "id": "d9621f4b",
   "metadata": {},
   "source": [
    "## Solvate the system\n",
    "\n",
    "- `water_type` = `tip3p` water model\n",
    "- `box_type` = truncated octahedron \n",
    "- padding distance of 1.2 Å."
   ]
  },
  {
   "cell_type": "code",
   "execution_count": 8,
   "id": "91ae1e98",
   "metadata": {},
   "outputs": [
    {
     "name": "stdout",
     "output_type": "stream",
     "text": [
      "-I: Adding /Users/joelricci/miniconda/envs/biobb/dat/leap/prep to search path.\n",
      "-I: Adding /Users/joelricci/miniconda/envs/biobb/dat/leap/lib to search path.\n",
      "-I: Adding /Users/joelricci/miniconda/envs/biobb/dat/leap/parm to search path.\n",
      "-I: Adding /Users/joelricci/miniconda/envs/biobb/dat/leap/cmd to search path.\n",
      "-f: Source ./../data/md_system_prep/MAM_systems/3pxf/3pxf-MAM_intermediate_files/leap_prep_SOLV.in.\n",
      "\n",
      "Welcome to LEaP!\n",
      "(no leaprc in search path)\n",
      "Sourcing: ./../data/md_system_prep/MAM_systems/3pxf/3pxf-MAM_intermediate_files/leap_prep_SOLV.in\n",
      "----- Source: /Users/joelricci/miniconda/envs/biobb/dat/leap/cmd/leaprc.protein.ff14SB\n",
      "----- Source of /Users/joelricci/miniconda/envs/biobb/dat/leap/cmd/leaprc.protein.ff14SB done\n",
      "Log file: ./leap.log\n",
      "Loading parameters: /Users/joelricci/miniconda/envs/biobb/dat/leap/parm/parm10.dat\n",
      "Reading title:\n",
      "PARM99 + frcmod.ff99SB + frcmod.parmbsc0 + OL3 for RNA\n",
      "Loading parameters: /Users/joelricci/miniconda/envs/biobb/dat/leap/parm/frcmod.ff14SB\n",
      "Reading force field modification type file (frcmod)\n",
      "Reading title:\n",
      "ff14SB protein backbone and sidechain parameters\n",
      "Loading library: /Users/joelricci/miniconda/envs/biobb/dat/leap/lib/amino12.lib\n",
      "Loading library: /Users/joelricci/miniconda/envs/biobb/dat/leap/lib/aminoct12.lib\n",
      "Loading library: /Users/joelricci/miniconda/envs/biobb/dat/leap/lib/aminont12.lib\n",
      "----- Source: /Users/joelricci/miniconda/envs/biobb/dat/leap/cmd/leaprc.gaff\n",
      "----- Source of /Users/joelricci/miniconda/envs/biobb/dat/leap/cmd/leaprc.gaff done\n",
      "Log file: ./leap.log\n",
      "Loading parameters: /Users/joelricci/miniconda/envs/biobb/dat/leap/parm/gaff.dat\n",
      "Reading title:\n",
      "AMBER General Force Field for organic molecules (Version 1.81, May 2017)\n",
      "----- Source: /Users/joelricci/miniconda/envs/biobb/dat/leap/cmd/leaprc.water.tip3p\n",
      "----- Source of /Users/joelricci/miniconda/envs/biobb/dat/leap/cmd/leaprc.water.tip3p done\n",
      "Loading library: /Users/joelricci/miniconda/envs/biobb/dat/leap/lib/atomic_ions.lib\n",
      "Loading library: /Users/joelricci/miniconda/envs/biobb/dat/leap/lib/solvents.lib\n",
      "Loading parameters: /Users/joelricci/miniconda/envs/biobb/dat/leap/parm/frcmod.tip3p\n",
      "Reading force field modification type file (frcmod)\n",
      "Reading title:\n",
      "This is the additional/replacement parameter set for TIP3P water\n",
      "Loading parameters: /Users/joelricci/miniconda/envs/biobb/dat/leap/parm/frcmod.ions1lm_126_tip3p\n",
      "Reading force field modification type file (frcmod)\n",
      "Reading title:\n",
      "Li/Merz ion parameters of monovalent ions for TIP3P water model (12-6 normal usage set)\n",
      "Loading parameters: /Users/joelricci/miniconda/envs/biobb/dat/leap/parm/frcmod.ionsjc_tip3p\n",
      "Reading force field modification type file (frcmod)\n",
      "Reading title:\n",
      "Monovalent ion parameters for Ewald and TIP3P water from Joung & Cheatham JPCB (2008)\n",
      "Loading parameters: /Users/joelricci/miniconda/envs/biobb/dat/leap/parm/frcmod.ions234lm_126_tip3p\n",
      "Reading force field modification type file (frcmod)\n",
      "Reading title:\n",
      "Li/Merz ion parameters of divalent to tetravalent ions for TIP3P water model (12-6 normal usage set)\n",
      "Loading parameters: /Users/joelricci/miniconda/envs/biobb/dat/leap/parm/frcmod.ionsjc_tip3p\n",
      "Reading force field modification type file (frcmod)\n",
      "Reading title:\n",
      "Monovalent ion parameters for Ewald and TIP3P water from Joung & Cheatham JPCB (2008)\n",
      "Loading library: ../data/cosolvent_libs//MAMWAT20.off\n",
      "Loading PDB file: ./../data/md_system_prep/MAM_systems/3pxf/3pxf-MAM_intermediate_files/SYSTEM.minH.pdb\n",
      "  total atoms in file: 4848\n",
      "Scaling up box by a factor of 1.248976 to meet diagonal cut criterion\n",
      "  Solute vdw bounding box:              41.506 69.474 57.939\n",
      "  Total bounding box for atom centers:  99.449 99.449 99.449\n",
      "      (box expansion for 'iso' is  57.4%)\n",
      "  Solvent unit box:                     19.847 19.847 19.847\n",
      "  Volume: 506770.582 A^3 (oct)\n",
      "  Total mass 278765.638 amu,  Density 0.913 g/cc\n",
      "  Added 11712 residues.\n",
      "Writing pdb file: ./../data/md_system_prep/MAM_systems/3pxf/3pxf-MAM_intermediate_files/SOLV.pdb\n",
      "   printing CRYST1 record to PDB file with box info\n",
      "\n",
      "/Users/joelricci/miniconda/envs/biobb/bin/teLeap: Warning!\n",
      " Converting N-terminal residue name to PDB format: NMET -> MET\n",
      "\n",
      "/Users/joelricci/miniconda/envs/biobb/bin/teLeap: Warning!\n",
      " Converting C-terminal residue name to PDB format: CLEU -> LEU\n",
      "Checking 'system'....\n",
      "\n",
      "/Users/joelricci/miniconda/envs/biobb/bin/teLeap: Warning!\n",
      "The unperturbed charge of the unit (4.000000) is not zero.\n",
      "\n",
      "/Users/joelricci/miniconda/envs/biobb/bin/teLeap: Warning!\n",
      "Close contact of 1.455761 angstroms between .R<GLN 110>.A<HA 4> and .R<GLN 113>.A<HE22 15>\n",
      "\n",
      "/Users/joelricci/miniconda/envs/biobb/bin/teLeap: Warning!\n",
      "Close contact of 1.413094 angstroms between .R<VAL 164>.A<H 2> and .R<THR 165>.A<H 2>\n",
      "Checking parameters for unit 'system'.\n",
      "Checking for bond parameters.\n",
      "Checking for angle parameters.\n",
      "check:  Warnings: 3\n",
      "Unit is OK.\n",
      "Total unperturbed charge:   4.000000\n",
      "Total perturbed charge:     4.000000\n",
      "Checking Unit.\n",
      "\n",
      "/Users/joelricci/miniconda/envs/biobb/bin/teLeap: Warning!\n",
      "The unperturbed charge of the unit (4.000000) is not zero.\n",
      "\n",
      "/Users/joelricci/miniconda/envs/biobb/bin/teLeap: Note.\n",
      "Ignoring the warning from Unit Checking.\n",
      "\n",
      "Building topology.\n",
      "Building atom parameters.\n",
      "Building bond parameters.\n",
      "Building angle parameters.\n",
      "Building proper torsion parameters.\n",
      "Building improper torsion parameters.\n",
      " total 2606 improper torsions applied\n",
      "Building H-Bond parameters.\n",
      "Incorporating Non-Bonded adjustments.\n",
      "Not Marking per-residue atom chain types.\n",
      "Marking per-residue atom chain types.\n",
      "  (Residues lacking connect0/connect1 - \n",
      "   these don't have chain types marked:\n",
      "\n",
      "\tres\ttotal affected\n",
      "\n",
      "\tCLEU\t1\n",
      "\tMAM\t824\n",
      "\tNMET\t1\n",
      "\tWAT\t10888\n",
      "  )\n",
      " (no restraints)\n",
      "\tQuit\n",
      "\n",
      "Exiting LEaP: Errors = 0; Warnings = 6; Notes = 1.\n",
      "\n",
      "None\n"
     ]
    }
   ],
   "source": [
    "from helper_modules.prepare_md_system import run_leap_solv\n",
    "OUT_PL_SOLV  = 'SOLV'\n",
    "run_leap_solv(input_basename  = OUT_MIN_SYSTEM,\n",
    "              output_basename = OUT_PL_SOLV, \n",
    "              box_padding     = BOX_PADDING,\n",
    "              solvent_type    = SOLVENT_TYPE,\n",
    "              input_ligand_basename = None,\n",
    "              tmp_dir = TMP_DIR)"
   ]
  },
  {
   "cell_type": "markdown",
   "id": "0b9ceee9",
   "metadata": {},
   "source": [
    "## Adding ions\n",
    "- Get the number of water molecules inside the system\n",
    "- In this example, the **net charge** of the protein is <mark>-4</mark>.\n",
    "- To Neutralize the system, four `Cl-` atoms need to be added.\n"
   ]
  },
  {
   "cell_type": "markdown",
   "id": "7a00be51",
   "metadata": {},
   "source": [
    "- To achieve a `ION_MOLAR` = $0.15 M$ of NaCl we employed the following computation:\n",
    "    - `N_WATERS` / (55.3419 * `ION_MOLAR`)"
   ]
  },
  {
   "cell_type": "code",
   "execution_count": 9,
   "id": "363b2d07",
   "metadata": {},
   "outputs": [
    {
     "name": "stdout",
     "output_type": "stream",
     "text": [
      "Number of water molecules: 10888\n"
     ]
    },
    {
     "data": {
      "text/plain": [
       "29"
      ]
     },
     "execution_count": 9,
     "metadata": {},
     "output_type": "execute_result"
    }
   ],
   "source": [
    "from helper_modules.prepare_md_system import run_count_water_molecules\n",
    "\n",
    "n_waters = run_count_water_molecules(f'{TMP_DIR}/{OUT_PL_SOLV}.pdb')\n",
    "print('Number of water molecules:', n_waters)\n",
    "\n",
    "w_molar_mass  = 18.01528 # g/mol\n",
    "w_density     = 0.997    # g/mL\n",
    "n_wat_mols_1L = (w_density / w_molar_mass) * 1000 # nW/L\n",
    "n_ions        = int(n_waters / n_wat_mols_1L * ION_MOLAR) # nIONS\n",
    "n_ions"
   ]
  },
  {
   "cell_type": "markdown",
   "id": "851f35b9",
   "metadata": {},
   "source": [
    "### Neutralize the system with `NaCl`"
   ]
  },
  {
   "cell_type": "code",
   "execution_count": 10,
   "id": "38467b4c",
   "metadata": {},
   "outputs": [
    {
     "name": "stdout",
     "output_type": "stream",
     "text": [
      "-I: Adding /Users/joelricci/miniconda/envs/biobb/dat/leap/prep to search path.\n",
      "-I: Adding /Users/joelricci/miniconda/envs/biobb/dat/leap/lib to search path.\n",
      "-I: Adding /Users/joelricci/miniconda/envs/biobb/dat/leap/parm to search path.\n",
      "-I: Adding /Users/joelricci/miniconda/envs/biobb/dat/leap/cmd to search path.\n",
      "-f: Source ./../data/md_system_prep/MAM_systems/3pxf/3pxf-MAM_intermediate_files/leap_prep_NEUTRAL.in.\n",
      "\n",
      "Welcome to LEaP!\n",
      "(no leaprc in search path)\n",
      "Sourcing: ./../data/md_system_prep/MAM_systems/3pxf/3pxf-MAM_intermediate_files/leap_prep_NEUTRAL.in\n",
      "----- Source: /Users/joelricci/miniconda/envs/biobb/dat/leap/cmd/leaprc.protein.ff14SB\n",
      "----- Source of /Users/joelricci/miniconda/envs/biobb/dat/leap/cmd/leaprc.protein.ff14SB done\n",
      "Log file: ./leap.log\n",
      "Loading parameters: /Users/joelricci/miniconda/envs/biobb/dat/leap/parm/parm10.dat\n",
      "Reading title:\n",
      "PARM99 + frcmod.ff99SB + frcmod.parmbsc0 + OL3 for RNA\n",
      "Loading parameters: /Users/joelricci/miniconda/envs/biobb/dat/leap/parm/frcmod.ff14SB\n",
      "Reading force field modification type file (frcmod)\n",
      "Reading title:\n",
      "ff14SB protein backbone and sidechain parameters\n",
      "Loading library: /Users/joelricci/miniconda/envs/biobb/dat/leap/lib/amino12.lib\n",
      "Loading library: /Users/joelricci/miniconda/envs/biobb/dat/leap/lib/aminoct12.lib\n",
      "Loading library: /Users/joelricci/miniconda/envs/biobb/dat/leap/lib/aminont12.lib\n",
      "----- Source: /Users/joelricci/miniconda/envs/biobb/dat/leap/cmd/leaprc.gaff\n",
      "----- Source of /Users/joelricci/miniconda/envs/biobb/dat/leap/cmd/leaprc.gaff done\n",
      "Log file: ./leap.log\n",
      "Loading parameters: /Users/joelricci/miniconda/envs/biobb/dat/leap/parm/gaff.dat\n",
      "Reading title:\n",
      "AMBER General Force Field for organic molecules (Version 1.81, May 2017)\n",
      "----- Source: /Users/joelricci/miniconda/envs/biobb/dat/leap/cmd/leaprc.water.tip3p\n",
      "----- Source of /Users/joelricci/miniconda/envs/biobb/dat/leap/cmd/leaprc.water.tip3p done\n",
      "Loading library: /Users/joelricci/miniconda/envs/biobb/dat/leap/lib/atomic_ions.lib\n",
      "Loading library: /Users/joelricci/miniconda/envs/biobb/dat/leap/lib/solvents.lib\n",
      "Loading parameters: /Users/joelricci/miniconda/envs/biobb/dat/leap/parm/frcmod.tip3p\n",
      "Reading force field modification type file (frcmod)\n",
      "Reading title:\n",
      "This is the additional/replacement parameter set for TIP3P water\n",
      "Loading parameters: /Users/joelricci/miniconda/envs/biobb/dat/leap/parm/frcmod.ions1lm_126_tip3p\n",
      "Reading force field modification type file (frcmod)\n",
      "Reading title:\n",
      "Li/Merz ion parameters of monovalent ions for TIP3P water model (12-6 normal usage set)\n",
      "Loading parameters: /Users/joelricci/miniconda/envs/biobb/dat/leap/parm/frcmod.ionsjc_tip3p\n",
      "Reading force field modification type file (frcmod)\n",
      "Reading title:\n",
      "Monovalent ion parameters for Ewald and TIP3P water from Joung & Cheatham JPCB (2008)\n",
      "Loading parameters: /Users/joelricci/miniconda/envs/biobb/dat/leap/parm/frcmod.ions234lm_126_tip3p\n",
      "Reading force field modification type file (frcmod)\n",
      "Reading title:\n",
      "Li/Merz ion parameters of divalent to tetravalent ions for TIP3P water model (12-6 normal usage set)\n",
      "Loading parameters: /Users/joelricci/miniconda/envs/biobb/dat/leap/parm/frcmod.ionsjc_tip3p\n",
      "Reading force field modification type file (frcmod)\n",
      "Reading title:\n",
      "Monovalent ion parameters for Ewald and TIP3P water from Joung & Cheatham JPCB (2008)\n",
      "Loading library: ../data/cosolvent_libs//MAMWAT20.off\n",
      "Loading PDB file: ./../data/md_system_prep/MAM_systems/3pxf/3pxf-MAM_intermediate_files/SOLV.pdb\n",
      "  total atoms in file: 44928\n",
      "Adding 62 counter ions to \"system\". 10826 solvent molecules will remain.\n",
      "0: Placed Na+ in system at (17.41, -24.82, 28.72).\n",
      "Placed Cl- in system at (-15.38, -20.15, 2.41).\n",
      "0: Placed Na+ in system at (11.91, -7.13, -48.56).\n",
      "Placed Cl- in system at (-18.84, 29.64, 35.59).\n",
      "0: Placed Na+ in system at (4.53, 26.94, 28.82).\n",
      "Placed Cl- in system at (-35.60, 3.15, 6.33).\n",
      "0: Placed Na+ in system at (-3.96, -6.41, -44.74).\n",
      "Placed Cl- in system at (-19.33, 18.76, -33.52).\n",
      "0: Placed Na+ in system at (-13.48, 2.15, 42.25).\n",
      "Placed Cl- in system at (-24.86, 3.95, 37.62).\n",
      "0: Placed Na+ in system at (19.00, -26.41, -9.96).\n",
      "Placed Cl- in system at (3.65, 27.56, -31.75).\n",
      "0: Placed Na+ in system at (-14.83, -36.76, -23.15).\n",
      "Placed Cl- in system at (36.69, -1.39, -0.94).\n",
      "0: Placed Na+ in system at (35.25, -17.16, 29.18).\n",
      "Placed Cl- in system at (-32.90, -16.84, -14.59).\n",
      "0: Placed Na+ in system at (-10.90, -42.35, 18.53).\n",
      "Placed Cl- in system at (-0.06, 43.55, -24.50).\n",
      "0: Placed Na+ in system at (-42.09, -11.62, 16.47).\n",
      "Placed Cl- in system at (31.48, -14.38, -29.11).\n",
      "0: Placed Na+ in system at (-35.13, 32.46, -5.67).\n",
      "Placed Cl- in system at (-3.61, -38.38, -11.61).\n",
      "0: Placed Na+ in system at (-34.15, 30.11, -22.50).\n",
      "Placed Cl- in system at (-21.30, -12.38, -8.18).\n",
      "0: Placed Na+ in system at (-32.01, 15.12, -31.10).\n",
      "Placed Cl- in system at (6.77, -40.91, -13.00).\n",
      "0: Placed Na+ in system at (0.56, -26.14, 18.53).\n",
      "Placed Cl- in system at (-26.53, 2.14, 2.42).\n",
      "0: Placed Na+ in system at (12.46, 3.73, -30.14).\n",
      "Placed Cl- in system at (-24.98, -29.72, -19.28).\n",
      "0: Placed Na+ in system at (18.02, 19.46, 17.76).\n",
      "Placed Cl- in system at (34.82, -9.27, 9.13).\n",
      "0: Placed Na+ in system at (13.38, 4.02, 38.04).\n",
      "Placed Cl- in system at (-28.27, 34.60, 13.92).\n",
      "0: Placed Na+ in system at (-14.83, -36.76, 4.92).\n",
      "Placed Cl- in system at (-38.11, -26.63, 9.64).\n",
      "0: Placed Na+ in system at (-15.96, -45.68, -5.09).\n",
      "Placed Cl- in system at (-21.06, 34.00, -13.81).\n",
      "0: Placed Na+ in system at (0.52, -34.28, 2.23).\n",
      "Placed Cl- in system at (34.70, -29.64, -0.94).\n",
      "0: Placed Na+ in system at (8.04, -11.06, -49.28).\n",
      "Placed Cl- in system at (-21.49, 29.59, -20.59).\n",
      "0: Placed Na+ in system at (8.04, 13.25, 20.89).\n",
      "Placed Cl- in system at (-28.20, 20.73, -30.82).\n",
      "0: Placed Na+ in system at (12.57, 44.66, 19.72).\n",
      "Placed Cl- in system at (21.63, -1.79, 27.54).\n",
      "0: Placed Na+ in system at (-8.40, -17.16, 8.99).\n",
      "Placed Cl- in system at (9.80, -23.10, -33.09).\n",
      "0: Placed Na+ in system at (-12.84, -6.49, -36.36).\n",
      "Placed Cl- in system at (-13.81, -20.86, -22.91).\n",
      "0: Placed Na+ in system at (33.21, -7.58, 31.03).\n",
      "Placed Cl- in system at (11.91, 41.48, -20.49).\n",
      "0: Placed Na+ in system at (8.16, -13.34, -22.65).\n",
      "Placed Cl- in system at (12.46, -20.58, 11.96).\n",
      "0: Placed Na+ in system at (-17.68, -41.52, -17.18).\n",
      "Placed Cl- in system at (3.68, -14.41, 32.08).\n",
      "0: Placed Na+ in system at (19.00, 28.47, -25.66).\n",
      "Placed Cl- in system at (-13.78, 32.97, 26.99).\n",
      "Placed Cl- in system at (24.95, -34.20, -24.54).\n",
      "Placed Cl- in system at (-32.43, 16.62, 21.11).\n",
      "Placed Cl- in system at (-11.24, 30.54, 35.88).\n",
      "Placed Cl- in system at (41.26, 21.81, 11.24).\n",
      "Box dimensions:  89.516600 102.715300 105.539600\n",
      "Checking 'system'....\n",
      "\n",
      "/Users/joelricci/miniconda/envs/biobb/bin/teLeap: Warning!\n",
      "Close contact of 1.455999 angstroms between .R<GLN 110>.A<HA 4> and .R<GLN 113>.A<HE22 15>\n",
      "\n",
      "/Users/joelricci/miniconda/envs/biobb/bin/teLeap: Warning!\n",
      "Close contact of 1.412809 angstroms between .R<VAL 164>.A<H 2> and .R<THR 165>.A<H 2>\n",
      "Checking parameters for unit 'system'.\n",
      "Checking for bond parameters.\n",
      "Checking for angle parameters.\n",
      "check:  Warnings: 2\n",
      "Unit is OK.\n",
      "Total unperturbed charge:  -0.000000\n",
      "Total perturbed charge:    -0.000000\n",
      "Writing pdb file: ./../data/md_system_prep/MAM_systems/3pxf/3pxf-MAM_intermediate_files/NEUTRAL.pdb\n",
      "   printing CRYST1 record to PDB file with box info\n",
      "\n",
      "/Users/joelricci/miniconda/envs/biobb/bin/teLeap: Warning!\n",
      " Converting N-terminal residue name to PDB format: NMET -> MET\n",
      "\n",
      "/Users/joelricci/miniconda/envs/biobb/bin/teLeap: Warning!\n",
      " Converting C-terminal residue name to PDB format: CLEU -> LEU\n",
      "Checking Unit.\n",
      "Building topology.\n",
      "Building atom parameters.\n",
      "Building bond parameters.\n",
      "Building angle parameters.\n",
      "Building proper torsion parameters.\n",
      "Building improper torsion parameters.\n",
      " total 2606 improper torsions applied\n",
      "Building H-Bond parameters.\n",
      "Incorporating Non-Bonded adjustments.\n",
      "Not Marking per-residue atom chain types.\n",
      "Marking per-residue atom chain types.\n",
      "  (Residues lacking connect0/connect1 - \n",
      "   these don't have chain types marked:\n",
      "\n",
      "\tres\ttotal affected\n",
      "\n",
      "\tCLEU\t1\n",
      "\tMAM\t824\n",
      "\tNMET\t1\n",
      "\tWAT\t10826\n",
      "  )\n",
      " (no restraints)\n",
      "\tQuit\n",
      "\n",
      "Exiting LEaP: Errors = 0; Warnings = 4; Notes = 0.\n",
      "\n",
      "None\n"
     ]
    }
   ],
   "source": [
    "from helper_modules.prepare_md_system import run_leap_neutralization\n",
    "OUT_PL_NEUTRAL = 'NEUTRAL'\n",
    "run_leap_neutralization(input_basename    = OUT_PL_SOLV, \n",
    "                        output_basename   = OUT_PL_NEUTRAL, \n",
    "                        tmp_dir           = TMP_DIR, \n",
    "                        solvent_type      = SOLVENT_TYPE,\n",
    "                        ion_concentration = ION_MOLAR)"
   ]
  },
  {
   "cell_type": "code",
   "execution_count": 11,
   "id": "a0097726",
   "metadata": {},
   "outputs": [
    {
     "data": {
      "application/vnd.jupyter.widget-view+json": {
       "model_id": "7de413aca1bf4b4a845a837256292177",
       "version_major": 2,
       "version_minor": 0
      },
      "text/plain": [
       "NGLWidget()"
      ]
     },
     "metadata": {},
     "output_type": "display_data"
    }
   ],
   "source": [
    "view = nglview.show_structure_file(f'{TMP_DIR}/{OUT_PL_NEUTRAL}.pdb')\n",
    "view.clear_representations()\n",
    "view.add_representation(repr_type ='cartoon', selection='protein')\n",
    "view.add_representation(repr_type ='line', selection=SOLVENT)\n",
    "view.add_representation(repr_type ='spacefill', selection='Cl- Na+')\n",
    "view._remote_call('setSize', target='Widget', args=['','600px'])\n",
    "\n",
    "view"
   ]
  },
  {
   "cell_type": "markdown",
   "id": "139e8e5c",
   "metadata": {},
   "source": [
    "### Center the solvate system to the origin"
   ]
  },
  {
   "cell_type": "code",
   "execution_count": 12,
   "id": "b3e1c38b",
   "metadata": {},
   "outputs": [
    {
     "name": "stdout",
     "output_type": "stream",
     "text": [
      "Moving system to origin (44.80, 51.43, 52.64) -> (0,0,0)\n"
     ]
    }
   ],
   "source": [
    "from helper_modules.prepare_md_system import run_center_system_to_origin\n",
    "\n",
    "run_center_system_to_origin(\n",
    "            filename = f'{TMP_DIR}/{OUT_PL_NEUTRAL}.rst7',\n",
    "            topology = f'{TMP_DIR}/{OUT_PL_NEUTRAL}.prmtop',\n",
    "            out_filename = f'{TMP_DIR}/{OUT_PL_NEUTRAL}.CENTERED.rst7')"
   ]
  },
  {
   "cell_type": "markdown",
   "id": "85fad402",
   "metadata": {},
   "source": [
    "## Use `ParmEd` to parse from Amber to Gromacs "
   ]
  },
  {
   "cell_type": "code",
   "execution_count": 13,
   "id": "9c0f8e4e",
   "metadata": {
    "scrolled": true
   },
   "outputs": [],
   "source": [
    "# Conver to gromacs\n",
    "import parmed as pmd\n",
    "\n",
    "top  = f'{TMP_DIR}/{OUT_PL_NEUTRAL}.prmtop'\n",
    "rst7 = f'{TMP_DIR}/{OUT_PL_NEUTRAL}.CENTERED.rst7.1'\n",
    "\n",
    "amber = pmd.load_file(top, rst7)\n",
    "#save a GROMACS topology and GRO file\n",
    "TOP_FILE = f'{TMP_DIR}/{FINAL_BASENAME}_NO_POSRES.top'\n",
    "FINAL_GRO_FILE = f'{WD}/{FINAL_BASENAME}.gro'\n",
    "amber.save(TOP_FILE)\n",
    "amber.save(FINAL_GRO_FILE)"
   ]
  },
  {
   "cell_type": "markdown",
   "id": "800068f7",
   "metadata": {},
   "source": [
    "### Include `posres.itp` to the topology file"
   ]
  },
  {
   "cell_type": "markdown",
   "id": "a67536a5",
   "metadata": {},
   "source": [
    "- Include the following lines inside the `.top` file, just below the protein definition\n",
    "```algol60\n",
    "; Include Position restraint file for protein\n",
    "#ifdef POSRES\n",
    "#include \"posre.itp\"\n",
    "#endif\n",
    "```"
   ]
  },
  {
   "cell_type": "code",
   "execution_count": 14,
   "id": "2af99be5",
   "metadata": {},
   "outputs": [
    {
     "data": {
      "text/plain": [
       "dict_keys(['system1', 'MAM', 'Na+', 'Cl-', 'WAT'])"
      ]
     },
     "execution_count": 14,
     "metadata": {},
     "output_type": "execute_result"
    }
   ],
   "source": [
    "from parmed.gromacs import GromacsTopologyFile\n",
    "top = GromacsTopologyFile(TOP_FILE)\n",
    "top.molecules.keys()"
   ]
  },
  {
   "cell_type": "code",
   "execution_count": 15,
   "id": "1c0b3c16",
   "metadata": {},
   "outputs": [],
   "source": [
    "from helper_modules.prepare_md_system import include_posre_in_top, create_posre_file\n",
    "\n",
    "FINAL_TOP_FILE = f'{WD}/{FINAL_BASENAME}.top'\n",
    "# Protein posres\n",
    "PROT_POSRE_FILE = f'{FINAL_BASENAME}.prot_posre.itp'\n",
    "create_posre_file(input_gro          = FINAL_GRO_FILE, \n",
    "                  out_posre_filename = f'{WD}/{PROT_POSRE_FILE}',\n",
    "                  mol_selection      = 'protein',\n",
    "                  rest_energies      = [1000, 1000, 1000],\n",
    "                  verbose = False)\n",
    "include_posre_in_top(input_top_file = TOP_FILE, \n",
    "                     out_top_file   = FINAL_TOP_FILE, \n",
    "                     posre_filename = PROT_POSRE_FILE,\n",
    "                     molecule_index = 1 # inx=1 for protein\n",
    "                    )"
   ]
  },
  {
   "cell_type": "markdown",
   "id": "2c0c878d",
   "metadata": {},
   "source": [
    "### Create the `posres.itp` file"
   ]
  },
  {
   "cell_type": "code",
   "execution_count": 16,
   "id": "aa48a220",
   "metadata": {
    "scrolled": true
   },
   "outputs": [
    {
     "name": "stdout",
     "output_type": "stream",
     "text": [
      "./../data/md_system_prep/MAM_systems/3pxf/3pxf-MAM_intermediate_files/prot.TEMP\n",
      "\n",
      "                     :-) GROMACS - gmx pdb2gmx, 2019.1 (-:\n",
      "\n",
      "                            GROMACS is written by:\n",
      "     Emile Apol      Rossen Apostolov      Paul Bauer     Herman J.C. Berendsen\n",
      "    Par Bjelkmar      Christian Blau   Viacheslav Bolnykh     Kevin Boyd    \n",
      " Aldert van Buuren   Rudi van Drunen     Anton Feenstra       Alan Gray     \n",
      "  Gerrit Groenhof     Anca Hamuraru    Vincent Hindriksen  M. Eric Irrgang  \n",
      "  Aleksei Iupinov   Christoph Junghans     Joe Jordan     Dimitrios Karkoulis\n",
      "    Peter Kasson        Jiri Kraus      Carsten Kutzner      Per Larsson    \n",
      "  Justin A. Lemkul    Viveca Lindahl    Magnus Lundborg     Erik Marklund   \n",
      "    Pascal Merz     Pieter Meulenhoff    Teemu Murtola       Szilard Pall   \n",
      "    Sander Pronk      Roland Schulz      Michael Shirts    Alexey Shvetsov  \n",
      "   Alfons Sijbers     Peter Tieleman      Jon Vincent      Teemu Virolainen \n",
      " Christian Wennberg    Maarten Wolf   \n",
      "                           and the project leaders:\n",
      "        Mark Abraham, Berk Hess, Erik Lindahl, and David van der Spoel\n",
      "\n",
      "Copyright (c) 1991-2000, University of Groningen, The Netherlands.\n",
      "Copyright (c) 2001-2018, The GROMACS development team at\n",
      "Uppsala University, Stockholm University and\n",
      "the Royal Institute of Technology, Sweden.\n",
      "check out http://www.gromacs.org for more information.\n",
      "\n",
      "GROMACS is free software; you can redistribute it and/or modify it\n",
      "under the terms of the GNU Lesser General Public License\n",
      "as published by the Free Software Foundation; either version 2.1\n",
      "of the License, or (at your option) any later version.\n",
      "\n",
      "GROMACS:      gmx pdb2gmx, version 2019.1\n",
      "Executable:   /Users/joelricci/miniconda/envs/biobb/bin/gmx\n",
      "Data prefix:  /Users/joelricci/miniconda/envs/biobb\n",
      "Working dir:  /Volumes/Seagate/Ricci2020/CDK2020/DINAMICA/md_gromacs/notebooks\n",
      "Command line:\n",
      "  gmx pdb2gmx -f -o {BASE_NAME}.gro -i -ff amber99sb-ildn -water tip3p -ignh\n",
      "\n",
      "\n",
      "-------------------------------------------------------\n",
      "Program:     gmx pdb2gmx, version 2019.1\n",
      "Source file: src/gromacs/options/options.cpp (line 190)\n",
      "Function:    void gmx::internal::OptionSectionImpl::finish()\n",
      "\n",
      "Error in user input:\n",
      "Invalid input values\n",
      "  In option f\n",
      "    No file name was provided, and the default file 'protein' does not exist\n",
      "    or is not accessible.\n",
      "    The following extensions were tried to complete the file name:\n",
      "      .gro, .g96, .pdb, .brk, .ent, .esp, .tpr\n",
      "\n",
      "For more information and tips for troubleshooting, please check the GROMACS\n",
      "website at http://www.gromacs.org/Documentation/Errors\n",
      "-------------------------------------------------------\n"
     ]
    }
   ],
   "source": [
    "# Create the postresfile\n",
    "FILE = f'{TMP_DIR}/{OUT_PDB2PQR}'\n",
    "!echo $FILE\n",
    "!echo $POSRE_FILENAME\n",
    "!gmx pdb2gmx -f $FILE -o ${TMP_DIR}\\{BASE_NAME}.gro -i $POSRE_FILENAME -ff amber99sb-ildn -water tip3p -ignh"
   ]
  },
  {
   "cell_type": "markdown",
   "id": "3ac976b3",
   "metadata": {},
   "source": [
    "# Verify the resulting file"
   ]
  },
  {
   "cell_type": "code",
   "execution_count": 17,
   "id": "b055e3bf",
   "metadata": {
    "scrolled": true
   },
   "outputs": [
    {
     "name": "stdout",
     "output_type": "stream",
     "text": [
      "\r\n"
     ]
    }
   ],
   "source": [
    "!echo $POSRE_FILENAME"
   ]
  },
  {
   "cell_type": "markdown",
   "id": "1fd1af27",
   "metadata": {},
   "source": [
    "# Log properties of the final model"
   ]
  },
  {
   "cell_type": "code",
   "execution_count": 18,
   "id": "52035608",
   "metadata": {},
   "outputs": [],
   "source": [
    "# Get the protein charge\n",
    "import re\n",
    "\n",
    "def get_log_lines(file, \n",
    "                  pattern, \n",
    "                  lines_list = [0]):\n",
    "    log_lines = []\n",
    "    with open(file,\"r\") as file:\n",
    "        lines = file.readlines()\n",
    "        for i, line in enumerate(lines):\n",
    "            if re.search(pattern, line):\n",
    "                for j in lines_list:\n",
    "                    log_lines.append(lines[i + j])\n",
    "    return log_lines\n",
    "\n"
   ]
  },
  {
   "cell_type": "code",
   "execution_count": 19,
   "id": "6a237efc",
   "metadata": {},
   "outputs": [
    {
     "name": "stdout",
     "output_type": "stream",
     "text": [
      "\n",
      "Protein Net Charge: 4.000000\n",
      "\n",
      "System Net Charge: -0.000000\n",
      "\n",
      "Number of Protein atoms: 4848\n",
      "\n",
      "Total Number of atoms: 44928\n",
      "\n",
      "Number of WAT molecules:\n",
      "WAT\t10826\n",
      "\n",
      "Number of MAM molecules:\n",
      "MAM\t824\n",
      "\n",
      "Number of Na+ ions:\n",
      "29\n",
      "\n",
      "Number of Cl- ions:\n",
      "33\n",
      "Box dimensions:\n",
      "\n",
      "- x: 89.516600\n",
      "\n",
      "- y: 102.715300\n",
      "\n",
      "- z: 105.539600\n",
      "\n",
      "\n",
      "\n",
      "Warnings:\n",
      "Close contact of 1.455999 angstroms between .R<GLN 110>.A<HA 4> and .R<GLN 113>.A<HE22 15>\n",
      "\n",
      "Close contact of 1.412809 angstroms between .R<VAL 164>.A<H 2> and .R<THR 165>.A<H 2>\n",
      "\n",
      " Converting N-terminal residue name to PDB format: NMET -> MET\n",
      "\n",
      " Converting C-terminal residue name to PDB format: CLEU -> LEU\n",
      "\n"
     ]
    }
   ],
   "source": [
    "# Report Logs\n",
    "file = f'{TMP_DIR}/leap_prep_{OUT_SYSTEM}.in.log'\n",
    "\n",
    "# Protein charge\n",
    "pattern = 'charge protein'\n",
    "protein_charge = get_log_lines(file, pattern, lines_list = [1])\n",
    "protein_charge = protein_charge[0].replace('\\n', '').split(' ')[-1]\n",
    "protein_charge= [f'\\nProtein Net Charge: {protein_charge}']\n",
    "\n",
    "# Total protein atoms\n",
    "pattern = 'total atoms in file'\n",
    "n_protein_atoms = get_log_lines(file, pattern, lines_list = [0])\n",
    "n_protein_atoms = n_protein_atoms[0].strip().split(' ')[-1]\n",
    "n_protein_atoms = [f'\\nNumber of Protein atoms: {n_protein_atoms}']\n",
    "\n",
    "\n",
    "file = f'{TMP_DIR}/leap_prep_{OUT_PL_NEUTRAL}.in.log'\n",
    "\n",
    "# Total protein atoms\n",
    "pattern = 'total atoms in file'\n",
    "n_total_atoms = get_log_lines(file, pattern, lines_list = [0])\n",
    "n_total_atoms = n_total_atoms[0].strip().split(' ')[-1]\n",
    "n_total_atoms = [f'\\nTotal Number of atoms: {n_total_atoms}']\n",
    "\n",
    "# System charge\n",
    "pattern = 'charge system'\n",
    "system_charge = get_log_lines(file, pattern, lines_list = [1])\n",
    "system_charge = system_charge[0].replace('\\n', '').split(' ')[-1]\n",
    "system_charge = [f'\\nSystem Net Charge: {system_charge}']\n",
    "\n",
    "# Box dimensions\n",
    "pattern = 'Box dimensions'\n",
    "box_dimensions = get_log_lines(file, pattern, lines_list = [0])\n",
    "box_dimensions = box_dimensions[0].split(' ')[-3:]\n",
    "box_dimensions = [f'- {c}: {b}\\n' for b, c in zip(box_dimensions, ['x', 'y', 'z'])]\n",
    "box_dimensions.insert(0, pattern + ':\\n')\n",
    "\n",
    "# Warnings\n",
    "pattern = 'Warning!'\n",
    "warnings = get_log_lines(file, pattern, lines_list = [1])\n",
    "warnings.insert(0, '\\nWarnings:')\n",
    "\n",
    "# Number of final waters\n",
    "pattern = '\\tWAT'\n",
    "n_waters = get_log_lines(file, pattern, lines_list = [0])\n",
    "n_waters = [n_waters[0].strip()]\n",
    "n_waters.insert(0, '\\nNumber of WAT molecules:')\n",
    "\n",
    "# Number of ions\n",
    "pattern = 'Placed Na+'\n",
    "n_Na = [str(len(get_log_lines(file, pattern, lines_list = [0])))]\n",
    "n_Na.insert(0, '\\nNumber of Na+ ions:')\n",
    "\n",
    "pattern = 'Placed Cl-'\n",
    "n_Cl = [str(len(get_log_lines(file, pattern, lines_list = [0])))]\n",
    "n_Cl.insert(0, '\\nNumber of Cl- ions:')\n",
    "\n",
    "# Number of cosolvent molecules\n",
    "solv_lines = []\n",
    "if SOLVENT != None and SOLVENT != 'WAT':\n",
    "    pattern = f'\\t{SOLVENT}'\n",
    "    solv_lines = get_log_lines(file, pattern, lines_list = [0])\n",
    "    solv_lines = [solv_lines[0].strip()]\n",
    "    solv_lines.insert(0, f'\\nNumber of {SOLVENT} molecules:')\n",
    "    \n",
    "LINES = protein_charge + system_charge + n_protein_atoms + n_total_atoms +\\\n",
    "        n_waters + solv_lines +\\\n",
    "        n_Na + n_Cl + box_dimensions + warnings\n",
    "        \n",
    "with open(f'{TMP_DIR}/PREP_SUMMARY.log', 'w') as f:\n",
    "    f.writelines(LINES)\n",
    "    \n",
    "for l in LINES:\n",
    "    print(l)"
   ]
  },
  {
   "cell_type": "code",
   "execution_count": null,
   "id": "ad972c56",
   "metadata": {},
   "outputs": [],
   "source": []
  }
 ],
 "metadata": {
  "kernelspec": {
   "display_name": "Python 3 (ipykernel)",
   "language": "python",
   "name": "python3"
  },
  "language_info": {
   "codemirror_mode": {
    "name": "ipython",
    "version": 3
   },
   "file_extension": ".py",
   "mimetype": "text/x-python",
   "name": "python",
   "nbconvert_exporter": "python",
   "pygments_lexer": "ipython3",
   "version": "3.7.12"
  }
 },
 "nbformat": 4,
 "nbformat_minor": 5
}
