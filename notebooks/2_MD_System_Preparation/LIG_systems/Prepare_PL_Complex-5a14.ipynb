{
 "cells": [
  {
   "cell_type": "code",
   "execution_count": 1,
   "id": "142fadbc",
   "metadata": {},
   "outputs": [
    {
     "data": {
      "application/vnd.jupyter.widget-view+json": {
       "model_id": "bfc7d30fc32d4aabab292cee21eb7eb9",
       "version_major": 2,
       "version_minor": 0
      },
      "text/plain": []
     },
     "metadata": {},
     "output_type": "display_data"
    }
   ],
   "source": [
    "import subprocess\n",
    "import os \n",
    "import shutil\n",
    "from pathlib import Path\n",
    "import warnings\n",
    "import nglview\n",
    "import ipywidgets\n",
    "import sys\n",
    "sys.path.append('..')\n",
    "import plotly\n",
    "from plotly import subplots\n",
    "import plotly.graph_objs as go\n",
    "%load_ext autoreload\n",
    "%autoreload 2"
   ]
  },
  {
   "cell_type": "code",
   "execution_count": 2,
   "id": "b451c739",
   "metadata": {},
   "outputs": [],
   "source": [
    "PDB_ID       = '5a14'\n",
    "LIG_NAME     = 'LQ5'\n",
    "SOLVENT_TYPE = 'TIP3PBOX'\n",
    "PH           = 7.4\n",
    "BOX_PADDING  = 12.0\n",
    "ION_MOLAR    = 0.15\n",
    "\n",
    "# Output basename\n",
    "FINAL_BASENAME = f'{PDB_ID}-LIG'\n",
    "\n",
    "# Define the input files\n",
    "WD = f'./../data/md_system_prep/LIG_systems/{PDB_ID}'\n",
    "INPUT_PROT     = f'{WD}/{PDB_ID}_A_mod.pdb'\n",
    "INPUT_LIG      = f'{WD}/{PDB_ID}_{LIG_NAME}_LIG.pdb'\n",
    "INPUT_CRYS_WAT = f'{WD}/{PDB_ID}_CRYS_WAT.pdb'\n",
    "LIG_RESNAME    = f'LIG'\n",
    "LIG_PARTIAL_CHARGES = 'gasteiger'"
   ]
  },
  {
   "cell_type": "code",
   "execution_count": 3,
   "id": "91e12309",
   "metadata": {},
   "outputs": [],
   "source": [
    "# Create a folder to store intermediate files\n",
    "TMP_DIR = f'{WD}/{FINAL_BASENAME}_intermediate_files'\n",
    "Path(TMP_DIR).mkdir(exist_ok = True)"
   ]
  },
  {
   "cell_type": "code",
   "execution_count": 4,
   "id": "00b08656",
   "metadata": {},
   "outputs": [
    {
     "name": "stdout",
     "output_type": "stream",
     "text": [
      "INFO:PDB2PQR v3.4.1: biomolecular structure conversion software.\n",
      "INFO:Please cite:  Jurrus E, et al.  Improvements to the APBS biomolecular solvation software suite.  Protein Sci 27 112-128 (2018).\n",
      "INFO:Please cite:  Dolinsky TJ, et al.  PDB2PQR: expanding and upgrading automated preparation of biomolecular structures for molecular simulations. Nucleic Acids Res 35 W522-W525 (2007).\n",
      "INFO:Checking and transforming input arguments.\n",
      "INFO:Loading topology files.\n",
      "INFO:Loading molecule: ./../data/md_system_prep/LIG_systems/5a14/5a14_A_mod.pdb\n",
      "ERROR:Error parsing line: invalid literal for int() with base 10: 'Ato'\n",
      "ERROR:<REMARK AtomGroup 5a14_A_mod>\n",
      "ERROR:Truncating remaining errors for record type:REMARK\n",
      "WARNING:Warning: ../data/md_system_prep/LIG_systems/5a14/5a14_A_mod.pdb is a non-standard PDB file.\n",
      "\n",
      "ERROR:['REMARK']\n",
      "INFO:Dropping water from structure.\n",
      "INFO:Setting up molecule.\n",
      "INFO:Created biomolecule object with 298 residues and 2398 atoms.\n",
      "INFO:Setting termini states for biomolecule chains.\n",
      "INFO:Loading forcefield.\n",
      "INFO:Loading hydrogen topology definitions.\n",
      "INFO:This biomolecule is clean.  No repair needed.\n",
      "INFO:Updating disulfide bridges.\n",
      "INFO:Debumping biomolecule.\n",
      "INFO:Assigning titration states with PROPKA.\n",
      "INFO:\n",
      "propka3.4.0                                                                                  2022-04-02\n",
      "\n",
      "-------------------------------------------------------------------------------\n",
      "--                                                                           --\n",
      "--  PROPKA: A PROTEIN PKA PREDICTOR                                          --\n",
      "--                                                                           --\n",
      "--  VERSION 1.0,  04/25/2004,  IOWA CITY                                     --\n",
      "--  BY HUI LI                                                                --\n",
      "--                                                                           --\n",
      "--  VERSION 2.0,  11/05/2007, IOWA CITY/COPENHAGEN                           --\n",
      "--  BY DELPHINE C. BAS AND DAVID M. ROGERS                                   --\n",
      "--                                                                           --\n",
      "--  VERSION 3.0,  01/06/2011, COPENHAGEN                                     --\n",
      "--  BY MATS H.M. OLSSON AND CHRESTEN R. SONDERGARD                           --\n",
      "--                                                                           --\n",
      "--  VERSION 3.1,  07/01/2011, COPENHAGEN                                     --\n",
      "--  BY CHRESTEN R. SONDERGARD AND MATS H.M. OLSSON                           --\n",
      "--                                                                           --\n",
      "--  VERSION 3.2,  06/17/2020, PLANET EARTH                                   --\n",
      "--  SEE ABOVE FOR AUTHORS                                                    --\n",
      "--                                                                           --\n",
      "-------------------------------------------------------------------------------\n",
      "\n",
      "\n",
      "-------------------------------------------------------------------------------\n",
      "References:\n",
      "\n",
      "Very Fast Empirical Prediction and Rationalization of Protein pKa Values.\n",
      "Hui Li, Andrew D. Robertson and Jan H. Jensen. PROTEINS: Structure, Function,\n",
      "and Bioinformatics. 61:704-721 (2005)\n",
      "\n",
      "Very Fast Prediction and Rationalization of pKa Values for Protein-Ligand\n",
      "Complexes.  Delphine C. Bas, David M. Rogers and Jan H. Jensen.  PROTEINS:\n",
      "Structure, Function, and Bioinformatics 73:765-783 (2008)\n",
      "\n",
      "PROPKA3: Consistent Treatment of Internal and Surface Residues in Empirical\n",
      "pKa predictions.  Mats H.M. Olsson, Chresten R. Sondergard, Michal Rostkowski,\n",
      "and Jan H. Jensen.  Journal of Chemical Theory and Computation, 7(2):525-537\n",
      "(2011)\n",
      "\n",
      "Improved Treatment of Ligands and Coupling Effects in Empirical Calculation\n",
      "and Rationalization of pKa Values.  Chresten R. Sondergaard, Mats H.M. Olsson,\n",
      "Michal Rostkowski, and Jan H. Jensen.  Journal of Chemical Theory and\n",
      "Computation, (2011)\n",
      "-------------------------------------------------------------------------------\n",
      "\n",
      "\n",
      "\n",
      "INFO:Coupling map:\n",
      "\n",
      "INFO:Calculating pKas for Conformation container 1A with 2834 atoms and 722 groups\n",
      "INFO:pKa determinants:\n",
      "\n",
      "---------  -----   ------   ---------------------    --------------    --------------    --------------\n",
      "                            DESOLVATION  EFFECTS       SIDECHAIN          BACKBONE        COULOMBIC\n",
      " RESIDUE    pKa    BURIED     REGULAR      RE        HYDROGEN BOND     HYDROGEN BOND      INTERACTION\n",
      "---------  -----   ------   ---------   ---------    --------------    --------------    --------------\n",
      "\n",
      "ASP  38 A   3.89     0 %    0.21  232   0.00    0    0.00 XXX   0 X    0.00 XXX   0 X   -0.11 ARG  36 A\n",
      "\n",
      "ASP  68 A   3.71     6 %    0.38  298   0.06    0    0.00 XXX   0 X   -0.53 VAL  69 A    0.00 XXX   0 X\n",
      "\n",
      "ASP  86 A   4.55    48 %    1.73  415   0.48    0    0.00 XXX   0 X   -0.01 ASP  86 A   -0.16 LYS  88 A\n",
      "ASP  86 A                                            0.00 XXX   0 X   -0.05 LYS  88 A    0.09 ASP  92 A\n",
      "ASP  86 A                                            0.00 XXX   0 X   -0.81 LYS  89 A   -0.52 LYS  89 A\n",
      "\n",
      "ASP  92 A   3.98     5 %    0.39  294   0.05    0    0.00 XXX   0 X    0.00 XXX   0 X   -0.20 LYS  88 A\n",
      "ASP  92 A                                            0.00 XXX   0 X    0.00 XXX   0 X   -0.06 LYS  89 A\n",
      "\n",
      "ASP 127 A   3.48    83 %    2.08  513   1.02    0   -0.50 LYS 129 A    0.00 XXX   0 X   -0.00 ARG 150 A\n",
      "ASP 127 A                                           -0.52 ARG 169 A    0.00 XXX   0 X    0.04 ASP 185 A\n",
      "ASP 127 A                                            0.00 XXX   0 X    0.00 XXX   0 X   -0.60 HIS 125 A\n",
      "ASP 127 A                                            0.00 XXX   0 X    0.00 XXX   0 X   -0.98 LYS 129 A\n",
      "ASP 127 A                                            0.00 XXX   0 X    0.00 XXX   0 X   -0.84 ARG 169 A\n",
      "\n",
      "ASP 145 A   4.61    95 %    2.25  546   0.48    0    0.00 XXX   0 X   -0.63 GLY 147 A   -0.24 LYS  33 A\n",
      "ASP 145 A                                            0.00 XXX   0 X    0.00 XXX   0 X   -0.27 LYS 129 A\n",
      "ASP 145 A                                            0.00 XXX   0 X    0.00 XXX   0 X   -0.00 ARG 150 A\n",
      "ASP 145 A                                            0.00 XXX   0 X    0.00 XXX   0 X   -1.37 HIS 125 A\n",
      "ASP 145 A                                            0.00 XXX   0 X    0.00 XXX   0 X    0.60 ASP 127 A\n",
      "\n",
      "ASP 185 A   3.00   100 %    3.65  566   0.52    0   -1.60 HIS 119 A   -0.68 HIS 125 A   -0.13 ARG 126 A\n",
      "ASP 185 A                                            0.00 XXX   0 X   -0.81 ARG 126 A   -0.82 HIS 119 A\n",
      "ASP 185 A                                            0.00 XXX   0 X    0.00 XXX   0 X   -0.94 HIS 125 A\n",
      "\n",
      "ASP 206 A   4.01     0 %    0.25  187   0.00    0   -0.11 SER 207 A   -0.14 ASP 206 A   -0.10 ARG 214 A\n",
      "ASP 206 A                                            0.00 XXX   0 X    0.00 XXX   0 X    0.32 ASP 210 A\n",
      "\n",
      "ASP 210 A   2.67     0 %    0.46  275   0.00    0   -0.71 ARG 214 A   -0.53 ASP 206 A   -0.00 ARG 217 A\n",
      "ASP 210 A                                            0.00 XXX   0 X    0.00 XXX   0 X   -0.35 ARG 214 A\n",
      "\n",
      "ASP 223 A   3.14     0 %    0.42  267   0.00    0    0.00 XXX   0 X   -0.13 ASP 223 A   -0.01 LYS 242 A\n",
      "ASP 223 A                                            0.00 XXX   0 X   -0.14 VAL 225 A    0.05 GLU 224 A\n",
      "ASP 223 A                                            0.00 XXX   0 X   -0.85 VAL 226 A    0.00 XXX   0 X\n",
      "\n",
      "ASP 235 A   4.00     0 %    0.34  273   0.00    0    0.00 XXX   0 X    0.00 XXX   0 X   -0.14 LYS 237 A\n",
      "\n",
      "ASP 247 A   3.40     0 %    0.31  187   0.00    0    0.00 XXX   0 X   -0.54 SER 249 A   -0.03 ARG 245 A\n",
      "ASP 247 A                                            0.00 XXX   0 X    0.00 XXX   0 X   -0.04 LYS 250 A\n",
      "ASP 247 A                                            0.00 XXX   0 X    0.00 XXX   0 X   -0.11 ARG 260 A\n",
      "\n",
      "ASP 256 A   3.48    21 %    0.83  340   0.01    0    0.00 XXX   0 X   -0.16 ASP 256 A   -0.23 LYS 105 A\n",
      "ASP 256 A                                            0.00 XXX   0 X   -0.01 ASP 258 A   -0.06 ARG 260 A\n",
      "ASP 256 A                                            0.00 XXX   0 X   -0.74 GLY 259 A   -0.02 HIS 283 A\n",
      "ASP 256 A                                            0.00 XXX   0 X    0.00 XXX   0 X    0.07 ASP 288 A\n",
      "\n",
      "ASP 258 A   4.15     0 %    0.35  242   0.00    0    0.00 XXX   0 X    0.00 XXX   0 X   -0.08 LYS 105 A\n",
      "ASP 258 A                                            0.00 XXX   0 X    0.00 XXX   0 X    0.18 ASP 256 A\n",
      "ASP 258 A                                            0.00 XXX   0 X    0.00 XXX   0 X   -0.15 HIS 283 A\n",
      "ASP 258 A                                            0.00 XXX   0 X    0.00 XXX   0 X    0.05 ASP 288 A\n",
      "\n",
      "ASP 270 A   3.92    19 %    0.99  335   0.10    0    0.00 XXX   0 X   -0.64 ASN 272 A   -0.18 LYS 273 A\n",
      "ASP 270 A                                            0.00 XXX   0 X    0.00 XXX   0 X   -0.11 ARG 274 A\n",
      "ASP 270 A                                            0.00 XXX   0 X    0.00 XXX   0 X    0.01 GLU 224 A\n",
      "ASP 270 A                                            0.00 XXX   0 X    0.00 XXX   0 X   -0.05 HIS 268 A\n",
      "\n",
      "ASP 288 A   2.58     0 %    0.36  259   0.00    0   -0.81 LYS 105 A   -0.36 ASP 288 A   -0.40 LYS 105 A\n",
      "\n",
      "GLU   2 A   3.27     0 %    0.19  188   0.00    0   -0.29 N+    1 A   -0.69 GLU   2 A   -0.05 LYS  24 A\n",
      "GLU   2 A                                            0.00 XXX   0 X    0.00 XXX   0 X   -0.38 N+    1 A\n",
      "\n",
      "GLU   8 A   4.40     0 %    0.34  221   0.00    0    0.00 XXX   0 X    0.00 XXX   0 X   -0.23 LYS   6 A\n",
      "GLU   8 A                                            0.00 XXX   0 X    0.00 XXX   0 X   -0.21 LYS  20 A\n",
      "\n",
      "GLU  12 A   4.25     0 %    0.23  199   0.00    0   -0.04 LYS   9 A    0.00 XXX   0 X   -0.38 LYS   9 A\n",
      "GLU  12 A                                            0.00 XXX   0 X    0.00 XXX   0 X   -0.05 LYS  34 A\n",
      "\n",
      "GLU  28 A   4.81     0 %    0.33  274   0.00    0    0.00 XXX   0 X    0.00 XXX   0 X   -0.10 LYS  65 A\n",
      "GLU  28 A                                            0.00 XXX   0 X    0.00 XXX   0 X    0.02 ASP  68 A\n",
      "GLU  28 A                                            0.00 XXX   0 X    0.00 XXX   0 X    0.06 GLU  81 A\n",
      "\n",
      "GLU  40 A   4.64     0 %    0.14  114   0.00    0    0.00 XXX   0 X    0.00 XXX   0 X    0.00 XXX   0 X\n",
      "\n",
      "GLU  42 A   4.55     0 %    0.05   49   0.00    0    0.00 XXX   0 X    0.00 XXX   0 X    0.00 XXX   0 X\n",
      "\n",
      "GLU  51 A   5.81    86 %    2.95  521   0.13    0   -0.85 LYS  33 A    0.00 XXX   0 X    0.23 ASP 145 A\n",
      "GLU  51 A                                            0.00 XXX   0 X    0.00 XXX   0 X   -1.15 LYS  33 A\n",
      "\n",
      "GLU  57 A   4.48     0 %    0.34  259   0.00    0    0.00 XXX   0 X    0.00 XXX   0 X   -0.12 ARG  50 A\n",
      "GLU  57 A                                            0.00 XXX   0 X    0.00 XXX   0 X   -0.01 LYS  56 A\n",
      "GLU  57 A                                            0.00 XXX   0 X    0.00 XXX   0 X   -0.23 HIS 121 A\n",
      "\n",
      "GLU  73 A   3.68     0 %    0.14  142   0.00    0   -0.55 LYS  75 A    0.00 XXX   0 X   -0.02 N+    1 A\n",
      "GLU  73 A                                            0.00 XXX   0 X    0.00 XXX   0 X   -0.38 LYS  75 A\n",
      "\n",
      "GLU  81 A   3.32    37 %    1.08  384   0.09    0   -0.49 LYS  65 A    0.00 XXX   0 X   -0.44 LYS  65 A\n",
      "GLU  81 A                                           -0.85 LYS 142 A    0.00 XXX   0 X   -0.57 LYS 142 A\n",
      "\n",
      "GLU 138 A   4.52     0 %    0.13  219   0.00    0    0.00 XXX   0 X    0.00 XXX   0 X   -0.02 LYS 142 A\n",
      "GLU 138 A                                            0.00 XXX   0 X    0.00 XXX   0 X   -0.12 LYS 291 A\n",
      "GLU 138 A                                            0.00 XXX   0 X    0.00 XXX   0 X    0.03 GLU  81 A\n",
      "\n",
      "GLU 162 A   4.58     0 %    0.27  234   0.00    0    0.00 XXX   0 X    0.00 XXX   0 X    0.02 GLU  12 A\n",
      "GLU 162 A                                            0.00 XXX   0 X    0.00 XXX   0 X   -0.22 HIS 161 A\n",
      "\n",
      "GLU 172 A   4.51    91 %    3.60  536   0.28    0   -1.55 ARG 274 A   -0.73 GLU 172 A    0.06 ASP 270 A\n",
      "GLU 172 A                                            0.00 XXX   0 X    0.00 XXX   0 X   -1.64 ARG 274 A\n",
      "\n",
      "GLU 195 A   6.31    76 %    2.46  495   0.18    0   -0.85 TYR 168 A    0.00 XXX   0 X   -0.05 LYS  88 A\n",
      "GLU 195 A                                            0.00 XXX   0 X    0.00 XXX   0 X    0.07 ASP  92 A\n",
      "\n",
      "GLU 208 A   4.94    17 %    0.33  330   0.02    0    0.00 XXX   0 X    0.00 XXX   0 X   -0.02 ARG 169 A\n",
      "GLU 208 A                                            0.00 XXX   0 X    0.00 XXX   0 X    0.12 ASP 235 A\n",
      "\n",
      "GLU 224 A   2.67     0 %    0.55  234   0.00    0   -0.85 THR 231 A   -0.79 GLY 229 A    0.00 XXX   0 X\n",
      "GLU 224 A                                            0.00 XXX   0 X   -0.75 THR 231 A    0.00 XXX   0 X\n",
      "\n",
      "GLU 257 A   4.84     0 %    0.10  166   0.00    0    0.00 XXX   0 X    0.00 XXX   0 X   -0.00 ARG 260 A\n",
      "GLU 257 A                                            0.00 XXX   0 X    0.00 XXX   0 X    0.04 ASP 256 A\n",
      "GLU 257 A                                            0.00 XXX   0 X    0.00 XXX   0 X    0.19 ASP 258 A\n",
      "\n",
      "C-  298 A   3.34     0 %    0.14   69   0.00    0    0.00 XXX   0 X    0.00 XXX   0 X    0.00 XXX   0 X\n",
      "\n",
      "HIS  60 A   5.19    31 %   -1.26  368   0.00    0    0.00 XXX   0 X    0.00 XXX   0 X   -0.03 LYS 142 A\n",
      "HIS  60 A                                            0.00 XXX   0 X    0.00 XXX   0 X   -0.02 HIS 121 A\n",
      "\n",
      "HIS  71 A   6.50     0 %   -0.27  217   0.00    0    0.00 XXX   0 X    0.27 LYS  75 A   -0.00 LYS  75 A\n",
      "\n",
      "HIS  84 A   5.70    17 %   -0.67  329   0.00    0    0.00 XXX   0 X    0.00 XXX   0 X   -0.10 LYS  20 A\n",
      "HIS  84 A                                            0.00 XXX   0 X    0.00 XXX   0 X   -0.03 ARG 297 A\n",
      "\n",
      "HIS 119 A   6.57    68 %   -2.30  473   0.00    0    1.60 ASP 185 A    0.00 XXX   0 X   -0.05 HIS 125 A\n",
      "HIS 119 A                                            0.00 XXX   0 X    0.00 XXX   0 X    0.82 ASP 185 A\n",
      "\n",
      "HIS 121 A   7.10     0 %   -0.43  246   0.00    0    0.00 XXX   0 X    0.80 PHE 117 A    0.23 GLU  57 A\n",
      "\n",
      "HIS 125 A   7.42   100 %   -2.70  605   0.00    0    0.00 XXX   0 X    0.01 HIS 125 A   -0.12 LYS 129 A\n",
      "HIS 125 A                                            0.00 XXX   0 X    0.82 ALA 144 A    0.60 ASP 127 A\n",
      "HIS 125 A                                            0.00 XXX   0 X    0.00 XXX   0 X    1.37 ASP 145 A\n",
      "HIS 125 A                                            0.00 XXX   0 X    0.00 XXX   0 X    0.94 ASP 185 A\n",
      "\n",
      "HIS 161 A   6.49     0 %   -0.23  126   0.00    0    0.00 XXX   0 X    0.00 XXX   0 X    0.22 GLU 162 A\n",
      "\n",
      "HIS 268 A   5.59    43 %   -1.03  403   0.00    0    0.00 XXX   0 X    0.33 LYS 273 A   -0.10 ARG 245 A\n",
      "HIS 268 A                                            0.00 XXX   0 X    0.00 XXX   0 X   -0.07 LYS 273 A\n",
      "HIS 268 A                                            0.00 XXX   0 X    0.00 XXX   0 X   -0.09 ARG 274 A\n",
      "HIS 268 A                                            0.00 XXX   0 X    0.00 XXX   0 X    0.05 ASP 270 A\n",
      "\n",
      "HIS 283 A   5.55    22 %   -1.12  344   0.00    0    0.00 XXX   0 X    0.00 XXX   0 X   -0.00 LYS 105 A\n",
      "HIS 283 A                                            0.00 XXX   0 X    0.00 XXX   0 X    0.02 ASP 256 A\n",
      "HIS 283 A                                            0.00 XXX   0 X    0.00 XXX   0 X    0.15 ASP 258 A\n",
      "\n",
      "HIS 295 A   6.11     0 %   -0.33  186   0.00    0    0.00 XXX   0 X    0.00 XXX   0 X   -0.06 ARG 297 A\n",
      "\n",
      "CYS 118 A  11.70    76 %    2.43  494   0.00    0    0.00 XXX   0 X   -0.09 CYS 118 A    0.03 GLU  57 A\n",
      "CYS 118 A                                            0.00 XXX   0 X    0.00 XXX   0 X    0.32 ASP 185 A\n",
      "\n",
      "CYS 177 A  10.97    42 %    1.70  400   0.00    0    0.00 XXX   0 X   -0.03 CYS 177 A   -0.05 ARG 126 A\n",
      "CYS 177 A                                            0.00 XXX   0 X    0.00 XXX   0 X   -0.04 ARG 274 A\n",
      "CYS 177 A                                            0.00 XXX   0 X    0.00 XXX   0 X    0.38 GLU 172 A\n",
      "CYS 177 A                                            0.00 XXX   0 X    0.00 XXX   0 X    0.02 ASP 235 A\n",
      "\n",
      "CYS 191 A  12.92   100 %    3.90  659   0.00    0   -0.04 TRP 187 A   -0.07 CYS 191 A   -0.12 ARG 274 A\n",
      "CYS 191 A                                            0.00 XXX   0 X    0.00 XXX   0 X    0.24 GLU 195 A\n",
      "\n",
      "TYR  15 A  12.04    47 %    1.63  412   0.00    0    0.00 XXX   0 X    0.00 XXX   0 X    0.04 ASP  38 A\n",
      "TYR  15 A                                            0.00 XXX   0 X    0.00 XXX   0 X    0.36 GLU  51 A\n",
      "\n",
      "TYR  19 A   9.78    17 %    0.88  328   0.00    0   -0.58 LYS  34 A    0.00 XXX   0 X    0.08 GLU  12 A\n",
      "TYR  19 A                                            0.00 XXX   0 X    0.00 XXX   0 X   -0.16 LYS   9 A\n",
      "TYR  19 A                                            0.00 XXX   0 X    0.00 XXX   0 X   -0.02 LYS  75 A\n",
      "TYR  19 A                                            0.00 XXX   0 X    0.00 XXX   0 X   -0.43 LYS  34 A\n",
      "\n",
      "TYR  77 A  10.58    19 %    0.83  334   0.00    0    0.00 XXX   0 X    0.00 XXX   0 X    0.06 GLU  73 A\n",
      "TYR  77 A                                            0.00 XXX   0 X    0.00 XXX   0 X    0.24 TYR  19 A\n",
      "TYR  77 A                                            0.00 XXX   0 X    0.00 XXX   0 X   -0.31 LYS  34 A\n",
      "TYR  77 A                                            0.00 XXX   0 X    0.00 XXX   0 X   -0.24 LYS  75 A\n",
      "\n",
      "TYR 107 A  12.82    71 %    2.82  479   0.00    0    0.00 XXX   0 X    0.00 XXX   0 X    0.00 XXX   0 X\n",
      "\n",
      "TYR 159 A  10.04     0 %    0.04   78   0.00    0    0.00 XXX   0 X    0.00 XXX   0 X    0.00 XXX   0 X\n",
      "\n",
      "TYR 168 A  15.46    83 %    3.10  513   0.00    0    0.85 GLU 195 A    0.00 XXX   0 X    0.02 ASP  92 A\n",
      "TYR 168 A                                            0.00 XXX   0 X    0.00 XXX   0 X    0.41 CYS 191 A\n",
      "TYR 168 A                                            0.00 XXX   0 X    0.00 XXX   0 X    1.09 GLU 195 A\n",
      "\n",
      "TYR 179 A  10.07     0 %    0.18  227   0.00    0    0.00 XXX   0 X    0.00 XXX   0 X   -0.08 ARG 122 A\n",
      "TYR 179 A                                            0.00 XXX   0 X    0.00 XXX   0 X   -0.03 ARG 126 A\n",
      "\n",
      "TYR 180 A  10.77    42 %    1.00  399   0.00    0    0.00 XXX   0 X    0.00 XXX   0 X   -0.25 ARG 126 A\n",
      "TYR 180 A                                            0.00 XXX   0 X    0.00 XXX   0 X    0.02 ASP 127 A\n",
      "TYR 180 A                                            0.00 XXX   0 X    0.00 XXX   0 X   -0.31 ARG 169 A\n",
      "TYR 180 A                                            0.00 XXX   0 X    0.00 XXX   0 X    0.03 GLU 172 A\n",
      "TYR 180 A                                            0.00 XXX   0 X    0.00 XXX   0 X    0.25 CYS 177 A\n",
      "TYR 180 A                                            0.00 XXX   0 X    0.00 XXX   0 X    0.02 GLU 208 A\n",
      "\n",
      "TYR 236 A  10.34     6 %    0.59  298   0.00    0    0.00 XXX   0 X    0.00 XXX   0 X    0.04 ASP 223 A\n",
      "TYR 236 A                                            0.00 XXX   0 X    0.00 XXX   0 X    0.06 GLU 224 A\n",
      "TYR 236 A                                            0.00 XXX   0 X    0.00 XXX   0 X   -0.35 LYS 242 A\n",
      "\n",
      "TYR 269 A  14.12    96 %    4.17  550   0.00    0    0.00 XXX   0 X    0.00 XXX   0 X   -0.05 ARG 245 A\n",
      "\n",
      "LYS   6 A  10.53     0 %   -0.15  194   0.00    0    0.00 XXX   0 X    0.00 XXX   0 X    0.23 GLU   8 A\n",
      "LYS   6 A                                            0.00 XXX   0 X    0.00 XXX   0 X   -0.05 ARG  22 A\n",
      "\n",
      "LYS   9 A  10.78     0 %   -0.24  186   0.00    0    0.04 GLU  12 A    0.00 XXX   0 X    0.38 GLU  12 A\n",
      "LYS   9 A                                            0.00 XXX   0 X    0.00 XXX   0 X    0.16 TYR  19 A\n",
      "LYS   9 A                                            0.00 XXX   0 X    0.00 XXX   0 X   -0.06 LYS  34 A\n",
      "\n",
      "LYS  20 A   9.98     8 %   -0.49  303   0.00    0    0.00 XXX   0 X    0.00 XXX   0 X    0.21 GLU   8 A\n",
      "LYS  20 A                                            0.00 XXX   0 X    0.00 XXX   0 X   -0.24 LYS   6 A\n",
      "\n",
      "LYS  24 A  10.40     0 %   -0.15  121   0.00    0    0.00 XXX   0 X    0.00 XXX   0 X    0.05 GLU   2 A\n",
      "\n",
      "LYS  33 A  10.18    78 %   -2.56  500   0.00    0    0.85 GLU  51 A    0.00 XXX   0 X    0.24 ASP 145 A\n",
      "LYS  33 A                                            0.00 XXX   0 X    0.00 XXX   0 X    1.15 GLU  51 A\n",
      "\n",
      "LYS  34 A  11.36     8 %   -0.44  303   0.00    0    0.58 TYR  19 A    0.00 XXX   0 X    0.05 GLU  12 A\n",
      "LYS  34 A                                            0.00 XXX   0 X    0.00 XXX   0 X   -0.05 ARG  36 A\n",
      "LYS  34 A                                            0.00 XXX   0 X    0.00 XXX   0 X    0.31 TYR  77 A\n",
      "LYS  34 A                                            0.00 XXX   0 X    0.00 XXX   0 X    0.43 TYR  19 A\n",
      "\n",
      "LYS  56 A  10.42     0 %   -0.09  168   0.00    0    0.00 XXX   0 X    0.00 XXX   0 X    0.01 GLU  57 A\n",
      "\n",
      "LYS  65 A  11.22     3 %   -0.30  290   0.00    0    0.49 GLU  81 A    0.00 XXX   0 X    0.10 GLU  28 A\n",
      "LYS  65 A                                            0.00 XXX   0 X    0.00 XXX   0 X    0.44 GLU  81 A\n",
      "\n",
      "LYS  75 A  11.22     0 %   -0.35  210   0.00    0    0.55 GLU  73 A    0.00 XXX   0 X    0.02 TYR  19 A\n",
      "LYS  75 A                                            0.00 XXX   0 X    0.00 XXX   0 X   -0.12 LYS  34 A\n",
      "LYS  75 A                                            0.00 XXX   0 X    0.00 XXX   0 X    0.24 TYR  77 A\n",
      "LYS  75 A                                            0.00 XXX   0 X    0.00 XXX   0 X    0.38 GLU  73 A\n",
      "\n",
      "LYS  88 A  10.51    10 %   -0.28  309   0.00    0    0.00 XXX   0 X    0.00 XXX   0 X    0.16 ASP  86 A\n",
      "LYS  88 A                                            0.00 XXX   0 X    0.00 XXX   0 X    0.20 ASP  92 A\n",
      "LYS  88 A                                            0.00 XXX   0 X    0.00 XXX   0 X    0.05 GLU 195 A\n",
      "LYS  88 A                                            0.00 XXX   0 X    0.00 XXX   0 X   -0.11 LYS  89 A\n",
      "\n",
      "LYS  89 A  10.62    18 %   -0.46  331   0.00    0    0.00 XXX   0 X    0.00 XXX   0 X    0.06 ASP  92 A\n",
      "LYS  89 A                                            0.00 XXX   0 X    0.00 XXX   0 X    0.52 ASP  86 A\n",
      "\n",
      "LYS 105 A  10.98    21 %   -1.04  340   0.00    0    0.81 ASP 288 A    0.00 XXX   0 X    0.23 ASP 256 A\n",
      "LYS 105 A                                            0.00 XXX   0 X    0.00 XXX   0 X    0.08 ASP 258 A\n",
      "LYS 105 A                                            0.00 XXX   0 X    0.00 XXX   0 X    0.40 ASP 288 A\n",
      "\n",
      "LYS 129 A  10.36    67 %   -1.62  469   0.00    0    0.50 ASP 127 A    0.00 XXX   0 X    0.27 ASP 145 A\n",
      "LYS 129 A                                            0.00 XXX   0 X    0.00 XXX   0 X   -0.26 ARG 169 A\n",
      "LYS 129 A                                            0.00 XXX   0 X    0.00 XXX   0 X   -0.02 LYS  88 A\n",
      "LYS 129 A                                            0.00 XXX   0 X    0.00 XXX   0 X    0.98 ASP 127 A\n",
      "\n",
      "LYS 142 A  10.38    43 %   -1.31  401   0.00    0    0.85 GLU  81 A    0.00 XXX   0 X    0.02 GLU 138 A\n",
      "LYS 142 A                                            0.00 XXX   0 X    0.00 XXX   0 X   -0.26 LYS  65 A\n",
      "LYS 142 A                                            0.00 XXX   0 X    0.00 XXX   0 X    0.57 GLU  81 A\n",
      "\n",
      "LYS 178 A  10.46     0 %   -0.04   94   0.00    0    0.00 XXX   0 X    0.00 XXX   0 X    0.00 XXX   0 X\n",
      "\n",
      "LYS 237 A  10.45     0 %   -0.19  180   0.00    0    0.00 XXX   0 X    0.00 XXX   0 X    0.14 ASP 235 A\n",
      "\n",
      "LYS 242 A  10.36     0 %   -0.50  263   0.00    0    0.00 XXX   0 X    0.00 XXX   0 X    0.01 ASP 223 A\n",
      "LYS 242 A                                            0.00 XXX   0 X    0.00 XXX   0 X    0.35 TYR 236 A\n",
      "\n",
      "LYS 250 A  10.44     0 %   -0.09  154   0.00    0    0.00 XXX   0 X    0.00 XXX   0 X   -0.00 ARG 200 A\n",
      "LYS 250 A                                            0.00 XXX   0 X    0.00 XXX   0 X   -0.01 ARG 217 A\n",
      "LYS 250 A                                            0.00 XXX   0 X    0.00 XXX   0 X    0.04 ASP 247 A\n",
      "\n",
      "LYS 273 A  10.49     0 %   -0.19  197   0.00    0    0.00 XXX   0 X    0.00 XXX   0 X    0.18 ASP 270 A\n",
      "\n",
      "LYS 278 A  10.43     0 %   -0.07  153   0.00    0    0.00 XXX   0 X    0.00 XXX   0 X    0.00 XXX   0 X\n",
      "\n",
      "LYS 291 A  10.17     6 %   -0.42  298   0.00    0    0.00 XXX   0 X    0.00 XXX   0 X    0.12 GLU 138 A\n",
      "LYS 291 A                                            0.00 XXX   0 X    0.00 XXX   0 X   -0.03 LYS 142 A\n",
      "\n",
      "ARG  22 A  12.27     0 %   -0.23  170   0.00    0    0.00 XXX   0 X    0.00 XXX   0 X    0.00 XXX   0 X\n",
      "\n",
      "ARG  36 A  12.49     0 %   -0.12  215   0.00    0    0.00 XXX   0 X    0.00 XXX   0 X    0.11 ASP  38 A\n",
      "\n",
      "ARG  50 A  12.23     6 %   -0.39  299   0.00    0    0.00 XXX   0 X    0.00 XXX   0 X    0.12 GLU  57 A\n",
      "\n",
      "ARG 122 A  12.51     0 %   -0.07  130   0.00    0    0.00 XXX   0 X    0.00 XXX   0 X    0.08 TYR 179 A\n",
      "\n",
      "ARG 126 A  12.04    29 %   -0.93  362   0.00    0    0.00 XXX   0 X    0.00 XXX   0 X    0.05 CYS 177 A\n",
      "ARG 126 A                                            0.00 XXX   0 X    0.00 XXX   0 X    0.03 TYR 179 A\n",
      "ARG 126 A                                            0.00 XXX   0 X    0.00 XXX   0 X    0.25 TYR 180 A\n",
      "ARG 126 A                                            0.00 XXX   0 X    0.00 XXX   0 X    0.13 ASP 185 A\n",
      "\n",
      "ARG 150 A  12.02     2 %   -0.48  287   0.00    0    0.00 XXX   0 X    0.00 XXX   0 X    0.00 ASP 127 A\n",
      "ARG 150 A                                            0.00 XXX   0 X    0.00 XXX   0 X    0.00 ASP 145 A\n",
      "ARG 150 A                                            0.00 XXX   0 X    0.00 XXX   0 X   -0.02 ARG 157 A\n",
      "\n",
      "ARG 157 A  12.38     0 %   -0.12  115   0.00    0    0.00 XXX   0 X    0.00 XXX   0 X    0.00 XXX   0 X\n",
      "\n",
      "ARG 169 A  12.54    82 %   -1.64  512   0.00    0    0.52 ASP 127 A    0.00 XXX   0 X    0.31 TYR 180 A\n",
      "ARG 169 A                                            0.00 XXX   0 X    0.00 XXX   0 X    0.02 GLU 208 A\n",
      "ARG 169 A                                            0.00 XXX   0 X    0.00 XXX   0 X    0.84 ASP 127 A\n",
      "\n",
      "ARG 199 A  12.14     0 %   -0.36  225   0.00    0    0.00 XXX   0 X    0.00 XXX   0 X    0.00 XXX   0 X\n",
      "\n",
      "ARG 200 A  12.13    10 %   -0.37  308   0.00    0    0.00 XXX   0 X    0.00 XXX   0 X    0.00 XXX   0 X\n",
      "\n",
      "ARG 214 A  13.25     2 %   -0.42  286   0.00    0    0.71 ASP 210 A    0.00 XXX   0 X    0.10 ASP 206 A\n",
      "ARG 214 A                                            0.00 XXX   0 X    0.00 XXX   0 X    0.35 ASP 210 A\n",
      "\n",
      "ARG 217 A  12.30     0 %   -0.15  232   0.00    0    0.00 XXX   0 X    0.00 XXX   0 X    0.00 ASP 210 A\n",
      "ARG 217 A                                            0.00 XXX   0 X    0.00 XXX   0 X   -0.05 ARG 214 A\n",
      "\n",
      "ARG 245 A  11.64    42 %   -0.93  398   0.00    0    0.00 XXX   0 X    0.00 XXX   0 X    0.03 ASP 247 A\n",
      "ARG 245 A                                            0.00 XXX   0 X    0.00 XXX   0 X    0.05 TYR 269 A\n",
      "\n",
      "ARG 260 A  12.11     0 %   -0.55  260   0.00    0    0.00 XXX   0 X    0.00 XXX   0 X    0.11 ASP 247 A\n",
      "ARG 260 A                                            0.00 XXX   0 X    0.00 XXX   0 X    0.06 ASP 256 A\n",
      "ARG 260 A                                            0.00 XXX   0 X    0.00 XXX   0 X    0.00 GLU 257 A\n",
      "\n",
      "ARG 274 A  12.33    97 %   -3.63  553   0.00    0    1.55 GLU 172 A    0.00 XXX   0 X    0.04 CYS 177 A\n",
      "ARG 274 A                                            0.00 XXX   0 X    0.00 XXX   0 X    0.12 CYS 191 A\n",
      "ARG 274 A                                            0.00 XXX   0 X    0.00 XXX   0 X    0.11 ASP 270 A\n",
      "ARG 274 A                                            0.00 XXX   0 X    0.00 XXX   0 X    1.64 GLU 172 A\n",
      "\n",
      "ARG 297 A  12.41     0 %   -0.09  120   0.00    0    0.00 XXX   0 X    0.00 XXX   0 X    0.00 XXX   0 X\n",
      "\n",
      "N+    1 A   8.28     0 %   -0.40  269   0.00    0    0.29 GLU   2 A    0.00 XXX   0 X    0.02 GLU  73 A\n",
      "N+    1 A                                            0.00 XXX   0 X    0.00 XXX   0 X   -0.02 LYS  75 A\n",
      "N+    1 A                                            0.00 XXX   0 X    0.00 XXX   0 X    0.38 GLU   2 A\n",
      "\n",
      "\n",
      "INFO:pKa summary:\n",
      "--------------------------------------------------------------------------------------------------------\n",
      "SUMMARY OF THIS PREDICTION\n",
      "       Group      pKa  model-pKa   ligand atom-type\n",
      "   ASP  38 A     3.89       3.80                      \n",
      "   ASP  68 A     3.71       3.80                      \n",
      "   ASP  86 A     4.55       3.80                      \n",
      "   ASP  92 A     3.98       3.80                      \n",
      "   ASP 127 A     3.48       3.80                      \n",
      "   ASP 145 A     4.61       3.80                      \n",
      "   ASP 185 A     3.00       3.80                      \n",
      "   ASP 206 A     4.01       3.80                      \n",
      "   ASP 210 A     2.67       3.80                      \n",
      "   ASP 223 A     3.14       3.80                      \n",
      "   ASP 235 A     4.00       3.80                      \n",
      "   ASP 247 A     3.40       3.80                      \n",
      "   ASP 256 A     3.48       3.80                      \n",
      "   ASP 258 A     4.15       3.80                      \n",
      "   ASP 270 A     3.92       3.80                      \n",
      "   ASP 288 A     2.58       3.80                      \n",
      "   GLU   2 A     3.27       4.50                      \n",
      "   GLU   8 A     4.40       4.50                      \n",
      "   GLU  12 A     4.25       4.50                      \n",
      "   GLU  28 A     4.81       4.50                      \n",
      "   GLU  40 A     4.64       4.50                      \n",
      "   GLU  42 A     4.55       4.50                      \n",
      "   GLU  51 A     5.81       4.50                      \n",
      "   GLU  57 A     4.48       4.50                      \n",
      "   GLU  73 A     3.68       4.50                      \n",
      "   GLU  81 A     3.32       4.50                      \n",
      "   GLU 138 A     4.52       4.50                      \n",
      "   GLU 162 A     4.58       4.50                      \n",
      "   GLU 172 A     4.51       4.50                      \n",
      "   GLU 195 A     6.31       4.50                      \n",
      "   GLU 208 A     4.94       4.50                      \n",
      "   GLU 224 A     2.67       4.50                      \n",
      "   GLU 257 A     4.84       4.50                      \n",
      "   C-  298 A     3.34       3.20                      \n",
      "   HIS  60 A     5.19       6.50                      \n",
      "   HIS  71 A     6.50       6.50                      \n",
      "   HIS  84 A     5.70       6.50                      \n",
      "   HIS 119 A     6.57       6.50                      \n",
      "   HIS 121 A     7.10       6.50                      \n",
      "   HIS 125 A     7.42       6.50                      \n",
      "   HIS 161 A     6.49       6.50                      \n",
      "   HIS 268 A     5.59       6.50                      \n",
      "   HIS 283 A     5.55       6.50                      \n",
      "   HIS 295 A     6.11       6.50                      \n",
      "   CYS 118 A    11.70       9.00                      \n",
      "   CYS 177 A    10.97       9.00                      \n",
      "   CYS 191 A    12.92       9.00                      \n",
      "   TYR  15 A    12.04      10.00                      \n",
      "   TYR  19 A     9.78      10.00                      \n",
      "   TYR  77 A    10.58      10.00                      \n",
      "   TYR 107 A    12.82      10.00                      \n",
      "   TYR 159 A    10.04      10.00                      \n",
      "   TYR 168 A    15.46      10.00                      \n",
      "   TYR 179 A    10.07      10.00                      \n",
      "   TYR 180 A    10.77      10.00                      \n",
      "   TYR 236 A    10.34      10.00                      \n",
      "   TYR 269 A    14.12      10.00                      \n",
      "   LYS   6 A    10.53      10.50                      \n",
      "   LYS   9 A    10.78      10.50                      \n",
      "   LYS  20 A     9.98      10.50                      \n",
      "   LYS  24 A    10.40      10.50                      \n",
      "   LYS  33 A    10.18      10.50                      \n",
      "   LYS  34 A    11.36      10.50                      \n",
      "   LYS  56 A    10.42      10.50                      \n",
      "   LYS  65 A    11.22      10.50                      \n",
      "   LYS  75 A    11.22      10.50                      \n",
      "   LYS  88 A    10.51      10.50                      \n",
      "   LYS  89 A    10.62      10.50                      \n",
      "   LYS 105 A    10.98      10.50                      \n",
      "   LYS 129 A    10.36      10.50                      \n",
      "   LYS 142 A    10.38      10.50                      \n",
      "   LYS 178 A    10.46      10.50                      \n",
      "   LYS 237 A    10.45      10.50                      \n",
      "   LYS 242 A    10.36      10.50                      \n",
      "   LYS 250 A    10.44      10.50                      \n",
      "   LYS 273 A    10.49      10.50                      \n",
      "   LYS 278 A    10.43      10.50                      \n",
      "   LYS 291 A    10.17      10.50                      \n",
      "   ARG  22 A    12.27      12.50                      \n",
      "   ARG  36 A    12.49      12.50                      \n",
      "   ARG  50 A    12.23      12.50                      \n",
      "   ARG 122 A    12.51      12.50                      \n",
      "   ARG 126 A    12.04      12.50                      \n",
      "   ARG 150 A    12.02      12.50                      \n",
      "   ARG 157 A    12.38      12.50                      \n",
      "   ARG 169 A    12.54      12.50                      \n",
      "   ARG 199 A    12.14      12.50                      \n",
      "   ARG 200 A    12.13      12.50                      \n",
      "   ARG 214 A    13.25      12.50                      \n",
      "   ARG 217 A    12.30      12.50                      \n",
      "   ARG 245 A    11.64      12.50                      \n",
      "   ARG 260 A    12.11      12.50                      \n",
      "   ARG 274 A    12.33      12.50                      \n",
      "   ARG 297 A    12.41      12.50                      \n",
      "   N+    1 A     8.28       8.00                      \n",
      "\n",
      "INFO:PROPKA information:\n",
      "--------------------------------------------------------------------------------------------------------\n",
      "Free energy of   folding (kcal/mol) as a function of pH (using neutral reference)\n",
      "  0.00     30.69\n",
      "  1.00     30.65\n",
      "  2.00     30.22\n",
      "  3.00     27.81\n",
      "  4.00     23.73\n",
      "  5.00     23.18\n",
      "  6.00     23.03\n",
      "  7.00     22.44\n",
      "  8.00     23.07\n",
      "  9.00     24.64\n",
      " 10.00     29.45\n",
      " 11.00     38.33\n",
      " 12.00     45.49\n",
      " 13.00     48.76\n",
      " 14.00     51.44\n",
      "\n",
      "The pH of optimum stability is  6.8 for which the free energy is   22.4 kcal/mol at 298K\n",
      "Could not determine pH values where the free energy is within 80 % of minimum\n",
      "Could not determine the pH-range where the free energy is negative\n",
      "\n",
      "\n",
      "Protein charge of folded and unfolded state as a function of pH\n",
      "    pH  unfolded  folded\n",
      "  0.00     48.00   47.99\n",
      "  1.00     47.96   47.88\n",
      "  2.00     47.64   46.90\n",
      "  3.00     44.90   41.95\n",
      "  4.00     33.21   31.22\n",
      "  5.00     18.74   19.22\n",
      "  6.00     12.21   11.44\n",
      "  7.00      6.33    6.51\n",
      "  8.00      3.37    4.01\n",
      "  9.00      0.07    2.09\n",
      " 10.00     -9.81   -4.56\n",
      " 11.00    -25.51  -18.61\n",
      " 12.00    -34.10  -30.80\n",
      " 13.00    -43.08  -40.93\n",
      " 14.00    -46.50  -44.86\n",
      "The pI is  9.49 (folded) and  9.01 (unfolded)\n",
      "\n",
      "--------------------------------------------------------------------------------------------------------\n",
      "INFO:Applying pKa values at a pH of 7.40:\n",
      "INFO:Adding hydrogens to biomolecule.\n",
      "INFO:Debumping biomolecule (again).\n",
      "INFO:Optimizing hydrogen bonds\n",
      "INFO:Applying force field to biomolecule states.\n",
      "INFO:Applying custom naming scheme (amber).\n",
      "INFO:Regenerating headers.\n",
      "INFO:Regenerating PDB lines.\n",
      "WARNING:Ignoring 539 header lines in output.\n",
      "WARNING:Ignoring 539 header lines in output.\n",
      "\n",
      "None\n"
     ]
    }
   ],
   "source": [
    "# Prepare the protein using PDB2PQR\n",
    "from helper_modules.prepare_md_system import run_pdb2pqr\n",
    "OUT_PDB2PQR = 'prot.TEMP'\n",
    "run_pdb2pqr(input_pdb = INPUT_PROT,  \n",
    "            output_basename = f'{TMP_DIR}/{OUT_PDB2PQR}',\n",
    "            ph = PH,\n",
    "            verbose = True)"
   ]
  },
  {
   "cell_type": "code",
   "execution_count": 5,
   "id": "6b692c5d",
   "metadata": {},
   "outputs": [
    {
     "name": "stdout",
     "output_type": "stream",
     "text": [
      "1 molecule converted\n",
      "\n",
      "None\n"
     ]
    }
   ],
   "source": [
    "# Convert ligand to mol2\n",
    "# LIG ************************************************\n",
    "from helper_modules.prepare_md_system import run_obabel\n",
    "OUT_OBABEL = 'OUT_OBABEL.LIG.mol2'\n",
    "run_obabel(input_ligand = INPUT_LIG, \n",
    "           output_name = f'{TMP_DIR}/{OUT_OBABEL}', \n",
    "           ph = PH, \n",
    "           use_amber_reduce = False,\n",
    "           partial_charges = LIG_PARTIAL_CHARGES)"
   ]
  },
  {
   "cell_type": "code",
   "execution_count": 6,
   "id": "919751cd",
   "metadata": {},
   "outputs": [
    {
     "data": {
      "application/vnd.jupyter.widget-view+json": {
       "model_id": "b5a0404895614e8082c5fd2b1f62f3dd",
       "version_major": 2,
       "version_minor": 0
      },
      "text/plain": [
       "NGLWidget()"
      ]
     },
     "metadata": {},
     "output_type": "display_data"
    }
   ],
   "source": [
    "view1 = nglview.show_structure_file(f'{TMP_DIR}/{OUT_OBABEL}')\n",
    "view1.add_representation(repr_type='ball+stick')\n",
    "view1._remote_call('setSize', target='Widget')\n",
    "view1.camera='orthographic'\n",
    "\n",
    "view1"
   ]
  },
  {
   "cell_type": "code",
   "execution_count": 8,
   "id": "4e8bdd43",
   "metadata": {},
   "outputs": [
    {
     "name": "stdout",
     "output_type": "stream",
     "text": [
      "LQ5 net charge: 2\n"
     ]
    }
   ],
   "source": [
    "# Get the net charge of the ligand\n",
    "\n",
    "from helper_modules.prepare_md_system import run_get_charge \n",
    "LIG_NET_CHARGE = run_get_charge(\n",
    "                    filename = f\"{TMP_DIR}/{OUT_OBABEL}\", \n",
    "                    round_value = True \n",
    ")\n",
    "print(f'{LIG_NAME} net charge:', LIG_NET_CHARGE)"
   ]
  },
  {
   "cell_type": "code",
   "execution_count": 9,
   "id": "408c9c09",
   "metadata": {
    "scrolled": true
   },
   "outputs": [
    {
     "name": "stdout",
     "output_type": "stream",
     "text": [
      "\n",
      "Welcome to antechamber 20.0: molecular input file processor.\n",
      "\n",
      "acdoctor mode is on: check and diagnose problems in the input file.\n",
      "-- Check Format for mol2 File --\n",
      "   Status: pass\n",
      "Info: Finished reading file (./../data/md_system_prep/LIG_systems/5a14/5a14-LIG_intermediate_files/OUT_OBABEL.LIG.mol2); atoms read (64), bonds read (67).\n",
      "Info: Determining atomic numbers from atomic symbols which are case sensitive.\n",
      "-- Check Unusual Elements --\n",
      "   Status: pass\n",
      "-- Check Open Valences --\n",
      "   Status: pass\n",
      "-- Check Geometry --\n",
      "      for those bonded   \n",
      "      for those not bonded   \n",
      "   Status: pass\n",
      "-- Check Weird Bonds --\n",
      "   Status: pass\n",
      "-- Check Number of Units --\n",
      "   Status: pass\n",
      "acdoctor mode has completed checking the input file.\n",
      "\n",
      "Running: /Users/joelricci/miniconda/envs/biobb/bin/bondtype -j full -i ANTECHAMBER_BOND_TYPE.AC0 -o ANTECHAMBER_BOND_TYPE.AC -f ac\n",
      "\n",
      "Running: /Users/joelricci/miniconda/envs/biobb/bin/atomtype -i ANTECHAMBER_AC.AC0 -o ANTECHAMBER_AC.AC -p gaff\n",
      "Info: Total number of electrons: 262; net charge: 2\n",
      "\n",
      "Running: /Users/joelricci/miniconda/envs/biobb/bin/sqm -O -i sqm.in -o sqm.out\n",
      "\n",
      "Running: /Users/joelricci/miniconda/envs/biobb/bin/am1bcc -i ANTECHAMBER_AM1BCC_PRE.AC -o ANTECHAMBER_AM1BCC.AC -f ac -p /Users/joelricci/miniconda/envs/biobb/dat/antechamber/BCCPARM.DAT -s 2 -j 1\n",
      "\n",
      "Running: /Users/joelricci/miniconda/envs/biobb/bin/atomtype -f ac -p bcc -o ANTECHAMBER_AM1BCC.AC -i ANTECHAMBER_AM1BCC_PRE.AC\n",
      "\n",
      "\n",
      "None\n",
      "Current charge: 1.995\n",
      "1.995\n",
      "-0.005\n",
      "-0.9255 -> -0.920500\n",
      "\n",
      "None\n"
     ]
    }
   ],
   "source": [
    "# Run antechamber\n",
    "\n",
    "from helper_modules.prepare_md_system import run_antechamber\n",
    "run_antechamber(mol2_filename  = f'{TMP_DIR}/{OUT_OBABEL}', \n",
    "                lig_resname    = LIG_RESNAME,\n",
    "                lig_net_charge = LIG_NET_CHARGE,\n",
    "                output_dir     = TMP_DIR)"
   ]
  },
  {
   "cell_type": "code",
   "execution_count": 10,
   "id": "dfa83946",
   "metadata": {},
   "outputs": [
    {
     "name": "stdout",
     "output_type": "stream",
     "text": [
      "LQ5 net charge: 2.0\n"
     ]
    }
   ],
   "source": [
    "# Get the net charge of the ligand\n",
    "\n",
    "from helper_modules.prepare_md_system import run_get_charge \n",
    "LIG_NET_CHARGE = run_get_charge(\n",
    "                    filename = f\"{TMP_DIR}/LIG.mol2\", \n",
    "                    round_value = False \n",
    ")\n",
    "print(f'{LIG_NAME} net charge:', LIG_NET_CHARGE)"
   ]
  },
  {
   "cell_type": "code",
   "execution_count": 11,
   "id": "7f211eab",
   "metadata": {},
   "outputs": [
    {
     "name": "stdout",
     "output_type": "stream",
     "text": [
      "Remark line goes here\r\n",
      "MASS\r\n",
      "\r\n",
      "BOND\r\n",
      "\r\n",
      "ANGLE\r\n",
      "\r\n",
      "DIHE\r\n",
      "\r\n",
      "IMPROPER\r\n",
      "ca-ca-ca-ha         1.1          180.0         2.0          Using general improper torsional angle  X- X-ca-ha, penalty score=  6.0)\r\n",
      "ca-ca-ca-n          1.1          180.0         2.0          Using the default value\r\n",
      "ca-ca-ca-os         1.1          180.0         2.0          Using the default value\r\n",
      "ca-nb-ca-os         1.1          180.0         2.0          Using the default value\r\n",
      "ca-h4-ca-nb         1.1          180.0         2.0          Same as X -X -ca-ha, penalty score= 44.3 (use general term))\r\n",
      "nb-nb-ca-nh         1.1          180.0         2.0          Using the default value\r\n",
      "ca-hn-nh-hn         1.1          180.0         2.0          Same as X -X -na-hn, penalty score= 41.2 (use general term))\r\n",
      "n -n -c -o         10.5          180.0         2.0          Using general improper torsional angle  X- X- c- o, penalty score=  6.0)\r\n",
      "c -ca-n -hn         1.1          180.0         2.0          Using general improper torsional angle  X- X- n-hn, penalty score=  6.0)\r\n",
      "\r\n",
      "NONBON\r\n",
      "\r\n",
      "\r\n",
      "\r\n"
     ]
    }
   ],
   "source": [
    "!cat $TMP_DIR/LIG.frcmod"
   ]
  },
  {
   "cell_type": "code",
   "execution_count": 12,
   "id": "1a29b792",
   "metadata": {},
   "outputs": [
    {
     "name": "stdout",
     "output_type": "stream",
     "text": [
      "-I: Adding /Users/joelricci/miniconda/envs/biobb/dat/leap/prep to search path.\n",
      "-I: Adding /Users/joelricci/miniconda/envs/biobb/dat/leap/lib to search path.\n",
      "-I: Adding /Users/joelricci/miniconda/envs/biobb/dat/leap/parm to search path.\n",
      "-I: Adding /Users/joelricci/miniconda/envs/biobb/dat/leap/cmd to search path.\n",
      "-f: Source ./../data/md_system_prep/LIG_systems/5a14/5a14-LIG_intermediate_files/leap_lig_lib.in.\n",
      "\n",
      "Welcome to LEaP!\n",
      "(no leaprc in search path)\n",
      "Sourcing: ./../data/md_system_prep/LIG_systems/5a14/5a14-LIG_intermediate_files/leap_lig_lib.in\n",
      "----- Source: /Users/joelricci/miniconda/envs/biobb/dat/leap/cmd/leaprc.gaff\n",
      "----- Source of /Users/joelricci/miniconda/envs/biobb/dat/leap/cmd/leaprc.gaff done\n",
      "Log file: ./leap.log\n",
      "Loading parameters: /Users/joelricci/miniconda/envs/biobb/dat/leap/parm/gaff.dat\n",
      "Reading title:\n",
      "AMBER General Force Field for organic molecules (Version 1.81, May 2017)\n",
      "Loading parameters: ./../data/md_system_prep/LIG_systems/5a14/5a14-LIG_intermediate_files/LIG.frcmod\n",
      "Reading force field modification type file (frcmod)\n",
      "Reading title:\n",
      "Remark line goes here\n",
      "Loading Mol2 file: ./../data/md_system_prep/LIG_systems/5a14/5a14-LIG_intermediate_files/LIG.mol2\n",
      "Reading MOLECULE named LIG\n",
      " Creating ./../data/md_system_prep/LIG_systems/5a14/5a14-LIG_intermediate_files/LIG.lib\n",
      "Building topology.\n",
      "Building atom parameters.\n",
      "\tQuit\n",
      "\n",
      "Exiting LEaP: Errors = 0; Warnings = 0; Notes = 0.\n",
      "\n",
      "None\n"
     ]
    }
   ],
   "source": [
    "# Prepare the LIG params library\n",
    "\n",
    "from helper_modules.prepare_md_system import run_leap_lig_lib\n",
    "run_leap_lig_lib(tmp_dir      = TMP_DIR, \n",
    "                 lig_basename = LIG_RESNAME)"
   ]
  },
  {
   "cell_type": "code",
   "execution_count": 13,
   "id": "2fde1c03",
   "metadata": {},
   "outputs": [
    {
     "name": "stdout",
     "output_type": "stream",
     "text": [
      "-I: Adding /Users/joelricci/miniconda/envs/biobb/dat/leap/prep to search path.\n",
      "-I: Adding /Users/joelricci/miniconda/envs/biobb/dat/leap/lib to search path.\n",
      "-I: Adding /Users/joelricci/miniconda/envs/biobb/dat/leap/parm to search path.\n",
      "-I: Adding /Users/joelricci/miniconda/envs/biobb/dat/leap/cmd to search path.\n",
      "-f: Source ./../data/md_system_prep/LIG_systems/5a14/5a14-LIG_intermediate_files/leap_prep_complex.in.\n",
      "\n",
      "Welcome to LEaP!\n",
      "(no leaprc in search path)\n",
      "Sourcing: ./../data/md_system_prep/LIG_systems/5a14/5a14-LIG_intermediate_files/leap_prep_complex.in\n",
      "----- Source: /Users/joelricci/miniconda/envs/biobb/dat/leap/cmd/leaprc.protein.ff14SB\n",
      "----- Source of /Users/joelricci/miniconda/envs/biobb/dat/leap/cmd/leaprc.protein.ff14SB done\n",
      "Log file: ./leap.log\n",
      "Loading parameters: /Users/joelricci/miniconda/envs/biobb/dat/leap/parm/parm10.dat\n",
      "Reading title:\n",
      "PARM99 + frcmod.ff99SB + frcmod.parmbsc0 + OL3 for RNA\n",
      "Loading parameters: /Users/joelricci/miniconda/envs/biobb/dat/leap/parm/frcmod.ff14SB\n",
      "Reading force field modification type file (frcmod)\n",
      "Reading title:\n",
      "ff14SB protein backbone and sidechain parameters\n",
      "Loading library: /Users/joelricci/miniconda/envs/biobb/dat/leap/lib/amino12.lib\n",
      "Loading library: /Users/joelricci/miniconda/envs/biobb/dat/leap/lib/aminoct12.lib\n",
      "Loading library: /Users/joelricci/miniconda/envs/biobb/dat/leap/lib/aminont12.lib\n",
      "----- Source: /Users/joelricci/miniconda/envs/biobb/dat/leap/cmd/leaprc.gaff\n",
      "----- Source of /Users/joelricci/miniconda/envs/biobb/dat/leap/cmd/leaprc.gaff done\n",
      "Log file: ./leap.log\n",
      "Loading parameters: /Users/joelricci/miniconda/envs/biobb/dat/leap/parm/gaff.dat\n",
      "Reading title:\n",
      "AMBER General Force Field for organic molecules (Version 1.81, May 2017)\n",
      "----- Source: /Users/joelricci/miniconda/envs/biobb/dat/leap/cmd/leaprc.water.tip3p\n",
      "----- Source of /Users/joelricci/miniconda/envs/biobb/dat/leap/cmd/leaprc.water.tip3p done\n",
      "Loading library: /Users/joelricci/miniconda/envs/biobb/dat/leap/lib/atomic_ions.lib\n",
      "Loading library: /Users/joelricci/miniconda/envs/biobb/dat/leap/lib/solvents.lib\n",
      "Loading parameters: /Users/joelricci/miniconda/envs/biobb/dat/leap/parm/frcmod.tip3p\n",
      "Reading force field modification type file (frcmod)\n",
      "Reading title:\n",
      "This is the additional/replacement parameter set for TIP3P water\n",
      "Loading parameters: /Users/joelricci/miniconda/envs/biobb/dat/leap/parm/frcmod.ions1lm_126_tip3p\n",
      "Reading force field modification type file (frcmod)\n",
      "Reading title:\n",
      "Li/Merz ion parameters of monovalent ions for TIP3P water model (12-6 normal usage set)\n",
      "Loading parameters: /Users/joelricci/miniconda/envs/biobb/dat/leap/parm/frcmod.ionsjc_tip3p\n",
      "Reading force field modification type file (frcmod)\n",
      "Reading title:\n",
      "Monovalent ion parameters for Ewald and TIP3P water from Joung & Cheatham JPCB (2008)\n",
      "Loading parameters: /Users/joelricci/miniconda/envs/biobb/dat/leap/parm/frcmod.ions234lm_126_tip3p\n",
      "Reading force field modification type file (frcmod)\n",
      "Reading title:\n",
      "Li/Merz ion parameters of divalent to tetravalent ions for TIP3P water model (12-6 normal usage set)\n",
      "Loading library: ./../data/md_system_prep/LIG_systems/5a14/5a14-LIG_intermediate_files/LIG.lib\n",
      "Loading parameters: ./../data/md_system_prep/LIG_systems/5a14/5a14-LIG_intermediate_files/LIG.frcmod\n",
      "Reading force field modification type file (frcmod)\n",
      "Reading title:\n",
      "Remark line goes here\n",
      "Loading PDB file: ./../data/md_system_prep/LIG_systems/5a14/5a14-LIG_intermediate_files/prot.TEMP.pdb\n",
      "  total atoms in file: 4849\n",
      "Loading Mol2 file: ./../data/md_system_prep/LIG_systems/5a14/5a14-LIG_intermediate_files/LIG.mol2\n",
      "Reading MOLECULE named LIG\n",
      "Loading PDB file: ./../data/md_system_prep/LIG_systems/5a14/5a14_CRYS_WAT.pdb\n",
      "  total atoms in file: 3\n",
      "  Leap added 6 missing atoms according to residue templates:\n",
      "       6 H / lone pairs\n",
      "Writing pdb file: ./../data/md_system_prep/LIG_systems/5a14/5a14-LIG_intermediate_files/COMPLEX.pdb\n",
      "\n",
      "/Users/joelricci/miniconda/envs/biobb/bin/teLeap: Warning!\n",
      " Converting N-terminal residue name to PDB format: NMET -> MET\n",
      "\n",
      "/Users/joelricci/miniconda/envs/biobb/bin/teLeap: Warning!\n",
      " Converting C-terminal residue name to PDB format: CLEU -> LEU\n",
      "Checking 'system'....\n",
      "\n",
      "/Users/joelricci/miniconda/envs/biobb/bin/teLeap: Warning!\n",
      "The unperturbed charge of the unit (7.000001) is not zero.\n",
      "\n",
      "/Users/joelricci/miniconda/envs/biobb/bin/teLeap: Warning!\n",
      "Close contact of 1.499985 angstroms between .R<LEU 296>.A<HD13 13> and .R<THR 137>.A<HG21 8>\n",
      "\n",
      "/Users/joelricci/miniconda/envs/biobb/bin/teLeap: Warning!\n",
      "Close contact of 1.359712 angstroms between .R<PHE 285>.A<H 2> and .R<HID 283>.A<HD1 10>\n",
      "\n",
      "/Users/joelricci/miniconda/envs/biobb/bin/teLeap: Warning!\n",
      "Close contact of 1.375214 angstroms between .R<THR 231>.A<HG1 12> and .R<GLU 224>.A<OE2 13>\n",
      "\n",
      "/Users/joelricci/miniconda/envs/biobb/bin/teLeap: Warning!\n",
      "Close contact of 1.383278 angstroms between .R<ARG 157>.A<H 2> and .R<VAL 156>.A<HG12 9>\n",
      "\n",
      "/Users/joelricci/miniconda/envs/biobb/bin/teLeap: Warning!\n",
      "Close contact of 1.261067 angstroms between .R<ASP 127>.A<H 2> and .R<HIP 125>.A<HD1 10>\n",
      "\n",
      "/Users/joelricci/miniconda/envs/biobb/bin/teLeap: Warning!\n",
      "Close contact of 1.253184 angstroms between .R<ASN 62>.A<H 2> and .R<HID 60>.A<HD1 10>\n",
      "Checking parameters for unit 'system'.\n",
      "Checking for bond parameters.\n",
      "Checking for angle parameters.\n",
      "check:  Warnings: 7\n",
      "Unit is OK.\n",
      "Checking Unit.\n",
      "\n",
      "/Users/joelricci/miniconda/envs/biobb/bin/teLeap: Warning!\n",
      "The unperturbed charge of the unit (7.000001) is not zero.\n",
      "\n",
      "/Users/joelricci/miniconda/envs/biobb/bin/teLeap: Note.\n",
      "Ignoring the warning from Unit Checking.\n",
      "\n",
      "Building topology.\n",
      "Building atom parameters.\n",
      "Building bond parameters.\n",
      "Building angle parameters.\n",
      "Building proper torsion parameters.\n",
      "Building improper torsion parameters.\n",
      " total 979 improper torsions applied\n",
      "Building H-Bond parameters.\n",
      "Incorporating Non-Bonded adjustments.\n",
      "Not Marking per-residue atom chain types.\n",
      "Marking per-residue atom chain types.\n",
      "  (Residues lacking connect0/connect1 - \n",
      "   these don't have chain types marked:\n",
      "\n",
      "\tres\ttotal affected\n",
      "\n",
      "\tCLEU\t1\n",
      "\tLIG\t1\n",
      "\tNMET\t1\n",
      "\tWAT\t3\n",
      "  )\n",
      " (no restraints)\n",
      "Total unperturbed charge:   5.000000\n",
      "Total perturbed charge:     5.000000\n",
      "Total unperturbed charge:   2.000001\n",
      "Total perturbed charge:     2.000001\n",
      "Total unperturbed charge:   7.000001\n",
      "Total perturbed charge:     7.000001\n",
      "\tQuit\n",
      "\n",
      "Exiting LEaP: Errors = 0; Warnings = 10; Notes = 1.\n",
      "\n",
      "None\n"
     ]
    }
   ],
   "source": [
    "# Create the complex\n",
    "\n",
    "from helper_modules.prepare_md_system import run_tleap_prepare_pl_complex \n",
    "OUT_SYSTEM = 'COMPLEX'\n",
    "run_tleap_prepare_pl_complex(output_basename  = OUT_SYSTEM, \n",
    "                             tmp_dir          = TMP_DIR, \n",
    "                             input_waters_pdb = INPUT_CRYS_WAT)"
   ]
  },
  {
   "cell_type": "code",
   "execution_count": 14,
   "id": "045b54a8",
   "metadata": {},
   "outputs": [
    {
     "name": "stdout",
     "output_type": "stream",
     "text": [
      "\n",
      "None\n"
     ]
    }
   ],
   "source": [
    "# Minimize Hydrogens using sander\n",
    "\n",
    "from helper_modules.prepare_md_system import run_minimize_hydrogens\n",
    "OUT_MIN_SYSTEM = 'COMPLEX.minH'\n",
    "run_minimize_hydrogens(input_basename = OUT_SYSTEM, \n",
    "                       output_basename = OUT_MIN_SYSTEM,\n",
    "                       tmp_dir = TMP_DIR,\n",
    "                       verbose = True)"
   ]
  },
  {
   "cell_type": "code",
   "execution_count": 15,
   "id": "3c40e5c1",
   "metadata": {},
   "outputs": [
    {
     "name": "stdout",
     "output_type": "stream",
     "text": [
      "2022-04-02 00:49:17,046 [MainThread  ] [INFO ]  Creating command line with instructions and required arguments\n",
      "2022-04-02 00:49:17,178 [MainThread  ] [INFO ]  process_minout.perl  ./../data/md_system_prep/LIG_systems/5a14/5a14-LIG_intermediate_files/sander.minH.log\n",
      "\n",
      "2022-04-02 00:49:17,180 [MainThread  ] [INFO ]  Exit code 0\n",
      "\n",
      "2022-04-02 00:49:17,182 [MainThread  ] [INFO ]  Processing sander output file (./../data/md_system_prep/LIG_systems/5a14/5a14-LIG_intermediate_files/sander.minH.log)...\n",
      "Processing step 50 of a possible 500...\n",
      "Processing step 100 of a possible 500...\n",
      "Processing step 150 of a possible 500...\n",
      "Processing step 200 of a possible 500...\n",
      "Processing step 250 of a possible 500...\n",
      "Processing step 300 of a possible 500...\n",
      "Processing step 350 of a possible 500...\n",
      "Processing step 400 of a possible 500...\n",
      "Processing step 450 of a possible 500...\n",
      "Processing step 500 of a possible 500...\n",
      "Processing step 500 of a possible 500...\n",
      "Starting output...\n",
      "Outputing summary.NSTEP\n",
      "Outputing summary.ENERGY\n",
      "Outputing summary.RMS\n",
      "Outputing summary.GMAX\n",
      "Outputing summary.NAME\n",
      "Outputing summary.NUMBER\n",
      "Outputing summary.BOND\n",
      "Outputing summary.ANGLE\n",
      "Outputing summary.DIHEDRAL\n",
      "Outputing summary.VDWAALS\n",
      "Outputing summary.EEL\n",
      "Outputing summary.HBOND\n",
      "Outputing summary.VDW14\n",
      "Outputing summary.EEL14\n",
      "Outputing summary.RESTRAINT\n",
      "\n",
      "2022-04-02 00:49:17,185 [MainThread  ] [INFO ]  perl: warning: Setting locale failed.\n",
      "perl: warning: Please check that your locale settings:\n",
      "\tLC_ALL = (unset),\n",
      "\tLC_TERMINAL_VERSION = \"3.4.15\",\n",
      "\tLC_CTYPE = \"UTF-8\",\n",
      "\tLC_TERMINAL = \"iTerm2\",\n",
      "\tLANG = \"es_419.UTF-8\"\n",
      "    are supported and installed on your system.\n",
      "perl: warning: Falling back to the standard locale (\"C\").\n",
      "\n",
      "2022-04-02 00:49:17,198 [MainThread  ] [INFO ]  Removed: [PosixPath('summary.RMS'), PosixPath('summary.EEL'), PosixPath('summary.NSTEP'), PosixPath('summary.GMAX'), PosixPath('summary.ENERGY'), PosixPath('summary.NAME'), PosixPath('summary.NUMBER'), PosixPath('summary.BOND'), PosixPath('summary.ANGLE'), PosixPath('summary.DIHEDRAL'), PosixPath('summary.VDWAALS'), PosixPath('summary.HBOND'), PosixPath('summary.VDW14'), PosixPath('summary.EEL14'), PosixPath('summary.RESTRAINT')]\n"
     ]
    },
    {
     "data": {
      "text/html": [
       "        <script type=\"text/javascript\">\n",
       "        window.PlotlyConfig = {MathJaxConfig: 'local'};\n",
       "        if (window.MathJax) {MathJax.Hub.Config({SVG: {font: \"STIX-Web\"}});}\n",
       "        if (typeof require !== 'undefined') {\n",
       "        require.undef(\"plotly\");\n",
       "        requirejs.config({\n",
       "            paths: {\n",
       "                'plotly': ['https://cdn.plot.ly/plotly-2.9.0.min']\n",
       "            }\n",
       "        });\n",
       "        require(['plotly'], function(Plotly) {\n",
       "            window._Plotly = Plotly;\n",
       "        });\n",
       "        }\n",
       "        </script>\n",
       "        "
      ]
     },
     "metadata": {},
     "output_type": "display_data"
    },
    {
     "data": {
      "application/vnd.plotly.v1+json": {
       "config": {
        "linkText": "Export to plot.ly",
        "plotlyServerURL": "https://plot.ly",
        "showLink": false
       },
       "data": [
        {
         "type": "scatter",
         "x": [
          20,
          25,
          30,
          35,
          40,
          45,
          50,
          55,
          60,
          65,
          70,
          75,
          80,
          85,
          90,
          95,
          100,
          105,
          110,
          115,
          120,
          125,
          130,
          135,
          140,
          145,
          150,
          155,
          160,
          165,
          170,
          175,
          180,
          185,
          190,
          195,
          200,
          205,
          210,
          215,
          220,
          225,
          230,
          235,
          240,
          245,
          250,
          255,
          260,
          265,
          270,
          275,
          280,
          285,
          290,
          295,
          300,
          305,
          310,
          315,
          320,
          325,
          330,
          335,
          340,
          345,
          350,
          355,
          360,
          365,
          370,
          375,
          380,
          385,
          390,
          395,
          400,
          405,
          410,
          415,
          420,
          425,
          430,
          435,
          440,
          445,
          450,
          455,
          460,
          465,
          470,
          475,
          480,
          485,
          490,
          495,
          500
         ],
         "y": [
          150.31,
          -1833.3,
          -3685.1,
          -3732.3,
          -3820,
          -3844.2,
          -3701.5,
          -3708.1,
          -3716.2,
          -3723.5,
          -3734,
          -3727.4,
          -3737.6,
          -3742.8,
          -3748.5,
          -3753.9,
          -3649.1,
          -3652.7,
          -3657.9,
          -3661.7,
          -3666.1,
          -3683.2,
          -3687,
          -3690.8,
          -3694.9,
          -3700.2,
          -3733.1,
          -3738.7,
          -3739.9,
          -3745.9,
          -3749,
          -3710,
          -3712.7,
          -3716,
          -3718.9,
          -3721.9,
          -3755.1,
          -3758.3,
          -3760.7,
          -3763.9,
          -3766.9,
          -3831.1,
          -3833.8,
          -3836.5,
          -3839.4,
          -3843.3,
          -3716.3,
          -3740.2,
          -3761.6,
          -3787.2,
          -3804.6,
          -3878.9,
          -3880.1,
          -3883.7,
          -3889.8,
          -3894.1,
          -3697.7,
          -3698.9,
          -3703.3,
          -3706.1,
          -3709.9,
          -3819.3,
          -3820.4,
          -3822.5,
          -3825.5,
          -3827.5,
          -3715.3,
          -3715.9,
          -3717.1,
          -3719.5,
          -3720.8,
          -3930.5,
          -3931.1,
          -3932.2,
          -3933.9,
          -3934.8,
          -3765.2,
          -3765.5,
          -3766.3,
          -3767.5,
          -3768.2,
          -3930.2,
          -3930.4,
          -3931.3,
          -3932.3,
          -3932.9,
          -3764,
          -3764,
          -3764.9,
          -3765.8,
          -3766.5,
          -3887.2,
          -3887.5,
          -3888.4,
          -3889.6,
          -3890.3,
          -3853.4
         ]
        }
       ],
       "layout": {
        "template": {
         "data": {
          "bar": [
           {
            "error_x": {
             "color": "#2a3f5f"
            },
            "error_y": {
             "color": "#2a3f5f"
            },
            "marker": {
             "line": {
              "color": "#E5ECF6",
              "width": 0.5
             },
             "pattern": {
              "fillmode": "overlay",
              "size": 10,
              "solidity": 0.2
             }
            },
            "type": "bar"
           }
          ],
          "barpolar": [
           {
            "marker": {
             "line": {
              "color": "#E5ECF6",
              "width": 0.5
             },
             "pattern": {
              "fillmode": "overlay",
              "size": 10,
              "solidity": 0.2
             }
            },
            "type": "barpolar"
           }
          ],
          "carpet": [
           {
            "aaxis": {
             "endlinecolor": "#2a3f5f",
             "gridcolor": "white",
             "linecolor": "white",
             "minorgridcolor": "white",
             "startlinecolor": "#2a3f5f"
            },
            "baxis": {
             "endlinecolor": "#2a3f5f",
             "gridcolor": "white",
             "linecolor": "white",
             "minorgridcolor": "white",
             "startlinecolor": "#2a3f5f"
            },
            "type": "carpet"
           }
          ],
          "choropleth": [
           {
            "colorbar": {
             "outlinewidth": 0,
             "ticks": ""
            },
            "type": "choropleth"
           }
          ],
          "contour": [
           {
            "colorbar": {
             "outlinewidth": 0,
             "ticks": ""
            },
            "colorscale": [
             [
              0,
              "#0d0887"
             ],
             [
              0.1111111111111111,
              "#46039f"
             ],
             [
              0.2222222222222222,
              "#7201a8"
             ],
             [
              0.3333333333333333,
              "#9c179e"
             ],
             [
              0.4444444444444444,
              "#bd3786"
             ],
             [
              0.5555555555555556,
              "#d8576b"
             ],
             [
              0.6666666666666666,
              "#ed7953"
             ],
             [
              0.7777777777777778,
              "#fb9f3a"
             ],
             [
              0.8888888888888888,
              "#fdca26"
             ],
             [
              1,
              "#f0f921"
             ]
            ],
            "type": "contour"
           }
          ],
          "contourcarpet": [
           {
            "colorbar": {
             "outlinewidth": 0,
             "ticks": ""
            },
            "type": "contourcarpet"
           }
          ],
          "heatmap": [
           {
            "colorbar": {
             "outlinewidth": 0,
             "ticks": ""
            },
            "colorscale": [
             [
              0,
              "#0d0887"
             ],
             [
              0.1111111111111111,
              "#46039f"
             ],
             [
              0.2222222222222222,
              "#7201a8"
             ],
             [
              0.3333333333333333,
              "#9c179e"
             ],
             [
              0.4444444444444444,
              "#bd3786"
             ],
             [
              0.5555555555555556,
              "#d8576b"
             ],
             [
              0.6666666666666666,
              "#ed7953"
             ],
             [
              0.7777777777777778,
              "#fb9f3a"
             ],
             [
              0.8888888888888888,
              "#fdca26"
             ],
             [
              1,
              "#f0f921"
             ]
            ],
            "type": "heatmap"
           }
          ],
          "heatmapgl": [
           {
            "colorbar": {
             "outlinewidth": 0,
             "ticks": ""
            },
            "colorscale": [
             [
              0,
              "#0d0887"
             ],
             [
              0.1111111111111111,
              "#46039f"
             ],
             [
              0.2222222222222222,
              "#7201a8"
             ],
             [
              0.3333333333333333,
              "#9c179e"
             ],
             [
              0.4444444444444444,
              "#bd3786"
             ],
             [
              0.5555555555555556,
              "#d8576b"
             ],
             [
              0.6666666666666666,
              "#ed7953"
             ],
             [
              0.7777777777777778,
              "#fb9f3a"
             ],
             [
              0.8888888888888888,
              "#fdca26"
             ],
             [
              1,
              "#f0f921"
             ]
            ],
            "type": "heatmapgl"
           }
          ],
          "histogram": [
           {
            "marker": {
             "pattern": {
              "fillmode": "overlay",
              "size": 10,
              "solidity": 0.2
             }
            },
            "type": "histogram"
           }
          ],
          "histogram2d": [
           {
            "colorbar": {
             "outlinewidth": 0,
             "ticks": ""
            },
            "colorscale": [
             [
              0,
              "#0d0887"
             ],
             [
              0.1111111111111111,
              "#46039f"
             ],
             [
              0.2222222222222222,
              "#7201a8"
             ],
             [
              0.3333333333333333,
              "#9c179e"
             ],
             [
              0.4444444444444444,
              "#bd3786"
             ],
             [
              0.5555555555555556,
              "#d8576b"
             ],
             [
              0.6666666666666666,
              "#ed7953"
             ],
             [
              0.7777777777777778,
              "#fb9f3a"
             ],
             [
              0.8888888888888888,
              "#fdca26"
             ],
             [
              1,
              "#f0f921"
             ]
            ],
            "type": "histogram2d"
           }
          ],
          "histogram2dcontour": [
           {
            "colorbar": {
             "outlinewidth": 0,
             "ticks": ""
            },
            "colorscale": [
             [
              0,
              "#0d0887"
             ],
             [
              0.1111111111111111,
              "#46039f"
             ],
             [
              0.2222222222222222,
              "#7201a8"
             ],
             [
              0.3333333333333333,
              "#9c179e"
             ],
             [
              0.4444444444444444,
              "#bd3786"
             ],
             [
              0.5555555555555556,
              "#d8576b"
             ],
             [
              0.6666666666666666,
              "#ed7953"
             ],
             [
              0.7777777777777778,
              "#fb9f3a"
             ],
             [
              0.8888888888888888,
              "#fdca26"
             ],
             [
              1,
              "#f0f921"
             ]
            ],
            "type": "histogram2dcontour"
           }
          ],
          "mesh3d": [
           {
            "colorbar": {
             "outlinewidth": 0,
             "ticks": ""
            },
            "type": "mesh3d"
           }
          ],
          "parcoords": [
           {
            "line": {
             "colorbar": {
              "outlinewidth": 0,
              "ticks": ""
             }
            },
            "type": "parcoords"
           }
          ],
          "pie": [
           {
            "automargin": true,
            "type": "pie"
           }
          ],
          "scatter": [
           {
            "marker": {
             "colorbar": {
              "outlinewidth": 0,
              "ticks": ""
             }
            },
            "type": "scatter"
           }
          ],
          "scatter3d": [
           {
            "line": {
             "colorbar": {
              "outlinewidth": 0,
              "ticks": ""
             }
            },
            "marker": {
             "colorbar": {
              "outlinewidth": 0,
              "ticks": ""
             }
            },
            "type": "scatter3d"
           }
          ],
          "scattercarpet": [
           {
            "marker": {
             "colorbar": {
              "outlinewidth": 0,
              "ticks": ""
             }
            },
            "type": "scattercarpet"
           }
          ],
          "scattergeo": [
           {
            "marker": {
             "colorbar": {
              "outlinewidth": 0,
              "ticks": ""
             }
            },
            "type": "scattergeo"
           }
          ],
          "scattergl": [
           {
            "marker": {
             "colorbar": {
              "outlinewidth": 0,
              "ticks": ""
             }
            },
            "type": "scattergl"
           }
          ],
          "scattermapbox": [
           {
            "marker": {
             "colorbar": {
              "outlinewidth": 0,
              "ticks": ""
             }
            },
            "type": "scattermapbox"
           }
          ],
          "scatterpolar": [
           {
            "marker": {
             "colorbar": {
              "outlinewidth": 0,
              "ticks": ""
             }
            },
            "type": "scatterpolar"
           }
          ],
          "scatterpolargl": [
           {
            "marker": {
             "colorbar": {
              "outlinewidth": 0,
              "ticks": ""
             }
            },
            "type": "scatterpolargl"
           }
          ],
          "scatterternary": [
           {
            "marker": {
             "colorbar": {
              "outlinewidth": 0,
              "ticks": ""
             }
            },
            "type": "scatterternary"
           }
          ],
          "surface": [
           {
            "colorbar": {
             "outlinewidth": 0,
             "ticks": ""
            },
            "colorscale": [
             [
              0,
              "#0d0887"
             ],
             [
              0.1111111111111111,
              "#46039f"
             ],
             [
              0.2222222222222222,
              "#7201a8"
             ],
             [
              0.3333333333333333,
              "#9c179e"
             ],
             [
              0.4444444444444444,
              "#bd3786"
             ],
             [
              0.5555555555555556,
              "#d8576b"
             ],
             [
              0.6666666666666666,
              "#ed7953"
             ],
             [
              0.7777777777777778,
              "#fb9f3a"
             ],
             [
              0.8888888888888888,
              "#fdca26"
             ],
             [
              1,
              "#f0f921"
             ]
            ],
            "type": "surface"
           }
          ],
          "table": [
           {
            "cells": {
             "fill": {
              "color": "#EBF0F8"
             },
             "line": {
              "color": "white"
             }
            },
            "header": {
             "fill": {
              "color": "#C8D4E3"
             },
             "line": {
              "color": "white"
             }
            },
            "type": "table"
           }
          ]
         },
         "layout": {
          "annotationdefaults": {
           "arrowcolor": "#2a3f5f",
           "arrowhead": 0,
           "arrowwidth": 1
          },
          "autotypenumbers": "strict",
          "coloraxis": {
           "colorbar": {
            "outlinewidth": 0,
            "ticks": ""
           }
          },
          "colorscale": {
           "diverging": [
            [
             0,
             "#8e0152"
            ],
            [
             0.1,
             "#c51b7d"
            ],
            [
             0.2,
             "#de77ae"
            ],
            [
             0.3,
             "#f1b6da"
            ],
            [
             0.4,
             "#fde0ef"
            ],
            [
             0.5,
             "#f7f7f7"
            ],
            [
             0.6,
             "#e6f5d0"
            ],
            [
             0.7,
             "#b8e186"
            ],
            [
             0.8,
             "#7fbc41"
            ],
            [
             0.9,
             "#4d9221"
            ],
            [
             1,
             "#276419"
            ]
           ],
           "sequential": [
            [
             0,
             "#0d0887"
            ],
            [
             0.1111111111111111,
             "#46039f"
            ],
            [
             0.2222222222222222,
             "#7201a8"
            ],
            [
             0.3333333333333333,
             "#9c179e"
            ],
            [
             0.4444444444444444,
             "#bd3786"
            ],
            [
             0.5555555555555556,
             "#d8576b"
            ],
            [
             0.6666666666666666,
             "#ed7953"
            ],
            [
             0.7777777777777778,
             "#fb9f3a"
            ],
            [
             0.8888888888888888,
             "#fdca26"
            ],
            [
             1,
             "#f0f921"
            ]
           ],
           "sequentialminus": [
            [
             0,
             "#0d0887"
            ],
            [
             0.1111111111111111,
             "#46039f"
            ],
            [
             0.2222222222222222,
             "#7201a8"
            ],
            [
             0.3333333333333333,
             "#9c179e"
            ],
            [
             0.4444444444444444,
             "#bd3786"
            ],
            [
             0.5555555555555556,
             "#d8576b"
            ],
            [
             0.6666666666666666,
             "#ed7953"
            ],
            [
             0.7777777777777778,
             "#fb9f3a"
            ],
            [
             0.8888888888888888,
             "#fdca26"
            ],
            [
             1,
             "#f0f921"
            ]
           ]
          },
          "colorway": [
           "#636efa",
           "#EF553B",
           "#00cc96",
           "#ab63fa",
           "#FFA15A",
           "#19d3f3",
           "#FF6692",
           "#B6E880",
           "#FF97FF",
           "#FECB52"
          ],
          "font": {
           "color": "#2a3f5f"
          },
          "geo": {
           "bgcolor": "white",
           "lakecolor": "white",
           "landcolor": "#E5ECF6",
           "showlakes": true,
           "showland": true,
           "subunitcolor": "white"
          },
          "hoverlabel": {
           "align": "left"
          },
          "hovermode": "closest",
          "mapbox": {
           "style": "light"
          },
          "paper_bgcolor": "white",
          "plot_bgcolor": "#E5ECF6",
          "polar": {
           "angularaxis": {
            "gridcolor": "white",
            "linecolor": "white",
            "ticks": ""
           },
           "bgcolor": "#E5ECF6",
           "radialaxis": {
            "gridcolor": "white",
            "linecolor": "white",
            "ticks": ""
           }
          },
          "scene": {
           "xaxis": {
            "backgroundcolor": "#E5ECF6",
            "gridcolor": "white",
            "gridwidth": 2,
            "linecolor": "white",
            "showbackground": true,
            "ticks": "",
            "zerolinecolor": "white"
           },
           "yaxis": {
            "backgroundcolor": "#E5ECF6",
            "gridcolor": "white",
            "gridwidth": 2,
            "linecolor": "white",
            "showbackground": true,
            "ticks": "",
            "zerolinecolor": "white"
           },
           "zaxis": {
            "backgroundcolor": "#E5ECF6",
            "gridcolor": "white",
            "gridwidth": 2,
            "linecolor": "white",
            "showbackground": true,
            "ticks": "",
            "zerolinecolor": "white"
           }
          },
          "shapedefaults": {
           "line": {
            "color": "#2a3f5f"
           }
          },
          "ternary": {
           "aaxis": {
            "gridcolor": "white",
            "linecolor": "white",
            "ticks": ""
           },
           "baxis": {
            "gridcolor": "white",
            "linecolor": "white",
            "ticks": ""
           },
           "bgcolor": "#E5ECF6",
           "caxis": {
            "gridcolor": "white",
            "linecolor": "white",
            "ticks": ""
           }
          },
          "title": {
           "x": 0.05
          },
          "xaxis": {
           "automargin": true,
           "gridcolor": "white",
           "linecolor": "white",
           "ticks": "",
           "title": {
            "standoff": 15
           },
           "zerolinecolor": "white",
           "zerolinewidth": 2
          },
          "yaxis": {
           "automargin": true,
           "gridcolor": "white",
           "linecolor": "white",
           "ticks": "",
           "title": {
            "standoff": 15
           },
           "zerolinecolor": "white",
           "zerolinewidth": 2
          }
         }
        },
        "title": {
         "text": "Energy Minimization"
        },
        "xaxis": {
         "title": {
          "text": "Energy Minimization Step"
         }
        },
        "yaxis": {
         "title": {
          "text": "Potential Energy kcal/mol"
         }
        }
       }
      },
      "text/html": [
       "<div>                            <div id=\"bb5d3167-05fd-4ad6-ac00-b187ff006f96\" class=\"plotly-graph-div\" style=\"height:525px; width:100%;\"></div>            <script type=\"text/javascript\">                require([\"plotly\"], function(Plotly) {                    window.PLOTLYENV=window.PLOTLYENV || {};                                    if (document.getElementById(\"bb5d3167-05fd-4ad6-ac00-b187ff006f96\")) {                    Plotly.newPlot(                        \"bb5d3167-05fd-4ad6-ac00-b187ff006f96\",                        [{\"x\":[20.0,25.0,30.0,35.0,40.0,45.0,50.0,55.0,60.0,65.0,70.0,75.0,80.0,85.0,90.0,95.0,100.0,105.0,110.0,115.0,120.0,125.0,130.0,135.0,140.0,145.0,150.0,155.0,160.0,165.0,170.0,175.0,180.0,185.0,190.0,195.0,200.0,205.0,210.0,215.0,220.0,225.0,230.0,235.0,240.0,245.0,250.0,255.0,260.0,265.0,270.0,275.0,280.0,285.0,290.0,295.0,300.0,305.0,310.0,315.0,320.0,325.0,330.0,335.0,340.0,345.0,350.0,355.0,360.0,365.0,370.0,375.0,380.0,385.0,390.0,395.0,400.0,405.0,410.0,415.0,420.0,425.0,430.0,435.0,440.0,445.0,450.0,455.0,460.0,465.0,470.0,475.0,480.0,485.0,490.0,495.0,500.0],\"y\":[150.31,-1833.3,-3685.1,-3732.3,-3820.0,-3844.2,-3701.5,-3708.1,-3716.2,-3723.5,-3734.0,-3727.4,-3737.6,-3742.8,-3748.5,-3753.9,-3649.1,-3652.7,-3657.9,-3661.7,-3666.1,-3683.2,-3687.0,-3690.8,-3694.9,-3700.2,-3733.1,-3738.7,-3739.9,-3745.9,-3749.0,-3710.0,-3712.7,-3716.0,-3718.9,-3721.9,-3755.1,-3758.3,-3760.7,-3763.9,-3766.9,-3831.1,-3833.8,-3836.5,-3839.4,-3843.3,-3716.3,-3740.2,-3761.6,-3787.2,-3804.6,-3878.9,-3880.1,-3883.7,-3889.8,-3894.1,-3697.7,-3698.9,-3703.3,-3706.1,-3709.9,-3819.3,-3820.4,-3822.5,-3825.5,-3827.5,-3715.3,-3715.9,-3717.1,-3719.5,-3720.8,-3930.5,-3931.1,-3932.2,-3933.9,-3934.8,-3765.2,-3765.5,-3766.3,-3767.5,-3768.2,-3930.2,-3930.4,-3931.3,-3932.3,-3932.9,-3764.0,-3764.0,-3764.9,-3765.8,-3766.5,-3887.2,-3887.5,-3888.4,-3889.6,-3890.3,-3853.4],\"type\":\"scatter\"}],                        {\"template\":{\"data\":{\"barpolar\":[{\"marker\":{\"line\":{\"color\":\"#E5ECF6\",\"width\":0.5},\"pattern\":{\"fillmode\":\"overlay\",\"size\":10,\"solidity\":0.2}},\"type\":\"barpolar\"}],\"bar\":[{\"error_x\":{\"color\":\"#2a3f5f\"},\"error_y\":{\"color\":\"#2a3f5f\"},\"marker\":{\"line\":{\"color\":\"#E5ECF6\",\"width\":0.5},\"pattern\":{\"fillmode\":\"overlay\",\"size\":10,\"solidity\":0.2}},\"type\":\"bar\"}],\"carpet\":[{\"aaxis\":{\"endlinecolor\":\"#2a3f5f\",\"gridcolor\":\"white\",\"linecolor\":\"white\",\"minorgridcolor\":\"white\",\"startlinecolor\":\"#2a3f5f\"},\"baxis\":{\"endlinecolor\":\"#2a3f5f\",\"gridcolor\":\"white\",\"linecolor\":\"white\",\"minorgridcolor\":\"white\",\"startlinecolor\":\"#2a3f5f\"},\"type\":\"carpet\"}],\"choropleth\":[{\"colorbar\":{\"outlinewidth\":0,\"ticks\":\"\"},\"type\":\"choropleth\"}],\"contourcarpet\":[{\"colorbar\":{\"outlinewidth\":0,\"ticks\":\"\"},\"type\":\"contourcarpet\"}],\"contour\":[{\"colorbar\":{\"outlinewidth\":0,\"ticks\":\"\"},\"colorscale\":[[0.0,\"#0d0887\"],[0.1111111111111111,\"#46039f\"],[0.2222222222222222,\"#7201a8\"],[0.3333333333333333,\"#9c179e\"],[0.4444444444444444,\"#bd3786\"],[0.5555555555555556,\"#d8576b\"],[0.6666666666666666,\"#ed7953\"],[0.7777777777777778,\"#fb9f3a\"],[0.8888888888888888,\"#fdca26\"],[1.0,\"#f0f921\"]],\"type\":\"contour\"}],\"heatmapgl\":[{\"colorbar\":{\"outlinewidth\":0,\"ticks\":\"\"},\"colorscale\":[[0.0,\"#0d0887\"],[0.1111111111111111,\"#46039f\"],[0.2222222222222222,\"#7201a8\"],[0.3333333333333333,\"#9c179e\"],[0.4444444444444444,\"#bd3786\"],[0.5555555555555556,\"#d8576b\"],[0.6666666666666666,\"#ed7953\"],[0.7777777777777778,\"#fb9f3a\"],[0.8888888888888888,\"#fdca26\"],[1.0,\"#f0f921\"]],\"type\":\"heatmapgl\"}],\"heatmap\":[{\"colorbar\":{\"outlinewidth\":0,\"ticks\":\"\"},\"colorscale\":[[0.0,\"#0d0887\"],[0.1111111111111111,\"#46039f\"],[0.2222222222222222,\"#7201a8\"],[0.3333333333333333,\"#9c179e\"],[0.4444444444444444,\"#bd3786\"],[0.5555555555555556,\"#d8576b\"],[0.6666666666666666,\"#ed7953\"],[0.7777777777777778,\"#fb9f3a\"],[0.8888888888888888,\"#fdca26\"],[1.0,\"#f0f921\"]],\"type\":\"heatmap\"}],\"histogram2dcontour\":[{\"colorbar\":{\"outlinewidth\":0,\"ticks\":\"\"},\"colorscale\":[[0.0,\"#0d0887\"],[0.1111111111111111,\"#46039f\"],[0.2222222222222222,\"#7201a8\"],[0.3333333333333333,\"#9c179e\"],[0.4444444444444444,\"#bd3786\"],[0.5555555555555556,\"#d8576b\"],[0.6666666666666666,\"#ed7953\"],[0.7777777777777778,\"#fb9f3a\"],[0.8888888888888888,\"#fdca26\"],[1.0,\"#f0f921\"]],\"type\":\"histogram2dcontour\"}],\"histogram2d\":[{\"colorbar\":{\"outlinewidth\":0,\"ticks\":\"\"},\"colorscale\":[[0.0,\"#0d0887\"],[0.1111111111111111,\"#46039f\"],[0.2222222222222222,\"#7201a8\"],[0.3333333333333333,\"#9c179e\"],[0.4444444444444444,\"#bd3786\"],[0.5555555555555556,\"#d8576b\"],[0.6666666666666666,\"#ed7953\"],[0.7777777777777778,\"#fb9f3a\"],[0.8888888888888888,\"#fdca26\"],[1.0,\"#f0f921\"]],\"type\":\"histogram2d\"}],\"histogram\":[{\"marker\":{\"pattern\":{\"fillmode\":\"overlay\",\"size\":10,\"solidity\":0.2}},\"type\":\"histogram\"}],\"mesh3d\":[{\"colorbar\":{\"outlinewidth\":0,\"ticks\":\"\"},\"type\":\"mesh3d\"}],\"parcoords\":[{\"line\":{\"colorbar\":{\"outlinewidth\":0,\"ticks\":\"\"}},\"type\":\"parcoords\"}],\"pie\":[{\"automargin\":true,\"type\":\"pie\"}],\"scatter3d\":[{\"line\":{\"colorbar\":{\"outlinewidth\":0,\"ticks\":\"\"}},\"marker\":{\"colorbar\":{\"outlinewidth\":0,\"ticks\":\"\"}},\"type\":\"scatter3d\"}],\"scattercarpet\":[{\"marker\":{\"colorbar\":{\"outlinewidth\":0,\"ticks\":\"\"}},\"type\":\"scattercarpet\"}],\"scattergeo\":[{\"marker\":{\"colorbar\":{\"outlinewidth\":0,\"ticks\":\"\"}},\"type\":\"scattergeo\"}],\"scattergl\":[{\"marker\":{\"colorbar\":{\"outlinewidth\":0,\"ticks\":\"\"}},\"type\":\"scattergl\"}],\"scattermapbox\":[{\"marker\":{\"colorbar\":{\"outlinewidth\":0,\"ticks\":\"\"}},\"type\":\"scattermapbox\"}],\"scatterpolargl\":[{\"marker\":{\"colorbar\":{\"outlinewidth\":0,\"ticks\":\"\"}},\"type\":\"scatterpolargl\"}],\"scatterpolar\":[{\"marker\":{\"colorbar\":{\"outlinewidth\":0,\"ticks\":\"\"}},\"type\":\"scatterpolar\"}],\"scatter\":[{\"marker\":{\"colorbar\":{\"outlinewidth\":0,\"ticks\":\"\"}},\"type\":\"scatter\"}],\"scatterternary\":[{\"marker\":{\"colorbar\":{\"outlinewidth\":0,\"ticks\":\"\"}},\"type\":\"scatterternary\"}],\"surface\":[{\"colorbar\":{\"outlinewidth\":0,\"ticks\":\"\"},\"colorscale\":[[0.0,\"#0d0887\"],[0.1111111111111111,\"#46039f\"],[0.2222222222222222,\"#7201a8\"],[0.3333333333333333,\"#9c179e\"],[0.4444444444444444,\"#bd3786\"],[0.5555555555555556,\"#d8576b\"],[0.6666666666666666,\"#ed7953\"],[0.7777777777777778,\"#fb9f3a\"],[0.8888888888888888,\"#fdca26\"],[1.0,\"#f0f921\"]],\"type\":\"surface\"}],\"table\":[{\"cells\":{\"fill\":{\"color\":\"#EBF0F8\"},\"line\":{\"color\":\"white\"}},\"header\":{\"fill\":{\"color\":\"#C8D4E3\"},\"line\":{\"color\":\"white\"}},\"type\":\"table\"}]},\"layout\":{\"annotationdefaults\":{\"arrowcolor\":\"#2a3f5f\",\"arrowhead\":0,\"arrowwidth\":1},\"autotypenumbers\":\"strict\",\"coloraxis\":{\"colorbar\":{\"outlinewidth\":0,\"ticks\":\"\"}},\"colorscale\":{\"diverging\":[[0,\"#8e0152\"],[0.1,\"#c51b7d\"],[0.2,\"#de77ae\"],[0.3,\"#f1b6da\"],[0.4,\"#fde0ef\"],[0.5,\"#f7f7f7\"],[0.6,\"#e6f5d0\"],[0.7,\"#b8e186\"],[0.8,\"#7fbc41\"],[0.9,\"#4d9221\"],[1,\"#276419\"]],\"sequential\":[[0.0,\"#0d0887\"],[0.1111111111111111,\"#46039f\"],[0.2222222222222222,\"#7201a8\"],[0.3333333333333333,\"#9c179e\"],[0.4444444444444444,\"#bd3786\"],[0.5555555555555556,\"#d8576b\"],[0.6666666666666666,\"#ed7953\"],[0.7777777777777778,\"#fb9f3a\"],[0.8888888888888888,\"#fdca26\"],[1.0,\"#f0f921\"]],\"sequentialminus\":[[0.0,\"#0d0887\"],[0.1111111111111111,\"#46039f\"],[0.2222222222222222,\"#7201a8\"],[0.3333333333333333,\"#9c179e\"],[0.4444444444444444,\"#bd3786\"],[0.5555555555555556,\"#d8576b\"],[0.6666666666666666,\"#ed7953\"],[0.7777777777777778,\"#fb9f3a\"],[0.8888888888888888,\"#fdca26\"],[1.0,\"#f0f921\"]]},\"colorway\":[\"#636efa\",\"#EF553B\",\"#00cc96\",\"#ab63fa\",\"#FFA15A\",\"#19d3f3\",\"#FF6692\",\"#B6E880\",\"#FF97FF\",\"#FECB52\"],\"font\":{\"color\":\"#2a3f5f\"},\"geo\":{\"bgcolor\":\"white\",\"lakecolor\":\"white\",\"landcolor\":\"#E5ECF6\",\"showlakes\":true,\"showland\":true,\"subunitcolor\":\"white\"},\"hoverlabel\":{\"align\":\"left\"},\"hovermode\":\"closest\",\"mapbox\":{\"style\":\"light\"},\"paper_bgcolor\":\"white\",\"plot_bgcolor\":\"#E5ECF6\",\"polar\":{\"angularaxis\":{\"gridcolor\":\"white\",\"linecolor\":\"white\",\"ticks\":\"\"},\"bgcolor\":\"#E5ECF6\",\"radialaxis\":{\"gridcolor\":\"white\",\"linecolor\":\"white\",\"ticks\":\"\"}},\"scene\":{\"xaxis\":{\"backgroundcolor\":\"#E5ECF6\",\"gridcolor\":\"white\",\"gridwidth\":2,\"linecolor\":\"white\",\"showbackground\":true,\"ticks\":\"\",\"zerolinecolor\":\"white\"},\"yaxis\":{\"backgroundcolor\":\"#E5ECF6\",\"gridcolor\":\"white\",\"gridwidth\":2,\"linecolor\":\"white\",\"showbackground\":true,\"ticks\":\"\",\"zerolinecolor\":\"white\"},\"zaxis\":{\"backgroundcolor\":\"#E5ECF6\",\"gridcolor\":\"white\",\"gridwidth\":2,\"linecolor\":\"white\",\"showbackground\":true,\"ticks\":\"\",\"zerolinecolor\":\"white\"}},\"shapedefaults\":{\"line\":{\"color\":\"#2a3f5f\"}},\"ternary\":{\"aaxis\":{\"gridcolor\":\"white\",\"linecolor\":\"white\",\"ticks\":\"\"},\"baxis\":{\"gridcolor\":\"white\",\"linecolor\":\"white\",\"ticks\":\"\"},\"bgcolor\":\"#E5ECF6\",\"caxis\":{\"gridcolor\":\"white\",\"linecolor\":\"white\",\"ticks\":\"\"}},\"title\":{\"x\":0.05},\"xaxis\":{\"automargin\":true,\"gridcolor\":\"white\",\"linecolor\":\"white\",\"ticks\":\"\",\"title\":{\"standoff\":15},\"zerolinecolor\":\"white\",\"zerolinewidth\":2},\"yaxis\":{\"automargin\":true,\"gridcolor\":\"white\",\"linecolor\":\"white\",\"ticks\":\"\",\"title\":{\"standoff\":15},\"zerolinecolor\":\"white\",\"zerolinewidth\":2}}},\"title\":{\"text\":\"Energy Minimization\"},\"xaxis\":{\"title\":{\"text\":\"Energy Minimization Step\"}},\"yaxis\":{\"title\":{\"text\":\"Potential Energy kcal/mol\"}}},                        {\"responsive\": true}                    ).then(function(){\n",
       "                            \n",
       "var gd = document.getElementById('bb5d3167-05fd-4ad6-ac00-b187ff006f96');\n",
       "var x = new MutationObserver(function (mutations, observer) {{\n",
       "        var display = window.getComputedStyle(gd).display;\n",
       "        if (!display || display === 'none') {{\n",
       "            console.log([gd, 'removed!']);\n",
       "            Plotly.purge(gd);\n",
       "            observer.disconnect();\n",
       "        }}\n",
       "}});\n",
       "\n",
       "// Listen for the removal of the full notebook cells\n",
       "var notebookContainer = gd.closest('#notebook-container');\n",
       "if (notebookContainer) {{\n",
       "    x.observe(notebookContainer, {childList: true});\n",
       "}}\n",
       "\n",
       "// Listen for the clearing of the current output cell\n",
       "var outputEl = gd.closest('.output');\n",
       "if (outputEl) {{\n",
       "    x.observe(outputEl, {childList: true});\n",
       "}}\n",
       "\n",
       "                        })                };                });            </script>        </div>"
      ]
     },
     "metadata": {},
     "output_type": "display_data"
    }
   ],
   "source": [
    "from biobb_amber.process.process_minout import process_minout\n",
    "\n",
    "process_minout(input_log_path  = f'{TMP_DIR}/sander.minH.log',\n",
    "               output_dat_path = f'{TMP_DIR}/sander.minH.dat',\n",
    "               properties      = {'terms': ['ENERGY']})\n",
    "\n",
    "with open(f'{TMP_DIR}/sander.minH.dat', 'r') as energy_file:\n",
    "    x,y = map(\n",
    "        list,\n",
    "        zip(*[\n",
    "            (float(line.split()[0]),float(line.split()[1]))\n",
    "            for line in energy_file \n",
    "            if not line.startswith((\"#\",\"@\")) \n",
    "            if float(line.split()[1]) < 1000 \n",
    "        ])\n",
    "    )\n",
    "\n",
    "plotly.offline.init_notebook_mode(connected=True)\n",
    "\n",
    "fig = {\n",
    "    \"data\": [go.Scatter(x=x, y=y)],\n",
    "    \"layout\": go.Layout(title=\"Energy Minimization\",\n",
    "                        xaxis=dict(title = \"Energy Minimization Step\"),\n",
    "                        yaxis=dict(title = \"Potential Energy kcal/mol\")\n",
    "                       )\n",
    "}\n",
    "\n",
    "plotly.offline.iplot(fig)"
   ]
  },
  {
   "cell_type": "code",
   "execution_count": 16,
   "id": "d5ba2883",
   "metadata": {},
   "outputs": [
    {
     "name": "stdout",
     "output_type": "stream",
     "text": [
      "-I: Adding /Users/joelricci/miniconda/envs/biobb/dat/leap/prep to search path.\n",
      "-I: Adding /Users/joelricci/miniconda/envs/biobb/dat/leap/lib to search path.\n",
      "-I: Adding /Users/joelricci/miniconda/envs/biobb/dat/leap/parm to search path.\n",
      "-I: Adding /Users/joelricci/miniconda/envs/biobb/dat/leap/cmd to search path.\n",
      "-f: Source ./../data/md_system_prep/LIG_systems/5a14/5a14-LIG_intermediate_files/leap_prep_SOLV.in.\n",
      "\n",
      "Welcome to LEaP!\n",
      "(no leaprc in search path)\n",
      "Sourcing: ./../data/md_system_prep/LIG_systems/5a14/5a14-LIG_intermediate_files/leap_prep_SOLV.in\n",
      "----- Source: /Users/joelricci/miniconda/envs/biobb/dat/leap/cmd/leaprc.protein.ff14SB\n",
      "----- Source of /Users/joelricci/miniconda/envs/biobb/dat/leap/cmd/leaprc.protein.ff14SB done\n",
      "Log file: ./leap.log\n",
      "Loading parameters: /Users/joelricci/miniconda/envs/biobb/dat/leap/parm/parm10.dat\n",
      "Reading title:\n",
      "PARM99 + frcmod.ff99SB + frcmod.parmbsc0 + OL3 for RNA\n",
      "Loading parameters: /Users/joelricci/miniconda/envs/biobb/dat/leap/parm/frcmod.ff14SB\n",
      "Reading force field modification type file (frcmod)\n",
      "Reading title:\n",
      "ff14SB protein backbone and sidechain parameters\n",
      "Loading library: /Users/joelricci/miniconda/envs/biobb/dat/leap/lib/amino12.lib\n",
      "Loading library: /Users/joelricci/miniconda/envs/biobb/dat/leap/lib/aminoct12.lib\n",
      "Loading library: /Users/joelricci/miniconda/envs/biobb/dat/leap/lib/aminont12.lib\n",
      "----- Source: /Users/joelricci/miniconda/envs/biobb/dat/leap/cmd/leaprc.gaff\n",
      "----- Source of /Users/joelricci/miniconda/envs/biobb/dat/leap/cmd/leaprc.gaff done\n",
      "Log file: ./leap.log\n",
      "Loading parameters: /Users/joelricci/miniconda/envs/biobb/dat/leap/parm/gaff.dat\n",
      "Reading title:\n",
      "AMBER General Force Field for organic molecules (Version 1.81, May 2017)\n",
      "----- Source: /Users/joelricci/miniconda/envs/biobb/dat/leap/cmd/leaprc.water.tip3p\n",
      "----- Source of /Users/joelricci/miniconda/envs/biobb/dat/leap/cmd/leaprc.water.tip3p done\n",
      "Loading library: /Users/joelricci/miniconda/envs/biobb/dat/leap/lib/atomic_ions.lib\n",
      "Loading library: /Users/joelricci/miniconda/envs/biobb/dat/leap/lib/solvents.lib\n",
      "Loading parameters: /Users/joelricci/miniconda/envs/biobb/dat/leap/parm/frcmod.tip3p\n",
      "Reading force field modification type file (frcmod)\n",
      "Reading title:\n",
      "This is the additional/replacement parameter set for TIP3P water\n",
      "Loading parameters: /Users/joelricci/miniconda/envs/biobb/dat/leap/parm/frcmod.ions1lm_126_tip3p\n",
      "Reading force field modification type file (frcmod)\n",
      "Reading title:\n",
      "Li/Merz ion parameters of monovalent ions for TIP3P water model (12-6 normal usage set)\n",
      "Loading parameters: /Users/joelricci/miniconda/envs/biobb/dat/leap/parm/frcmod.ionsjc_tip3p\n",
      "Reading force field modification type file (frcmod)\n",
      "Reading title:\n",
      "Monovalent ion parameters for Ewald and TIP3P water from Joung & Cheatham JPCB (2008)\n",
      "Loading parameters: /Users/joelricci/miniconda/envs/biobb/dat/leap/parm/frcmod.ions234lm_126_tip3p\n",
      "Reading force field modification type file (frcmod)\n",
      "Reading title:\n",
      "Li/Merz ion parameters of divalent to tetravalent ions for TIP3P water model (12-6 normal usage set)\n",
      "Loading parameters: /Users/joelricci/miniconda/envs/biobb/dat/leap/parm/frcmod.ionsjc_tip3p\n",
      "Reading force field modification type file (frcmod)\n",
      "Reading title:\n",
      "Monovalent ion parameters for Ewald and TIP3P water from Joung & Cheatham JPCB (2008)\n",
      "Loading library: ./../data/md_system_prep/LIG_systems/5a14/5a14-LIG_intermediate_files/LIG.lib\n",
      "Loading parameters: ./../data/md_system_prep/LIG_systems/5a14/5a14-LIG_intermediate_files/LIG.frcmod\n",
      "Reading force field modification type file (frcmod)\n",
      "Reading title:\n",
      "Remark line goes here\n",
      "Loading Mol2 file: ./../data/md_system_prep/LIG_systems/5a14/5a14-LIG_intermediate_files/LIG.mol2\n",
      "Reading MOLECULE named LIG\n",
      "Loading PDB file: ./../data/md_system_prep/LIG_systems/5a14/5a14-LIG_intermediate_files/COMPLEX.minH.pdb\n",
      "  total atoms in file: 4922\n",
      "Scaling up box by a factor of 1.263733 to meet diagonal cut criterion\n",
      "  Solute vdw bounding box:              42.895 70.477 60.904\n",
      "  Total bounding box for atom centers:  100.806 100.806 100.806\n",
      "      (box expansion for 'iso' is  52.1%)\n",
      "  Solvent unit box:                     18.774 18.774 18.774\n",
      "  Volume: 527588.499 A^3 (oct)\n",
      "  Total mass 285365.140 amu,  Density 0.898 g/cc\n",
      "  Added 13925 residues.\n",
      "Writing pdb file: ./../data/md_system_prep/LIG_systems/5a14/5a14-LIG_intermediate_files/SOLV.pdb\n",
      "   printing CRYST1 record to PDB file with box info\n",
      "\n",
      "/Users/joelricci/miniconda/envs/biobb/bin/teLeap: Warning!\n",
      " Converting N-terminal residue name to PDB format: NMET -> MET\n",
      "\n",
      "/Users/joelricci/miniconda/envs/biobb/bin/teLeap: Warning!\n",
      " Converting C-terminal residue name to PDB format: CLEU -> LEU\n",
      "Checking 'system'....\n",
      "\n",
      "/Users/joelricci/miniconda/envs/biobb/bin/teLeap: Warning!\n",
      "The unperturbed charge of the unit (7.000001) is not zero.\n",
      "\n",
      "/Users/joelricci/miniconda/envs/biobb/bin/teLeap: Warning!\n",
      "Close contact of 1.416632 angstroms between .R<GLU 224>.A<OE2 13> and .R<THR 231>.A<HG1 12>\n",
      "Checking parameters for unit 'system'.\n",
      "Checking for bond parameters.\n",
      "Checking for angle parameters.\n",
      "check:  Warnings: 2\n",
      "Unit is OK.\n",
      "Total unperturbed charge:   7.000001\n",
      "Total perturbed charge:     7.000001\n",
      "Checking Unit.\n",
      "\n",
      "/Users/joelricci/miniconda/envs/biobb/bin/teLeap: Warning!\n",
      "The unperturbed charge of the unit (7.000001) is not zero.\n",
      "\n",
      "/Users/joelricci/miniconda/envs/biobb/bin/teLeap: Note.\n",
      "Ignoring the warning from Unit Checking.\n",
      "\n",
      "Building topology.\n",
      "Building atom parameters.\n",
      "Building bond parameters.\n",
      "Building angle parameters.\n",
      "Building proper torsion parameters.\n",
      "Building improper torsion parameters.\n",
      " total 979 improper torsions applied\n",
      "Building H-Bond parameters.\n",
      "Incorporating Non-Bonded adjustments.\n",
      "Not Marking per-residue atom chain types.\n",
      "Marking per-residue atom chain types.\n",
      "  (Residues lacking connect0/connect1 - \n",
      "   these don't have chain types marked:\n",
      "\n",
      "\tres\ttotal affected\n",
      "\n",
      "\tCLEU\t1\n",
      "\tLIG\t1\n",
      "\tNMET\t1\n",
      "\tWAT\t13928\n",
      "  )\n",
      " (no restraints)\n",
      "\tQuit\n",
      "\n",
      "Exiting LEaP: Errors = 0; Warnings = 5; Notes = 1.\n",
      "\n",
      "None\n"
     ]
    }
   ],
   "source": [
    "# Solvate the System\n",
    "\n",
    "from helper_modules.prepare_md_system import run_leap_solv\n",
    "OUT_PL_SOLV  = 'SOLV'\n",
    "run_leap_solv(input_basename  = OUT_MIN_SYSTEM,\n",
    "              output_basename = OUT_PL_SOLV, \n",
    "              box_padding     = BOX_PADDING,\n",
    "              solvent_type    = SOLVENT_TYPE,\n",
    "              input_ligand_basename = 'LIG',\n",
    "              tmp_dir = TMP_DIR)"
   ]
  },
  {
   "cell_type": "code",
   "execution_count": 17,
   "id": "89405981",
   "metadata": {},
   "outputs": [
    {
     "name": "stdout",
     "output_type": "stream",
     "text": [
      "-I: Adding /Users/joelricci/miniconda/envs/biobb/dat/leap/prep to search path.\n",
      "-I: Adding /Users/joelricci/miniconda/envs/biobb/dat/leap/lib to search path.\n",
      "-I: Adding /Users/joelricci/miniconda/envs/biobb/dat/leap/parm to search path.\n",
      "-I: Adding /Users/joelricci/miniconda/envs/biobb/dat/leap/cmd to search path.\n",
      "-f: Source ./../data/md_system_prep/LIG_systems/5a14/5a14-LIG_intermediate_files/leap_prep_NEUTRAL.in.\n",
      "\n",
      "Welcome to LEaP!\n",
      "(no leaprc in search path)\n",
      "Sourcing: ./../data/md_system_prep/LIG_systems/5a14/5a14-LIG_intermediate_files/leap_prep_NEUTRAL.in\n",
      "----- Source: /Users/joelricci/miniconda/envs/biobb/dat/leap/cmd/leaprc.protein.ff14SB\n",
      "----- Source of /Users/joelricci/miniconda/envs/biobb/dat/leap/cmd/leaprc.protein.ff14SB done\n",
      "Log file: ./leap.log\n",
      "Loading parameters: /Users/joelricci/miniconda/envs/biobb/dat/leap/parm/parm10.dat\n",
      "Reading title:\n",
      "PARM99 + frcmod.ff99SB + frcmod.parmbsc0 + OL3 for RNA\n",
      "Loading parameters: /Users/joelricci/miniconda/envs/biobb/dat/leap/parm/frcmod.ff14SB\n",
      "Reading force field modification type file (frcmod)\n",
      "Reading title:\n",
      "ff14SB protein backbone and sidechain parameters\n",
      "Loading library: /Users/joelricci/miniconda/envs/biobb/dat/leap/lib/amino12.lib\n",
      "Loading library: /Users/joelricci/miniconda/envs/biobb/dat/leap/lib/aminoct12.lib\n",
      "Loading library: /Users/joelricci/miniconda/envs/biobb/dat/leap/lib/aminont12.lib\n",
      "----- Source: /Users/joelricci/miniconda/envs/biobb/dat/leap/cmd/leaprc.gaff\n",
      "----- Source of /Users/joelricci/miniconda/envs/biobb/dat/leap/cmd/leaprc.gaff done\n",
      "Log file: ./leap.log\n",
      "Loading parameters: /Users/joelricci/miniconda/envs/biobb/dat/leap/parm/gaff.dat\n",
      "Reading title:\n",
      "AMBER General Force Field for organic molecules (Version 1.81, May 2017)\n",
      "----- Source: /Users/joelricci/miniconda/envs/biobb/dat/leap/cmd/leaprc.water.tip3p\n",
      "----- Source of /Users/joelricci/miniconda/envs/biobb/dat/leap/cmd/leaprc.water.tip3p done\n",
      "Loading library: /Users/joelricci/miniconda/envs/biobb/dat/leap/lib/atomic_ions.lib\n",
      "Loading library: /Users/joelricci/miniconda/envs/biobb/dat/leap/lib/solvents.lib\n",
      "Loading parameters: /Users/joelricci/miniconda/envs/biobb/dat/leap/parm/frcmod.tip3p\n",
      "Reading force field modification type file (frcmod)\n",
      "Reading title:\n",
      "This is the additional/replacement parameter set for TIP3P water\n",
      "Loading parameters: /Users/joelricci/miniconda/envs/biobb/dat/leap/parm/frcmod.ions1lm_126_tip3p\n",
      "Reading force field modification type file (frcmod)\n",
      "Reading title:\n",
      "Li/Merz ion parameters of monovalent ions for TIP3P water model (12-6 normal usage set)\n",
      "Loading parameters: /Users/joelricci/miniconda/envs/biobb/dat/leap/parm/frcmod.ionsjc_tip3p\n",
      "Reading force field modification type file (frcmod)\n",
      "Reading title:\n",
      "Monovalent ion parameters for Ewald and TIP3P water from Joung & Cheatham JPCB (2008)\n",
      "Loading parameters: /Users/joelricci/miniconda/envs/biobb/dat/leap/parm/frcmod.ions234lm_126_tip3p\n",
      "Reading force field modification type file (frcmod)\n",
      "Reading title:\n",
      "Li/Merz ion parameters of divalent to tetravalent ions for TIP3P water model (12-6 normal usage set)\n",
      "Loading parameters: /Users/joelricci/miniconda/envs/biobb/dat/leap/parm/frcmod.ionsjc_tip3p\n",
      "Reading force field modification type file (frcmod)\n",
      "Reading title:\n",
      "Monovalent ion parameters for Ewald and TIP3P water from Joung & Cheatham JPCB (2008)\n",
      "Loading library: ./../data/md_system_prep/LIG_systems/5a14/5a14-LIG_intermediate_files/LIG.lib\n",
      "Loading parameters: ./../data/md_system_prep/LIG_systems/5a14/5a14-LIG_intermediate_files/LIG.frcmod\n",
      "Reading force field modification type file (frcmod)\n",
      "Reading title:\n",
      "Remark line goes here\n",
      "Loading Mol2 file: ./../data/md_system_prep/LIG_systems/5a14/5a14-LIG_intermediate_files/LIG.mol2\n",
      "Reading MOLECULE named LIG\n",
      "Loading PDB file: ./../data/md_system_prep/LIG_systems/5a14/5a14-LIG_intermediate_files/SOLV.pdb\n",
      "  total atoms in file: 46697\n",
      "Adding 81 counter ions to \"system\". 13847 solvent molecules will remain.\n",
      "0: Placed Na+ in system at (-31.11, 1.52, 11.65).\n",
      "Placed Cl- in system at (10.63, -18.88, -24.98).\n",
      "0: Placed Na+ in system at (-40.08, -8.02, -3.21).\n",
      "Placed Cl- in system at (-40.23, -20.09, -12.72).\n",
      "0: Placed Na+ in system at (36.63, -12.05, 31.56).\n",
      "Placed Cl- in system at (-4.60, -36.62, -6.82).\n",
      "0: Placed Na+ in system at (-40.78, -13.76, 16.93).\n",
      "Placed Cl- in system at (41.19, 17.88, -17.98).\n",
      "0: Placed Na+ in system at (13.29, -32.65, 0.59).\n",
      "Placed Cl- in system at (-2.94, -5.53, -26.95).\n",
      "0: Placed Na+ in system at (5.74, -15.75, 22.77).\n",
      "Placed Cl- in system at (-29.40, -19.45, 11.33).\n",
      "0: Placed Na+ in system at (15.33, 25.17, 0.38).\n",
      "Placed Cl- in system at (7.35, -32.44, 5.79).\n",
      "0: Placed Na+ in system at (-1.84, -36.50, -22.04).\n",
      "Placed Cl- in system at (-31.31, -13.60, -9.95).\n",
      "0: Placed Na+ in system at (-37.62, -31.08, -3.78).\n",
      "Placed Cl- in system at (34.91, -18.45, -2.64).\n",
      "0: Placed Na+ in system at (28.92, -16.02, -21.10).\n",
      "Placed Cl- in system at (19.61, 1.68, 22.59).\n",
      "0: Placed Na+ in system at (-14.10, 21.41, 5.68).\n",
      "Placed Cl- in system at (-5.98, -19.04, -23.12).\n",
      "0: Placed Na+ in system at (20.55, -30.38, -22.96).\n",
      "Placed Cl- in system at (-26.72, 11.10, -14.30).\n",
      "0: Placed Na+ in system at (-38.58, -11.04, -8.37).\n",
      "Placed Cl- in system at (12.33, -28.12, -24.69).\n",
      "0: Placed Na+ in system at (11.09, -19.54, 30.61).\n",
      "Placed Cl- in system at (4.97, 37.70, -1.27).\n",
      "0: Placed Na+ in system at (-8.99, -5.75, -38.33).\n",
      "Placed Cl- in system at (23.32, 12.57, -18.45).\n",
      "0: Placed Na+ in system at (-11.98, -1.49, 45.75).\n",
      "Placed Cl- in system at (12.48, 43.23, 8.10).\n",
      "0: Placed Na+ in system at (8.11, 15.46, -24.71).\n",
      "Placed Cl- in system at (40.04, -4.87, 17.39).\n",
      "0: Placed Na+ in system at (-40.28, 5.37, -2.93).\n",
      "Placed Cl- in system at (-11.97, 15.61, -22.96).\n",
      "0: Placed Na+ in system at (25.61, -26.73, 16.15).\n",
      "Placed Cl- in system at (-3.13, 2.69, 50.29).\n",
      "0: Placed Na+ in system at (-1.27, 23.90, -15.45).\n",
      "Placed Cl- in system at (6.14, -21.41, 13.74).\n",
      "0: Placed Na+ in system at (15.33, 48.16, -12.89).\n",
      "Placed Cl- in system at (34.36, -0.36, -28.03).\n",
      "0: Placed Na+ in system at (-36.53, -1.27, -5.06).\n",
      "Placed Cl- in system at (6.39, 39.43, -22.64).\n",
      "0: Placed Na+ in system at (23.34, 2.21, 36.51).\n",
      "Placed Cl- in system at (4.64, 2.08, -36.56).\n",
      "0: Placed Na+ in system at (31.79, -9.50, 16.32).\n",
      "Placed Cl- in system at (-34.36, -36.50, 4.51).\n",
      "0: Placed Na+ in system at (-6.80, -13.28, 40.99).\n",
      "Placed Cl- in system at (11.82, -24.99, 39.76).\n",
      "0: Placed Na+ in system at (-41.05, 16.16, 8.40).\n",
      "Placed Cl- in system at (23.08, 9.19, -28.18).\n",
      "0: Placed Na+ in system at (33.55, -5.95, -12.55).\n",
      "Placed Cl- in system at (-0.68, -23.51, 0.91).\n",
      "0: Placed Na+ in system at (4.73, 30.81, -11.55).\n",
      "Placed Cl- in system at (-40.69, 24.85, -20.23).\n",
      "0: Placed Na+ in system at (-21.89, 27.11, 1.57).\n",
      "Placed Cl- in system at (3.17, -28.15, -21.99).\n",
      "0: Placed Na+ in system at (4.86, -3.71, 29.98).\n",
      "Placed Cl- in system at (-27.92, -19.97, 24.46).\n",
      "0: Placed Na+ in system at (-37.93, -28.88, 10.02).\n",
      "Placed Cl- in system at (22.86, -31.24, 4.69).\n",
      "0: Placed Na+ in system at (-4.07, -10.44, -40.01).\n",
      "Placed Cl- in system at (15.57, 23.14, 1.73).\n",
      "0: Placed Na+ in system at (-41.90, 22.10, 4.79).\n",
      "Placed Cl- in system at (37.11, 3.03, 11.18).\n",
      "0: Placed Na+ in system at (17.81, 38.81, -17.21).\n",
      "Placed Cl- in system at (40.42, -13.20, -13.67).\n",
      "0: Placed Na+ in system at (19.15, 32.47, 13.87).\n",
      "Placed Cl- in system at (9.71, 0.28, -22.96).\n",
      "0: Placed Na+ in system at (1.84, 22.63, -14.75).\n",
      "Placed Cl- in system at (4.25, -29.99, 23.14).\n",
      "0: Placed Na+ in system at (8.18, -26.97, -0.71).\n",
      "Placed Cl- in system at (20.39, 1.90, -33.90).\n",
      "Placed Cl- in system at (-11.78, -41.03, -12.82).\n",
      "Placed Cl- in system at (2.65, 30.68, 18.43).\n",
      "Placed Cl- in system at (-9.18, 2.21, 36.51).\n",
      "Placed Cl- in system at (-25.11, 28.89, 23.21).\n",
      "Placed Cl- in system at (30.10, -27.34, 1.37).\n",
      "Placed Cl- in system at (11.82, -2.00, -26.62).\n",
      "Placed Cl- in system at (29.58, -5.53, 26.15).\n",
      "Box dimensions:  90.488600 104.828600 108.084600\n",
      "Checking 'system'....\n",
      "\n",
      "/Users/joelricci/miniconda/envs/biobb/bin/teLeap: Warning!\n",
      "Close contact of 1.416058 angstroms between .R<GLU 224>.A<OE2 13> and .R<THR 231>.A<HG1 12>\n",
      "Checking parameters for unit 'system'.\n",
      "Checking for bond parameters.\n",
      "Checking for angle parameters.\n",
      "check:  Warnings: 1\n",
      "Unit is OK.\n",
      "Total unperturbed charge:   0.000001\n",
      "Total perturbed charge:     0.000001\n",
      "Writing pdb file: ./../data/md_system_prep/LIG_systems/5a14/5a14-LIG_intermediate_files/NEUTRAL.pdb\n",
      "   printing CRYST1 record to PDB file with box info\n",
      "\n",
      "/Users/joelricci/miniconda/envs/biobb/bin/teLeap: Warning!\n",
      " Converting N-terminal residue name to PDB format: NMET -> MET\n",
      "\n",
      "/Users/joelricci/miniconda/envs/biobb/bin/teLeap: Warning!\n",
      " Converting C-terminal residue name to PDB format: CLEU -> LEU\n",
      "Checking Unit.\n",
      "Building topology.\n",
      "Building atom parameters.\n",
      "Building bond parameters.\n",
      "Building angle parameters.\n",
      "Building proper torsion parameters.\n",
      "Building improper torsion parameters.\n",
      " total 979 improper torsions applied\n",
      "Building H-Bond parameters.\n",
      "Incorporating Non-Bonded adjustments.\n",
      "Not Marking per-residue atom chain types.\n",
      "Marking per-residue atom chain types.\n",
      "  (Residues lacking connect0/connect1 - \n",
      "   these don't have chain types marked:\n",
      "\n",
      "\tres\ttotal affected\n",
      "\n",
      "\tCLEU\t1\n",
      "\tLIG\t1\n",
      "\tNMET\t1\n",
      "\tWAT\t13847\n",
      "  )\n",
      " (no restraints)\n",
      "\tQuit\n",
      "\n",
      "Exiting LEaP: Errors = 0; Warnings = 3; Notes = 0.\n",
      "\n",
      "None\n"
     ]
    }
   ],
   "source": [
    "# Neutralize the System\n",
    "\n",
    "from helper_modules.prepare_md_system import run_leap_neutralization\n",
    "OUT_PL_NEUTRAL = 'NEUTRAL'\n",
    "run_leap_neutralization(input_basename    = OUT_PL_SOLV, \n",
    "                        output_basename   = OUT_PL_NEUTRAL, \n",
    "                        tmp_dir           = TMP_DIR, \n",
    "                        solvent_type      = SOLVENT_TYPE,\n",
    "                        input_ligand_basename = 'LIG',\n",
    "                        ion_concentration = ION_MOLAR)"
   ]
  },
  {
   "cell_type": "code",
   "execution_count": 18,
   "id": "0f715167",
   "metadata": {},
   "outputs": [
    {
     "data": {
      "application/vnd.jupyter.widget-view+json": {
       "model_id": "64d046532ca94aa99fa394a460e7b18d",
       "version_major": 2,
       "version_minor": 0
      },
      "text/plain": [
       "NGLWidget()"
      ]
     },
     "metadata": {},
     "output_type": "display_data"
    }
   ],
   "source": [
    "view = nglview.show_structure_file(f'{TMP_DIR}/{OUT_PL_NEUTRAL}.pdb')\n",
    "view.clear_representations()\n",
    "view.add_representation(repr_type ='cartoon', selection='protein')\n",
    "view.add_representation(repr_type ='licorice', selection='LIG')\n",
    "view.add_representation(repr_type ='spacefill', selection='Cl- Na+')\n",
    "view._remote_call('setSize', target='Widget', args=['','600px'])\n",
    "\n",
    "view"
   ]
  },
  {
   "cell_type": "code",
   "execution_count": 19,
   "id": "d32c79bf",
   "metadata": {},
   "outputs": [
    {
     "name": "stdout",
     "output_type": "stream",
     "text": [
      "Moving system to origin (45.31, 53.00, 54.71) -> (0,0,0)\n"
     ]
    }
   ],
   "source": [
    "# Neutralize the System\n",
    "\n",
    "from helper_modules.prepare_md_system import run_center_system_to_origin\n",
    "\n",
    "run_center_system_to_origin(\n",
    "            filename = f'{TMP_DIR}/{OUT_PL_NEUTRAL}.rst7',\n",
    "            topology = f'{TMP_DIR}/{OUT_PL_NEUTRAL}.prmtop',\n",
    "            out_filename = f'{TMP_DIR}/{OUT_PL_NEUTRAL}.CENTERED.rst7')"
   ]
  },
  {
   "cell_type": "code",
   "execution_count": 20,
   "id": "224e80f3",
   "metadata": {},
   "outputs": [],
   "source": [
    "# Conver to gromacs\n",
    "import parmed as pmd\n",
    "\n",
    "top  = f'{TMP_DIR}/{OUT_PL_NEUTRAL}.prmtop'\n",
    "rst7 = f'{TMP_DIR}/{OUT_PL_NEUTRAL}.CENTERED.rst7.1'\n",
    "\n",
    "amber = pmd.load_file(top, rst7)\n",
    "#save a GROMACS topology and GRO file\n",
    "TOP_FILE = f'{TMP_DIR}/{FINAL_BASENAME}_NO_POSRES.top'\n",
    "FINAL_GRO_FILE = f'{WD}/{FINAL_BASENAME}.gro'\n",
    "amber.save(TOP_FILE)\n",
    "amber.save(FINAL_GRO_FILE)"
   ]
  },
  {
   "cell_type": "code",
   "execution_count": 21,
   "id": "5c93cf97",
   "metadata": {},
   "outputs": [
    {
     "data": {
      "text/plain": [
       "dict_keys(['system1', 'LIG', 'Na+', 'Cl-', 'WAT'])"
      ]
     },
     "execution_count": 21,
     "metadata": {},
     "output_type": "execute_result"
    }
   ],
   "source": [
    "from parmed.gromacs import GromacsTopologyFile\n",
    "top = GromacsTopologyFile(TOP_FILE)\n",
    "top.molecules.keys()"
   ]
  },
  {
   "cell_type": "code",
   "execution_count": 22,
   "id": "6b37b67a",
   "metadata": {},
   "outputs": [],
   "source": [
    "from helper_modules.prepare_md_system import include_posre_in_top, create_posre_file\n",
    "\n",
    "FINAL_TOP_FILE = f'{WD}/{FINAL_BASENAME}.top'\n",
    "# Protein posres\n",
    "PROT_POSRE_FILE = f'{FINAL_BASENAME}.prot_posre.itp'\n",
    "create_posre_file(input_gro          = FINAL_GRO_FILE, \n",
    "                  out_posre_filename = f'{WD}/{PROT_POSRE_FILE}',\n",
    "                  mol_selection      = 'protein',\n",
    "                  rest_energies      = [1000, 1000, 1000],\n",
    "                  verbose = False)\n",
    "include_posre_in_top(input_top_file = TOP_FILE, \n",
    "                     out_top_file   = FINAL_TOP_FILE, \n",
    "                     posre_filename = PROT_POSRE_FILE,\n",
    "                     molecule_index = 1 # inx=1 for protein\n",
    "                    )\n",
    "\n",
    "# Ligand posres\n",
    "LIG_POSRE_FILE = f'{FINAL_BASENAME}.lig_posre.itp'\n",
    "create_posre_file(input_gro          = FINAL_GRO_FILE, \n",
    "                  out_posre_filename = f'{WD}/{LIG_POSRE_FILE}',\n",
    "                  mol_selection      = 'ligand',\n",
    "                  rest_energies      = [1000, 1000, 1000],\n",
    "                  verbose = False)\n",
    "include_posre_in_top(input_top_file = FINAL_TOP_FILE, \n",
    "                     out_top_file   = FINAL_TOP_FILE, \n",
    "                     posre_filename = LIG_POSRE_FILE,\n",
    "                     molecule_index = 2 # inx=2 for ligand\n",
    "                    )"
   ]
  },
  {
   "cell_type": "code",
   "execution_count": 23,
   "id": "5abedcae",
   "metadata": {},
   "outputs": [],
   "source": [
    "\n",
    "# Get the protein charge\n",
    "import re\n",
    "\n",
    "def get_log_lines(file, \n",
    "                  pattern, \n",
    "                  lines_list = [0]):\n",
    "    log_lines = []\n",
    "    with open(file,\"r\") as file:\n",
    "        lines = file.readlines()\n",
    "        for i, line in enumerate(lines):\n",
    "            if re.search(pattern, line):\n",
    "                for j in lines_list:\n",
    "                    log_lines.append(lines[i + j])\n",
    "    return log_lines\n",
    "\n"
   ]
  },
  {
   "cell_type": "code",
   "execution_count": 24,
   "id": "4781c885",
   "metadata": {},
   "outputs": [
    {
     "name": "stdout",
     "output_type": "stream",
     "text": [
      "\n",
      "Protein Net Charge: 5.000000\n",
      "\n",
      "System Net Charge: 0.000001\n",
      "\n",
      "Number of Protein atoms: 4849\n",
      "\n",
      "Total Number of atoms: 46697\n",
      "\n",
      "Number of WAT molecules:\n",
      "WAT\t13847\n",
      "\n",
      "Number of Na+ ions:\n",
      "37\n",
      "\n",
      "Number of Cl- ions:\n",
      "44\n",
      "Box dimensions:\n",
      "\n",
      "- x: 90.488600\n",
      "\n",
      "- y: 104.828600\n",
      "\n",
      "- z: 108.084600\n",
      "\n",
      "\n",
      "\n",
      "Warnings:\n",
      "Close contact of 1.416058 angstroms between .R<GLU 224>.A<OE2 13> and .R<THR 231>.A<HG1 12>\n",
      "\n",
      " Converting N-terminal residue name to PDB format: NMET -> MET\n",
      "\n",
      " Converting C-terminal residue name to PDB format: CLEU -> LEU\n",
      "\n"
     ]
    }
   ],
   "source": [
    "# Report Logs\n",
    "file = f'{TMP_DIR}/leap_prep_{OUT_SYSTEM}.in.log'\n",
    "\n",
    "# Protein charge\n",
    "pattern = 'charge protein'\n",
    "protein_charge = get_log_lines(file, pattern, lines_list = [1])\n",
    "protein_charge = protein_charge[0].replace('\\n', '').split(' ')[-1]\n",
    "protein_charge= [f'\\nProtein Net Charge: {protein_charge}']\n",
    "\n",
    "# Total protein atoms\n",
    "pattern = 'total atoms in file'\n",
    "n_protein_atoms = get_log_lines(file, pattern, lines_list = [0])\n",
    "n_protein_atoms = n_protein_atoms[0].strip().split(' ')[-1]\n",
    "n_protein_atoms = [f'\\nNumber of Protein atoms: {n_protein_atoms}']\n",
    "\n",
    "\n",
    "file = f'{TMP_DIR}/leap_prep_{OUT_PL_NEUTRAL}.in.log'\n",
    "\n",
    "# Total protein atoms\n",
    "pattern = 'total atoms in file'\n",
    "n_total_atoms = get_log_lines(file, pattern, lines_list = [0])\n",
    "n_total_atoms = n_total_atoms[0].strip().split(' ')[-1]\n",
    "n_total_atoms = [f'\\nTotal Number of atoms: {n_total_atoms}']\n",
    "\n",
    "# System charge\n",
    "pattern = 'charge system'\n",
    "system_charge = get_log_lines(file, pattern, lines_list = [1])\n",
    "system_charge = system_charge[0].replace('\\n', '').split(' ')[-1]\n",
    "system_charge = [f'\\nSystem Net Charge: {system_charge}']\n",
    "\n",
    "# Box dimensions\n",
    "pattern = 'Box dimensions'\n",
    "box_dimensions = get_log_lines(file, pattern, lines_list = [0])\n",
    "box_dimensions = box_dimensions[0].split(' ')[-3:]\n",
    "box_dimensions = [f'- {c}: {b}\\n' for b, c in zip(box_dimensions, ['x', 'y', 'z'])]\n",
    "box_dimensions.insert(0, pattern + ':\\n')\n",
    "\n",
    "# Warnings\n",
    "pattern = 'Warning!'\n",
    "warnings = get_log_lines(file, pattern, lines_list = [1])\n",
    "warnings.insert(0, '\\nWarnings:')\n",
    "\n",
    "# Number of final waters\n",
    "pattern = '\\tWAT'\n",
    "n_waters = get_log_lines(file, pattern, lines_list = [0])\n",
    "n_waters = [n_waters[0].strip()]\n",
    "n_waters.insert(0, '\\nNumber of WAT molecules:')\n",
    "\n",
    "# Number of ions\n",
    "pattern = 'Placed Na+'\n",
    "n_Na = [str(len(get_log_lines(file, pattern, lines_list = [0])))]\n",
    "n_Na.insert(0, '\\nNumber of Na+ ions:')\n",
    "\n",
    "pattern = 'Placed Cl-'\n",
    "n_Cl = [str(len(get_log_lines(file, pattern, lines_list = [0])))]\n",
    "n_Cl.insert(0, '\\nNumber of Cl- ions:')\n",
    "\n",
    "# Number of cosolvent molecules\n",
    "solv_lines = []\n",
    "SOLVENT = 'WAT'\n",
    "if SOLVENT != None and SOLVENT != 'WAT':\n",
    "    pattern = f'\\t{SOLVENT}'\n",
    "    solv_lines = get_log_lines(file, pattern, lines_list = [0])\n",
    "    solv_lines = [solv_lines[0].strip()]\n",
    "    solv_lines.insert(0, f'\\nNumber of {SOLVENT} molecules:')\n",
    "    \n",
    "LINES = protein_charge + system_charge + n_protein_atoms + n_total_atoms +\\\n",
    "        n_waters + solv_lines +\\\n",
    "        n_Na + n_Cl + box_dimensions + warnings\n",
    "        \n",
    "with open(f'{TMP_DIR}/PREP_SUMMARY.log', 'w') as f:\n",
    "    f.writelines(LINES)\n",
    "    \n",
    "for l in LINES:\n",
    "    print(l)"
   ]
  },
  {
   "cell_type": "code",
   "execution_count": null,
   "id": "156cc4f1",
   "metadata": {},
   "outputs": [],
   "source": []
  }
 ],
 "metadata": {
  "kernelspec": {
   "display_name": "Python 3 (ipykernel)",
   "language": "python",
   "name": "python3"
  },
  "language_info": {
   "codemirror_mode": {
    "name": "ipython",
    "version": 3
   },
   "file_extension": ".py",
   "mimetype": "text/x-python",
   "name": "python",
   "nbconvert_exporter": "python",
   "pygments_lexer": "ipython3",
   "version": "3.7.12"
  }
 },
 "nbformat": 4,
 "nbformat_minor": 5
}
